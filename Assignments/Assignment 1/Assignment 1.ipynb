{
  "nbformat": 4,
  "nbformat_minor": 0,
  "metadata": {
    "colab": {
      "provenance": []
    },
    "kernelspec": {
      "name": "python3",
      "display_name": "Python 3"
    },
    "language_info": {
      "name": "python"
    }
  },
  "cells": [
    {
      "cell_type": "markdown",
      "source": [
        "#### Students Name and ID:\n",
        "##### 1: Nadav Shaked - 312494925"
      ],
      "metadata": {
        "id": "PGiEt-zjFgSH"
      }
    },
    {
      "cell_type": "markdown",
      "source": [
        "# Recommender Systems - 2024\n",
        "# *Homework 1 - Evaluation Metrics*\n",
        "### Due Jan 11th\n",
        "\n",
        "### In this assignment you will get familiar with a well known dataset of movie ratings, and explore various RS evaluation metrics. This work will set the grounds for homework 2, in which you will build, optimize and evaluate RS models based on matrix factorization."
      ],
      "metadata": {
        "id": "WaevbQhbFtm-"
      }
    },
    {
      "cell_type": "markdown",
      "source": [
        "#### Instructions:\n",
        "\n",
        "This notebook is an interactive assignment; please read and follow the instructions in each cell.\n",
        "\n",
        "Assignments are to be turned in pairs, by one of the teammates.\n",
        "\n",
        "Cells that require your input (in the form of code or written response) will have 'Question #' above.\n",
        "\n",
        "Make sure the entire notebook runs without errors and includes all plots, code and explanations.\n",
        "\n",
        "After completing the assignment, please download the notebook to an '.ipynb' file and submit it on moodle."
      ],
      "metadata": {
        "id": "waj2iKo-GBZk"
      }
    },
    {
      "cell_type": "markdown",
      "source": [
        "## Data exploration\n",
        "\n",
        "In this section, you will load the MovieLens 100K rating dataset, extract a rating matix, and get familiar with the data.\n",
        "\n",
        "The MovieLens 100K is a commonly used dataset, including 100,000 ratings (1-5) from 943 users on 1682 movies. This dataset is considered an explicit feedback dataset for having user ratings (as opposed to implicit feedback datasets where information such as clicks and views are available and can be considered as a proxy for user's preference)"
      ],
      "metadata": {
        "id": "315hXFGIKwAQ"
      }
    },
    {
      "cell_type": "code",
      "source": [
        "import os\n",
        "import requests\n",
        "import zipfile\n",
        "\n",
        "import matplotlib.pyplot as plt\n",
        "import numpy as np\n",
        "import pandas as pd\n",
        "import seaborn as sns"
      ],
      "metadata": {
        "id": "CtOEPkO_NVHs"
      },
      "execution_count": 53,
      "outputs": []
    },
    {
      "cell_type": "code",
      "source": [
        "url = 'http://files.grouplens.org/datasets/movielens/ml-100k.zip'\n",
        "zip_name = url.split('/')[-1]\n",
        "data_dir = 'ml-100k/'\n",
        "\n",
        "r = requests.get(url, allow_redirects=True)\n",
        "with open(zip_name, 'wb') as f:\n",
        "    f.write(r.content)\n",
        "\n",
        "with zipfile.ZipFile(zip_name, 'r') as zip_ref:\n",
        "    zip_ref.extractall()"
      ],
      "metadata": {
        "id": "TCMTDDt6NMCI"
      },
      "execution_count": 54,
      "outputs": []
    },
    {
      "cell_type": "code",
      "source": [
        "cols_data = ['user_id', 'item_id', 'rating', 'timestamp']\n",
        "cols_user = ['user_id', 'age', 'gender', 'occupation', 'zip code']\n",
        "cols_item = ['movie id', 'movie_title', 'release_date', 'video_release_date',\n",
        "             'IMDb_URL', 'unknown', 'Action', 'Adventure', 'Animation',\n",
        "             'Childrens', 'Comedy', 'Crime', 'Documentary', 'Drama', 'Fantasy',\n",
        "             'Film_Noir', 'Horror', 'Musical', 'Mystery', 'Romance', 'Sci_Fi',\n",
        "             'Thriller', 'War', 'Western']"
      ],
      "metadata": {
        "id": "WYY4qOKzPmc_"
      },
      "execution_count": 55,
      "outputs": []
    },
    {
      "cell_type": "code",
      "source": [
        "df_users = pd.read_csv(\n",
        "    os.path.join(data_dir,'u.user'),\n",
        "    delimiter='|', header=None, names=cols_user)\n",
        "df_users.shape"
      ],
      "metadata": {
        "id": "f90jpTHPPz6N",
        "colab": {
          "base_uri": "https://localhost:8080/"
        },
        "outputId": "a4948f92-7b52-483a-9570-cb83ceec902d"
      },
      "execution_count": 56,
      "outputs": [
        {
          "output_type": "execute_result",
          "data": {
            "text/plain": [
              "(943, 5)"
            ]
          },
          "metadata": {},
          "execution_count": 56
        }
      ]
    },
    {
      "cell_type": "code",
      "source": [
        "df_items = pd.read_csv(\n",
        "    os.path.join(data_dir,'u.item'),\n",
        "    delimiter='|', header=None, names=cols_item, encoding='ISO-8859-1')\n",
        "df_items.shape"
      ],
      "metadata": {
        "id": "IXSClmVPP7BA",
        "colab": {
          "base_uri": "https://localhost:8080/"
        },
        "outputId": "0857e6ba-d740-418f-d1a2-7b9236f85484"
      },
      "execution_count": 57,
      "outputs": [
        {
          "output_type": "execute_result",
          "data": {
            "text/plain": [
              "(1682, 24)"
            ]
          },
          "metadata": {},
          "execution_count": 57
        }
      ]
    },
    {
      "cell_type": "code",
      "source": [
        "df_ratings = pd.read_csv(\n",
        "    os.path.join(data_dir,'u.data'),\n",
        "    delimiter='\\t', header=None, names=cols_data)\n",
        "df_ratings.shape"
      ],
      "metadata": {
        "id": "xt2Mdjx9QAOM",
        "colab": {
          "base_uri": "https://localhost:8080/"
        },
        "outputId": "11f3578f-5083-4951-e6f3-45a9b4ffed6a"
      },
      "execution_count": 58,
      "outputs": [
        {
          "output_type": "execute_result",
          "data": {
            "text/plain": [
              "(100000, 4)"
            ]
          },
          "metadata": {},
          "execution_count": 58
        }
      ]
    },
    {
      "cell_type": "markdown",
      "source": [
        "####Question 1 (5 points)\n",
        "\n",
        "Build a ratings matrix with users as rows, items as columns, and ratings as the elements of the matrix.\n",
        "\n",
        "Replace empty ratings with zeros."
      ],
      "metadata": {
        "id": "MQexElnoW_0U"
      }
    },
    {
      "cell_type": "code",
      "source": [
        "# Merge df_ratings with df_users to get user information\n",
        "merged_df = pd.merge(df_ratings, df_users, on='user_id')\n",
        "\n",
        "# Merge the result with df_items to get item information\n",
        "merged_df = pd.merge(merged_df, df_items, left_on='item_id', right_on='movie id')\n",
        "\n",
        "# Extract the relevant columns\n",
        "ratings_matrix_data = merged_df[['user_id', 'movie id', 'rating']]\n",
        "\n",
        "# Create the ratings matrix and convert rating cells to float\n",
        "ratings = pd.pivot_table(ratings_matrix_data, values='rating', index='user_id', columns='movie id', fill_value=0).astype(float)\n",
        "\n",
        "ratings.head()\n"
      ],
      "metadata": {
        "id": "Y7VdXMawQe4m",
        "colab": {
          "base_uri": "https://localhost:8080/",
          "height": 267
        },
        "outputId": "97ef18f1-4b60-4241-de7f-56aad5a9244d"
      },
      "execution_count": 59,
      "outputs": [
        {
          "output_type": "execute_result",
          "data": {
            "text/plain": [
              "movie id  1     2     3     4     5     6     7     8     9     10    ...  \\\n",
              "user_id                                                               ...   \n",
              "1          5.0   3.0   4.0   3.0   3.0   5.0   4.0   1.0   5.0   3.0  ...   \n",
              "2          4.0   0.0   0.0   0.0   0.0   0.0   0.0   0.0   0.0   2.0  ...   \n",
              "3          0.0   0.0   0.0   0.0   0.0   0.0   0.0   0.0   0.0   0.0  ...   \n",
              "4          0.0   0.0   0.0   0.0   0.0   0.0   0.0   0.0   0.0   0.0  ...   \n",
              "5          4.0   3.0   0.0   0.0   0.0   0.0   0.0   0.0   0.0   0.0  ...   \n",
              "\n",
              "movie id  1673  1674  1675  1676  1677  1678  1679  1680  1681  1682  \n",
              "user_id                                                               \n",
              "1          0.0   0.0   0.0   0.0   0.0   0.0   0.0   0.0   0.0   0.0  \n",
              "2          0.0   0.0   0.0   0.0   0.0   0.0   0.0   0.0   0.0   0.0  \n",
              "3          0.0   0.0   0.0   0.0   0.0   0.0   0.0   0.0   0.0   0.0  \n",
              "4          0.0   0.0   0.0   0.0   0.0   0.0   0.0   0.0   0.0   0.0  \n",
              "5          0.0   0.0   0.0   0.0   0.0   0.0   0.0   0.0   0.0   0.0  \n",
              "\n",
              "[5 rows x 1682 columns]"
            ],
            "text/html": [
              "\n",
              "  <div id=\"df-9a8e13cc-f5de-4729-8054-2fa0d2637d9e\" class=\"colab-df-container\">\n",
              "    <div>\n",
              "<style scoped>\n",
              "    .dataframe tbody tr th:only-of-type {\n",
              "        vertical-align: middle;\n",
              "    }\n",
              "\n",
              "    .dataframe tbody tr th {\n",
              "        vertical-align: top;\n",
              "    }\n",
              "\n",
              "    .dataframe thead th {\n",
              "        text-align: right;\n",
              "    }\n",
              "</style>\n",
              "<table border=\"1\" class=\"dataframe\">\n",
              "  <thead>\n",
              "    <tr style=\"text-align: right;\">\n",
              "      <th>movie id</th>\n",
              "      <th>1</th>\n",
              "      <th>2</th>\n",
              "      <th>3</th>\n",
              "      <th>4</th>\n",
              "      <th>5</th>\n",
              "      <th>6</th>\n",
              "      <th>7</th>\n",
              "      <th>8</th>\n",
              "      <th>9</th>\n",
              "      <th>10</th>\n",
              "      <th>...</th>\n",
              "      <th>1673</th>\n",
              "      <th>1674</th>\n",
              "      <th>1675</th>\n",
              "      <th>1676</th>\n",
              "      <th>1677</th>\n",
              "      <th>1678</th>\n",
              "      <th>1679</th>\n",
              "      <th>1680</th>\n",
              "      <th>1681</th>\n",
              "      <th>1682</th>\n",
              "    </tr>\n",
              "    <tr>\n",
              "      <th>user_id</th>\n",
              "      <th></th>\n",
              "      <th></th>\n",
              "      <th></th>\n",
              "      <th></th>\n",
              "      <th></th>\n",
              "      <th></th>\n",
              "      <th></th>\n",
              "      <th></th>\n",
              "      <th></th>\n",
              "      <th></th>\n",
              "      <th></th>\n",
              "      <th></th>\n",
              "      <th></th>\n",
              "      <th></th>\n",
              "      <th></th>\n",
              "      <th></th>\n",
              "      <th></th>\n",
              "      <th></th>\n",
              "      <th></th>\n",
              "      <th></th>\n",
              "      <th></th>\n",
              "    </tr>\n",
              "  </thead>\n",
              "  <tbody>\n",
              "    <tr>\n",
              "      <th>1</th>\n",
              "      <td>5.0</td>\n",
              "      <td>3.0</td>\n",
              "      <td>4.0</td>\n",
              "      <td>3.0</td>\n",
              "      <td>3.0</td>\n",
              "      <td>5.0</td>\n",
              "      <td>4.0</td>\n",
              "      <td>1.0</td>\n",
              "      <td>5.0</td>\n",
              "      <td>3.0</td>\n",
              "      <td>...</td>\n",
              "      <td>0.0</td>\n",
              "      <td>0.0</td>\n",
              "      <td>0.0</td>\n",
              "      <td>0.0</td>\n",
              "      <td>0.0</td>\n",
              "      <td>0.0</td>\n",
              "      <td>0.0</td>\n",
              "      <td>0.0</td>\n",
              "      <td>0.0</td>\n",
              "      <td>0.0</td>\n",
              "    </tr>\n",
              "    <tr>\n",
              "      <th>2</th>\n",
              "      <td>4.0</td>\n",
              "      <td>0.0</td>\n",
              "      <td>0.0</td>\n",
              "      <td>0.0</td>\n",
              "      <td>0.0</td>\n",
              "      <td>0.0</td>\n",
              "      <td>0.0</td>\n",
              "      <td>0.0</td>\n",
              "      <td>0.0</td>\n",
              "      <td>2.0</td>\n",
              "      <td>...</td>\n",
              "      <td>0.0</td>\n",
              "      <td>0.0</td>\n",
              "      <td>0.0</td>\n",
              "      <td>0.0</td>\n",
              "      <td>0.0</td>\n",
              "      <td>0.0</td>\n",
              "      <td>0.0</td>\n",
              "      <td>0.0</td>\n",
              "      <td>0.0</td>\n",
              "      <td>0.0</td>\n",
              "    </tr>\n",
              "    <tr>\n",
              "      <th>3</th>\n",
              "      <td>0.0</td>\n",
              "      <td>0.0</td>\n",
              "      <td>0.0</td>\n",
              "      <td>0.0</td>\n",
              "      <td>0.0</td>\n",
              "      <td>0.0</td>\n",
              "      <td>0.0</td>\n",
              "      <td>0.0</td>\n",
              "      <td>0.0</td>\n",
              "      <td>0.0</td>\n",
              "      <td>...</td>\n",
              "      <td>0.0</td>\n",
              "      <td>0.0</td>\n",
              "      <td>0.0</td>\n",
              "      <td>0.0</td>\n",
              "      <td>0.0</td>\n",
              "      <td>0.0</td>\n",
              "      <td>0.0</td>\n",
              "      <td>0.0</td>\n",
              "      <td>0.0</td>\n",
              "      <td>0.0</td>\n",
              "    </tr>\n",
              "    <tr>\n",
              "      <th>4</th>\n",
              "      <td>0.0</td>\n",
              "      <td>0.0</td>\n",
              "      <td>0.0</td>\n",
              "      <td>0.0</td>\n",
              "      <td>0.0</td>\n",
              "      <td>0.0</td>\n",
              "      <td>0.0</td>\n",
              "      <td>0.0</td>\n",
              "      <td>0.0</td>\n",
              "      <td>0.0</td>\n",
              "      <td>...</td>\n",
              "      <td>0.0</td>\n",
              "      <td>0.0</td>\n",
              "      <td>0.0</td>\n",
              "      <td>0.0</td>\n",
              "      <td>0.0</td>\n",
              "      <td>0.0</td>\n",
              "      <td>0.0</td>\n",
              "      <td>0.0</td>\n",
              "      <td>0.0</td>\n",
              "      <td>0.0</td>\n",
              "    </tr>\n",
              "    <tr>\n",
              "      <th>5</th>\n",
              "      <td>4.0</td>\n",
              "      <td>3.0</td>\n",
              "      <td>0.0</td>\n",
              "      <td>0.0</td>\n",
              "      <td>0.0</td>\n",
              "      <td>0.0</td>\n",
              "      <td>0.0</td>\n",
              "      <td>0.0</td>\n",
              "      <td>0.0</td>\n",
              "      <td>0.0</td>\n",
              "      <td>...</td>\n",
              "      <td>0.0</td>\n",
              "      <td>0.0</td>\n",
              "      <td>0.0</td>\n",
              "      <td>0.0</td>\n",
              "      <td>0.0</td>\n",
              "      <td>0.0</td>\n",
              "      <td>0.0</td>\n",
              "      <td>0.0</td>\n",
              "      <td>0.0</td>\n",
              "      <td>0.0</td>\n",
              "    </tr>\n",
              "  </tbody>\n",
              "</table>\n",
              "<p>5 rows × 1682 columns</p>\n",
              "</div>\n",
              "    <div class=\"colab-df-buttons\">\n",
              "\n",
              "  <div class=\"colab-df-container\">\n",
              "    <button class=\"colab-df-convert\" onclick=\"convertToInteractive('df-9a8e13cc-f5de-4729-8054-2fa0d2637d9e')\"\n",
              "            title=\"Convert this dataframe to an interactive table.\"\n",
              "            style=\"display:none;\">\n",
              "\n",
              "  <svg xmlns=\"http://www.w3.org/2000/svg\" height=\"24px\" viewBox=\"0 -960 960 960\">\n",
              "    <path d=\"M120-120v-720h720v720H120Zm60-500h600v-160H180v160Zm220 220h160v-160H400v160Zm0 220h160v-160H400v160ZM180-400h160v-160H180v160Zm440 0h160v-160H620v160ZM180-180h160v-160H180v160Zm440 0h160v-160H620v160Z\"/>\n",
              "  </svg>\n",
              "    </button>\n",
              "\n",
              "  <style>\n",
              "    .colab-df-container {\n",
              "      display:flex;\n",
              "      gap: 12px;\n",
              "    }\n",
              "\n",
              "    .colab-df-convert {\n",
              "      background-color: #E8F0FE;\n",
              "      border: none;\n",
              "      border-radius: 50%;\n",
              "      cursor: pointer;\n",
              "      display: none;\n",
              "      fill: #1967D2;\n",
              "      height: 32px;\n",
              "      padding: 0 0 0 0;\n",
              "      width: 32px;\n",
              "    }\n",
              "\n",
              "    .colab-df-convert:hover {\n",
              "      background-color: #E2EBFA;\n",
              "      box-shadow: 0px 1px 2px rgba(60, 64, 67, 0.3), 0px 1px 3px 1px rgba(60, 64, 67, 0.15);\n",
              "      fill: #174EA6;\n",
              "    }\n",
              "\n",
              "    .colab-df-buttons div {\n",
              "      margin-bottom: 4px;\n",
              "    }\n",
              "\n",
              "    [theme=dark] .colab-df-convert {\n",
              "      background-color: #3B4455;\n",
              "      fill: #D2E3FC;\n",
              "    }\n",
              "\n",
              "    [theme=dark] .colab-df-convert:hover {\n",
              "      background-color: #434B5C;\n",
              "      box-shadow: 0px 1px 3px 1px rgba(0, 0, 0, 0.15);\n",
              "      filter: drop-shadow(0px 1px 2px rgba(0, 0, 0, 0.3));\n",
              "      fill: #FFFFFF;\n",
              "    }\n",
              "  </style>\n",
              "\n",
              "    <script>\n",
              "      const buttonEl =\n",
              "        document.querySelector('#df-9a8e13cc-f5de-4729-8054-2fa0d2637d9e button.colab-df-convert');\n",
              "      buttonEl.style.display =\n",
              "        google.colab.kernel.accessAllowed ? 'block' : 'none';\n",
              "\n",
              "      async function convertToInteractive(key) {\n",
              "        const element = document.querySelector('#df-9a8e13cc-f5de-4729-8054-2fa0d2637d9e');\n",
              "        const dataTable =\n",
              "          await google.colab.kernel.invokeFunction('convertToInteractive',\n",
              "                                                    [key], {});\n",
              "        if (!dataTable) return;\n",
              "\n",
              "        const docLinkHtml = 'Like what you see? Visit the ' +\n",
              "          '<a target=\"_blank\" href=https://colab.research.google.com/notebooks/data_table.ipynb>data table notebook</a>'\n",
              "          + ' to learn more about interactive tables.';\n",
              "        element.innerHTML = '';\n",
              "        dataTable['output_type'] = 'display_data';\n",
              "        await google.colab.output.renderOutput(dataTable, element);\n",
              "        const docLink = document.createElement('div');\n",
              "        docLink.innerHTML = docLinkHtml;\n",
              "        element.appendChild(docLink);\n",
              "      }\n",
              "    </script>\n",
              "  </div>\n",
              "\n",
              "\n",
              "<div id=\"df-0acfaf0c-cd39-468a-8c46-c8870392562a\">\n",
              "  <button class=\"colab-df-quickchart\" onclick=\"quickchart('df-0acfaf0c-cd39-468a-8c46-c8870392562a')\"\n",
              "            title=\"Suggest charts\"\n",
              "            style=\"display:none;\">\n",
              "\n",
              "<svg xmlns=\"http://www.w3.org/2000/svg\" height=\"24px\"viewBox=\"0 0 24 24\"\n",
              "     width=\"24px\">\n",
              "    <g>\n",
              "        <path d=\"M19 3H5c-1.1 0-2 .9-2 2v14c0 1.1.9 2 2 2h14c1.1 0 2-.9 2-2V5c0-1.1-.9-2-2-2zM9 17H7v-7h2v7zm4 0h-2V7h2v10zm4 0h-2v-4h2v4z\"/>\n",
              "    </g>\n",
              "</svg>\n",
              "  </button>\n",
              "\n",
              "<style>\n",
              "  .colab-df-quickchart {\n",
              "      --bg-color: #E8F0FE;\n",
              "      --fill-color: #1967D2;\n",
              "      --hover-bg-color: #E2EBFA;\n",
              "      --hover-fill-color: #174EA6;\n",
              "      --disabled-fill-color: #AAA;\n",
              "      --disabled-bg-color: #DDD;\n",
              "  }\n",
              "\n",
              "  [theme=dark] .colab-df-quickchart {\n",
              "      --bg-color: #3B4455;\n",
              "      --fill-color: #D2E3FC;\n",
              "      --hover-bg-color: #434B5C;\n",
              "      --hover-fill-color: #FFFFFF;\n",
              "      --disabled-bg-color: #3B4455;\n",
              "      --disabled-fill-color: #666;\n",
              "  }\n",
              "\n",
              "  .colab-df-quickchart {\n",
              "    background-color: var(--bg-color);\n",
              "    border: none;\n",
              "    border-radius: 50%;\n",
              "    cursor: pointer;\n",
              "    display: none;\n",
              "    fill: var(--fill-color);\n",
              "    height: 32px;\n",
              "    padding: 0;\n",
              "    width: 32px;\n",
              "  }\n",
              "\n",
              "  .colab-df-quickchart:hover {\n",
              "    background-color: var(--hover-bg-color);\n",
              "    box-shadow: 0 1px 2px rgba(60, 64, 67, 0.3), 0 1px 3px 1px rgba(60, 64, 67, 0.15);\n",
              "    fill: var(--button-hover-fill-color);\n",
              "  }\n",
              "\n",
              "  .colab-df-quickchart-complete:disabled,\n",
              "  .colab-df-quickchart-complete:disabled:hover {\n",
              "    background-color: var(--disabled-bg-color);\n",
              "    fill: var(--disabled-fill-color);\n",
              "    box-shadow: none;\n",
              "  }\n",
              "\n",
              "  .colab-df-spinner {\n",
              "    border: 2px solid var(--fill-color);\n",
              "    border-color: transparent;\n",
              "    border-bottom-color: var(--fill-color);\n",
              "    animation:\n",
              "      spin 1s steps(1) infinite;\n",
              "  }\n",
              "\n",
              "  @keyframes spin {\n",
              "    0% {\n",
              "      border-color: transparent;\n",
              "      border-bottom-color: var(--fill-color);\n",
              "      border-left-color: var(--fill-color);\n",
              "    }\n",
              "    20% {\n",
              "      border-color: transparent;\n",
              "      border-left-color: var(--fill-color);\n",
              "      border-top-color: var(--fill-color);\n",
              "    }\n",
              "    30% {\n",
              "      border-color: transparent;\n",
              "      border-left-color: var(--fill-color);\n",
              "      border-top-color: var(--fill-color);\n",
              "      border-right-color: var(--fill-color);\n",
              "    }\n",
              "    40% {\n",
              "      border-color: transparent;\n",
              "      border-right-color: var(--fill-color);\n",
              "      border-top-color: var(--fill-color);\n",
              "    }\n",
              "    60% {\n",
              "      border-color: transparent;\n",
              "      border-right-color: var(--fill-color);\n",
              "    }\n",
              "    80% {\n",
              "      border-color: transparent;\n",
              "      border-right-color: var(--fill-color);\n",
              "      border-bottom-color: var(--fill-color);\n",
              "    }\n",
              "    90% {\n",
              "      border-color: transparent;\n",
              "      border-bottom-color: var(--fill-color);\n",
              "    }\n",
              "  }\n",
              "</style>\n",
              "\n",
              "  <script>\n",
              "    async function quickchart(key) {\n",
              "      const quickchartButtonEl =\n",
              "        document.querySelector('#' + key + ' button');\n",
              "      quickchartButtonEl.disabled = true;  // To prevent multiple clicks.\n",
              "      quickchartButtonEl.classList.add('colab-df-spinner');\n",
              "      try {\n",
              "        const charts = await google.colab.kernel.invokeFunction(\n",
              "            'suggestCharts', [key], {});\n",
              "      } catch (error) {\n",
              "        console.error('Error during call to suggestCharts:', error);\n",
              "      }\n",
              "      quickchartButtonEl.classList.remove('colab-df-spinner');\n",
              "      quickchartButtonEl.classList.add('colab-df-quickchart-complete');\n",
              "    }\n",
              "    (() => {\n",
              "      let quickchartButtonEl =\n",
              "        document.querySelector('#df-0acfaf0c-cd39-468a-8c46-c8870392562a button');\n",
              "      quickchartButtonEl.style.display =\n",
              "        google.colab.kernel.accessAllowed ? 'block' : 'none';\n",
              "    })();\n",
              "  </script>\n",
              "</div>\n",
              "\n",
              "    </div>\n",
              "  </div>\n"
            ]
          },
          "metadata": {},
          "execution_count": 59
        }
      ]
    },
    {
      "cell_type": "markdown",
      "source": [
        "####Question 2 (5 points)\n",
        "\n",
        "Calculate the dataset sparsity\n",
        "\n",
        "Remider:\n",
        "$$\n",
        "Sparsity = 1 - \\frac{\\text{number of nonzero ratings in the matrix}}{\\text{number of users}\\times\\text{number of items}}\n",
        "$$"
      ],
      "metadata": {
        "id": "ZQaPEZCFFsC_"
      }
    },
    {
      "cell_type": "code",
      "source": [
        "\n",
        "# Count non-zero values in the ratings matrix\n",
        "number_of_nonzero_ratings_in_matrix = np.count_nonzero(ratings.values)\n",
        "\n",
        "number_of_users = ratings.shape[0]\n",
        "number_of_items = ratings.shape[1]\n",
        "\n",
        "sparsity = 1 - number_of_nonzero_ratings_in_matrix / (number_of_users * number_of_items)\n",
        "sparsity"
      ],
      "metadata": {
        "id": "wIp7ip8wYxBn",
        "colab": {
          "base_uri": "https://localhost:8080/"
        },
        "outputId": "83a997f0-036b-448d-f258-1d9191832d9c"
      },
      "execution_count": 60,
      "outputs": [
        {
          "output_type": "execute_result",
          "data": {
            "text/plain": [
              "0.9369533063577546"
            ]
          },
          "metadata": {},
          "execution_count": 60
        }
      ]
    },
    {
      "cell_type": "code",
      "source": [
        "sns.boxplot(df_ratings.rating)"
      ],
      "metadata": {
        "colab": {
          "base_uri": "https://localhost:8080/",
          "height": 429
        },
        "id": "riqMnFVWRFrP",
        "outputId": "b6894df9-319c-457f-ee0e-17b7b09bee9c"
      },
      "execution_count": 61,
      "outputs": [
        {
          "output_type": "execute_result",
          "data": {
            "text/plain": [
              "<Axes: ylabel='rating'>"
            ]
          },
          "metadata": {},
          "execution_count": 61
        },
        {
          "output_type": "display_data",
          "data": {
            "text/plain": [
              "<Figure size 640x480 with 1 Axes>"
            ],
            "image/png": "[encoded data removed]"
          },
          "metadata": {}
        }
      ]
    },
    {
      "cell_type": "code",
      "source": [
        "p = df_ratings.groupby('rating')['rating'].agg(['count'])\n",
        "\n",
        "p.plot(kind='barh', legend=False, figsize=(15,4))\n",
        "plt.title('Rating distribution')\n",
        "plt.axis('off')\n",
        "\n",
        "for i in range(1,6):\n",
        "    plt.text(\n",
        "        p.iloc[i-1][0] / 4, i - 1, 'Rating {}: {:.0f}%'.format(\n",
        "            i, p.iloc[i-1][0] * 100 / p.sum()[0]),\n",
        "        color = 'white', weight = 'bold')"
      ],
      "metadata": {
        "colab": {
          "base_uri": "https://localhost:8080/",
          "height": 367
        },
        "id": "3LBboyMZRa90",
        "outputId": "2590d8b9-dbec-49f5-cf06-0c5dc3d4d45f"
      },
      "execution_count": 62,
      "outputs": [
        {
          "output_type": "display_data",
          "data": {
            "text/plain": [
              "<Figure size 1500x400 with 1 Axes>"
            ],
            "image/png": "[encoded data removed]"
          },
          "metadata": {}
        }
      ]
    },
    {
      "cell_type": "code",
      "source": [
        "fig, ax = plt.subplots(1, 2, sharex='col', sharey='row', figsize=(15, 4))\n",
        "\n",
        "ratings.astype(bool).sum(axis=0).plot.hist(ax=ax[0], bins=20)\n",
        "ratings.astype(bool).sum(axis=1).plot.hist(ax=ax[1], color='orange', bins=10)\n",
        "ax[0].set_title('Per item')\n",
        "ax[1].set_title('Per user')\n",
        "ax[0].set_xlabel('amount of ratings')\n",
        "ax[1].set_xlabel('amount of ratings');\n"
      ],
      "metadata": {
        "colab": {
          "base_uri": "https://localhost:8080/",
          "height": 410
        },
        "id": "o0q9667KSCsk",
        "outputId": "2a9daa13-65e6-4325-f698-97d99fe71c6e"
      },
      "execution_count": 63,
      "outputs": [
        {
          "output_type": "display_data",
          "data": {
            "text/plain": [
              "<Figure size 1500x400 with 2 Axes>"
            ],
            "image/png": "[encoded data removed]"
          },
          "metadata": {}
        }
      ]
    },
    {
      "cell_type": "code",
      "source": [
        "plt.figure(figsize=(15, 6))\n",
        "df_items.iloc[:, 5:].sum().sort_values(ascending=False).plot.bar()\n",
        "plt.xticks(rotation=45)\n",
        "plt.show();"
      ],
      "metadata": {
        "colab": {
          "base_uri": "https://localhost:8080/",
          "height": 585
        },
        "id": "m3jgjnHfSubf",
        "outputId": "70231bbe-823c-4cf2-f129-532de1a8978b"
      },
      "execution_count": 64,
      "outputs": [
        {
          "output_type": "display_data",
          "data": {
            "text/plain": [
              "<Figure size 1500x600 with 1 Axes>"
            ],
            "image/png": "[encoded data removed]"
          },
          "metadata": {}
        }
      ]
    },
    {
      "cell_type": "markdown",
      "source": [
        "####Quetions 3 (10 points)\n",
        "\n",
        "a. How many items are frequently rated (>100 ratings)?\n",
        "\n",
        "b. How many items are rarely rated (<10 ratings)?\n",
        "\n",
        "c. How many users rate frequently (>100 ratings)?\n",
        "\n",
        "d. How many users rate rarely? (<10 ratings)?\n",
        "\n",
        "e. What challenges are we facing with when building a recommener system for this specific dataset?\n"
      ],
      "metadata": {
        "id": "Ty8joty1bLpU"
      }
    },
    {
      "cell_type": "code",
      "source": [
        "true_counts_per_item_id = ratings.astype(bool).sum(axis=0)\n",
        "# a.\n",
        "items_rated_more_than_100 = np.sum(true_counts_per_item_id > 100)\n",
        "\n",
        "# b.\n",
        "items_rated_less_than_10 = np.sum(true_counts_per_item_id < 10)\n",
        "\n",
        "true_counts_per_user_id = ratings.astype(bool).sum(axis=1)\n",
        "# c.\n",
        "users_rated_more_than_100 = np.sum(true_counts_per_user_id > 100)\n",
        "\n",
        "# d.\n",
        "users_rated_less_than_10 = np.sum(true_counts_per_user_id < 10)\n",
        "\n",
        "[items_rated_more_than_100, items_rated_less_than_10, users_rated_more_than_100, users_rated_less_than_10]\n"
      ],
      "metadata": {
        "colab": {
          "base_uri": "https://localhost:8080/"
        },
        "id": "WKHl7Typs8Fz",
        "outputId": "1b043cdc-2e6d-4b6d-b6ca-521296f3d8e0"
      },
      "execution_count": 65,
      "outputs": [
        {
          "output_type": "execute_result",
          "data": {
            "text/plain": [
              "[334, 530, 361, 0]"
            ]
          },
          "metadata": {},
          "execution_count": 65
        }
      ]
    },
    {
      "cell_type": "markdown",
      "source": [
        "a. 334 items are frequently rated\n",
        "\n",
        "b. 530 items are rarely rated\n",
        "\n",
        "c. 361 users rate frequently rated\n",
        "\n",
        "d. 0 users rate rarely rated\n",
        "\n",
        "e.\n",
        "\n",
        "Assuming the RS model is popularity based:\n",
        "1. A significant number of movies have been rated very few times (530 rated less than 10 times). This leads to a lack of statistical confidence in their average ratings. A movie with a high average rating score but based on very few ratings might not be as reliable as one with a slightly lower average rating but based on many more ratings.\n",
        "2. Doesn't consider data shift - the accumulative nature of the dataset does not consider changes in rating trends or up-to-date preferences on outdated movies.\n",
        "3. The dataset, tailored to specific users and movies, may not translate well to new markets with different preferences, due to its reliance on the original user group's data.\n",
        "\n",
        "Assuming the RS model is collaborative based:\n",
        "1. Sparsity - although this dataset is considered dense, still nearly 94% of user-item combinations are missing. This could limit our desired neighbor size (k) to smaller values on cross user or item calculation.\n",
        "2. Scalability issues - as the number of users and movies grows, computational complexity becomes a problem.\n",
        "\n",
        "General challenges:\n",
        "1. Introducing new items - new items with no rating will not be recommended to users. This requires a \"cold start\" solution until sufficient reviews are accumulated."
      ],
      "metadata": {
        "id": "zd3N7Ija2rhS"
      }
    },
    {
      "cell_type": "markdown",
      "source": [
        "## Popularity based RS model - trainning & evaluation\n",
        "\n",
        "In this section, you will divide the data into train and test sets, implement and explore various evaluation metrics, and test them on the popularity based RS model."
      ],
      "metadata": {
        "id": "QfH5AdtUF4bP"
      }
    },
    {
      "cell_type": "code",
      "source": [
        "def train_test_split(\n",
        "    ratings: pd.DataFrame) -> tuple[pd.DataFrame, pd.DataFrame]:\n",
        "    \"\"\"Splits rating matrix to train and test.\n",
        "\n",
        "    Args:\n",
        "        ratings: rating matrix.\n",
        "\n",
        "    Returns:\n",
        "        Train and test matrices.\n",
        "    \"\"\"\n",
        "    test = ratings.copy()\n",
        "    test.iloc[:, :] = 0\n",
        "    train = ratings.copy()\n",
        "    for user in range(ratings.shape[0]):\n",
        "        non_zero_items = ratings.iloc[user, :].to_numpy().nonzero()[0]\n",
        "        test_ratings = np.random.choice(non_zero_items, size=10, replace=False)\n",
        "        train.iloc[user, test_ratings] = 0\n",
        "        test.iloc[user, test_ratings] = ratings.iloc[user, test_ratings]\n",
        "\n",
        "    # Test and training are truly disjoint.\n",
        "    assert(np.all((train * test) == 0))\n",
        "    return train, test\n",
        "train, test = train_test_split(ratings)\n",
        "\n",
        "train.shape, test.shape"
      ],
      "metadata": {
        "id": "8Va5WdpDzmKV",
        "colab": {
          "base_uri": "https://localhost:8080/"
        },
        "outputId": "539ccc61-d947-4efd-ba08-a7a7b8e9d501"
      },
      "execution_count": 66,
      "outputs": [
        {
          "output_type": "execute_result",
          "data": {
            "text/plain": [
              "((943, 1682), (943, 1682))"
            ]
          },
          "metadata": {},
          "execution_count": 66
        }
      ]
    },
    {
      "cell_type": "code",
      "source": [
        "# In order to see the images in the next section\n",
        "from google.colab import drive\n",
        "drive.mount('/content/drive')"
      ],
      "metadata": {
        "id": "AQsvZAU_Jcwp",
        "colab": {
          "base_uri": "https://localhost:8080/"
        },
        "outputId": "f99f5e53-e11a-45a2-a522-b3b0a1109ad0"
      },
      "execution_count": 67,
      "outputs": [
        {
          "output_type": "stream",
          "name": "stdout",
          "text": [
            "Drive already mounted at /content/drive; to attempt to forcibly remount, call drive.mount(\"/content/drive\", force_remount=True).\n"
          ]
        }
      ]
    },
    {
      "cell_type": "markdown",
      "source": [
        "####Quetions 4 (60 points)\n",
        "Implement the follwoing evaluation metrics using numpy and pandas only:\n",
        "1. RMSE\n",
        "2. MRR\n",
        "3. DCG\n",
        "4. IDCG\n",
        "5. nDCG\n",
        "6. MAP\n",
        "\n",
        "\n",
        "####Reminder:\n",
        "\n",
        "<img src='https://drive.google.com/uc?id=1KAaJ5RRHFrMseBTnW1o71ZvrpbrxeQ4f' width=\"250\">\n",
        "\n",
        "<img src='https://drive.google.com/uc?id=18bVps-_zx07aLcHXFisPQoMaibAJ4nzP' width=\"250\">\n",
        "\n",
        "<img src='https://drive.google.com/uc?id=1jO7owkzOmcRbHpWn7LgWdq0GNQFD1665' width=\"350\">\n",
        "\n",
        "<img src='https://drive.google.com/uc?id=1tg-Kl1hYu3WVzQ26fMfA7KQ8S8JqWVnh' width=\"600\">\n",
        "\n",
        "Notes:\n",
        "* Refer to the slides about 'Recommender Systems Evaluation' for the math formulas.\n",
        "* Take into account edge cases such as devision by zero, NaN, Null, Zeros, out of bound, eval time, etc.\n",
        "* You may change the function signatures (but not required).\n",
        "\n",
        "\n",
        "\n"
      ],
      "metadata": {
        "id": "BacrFMsAveRH"
      }
    },
    {
      "cell_type": "code",
      "source": [
        "class PopularityRS:\n",
        "\n",
        "    def __init__(self, train: pd.DataFrame):\n",
        "      \"\"\"Trains popularity based recommender system model.\n",
        "\n",
        "        Args:\n",
        "          train: rating matrix.\n",
        "      \"\"\"\n",
        "      self.train = train\n",
        "      self.n_users, self.n_items = train.shape\n",
        "      self.model_params = {}\n",
        "\n",
        "    def fit_popularity(self):\n",
        "        \"\"\"Computes parameters in a popularity-based algorithm.\"\"\"\n",
        "        self.model_params['popularity'] = np.zeros(self.train.shape)\n",
        "        popularity = self.model_params['popularity']\n",
        "        item_avg = np.ma.masked_equal(self.train, value=0).mean(axis=0)\n",
        "        item_avg[np.isnan(item_avg)] = 0\n",
        "        for i in range(1, self.n_items):\n",
        "            popularity[:, i] = item_avg.data[i]\n",
        "        self.model_params['popularity'] = popularity\n",
        "\n",
        "    def recommnd_unseen(self, user: int, n_items: int) -> list:\n",
        "        \"\"\"Recommends unseen items per user, oredered by predicted ratings desc.\n",
        "\n",
        "        Args:\n",
        "          user: user id.\n",
        "          n_items: number of items to suggest.\n",
        "\n",
        "        Returns:\n",
        "          Top suggestions.\n",
        "        \"\"\"\n",
        "        predicted_ratings = self.model_params['popularity'][user]\n",
        "        pred_sorted = np.argsort(predicted_ratings)[::-1]\n",
        "        unseen_movie = np.where(self.train.iloc[user] == 0)\n",
        "        final = pred_sorted[np.in1d(pred_sorted, unseen_movie)]\n",
        "        return final[:n_items]\n",
        "\n",
        "    def predict(self, user: int, item: int) -> float:\n",
        "        \"\"\"Predicts the rating of a specific item for a specific user.\n",
        "\n",
        "        Args:\n",
        "          user: user id.\n",
        "          item: item id.\n",
        "\n",
        "        Returns:\n",
        "          Predicted rating.\n",
        "        \"\"\"\n",
        "        predicted_rating = self.model_params['popularity'][user, item]\n",
        "        return predicted_rating\n",
        "\n",
        "    def predict_all(self):\n",
        "        \"\"\"Predicts ratings for every user and item.\"\"\"\n",
        "        predictions = np.zeros(shape=(self.n_users, self.n_items))\n",
        "        for u in range(self.n_users):\n",
        "            for i in range(self.n_items):\n",
        "                predictions[u, i] = self.predict(u, i)\n",
        "        return predictions\n",
        "\n",
        "    def rmse(self, actual: pd.DataFrame) -> float:\n",
        "        \"\"\"Computes the total RMSE of a model, compared to the actual rating.\n",
        "\n",
        "        Args:\n",
        "          actual: actual rating matrix.\n",
        "\n",
        "        Returns:\n",
        "          Total RMSE.\n",
        "        \"\"\"\n",
        "        actual_as_np = actual.to_numpy()\n",
        "\n",
        "        actual_non_zero_cell_indexes = actual_as_np.nonzero()\n",
        "\n",
        "        n = len(actual_non_zero_cell_indexes[0])\n",
        "        if pd.isna(n) or n == 0:\n",
        "            return 0\n",
        "\n",
        "        actual_non_zero_rating = actual_as_np[actual_non_zero_cell_indexes]\n",
        "        pred_non_zero_rating = self.predict_all()[actual_non_zero_cell_indexes]\n",
        "\n",
        "        rmse_score = np.sqrt(np.mean(actual_non_zero_rating - pred_non_zero_rating) ** 2)\n",
        "\n",
        "        return rmse_score\n",
        "\n",
        "    def mrr(self, test: pd.DataFrame, k: int = 5) -> float:\n",
        "        \"\"\"Computes the Mean Reciprocal Rank for all users.\n",
        "\n",
        "        Note: relevancy is considered rating 3 or above.\n",
        "\n",
        "        Args:\n",
        "          test: rating matrix.\n",
        "          k: cutoff value.\n",
        "\n",
        "        Returns:\n",
        "          MRR.\n",
        "        \"\"\"\n",
        "        test_as_np = test.to_numpy()\n",
        "        relevancy_matrix = test_as_np >= 3\n",
        "\n",
        "        if self.n_users == 0:\n",
        "            return 0\n",
        "\n",
        "        mrr = 0\n",
        "        for user_id in range(self.n_users):\n",
        "            user_top_k = self.recommnd_unseen(user_id, k)\n",
        "            is_top_k_selected_items_relevant = relevancy_matrix[user_id][user_top_k]\n",
        "            first_relevant_index = np.argmax(is_top_k_selected_items_relevant) + 1\n",
        "            mrr += 1 / first_relevant_index if first_relevant_index > 0 else 0\n",
        "\n",
        "        return mrr / self.n_users\n",
        "\n",
        "    def dcg(self, user: int, test: pd.DataFrame, k: int = 5) -> float:\n",
        "        \"\"\"Computes the Discounted Cumulative Gain for a specific user.\n",
        "\n",
        "        Args:\n",
        "            user: user id.\n",
        "            test: rating matrix.\n",
        "            k: cutoff value.\n",
        "\n",
        "        Returns:\n",
        "            DCG.\n",
        "        \"\"\"\n",
        "        test_as_np = test.to_numpy()\n",
        "        user_top_k = self.recommnd_unseen(user, k)\n",
        "        dcg = test_as_np[user][user_top_k] / np.log2(np.arange(1, k + 1) + 1)\n",
        "        dcg_sum = dcg.sum()\n",
        "\n",
        "        return dcg_sum\n",
        "\n",
        "    def idcg(self, user: int, test: pd.DataFrame, k: int = 5) -> float:\n",
        "        \"\"\"Computes the Idealized Discounted Cumulative Gain for a given user.\n",
        "\n",
        "        Args:\n",
        "            user: user id.\n",
        "            test: rating matrix.\n",
        "            k: cutoff value.\n",
        "\n",
        "        Returns:\n",
        "            iDCG.\n",
        "        \"\"\"\n",
        "        test_as_np = test.to_numpy()\n",
        "        user_top_k = self.recommnd_unseen(user, k)\n",
        "        user_top_k_sorted = np.argsort(test_as_np[user][user_top_k])\n",
        "        idcg = user_top_k_sorted / np.log2(np.arange(1, k + 1) + 1)\n",
        "        idcg_sum = idcg.sum()\n",
        "\n",
        "        return idcg_sum\n",
        "\n",
        "    def mean_ndcg(self, test: pd.DataFrame, k: int = 5) -> float:\n",
        "        \"\"\"Computes Mean Normalized Discounted Cumulative Gain for all users.\n",
        "\n",
        "        Args:\n",
        "          test: rating matrix.\n",
        "          k: cutoff value.\n",
        "\n",
        "        Returns:\n",
        "          Mean nDCG.\n",
        "        \"\"\"\n",
        "        ndcg = 0\n",
        "\n",
        "        if self.n_users == 0:\n",
        "            return 0\n",
        "\n",
        "        for i in range(self.n_users):\n",
        "            dcg_i = self.dcg(i, test, k)\n",
        "            idcg_i = self.idcg(i, test, k)\n",
        "\n",
        "            ndcg_i = dcg_i / idcg_i if idcg_i > 0 else np.inf\n",
        "            ndcg += ndcg_i\n",
        "\n",
        "        return ndcg / self.n_users\n",
        "\n",
        "    def map(self, test: pd.DataFrame, k: int = 5) -> float:\n",
        "        \"\"\"Computes the mean average precision for all users.\n",
        "\n",
        "        Note: relevancy is considered rating 3 or above.\n",
        "\n",
        "        Args:\n",
        "          test: rating matrix.\n",
        "          k: cutoff value.\n",
        "\n",
        "        Returns:\n",
        "          Overall MAP.\n",
        "        \"\"\"\n",
        "        test_as_np = test.to_numpy()\n",
        "        relevancy_matrix = test_as_np >= 3\n",
        "\n",
        "        map_sum = 0\n",
        "        divider = np.arange(1, k + 1)\n",
        "        for user_id in range(self.n_users):\n",
        "            user_top_k = self.recommnd_unseen(user_id, k)\n",
        "            is_top_k_selected_items_relevant = relevancy_matrix[user_id][user_top_k]\n",
        "            average_precision_by_user = np.cumsum(is_top_k_selected_items_relevant) / divider\n",
        "\n",
        "            relevant_count = 0\n",
        "            for i in range(len(average_precision_by_user)):\n",
        "                average_precision_by_user[i] = average_precision_by_user[i] if is_top_k_selected_items_relevant[i] else 0\n",
        "                relevant_count = relevant_count + 1\n",
        "\n",
        "            average_precision = average_precision_by_user.sum() / relevant_count\n",
        "            map_sum = map_sum + average_precision\n",
        "\n",
        "        return map_sum / self.n_users\n"
      ],
      "metadata": {
        "id": "so4gsKr4E_hU"
      },
      "execution_count": 74,
      "outputs": []
    },
    {
      "cell_type": "markdown",
      "source": [
        "Train and evaluate the popularity based model using your metrics:"
      ],
      "metadata": {
        "id": "qXUXRKGewggk"
      }
    },
    {
      "cell_type": "code",
      "source": [
        "    model = PopularityRS(train)\n",
        "    model.fit_popularity()\n",
        "\n",
        "    EVAL = {}\n",
        "    EVAL['RMSE_training'] = model.rmse(train)\n",
        "    EVAL['RMSE_test'] = model.rmse(test)\n",
        "    EVAL['MRR5_test'] = model.mrr(test, 5)\n",
        "    EVAL['MRR10_test'] = model.mrr(test, 10)\n",
        "    EVAL['Mean_NDCG5_test'] = model.mean_ndcg(test, 5)\n",
        "    EVAL['Mean_NDCG10_test'] = model.mean_ndcg(test, 10)\n",
        "    EVAL['MAP5_test'] = model.map(test, 5)\n",
        "    EVAL['MAP10_test'] = model.map(test, 10)"
      ],
      "metadata": {
        "id": "J7BSF49cH-84"
      },
      "execution_count": 75,
      "outputs": []
    },
    {
      "cell_type": "code",
      "source": [
        "columns = ['RMSE training', 'RMSE test', 'MRR k=5 test', 'MRR k=10 test',\n",
        "           'Mean NDCG k=5 test', 'Mean NDCG k=10 test', 'MAP k=5 test',\n",
        "           'MAP k=10 test']\n",
        "results = [['Poularity model', EVAL['RMSE_training'], EVAL['RMSE_test'],\n",
        "            EVAL['MRR5_test'], EVAL['MRR10_test'], EVAL['Mean_NDCG5_test'],\n",
        "            EVAL['Mean_NDCG10_test'], EVAL['MAP5_test'], EVAL['MAP10_test']]]\n",
        "\n",
        "results = pd.DataFrame(results).set_index(0)\n",
        "results = results.set_index(results.index.rename('Model / Metric'))\n",
        "results.columns = columns\n",
        "results"
      ],
      "metadata": {
        "id": "JD9iaNCou7KD",
        "colab": {
          "base_uri": "https://localhost:8080/",
          "height": 112
        },
        "outputId": "f9714d10-81ab-4bd4-efb3-c28a469e1703"
      },
      "execution_count": 76,
      "outputs": [
        {
          "output_type": "execute_result",
          "data": {
            "text/plain": [
              "                 RMSE training  RMSE test  MRR k=5 test  MRR k=10 test  \\\n",
              "Model / Metric                                                           \n",
              "Poularity model       2.947062   2.944419      0.829993       0.670746   \n",
              "\n",
              "                 Mean NDCG k=5 test  Mean NDCG k=10 test  MAP k=5 test  \\\n",
              "Model / Metric                                                           \n",
              "Poularity model            0.313062             0.127888      0.070785   \n",
              "\n",
              "                 MAP k=10 test  \n",
              "Model / Metric                  \n",
              "Poularity model       0.043656  "
            ],
            "text/html": [
              "\n",
              "  <div id=\"df-4918abc8-1dff-4b97-9437-abdfa3e47543\" class=\"colab-df-container\">\n",
              "    <div>\n",
              "<style scoped>\n",
              "    .dataframe tbody tr th:only-of-type {\n",
              "        vertical-align: middle;\n",
              "    }\n",
              "\n",
              "    .dataframe tbody tr th {\n",
              "        vertical-align: top;\n",
              "    }\n",
              "\n",
              "    .dataframe thead th {\n",
              "        text-align: right;\n",
              "    }\n",
              "</style>\n",
              "<table border=\"1\" class=\"dataframe\">\n",
              "  <thead>\n",
              "    <tr style=\"text-align: right;\">\n",
              "      <th></th>\n",
              "      <th>RMSE training</th>\n",
              "      <th>RMSE test</th>\n",
              "      <th>MRR k=5 test</th>\n",
              "      <th>MRR k=10 test</th>\n",
              "      <th>Mean NDCG k=5 test</th>\n",
              "      <th>Mean NDCG k=10 test</th>\n",
              "      <th>MAP k=5 test</th>\n",
              "      <th>MAP k=10 test</th>\n",
              "    </tr>\n",
              "    <tr>\n",
              "      <th>Model / Metric</th>\n",
              "      <th></th>\n",
              "      <th></th>\n",
              "      <th></th>\n",
              "      <th></th>\n",
              "      <th></th>\n",
              "      <th></th>\n",
              "      <th></th>\n",
              "      <th></th>\n",
              "    </tr>\n",
              "  </thead>\n",
              "  <tbody>\n",
              "    <tr>\n",
              "      <th>Poularity model</th>\n",
              "      <td>2.947062</td>\n",
              "      <td>2.944419</td>\n",
              "      <td>0.829993</td>\n",
              "      <td>0.670746</td>\n",
              "      <td>0.313062</td>\n",
              "      <td>0.127888</td>\n",
              "      <td>0.070785</td>\n",
              "      <td>0.043656</td>\n",
              "    </tr>\n",
              "  </tbody>\n",
              "</table>\n",
              "</div>\n",
              "    <div class=\"colab-df-buttons\">\n",
              "\n",
              "  <div class=\"colab-df-container\">\n",
              "    <button class=\"colab-df-convert\" onclick=\"convertToInteractive('df-4918abc8-1dff-4b97-9437-abdfa3e47543')\"\n",
              "            title=\"Convert this dataframe to an interactive table.\"\n",
              "            style=\"display:none;\">\n",
              "\n",
              "  <svg xmlns=\"http://www.w3.org/2000/svg\" height=\"24px\" viewBox=\"0 -960 960 960\">\n",
              "    <path d=\"M120-120v-720h720v720H120Zm60-500h600v-160H180v160Zm220 220h160v-160H400v160Zm0 220h160v-160H400v160ZM180-400h160v-160H180v160Zm440 0h160v-160H620v160ZM180-180h160v-160H180v160Zm440 0h160v-160H620v160Z\"/>\n",
              "  </svg>\n",
              "    </button>\n",
              "\n",
              "  <style>\n",
              "    .colab-df-container {\n",
              "      display:flex;\n",
              "      gap: 12px;\n",
              "    }\n",
              "\n",
              "    .colab-df-convert {\n",
              "      background-color: #E8F0FE;\n",
              "      border: none;\n",
              "      border-radius: 50%;\n",
              "      cursor: pointer;\n",
              "      display: none;\n",
              "      fill: #1967D2;\n",
              "      height: 32px;\n",
              "      padding: 0 0 0 0;\n",
              "      width: 32px;\n",
              "    }\n",
              "\n",
              "    .colab-df-convert:hover {\n",
              "      background-color: #E2EBFA;\n",
              "      box-shadow: 0px 1px 2px rgba(60, 64, 67, 0.3), 0px 1px 3px 1px rgba(60, 64, 67, 0.15);\n",
              "      fill: #174EA6;\n",
              "    }\n",
              "\n",
              "    .colab-df-buttons div {\n",
              "      margin-bottom: 4px;\n",
              "    }\n",
              "\n",
              "    [theme=dark] .colab-df-convert {\n",
              "      background-color: #3B4455;\n",
              "      fill: #D2E3FC;\n",
              "    }\n",
              "\n",
              "    [theme=dark] .colab-df-convert:hover {\n",
              "      background-color: #434B5C;\n",
              "      box-shadow: 0px 1px 3px 1px rgba(0, 0, 0, 0.15);\n",
              "      filter: drop-shadow(0px 1px 2px rgba(0, 0, 0, 0.3));\n",
              "      fill: #FFFFFF;\n",
              "    }\n",
              "  </style>\n",
              "\n",
              "    <script>\n",
              "      const buttonEl =\n",
              "        document.querySelector('#df-4918abc8-1dff-4b97-9437-abdfa3e47543 button.colab-df-convert');\n",
              "      buttonEl.style.display =\n",
              "        google.colab.kernel.accessAllowed ? 'block' : 'none';\n",
              "\n",
              "      async function convertToInteractive(key) {\n",
              "        const element = document.querySelector('#df-4918abc8-1dff-4b97-9437-abdfa3e47543');\n",
              "        const dataTable =\n",
              "          await google.colab.kernel.invokeFunction('convertToInteractive',\n",
              "                                                    [key], {});\n",
              "        if (!dataTable) return;\n",
              "\n",
              "        const docLinkHtml = 'Like what you see? Visit the ' +\n",
              "          '<a target=\"_blank\" href=https://colab.research.google.com/notebooks/data_table.ipynb>data table notebook</a>'\n",
              "          + ' to learn more about interactive tables.';\n",
              "        element.innerHTML = '';\n",
              "        dataTable['output_type'] = 'display_data';\n",
              "        await google.colab.output.renderOutput(dataTable, element);\n",
              "        const docLink = document.createElement('div');\n",
              "        docLink.innerHTML = docLinkHtml;\n",
              "        element.appendChild(docLink);\n",
              "      }\n",
              "    </script>\n",
              "  </div>\n",
              "\n",
              "\n",
              "  <div id=\"id_d6348e6e-5542-4b4a-bfd5-8a84273c2fcb\">\n",
              "    <style>\n",
              "      .colab-df-generate {\n",
              "        background-color: #E8F0FE;\n",
              "        border: none;\n",
              "        border-radius: 50%;\n",
              "        cursor: pointer;\n",
              "        display: none;\n",
              "        fill: #1967D2;\n",
              "        height: 32px;\n",
              "        padding: 0 0 0 0;\n",
              "        width: 32px;\n",
              "      }\n",
              "\n",
              "      .colab-df-generate:hover {\n",
              "        background-color: #E2EBFA;\n",
              "        box-shadow: 0px 1px 2px rgba(60, 64, 67, 0.3), 0px 1px 3px 1px rgba(60, 64, 67, 0.15);\n",
              "        fill: #174EA6;\n",
              "      }\n",
              "\n",
              "      [theme=dark] .colab-df-generate {\n",
              "        background-color: #3B4455;\n",
              "        fill: #D2E3FC;\n",
              "      }\n",
              "\n",
              "      [theme=dark] .colab-df-generate:hover {\n",
              "        background-color: #434B5C;\n",
              "        box-shadow: 0px 1px 3px 1px rgba(0, 0, 0, 0.15);\n",
              "        filter: drop-shadow(0px 1px 2px rgba(0, 0, 0, 0.3));\n",
              "        fill: #FFFFFF;\n",
              "      }\n",
              "    </style>\n",
              "    <button class=\"colab-df-generate\" onclick=\"generateWithVariable('results')\"\n",
              "            title=\"Generate code using this dataframe.\"\n",
              "            style=\"display:none;\">\n",
              "\n",
              "  <svg xmlns=\"http://www.w3.org/2000/svg\" height=\"24px\"viewBox=\"0 0 24 24\"\n",
              "       width=\"24px\">\n",
              "    <path d=\"M7,19H8.4L18.45,9,17,7.55,7,17.6ZM5,21V16.75L18.45,3.32a2,2,0,0,1,2.83,0l1.4,1.43a1.91,1.91,0,0,1,.58,1.4,1.91,1.91,0,0,1-.58,1.4L9.25,21ZM18.45,9,17,7.55Zm-12,3A5.31,5.31,0,0,0,4.9,8.1,5.31,5.31,0,0,0,1,6.5,5.31,5.31,0,0,0,4.9,4.9,5.31,5.31,0,0,0,6.5,1,5.31,5.31,0,0,0,8.1,4.9,5.31,5.31,0,0,0,12,6.5,5.46,5.46,0,0,0,6.5,12Z\"/>\n",
              "  </svg>\n",
              "    </button>\n",
              "    <script>\n",
              "      (() => {\n",
              "      const buttonEl =\n",
              "        document.querySelector('#id_d6348e6e-5542-4b4a-bfd5-8a84273c2fcb button.colab-df-generate');\n",
              "      buttonEl.style.display =\n",
              "        google.colab.kernel.accessAllowed ? 'block' : 'none';\n",
              "\n",
              "      buttonEl.onclick = () => {\n",
              "        google.colab.notebook.generateWithVariable('results');\n",
              "      }\n",
              "      })();\n",
              "    </script>\n",
              "  </div>\n",
              "\n",
              "    </div>\n",
              "  </div>\n"
            ]
          },
          "metadata": {},
          "execution_count": 76
        }
      ]
    },
    {
      "cell_type": "markdown",
      "source": [
        "####Quetions 5 (10 points)\n",
        "\n",
        "Discuss what would you consider to be a more suitable evaluation metric for this specific dataset."
      ],
      "metadata": {
        "id": "amnvdHs2wcWq"
      }
    },
    {
      "cell_type": "markdown",
      "source": [
        "This dataset features movie ratings on a scale from 1 to 5, therefore we prefer an evaluation metric that considers not only relevance but also position in the recommendation list. For this reason the most suitable metric for this purpose is the Normalized Discounted Cumulative Gain (nDCG), which effectively captures these aspects. This of course is dependant on the UI, assuming there is limited space and importance to \"higher\" listed recommendations."
      ],
      "metadata": {
        "id": "rKG-Wt_DyDiu"
      }
    },
    {
      "cell_type": "markdown",
      "source": [
        "####Quetions 6 (10 points)\n",
        "Discuss the pros and cons of these evaluation metrics in general."
      ],
      "metadata": {
        "id": "oEsSGu1gxGI2"
      }
    },
    {
      "cell_type": "markdown",
      "source": [
        "### RMSE ###\n",
        "Pros:\n",
        "\n",
        "Sensitive to Outliers - RMSE gives a relatively high weight to large errors.\n",
        "\n",
        "Interpretability - It is in the same units as the target variable, making interpretation of the mean error possible. In fact we understood there was an error with the code when we saw the RMSE was around 3 (can't be more than 4, so this raised a red flag).\n",
        "\n",
        "Cons:\n",
        "\n",
        "Overly Sensitive to Outliers - This sensitivity can be a disadvantage if the dataset has many outliers.\n",
        "\n",
        "\n",
        "### MRR ###\n",
        "Pros:\n",
        "\n",
        "Simple and Intuitive - gives a quick indication of how well the first relevant result is ranked.\n",
        "\n",
        "Effective for Single Relevant Item - Useful in scenarios where the most important factor is the rank of the first relevant item.\n",
        "\n",
        "Cons:\n",
        "\n",
        "Limited Information - Only considers the rank of the first relevant item, ignoring the performance of the system with respect to all other items.\n",
        "\n",
        "### nDCG ###\n",
        "Pros:\n",
        "\n",
        "Normalized Measure - Allows for the comparison of the performance of ranking algorithms across different data sets or rating metrics.\n",
        "\n",
        "Accounts for Multiple Relevant Items and Their Rank - Useful in scenarios where the quality of the entire ranked list is important.\n",
        "\n",
        "Cons:\n",
        "\n",
        "Complexity - More complex to calculate and understand than simpler metrics like precision or recall.\n",
        "\n",
        "### MAP ###\n",
        "Pros:\n",
        "\n",
        "Considers the Whole Rank - Takes into account the order of all the relevant items and not just the first.\n",
        "\n",
        "\n",
        "Cons:\n",
        "\n",
        "Assumes Equal Relevance - Treats all relevant items equally, which may not be suitable for all scenarios."
      ],
      "metadata": {
        "id": "6DVypcydyEaK"
      }
    }
  ]
}