{
 "cells": [
  {
   "cell_type": "code",
   "execution_count": 1,
   "metadata": {
    "ExecuteTime": {
     "end_time": "2024-02-13T15:59:27.483011Z",
     "start_time": "2024-02-13T15:59:27.475236Z"
    }
   },
   "outputs": [],
   "source": [
    "just_checking_integrity=False"
   ]
  },
  {
   "cell_type": "code",
   "execution_count": 3,
   "metadata": {
    "id": "owDtEs6MsTc9",
    "ExecuteTime": {
     "end_time": "2024-02-13T15:59:45.041948Z",
     "start_time": "2024-02-13T15:59:45.030524Z"
    }
   },
   "outputs": [],
   "source": [
    "import pandas as pd\n",
    "import numpy as np\n",
    "import tensorflow as tf\n",
    "from tensorflow.keras import layers\n",
    "from sklearn.model_selection import train_test_split"
   ]
  },
  {
   "cell_type": "code",
   "execution_count": 4,
   "metadata": {
    "colab": {
     "base_uri": "https://localhost:8080/",
     "height": 206
    },
    "id": "1JyKbD7LtKP-",
    "outputId": "8d4df8b0-4940-4479-9089-0da50588fd15",
    "ExecuteTime": {
     "end_time": "2024-02-13T15:59:46.957719Z",
     "start_time": "2024-02-13T15:59:46.729791Z"
    }
   },
   "outputs": [
    {
     "data": {
      "text/plain": "   item_id  feature_idx\n0    19021            0\n1    19021           22\n2    19021           15\n3    19021          446\n4    19021            1",
      "text/html": "<div>\n<style scoped>\n    .dataframe tbody tr th:only-of-type {\n        vertical-align: middle;\n    }\n\n    .dataframe tbody tr th {\n        vertical-align: top;\n    }\n\n    .dataframe thead th {\n        text-align: right;\n    }\n</style>\n<table border=\"1\" class=\"dataframe\">\n  <thead>\n    <tr style=\"text-align: right;\">\n      <th></th>\n      <th>item_id</th>\n      <th>feature_idx</th>\n    </tr>\n  </thead>\n  <tbody>\n    <tr>\n      <th>0</th>\n      <td>19021</td>\n      <td>0</td>\n    </tr>\n    <tr>\n      <th>1</th>\n      <td>19021</td>\n      <td>22</td>\n    </tr>\n    <tr>\n      <th>2</th>\n      <td>19021</td>\n      <td>15</td>\n    </tr>\n    <tr>\n      <th>3</th>\n      <td>19021</td>\n      <td>446</td>\n    </tr>\n    <tr>\n      <th>4</th>\n      <td>19021</td>\n      <td>1</td>\n    </tr>\n  </tbody>\n</table>\n</div>"
     },
     "execution_count": 4,
     "metadata": {},
     "output_type": "execute_result"
    }
   ],
   "source": [
    "items_features = pd.read_csv('../dataset/processed_data/simplified_features_and_categories_30.csv')\n",
    "items_features.head()"
   ]
  },
  {
   "cell_type": "code",
   "execution_count": 5,
   "metadata": {
    "colab": {
     "base_uri": "https://localhost:8080/"
    },
    "id": "0L-2_mkypZIT",
    "outputId": "7e46d3bd-d557-4f21-8550-449e5bbecff5",
    "ExecuteTime": {
     "end_time": "2024-02-13T15:59:48.181155Z",
     "start_time": "2024-02-13T15:59:48.166357Z"
    }
   },
   "outputs": [
    {
     "data": {
      "text/plain": "23691"
     },
     "execution_count": 5,
     "metadata": {},
     "output_type": "execute_result"
    }
   ],
   "source": [
    "items_features['item_id'].max()"
   ]
  },
  {
   "cell_type": "code",
   "execution_count": 6,
   "metadata": {
    "id": "NhWZfcj7z3T4",
    "ExecuteTime": {
     "end_time": "2024-02-13T15:59:49.183685Z",
     "start_time": "2024-02-13T15:59:49.049006Z"
    }
   },
   "outputs": [],
   "source": [
    "dataset = np.zeros(\n",
    "    (items_features['item_id'].max()+1, items_features['feature_idx'].max()+1)\n",
    "    )\n",
    "dataset[(items_features['item_id'], items_features['feature_idx'])] = 1\n",
    "\n",
    "dataset\n",
    "train_dataset=dataset[1:,:]"
   ]
  },
  {
   "cell_type": "code",
   "execution_count": 7,
   "metadata": {
    "id": "ZO-qIdyclm-l",
    "ExecuteTime": {
     "end_time": "2024-02-13T15:59:50.197075Z",
     "start_time": "2024-02-13T15:59:50.034894Z"
    }
   },
   "outputs": [],
   "source": [
    "from sklearn.model_selection import train_test_split\n",
    "train,test=train_test_split(train_dataset,test_size=0.2,random_state=941116)"
   ]
  },
  {
   "cell_type": "code",
   "execution_count": 8,
   "metadata": {
    "colab": {
     "base_uri": "https://localhost:8080/"
    },
    "id": "gmqXJ3zDB7b0",
    "outputId": "e124f74b-f7b9-4570-db1c-7302f1885980",
    "ExecuteTime": {
     "end_time": "2024-02-13T15:59:50.828891Z",
     "start_time": "2024-02-13T15:59:50.790615Z"
    }
   },
   "outputs": [
    {
     "data": {
      "text/plain": "(23692, 636)"
     },
     "execution_count": 8,
     "metadata": {},
     "output_type": "execute_result"
    }
   ],
   "source": [
    "dataset.shape"
   ]
  },
  {
   "cell_type": "code",
   "execution_count": 9,
   "metadata": {
    "colab": {
     "base_uri": "https://localhost:8080/"
    },
    "id": "poeMvbnyl11j",
    "outputId": "9a7a99d5-d7a7-4041-cb74-956e4218f774",
    "ExecuteTime": {
     "end_time": "2024-02-13T15:59:53.369118Z",
     "start_time": "2024-02-13T15:59:53.351404Z"
    }
   },
   "outputs": [
    {
     "data": {
      "text/plain": "(18952, 636)"
     },
     "execution_count": 9,
     "metadata": {},
     "output_type": "execute_result"
    }
   ],
   "source": [
    "train.shape"
   ]
  },
  {
   "cell_type": "code",
   "execution_count": 10,
   "metadata": {
    "colab": {
     "base_uri": "https://localhost:8080/"
    },
    "id": "yJzyRil8GCth",
    "outputId": "a11dcaab-c116-470f-ed63-d425eeac9ce2",
    "ExecuteTime": {
     "end_time": "2024-02-13T15:59:54.537844Z",
     "start_time": "2024-02-13T15:59:54.532216Z"
    }
   },
   "outputs": [
    {
     "data": {
      "text/plain": "(4739, 636)"
     },
     "execution_count": 10,
     "metadata": {},
     "output_type": "execute_result"
    }
   ],
   "source": [
    "test.shape"
   ]
  },
  {
   "cell_type": "markdown",
   "metadata": {
    "id": "d3nCfuxMKi8X"
   },
   "source": [
    "# Autoencoder"
   ]
  },
  {
   "cell_type": "code",
   "execution_count": 11,
   "metadata": {
    "id": "1RjrcwqVKkvm",
    "ExecuteTime": {
     "end_time": "2024-02-13T16:00:00.918279Z",
     "start_time": "2024-02-13T16:00:00.333239Z"
    }
   },
   "outputs": [
    {
     "name": "stderr",
     "output_type": "stream",
     "text": [
      "2024-02-13 18:00:00.428339: I tensorflow/core/platform/cpu_feature_guard.cc:151] This TensorFlow binary is optimized with oneAPI Deep Neural Network Library (oneDNN) to use the following CPU instructions in performance-critical operations:  AVX2 FMA\n",
      "To enable them in other operations, rebuild TensorFlow with the appropriate compiler flags.\n"
     ]
    }
   ],
   "source": [
    "latent_dimension = 64\n",
    "starting_dimension = 512\n",
    "\n",
    "inputs = layers.Input(int(items_features['feature_idx'].max()+1))\n",
    "\n",
    "x = inputs \n",
    "dimension = starting_dimension\n",
    "\n",
    "while(dimension != latent_dimension):\n",
    "    #x = layers.BatchNormalization()(x)\n",
    "    x = layers.Dense(units=dimension, activation='gelu',activity_regularizer=tf.keras.regularizers.L1L2(l1=1e-5,l2=1e-5))(x)\n",
    "    x = layers.Dropout(0.1)(x)\n",
    "\n",
    "    dimension = dimension//2\n",
    "\n",
    "x = layers.Dense(units=dimension,activation=\"tanh\",activity_regularizer=tf.keras.regularizers.L1L2(l1=5e-5,l2=4e-4))(x)\n",
    "outputs = x\n",
    "encoder = tf.keras.Model(inputs=inputs, outputs=outputs, name='encoder')"
   ]
  },
  {
   "cell_type": "code",
   "execution_count": 12,
   "metadata": {
    "id": "ZBxWYv-JL06x",
    "ExecuteTime": {
     "end_time": "2024-02-13T16:00:01.309225Z",
     "start_time": "2024-02-13T16:00:01.178822Z"
    }
   },
   "outputs": [],
   "source": [
    "max_width = 1024\n",
    "ending_dimension = items_features['feature_idx'].max()+1\n",
    "\n",
    "inputs = layers.Input(latent_dimension)\n",
    "\n",
    "x = inputs \n",
    "dimension = latent_dimension\n",
    "\n",
    "x = layers.Dense(units=256, activation='gelu',activity_regularizer=tf.keras.regularizers.L1L2(l1=1e-5,l2=1e-5))(x)\n",
    "x = layers.Dropout(0.1)(x)\n",
    "x = layers.Dense(units=512, activation='gelu',activity_regularizer=tf.keras.regularizers.L1L2(l1=1e-5,l2=1e-5))(x)\n",
    "x = layers.Dropout(0.2)(x)\n",
    "    \n",
    "\n",
    "x = layers.Dense(units=ending_dimension,activation=\"sigmoid\")(x)\n",
    "outputs = x\n",
    "\n",
    "decoder = tf.keras.Model(inputs=inputs, outputs=outputs, name='decoder')\n",
    "\n",
    "#decoder.summary()"
   ]
  },
  {
   "cell_type": "code",
   "execution_count": 13,
   "metadata": {
    "id": "XoCB5g0EL7sI",
    "ExecuteTime": {
     "end_time": "2024-02-13T16:00:04.366888Z",
     "start_time": "2024-02-13T16:00:04.190514Z"
    }
   },
   "outputs": [
    {
     "name": "stdout",
     "output_type": "stream",
     "text": [
      "Model: \"auto_encoder\"\n",
      "_________________________________________________________________\n",
      " Layer (type)                Output Shape              Param #   \n",
      "=================================================================\n",
      " input_1 (InputLayer)        [(None, 636)]             0         \n",
      "                                                                 \n",
      " dense (Dense)               (None, 512)               326144    \n",
      "                                                                 \n",
      " dropout (Dropout)           (None, 512)               0         \n",
      "                                                                 \n",
      " dense_1 (Dense)             (None, 256)               131328    \n",
      "                                                                 \n",
      " dropout_1 (Dropout)         (None, 256)               0         \n",
      "                                                                 \n",
      " dense_2 (Dense)             (None, 128)               32896     \n",
      "                                                                 \n",
      " dropout_2 (Dropout)         (None, 128)               0         \n",
      "                                                                 \n",
      " dense_3 (Dense)             (None, 64)                8256      \n",
      "                                                                 \n",
      " decoder (Functional)        (None, 636)               474492    \n",
      "                                                                 \n",
      "=================================================================\n",
      "Total params: 973,116\n",
      "Trainable params: 973,116\n",
      "Non-trainable params: 0\n",
      "_________________________________________________________________\n"
     ]
    }
   ],
   "source": [
    "ae = tf.keras.Model(inputs=encoder.inputs, outputs=decoder(encoder.outputs), name='auto_encoder')\n",
    "ae.summary()"
   ]
  },
  {
   "cell_type": "code",
   "execution_count": 14,
   "metadata": {
    "id": "z0LDKqMkMOtK",
    "ExecuteTime": {
     "end_time": "2024-02-13T16:00:06.245347Z",
     "start_time": "2024-02-13T16:00:06.235072Z"
    }
   },
   "outputs": [],
   "source": [
    "def custom_loss(x_true,x_pred):\n",
    "    return tf.keras.losses.cosine_similarity(x_true,x_pred)+tf.keras.losses.mean_squared_error(x_true,x_pred)#"
   ]
  },
  {
   "cell_type": "code",
   "execution_count": 15,
   "metadata": {
    "id": "MP0KJxaGMNuZ",
    "ExecuteTime": {
     "end_time": "2024-02-13T16:00:08.568077Z",
     "start_time": "2024-02-13T16:00:08.531480Z"
    }
   },
   "outputs": [],
   "source": [
    "ae.compile(\n",
    "    optimizer=tf.keras.optimizers.Adamax(learning_rate=0.006), \n",
    "    loss=custom_loss,\n",
    "    metrics=[tf.keras.metrics.CosineSimilarity(),tf.keras.metrics.MeanAbsoluteError()]\n",
    "    )"
   ]
  },
  {
   "cell_type": "markdown",
   "metadata": {
    "id": "YrLisRiO73WY"
   },
   "source": [
    "# Training"
   ]
  },
  {
   "cell_type": "code",
   "execution_count": 16,
   "metadata": {
    "colab": {
     "base_uri": "https://localhost:8080/"
    },
    "id": "k66RodSl71Ya",
    "outputId": "552b3658-298f-41a7-c1c9-530461918164",
    "ExecuteTime": {
     "end_time": "2024-02-13T16:16:09.220614Z",
     "start_time": "2024-02-13T16:00:10.218444Z"
    }
   },
   "outputs": [
    {
     "name": "stdout",
     "output_type": "stream",
     "text": [
      "Epoch 1/200\n",
      "297/297 [==============================] - 12s 29ms/step - loss: -0.7581 - cosine_similarity: 0.7941 - mean_absolute_error: 0.0496 - val_loss: -0.8463 - val_cosine_similarity: 0.8700 - val_mean_absolute_error: 0.0315 - lr: 0.0060\n",
      "Epoch 2/200\n",
      "297/297 [==============================] - 8s 27ms/step - loss: -0.8551 - cosine_similarity: 0.8779 - mean_absolute_error: 0.0299 - val_loss: -0.8775 - val_cosine_similarity: 0.8979 - val_mean_absolute_error: 0.0247 - lr: 0.0060\n",
      "Epoch 3/200\n",
      "297/297 [==============================] - 8s 27ms/step - loss: -0.8767 - cosine_similarity: 0.8969 - mean_absolute_error: 0.0257 - val_loss: -0.8938 - val_cosine_similarity: 0.9116 - val_mean_absolute_error: 0.0234 - lr: 0.0060\n",
      "Epoch 4/200\n",
      "297/297 [==============================] - 8s 28ms/step - loss: -0.8888 - cosine_similarity: 0.9074 - mean_absolute_error: 0.0233 - val_loss: -0.9033 - val_cosine_similarity: 0.9201 - val_mean_absolute_error: 0.0204 - lr: 0.0060\n",
      "Epoch 5/200\n",
      "297/297 [==============================] - 8s 26ms/step - loss: -0.8976 - cosine_similarity: 0.9150 - mean_absolute_error: 0.0216 - val_loss: -0.9132 - val_cosine_similarity: 0.9290 - val_mean_absolute_error: 0.0187 - lr: 0.0060\n",
      "Epoch 6/200\n",
      "297/297 [==============================] - 9s 29ms/step - loss: -0.9061 - cosine_similarity: 0.9226 - mean_absolute_error: 0.0198 - val_loss: -0.9200 - val_cosine_similarity: 0.9348 - val_mean_absolute_error: 0.0174 - lr: 0.0060\n",
      "Epoch 7/200\n",
      "297/297 [==============================] - 8s 26ms/step - loss: -0.9116 - cosine_similarity: 0.9273 - mean_absolute_error: 0.0186 - val_loss: -0.9244 - val_cosine_similarity: 0.9388 - val_mean_absolute_error: 0.0157 - lr: 0.0060\n",
      "Epoch 8/200\n",
      "297/297 [==============================] - 8s 26ms/step - loss: -0.9167 - cosine_similarity: 0.9317 - mean_absolute_error: 0.0176 - val_loss: -0.9291 - val_cosine_similarity: 0.9427 - val_mean_absolute_error: 0.0149 - lr: 0.0060\n",
      "Epoch 9/200\n",
      "297/297 [==============================] - 8s 25ms/step - loss: -0.9204 - cosine_similarity: 0.9349 - mean_absolute_error: 0.0168 - val_loss: -0.9323 - val_cosine_similarity: 0.9454 - val_mean_absolute_error: 0.0145 - lr: 0.0060\n",
      "Epoch 10/200\n",
      "297/297 [==============================] - 8s 27ms/step - loss: -0.9238 - cosine_similarity: 0.9378 - mean_absolute_error: 0.0161 - val_loss: -0.9360 - val_cosine_similarity: 0.9485 - val_mean_absolute_error: 0.0136 - lr: 0.0060\n",
      "Epoch 11/200\n",
      "297/297 [==============================] - 8s 26ms/step - loss: -0.9263 - cosine_similarity: 0.9400 - mean_absolute_error: 0.0155 - val_loss: -0.9383 - val_cosine_similarity: 0.9506 - val_mean_absolute_error: 0.0129 - lr: 0.0060\n",
      "Epoch 12/200\n",
      "297/297 [==============================] - 8s 28ms/step - loss: -0.9290 - cosine_similarity: 0.9423 - mean_absolute_error: 0.0149 - val_loss: -0.9398 - val_cosine_similarity: 0.9518 - val_mean_absolute_error: 0.0127 - lr: 0.0060\n",
      "Epoch 13/200\n",
      "297/297 [==============================] - 8s 27ms/step - loss: -0.9311 - cosine_similarity: 0.9441 - mean_absolute_error: 0.0145 - val_loss: -0.9420 - val_cosine_similarity: 0.9538 - val_mean_absolute_error: 0.0120 - lr: 0.0060\n",
      "Epoch 14/200\n",
      "297/297 [==============================] - 8s 27ms/step - loss: -0.9335 - cosine_similarity: 0.9462 - mean_absolute_error: 0.0140 - val_loss: -0.9441 - val_cosine_similarity: 0.9556 - val_mean_absolute_error: 0.0116 - lr: 0.0060\n",
      "Epoch 15/200\n",
      "297/297 [==============================] - 9s 29ms/step - loss: -0.9355 - cosine_similarity: 0.9479 - mean_absolute_error: 0.0136 - val_loss: -0.9454 - val_cosine_similarity: 0.9565 - val_mean_absolute_error: 0.0113 - lr: 0.0060\n",
      "Epoch 16/200\n",
      "297/297 [==============================] - 8s 28ms/step - loss: -0.9367 - cosine_similarity: 0.9490 - mean_absolute_error: 0.0133 - val_loss: -0.9465 - val_cosine_similarity: 0.9576 - val_mean_absolute_error: 0.0112 - lr: 0.0060\n",
      "Epoch 17/200\n",
      "297/297 [==============================] - 8s 27ms/step - loss: -0.9381 - cosine_similarity: 0.9501 - mean_absolute_error: 0.0130 - val_loss: -0.9478 - val_cosine_similarity: 0.9587 - val_mean_absolute_error: 0.0108 - lr: 0.0060\n",
      "Epoch 18/200\n",
      "297/297 [==============================] - 8s 26ms/step - loss: -0.9392 - cosine_similarity: 0.9511 - mean_absolute_error: 0.0127 - val_loss: -0.9484 - val_cosine_similarity: 0.9592 - val_mean_absolute_error: 0.0106 - lr: 0.0060\n",
      "Epoch 19/200\n",
      "297/297 [==============================] - 8s 26ms/step - loss: -0.9407 - cosine_similarity: 0.9524 - mean_absolute_error: 0.0124 - val_loss: -0.9497 - val_cosine_similarity: 0.9602 - val_mean_absolute_error: 0.0102 - lr: 0.0060\n",
      "Epoch 20/200\n",
      "297/297 [==============================] - 8s 26ms/step - loss: -0.9420 - cosine_similarity: 0.9535 - mean_absolute_error: 0.0121 - val_loss: -0.9517 - val_cosine_similarity: 0.9619 - val_mean_absolute_error: 0.0100 - lr: 0.0060\n",
      "Epoch 21/200\n",
      "297/297 [==============================] - 8s 26ms/step - loss: -0.9437 - cosine_similarity: 0.9550 - mean_absolute_error: 0.0118 - val_loss: -0.9521 - val_cosine_similarity: 0.9623 - val_mean_absolute_error: 0.0097 - lr: 0.0060\n",
      "Epoch 22/200\n",
      "297/297 [==============================] - 8s 26ms/step - loss: -0.9444 - cosine_similarity: 0.9555 - mean_absolute_error: 0.0117 - val_loss: -0.9534 - val_cosine_similarity: 0.9634 - val_mean_absolute_error: 0.0093 - lr: 0.0060\n",
      "Epoch 23/200\n",
      "297/297 [==============================] - 8s 26ms/step - loss: -0.9454 - cosine_similarity: 0.9564 - mean_absolute_error: 0.0114 - val_loss: -0.9542 - val_cosine_similarity: 0.9641 - val_mean_absolute_error: 0.0094 - lr: 0.0060\n",
      "Epoch 24/200\n",
      "297/297 [==============================] - 8s 27ms/step - loss: -0.9462 - cosine_similarity: 0.9572 - mean_absolute_error: 0.0112 - val_loss: -0.9554 - val_cosine_similarity: 0.9651 - val_mean_absolute_error: 0.0092 - lr: 0.0060\n",
      "Epoch 25/200\n",
      "297/297 [==============================] - 7s 25ms/step - loss: -0.9471 - cosine_similarity: 0.9579 - mean_absolute_error: 0.0110 - val_loss: -0.9560 - val_cosine_similarity: 0.9658 - val_mean_absolute_error: 0.0088 - lr: 0.0060\n",
      "Epoch 26/200\n",
      "297/297 [==============================] - 8s 26ms/step - loss: -0.9477 - cosine_similarity: 0.9584 - mean_absolute_error: 0.0109 - val_loss: -0.9568 - val_cosine_similarity: 0.9664 - val_mean_absolute_error: 0.0087 - lr: 0.0060\n",
      "Epoch 27/200\n",
      "297/297 [==============================] - 8s 25ms/step - loss: -0.9488 - cosine_similarity: 0.9594 - mean_absolute_error: 0.0106 - val_loss: -0.9572 - val_cosine_similarity: 0.9666 - val_mean_absolute_error: 0.0087 - lr: 0.0060\n",
      "Epoch 28/200\n",
      "297/297 [==============================] - 8s 27ms/step - loss: -0.9493 - cosine_similarity: 0.9598 - mean_absolute_error: 0.0105 - val_loss: -0.9581 - val_cosine_similarity: 0.9675 - val_mean_absolute_error: 0.0085 - lr: 0.0060\n",
      "Epoch 29/200\n",
      "297/297 [==============================] - 8s 26ms/step - loss: -0.9499 - cosine_similarity: 0.9603 - mean_absolute_error: 0.0104 - val_loss: -0.9584 - val_cosine_similarity: 0.9677 - val_mean_absolute_error: 0.0084 - lr: 0.0060\n",
      "Epoch 30/200\n",
      "297/297 [==============================] - 8s 27ms/step - loss: -0.9513 - cosine_similarity: 0.9615 - mean_absolute_error: 0.0102 - val_loss: -0.9594 - val_cosine_similarity: 0.9686 - val_mean_absolute_error: 0.0080 - lr: 0.0060\n",
      "Epoch 31/200\n",
      "297/297 [==============================] - 7s 25ms/step - loss: -0.9516 - cosine_similarity: 0.9617 - mean_absolute_error: 0.0100 - val_loss: -0.9600 - val_cosine_similarity: 0.9691 - val_mean_absolute_error: 0.0078 - lr: 0.0060\n",
      "Epoch 32/200\n",
      "297/297 [==============================] - 8s 27ms/step - loss: -0.9527 - cosine_similarity: 0.9627 - mean_absolute_error: 0.0098 - val_loss: -0.9602 - val_cosine_similarity: 0.9691 - val_mean_absolute_error: 0.0080 - lr: 0.0060\n",
      "Epoch 33/200\n",
      "297/297 [==============================] - 8s 26ms/step - loss: -0.9528 - cosine_similarity: 0.9627 - mean_absolute_error: 0.0098 - val_loss: -0.9605 - val_cosine_similarity: 0.9696 - val_mean_absolute_error: 0.0077 - lr: 0.0060\n",
      "Epoch 34/200\n",
      "297/297 [==============================] - 8s 26ms/step - loss: -0.9533 - cosine_similarity: 0.9632 - mean_absolute_error: 0.0096 - val_loss: -0.9612 - val_cosine_similarity: 0.9701 - val_mean_absolute_error: 0.0078 - lr: 0.0060\n",
      "Epoch 35/200\n",
      "297/297 [==============================] - 7s 25ms/step - loss: -0.9536 - cosine_similarity: 0.9635 - mean_absolute_error: 0.0096 - val_loss: -0.9618 - val_cosine_similarity: 0.9705 - val_mean_absolute_error: 0.0076 - lr: 0.0060\n",
      "Epoch 36/200\n",
      "297/297 [==============================] - 8s 26ms/step - loss: -0.9545 - cosine_similarity: 0.9642 - mean_absolute_error: 0.0094 - val_loss: -0.9624 - val_cosine_similarity: 0.9712 - val_mean_absolute_error: 0.0073 - lr: 0.0060\n",
      "Epoch 37/200\n",
      "297/297 [==============================] - 8s 27ms/step - loss: -0.9546 - cosine_similarity: 0.9643 - mean_absolute_error: 0.0093 - val_loss: -0.9630 - val_cosine_similarity: 0.9716 - val_mean_absolute_error: 0.0074 - lr: 0.0060\n",
      "Epoch 38/200\n",
      "297/297 [==============================] - 8s 26ms/step - loss: -0.9552 - cosine_similarity: 0.9649 - mean_absolute_error: 0.0092 - val_loss: -0.9632 - val_cosine_similarity: 0.9718 - val_mean_absolute_error: 0.0072 - lr: 0.0060\n",
      "Epoch 39/200\n",
      "297/297 [==============================] - 8s 26ms/step - loss: -0.9556 - cosine_similarity: 0.9652 - mean_absolute_error: 0.0091 - val_loss: -0.9631 - val_cosine_similarity: 0.9716 - val_mean_absolute_error: 0.0073 - lr: 0.0060\n",
      "Epoch 40/200\n",
      "297/297 [==============================] - 8s 26ms/step - loss: -0.9561 - cosine_similarity: 0.9656 - mean_absolute_error: 0.0090 - val_loss: -0.9640 - val_cosine_similarity: 0.9724 - val_mean_absolute_error: 0.0070 - lr: 0.0060\n",
      "Epoch 41/200\n",
      "297/297 [==============================] - 7s 25ms/step - loss: -0.9565 - cosine_similarity: 0.9660 - mean_absolute_error: 0.0089 - val_loss: -0.9646 - val_cosine_similarity: 0.9730 - val_mean_absolute_error: 0.0068 - lr: 0.0060\n",
      "Epoch 42/200\n",
      "297/297 [==============================] - 10s 33ms/step - loss: -0.9570 - cosine_similarity: 0.9664 - mean_absolute_error: 0.0088 - val_loss: -0.9644 - val_cosine_similarity: 0.9728 - val_mean_absolute_error: 0.0068 - lr: 0.0060\n",
      "Epoch 43/200\n",
      "297/297 [==============================] - 10s 34ms/step - loss: -0.9573 - cosine_similarity: 0.9667 - mean_absolute_error: 0.0087 - val_loss: -0.9649 - val_cosine_similarity: 0.9732 - val_mean_absolute_error: 0.0068 - lr: 0.0060\n",
      "Epoch 44/200\n",
      "297/297 [==============================] - 9s 29ms/step - loss: -0.9578 - cosine_similarity: 0.9671 - mean_absolute_error: 0.0086 - val_loss: -0.9655 - val_cosine_similarity: 0.9737 - val_mean_absolute_error: 0.0067 - lr: 0.0060\n",
      "Epoch 45/200\n",
      "297/297 [==============================] - 7s 25ms/step - loss: -0.9586 - cosine_similarity: 0.9677 - mean_absolute_error: 0.0085 - val_loss: -0.9658 - val_cosine_similarity: 0.9740 - val_mean_absolute_error: 0.0066 - lr: 0.0060\n",
      "Epoch 46/200\n",
      "297/297 [==============================] - 8s 26ms/step - loss: -0.9589 - cosine_similarity: 0.9680 - mean_absolute_error: 0.0084 - val_loss: -0.9661 - val_cosine_similarity: 0.9742 - val_mean_absolute_error: 0.0066 - lr: 0.0060\n",
      "Epoch 47/200\n",
      "297/297 [==============================] - 8s 27ms/step - loss: -0.9593 - cosine_similarity: 0.9684 - mean_absolute_error: 0.0083 - val_loss: -0.9664 - val_cosine_similarity: 0.9746 - val_mean_absolute_error: 0.0064 - lr: 0.0060\n",
      "Epoch 48/200\n",
      "297/297 [==============================] - 8s 28ms/step - loss: -0.9595 - cosine_similarity: 0.9686 - mean_absolute_error: 0.0083 - val_loss: -0.9668 - val_cosine_similarity: 0.9750 - val_mean_absolute_error: 0.0062 - lr: 0.0060\n",
      "Epoch 49/200\n",
      "297/297 [==============================] - 8s 28ms/step - loss: -0.9599 - cosine_similarity: 0.9689 - mean_absolute_error: 0.0081 - val_loss: -0.9672 - val_cosine_similarity: 0.9751 - val_mean_absolute_error: 0.0064 - lr: 0.0060\n",
      "Epoch 50/200\n",
      "297/297 [==============================] - 8s 27ms/step - loss: -0.9603 - cosine_similarity: 0.9692 - mean_absolute_error: 0.0081 - val_loss: -0.9671 - val_cosine_similarity: 0.9750 - val_mean_absolute_error: 0.0063 - lr: 0.0060\n",
      "Epoch 51/200\n",
      "297/297 [==============================] - 8s 26ms/step - loss: -0.9601 - cosine_similarity: 0.9690 - mean_absolute_error: 0.0080 - val_loss: -0.9674 - val_cosine_similarity: 0.9754 - val_mean_absolute_error: 0.0061 - lr: 0.0060\n",
      "Epoch 52/200\n",
      "297/297 [==============================] - 8s 28ms/step - loss: -0.9605 - cosine_similarity: 0.9694 - mean_absolute_error: 0.0080 - val_loss: -0.9675 - val_cosine_similarity: 0.9754 - val_mean_absolute_error: 0.0063 - lr: 0.0060\n",
      "Epoch 53/200\n",
      "297/297 [==============================] - 7s 24ms/step - loss: -0.9607 - cosine_similarity: 0.9696 - mean_absolute_error: 0.0079 - val_loss: -0.9675 - val_cosine_similarity: 0.9753 - val_mean_absolute_error: 0.0062 - lr: 0.0060\n",
      "Epoch 54/200\n",
      "297/297 [==============================] - 8s 28ms/step - loss: -0.9637 - cosine_similarity: 0.9722 - mean_absolute_error: 0.0074 - val_loss: -0.9696 - val_cosine_similarity: 0.9772 - val_mean_absolute_error: 0.0057 - lr: 0.0042\n",
      "Epoch 55/200\n",
      "297/297 [==============================] - 10s 32ms/step - loss: -0.9642 - cosine_similarity: 0.9726 - mean_absolute_error: 0.0074 - val_loss: -0.9697 - val_cosine_similarity: 0.9773 - val_mean_absolute_error: 0.0058 - lr: 0.0042\n",
      "Epoch 56/200\n",
      "297/297 [==============================] - 9s 29ms/step - loss: -0.9644 - cosine_similarity: 0.9728 - mean_absolute_error: 0.0074 - val_loss: -0.9700 - val_cosine_similarity: 0.9776 - val_mean_absolute_error: 0.0056 - lr: 0.0042\n",
      "Epoch 57/200\n",
      "297/297 [==============================] - 8s 26ms/step - loss: -0.9647 - cosine_similarity: 0.9730 - mean_absolute_error: 0.0073 - val_loss: -0.9704 - val_cosine_similarity: 0.9780 - val_mean_absolute_error: 0.0055 - lr: 0.0042\n",
      "Epoch 58/200\n",
      "297/297 [==============================] - 8s 26ms/step - loss: -0.9649 - cosine_similarity: 0.9732 - mean_absolute_error: 0.0072 - val_loss: -0.9706 - val_cosine_similarity: 0.9780 - val_mean_absolute_error: 0.0056 - lr: 0.0042\n",
      "Epoch 59/200\n",
      "297/297 [==============================] - 8s 27ms/step - loss: -0.9656 - cosine_similarity: 0.9738 - mean_absolute_error: 0.0071 - val_loss: -0.9705 - val_cosine_similarity: 0.9780 - val_mean_absolute_error: 0.0054 - lr: 0.0042\n",
      "Epoch 60/200\n",
      "297/297 [==============================] - 8s 27ms/step - loss: -0.9670 - cosine_similarity: 0.9750 - mean_absolute_error: 0.0069 - val_loss: -0.9719 - val_cosine_similarity: 0.9792 - val_mean_absolute_error: 0.0053 - lr: 0.0029\n",
      "Epoch 61/200\n",
      "297/297 [==============================] - 9s 31ms/step - loss: -0.9674 - cosine_similarity: 0.9754 - mean_absolute_error: 0.0068 - val_loss: -0.9719 - val_cosine_similarity: 0.9792 - val_mean_absolute_error: 0.0053 - lr: 0.0029\n",
      "Epoch 62/200\n",
      "297/297 [==============================] - 8s 26ms/step - loss: -0.9679 - cosine_similarity: 0.9758 - mean_absolute_error: 0.0068 - val_loss: -0.9724 - val_cosine_similarity: 0.9796 - val_mean_absolute_error: 0.0052 - lr: 0.0029\n",
      "Epoch 63/200\n",
      "297/297 [==============================] - 7s 25ms/step - loss: -0.9678 - cosine_similarity: 0.9757 - mean_absolute_error: 0.0068 - val_loss: -0.9725 - val_cosine_similarity: 0.9796 - val_mean_absolute_error: 0.0052 - lr: 0.0029\n",
      "Epoch 64/200\n",
      "297/297 [==============================] - 7s 25ms/step - loss: -0.9680 - cosine_similarity: 0.9758 - mean_absolute_error: 0.0067 - val_loss: -0.9726 - val_cosine_similarity: 0.9798 - val_mean_absolute_error: 0.0052 - lr: 0.0029\n",
      "Epoch 65/200\n",
      "297/297 [==============================] - 7s 25ms/step - loss: -0.9680 - cosine_similarity: 0.9758 - mean_absolute_error: 0.0067 - val_loss: -0.9728 - val_cosine_similarity: 0.9798 - val_mean_absolute_error: 0.0051 - lr: 0.0029\n",
      "Epoch 66/200\n",
      "297/297 [==============================] - 7s 25ms/step - loss: -0.9683 - cosine_similarity: 0.9761 - mean_absolute_error: 0.0067 - val_loss: -0.9729 - val_cosine_similarity: 0.9799 - val_mean_absolute_error: 0.0051 - lr: 0.0029\n",
      "Epoch 67/200\n",
      "297/297 [==============================] - 7s 24ms/step - loss: -0.9684 - cosine_similarity: 0.9762 - mean_absolute_error: 0.0067 - val_loss: -0.9732 - val_cosine_similarity: 0.9802 - val_mean_absolute_error: 0.0051 - lr: 0.0029\n",
      "Epoch 68/200\n",
      "297/297 [==============================] - 7s 25ms/step - loss: -0.9692 - cosine_similarity: 0.9768 - mean_absolute_error: 0.0065 - val_loss: -0.9735 - val_cosine_similarity: 0.9804 - val_mean_absolute_error: 0.0050 - lr: 0.0029\n",
      "Epoch 69/200\n",
      "297/297 [==============================] - 7s 24ms/step - loss: -0.9691 - cosine_similarity: 0.9767 - mean_absolute_error: 0.0065 - val_loss: -0.9736 - val_cosine_similarity: 0.9806 - val_mean_absolute_error: 0.0049 - lr: 0.0029\n",
      "Epoch 70/200\n",
      "297/297 [==============================] - 7s 25ms/step - loss: -0.9694 - cosine_similarity: 0.9770 - mean_absolute_error: 0.0065 - val_loss: -0.9738 - val_cosine_similarity: 0.9806 - val_mean_absolute_error: 0.0050 - lr: 0.0029\n",
      "Epoch 71/200\n",
      "297/297 [==============================] - 7s 25ms/step - loss: -0.9693 - cosine_similarity: 0.9769 - mean_absolute_error: 0.0065 - val_loss: -0.9735 - val_cosine_similarity: 0.9806 - val_mean_absolute_error: 0.0049 - lr: 0.0029\n",
      "Epoch 72/200\n",
      "297/297 [==============================] - 7s 25ms/step - loss: -0.9703 - cosine_similarity: 0.9778 - mean_absolute_error: 0.0063 - val_loss: -0.9743 - val_cosine_similarity: 0.9811 - val_mean_absolute_error: 0.0048 - lr: 0.0021\n",
      "Epoch 73/200\n",
      "297/297 [==============================] - 7s 25ms/step - loss: -0.9706 - cosine_similarity: 0.9780 - mean_absolute_error: 0.0063 - val_loss: -0.9745 - val_cosine_similarity: 0.9813 - val_mean_absolute_error: 0.0048 - lr: 0.0021\n",
      "Epoch 74/200\n",
      "297/297 [==============================] - 7s 24ms/step - loss: -0.9708 - cosine_similarity: 0.9782 - mean_absolute_error: 0.0062 - val_loss: -0.9745 - val_cosine_similarity: 0.9813 - val_mean_absolute_error: 0.0047 - lr: 0.0021\n",
      "Epoch 75/200\n",
      "297/297 [==============================] - 7s 23ms/step - loss: -0.9708 - cosine_similarity: 0.9781 - mean_absolute_error: 0.0062 - val_loss: -0.9747 - val_cosine_similarity: 0.9814 - val_mean_absolute_error: 0.0048 - lr: 0.0021\n",
      "Epoch 76/200\n",
      "297/297 [==============================] - 7s 22ms/step - loss: -0.9711 - cosine_similarity: 0.9784 - mean_absolute_error: 0.0062 - val_loss: -0.9748 - val_cosine_similarity: 0.9815 - val_mean_absolute_error: 0.0048 - lr: 0.0021\n",
      "Epoch 77/200\n",
      "297/297 [==============================] - 7s 23ms/step - loss: -0.9712 - cosine_similarity: 0.9785 - mean_absolute_error: 0.0062 - val_loss: -0.9749 - val_cosine_similarity: 0.9816 - val_mean_absolute_error: 0.0047 - lr: 0.0021\n",
      "Epoch 78/200\n",
      "297/297 [==============================] - 7s 22ms/step - loss: -0.9714 - cosine_similarity: 0.9787 - mean_absolute_error: 0.0061 - val_loss: -0.9751 - val_cosine_similarity: 0.9817 - val_mean_absolute_error: 0.0047 - lr: 0.0021\n",
      "Epoch 79/200\n",
      "297/297 [==============================] - 7s 24ms/step - loss: -0.9715 - cosine_similarity: 0.9788 - mean_absolute_error: 0.0061 - val_loss: -0.9750 - val_cosine_similarity: 0.9817 - val_mean_absolute_error: 0.0047 - lr: 0.0021\n",
      "Epoch 80/200\n",
      "297/297 [==============================] - 7s 22ms/step - loss: -0.9715 - cosine_similarity: 0.9787 - mean_absolute_error: 0.0061 - val_loss: -0.9752 - val_cosine_similarity: 0.9819 - val_mean_absolute_error: 0.0046 - lr: 0.0021\n",
      "Epoch 81/200\n",
      "297/297 [==============================] - 7s 23ms/step - loss: -0.9716 - cosine_similarity: 0.9789 - mean_absolute_error: 0.0061 - val_loss: -0.9751 - val_cosine_similarity: 0.9817 - val_mean_absolute_error: 0.0046 - lr: 0.0021\n",
      "Epoch 82/200\n",
      "297/297 [==============================] - 7s 24ms/step - loss: -0.9718 - cosine_similarity: 0.9790 - mean_absolute_error: 0.0060 - val_loss: -0.9754 - val_cosine_similarity: 0.9821 - val_mean_absolute_error: 0.0046 - lr: 0.0021\n",
      "Epoch 83/200\n",
      "297/297 [==============================] - 7s 23ms/step - loss: -0.9718 - cosine_similarity: 0.9790 - mean_absolute_error: 0.0060 - val_loss: -0.9754 - val_cosine_similarity: 0.9820 - val_mean_absolute_error: 0.0046 - lr: 0.0021\n",
      "Epoch 84/200\n",
      "297/297 [==============================] - 7s 25ms/step - loss: -0.9721 - cosine_similarity: 0.9792 - mean_absolute_error: 0.0060 - val_loss: -0.9755 - val_cosine_similarity: 0.9820 - val_mean_absolute_error: 0.0046 - lr: 0.0021\n",
      "Epoch 85/200\n",
      "297/297 [==============================] - 7s 23ms/step - loss: -0.9727 - cosine_similarity: 0.9798 - mean_absolute_error: 0.0059 - val_loss: -0.9759 - val_cosine_similarity: 0.9824 - val_mean_absolute_error: 0.0045 - lr: 0.0014\n",
      "Epoch 86/200\n",
      "297/297 [==============================] - 7s 24ms/step - loss: -0.9728 - cosine_similarity: 0.9799 - mean_absolute_error: 0.0058 - val_loss: -0.9761 - val_cosine_similarity: 0.9825 - val_mean_absolute_error: 0.0045 - lr: 0.0014\n",
      "Epoch 87/200\n",
      "297/297 [==============================] - 7s 24ms/step - loss: -0.9730 - cosine_similarity: 0.9800 - mean_absolute_error: 0.0058 - val_loss: -0.9761 - val_cosine_similarity: 0.9826 - val_mean_absolute_error: 0.0044 - lr: 0.0014\n",
      "Epoch 88/200\n",
      "297/297 [==============================] - 8s 26ms/step - loss: -0.9732 - cosine_similarity: 0.9802 - mean_absolute_error: 0.0058 - val_loss: -0.9763 - val_cosine_similarity: 0.9828 - val_mean_absolute_error: 0.0044 - lr: 0.0014\n",
      "Epoch 89/200\n",
      "297/297 [==============================] - 7s 24ms/step - loss: -0.9731 - cosine_similarity: 0.9801 - mean_absolute_error: 0.0058 - val_loss: -0.9762 - val_cosine_similarity: 0.9826 - val_mean_absolute_error: 0.0045 - lr: 0.0014\n",
      "Epoch 90/200\n",
      "297/297 [==============================] - 7s 24ms/step - loss: -0.9732 - cosine_similarity: 0.9802 - mean_absolute_error: 0.0058 - val_loss: -0.9764 - val_cosine_similarity: 0.9828 - val_mean_absolute_error: 0.0044 - lr: 0.0014\n",
      "Epoch 91/200\n",
      "297/297 [==============================] - 7s 24ms/step - loss: -0.9738 - cosine_similarity: 0.9807 - mean_absolute_error: 0.0057 - val_loss: -0.9767 - val_cosine_similarity: 0.9830 - val_mean_absolute_error: 0.0044 - lr: 0.0010\n",
      "Epoch 92/200\n",
      "297/297 [==============================] - 7s 24ms/step - loss: -0.9739 - cosine_similarity: 0.9808 - mean_absolute_error: 0.0057 - val_loss: -0.9768 - val_cosine_similarity: 0.9831 - val_mean_absolute_error: 0.0044 - lr: 0.0010\n",
      "Epoch 93/200\n",
      "297/297 [==============================] - 7s 24ms/step - loss: -0.9739 - cosine_similarity: 0.9808 - mean_absolute_error: 0.0057 - val_loss: -0.9768 - val_cosine_similarity: 0.9832 - val_mean_absolute_error: 0.0043 - lr: 0.0010\n",
      "Epoch 94/200\n",
      "297/297 [==============================] - 7s 25ms/step - loss: -0.9739 - cosine_similarity: 0.9808 - mean_absolute_error: 0.0057 - val_loss: -0.9769 - val_cosine_similarity: 0.9832 - val_mean_absolute_error: 0.0043 - lr: 0.0010\n",
      "Epoch 95/200\n",
      "297/297 [==============================] - 7s 25ms/step - loss: -0.9741 - cosine_similarity: 0.9809 - mean_absolute_error: 0.0057 - val_loss: -0.9771 - val_cosine_similarity: 0.9833 - val_mean_absolute_error: 0.0044 - lr: 0.0010\n",
      "Epoch 96/200\n",
      "297/297 [==============================] - 7s 24ms/step - loss: -0.9741 - cosine_similarity: 0.9809 - mean_absolute_error: 0.0056 - val_loss: -0.9771 - val_cosine_similarity: 0.9834 - val_mean_absolute_error: 0.0043 - lr: 0.0010\n",
      "Epoch 97/200\n",
      "297/297 [==============================] - 8s 28ms/step - loss: -0.9743 - cosine_similarity: 0.9811 - mean_absolute_error: 0.0056 - val_loss: -0.9770 - val_cosine_similarity: 0.9833 - val_mean_absolute_error: 0.0043 - lr: 0.0010\n",
      "Epoch 98/200\n",
      "297/297 [==============================] - 7s 24ms/step - loss: -0.9746 - cosine_similarity: 0.9813 - mean_absolute_error: 0.0056 - val_loss: -0.9772 - val_cosine_similarity: 0.9835 - val_mean_absolute_error: 0.0042 - lr: 7.0589e-04\n",
      "Epoch 99/200\n",
      "297/297 [==============================] - 7s 24ms/step - loss: -0.9747 - cosine_similarity: 0.9814 - mean_absolute_error: 0.0055 - val_loss: -0.9773 - val_cosine_similarity: 0.9836 - val_mean_absolute_error: 0.0042 - lr: 7.0589e-04\n",
      "Epoch 100/200\n",
      "297/297 [==============================] - 7s 25ms/step - loss: -0.9747 - cosine_similarity: 0.9815 - mean_absolute_error: 0.0055 - val_loss: -0.9773 - val_cosine_similarity: 0.9835 - val_mean_absolute_error: 0.0042 - lr: 7.0589e-04\n",
      "Epoch 101/200\n",
      "297/297 [==============================] - 7s 25ms/step - loss: -0.9749 - cosine_similarity: 0.9816 - mean_absolute_error: 0.0055 - val_loss: -0.9775 - val_cosine_similarity: 0.9837 - val_mean_absolute_error: 0.0042 - lr: 4.9413e-04\n",
      "Epoch 102/200\n",
      "297/297 [==============================] - 7s 25ms/step - loss: -0.9751 - cosine_similarity: 0.9818 - mean_absolute_error: 0.0055 - val_loss: -0.9775 - val_cosine_similarity: 0.9837 - val_mean_absolute_error: 0.0042 - lr: 4.9413e-04\n",
      "Epoch 103/200\n",
      "297/297 [==============================] - 7s 24ms/step - loss: -0.9750 - cosine_similarity: 0.9817 - mean_absolute_error: 0.0055 - val_loss: -0.9775 - val_cosine_similarity: 0.9837 - val_mean_absolute_error: 0.0042 - lr: 4.9413e-04\n",
      "Epoch 104/200\n",
      "297/297 [==============================] - 8s 26ms/step - loss: -0.9753 - cosine_similarity: 0.9819 - mean_absolute_error: 0.0054 - val_loss: -0.9776 - val_cosine_similarity: 0.9838 - val_mean_absolute_error: 0.0042 - lr: 3.4589e-04\n",
      "Epoch 105/200\n",
      "297/297 [==============================] - 7s 23ms/step - loss: -0.9753 - cosine_similarity: 0.9819 - mean_absolute_error: 0.0054 - val_loss: -0.9776 - val_cosine_similarity: 0.9838 - val_mean_absolute_error: 0.0042 - lr: 3.4589e-04\n",
      "Epoch 106/200\n",
      "297/297 [==============================] - 7s 25ms/step - loss: -0.9753 - cosine_similarity: 0.9820 - mean_absolute_error: 0.0054 - val_loss: -0.9777 - val_cosine_similarity: 0.9839 - val_mean_absolute_error: 0.0042 - lr: 3.4589e-04\n",
      "Epoch 107/200\n",
      "297/297 [==============================] - 6s 22ms/step - loss: -0.9755 - cosine_similarity: 0.9821 - mean_absolute_error: 0.0054 - val_loss: -0.9778 - val_cosine_similarity: 0.9839 - val_mean_absolute_error: 0.0042 - lr: 2.4212e-04\n",
      "Epoch 108/200\n",
      "297/297 [==============================] - 7s 25ms/step - loss: -0.9754 - cosine_similarity: 0.9820 - mean_absolute_error: 0.0054 - val_loss: -0.9778 - val_cosine_similarity: 0.9839 - val_mean_absolute_error: 0.0042 - lr: 2.4212e-04\n",
      "Epoch 109/200\n",
      "297/297 [==============================] - 7s 23ms/step - loss: -0.9755 - cosine_similarity: 0.9821 - mean_absolute_error: 0.0054 - val_loss: -0.9778 - val_cosine_similarity: 0.9840 - val_mean_absolute_error: 0.0042 - lr: 2.4212e-04\n",
      "Epoch 110/200\n",
      "297/297 [==============================] - 7s 22ms/step - loss: -0.9756 - cosine_similarity: 0.9822 - mean_absolute_error: 0.0054 - val_loss: -0.9779 - val_cosine_similarity: 0.9840 - val_mean_absolute_error: 0.0042 - lr: 1.6949e-04\n",
      "Epoch 111/200\n",
      "297/297 [==============================] - 7s 22ms/step - loss: -0.9756 - cosine_similarity: 0.9822 - mean_absolute_error: 0.0054 - val_loss: -0.9779 - val_cosine_similarity: 0.9840 - val_mean_absolute_error: 0.0042 - lr: 1.6949e-04\n",
      "Epoch 112/200\n",
      "297/297 [==============================] - 6s 21ms/step - loss: -0.9757 - cosine_similarity: 0.9822 - mean_absolute_error: 0.0054 - val_loss: -0.9779 - val_cosine_similarity: 0.9840 - val_mean_absolute_error: 0.0042 - lr: 1.1864e-04\n",
      "Epoch 113/200\n",
      "297/297 [==============================] - 7s 23ms/step - loss: -0.9757 - cosine_similarity: 0.9823 - mean_absolute_error: 0.0054 - val_loss: -0.9779 - val_cosine_similarity: 0.9840 - val_mean_absolute_error: 0.0042 - lr: 1.1864e-04\n",
      "Epoch 114/200\n",
      "297/297 [==============================] - 7s 22ms/step - loss: -0.9757 - cosine_similarity: 0.9823 - mean_absolute_error: 0.0054 - val_loss: -0.9779 - val_cosine_similarity: 0.9841 - val_mean_absolute_error: 0.0041 - lr: 8.3048e-05\n",
      "Epoch 115/200\n",
      "297/297 [==============================] - 7s 23ms/step - loss: -0.9757 - cosine_similarity: 0.9823 - mean_absolute_error: 0.0054 - val_loss: -0.9779 - val_cosine_similarity: 0.9841 - val_mean_absolute_error: 0.0042 - lr: 8.3048e-05\n",
      "Epoch 116/200\n",
      "297/297 [==============================] - 8s 28ms/step - loss: -0.9759 - cosine_similarity: 0.9824 - mean_absolute_error: 0.0054 - val_loss: -0.9780 - val_cosine_similarity: 0.9841 - val_mean_absolute_error: 0.0042 - lr: 8.3048e-05\n",
      "Epoch 117/200\n",
      "297/297 [==============================] - 7s 23ms/step - loss: -0.9758 - cosine_similarity: 0.9823 - mean_absolute_error: 0.0054 - val_loss: -0.9780 - val_cosine_similarity: 0.9841 - val_mean_absolute_error: 0.0041 - lr: 5.8133e-05\n",
      "Epoch 118/200\n",
      "297/297 [==============================] - 7s 24ms/step - loss: -0.9758 - cosine_similarity: 0.9824 - mean_absolute_error: 0.0054 - val_loss: -0.9780 - val_cosine_similarity: 0.9841 - val_mean_absolute_error: 0.0041 - lr: 5.8133e-05\n",
      "Epoch 119/200\n",
      "297/297 [==============================] - 7s 25ms/step - loss: -0.9758 - cosine_similarity: 0.9823 - mean_absolute_error: 0.0054 - val_loss: -0.9780 - val_cosine_similarity: 0.9841 - val_mean_absolute_error: 0.0041 - lr: 5.0000e-05\n",
      "Epoch 120/200\n",
      "297/297 [==============================] - 7s 25ms/step - loss: -0.9758 - cosine_similarity: 0.9823 - mean_absolute_error: 0.0054 - val_loss: -0.9780 - val_cosine_similarity: 0.9841 - val_mean_absolute_error: 0.0041 - lr: 5.0000e-05\n",
      "Epoch 121/200\n",
      "297/297 [==============================] - 7s 24ms/step - loss: -0.9758 - cosine_similarity: 0.9824 - mean_absolute_error: 0.0054 - val_loss: -0.9780 - val_cosine_similarity: 0.9841 - val_mean_absolute_error: 0.0041 - lr: 5.0000e-05\n",
      "Epoch 122/200\n",
      "297/297 [==============================] - 7s 25ms/step - loss: -0.9758 - cosine_similarity: 0.9823 - mean_absolute_error: 0.0054 - val_loss: -0.9780 - val_cosine_similarity: 0.9841 - val_mean_absolute_error: 0.0041 - lr: 5.0000e-05\n",
      "Epoch 123/200\n",
      "297/297 [==============================] - 7s 25ms/step - loss: -0.9758 - cosine_similarity: 0.9823 - mean_absolute_error: 0.0054 - val_loss: -0.9780 - val_cosine_similarity: 0.9841 - val_mean_absolute_error: 0.0041 - lr: 5.0000e-05\n",
      "Epoch 124/200\n",
      "297/297 [==============================] - 7s 24ms/step - loss: -0.9757 - cosine_similarity: 0.9823 - mean_absolute_error: 0.0054 - val_loss: -0.9780 - val_cosine_similarity: 0.9841 - val_mean_absolute_error: 0.0041 - lr: 5.0000e-05\n",
      "Epoch 125/200\n",
      "297/297 [==============================] - 8s 26ms/step - loss: -0.9758 - cosine_similarity: 0.9824 - mean_absolute_error: 0.0053 - val_loss: -0.9780 - val_cosine_similarity: 0.9841 - val_mean_absolute_error: 0.0041 - lr: 5.0000e-05\n",
      "Epoch 126/200\n",
      "297/297 [==============================] - 8s 26ms/step - loss: -0.9758 - cosine_similarity: 0.9824 - mean_absolute_error: 0.0054 - val_loss: -0.9780 - val_cosine_similarity: 0.9841 - val_mean_absolute_error: 0.0041 - lr: 5.0000e-05\n"
     ]
    },
    {
     "data": {
      "text/plain": "<keras.callbacks.History at 0x7fa086586090>"
     },
     "execution_count": 16,
     "metadata": {},
     "output_type": "execute_result"
    }
   ],
   "source": [
    "ae.fit(\n",
    "    train,\n",
    "    train, \n",
    "    batch_size=64,\n",
    "    validation_data=(test,test),\n",
    "    epochs=5 if just_checking_integrity else 200,\n",
    "    shuffle=True,\n",
    "    callbacks=[\n",
    "            tf.keras.callbacks.EarlyStopping(\n",
    "                monitor='cosine_similarity',\n",
    "                patience=10,\n",
    "                restore_best_weights=True,\n",
    "                mode=\"max\"\n",
    "            ),\n",
    "            tf.keras.callbacks.ReduceLROnPlateau(\n",
    "                monitor='val_cosine_similarity',\n",
    "                factor=0.7,\n",
    "                patience=2,\n",
    "                min_lr=5e-5,\n",
    "                mode=\"max\",\n",
    "                min_delta=0.0001,\n",
    "            )\n",
    "        ]\n",
    "    )"
   ]
  },
  {
   "cell_type": "code",
   "execution_count": 17,
   "metadata": {
    "id": "Tg3gvuN8mpzC",
    "ExecuteTime": {
     "end_time": "2024-02-13T16:30:17.553315Z",
     "start_time": "2024-02-13T16:30:16.494288Z"
    }
   },
   "outputs": [],
   "source": [
    "temp=encoder(dataset)"
   ]
  },
  {
   "cell_type": "code",
   "execution_count": 18,
   "metadata": {
    "colab": {
     "base_uri": "https://localhost:8080/"
    },
    "id": "HZTvwE1TLWOG",
    "outputId": "aa30495d-1a9c-4535-bd99-9d6b86031c75",
    "ExecuteTime": {
     "end_time": "2024-02-13T16:30:18.371428Z",
     "start_time": "2024-02-13T16:30:18.355224Z"
    }
   },
   "outputs": [
    {
     "data": {
      "text/plain": "TensorShape([23692, 64])"
     },
     "execution_count": 18,
     "metadata": {},
     "output_type": "execute_result"
    }
   ],
   "source": [
    "temp.shape"
   ]
  },
  {
   "cell_type": "code",
   "execution_count": 19,
   "metadata": {
    "id": "MDa2sbTaROWr",
    "ExecuteTime": {
     "end_time": "2024-02-13T16:30:27.265069Z",
     "start_time": "2024-02-13T16:30:27.231381Z"
    }
   },
   "outputs": [
    {
     "data": {
      "text/plain": "<tf.Tensor: shape=(23692, 64), dtype=float32, numpy=\narray([[-0.02508243, -0.16864689,  0.00922986, ..., -0.10116268,\n         0.00389111, -0.06173776],\n       [-0.14411213,  0.12000129,  0.04996723, ...,  0.2083879 ,\n        -0.02535575,  0.14935218],\n       [-0.09013742, -0.04864637, -0.10119569, ...,  0.08597583,\n        -0.0609637 ,  0.04487924],\n       ...,\n       [-0.11393449,  0.06673345, -0.05424234, ...,  0.10798514,\n        -0.17017786, -0.08226722],\n       [-0.2413577 , -0.01255779, -0.15978378, ..., -0.02866031,\n        -0.20678058, -0.13705134],\n       [ 0.00107431,  0.05251387, -0.0875941 , ..., -0.06650019,\n        -0.05241397,  0.01870323]], dtype=float32)>"
     },
     "execution_count": 19,
     "metadata": {},
     "output_type": "execute_result"
    }
   ],
   "source": [
    "temp"
   ]
  },
  {
   "cell_type": "code",
   "execution_count": 20,
   "metadata": {
    "colab": {
     "base_uri": "https://localhost:8080/"
    },
    "id": "n-ig2ac3nwSt",
    "outputId": "7b1e3aff-f035-40a2-f991-58bb70faa83e",
    "ExecuteTime": {
     "end_time": "2024-02-13T16:30:32.219599Z",
     "start_time": "2024-02-13T16:30:32.195109Z"
    }
   },
   "outputs": [
    {
     "data": {
      "text/plain": "(3.7147017, -3.985494, 0.910715)"
     },
     "execution_count": 20,
     "metadata": {},
     "output_type": "execute_result"
    }
   ],
   "source": [
    "tf.reduce_sum(temp,axis=1).numpy().max(),tf.reduce_sum(temp,axis=1).numpy().min(),tf.reduce_sum(temp,axis=1).numpy().std()"
   ]
  },
  {
   "cell_type": "code",
   "execution_count": 21,
   "metadata": {
    "id": "yb0eE4AX8YsR",
    "ExecuteTime": {
     "end_time": "2024-02-13T16:32:55.777899Z",
     "start_time": "2024-02-13T16:32:54.967758Z"
    }
   },
   "outputs": [],
   "source": [
    "np.save('../dataset/processed_data/compressed_features', encoder(dataset))"
   ]
  }
 ],
 "metadata": {
  "colab": {
   "collapsed_sections": [
    "N4VfhKeUsWxY",
    "HJzIzAFy198k",
    "d3nCfuxMKi8X"
   ],
   "name": "Copia di Recsys_VAE.ipynb",
   "provenance": []
  },
  "kernelspec": {
   "display_name": "Python 3.7.0 ('sub_env')",
   "language": "python",
   "name": "python3"
  },
  "language_info": {
   "codemirror_mode": {
    "name": "ipython",
    "version": 3
   },
   "file_extension": ".py",
   "mimetype": "text/x-python",
   "name": "python",
   "nbconvert_exporter": "python",
   "pygments_lexer": "ipython3",
   "version": "3.7.13"
  },
  "vscode": {
   "interpreter": {
    "hash": "61f38fddaed46afda7c40a5798d4631266e18af1d335aa6f772dc3ed9b8ab549"
   }
  }
 },
 "nbformat": 4,
 "nbformat_minor": 0
}
