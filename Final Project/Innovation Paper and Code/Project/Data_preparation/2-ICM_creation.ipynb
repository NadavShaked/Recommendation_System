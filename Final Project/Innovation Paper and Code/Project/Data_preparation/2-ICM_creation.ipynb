{
 "cells": [
  {
   "cell_type": "code",
   "execution_count": 1,
   "metadata": {
    "ExecuteTime": {
     "end_time": "2024-02-13T15:57:44.124237Z",
     "start_time": "2024-02-13T15:57:43.030342Z"
    }
   },
   "outputs": [],
   "source": [
    "import pandas as pd\n",
    "import os\n",
    "import numpy as np"
   ]
  },
  {
   "cell_type": "code",
   "execution_count": 2,
   "metadata": {
    "collapsed": false,
    "pycharm": {
     "name": "#%%\n"
    },
    "ExecuteTime": {
     "end_time": "2024-02-13T15:57:45.498445Z",
     "start_time": "2024-02-13T15:57:45.438076Z"
    }
   },
   "outputs": [],
   "source": [
    "base_path = '../dataset'\n",
    "\n",
    "original_data = os.path.join(base_path, 'original_data')\n",
    "processed_data = os.path.join(base_path, 'processed_data')"
   ]
  },
  {
   "cell_type": "code",
   "execution_count": 3,
   "metadata": {
    "ExecuteTime": {
     "end_time": "2024-02-13T15:57:46.832979Z",
     "start_time": "2024-02-13T15:57:46.537246Z"
    }
   },
   "outputs": [],
   "source": [
    "features=pd.read_csv(os.path.join(processed_data, \"item_features_mapped.csv\"))\n",
    "features=features[features[\"feature_category_id\"]!=27].copy()#useless category with only one item -> no information to gain"
   ]
  },
  {
   "cell_type": "code",
   "execution_count": 4,
   "metadata": {
    "ExecuteTime": {
     "end_time": "2024-02-13T15:57:47.783374Z",
     "start_time": "2024-02-13T15:57:47.770789Z"
    }
   },
   "outputs": [],
   "source": [
    "features[\"value\"]=1"
   ]
  },
  {
   "cell_type": "code",
   "execution_count": 5,
   "metadata": {
    "ExecuteTime": {
     "end_time": "2024-02-13T15:57:51.588737Z",
     "start_time": "2024-02-13T15:57:51.560248Z"
    }
   },
   "outputs": [
    {
     "data": {
      "text/plain": "471750"
     },
     "execution_count": 5,
     "metadata": {},
     "output_type": "execute_result"
    }
   ],
   "source": [
    "len(features)"
   ]
  },
  {
   "cell_type": "code",
   "execution_count": 6,
   "metadata": {
    "ExecuteTime": {
     "end_time": "2024-02-13T15:57:53.137488Z",
     "start_time": "2024-02-13T15:57:53.093615Z"
    }
   },
   "outputs": [
    {
     "data": {
      "text/plain": "   item_id  feature_category_id  feature_value_id  value\n0    19021                   56               365      1\n1    19021                   62               801      1\n2    19021                   68               351      1\n3    19021                   33               802      1\n4    19021                   72                75      1",
      "text/html": "<div>\n<style scoped>\n    .dataframe tbody tr th:only-of-type {\n        vertical-align: middle;\n    }\n\n    .dataframe tbody tr th {\n        vertical-align: top;\n    }\n\n    .dataframe thead th {\n        text-align: right;\n    }\n</style>\n<table border=\"1\" class=\"dataframe\">\n  <thead>\n    <tr style=\"text-align: right;\">\n      <th></th>\n      <th>item_id</th>\n      <th>feature_category_id</th>\n      <th>feature_value_id</th>\n      <th>value</th>\n    </tr>\n  </thead>\n  <tbody>\n    <tr>\n      <th>0</th>\n      <td>19021</td>\n      <td>56</td>\n      <td>365</td>\n      <td>1</td>\n    </tr>\n    <tr>\n      <th>1</th>\n      <td>19021</td>\n      <td>62</td>\n      <td>801</td>\n      <td>1</td>\n    </tr>\n    <tr>\n      <th>2</th>\n      <td>19021</td>\n      <td>68</td>\n      <td>351</td>\n      <td>1</td>\n    </tr>\n    <tr>\n      <th>3</th>\n      <td>19021</td>\n      <td>33</td>\n      <td>802</td>\n      <td>1</td>\n    </tr>\n    <tr>\n      <th>4</th>\n      <td>19021</td>\n      <td>72</td>\n      <td>75</td>\n      <td>1</td>\n    </tr>\n  </tbody>\n</table>\n</div>"
     },
     "execution_count": 6,
     "metadata": {},
     "output_type": "execute_result"
    }
   ],
   "source": [
    "features.head()"
   ]
  },
  {
   "cell_type": "code",
   "execution_count": 7,
   "metadata": {
    "ExecuteTime": {
     "end_time": "2024-02-13T15:57:54.355778Z",
     "start_time": "2024-02-13T15:57:54.334330Z"
    }
   },
   "outputs": [
    {
     "name": "stdout",
     "output_type": "stream",
     "text": [
      "<class 'pandas.core.frame.DataFrame'>\n",
      "Int64Index: 471750 entries, 0 to 471750\n",
      "Data columns (total 4 columns):\n",
      " #   Column               Non-Null Count   Dtype\n",
      "---  ------               --------------   -----\n",
      " 0   item_id              471750 non-null  int64\n",
      " 1   feature_category_id  471750 non-null  int64\n",
      " 2   feature_value_id     471750 non-null  int64\n",
      " 3   value                471750 non-null  int64\n",
      "dtypes: int64(4)\n",
      "memory usage: 18.0 MB\n"
     ]
    }
   ],
   "source": [
    "features.info()"
   ]
  },
  {
   "cell_type": "code",
   "execution_count": 8,
   "metadata": {
    "ExecuteTime": {
     "end_time": "2024-02-13T15:57:55.512793Z",
     "start_time": "2024-02-13T15:57:55.475725Z"
    }
   },
   "outputs": [
    {
     "name": "stdout",
     "output_type": "stream",
     "text": [
      "min: 1   max: 73\n",
      "length: 72\n"
     ]
    }
   ],
   "source": [
    "feat_categories=features[\"feature_category_id\"].unique()\n",
    "print(\"min:\",min(feat_categories),\"  max:\",max(feat_categories))\n",
    "print(\"length:\", len(feat_categories))"
   ]
  },
  {
   "cell_type": "code",
   "execution_count": 9,
   "metadata": {
    "ExecuteTime": {
     "end_time": "2024-02-13T15:57:57.082742Z",
     "start_time": "2024-02-13T15:57:57.026429Z"
    }
   },
   "outputs": [
    {
     "name": "stdout",
     "output_type": "stream",
     "text": [
      "min: 1   max: 905\n",
      "length: 889\n"
     ]
    }
   ],
   "source": [
    "feat_values=features[\"feature_value_id\"].unique()\n",
    "print(\"min:\",min(feat_values),\"  max:\",max(feat_values))\n",
    "print(\"length:\", len(feat_values))"
   ]
  },
  {
   "cell_type": "code",
   "execution_count": 10,
   "metadata": {
    "ExecuteTime": {
     "end_time": "2024-02-13T15:57:58.535668Z",
     "start_time": "2024-02-13T15:57:58.479630Z"
    }
   },
   "outputs": [
    {
     "data": {
      "text/plain": "feature_category_id\n1       941\n2      2253\n3      9311\n4     14954\n5      9488\n      ...  \n69    20450\n70      807\n71      671\n72    20499\n73    13339\nName: value, Length: 72, dtype: int64"
     },
     "execution_count": 10,
     "metadata": {},
     "output_type": "execute_result"
    }
   ],
   "source": [
    "feat_category_count=features.groupby(\"feature_category_id\")['value'].count()\n",
    "feat_category_count # In how many items the feature is present"
   ]
  },
  {
   "cell_type": "code",
   "execution_count": 11,
   "metadata": {
    "ExecuteTime": {
     "end_time": "2024-02-13T15:57:59.875926Z",
     "start_time": "2024-02-13T15:57:59.871626Z"
    }
   },
   "outputs": [
    {
     "name": "stdout",
     "output_type": "stream",
     "text": [
      "min: 137   max: 23691\n",
      "length: 72\n"
     ]
    }
   ],
   "source": [
    "print(\"min:\",min(feat_category_count),\"  max:\",max(feat_category_count))\n",
    "print(\"length:\", len(feat_category_count))"
   ]
  },
  {
   "cell_type": "code",
   "execution_count": 12,
   "metadata": {
    "ExecuteTime": {
     "end_time": "2024-02-13T15:58:00.939263Z",
     "start_time": "2024-02-13T15:58:00.926407Z"
    }
   },
   "outputs": [
    {
     "data": {
      "text/plain": "feature_category_id\n9     137\n13    137\n54    341\nName: value, dtype: int64"
     },
     "execution_count": 12,
     "metadata": {},
     "output_type": "execute_result"
    }
   ],
   "source": [
    "feat_category_count[feat_category_count<500] #features that appears in less than 500 items"
   ]
  },
  {
   "cell_type": "code",
   "execution_count": 13,
   "metadata": {
    "ExecuteTime": {
     "end_time": "2024-02-13T15:58:01.678275Z",
     "start_time": "2024-02-13T15:58:01.609342Z"
    }
   },
   "outputs": [
    {
     "data": {
      "text/plain": "feature_category_id\n7     20416\n47    23691\n50    23077\n56    23691\n61    22512\n68    23038\n69    20450\n72    20499\nName: value, dtype: int64"
     },
     "execution_count": 13,
     "metadata": {},
     "output_type": "execute_result"
    }
   ],
   "source": [
    "feat_category_count[feat_category_count>20000] # features that appears in more than 20000 items"
   ]
  },
  {
   "cell_type": "code",
   "execution_count": 14,
   "metadata": {
    "ExecuteTime": {
     "end_time": "2024-02-13T15:58:02.435369Z",
     "start_time": "2024-02-13T15:58:02.337015Z"
    }
   },
   "outputs": [],
   "source": [
    "features_category=features[[\"item_id\",\"feature_category_id\"]].copy()"
   ]
  },
  {
   "cell_type": "code",
   "execution_count": 15,
   "metadata": {
    "ExecuteTime": {
     "end_time": "2024-02-13T15:58:03.190758Z",
     "start_time": "2024-02-13T15:58:03.104310Z"
    }
   },
   "outputs": [
    {
     "data": {
      "text/plain": "feature_value_id\n1         6\n2      1700\n3       164\n4        91\n5        49\n       ... \n901    5494\n902    6875\n903      37\n904      14\n905       2\nName: value, Length: 889, dtype: int64"
     },
     "execution_count": 15,
     "metadata": {},
     "output_type": "execute_result"
    }
   ],
   "source": [
    "feat_value_count=features.groupby(\"feature_value_id\")['value'].count()\n",
    "feat_value_count # In how many items the feature is present"
   ]
  },
  {
   "cell_type": "code",
   "execution_count": 16,
   "metadata": {
    "ExecuteTime": {
     "end_time": "2024-02-13T15:58:03.883240Z",
     "start_time": "2024-02-13T15:58:03.836354Z"
    }
   },
   "outputs": [
    {
     "name": "stdout",
     "output_type": "stream",
     "text": [
      "min: 1   max: 19472\n",
      "length: 889\n"
     ]
    }
   ],
   "source": [
    "print(\"min:\",min(feat_value_count),\"  max:\",max(feat_value_count))\n",
    "print(\"length:\", len(feat_value_count))"
   ]
  },
  {
   "cell_type": "code",
   "execution_count": 17,
   "metadata": {
    "ExecuteTime": {
     "end_time": "2024-02-13T15:58:04.693593Z",
     "start_time": "2024-02-13T15:58:04.658266Z"
    }
   },
   "outputs": [
    {
     "data": {
      "text/plain": "feature_value_id\n1       6\n8       5\n16      7\n19      1\n21      2\n       ..\n888     1\n891     2\n894    18\n904    14\n905     2\nName: value, Length: 281, dtype: int64"
     },
     "execution_count": 17,
     "metadata": {},
     "output_type": "execute_result"
    }
   ],
   "source": [
    "feat_value_count[feat_value_count<20]"
   ]
  },
  {
   "cell_type": "code",
   "execution_count": 18,
   "metadata": {
    "ExecuteTime": {
     "end_time": "2024-02-13T15:58:05.536353Z",
     "start_time": "2024-02-13T15:58:05.322053Z"
    }
   },
   "outputs": [
    {
     "data": {
      "text/plain": "Series([], Name: value, dtype: int64)"
     },
     "execution_count": 18,
     "metadata": {},
     "output_type": "execute_result"
    }
   ],
   "source": [
    "feat_value_count[feat_value_count>20000] # features that appears in more than 20000 items"
   ]
  },
  {
   "cell_type": "code",
   "execution_count": 19,
   "metadata": {
    "ExecuteTime": {
     "end_time": "2024-02-13T15:58:06.439768Z",
     "start_time": "2024-02-13T15:58:06.324745Z"
    }
   },
   "outputs": [
    {
     "data": {
      "text/plain": "     feature_category_id  feature_value_id  value\n0                      1                60      1\n1                      1               143     10\n2                      1               358      2\n3                      1               461    924\n4                      1               517      2\n..                   ...               ...    ...\n898                   72               751     55\n899                   72               829    405\n900                   72               883     65\n901                   73                91   2381\n902                   73               544  10958\n\n[903 rows x 3 columns]",
      "text/html": "<div>\n<style scoped>\n    .dataframe tbody tr th:only-of-type {\n        vertical-align: middle;\n    }\n\n    .dataframe tbody tr th {\n        vertical-align: top;\n    }\n\n    .dataframe thead th {\n        text-align: right;\n    }\n</style>\n<table border=\"1\" class=\"dataframe\">\n  <thead>\n    <tr style=\"text-align: right;\">\n      <th></th>\n      <th>feature_category_id</th>\n      <th>feature_value_id</th>\n      <th>value</th>\n    </tr>\n  </thead>\n  <tbody>\n    <tr>\n      <th>0</th>\n      <td>1</td>\n      <td>60</td>\n      <td>1</td>\n    </tr>\n    <tr>\n      <th>1</th>\n      <td>1</td>\n      <td>143</td>\n      <td>10</td>\n    </tr>\n    <tr>\n      <th>2</th>\n      <td>1</td>\n      <td>358</td>\n      <td>2</td>\n    </tr>\n    <tr>\n      <th>3</th>\n      <td>1</td>\n      <td>461</td>\n      <td>924</td>\n    </tr>\n    <tr>\n      <th>4</th>\n      <td>1</td>\n      <td>517</td>\n      <td>2</td>\n    </tr>\n    <tr>\n      <th>...</th>\n      <td>...</td>\n      <td>...</td>\n      <td>...</td>\n    </tr>\n    <tr>\n      <th>898</th>\n      <td>72</td>\n      <td>751</td>\n      <td>55</td>\n    </tr>\n    <tr>\n      <th>899</th>\n      <td>72</td>\n      <td>829</td>\n      <td>405</td>\n    </tr>\n    <tr>\n      <th>900</th>\n      <td>72</td>\n      <td>883</td>\n      <td>65</td>\n    </tr>\n    <tr>\n      <th>901</th>\n      <td>73</td>\n      <td>91</td>\n      <td>2381</td>\n    </tr>\n    <tr>\n      <th>902</th>\n      <td>73</td>\n      <td>544</td>\n      <td>10958</td>\n    </tr>\n  </tbody>\n</table>\n<p>903 rows × 3 columns</p>\n</div>"
     },
     "execution_count": 19,
     "metadata": {},
     "output_type": "execute_result"
    }
   ],
   "source": [
    "feats=features.groupby([\"feature_category_id\",\"feature_value_id\"])[\"value\"].count().reset_index()\n",
    "feats # For the given feature category, how many items have the value specified in feature_value_id?"
   ]
  },
  {
   "cell_type": "code",
   "execution_count": 20,
   "metadata": {
    "ExecuteTime": {
     "end_time": "2024-02-13T15:58:07.811645Z",
     "start_time": "2024-02-13T15:58:07.789169Z"
    }
   },
   "outputs": [
    {
     "data": {
      "text/plain": "     feature_category_id  feature_value_id  value\n636                   56               365  19472\n877                   72                75  12582\n715                   61               706  12353\n190                   17               378  11939\n742                   63               861  11651",
      "text/html": "<div>\n<style scoped>\n    .dataframe tbody tr th:only-of-type {\n        vertical-align: middle;\n    }\n\n    .dataframe tbody tr th {\n        vertical-align: top;\n    }\n\n    .dataframe thead th {\n        text-align: right;\n    }\n</style>\n<table border=\"1\" class=\"dataframe\">\n  <thead>\n    <tr style=\"text-align: right;\">\n      <th></th>\n      <th>feature_category_id</th>\n      <th>feature_value_id</th>\n      <th>value</th>\n    </tr>\n  </thead>\n  <tbody>\n    <tr>\n      <th>636</th>\n      <td>56</td>\n      <td>365</td>\n      <td>19472</td>\n    </tr>\n    <tr>\n      <th>877</th>\n      <td>72</td>\n      <td>75</td>\n      <td>12582</td>\n    </tr>\n    <tr>\n      <th>715</th>\n      <td>61</td>\n      <td>706</td>\n      <td>12353</td>\n    </tr>\n    <tr>\n      <th>190</th>\n      <td>17</td>\n      <td>378</td>\n      <td>11939</td>\n    </tr>\n    <tr>\n      <th>742</th>\n      <td>63</td>\n      <td>861</td>\n      <td>11651</td>\n    </tr>\n  </tbody>\n</table>\n</div>"
     },
     "execution_count": 20,
     "metadata": {},
     "output_type": "execute_result"
    }
   ],
   "source": [
    "feats=feats.sort_values(by=\"value\",ascending=False)\n",
    "feats\n",
    "feats.head()"
   ]
  },
  {
   "cell_type": "code",
   "execution_count": 21,
   "metadata": {
    "ExecuteTime": {
     "end_time": "2024-02-13T15:58:08.668265Z",
     "start_time": "2024-02-13T15:58:08.623157Z"
    }
   },
   "outputs": [
    {
     "data": {
      "text/plain": "903"
     },
     "execution_count": 21,
     "metadata": {},
     "output_type": "execute_result"
    }
   ],
   "source": [
    "len(feats)"
   ]
  },
  {
   "cell_type": "code",
   "execution_count": 22,
   "metadata": {
    "ExecuteTime": {
     "end_time": "2024-02-13T15:58:09.158327Z",
     "start_time": "2024-02-13T15:58:09.105892Z"
    }
   },
   "outputs": [
    {
     "data": {
      "text/plain": "     feature_category_id  feature_value_id  value\n175                   14               888      1\n406                   39               137      1\n418                   40               697      1\n56                     5               257      1\n0                      1                60      1",
      "text/html": "<div>\n<style scoped>\n    .dataframe tbody tr th:only-of-type {\n        vertical-align: middle;\n    }\n\n    .dataframe tbody tr th {\n        vertical-align: top;\n    }\n\n    .dataframe thead th {\n        text-align: right;\n    }\n</style>\n<table border=\"1\" class=\"dataframe\">\n  <thead>\n    <tr style=\"text-align: right;\">\n      <th></th>\n      <th>feature_category_id</th>\n      <th>feature_value_id</th>\n      <th>value</th>\n    </tr>\n  </thead>\n  <tbody>\n    <tr>\n      <th>175</th>\n      <td>14</td>\n      <td>888</td>\n      <td>1</td>\n    </tr>\n    <tr>\n      <th>406</th>\n      <td>39</td>\n      <td>137</td>\n      <td>1</td>\n    </tr>\n    <tr>\n      <th>418</th>\n      <td>40</td>\n      <td>697</td>\n      <td>1</td>\n    </tr>\n    <tr>\n      <th>56</th>\n      <td>5</td>\n      <td>257</td>\n      <td>1</td>\n    </tr>\n    <tr>\n      <th>0</th>\n      <td>1</td>\n      <td>60</td>\n      <td>1</td>\n    </tr>\n  </tbody>\n</table>\n</div>"
     },
     "execution_count": 22,
     "metadata": {},
     "output_type": "execute_result"
    }
   ],
   "source": [
    "feats.tail()"
   ]
  },
  {
   "cell_type": "code",
   "execution_count": 23,
   "metadata": {
    "ExecuteTime": {
     "end_time": "2024-02-13T15:58:09.864384Z",
     "start_time": "2024-02-13T15:58:09.511077Z"
    }
   },
   "outputs": [
    {
     "data": {
      "text/plain": "340"
     },
     "execution_count": 23,
     "metadata": {},
     "output_type": "execute_result"
    }
   ],
   "source": [
    "len(feats[feats[\"value\"]<30])"
   ]
  },
  {
   "cell_type": "code",
   "execution_count": 24,
   "metadata": {
    "ExecuteTime": {
     "end_time": "2024-02-13T15:58:10.145225Z",
     "start_time": "2024-02-13T15:58:09.803964Z"
    }
   },
   "outputs": [],
   "source": [
    "feats=feats[feats[\"value\"]>=30]"
   ]
  },
  {
   "cell_type": "code",
   "execution_count": 25,
   "metadata": {
    "ExecuteTime": {
     "end_time": "2024-02-13T15:58:10.438939Z",
     "start_time": "2024-02-13T15:58:10.295561Z"
    }
   },
   "outputs": [],
   "source": [
    "feats=feats.reset_index()\n",
    "feats[\"feature_idx\"]=feats.index"
   ]
  },
  {
   "cell_type": "code",
   "execution_count": 26,
   "metadata": {
    "ExecuteTime": {
     "end_time": "2024-02-13T15:58:10.764769Z",
     "start_time": "2024-02-13T15:58:10.714765Z"
    }
   },
   "outputs": [
    {
     "data": {
      "text/plain": "     index  feature_category_id  feature_value_id  value  feature_idx\n0      636                   56               365  19472            0\n1      877                   72                75  12582            1\n2      715                   61               706  12353            2\n3      190                   17               378  11939            3\n4      742                   63               861  11651            4\n..     ...                  ...               ...    ...          ...\n558     90                    7               463     31          558\n559    749                   64               762     30          559\n560    113                    9               369     30          560\n561     28                    2               841     30          561\n562     17                    2               343     30          562\n\n[563 rows x 5 columns]",
      "text/html": "<div>\n<style scoped>\n    .dataframe tbody tr th:only-of-type {\n        vertical-align: middle;\n    }\n\n    .dataframe tbody tr th {\n        vertical-align: top;\n    }\n\n    .dataframe thead th {\n        text-align: right;\n    }\n</style>\n<table border=\"1\" class=\"dataframe\">\n  <thead>\n    <tr style=\"text-align: right;\">\n      <th></th>\n      <th>index</th>\n      <th>feature_category_id</th>\n      <th>feature_value_id</th>\n      <th>value</th>\n      <th>feature_idx</th>\n    </tr>\n  </thead>\n  <tbody>\n    <tr>\n      <th>0</th>\n      <td>636</td>\n      <td>56</td>\n      <td>365</td>\n      <td>19472</td>\n      <td>0</td>\n    </tr>\n    <tr>\n      <th>1</th>\n      <td>877</td>\n      <td>72</td>\n      <td>75</td>\n      <td>12582</td>\n      <td>1</td>\n    </tr>\n    <tr>\n      <th>2</th>\n      <td>715</td>\n      <td>61</td>\n      <td>706</td>\n      <td>12353</td>\n      <td>2</td>\n    </tr>\n    <tr>\n      <th>3</th>\n      <td>190</td>\n      <td>17</td>\n      <td>378</td>\n      <td>11939</td>\n      <td>3</td>\n    </tr>\n    <tr>\n      <th>4</th>\n      <td>742</td>\n      <td>63</td>\n      <td>861</td>\n      <td>11651</td>\n      <td>4</td>\n    </tr>\n    <tr>\n      <th>...</th>\n      <td>...</td>\n      <td>...</td>\n      <td>...</td>\n      <td>...</td>\n      <td>...</td>\n    </tr>\n    <tr>\n      <th>558</th>\n      <td>90</td>\n      <td>7</td>\n      <td>463</td>\n      <td>31</td>\n      <td>558</td>\n    </tr>\n    <tr>\n      <th>559</th>\n      <td>749</td>\n      <td>64</td>\n      <td>762</td>\n      <td>30</td>\n      <td>559</td>\n    </tr>\n    <tr>\n      <th>560</th>\n      <td>113</td>\n      <td>9</td>\n      <td>369</td>\n      <td>30</td>\n      <td>560</td>\n    </tr>\n    <tr>\n      <th>561</th>\n      <td>28</td>\n      <td>2</td>\n      <td>841</td>\n      <td>30</td>\n      <td>561</td>\n    </tr>\n    <tr>\n      <th>562</th>\n      <td>17</td>\n      <td>2</td>\n      <td>343</td>\n      <td>30</td>\n      <td>562</td>\n    </tr>\n  </tbody>\n</table>\n<p>563 rows × 5 columns</p>\n</div>"
     },
     "execution_count": 26,
     "metadata": {},
     "output_type": "execute_result"
    }
   ],
   "source": [
    "feats"
   ]
  },
  {
   "cell_type": "code",
   "execution_count": 27,
   "metadata": {
    "ExecuteTime": {
     "end_time": "2024-02-13T15:58:12.113315Z",
     "start_time": "2024-02-13T15:58:11.932637Z"
    }
   },
   "outputs": [],
   "source": [
    "feats[[\"feature_category_id\",\"feature_value_id\",\"feature_idx\"]].to_csv(os.path.join(processed_data,\"feature_mapped_30.csv\"), index=False)"
   ]
  },
  {
   "cell_type": "code",
   "execution_count": 28,
   "metadata": {
    "collapsed": false,
    "pycharm": {
     "name": "#%%\n"
    },
    "ExecuteTime": {
     "end_time": "2024-02-13T15:58:13.734766Z",
     "start_time": "2024-02-13T15:58:13.693990Z"
    }
   },
   "outputs": [
    {
     "data": {
      "text/plain": "     index  feature_category_id  feature_value_id  value  feature_idx\n0      636                   56               365  19472            0\n1      877                   72                75  12582            1\n2      715                   61               706  12353            2\n3      190                   17               378  11939            3\n4      742                   63               861  11651            4\n..     ...                  ...               ...    ...          ...\n558     90                    7               463     31          558\n559    749                   64               762     30          559\n560    113                    9               369     30          560\n561     28                    2               841     30          561\n562     17                    2               343     30          562\n\n[563 rows x 5 columns]",
      "text/html": "<div>\n<style scoped>\n    .dataframe tbody tr th:only-of-type {\n        vertical-align: middle;\n    }\n\n    .dataframe tbody tr th {\n        vertical-align: top;\n    }\n\n    .dataframe thead th {\n        text-align: right;\n    }\n</style>\n<table border=\"1\" class=\"dataframe\">\n  <thead>\n    <tr style=\"text-align: right;\">\n      <th></th>\n      <th>index</th>\n      <th>feature_category_id</th>\n      <th>feature_value_id</th>\n      <th>value</th>\n      <th>feature_idx</th>\n    </tr>\n  </thead>\n  <tbody>\n    <tr>\n      <th>0</th>\n      <td>636</td>\n      <td>56</td>\n      <td>365</td>\n      <td>19472</td>\n      <td>0</td>\n    </tr>\n    <tr>\n      <th>1</th>\n      <td>877</td>\n      <td>72</td>\n      <td>75</td>\n      <td>12582</td>\n      <td>1</td>\n    </tr>\n    <tr>\n      <th>2</th>\n      <td>715</td>\n      <td>61</td>\n      <td>706</td>\n      <td>12353</td>\n      <td>2</td>\n    </tr>\n    <tr>\n      <th>3</th>\n      <td>190</td>\n      <td>17</td>\n      <td>378</td>\n      <td>11939</td>\n      <td>3</td>\n    </tr>\n    <tr>\n      <th>4</th>\n      <td>742</td>\n      <td>63</td>\n      <td>861</td>\n      <td>11651</td>\n      <td>4</td>\n    </tr>\n    <tr>\n      <th>...</th>\n      <td>...</td>\n      <td>...</td>\n      <td>...</td>\n      <td>...</td>\n      <td>...</td>\n    </tr>\n    <tr>\n      <th>558</th>\n      <td>90</td>\n      <td>7</td>\n      <td>463</td>\n      <td>31</td>\n      <td>558</td>\n    </tr>\n    <tr>\n      <th>559</th>\n      <td>749</td>\n      <td>64</td>\n      <td>762</td>\n      <td>30</td>\n      <td>559</td>\n    </tr>\n    <tr>\n      <th>560</th>\n      <td>113</td>\n      <td>9</td>\n      <td>369</td>\n      <td>30</td>\n      <td>560</td>\n    </tr>\n    <tr>\n      <th>561</th>\n      <td>28</td>\n      <td>2</td>\n      <td>841</td>\n      <td>30</td>\n      <td>561</td>\n    </tr>\n    <tr>\n      <th>562</th>\n      <td>17</td>\n      <td>2</td>\n      <td>343</td>\n      <td>30</td>\n      <td>562</td>\n    </tr>\n  </tbody>\n</table>\n<p>563 rows × 5 columns</p>\n</div>"
     },
     "execution_count": 28,
     "metadata": {},
     "output_type": "execute_result"
    }
   ],
   "source": [
    "feats"
   ]
  },
  {
   "cell_type": "code",
   "execution_count": 29,
   "metadata": {
    "collapsed": false,
    "pycharm": {
     "name": "#%%\n"
    },
    "ExecuteTime": {
     "end_time": "2024-02-13T15:58:15.264509Z",
     "start_time": "2024-02-13T15:58:15.262094Z"
    }
   },
   "outputs": [],
   "source": [
    "feats_map = feats[[\"feature_category_id\",\"feature_value_id\",\"feature_idx\"]]"
   ]
  },
  {
   "cell_type": "code",
   "execution_count": 30,
   "metadata": {
    "ExecuteTime": {
     "end_time": "2024-02-13T15:58:16.214163Z",
     "start_time": "2024-02-13T15:58:16.195651Z"
    }
   },
   "outputs": [
    {
     "data": {
      "text/plain": "     feature_category_id  feature_value_id  feature_idx\n0                     56               365            0\n1                     72                75            1\n2                     61               706            2\n3                     17               378            3\n4                     63               861            4\n..                   ...               ...          ...\n558                    7               463          558\n559                   64               762          559\n560                    9               369          560\n561                    2               841          561\n562                    2               343          562\n\n[563 rows x 3 columns]",
      "text/html": "<div>\n<style scoped>\n    .dataframe tbody tr th:only-of-type {\n        vertical-align: middle;\n    }\n\n    .dataframe tbody tr th {\n        vertical-align: top;\n    }\n\n    .dataframe thead th {\n        text-align: right;\n    }\n</style>\n<table border=\"1\" class=\"dataframe\">\n  <thead>\n    <tr style=\"text-align: right;\">\n      <th></th>\n      <th>feature_category_id</th>\n      <th>feature_value_id</th>\n      <th>feature_idx</th>\n    </tr>\n  </thead>\n  <tbody>\n    <tr>\n      <th>0</th>\n      <td>56</td>\n      <td>365</td>\n      <td>0</td>\n    </tr>\n    <tr>\n      <th>1</th>\n      <td>72</td>\n      <td>75</td>\n      <td>1</td>\n    </tr>\n    <tr>\n      <th>2</th>\n      <td>61</td>\n      <td>706</td>\n      <td>2</td>\n    </tr>\n    <tr>\n      <th>3</th>\n      <td>17</td>\n      <td>378</td>\n      <td>3</td>\n    </tr>\n    <tr>\n      <th>4</th>\n      <td>63</td>\n      <td>861</td>\n      <td>4</td>\n    </tr>\n    <tr>\n      <th>...</th>\n      <td>...</td>\n      <td>...</td>\n      <td>...</td>\n    </tr>\n    <tr>\n      <th>558</th>\n      <td>7</td>\n      <td>463</td>\n      <td>558</td>\n    </tr>\n    <tr>\n      <th>559</th>\n      <td>64</td>\n      <td>762</td>\n      <td>559</td>\n    </tr>\n    <tr>\n      <th>560</th>\n      <td>9</td>\n      <td>369</td>\n      <td>560</td>\n    </tr>\n    <tr>\n      <th>561</th>\n      <td>2</td>\n      <td>841</td>\n      <td>561</td>\n    </tr>\n    <tr>\n      <th>562</th>\n      <td>2</td>\n      <td>343</td>\n      <td>562</td>\n    </tr>\n  </tbody>\n</table>\n<p>563 rows × 3 columns</p>\n</div>"
     },
     "execution_count": 30,
     "metadata": {},
     "output_type": "execute_result"
    }
   ],
   "source": [
    "feats_map"
   ]
  },
  {
   "cell_type": "code",
   "execution_count": 31,
   "metadata": {
    "ExecuteTime": {
     "end_time": "2024-02-13T15:58:17.355323Z",
     "start_time": "2024-02-13T15:58:17.169436Z"
    }
   },
   "outputs": [],
   "source": [
    "features_mapped=features.merge(feats_map,how=\"left\",on=[\"feature_category_id\",\"feature_value_id\"])"
   ]
  },
  {
   "cell_type": "code",
   "execution_count": 32,
   "metadata": {
    "ExecuteTime": {
     "end_time": "2024-02-13T15:58:18.654412Z",
     "start_time": "2024-02-13T15:58:18.534666Z"
    }
   },
   "outputs": [],
   "source": [
    "features_category=features_mapped[[\"item_id\",\"feature_category_id\"]].copy()\n",
    "features_category=features_category.drop_duplicates()"
   ]
  },
  {
   "cell_type": "code",
   "execution_count": 33,
   "metadata": {
    "ExecuteTime": {
     "end_time": "2024-02-13T15:58:19.343592Z",
     "start_time": "2024-02-13T15:58:19.293692Z"
    }
   },
   "outputs": [
    {
     "data": {
      "text/plain": "   item_id  feature_idx\n0    19021        618.0\n1    19021        624.0\n2    19021        630.0\n3    19021        595.0\n4    19021        634.0",
      "text/html": "<div>\n<style scoped>\n    .dataframe tbody tr th:only-of-type {\n        vertical-align: middle;\n    }\n\n    .dataframe tbody tr th {\n        vertical-align: top;\n    }\n\n    .dataframe thead th {\n        text-align: right;\n    }\n</style>\n<table border=\"1\" class=\"dataframe\">\n  <thead>\n    <tr style=\"text-align: right;\">\n      <th></th>\n      <th>item_id</th>\n      <th>feature_idx</th>\n    </tr>\n  </thead>\n  <tbody>\n    <tr>\n      <th>0</th>\n      <td>19021</td>\n      <td>618.0</td>\n    </tr>\n    <tr>\n      <th>1</th>\n      <td>19021</td>\n      <td>624.0</td>\n    </tr>\n    <tr>\n      <th>2</th>\n      <td>19021</td>\n      <td>630.0</td>\n    </tr>\n    <tr>\n      <th>3</th>\n      <td>19021</td>\n      <td>595.0</td>\n    </tr>\n    <tr>\n      <th>4</th>\n      <td>19021</td>\n      <td>634.0</td>\n    </tr>\n  </tbody>\n</table>\n</div>"
     },
     "execution_count": 33,
     "metadata": {},
     "output_type": "execute_result"
    }
   ],
   "source": [
    "features_category=features_category.rename(columns={\"feature_category_id\":\"feature_idx\"})\n",
    "features_category[\"feature_idx\"]+=np.max(features_mapped[\"feature_idx\"])\n",
    "features_category.head()\n"
   ]
  },
  {
   "cell_type": "code",
   "execution_count": 34,
   "metadata": {
    "ExecuteTime": {
     "end_time": "2024-02-13T15:58:20.593940Z",
     "start_time": "2024-02-13T15:58:20.575173Z"
    }
   },
   "outputs": [],
   "source": [
    "features_category[\"feature_idx\"]=features_category[\"feature_idx\"].astype(\"int32\")"
   ]
  },
  {
   "cell_type": "code",
   "execution_count": 35,
   "metadata": {
    "ExecuteTime": {
     "end_time": "2024-02-13T15:58:21.477933Z",
     "start_time": "2024-02-13T15:58:21.465847Z"
    }
   },
   "outputs": [],
   "source": [
    "features_mapped=features_mapped[[\"item_id\",\"feature_idx\"]]"
   ]
  },
  {
   "cell_type": "code",
   "execution_count": 36,
   "metadata": {
    "ExecuteTime": {
     "end_time": "2024-02-13T15:58:22.833563Z",
     "start_time": "2024-02-13T15:58:22.737737Z"
    }
   },
   "outputs": [
    {
     "name": "stdout",
     "output_type": "stream",
     "text": [
      "<class 'pandas.core.frame.DataFrame'>\n",
      "Int64Index: 471750 entries, 0 to 471749\n",
      "Data columns (total 2 columns):\n",
      " #   Column       Non-Null Count   Dtype  \n",
      "---  ------       --------------   -----  \n",
      " 0   item_id      471750 non-null  int64  \n",
      " 1   feature_idx  468683 non-null  float64\n",
      "dtypes: float64(1), int64(1)\n",
      "memory usage: 10.8 MB\n"
     ]
    }
   ],
   "source": [
    "features_mapped.info()"
   ]
  },
  {
   "cell_type": "code",
   "execution_count": 37,
   "metadata": {
    "ExecuteTime": {
     "end_time": "2024-02-13T15:58:24.282299Z",
     "start_time": "2024-02-13T15:58:24.274207Z"
    }
   },
   "outputs": [
    {
     "data": {
      "text/plain": "        item_id  feature_idx\n0         19021          618\n1         19021          624\n2         19021          630\n3         19021          595\n4         19021          634\n...         ...          ...\n471745    19020          630\n471746    19020          617\n471747    19020          573\n471748    19020          635\n471749    19020          609\n\n[461381 rows x 2 columns]",
      "text/html": "<div>\n<style scoped>\n    .dataframe tbody tr th:only-of-type {\n        vertical-align: middle;\n    }\n\n    .dataframe tbody tr th {\n        vertical-align: top;\n    }\n\n    .dataframe thead th {\n        text-align: right;\n    }\n</style>\n<table border=\"1\" class=\"dataframe\">\n  <thead>\n    <tr style=\"text-align: right;\">\n      <th></th>\n      <th>item_id</th>\n      <th>feature_idx</th>\n    </tr>\n  </thead>\n  <tbody>\n    <tr>\n      <th>0</th>\n      <td>19021</td>\n      <td>618</td>\n    </tr>\n    <tr>\n      <th>1</th>\n      <td>19021</td>\n      <td>624</td>\n    </tr>\n    <tr>\n      <th>2</th>\n      <td>19021</td>\n      <td>630</td>\n    </tr>\n    <tr>\n      <th>3</th>\n      <td>19021</td>\n      <td>595</td>\n    </tr>\n    <tr>\n      <th>4</th>\n      <td>19021</td>\n      <td>634</td>\n    </tr>\n    <tr>\n      <th>...</th>\n      <td>...</td>\n      <td>...</td>\n    </tr>\n    <tr>\n      <th>471745</th>\n      <td>19020</td>\n      <td>630</td>\n    </tr>\n    <tr>\n      <th>471746</th>\n      <td>19020</td>\n      <td>617</td>\n    </tr>\n    <tr>\n      <th>471747</th>\n      <td>19020</td>\n      <td>573</td>\n    </tr>\n    <tr>\n      <th>471748</th>\n      <td>19020</td>\n      <td>635</td>\n    </tr>\n    <tr>\n      <th>471749</th>\n      <td>19020</td>\n      <td>609</td>\n    </tr>\n  </tbody>\n</table>\n<p>461381 rows × 2 columns</p>\n</div>"
     },
     "execution_count": 37,
     "metadata": {},
     "output_type": "execute_result"
    }
   ],
   "source": [
    "features_category"
   ]
  },
  {
   "cell_type": "code",
   "execution_count": 38,
   "metadata": {
    "ExecuteTime": {
     "end_time": "2024-02-13T15:58:25.527599Z",
     "start_time": "2024-02-13T15:58:25.503542Z"
    }
   },
   "outputs": [
    {
     "name": "stdout",
     "output_type": "stream",
     "text": [
      "<class 'pandas.core.frame.DataFrame'>\n",
      "Int64Index: 471750 entries, 0 to 471749\n",
      "Data columns (total 2 columns):\n",
      " #   Column       Non-Null Count   Dtype  \n",
      "---  ------       --------------   -----  \n",
      " 0   item_id      471750 non-null  int64  \n",
      " 1   feature_idx  468683 non-null  float64\n",
      "dtypes: float64(1), int64(1)\n",
      "memory usage: 10.8 MB\n"
     ]
    }
   ],
   "source": [
    "features_mapped.info()"
   ]
  },
  {
   "cell_type": "code",
   "execution_count": 39,
   "metadata": {
    "ExecuteTime": {
     "end_time": "2024-02-13T15:58:27.934174Z",
     "start_time": "2024-02-13T15:58:27.889894Z"
    }
   },
   "outputs": [],
   "source": [
    "features_mapped.dropna(inplace=True)"
   ]
  },
  {
   "cell_type": "code",
   "execution_count": 40,
   "metadata": {
    "ExecuteTime": {
     "end_time": "2024-02-13T15:58:28.727684Z",
     "start_time": "2024-02-13T15:58:28.699521Z"
    }
   },
   "outputs": [],
   "source": [
    "features_mapped=features_mapped[[\"item_id\",\"feature_idx\"]]\n",
    "features_mapped[\"feature_idx\"]=features_mapped[\"feature_idx\"].astype(\"int32\")"
   ]
  },
  {
   "cell_type": "code",
   "execution_count": 41,
   "metadata": {
    "ExecuteTime": {
     "end_time": "2024-02-13T15:58:30.274770Z",
     "start_time": "2024-02-13T15:58:30.155423Z"
    }
   },
   "outputs": [
    {
     "name": "stdout",
     "output_type": "stream",
     "text": [
      "<class 'pandas.core.frame.DataFrame'>\n",
      "Int64Index: 468683 entries, 0 to 471749\n",
      "Data columns (total 2 columns):\n",
      " #   Column       Non-Null Count   Dtype\n",
      "---  ------       --------------   -----\n",
      " 0   item_id      468683 non-null  int64\n",
      " 1   feature_idx  468683 non-null  int32\n",
      "dtypes: int32(1), int64(1)\n",
      "memory usage: 8.9 MB\n"
     ]
    }
   ],
   "source": [
    "features_mapped.info()"
   ]
  },
  {
   "cell_type": "code",
   "execution_count": 42,
   "metadata": {
    "pycharm": {
     "name": "#%%\n"
    },
    "ExecuteTime": {
     "end_time": "2024-02-13T15:58:33.236245Z",
     "start_time": "2024-02-13T15:58:32.038238Z"
    }
   },
   "outputs": [],
   "source": [
    "features_mapped.to_csv(os.path.join(processed_data,\"simplified_features_30.csv\"),index=False)"
   ]
  },
  {
   "cell_type": "code",
   "execution_count": 43,
   "metadata": {
    "ExecuteTime": {
     "end_time": "2024-02-13T15:58:36.069806Z",
     "start_time": "2024-02-13T15:58:34.047381Z"
    }
   },
   "outputs": [],
   "source": [
    "pd.concat([features_mapped,features_category]).to_csv(os.path.join(processed_data,\"simplified_features_and_categories_30.csv\"),index=False)"
   ]
  },
  {
   "cell_type": "code",
   "execution_count": 44,
   "metadata": {
    "ExecuteTime": {
     "end_time": "2024-02-13T15:58:36.129907Z",
     "start_time": "2024-02-13T15:58:36.073310Z"
    }
   },
   "outputs": [
    {
     "data": {
      "text/plain": "        item_id  feature_idx\n0         19021            0\n1         19021           22\n2         19021           15\n3         19021          446\n4         19021            1\n...         ...          ...\n471745    19020          630\n471746    19020          617\n471747    19020          573\n471748    19020          635\n471749    19020          609\n\n[930064 rows x 2 columns]",
      "text/html": "<div>\n<style scoped>\n    .dataframe tbody tr th:only-of-type {\n        vertical-align: middle;\n    }\n\n    .dataframe tbody tr th {\n        vertical-align: top;\n    }\n\n    .dataframe thead th {\n        text-align: right;\n    }\n</style>\n<table border=\"1\" class=\"dataframe\">\n  <thead>\n    <tr style=\"text-align: right;\">\n      <th></th>\n      <th>item_id</th>\n      <th>feature_idx</th>\n    </tr>\n  </thead>\n  <tbody>\n    <tr>\n      <th>0</th>\n      <td>19021</td>\n      <td>0</td>\n    </tr>\n    <tr>\n      <th>1</th>\n      <td>19021</td>\n      <td>22</td>\n    </tr>\n    <tr>\n      <th>2</th>\n      <td>19021</td>\n      <td>15</td>\n    </tr>\n    <tr>\n      <th>3</th>\n      <td>19021</td>\n      <td>446</td>\n    </tr>\n    <tr>\n      <th>4</th>\n      <td>19021</td>\n      <td>1</td>\n    </tr>\n    <tr>\n      <th>...</th>\n      <td>...</td>\n      <td>...</td>\n    </tr>\n    <tr>\n      <th>471745</th>\n      <td>19020</td>\n      <td>630</td>\n    </tr>\n    <tr>\n      <th>471746</th>\n      <td>19020</td>\n      <td>617</td>\n    </tr>\n    <tr>\n      <th>471747</th>\n      <td>19020</td>\n      <td>573</td>\n    </tr>\n    <tr>\n      <th>471748</th>\n      <td>19020</td>\n      <td>635</td>\n    </tr>\n    <tr>\n      <th>471749</th>\n      <td>19020</td>\n      <td>609</td>\n    </tr>\n  </tbody>\n</table>\n<p>930064 rows × 2 columns</p>\n</div>"
     },
     "execution_count": 44,
     "metadata": {},
     "output_type": "execute_result"
    }
   ],
   "source": [
    "pd.concat([features_mapped,features_category])"
   ]
  }
 ],
 "metadata": {
  "kernelspec": {
   "display_name": "Python 3.7.0 ('sub_env')",
   "language": "python",
   "name": "python3"
  },
  "language_info": {
   "codemirror_mode": {
    "name": "ipython",
    "version": 3
   },
   "file_extension": ".py",
   "mimetype": "text/x-python",
   "name": "python",
   "nbconvert_exporter": "python",
   "pygments_lexer": "ipython3",
   "version": "3.7.13"
  },
  "orig_nbformat": 4,
  "vscode": {
   "interpreter": {
    "hash": "61f38fddaed46afda7c40a5798d4631266e18af1d335aa6f772dc3ed9b8ab549"
   }
  }
 },
 "nbformat": 4,
 "nbformat_minor": 2
}
