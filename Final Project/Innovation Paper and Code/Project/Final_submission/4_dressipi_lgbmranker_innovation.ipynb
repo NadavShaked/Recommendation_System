{
  "cells": [
    {
      "cell_type": "code",
      "execution_count": null,
      "id": "ac9a115d",
      "metadata": {
        "id": "ac9a115d"
      },
      "outputs": [],
      "source": [
        "just_checking_integrity=False"
      ]
    },
    {
      "cell_type": "code",
      "execution_count": null,
      "id": "0cd378b3",
      "metadata": {
        "execution": {
          "iopub.execute_input": "2022-06-12T16:53:58.434177Z",
          "iopub.status.busy": "2022-06-12T16:53:58.433031Z",
          "iopub.status.idle": "2022-06-12T16:53:58.520198Z",
          "shell.execute_reply": "2022-06-12T16:53:58.519411Z",
          "shell.execute_reply.started": "2022-06-12T16:44:12.113125Z"
        },
        "papermill": {
          "duration": 0.141538,
          "end_time": "2022-06-12T16:53:58.520370",
          "exception": false,
          "start_time": "2022-06-12T16:53:58.378832",
          "status": "completed"
        },
        "tags": [],
        "id": "0cd378b3"
      },
      "outputs": [],
      "source": [
        "import gc\n",
        "import pandas as pd\n",
        "import scipy.sparse as sps\n",
        "import numpy as np"
      ]
    },
    {
      "cell_type": "code",
      "source": [
        "from google.colab import drive\n",
        "drive.mount('/content/drive')"
      ],
      "metadata": {
        "colab": {
          "base_uri": "https://localhost:8080/"
        },
        "id": "bHu58p4aW63K",
        "outputId": "189d08a7-10f5-4672-c55d-ae9340332d47"
      },
      "id": "bHu58p4aW63K",
      "execution_count": null,
      "outputs": [
        {
          "output_type": "stream",
          "name": "stdout",
          "text": [
            "Mounted at /content/drive\n"
          ]
        }
      ]
    },
    {
      "cell_type": "code",
      "execution_count": null,
      "id": "e4676f00",
      "metadata": {
        "execution": {
          "iopub.execute_input": "2022-06-12T16:53:58.624435Z",
          "iopub.status.busy": "2022-06-12T16:53:58.623807Z",
          "iopub.status.idle": "2022-06-12T16:53:58.715256Z",
          "shell.execute_reply": "2022-06-12T16:53:58.715776Z",
          "shell.execute_reply.started": "2022-06-12T16:44:12.151138Z"
        },
        "papermill": {
          "duration": 0.146009,
          "end_time": "2022-06-12T16:53:58.715990",
          "exception": false,
          "start_time": "2022-06-12T16:53:58.569981",
          "status": "completed"
        },
        "tags": [],
        "id": "e4676f00"
      },
      "outputs": [],
      "source": [
        "ranker_types = ['xgboost', 'lightgbm', 'catboost']\n",
        "model_types = ['graph_and_lstm', 'all_traditional_and_lstm']\n",
        "dataset_types = ['leaderboard', 'final']\n",
        "\n",
        "models_ranking_dict = {}\n",
        "\n",
        "for ranker_type in ranker_types:\n",
        "    for model_type in model_types:\n",
        "        if ranker_type == 'catboost' and model_type == 'all_traditional_and_lstm':\n",
        "            break\n",
        "        for dataset_type in dataset_types:\n",
        "            key = f'{ranker_type}_{model_type}_{dataset_type}'\n",
        "            models_ranking_dict[key] = pd.read_csv(f'./drive/MyDrive/Recommendation_system/rankers/{ranker_type}/{model_type}/{dataset_type}/{dataset_type}_sub.csv')"
      ]
    },
    {
      "cell_type": "code",
      "source": [
        "purchased_in_sessions_dict = {}\n",
        "for dataset_type in dataset_types:\n",
        "    purchased_in_sessions_dict[dataset_type] = pd.read_csv(f'./drive/MyDrive/Recommendation_system/dataset/original_data/test_{dataset_type}_purchases.csv')\n",
        "    purchased_in_sessions_dict[dataset_type] = purchased_in_sessions_dict[dataset_type].drop('date', axis=1)"
      ],
      "metadata": {
        "id": "g4FgpN_b39Aa"
      },
      "id": "g4FgpN_b39Aa",
      "execution_count": null,
      "outputs": []
    },
    {
      "cell_type": "code",
      "source": [
        "for dataset_type in dataset_types:\n",
        "    for ranker_type in ranker_types:\n",
        "        for model_type in model_types:\n",
        "            if ranker_type == 'catboost' and model_type == 'all_traditional_and_lstm':\n",
        "                break\n",
        "\n",
        "            purchased_df_col_name = f'{ranker_type}_{model_type}'\n",
        "            ranking_df_key = f'{purchased_df_col_name}_{dataset_type}'\n",
        "\n",
        "            purchased_df = purchased_in_sessions_dict[dataset_type]\n",
        "            ranking_df = models_ranking_dict[ranking_df_key]\n",
        "\n",
        "            purchased_df = pd.merge(purchased_df, ranking_df, left_on=['session_id', 'item_id'], right_on=['session_id', 'item_id'], how='left')\n",
        "            purchased_df = purchased_df.rename(columns={'rank': purchased_df_col_name})\n",
        "\n",
        "            purchased_in_sessions_dict[dataset_type] = purchased_df"
      ],
      "metadata": {
        "id": "AttsQbmuNrGe"
      },
      "id": "AttsQbmuNrGe",
      "execution_count": null,
      "outputs": []
    },
    {
      "cell_type": "code",
      "source": [
        "for dataset_type in dataset_types:\n",
        "    print('dataset type:', dataset_type)\n",
        "    print()\n",
        "    for ranker_type in ranker_types:\n",
        "        for model_type in model_types:\n",
        "            if ranker_type == 'catboost' and model_type == 'all_traditional_and_lstm':\n",
        "                break\n",
        "\n",
        "            purchased_df_col_name = f'{ranker_type}_{model_type}'\n",
        "\n",
        "            model_ranking = np.array(purchased_in_sessions_dict[dataset_type][purchased_df_col_name])\n",
        "            mrr = np.nansum(1 / model_ranking) / len(model_ranking)\n",
        "\n",
        "            print(f'mrr for model {purchased_df_col_name}:', mrr)\n",
        "\n",
        "    print('-----------------------------------------------')"
      ],
      "metadata": {
        "colab": {
          "base_uri": "https://localhost:8080/"
        },
        "id": "D6WWEM2BZv9Y",
        "outputId": "f15fb0bf-0b7d-43f2-9cce-3f038ac85c02"
      },
      "id": "D6WWEM2BZv9Y",
      "execution_count": null,
      "outputs": [
        {
          "output_type": "stream",
          "name": "stdout",
          "text": [
            "dataset type: leaderboard\n",
            "\n",
            "mrr for model xgboost_graph_and_lstm: 0.18970638849931315\n",
            "mrr for model xgboost_all_traditional_and_lstm: 0.19261181912533581\n",
            "mrr for model lightgbm_graph_and_lstm: 0.1918612865955328\n",
            "mrr for model lightgbm_all_traditional_and_lstm: 0.19465534076005214\n",
            "mrr for model catboost_graph_and_lstm: 0.19149389407521758\n",
            "-----------------------------------------------\n",
            "dataset type: final\n",
            "\n",
            "mrr for model xgboost_graph_and_lstm: 0.19146008249415708\n",
            "mrr for model xgboost_all_traditional_and_lstm: 0.19459936818624246\n",
            "mrr for model lightgbm_graph_and_lstm: 0.19299816460638367\n",
            "mrr for model lightgbm_all_traditional_and_lstm: 0.19635226966331254\n",
            "mrr for model catboost_graph_and_lstm: 0.1928642719579282\n",
            "-----------------------------------------------\n"
          ]
        }
      ]
    },
    {
      "cell_type": "code",
      "source": [
        "# Calculation for mrr if we were know which model will bring the best rank for the recommendation\n",
        "\n",
        "for dataset_type in dataset_types:\n",
        "    print('dataset type:', dataset_type)\n",
        "    print()\n",
        "    best_combination_off_all_models_together = np.array(purchased_in_sessions_dict[dataset_type].drop(columns=['session_id', 'item_id'])).min(axis=1)\n",
        "    mrr = np.nansum(1 / best_combination_off_all_models_together) / len(best_combination_off_all_models_together)\n",
        "\n",
        "    print('best_combination_off_all_models_together', mrr)\n",
        "    print('-----------------------------------------------')"
      ],
      "metadata": {
        "colab": {
          "base_uri": "https://localhost:8080/"
        },
        "id": "oSmaHZQSbhRx",
        "outputId": "f609f5bd-7623-4b5e-b1bf-fa3809b9f196"
      },
      "id": "oSmaHZQSbhRx",
      "execution_count": null,
      "outputs": [
        {
          "output_type": "stream",
          "name": "stdout",
          "text": [
            "dataset type: leaderboard\n",
            "\n",
            "best_combination_off_all_models_together 0.2135278655465982\n",
            "-----------------------------------------------\n",
            "dataset type: final\n",
            "\n",
            "best_combination_off_all_models_together 0.21521620795792307\n",
            "-----------------------------------------------\n"
          ]
        }
      ]
    },
    {
      "cell_type": "code",
      "source": [
        "from itertools import combinations\n",
        "\n",
        "for dataset_type in dataset_types:\n",
        "    model_options = []\n",
        "    for ranker_type in ranker_types:\n",
        "        for model_type in model_types:\n",
        "            if ranker_type == 'catboost' and model_type == 'all_traditional_and_lstm':\n",
        "                break\n",
        "\n",
        "            purchased_df_col_name = f'{ranker_type}_{model_type}'\n",
        "            ranking_df_key = f'{purchased_df_col_name}_{dataset_type}'\n",
        "\n",
        "            model_options.append(ranking_df_key)\n",
        "\n",
        "    # Generate all combinations\n",
        "    all_combinations = []\n",
        "    for r in range(1, len(model_options) + 1):\n",
        "        all_combinations.extend(list(combinations(model_options, r)))\n",
        "\n",
        "    all_combinations = [comb for comb in all_combinations if len(comb) > 1]\n",
        "\n",
        "    for combination in all_combinations:\n",
        "        ranks_df = None\n",
        "\n",
        "        for model_key in combination:\n",
        "            models_ranking_df = models_ranking_dict[model_key]\n",
        "            if ranks_df is not None:\n",
        "                ranks_df = pd.merge(ranks_df, models_ranking_df, left_on=['session_id', 'item_id'], right_on=['session_id', 'item_id'], how='outer').fillna(0)\n",
        "                ranks_df['rank'] = ranks_df['rank_x'] + ranks_df['rank_y']\n",
        "                ranks_df = ranks_df.drop(columns=['rank_x', 'rank_y'])\n",
        "            else:\n",
        "                ranks_df = models_ranking_df\n",
        "\n",
        "        ranks_df['rank'] = ranks_df.groupby('session_id')['rank'].rank(method='first')\n",
        "        ranks_df = ranks_df[ranks_df['rank'] <= 100]\n",
        "\n",
        "        combined_models = '_&_'.join(combination)\n",
        "        purchased_df = purchased_in_sessions_dict[dataset_type]\n",
        "        purchased_df = pd.merge(purchased_df, ranks_df, left_on=['session_id', 'item_id'], right_on=['session_id', 'item_id'], how='left')\n",
        "        purchased_df = purchased_df.rename(columns={'rank': combined_models})\n",
        "        purchased_in_sessions_dict[dataset_type] = purchased_df"
      ],
      "metadata": {
        "id": "5TgddteeuXm-"
      },
      "id": "5TgddteeuXm-",
      "execution_count": null,
      "outputs": []
    },
    {
      "cell_type": "code",
      "source": [
        "values_to_remove = ['session_id', 'item_id']\n",
        "\n",
        "best_model = {}\n",
        "\n",
        "for dataset_type in dataset_types:\n",
        "    model_combinations = [x for x in purchased_in_sessions_dict[dataset_type].keys() if x not in values_to_remove]\n",
        "\n",
        "    print('dataset type:', dataset_type)\n",
        "    print()\n",
        "\n",
        "    best_model_name = 'None'\n",
        "    best_model_mrr = 0\n",
        "    for model_combination in model_combinations:\n",
        "        model_ranking = np.array(purchased_in_sessions_dict[dataset_type][model_combination])\n",
        "        mrr = np.nansum(1 / model_ranking) / len(model_ranking)\n",
        "\n",
        "        print(f'mrr for model {model_combination}:', mrr)\n",
        "\n",
        "        if best_model_mrr < mrr:\n",
        "            best_model_mrr = mrr\n",
        "            best_model_name = model_combination\n",
        "\n",
        "    best_model[dataset_type] = {\n",
        "        'name': best_model_name,\n",
        "        'mrr': best_model_mrr\n",
        "    }\n",
        "\n",
        "    print('---------------------------------------------------------------------------------------------------------------------------------------------')"
      ],
      "metadata": {
        "colab": {
          "base_uri": "https://localhost:8080/"
        },
        "id": "8LxQmtjLrsVW",
        "outputId": "55b28e41-cd90-4354-bcdb-8c4b62c41785"
      },
      "id": "8LxQmtjLrsVW",
      "execution_count": null,
      "outputs": [
        {
          "output_type": "stream",
          "name": "stdout",
          "text": [
            "dataset type: leaderboard\n",
            "\n",
            "mrr for model xgboost_graph_and_lstm: 0.18970638849931315\n",
            "mrr for model xgboost_all_traditional_and_lstm: 0.19261181912533581\n",
            "mrr for model lightgbm_graph_and_lstm: 0.1918612865955328\n",
            "mrr for model lightgbm_all_traditional_and_lstm: 0.19465534076005214\n",
            "mrr for model catboost_graph_and_lstm: 0.19149389407521758\n",
            "mrr for model xgboost_graph_and_lstm_leaderboard_&_xgboost_all_traditional_and_lstm_leaderboard: 0.18961156509107527\n",
            "mrr for model xgboost_graph_and_lstm_leaderboard_&_lightgbm_graph_and_lstm_leaderboard: 0.1902036315294364\n",
            "mrr for model xgboost_graph_and_lstm_leaderboard_&_lightgbm_all_traditional_and_lstm_leaderboard: 0.19069652369104065\n",
            "mrr for model xgboost_graph_and_lstm_leaderboard_&_catboost_graph_and_lstm_leaderboard: 0.1901533160746555\n",
            "mrr for model xgboost_all_traditional_and_lstm_leaderboard_&_lightgbm_graph_and_lstm_leaderboard: 0.19175721502532048\n",
            "mrr for model xgboost_all_traditional_and_lstm_leaderboard_&_lightgbm_all_traditional_and_lstm_leaderboard: 0.19328028487437762\n",
            "mrr for model xgboost_all_traditional_and_lstm_leaderboard_&_catboost_graph_and_lstm_leaderboard: 0.19163747116447347\n",
            "mrr for model lightgbm_graph_and_lstm_leaderboard_&_lightgbm_all_traditional_and_lstm_leaderboard: 0.19220685696682874\n",
            "mrr for model lightgbm_graph_and_lstm_leaderboard_&_catboost_graph_and_lstm_leaderboard: 0.19177446506659052\n",
            "mrr for model lightgbm_all_traditional_and_lstm_leaderboard_&_catboost_graph_and_lstm_leaderboard: 0.1932732901626669\n",
            "mrr for model xgboost_graph_and_lstm_leaderboard_&_xgboost_all_traditional_and_lstm_leaderboard_&_lightgbm_graph_and_lstm_leaderboard: 0.1900778957353707\n",
            "mrr for model xgboost_graph_and_lstm_leaderboard_&_xgboost_all_traditional_and_lstm_leaderboard_&_lightgbm_all_traditional_and_lstm_leaderboard: 0.19224369150967924\n",
            "mrr for model xgboost_graph_and_lstm_leaderboard_&_xgboost_all_traditional_and_lstm_leaderboard_&_catboost_graph_and_lstm_leaderboard: 0.18951842549026177\n",
            "mrr for model xgboost_graph_and_lstm_leaderboard_&_lightgbm_graph_and_lstm_leaderboard_&_lightgbm_all_traditional_and_lstm_leaderboard: 0.19109718413521568\n",
            "mrr for model xgboost_graph_and_lstm_leaderboard_&_lightgbm_graph_and_lstm_leaderboard_&_catboost_graph_and_lstm_leaderboard: 0.19119853305741472\n",
            "mrr for model xgboost_graph_and_lstm_leaderboard_&_lightgbm_all_traditional_and_lstm_leaderboard_&_catboost_graph_and_lstm_leaderboard: 0.19081719182781703\n",
            "mrr for model xgboost_all_traditional_and_lstm_leaderboard_&_lightgbm_graph_and_lstm_leaderboard_&_lightgbm_all_traditional_and_lstm_leaderboard: 0.19296230249631907\n",
            "mrr for model xgboost_all_traditional_and_lstm_leaderboard_&_lightgbm_graph_and_lstm_leaderboard_&_catboost_graph_and_lstm_leaderboard: 0.19043531387815682\n",
            "mrr for model xgboost_all_traditional_and_lstm_leaderboard_&_lightgbm_all_traditional_and_lstm_leaderboard_&_catboost_graph_and_lstm_leaderboard: 0.1928937456484423\n",
            "mrr for model lightgbm_graph_and_lstm_leaderboard_&_lightgbm_all_traditional_and_lstm_leaderboard_&_catboost_graph_and_lstm_leaderboard: 0.19118307666958714\n",
            "mrr for model xgboost_graph_and_lstm_leaderboard_&_xgboost_all_traditional_and_lstm_leaderboard_&_lightgbm_graph_and_lstm_leaderboard_&_lightgbm_all_traditional_and_lstm_leaderboard: 0.1910253533180257\n",
            "mrr for model xgboost_graph_and_lstm_leaderboard_&_xgboost_all_traditional_and_lstm_leaderboard_&_lightgbm_graph_and_lstm_leaderboard_&_catboost_graph_and_lstm_leaderboard: 0.1884536089588304\n",
            "mrr for model xgboost_graph_and_lstm_leaderboard_&_xgboost_all_traditional_and_lstm_leaderboard_&_lightgbm_all_traditional_and_lstm_leaderboard_&_catboost_graph_and_lstm_leaderboard: 0.19065902091319814\n",
            "mrr for model xgboost_graph_and_lstm_leaderboard_&_lightgbm_graph_and_lstm_leaderboard_&_lightgbm_all_traditional_and_lstm_leaderboard_&_catboost_graph_and_lstm_leaderboard: 0.18960539194318532\n",
            "mrr for model xgboost_all_traditional_and_lstm_leaderboard_&_lightgbm_graph_and_lstm_leaderboard_&_lightgbm_all_traditional_and_lstm_leaderboard_&_catboost_graph_and_lstm_leaderboard: 0.19210889732714492\n",
            "mrr for model xgboost_graph_and_lstm_leaderboard_&_xgboost_all_traditional_and_lstm_leaderboard_&_lightgbm_graph_and_lstm_leaderboard_&_lightgbm_all_traditional_and_lstm_leaderboard_&_catboost_graph_and_lstm_leaderboard: 0.1903222340662562\n",
            "---------------------------------------------------------------------------------------------------------------------------------------------\n",
            "dataset type: final\n",
            "\n",
            "mrr for model xgboost_graph_and_lstm: 0.19146008249415708\n",
            "mrr for model xgboost_all_traditional_and_lstm: 0.19459936818624246\n",
            "mrr for model lightgbm_graph_and_lstm: 0.19299816460638367\n",
            "mrr for model lightgbm_all_traditional_and_lstm: 0.19635226966331254\n",
            "mrr for model catboost_graph_and_lstm: 0.1928642719579282\n",
            "mrr for model xgboost_graph_and_lstm_final_&_xgboost_all_traditional_and_lstm_final: 0.19168781938847512\n",
            "mrr for model xgboost_graph_and_lstm_final_&_lightgbm_graph_and_lstm_final: 0.19196441320290236\n",
            "mrr for model xgboost_graph_and_lstm_final_&_lightgbm_all_traditional_and_lstm_final: 0.19269964317988972\n",
            "mrr for model xgboost_graph_and_lstm_final_&_catboost_graph_and_lstm_final: 0.1918326011587926\n",
            "mrr for model xgboost_all_traditional_and_lstm_final_&_lightgbm_graph_and_lstm_final: 0.1939749106003983\n",
            "mrr for model xgboost_all_traditional_and_lstm_final_&_lightgbm_all_traditional_and_lstm_final: 0.19537025054285495\n",
            "mrr for model xgboost_all_traditional_and_lstm_final_&_catboost_graph_and_lstm_final: 0.19389718884206256\n",
            "mrr for model lightgbm_graph_and_lstm_final_&_lightgbm_all_traditional_and_lstm_final: 0.19384347520318662\n",
            "mrr for model lightgbm_graph_and_lstm_final_&_catboost_graph_and_lstm_final: 0.19307245620126884\n",
            "mrr for model lightgbm_all_traditional_and_lstm_final_&_catboost_graph_and_lstm_final: 0.1951555390081418\n",
            "mrr for model xgboost_graph_and_lstm_final_&_xgboost_all_traditional_and_lstm_final_&_lightgbm_graph_and_lstm_final: 0.19202007679901667\n",
            "mrr for model xgboost_graph_and_lstm_final_&_xgboost_all_traditional_and_lstm_final_&_lightgbm_all_traditional_and_lstm_final: 0.1942084870877846\n",
            "mrr for model xgboost_graph_and_lstm_final_&_xgboost_all_traditional_and_lstm_final_&_catboost_graph_and_lstm_final: 0.19165161787796384\n",
            "mrr for model xgboost_graph_and_lstm_final_&_lightgbm_graph_and_lstm_final_&_lightgbm_all_traditional_and_lstm_final: 0.19285201556846862\n",
            "mrr for model xgboost_graph_and_lstm_final_&_lightgbm_graph_and_lstm_final_&_catboost_graph_and_lstm_final: 0.19263187770224985\n",
            "mrr for model xgboost_graph_and_lstm_final_&_lightgbm_all_traditional_and_lstm_final_&_catboost_graph_and_lstm_final: 0.19268080823728723\n",
            "mrr for model xgboost_all_traditional_and_lstm_final_&_lightgbm_graph_and_lstm_final_&_lightgbm_all_traditional_and_lstm_final: 0.19503775856177413\n",
            "mrr for model xgboost_all_traditional_and_lstm_final_&_lightgbm_graph_and_lstm_final_&_catboost_graph_and_lstm_final: 0.1922452650526441\n",
            "mrr for model xgboost_all_traditional_and_lstm_final_&_lightgbm_all_traditional_and_lstm_final_&_catboost_graph_and_lstm_final: 0.19454630828934302\n",
            "mrr for model lightgbm_graph_and_lstm_final_&_lightgbm_all_traditional_and_lstm_final_&_catboost_graph_and_lstm_final: 0.19278807060188807\n",
            "mrr for model xgboost_graph_and_lstm_final_&_xgboost_all_traditional_and_lstm_final_&_lightgbm_graph_and_lstm_final_&_lightgbm_all_traditional_and_lstm_final: 0.19293861518024055\n",
            "mrr for model xgboost_graph_and_lstm_final_&_xgboost_all_traditional_and_lstm_final_&_lightgbm_graph_and_lstm_final_&_catboost_graph_and_lstm_final: 0.19065418721436816\n",
            "mrr for model xgboost_graph_and_lstm_final_&_xgboost_all_traditional_and_lstm_final_&_lightgbm_all_traditional_and_lstm_final_&_catboost_graph_and_lstm_final: 0.19274822335159067\n",
            "mrr for model xgboost_graph_and_lstm_final_&_lightgbm_graph_and_lstm_final_&_lightgbm_all_traditional_and_lstm_final_&_catboost_graph_and_lstm_final: 0.19158341179162483\n",
            "mrr for model xgboost_all_traditional_and_lstm_final_&_lightgbm_graph_and_lstm_final_&_lightgbm_all_traditional_and_lstm_final_&_catboost_graph_and_lstm_final: 0.19411283873132917\n",
            "mrr for model xgboost_graph_and_lstm_final_&_xgboost_all_traditional_and_lstm_final_&_lightgbm_graph_and_lstm_final_&_lightgbm_all_traditional_and_lstm_final_&_catboost_graph_and_lstm_final: 0.19229449833517723\n",
            "---------------------------------------------------------------------------------------------------------------------------------------------\n"
          ]
        }
      ]
    },
    {
      "cell_type": "code",
      "source": [
        "for dataset_type in dataset_types:\n",
        "    print('dataset type:', dataset_type)\n",
        "    print()\n",
        "    print('best model:', best_model[dataset_type]['name'], '\\nmrr:', best_model[dataset_type]['mrr'])\n",
        "    print('---------------------------------------------------------------------------------------------------------------------------------------------')"
      ],
      "metadata": {
        "colab": {
          "base_uri": "https://localhost:8080/"
        },
        "id": "re8igO8TCbpy",
        "outputId": "8e98a635-7510-4b82-8156-64e76fd90560"
      },
      "id": "re8igO8TCbpy",
      "execution_count": null,
      "outputs": [
        {
          "output_type": "stream",
          "name": "stdout",
          "text": [
            "dataset type: leaderboard\n",
            "\n",
            "best model: lightgbm_all_traditional_and_lstm \n",
            "mrr: 0.19465534076005214\n",
            "---------------------------------------------------------------------------------------------------------------------------------------------\n",
            "dataset type: final\n",
            "\n",
            "best model: lightgbm_all_traditional_and_lstm \n",
            "mrr: 0.19635226966331254\n",
            "---------------------------------------------------------------------------------------------------------------------------------------------\n"
          ]
        }
      ]
    }
  ],
  "metadata": {
    "kernelspec": {
      "display_name": "Python 3",
      "name": "python3"
    },
    "language_info": {
      "codemirror_mode": {
        "name": "ipython",
        "version": 3
      },
      "file_extension": ".py",
      "mimetype": "text/x-python",
      "name": "python",
      "nbconvert_exporter": "python",
      "pygments_lexer": "ipython3",
      "version": "3.7.13"
    },
    "papermill": {
      "default_parameters": {},
      "duration": 355.611026,
      "end_time": "2022-06-12T16:59:44.340713",
      "environment_variables": {},
      "exception": null,
      "input_path": "__notebook__.ipynb",
      "output_path": "__notebook__.ipynb",
      "parameters": {},
      "start_time": "2022-06-12T16:53:48.729687",
      "version": "2.3.3"
    },
    "vscode": {
      "interpreter": {
        "hash": "61f38fddaed46afda7c40a5798d4631266e18af1d335aa6f772dc3ed9b8ab549"
      }
    },
    "colab": {
      "provenance": [],
      "machine_shape": "hm"
    }
  },
  "nbformat": 4,
  "nbformat_minor": 5
}