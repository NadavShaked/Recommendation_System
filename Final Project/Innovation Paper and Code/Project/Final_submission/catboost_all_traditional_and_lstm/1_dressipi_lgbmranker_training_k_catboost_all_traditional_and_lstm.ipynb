{
  "cells": [
    {
      "cell_type": "code",
      "source": [
        "!pip install catboost"
      ],
      "metadata": {
        "colab": {
          "base_uri": "https://localhost:8080/"
        },
        "id": "REOvAzt6TcOM",
        "outputId": "34076618-8a07-4177-ec86-4ff958f93fbc"
      },
      "id": "REOvAzt6TcOM",
      "execution_count": null,
      "outputs": [
        {
          "output_type": "stream",
          "name": "stdout",
          "text": [
            "Collecting catboost\n",
            "  Downloading catboost-1.2.3-cp310-cp310-manylinux2014_x86_64.whl (98.5 MB)\n",
            "\u001b[2K     \u001b[90m━━━━━━━━━━━━━━━━━━━━━━━━━━━━━━━━━━━━━━━━\u001b[0m \u001b[32m98.5/98.5 MB\u001b[0m \u001b[31m6.1 MB/s\u001b[0m eta \u001b[36m0:00:00\u001b[0m\n",
            "\u001b[?25hRequirement already satisfied: graphviz in /usr/local/lib/python3.10/dist-packages (from catboost) (0.20.1)\n",
            "Requirement already satisfied: matplotlib in /usr/local/lib/python3.10/dist-packages (from catboost) (3.7.1)\n",
            "Requirement already satisfied: numpy>=1.16.0 in /usr/local/lib/python3.10/dist-packages (from catboost) (1.25.2)\n",
            "Requirement already satisfied: pandas>=0.24 in /usr/local/lib/python3.10/dist-packages (from catboost) (1.5.3)\n",
            "Requirement already satisfied: scipy in /usr/local/lib/python3.10/dist-packages (from catboost) (1.11.4)\n",
            "Requirement already satisfied: plotly in /usr/local/lib/python3.10/dist-packages (from catboost) (5.15.0)\n",
            "Requirement already satisfied: six in /usr/local/lib/python3.10/dist-packages (from catboost) (1.16.0)\n",
            "Requirement already satisfied: python-dateutil>=2.8.1 in /usr/local/lib/python3.10/dist-packages (from pandas>=0.24->catboost) (2.8.2)\n",
            "Requirement already satisfied: pytz>=2020.1 in /usr/local/lib/python3.10/dist-packages (from pandas>=0.24->catboost) (2023.4)\n",
            "Requirement already satisfied: contourpy>=1.0.1 in /usr/local/lib/python3.10/dist-packages (from matplotlib->catboost) (1.2.0)\n",
            "Requirement already satisfied: cycler>=0.10 in /usr/local/lib/python3.10/dist-packages (from matplotlib->catboost) (0.12.1)\n",
            "Requirement already satisfied: fonttools>=4.22.0 in /usr/local/lib/python3.10/dist-packages (from matplotlib->catboost) (4.49.0)\n",
            "Requirement already satisfied: kiwisolver>=1.0.1 in /usr/local/lib/python3.10/dist-packages (from matplotlib->catboost) (1.4.5)\n",
            "Requirement already satisfied: packaging>=20.0 in /usr/local/lib/python3.10/dist-packages (from matplotlib->catboost) (23.2)\n",
            "Requirement already satisfied: pillow>=6.2.0 in /usr/local/lib/python3.10/dist-packages (from matplotlib->catboost) (9.4.0)\n",
            "Requirement already satisfied: pyparsing>=2.3.1 in /usr/local/lib/python3.10/dist-packages (from matplotlib->catboost) (3.1.1)\n",
            "Requirement already satisfied: tenacity>=6.2.0 in /usr/local/lib/python3.10/dist-packages (from plotly->catboost) (8.2.3)\n",
            "Installing collected packages: catboost\n",
            "Successfully installed catboost-1.2.3\n"
          ]
        }
      ]
    },
    {
      "cell_type": "code",
      "execution_count": null,
      "metadata": {
        "id": "7eb421c8"
      },
      "outputs": [],
      "source": [
        "just_checking_integrity=False"
      ],
      "id": "7eb421c8"
    },
    {
      "cell_type": "code",
      "execution_count": null,
      "metadata": {
        "id": "5c1a0270"
      },
      "outputs": [],
      "source": [
        "import gc\n",
        "import pandas as pd\n",
        "import scipy.sparse as sps"
      ],
      "id": "5c1a0270"
    },
    {
      "cell_type": "code",
      "execution_count": null,
      "metadata": {
        "colab": {
          "base_uri": "https://localhost:8080/"
        },
        "id": "sWJX-Ol2iJaJ",
        "outputId": "f626e8d8-78ba-43a3-c0ae-795a9093da04"
      },
      "outputs": [
        {
          "output_type": "stream",
          "name": "stdout",
          "text": [
            "Mounted at /content/drive\n"
          ]
        }
      ],
      "source": [
        "from google.colab import drive\n",
        "drive.mount('/content/drive')"
      ],
      "id": "sWJX-Ol2iJaJ"
    },
    {
      "cell_type": "code",
      "execution_count": null,
      "metadata": {
        "id": "470d9b97"
      },
      "outputs": [],
      "source": [
        "valid=sps.load_npz(\"./drive/MyDrive/Recommendation_system/dataset/processed_data/URM_valid_bought.npz\")\n",
        "bought=valid.indices"
      ],
      "id": "470d9b97"
    },
    {
      "cell_type": "code",
      "execution_count": null,
      "metadata": {
        "colab": {
          "base_uri": "https://localhost:8080/"
        },
        "id": "c9c1a3f3",
        "outputId": "7f4e3757-2594-4f57-b1e0-5e9311cc05f8"
      },
      "outputs": [
        {
          "output_type": "stream",
          "name": "stdout",
          "text": [
            "0\n",
            "loading UCF\n",
            "18588456\n",
            "loaded UCF\n",
            "0\n",
            "loading ICBF\n",
            "16931962\n",
            "loaded ICBF\n",
            "0\n",
            "loading Graph\n",
            "9381571\n",
            "loaded Graph\n",
            "0\n",
            "loading ICF\n",
            "20341641\n",
            "loaded ICF\n"
          ]
        }
      ],
      "source": [
        "dataset=None\n",
        "dataset_max=None\n",
        "#[\"UCF\",\"ICBF\",\"ICF\",\"Graph\",\"TopPop100\",\"TopPop50\",\"TopPop15\"] # \"UCF_W\",\"Graph_W\",\"ICF_W\",\"UCF_WW\",\"ICBF_WW\",\"Graph_WW\",\"ICF_WW\", \"ICBF_W\"\n",
        "for file in [\"UCF\",\"ICBF\",\"Graph\",\"ICF\"]:\n",
        "    print(gc.collect())\n",
        "    print(f\"loading {file}\")\n",
        "    df=pd.read_csv(f\"./drive/MyDrive/Recommendation_system/dataset/candidates/traditional_recs/train/{file}.csv\")\n",
        "    print(len(df))\n",
        "    print(f\"loaded {file}\")\n",
        "    for col in df:\n",
        "        if \"Max\" in col:\n",
        "            df_max=df[[\"Session_Id\",col]].drop_duplicates()\n",
        "        elif \"Score\" in col:\n",
        "            df_feats=df[[\"Session_Id\",\"Item_ID\",col]]\n",
        "    if dataset is None:\n",
        "        dataset=df_feats\n",
        "        dataset_max=df_max\n",
        "    else:\n",
        "        dataset=dataset.merge(df_feats,on=[\"Session_Id\",\"Item_ID\"],how=\"outer\")\n",
        "        dataset_max=dataset_max.merge(df_max,on=[\"Session_Id\"],how=\"outer\")\n",
        "    del df\n",
        "\n",
        "\n",
        "#del dataset_max\n",
        "del df_feats\n",
        "del df_max"
      ],
      "id": "c9c1a3f3"
    },
    {
      "cell_type": "code",
      "execution_count": null,
      "metadata": {
        "id": "53c26774"
      },
      "outputs": [],
      "source": [
        "# import ast\n",
        "# submission_df=pd.read_csv(\"./drive/MyDrive/Recommendation_system/dataset/candidates/NN/GRU/train/candidates.csv\")\n",
        "# if just_checking_integrity:\n",
        "#     submission_df[\"score\"]=submission_df[\"score\"].apply(lambda x:x.replace(\"-inf\",\"0\")).apply(lambda x:x.replace(\"+inf\",\"0\")).apply(lambda x:x.replace(\"inf\",\"0\"))\n",
        "#     submission_df[\"score\"]=submission_df[\"score\"].map(ast.literal_eval)\n",
        "# else:\n",
        "#     submission_df[\"score\"]=submission_df[\"score\"].map(ast.literal_eval)\n",
        "# submission_df[\"code\"]=submission_df[\"code\"].map(ast.literal_eval)\n",
        "# submission_df[\"rank\"]=submission_df[\"rank\"].map(ast.literal_eval)\n",
        "# submission_df = submission_df.explode(['code','score', 'rank'])\n",
        "# submission_df[[\"session_id\",\"code\",\"rank\"]]=submission_df[[\"session_id\",\"code\",\"rank\"]].astype(int)\n",
        "# submission_df.rename(columns={\"code\":\"Item_ID\",\"session_id\":\"Session_Id\",\"rank\":\"rank_gru\",\"score\":\"score_gru\"},inplace=True)"
      ],
      "id": "53c26774"
    },
    {
      "cell_type": "code",
      "execution_count": null,
      "metadata": {
        "id": "a0d3e508"
      },
      "outputs": [],
      "source": [
        "# submission_df.head()"
      ],
      "id": "a0d3e508"
    },
    {
      "cell_type": "code",
      "execution_count": null,
      "metadata": {
        "id": "b7cb790d"
      },
      "outputs": [],
      "source": [
        "# import ast\n",
        "# submission_df_tr=pd.read_csv(\"./drive/MyDrive/Recommendation_system/dataset/candidates/NN/Transformer/train/candidates.csv\")\n",
        "# if just_checking_integrity:\n",
        "#     submission_df_tr[\"score\"]=submission_df_tr[\"score\"].apply(lambda x:x.replace(\"-inf\",\"0\"))\n",
        "#     submission_df_tr[\"score\"]=submission_df_tr[\"score\"].map(ast.literal_eval)\n",
        "# else:\n",
        "#     submission_df_tr[\"score\"]=submission_df_tr[\"score\"].map(ast.literal_eval)\n",
        "# submission_df_tr[\"code\"]=submission_df_tr[\"code\"].map(ast.literal_eval)\n",
        "# submission_df_tr[\"rank\"]=submission_df_tr[\"rank\"].map(ast.literal_eval)\n",
        "# submission_df_tr = submission_df_tr.explode(['code','score', 'rank'])\n",
        "# submission_df_tr[[\"session_id\",\"code\",\"rank\"]]=submission_df_tr[[\"session_id\",\"code\",\"rank\"]].astype(int)\n",
        "# submission_df_tr.rename(columns={\"code\":\"Item_ID\",\"session_id\":\"Session_Id\",\"rank\":\"rank_transformer\",\"score\":\"score_transformer\"},inplace=True)"
      ],
      "id": "b7cb790d"
    },
    {
      "cell_type": "code",
      "execution_count": null,
      "metadata": {
        "id": "TBuevNTiiCBM"
      },
      "outputs": [],
      "source": [
        "import ast\n",
        "submission_df_LSTM=pd.read_csv(\"./drive/MyDrive/Recommendation_system/dataset/candidates/NN/LSTM/train/candidates.csv\")\n",
        "if just_checking_integrity:\n",
        "    submission_df_LSTM[\"score\"]=submission_df_LSTM[\"score\"].apply(lambda x:x.replace(\"-inf\",\"0\"))\n",
        "    submission_df_LSTM[\"score\"]=submission_df_LSTM[\"score\"].map(ast.literal_eval)\n",
        "else:\n",
        "    submission_df_LSTM[\"score\"]=submission_df_LSTM[\"score\"].map(ast.literal_eval)\n",
        "submission_df_LSTM[\"code\"]=submission_df_LSTM[\"code\"].map(ast.literal_eval)\n",
        "submission_df_LSTM[\"rank\"]=submission_df_LSTM[\"rank\"].map(ast.literal_eval)\n",
        "submission_df_LSTM = submission_df_LSTM.explode(['code','score', 'rank'])\n",
        "submission_df_LSTM[[\"session_id\",\"code\",\"rank\"]]=submission_df_LSTM[[\"session_id\",\"code\",\"rank\"]].astype(int)\n",
        "submission_df_LSTM.rename(columns={\"code\":\"Item_ID\",\"session_id\":\"Session_Id\",\"rank\":\"rank_LSTM\",\"score\":\"score_LSTM\"},inplace=True)"
      ],
      "id": "TBuevNTiiCBM"
    },
    {
      "cell_type": "code",
      "execution_count": null,
      "metadata": {
        "id": "ffadc08c"
      },
      "outputs": [],
      "source": [
        "# dataset=dataset.merge(submission_df,on=[\"Session_Id\",\"Item_ID\"],how=\"outer\")\n",
        "# dataset=dataset.merge(submission_df_tr,on=[\"Session_Id\",\"Item_ID\"],how=\"outer\")\n",
        "dataset=dataset.merge(submission_df_LSTM,on=[\"Session_Id\",\"Item_ID\"],how=\"outer\")\n",
        "\n",
        "dataset=dataset.merge(dataset_max,on=[\"Session_Id\"],how=\"left\")\n"
      ],
      "id": "ffadc08c"
    },
    {
      "cell_type": "code",
      "execution_count": null,
      "metadata": {
        "id": "5050c99f"
      },
      "outputs": [],
      "source": [
        "if just_checking_integrity:\n",
        "    dataset=dataset[:int(0.5*len(dataset))]"
      ],
      "id": "5050c99f"
    },
    {
      "cell_type": "code",
      "execution_count": null,
      "metadata": {
        "id": "95bea9fa"
      },
      "outputs": [],
      "source": [
        "del dataset_max\n",
        "# del submission_df\n",
        "# del submission_df_tr"
      ],
      "id": "95bea9fa"
    },
    {
      "cell_type": "code",
      "execution_count": null,
      "metadata": {
        "id": "0fbf9880"
      },
      "outputs": [],
      "source": [
        "import numpy as np\n",
        "sessions=np.unique(dataset[\"Session_Id\"])\n",
        "train=pd.DataFrame()\n",
        "train[\"Session_Id\"]=sessions\n",
        "if just_checking_integrity:\n",
        "    train[\"Item_ID\"]=bought[:len(sessions)]\n",
        "else:\n",
        "    train[\"Item_ID\"]=bought\n",
        "train[\"target\"]=1"
      ],
      "id": "0fbf9880"
    },
    {
      "cell_type": "code",
      "execution_count": null,
      "metadata": {
        "id": "db736a30"
      },
      "outputs": [],
      "source": [
        "gc.collect()"
      ],
      "id": "db736a30"
    },
    {
      "cell_type": "code",
      "execution_count": null,
      "metadata": {
        "id": "000e10f7"
      },
      "outputs": [],
      "source": [
        "dataset=dataset.merge(train,on=[\"Session_Id\",\"Item_ID\"],how=\"left\")\n",
        "dataset.fillna(0,inplace=True)\n",
        "gc.collect()"
      ],
      "id": "000e10f7"
    },
    {
      "cell_type": "code",
      "execution_count": null,
      "metadata": {
        "id": "ca68bf51"
      },
      "outputs": [],
      "source": [
        "dataset[\"target\"]=dataset[\"target\"].astype(\"int8\")\n",
        "gc.collect()"
      ],
      "id": "ca68bf51"
    },
    {
      "cell_type": "code",
      "execution_count": null,
      "metadata": {
        "id": "ba65635a"
      },
      "outputs": [],
      "source": [
        "sessions_containing_bought_among_candidates=dataset[[\"Session_Id\",\"target\"]].groupby(\"Session_Id\").agg(sum).reset_index()\n",
        "sessions_containing_bought_among_candidates=sessions_containing_bought_among_candidates.loc[sessions_containing_bought_among_candidates[\"target\"]>0]\n",
        "\n",
        "dataset=dataset[dataset['Session_Id'].isin(sessions_containing_bought_among_candidates[\"Session_Id\"].tolist())]"
      ],
      "id": "ba65635a"
    },
    {
      "cell_type": "code",
      "execution_count": null,
      "metadata": {
        "id": "bd872544"
      },
      "outputs": [],
      "source": [
        "NHITS=len(dataset['Session_Id'].unique())\n",
        "HITRATE=NHITS/81600 #approximate value\n",
        "HITRATE"
      ],
      "id": "bd872544"
    },
    {
      "cell_type": "code",
      "execution_count": null,
      "metadata": {
        "id": "bc5c79cb"
      },
      "outputs": [],
      "source": [
        "dataset.head(20)"
      ],
      "id": "bc5c79cb"
    },
    {
      "cell_type": "code",
      "execution_count": null,
      "metadata": {
        "id": "2456acba"
      },
      "outputs": [],
      "source": [
        "dataset"
      ],
      "id": "2456acba"
    },
    {
      "cell_type": "code",
      "execution_count": null,
      "metadata": {
        "id": "PaEb4VqwiCBO"
      },
      "outputs": [],
      "source": [
        "dataset_macro_features = pd.read_csv('./drive/MyDrive/Recommendation_system/dataset/processed_data/macro_feats_NN.csv',\n",
        "                                     usecols=['session_id',\n",
        "                                                'session_similarity',\n",
        "                                                'session_similarity_uniques', 'session_similarity_feats', 'session_similarity_feats_uniques',\n",
        "                                              'length_of_session_seconds',\n",
        "                   'avg_time_spent_per_item_seconds',\n",
        "                   'variance_time_spent_per_item_seconds',\n",
        "                   'n_seen_items',\n",
        "                   'n_unique_items',])\n",
        "\n",
        "dataset_macro_features.rename(columns={'session_id':'Session_Id'}, inplace=True)\n",
        "dataset = dataset.merge(dataset_macro_features, on='Session_Id', how='left')\n",
        "del dataset_macro_features"
      ],
      "id": "PaEb4VqwiCBO"
    },
    {
      "cell_type": "code",
      "execution_count": null,
      "metadata": {
        "id": "9SBI5-tsiCBO"
      },
      "outputs": [],
      "source": [
        "#dataset.drop('Max_Score_TopPop15', axis=1, inplace=True)"
      ],
      "id": "9SBI5-tsiCBO"
    },
    {
      "cell_type": "markdown",
      "source": [
        "## K-Fold for All tradition models + LSTM models"
      ],
      "metadata": {
        "id": "F27Fi6oYzIrw"
      },
      "id": "F27Fi6oYzIrw"
    },
    {
      "cell_type": "code",
      "source": [
        "def get_indices(x):\n",
        "    x=np.array(x)\n",
        "    indices_unsorted=np.argpartition(x, -100)[-100:]\n",
        "    x=x[indices_unsorted]\n",
        "    indices=indices_unsorted[np.argsort(-x)]\n",
        "    return indices"
      ],
      "metadata": {
        "id": "UQwrCMQ6TK-9"
      },
      "id": "UQwrCMQ6TK-9",
      "execution_count": null,
      "outputs": []
    },
    {
      "cell_type": "code",
      "source": [
        "def get_items(x):\n",
        "    items=np.array(x[0])\n",
        "    return items[x[1]]"
      ],
      "metadata": {
        "id": "lM7z4tFlTUza"
      },
      "id": "lM7z4tFlTUza",
      "execution_count": null,
      "outputs": []
    },
    {
      "cell_type": "code",
      "source": [
        "from sklearn.model_selection import KFold\n",
        "from catboost import CatBoostRanker, Pool\n",
        "import os\n",
        "import time\n",
        "\n",
        "start_time = time.time()\n",
        "\n",
        "k = 10\n",
        "\n",
        "score = 0\n",
        "kf = KFold(n_splits=k)\n",
        "index = 0\n",
        "\n",
        "mrr = 0\n",
        "mrr_session_count = 0\n",
        "\n",
        "for train_index, valid_index in kf.split(train):\n",
        "\n",
        "    train_sessions = train[\"Session_Id\"][train_index].tolist()\n",
        "    valid_sessions = train[\"Session_Id\"][valid_index].tolist()\n",
        "\n",
        "    train_set = dataset[dataset[\"Session_Id\"].isin(train_sessions)]\n",
        "    valid_set = dataset[dataset[\"Session_Id\"].isin(valid_sessions)]\n",
        "\n",
        "    train_set = train_set.sort_values(\"Session_Id\")\n",
        "    valid_set = valid_set.sort_values(\"Session_Id\")\n",
        "\n",
        "    qids_train = train_set[\"Session_Id\"]\n",
        "    qids_valid = valid_set[\"Session_Id\"]\n",
        "\n",
        "    X_train = train_set.drop([\"target\", \"Session_Id\", \"Item_ID\"], axis=1)\n",
        "    y_train = train_set[\"target\"]\n",
        "\n",
        "    X_valid = valid_set.drop([\"target\", \"Session_Id\", \"Item_ID\"], axis=1)\n",
        "    y_valid = valid_set[\"target\"]\n",
        "\n",
        "    train_pool = Pool(X_train, y_train, group_id=qids_train)\n",
        "    valid_pool = Pool(X_valid, y_valid, group_id=qids_valid)\n",
        "\n",
        "    model = CatBoostRanker(\n",
        "        iterations=2000,\n",
        "        loss_function='YetiRank',\n",
        "        od_type='Iter',\n",
        "        od_wait=20,\n",
        "        depth=6,\n",
        "        l2_leaf_reg=3,\n",
        "        learning_rate=0.05,\n",
        "        random_seed=42\n",
        "    )\n",
        "    ranker = model.fit(\n",
        "        train_pool,\n",
        "        eval_set=valid_pool,\n",
        "        verbose=100,\n",
        "        plot=False\n",
        "    )\n",
        "    ranker.save_model(f'./drive/MyDrive/Recommendation_system/rankers/catboost/all_traditional_and_lstm/model_{index}.cbm')\n",
        "\n",
        "    # Get best score from evals_result\n",
        "    best_iter = ranker.get_best_iteration()\n",
        "    best_score = ranker.get_evals_result()\n",
        "    score += best_score['validation']['PFound'][best_iter]\n",
        "\n",
        "    # Calculate MRR@100\n",
        "    predictions_rank = train_set\n",
        "    pred = (model.predict(predictions_rank))\n",
        "    predictions_rank[\"score\"]=np.mean(pred ,axis=0)\n",
        "\n",
        "    gc.collect()\n",
        "\n",
        "    predictions_rank=predictions_rank[[\"Session_Id\", \"Item_ID\", \"target\", \"score\"]]\n",
        "    predictions_rank=predictions_rank.groupby(['Session_Id']).agg(list).reset_index()\n",
        "    predictions_rank[\"indices\"]=predictions_rank[\"score\"].apply(lambda x: get_indices(x))\n",
        "    predictions_rank[\"predictions\"]=predictions_rank[[\"Item_ID\",\"indices\"]].apply(get_items,axis=1)\n",
        "    predictions_rank=predictions_rank[[\"Session_Id\",\"predictions\"]]\n",
        "    predictions_rank[\"rank\"]=predictions_rank.apply(lambda x:tuple([rank for rank in range(1, 101)]) ,axis=1)\n",
        "\n",
        "    original_purchase_df=train_set[[\"Session_Id\", \"Item_ID\", \"target\", \"score\"]]\n",
        "    original_purchase_df=original_purchase_df[original_purchase_df['target'] == 1]\n",
        "    original_purchase_df=original_purchase_df.drop([\"target\", \"score\"], axis=1)\n",
        "    original_purchase_df.rename(columns={'Item_ID': 'purchase_item_id'}, inplace=True)\n",
        "\n",
        "    merged_df = pd.merge(predictions_rank, original_purchase_df, on='Session_Id', how='inner')\n",
        "\n",
        "    gc.collect()\n",
        "\n",
        "    for _, row in merged_df.iterrows():\n",
        "        predictions = row[\"predictions\"]\n",
        "        purchase_item_id = row[\"purchase_item_id\"]\n",
        "        indices = np.where(predictions == purchase_item_id)[0]\n",
        "        first_index = indices.min() + 1 if len(indices) > 0 else -1\n",
        "\n",
        "        mrr += 1 / first_index if first_index > 0 else 0\n",
        "\n",
        "    mrr_session_count += merged_df.shape[0]\n",
        "\n",
        "    index += 1\n",
        "\n",
        "end_time = time.time()\n",
        "\n",
        "elapsed_time = end_time - start_time\n"
      ],
      "metadata": {
        "id": "BB9NT9KKqKjc"
      },
      "id": "BB9NT9KKqKjc",
      "execution_count": null,
      "outputs": []
    },
    {
      "cell_type": "code",
      "source": [
        "mrr_final_performcance=(mrr / mrr_session_count) / k\n",
        "print(\"overall MAP@100 = \", mrr_final_performcance)"
      ],
      "metadata": {
        "id": "JJvBXBxQmWkF"
      },
      "id": "JJvBXBxQmWkF",
      "execution_count": null,
      "outputs": []
    },
    {
      "cell_type": "code",
      "execution_count": null,
      "metadata": {
        "id": "bdd7ed2b"
      },
      "outputs": [],
      "source": [
        "print(\"normalized score \", mrr_final_performcance*HITRATE)"
      ],
      "id": "bdd7ed2b"
    },
    {
      "cell_type": "code",
      "execution_count": null,
      "metadata": {
        "id": "8726dd2e"
      },
      "outputs": [],
      "source": [
        "pairwise_final_performcance=score/k\n",
        "print(\"overall Pairwise = \", pairwise_final_performcance)"
      ],
      "id": "8726dd2e"
    },
    {
      "cell_type": "code",
      "source": [
        "print(\"K-Fold execution time:\", elapsed_time, \"seconds\")"
      ],
      "metadata": {
        "id": "S3NhN427zdEy"
      },
      "id": "S3NhN427zdEy",
      "execution_count": null,
      "outputs": []
    }
  ],
  "metadata": {
    "accelerator": "GPU",
    "colab": {
      "gpuType": "T4",
      "machine_shape": "hm",
      "provenance": []
    },
    "kernelspec": {
      "display_name": "Python 3",
      "name": "python3"
    },
    "language_info": {
      "codemirror_mode": {
        "name": "ipython",
        "version": 3
      },
      "file_extension": ".py",
      "mimetype": "text/x-python",
      "name": "python",
      "nbconvert_exporter": "python",
      "pygments_lexer": "ipython3",
      "version": "3.7.13"
    },
    "papermill": {
      "default_parameters": {},
      "duration": 1137.20113,
      "end_time": "2022-06-12T16:43:01.444276",
      "environment_variables": {},
      "exception": null,
      "input_path": "__notebook__.ipynb",
      "output_path": "__notebook__.ipynb",
      "parameters": {},
      "start_time": "2022-06-12T16:24:04.243146",
      "version": "2.3.3"
    },
    "vscode": {
      "interpreter": {
        "hash": "61f38fddaed46afda7c40a5798d4631266e18af1d335aa6f772dc3ed9b8ab549"
      }
    }
  },
  "nbformat": 4,
  "nbformat_minor": 5
}