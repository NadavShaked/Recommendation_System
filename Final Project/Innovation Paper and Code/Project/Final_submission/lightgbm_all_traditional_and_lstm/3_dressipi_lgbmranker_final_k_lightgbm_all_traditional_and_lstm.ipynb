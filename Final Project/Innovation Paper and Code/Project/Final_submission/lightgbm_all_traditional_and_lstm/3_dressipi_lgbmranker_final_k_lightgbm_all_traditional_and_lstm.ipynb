{
  "cells": [
    {
      "cell_type": "code",
      "execution_count": null,
      "id": "ac9a115d",
      "metadata": {
        "id": "ac9a115d"
      },
      "outputs": [],
      "source": [
        "just_checking_integrity=False"
      ]
    },
    {
      "cell_type": "code",
      "execution_count": null,
      "id": "0cd378b3",
      "metadata": {
        "execution": {
          "iopub.execute_input": "2022-06-12T16:53:58.434177Z",
          "iopub.status.busy": "2022-06-12T16:53:58.433031Z",
          "iopub.status.idle": "2022-06-12T16:53:58.520198Z",
          "shell.execute_reply": "2022-06-12T16:53:58.519411Z",
          "shell.execute_reply.started": "2022-06-12T16:44:12.113125Z"
        },
        "papermill": {
          "duration": 0.141538,
          "end_time": "2022-06-12T16:53:58.520370",
          "exception": false,
          "start_time": "2022-06-12T16:53:58.378832",
          "status": "completed"
        },
        "tags": [],
        "id": "0cd378b3"
      },
      "outputs": [],
      "source": [
        "import gc\n",
        "import pandas as pd\n",
        "import scipy.sparse as sps\n",
        "import numpy as np"
      ]
    },
    {
      "cell_type": "code",
      "source": [
        "from google.colab import drive\n",
        "drive.mount('/content/drive')"
      ],
      "metadata": {
        "colab": {
          "base_uri": "https://localhost:8080/"
        },
        "id": "bHu58p4aW63K",
        "outputId": "b149595f-da0c-4cef-e9d2-73c5a2119439"
      },
      "id": "bHu58p4aW63K",
      "execution_count": null,
      "outputs": [
        {
          "output_type": "stream",
          "name": "stdout",
          "text": [
            "Mounted at /content/drive\n"
          ]
        }
      ]
    },
    {
      "cell_type": "code",
      "execution_count": null,
      "id": "e4676f00",
      "metadata": {
        "execution": {
          "iopub.execute_input": "2022-06-12T16:53:58.624435Z",
          "iopub.status.busy": "2022-06-12T16:53:58.623807Z",
          "iopub.status.idle": "2022-06-12T16:53:58.715256Z",
          "shell.execute_reply": "2022-06-12T16:53:58.715776Z",
          "shell.execute_reply.started": "2022-06-12T16:44:12.151138Z"
        },
        "papermill": {
          "duration": 0.146009,
          "end_time": "2022-06-12T16:53:58.715990",
          "exception": false,
          "start_time": "2022-06-12T16:53:58.569981",
          "status": "completed"
        },
        "tags": [],
        "id": "e4676f00"
      },
      "outputs": [],
      "source": [
        "URM_test=sps.load_npz(\"./drive/MyDrive/Recommendation_system/dataset/processed_data/URM_test_final.npz\")"
      ]
    },
    {
      "cell_type": "code",
      "execution_count": null,
      "id": "7854974f",
      "metadata": {
        "execution": {
          "iopub.execute_input": "2022-06-12T16:53:58.818349Z",
          "iopub.status.busy": "2022-06-12T16:53:58.817358Z",
          "iopub.status.idle": "2022-06-12T16:53:58.824571Z",
          "shell.execute_reply": "2022-06-12T16:53:58.825099Z",
          "shell.execute_reply.started": "2022-06-12T16:44:12.212375Z"
        },
        "papermill": {
          "duration": 0.060116,
          "end_time": "2022-06-12T16:53:58.825275",
          "exception": false,
          "start_time": "2022-06-12T16:53:58.765159",
          "status": "completed"
        },
        "tags": [],
        "colab": {
          "base_uri": "https://localhost:8080/"
        },
        "id": "7854974f",
        "outputId": "ed3eb763-bb4c-44d8-ad1b-fd7d1448b7a5"
      },
      "outputs": [
        {
          "output_type": "execute_result",
          "data": {
            "text/plain": [
              "(4439967, 23690)"
            ]
          },
          "metadata": {},
          "execution_count": 5
        }
      ],
      "source": [
        "URM_test.shape"
      ]
    },
    {
      "cell_type": "code",
      "execution_count": null,
      "id": "b2fc443c",
      "metadata": {
        "execution": {
          "iopub.execute_input": "2022-06-12T16:53:58.931182Z",
          "iopub.status.busy": "2022-06-12T16:53:58.930469Z",
          "iopub.status.idle": "2022-06-12T16:53:59.004536Z",
          "shell.execute_reply": "2022-06-12T16:53:59.005147Z",
          "shell.execute_reply.started": "2022-06-12T16:44:12.221723Z"
        },
        "papermill": {
          "duration": 0.129216,
          "end_time": "2022-06-12T16:53:59.005328",
          "exception": false,
          "start_time": "2022-06-12T16:53:58.876112",
          "status": "completed"
        },
        "tags": [],
        "colab": {
          "base_uri": "https://localhost:8080/"
        },
        "id": "b2fc443c",
        "outputId": "411a9e30-9af5-4111-b0a7-7c2d163502e7"
      },
      "outputs": [
        {
          "output_type": "execute_result",
          "data": {
            "text/plain": [
              "(4439967,)"
            ]
          },
          "metadata": {},
          "execution_count": 6
        }
      ],
      "source": [
        "np.ravel(URM_test.sum(axis=1)).shape"
      ]
    },
    {
      "cell_type": "code",
      "execution_count": null,
      "id": "f4e1acd0",
      "metadata": {
        "execution": {
          "iopub.execute_input": "2022-06-12T16:53:59.111151Z",
          "iopub.status.busy": "2022-06-12T16:53:59.110421Z",
          "iopub.status.idle": "2022-06-12T16:53:59.199591Z",
          "shell.execute_reply": "2022-06-12T16:53:59.198926Z",
          "shell.execute_reply.started": "2022-06-12T16:44:12.300508Z"
        },
        "papermill": {
          "duration": 0.144207,
          "end_time": "2022-06-12T16:53:59.199763",
          "exception": false,
          "start_time": "2022-06-12T16:53:59.055556",
          "status": "completed"
        },
        "tags": [],
        "id": "f4e1acd0"
      },
      "outputs": [],
      "source": [
        "Session_ids=np.argwhere(np.ravel(URM_test.sum(axis=1)))"
      ]
    },
    {
      "cell_type": "code",
      "execution_count": null,
      "id": "23c21590",
      "metadata": {
        "execution": {
          "iopub.execute_input": "2022-06-12T16:53:59.304726Z",
          "iopub.status.busy": "2022-06-12T16:53:59.304053Z",
          "iopub.status.idle": "2022-06-12T16:53:59.306743Z",
          "shell.execute_reply": "2022-06-12T16:53:59.306254Z",
          "shell.execute_reply.started": "2022-06-12T16:44:12.391063Z"
        },
        "papermill": {
          "duration": 0.056971,
          "end_time": "2022-06-12T16:53:59.306883",
          "exception": false,
          "start_time": "2022-06-12T16:53:59.249912",
          "status": "completed"
        },
        "tags": [],
        "id": "23c21590"
      },
      "outputs": [],
      "source": [
        "is_sorted = lambda a: np.all(a[:-1] <= a[1:])"
      ]
    },
    {
      "cell_type": "code",
      "execution_count": null,
      "id": "5adf257f",
      "metadata": {
        "execution": {
          "iopub.execute_input": "2022-06-12T16:53:59.410367Z",
          "iopub.status.busy": "2022-06-12T16:53:59.409701Z",
          "iopub.status.idle": "2022-06-12T16:53:59.414286Z",
          "shell.execute_reply": "2022-06-12T16:53:59.414842Z",
          "shell.execute_reply.started": "2022-06-12T16:44:12.397660Z"
        },
        "papermill": {
          "duration": 0.057925,
          "end_time": "2022-06-12T16:53:59.415013",
          "exception": false,
          "start_time": "2022-06-12T16:53:59.357088",
          "status": "completed"
        },
        "tags": [],
        "colab": {
          "base_uri": "https://localhost:8080/"
        },
        "id": "5adf257f",
        "outputId": "ee340e0c-3f6d-4d60-88a0-31f6161f03ef"
      },
      "outputs": [
        {
          "output_type": "execute_result",
          "data": {
            "text/plain": [
              "True"
            ]
          },
          "metadata": {},
          "execution_count": 9
        }
      ],
      "source": [
        "is_sorted(Session_ids)"
      ]
    },
    {
      "cell_type": "code",
      "execution_count": null,
      "id": "ae942e02",
      "metadata": {
        "execution": {
          "iopub.execute_input": "2022-06-12T16:53:59.518422Z",
          "iopub.status.busy": "2022-06-12T16:53:59.517782Z",
          "iopub.status.idle": "2022-06-12T16:55:24.580943Z",
          "shell.execute_reply": "2022-06-12T16:55:24.580279Z",
          "shell.execute_reply.started": "2022-06-12T16:44:12.411287Z"
        },
        "papermill": {
          "duration": 85.115587,
          "end_time": "2022-06-12T16:55:24.581119",
          "exception": false,
          "start_time": "2022-06-12T16:53:59.465532",
          "status": "completed"
        },
        "tags": [],
        "colab": {
          "base_uri": "https://localhost:8080/"
        },
        "id": "ae942e02",
        "outputId": "03810d8e-734a-4420-f2d0-f63559abc331"
      },
      "outputs": [
        {
          "output_type": "stream",
          "name": "stdout",
          "text": [
            "0\n",
            "loading UCF\n",
            "15960976\n",
            "loaded UCF\n",
            "0\n",
            "loading ICBF\n",
            "14855475\n",
            "loaded ICBF\n",
            "0\n",
            "loading Graph\n",
            "8321415\n",
            "loaded Graph\n",
            "0\n",
            "loading ICF\n",
            "17771428\n",
            "loaded ICF\n"
          ]
        }
      ],
      "source": [
        "dataset=None\n",
        "dataset_max=None\n",
        "#[\"UCF\",\"ICBF\",\"ICF\",\"Graph\",\"TopPop100\",\"TopPop50\",\"TopPop15\"] # \"UCF_W\",\"Graph_W\",\"ICF_W\",\"UCF_WW\",\"ICBF_WW\",\"Graph_WW\",\"ICF_WW\", \"ICBF_W\"\n",
        "for file in c:\n",
        "    print(gc.collect())\n",
        "    print(f\"loading {file}\")\n",
        "    df=pd.read_csv(f\"./drive/MyDrive/Recommendation_system/dataset/candidates/traditional_recs/final/{file}.csv\")\n",
        "    print(len(df))\n",
        "    print(f\"loaded {file}\")\n",
        "    for col in df:\n",
        "        if \"Max\" in col:\n",
        "            df_max=df[[\"Session_Id\",col]].drop_duplicates()\n",
        "        elif \"Score\" in col:\n",
        "            df_feats=df[[\"Session_Id\",\"Item_ID\",col]]\n",
        "    if dataset is None:\n",
        "        dataset=df_feats\n",
        "        dataset_max=df_max\n",
        "    else:\n",
        "        dataset=dataset.merge(df_feats,on=[\"Session_Id\",\"Item_ID\"],how=\"outer\")\n",
        "        dataset_max=dataset_max.merge(df_max,on=[\"Session_Id\"],how=\"outer\")\n",
        "    del df\n",
        "\n",
        "\n",
        "del df_feats\n",
        "del df_max"
      ]
    },
    {
      "cell_type": "code",
      "execution_count": null,
      "id": "de5d999f",
      "metadata": {
        "execution": {
          "iopub.execute_input": "2022-06-12T16:55:24.690427Z",
          "iopub.status.busy": "2022-06-12T16:55:24.689463Z",
          "iopub.status.idle": "2022-06-12T16:55:24.872901Z",
          "shell.execute_reply": "2022-06-12T16:55:24.872108Z",
          "shell.execute_reply.started": "2022-06-12T16:45:38.200141Z"
        },
        "papermill": {
          "duration": 0.238542,
          "end_time": "2022-06-12T16:55:24.873056",
          "exception": false,
          "start_time": "2022-06-12T16:55:24.634514",
          "status": "completed"
        },
        "tags": [],
        "id": "de5d999f"
      },
      "outputs": [],
      "source": [
        "ids=np.sort(dataset[\"Session_Id\"].unique())\n",
        "map_ids=pd.DataFrame()\n",
        "map_ids[\"Session_Id\"]=ids\n",
        "if just_checking_integrity:\n",
        "    map_ids[\"Real_Id\"]=Session_ids[:len(ids)]\n",
        "else:\n",
        "    map_ids[\"Real_Id\"]=Session_ids\n"
      ]
    },
    {
      "cell_type": "code",
      "execution_count": null,
      "id": "7bea3fde",
      "metadata": {
        "execution": {
          "iopub.execute_input": "2022-06-12T16:55:24.984509Z",
          "iopub.status.busy": "2022-06-12T16:55:24.983869Z",
          "iopub.status.idle": "2022-06-12T16:55:25.002790Z",
          "shell.execute_reply": "2022-06-12T16:55:25.002224Z"
        },
        "papermill": {
          "duration": 0.077023,
          "end_time": "2022-06-12T16:55:25.002952",
          "exception": false,
          "start_time": "2022-06-12T16:55:24.925929",
          "status": "completed"
        },
        "tags": [],
        "id": "7bea3fde"
      },
      "outputs": [],
      "source": [
        "dataset_max=dataset_max.merge(map_ids,on=\"Session_Id\",how=\"left\")\n",
        "del dataset_max[\"Session_Id\"]\n",
        "dataset_max.rename(columns={\"Real_Id\":\"Session_Id\"},inplace=True)"
      ]
    },
    {
      "cell_type": "code",
      "execution_count": null,
      "id": "06602988",
      "metadata": {
        "execution": {
          "iopub.execute_input": "2022-06-12T16:55:25.114745Z",
          "iopub.status.busy": "2022-06-12T16:55:25.114028Z",
          "iopub.status.idle": "2022-06-12T16:55:29.314122Z",
          "shell.execute_reply": "2022-06-12T16:55:29.313517Z",
          "shell.execute_reply.started": "2022-06-12T16:45:38.385624Z"
        },
        "papermill": {
          "duration": 4.258115,
          "end_time": "2022-06-12T16:55:29.314291",
          "exception": false,
          "start_time": "2022-06-12T16:55:25.056176",
          "status": "completed"
        },
        "tags": [],
        "id": "06602988"
      },
      "outputs": [],
      "source": [
        "dataset=dataset.merge(map_ids,on=\"Session_Id\",how=\"left\")\n",
        "del dataset[\"Session_Id\"]\n",
        "dataset.rename(columns={\"Real_Id\":\"Session_Id\"},inplace=True)"
      ]
    },
    {
      "cell_type": "code",
      "execution_count": null,
      "id": "1ba29cb4",
      "metadata": {
        "execution": {
          "iopub.execute_input": "2022-06-12T16:55:29.426267Z",
          "iopub.status.busy": "2022-06-12T16:55:29.425561Z",
          "iopub.status.idle": "2022-06-12T16:55:31.342153Z",
          "shell.execute_reply": "2022-06-12T16:55:31.342718Z",
          "shell.execute_reply.started": "2022-06-12T16:45:56.908821Z"
        },
        "papermill": {
          "duration": 1.975633,
          "end_time": "2022-06-12T16:55:31.342906",
          "exception": false,
          "start_time": "2022-06-12T16:55:29.367273",
          "status": "completed"
        },
        "tags": [],
        "id": "1ba29cb4"
      },
      "outputs": [],
      "source": [
        "# import ast\n",
        "# submission_df=pd.read_csv(\"./drive/MyDrive/Recommendation_system/dataset/candidates/NN/GRU/final/candidates.csv\")\n",
        "# submission_df[\"score\"]=submission_df[\"score\"].map(ast.literal_eval)\n",
        "# submission_df[\"code\"]=submission_df[\"code\"].map(ast.literal_eval)\n",
        "# submission_df[\"rank\"]=submission_df[\"rank\"].map(ast.literal_eval)\n",
        "# submission_df = submission_df.explode(['code','score', 'rank'])\n",
        "# submission_df[[\"session_id\",\"code\",\"rank\"]]=submission_df[[\"session_id\",\"code\",\"rank\"]].astype(int)\n",
        "# submission_df.rename(columns={\"code\":\"Item_ID\",\"session_id\":\"Session_Id\",\"rank\":\"rank_gru\",\"score\":\"score_gru\"},inplace=True)"
      ]
    },
    {
      "cell_type": "code",
      "execution_count": null,
      "id": "fef897e1",
      "metadata": {
        "execution": {
          "iopub.execute_input": "2022-06-12T16:55:31.454420Z",
          "iopub.status.busy": "2022-06-12T16:55:31.453371Z",
          "iopub.status.idle": "2022-06-12T16:55:57.911477Z",
          "shell.execute_reply": "2022-06-12T16:55:57.911973Z",
          "shell.execute_reply.started": "2022-06-12T16:45:59.327200Z"
        },
        "papermill": {
          "duration": 26.516025,
          "end_time": "2022-06-12T16:55:57.912172",
          "exception": false,
          "start_time": "2022-06-12T16:55:31.396147",
          "status": "completed"
        },
        "tags": [],
        "id": "fef897e1"
      },
      "outputs": [],
      "source": [
        "# import ast\n",
        "# submission_df_tr=pd.read_csv(\"./drive/MyDrive/Recommendation_system/dataset/candidates/NN/Transformer/final/candidates.csv\")\n",
        "# submission_df_tr[\"score\"]=submission_df_tr[\"score\"].map(ast.literal_eval)\n",
        "# submission_df_tr[\"code\"]=submission_df_tr[\"code\"].map(ast.literal_eval)\n",
        "# submission_df_tr[\"rank\"]=submission_df_tr[\"rank\"].map(ast.literal_eval)\n",
        "# submission_df_tr = submission_df_tr.explode(['code','score', 'rank'])\n",
        "# submission_df_tr[[\"session_id\",\"code\",\"rank\"]]=submission_df_tr[[\"session_id\",\"code\",\"rank\"]].astype(int)\n",
        "# submission_df_tr.rename(columns={\"code\":\"Item_ID\",\"session_id\":\"Session_Id\",\"rank\":\"rank_transformer\",\"score\":\"score_transformer\"},inplace=True)"
      ]
    },
    {
      "cell_type": "code",
      "execution_count": null,
      "metadata": {
        "pycharm": {
          "name": "#%%\n"
        },
        "id": "-XtMIjTd6EEE"
      },
      "outputs": [],
      "source": [
        "import ast\n",
        "submission_df_LSTM=pd.read_csv(\"./drive/MyDrive/Recommendation_system/dataset/candidates/NN/LSTM/final/candidates.csv\")\n",
        "submission_df_LSTM[\"score\"]=submission_df_LSTM[\"score\"].map(ast.literal_eval)\n",
        "submission_df_LSTM[\"code\"]=submission_df_LSTM[\"code\"].map(ast.literal_eval)\n",
        "submission_df_LSTM[\"rank\"]=submission_df_LSTM[\"rank\"].map(ast.literal_eval)\n",
        "submission_df_LSTM = submission_df_LSTM.explode(['code','score', 'rank'])\n",
        "submission_df_LSTM[[\"session_id\",\"code\",\"rank\"]]=submission_df_LSTM[[\"session_id\",\"code\",\"rank\"]].astype(int)\n",
        "submission_df_LSTM.rename(columns={\"code\":\"Item_ID\",\"session_id\":\"Session_Id\",\"rank\":\"rank_LSTM\",\"score\":\"score_LSTM\"},inplace=True)"
      ],
      "id": "-XtMIjTd6EEE"
    },
    {
      "cell_type": "code",
      "execution_count": null,
      "id": "b3503d4d",
      "metadata": {
        "execution": {
          "iopub.execute_input": "2022-06-12T16:56:01.086319Z",
          "iopub.status.busy": "2022-06-12T16:56:01.085614Z",
          "iopub.status.idle": "2022-06-12T16:56:17.441787Z",
          "shell.execute_reply": "2022-06-12T16:56:17.441245Z",
          "shell.execute_reply.started": "2022-06-12T16:48:33.770521Z"
        },
        "papermill": {
          "duration": 16.489758,
          "end_time": "2022-06-12T16:56:17.441937",
          "exception": false,
          "start_time": "2022-06-12T16:56:00.952179",
          "status": "completed"
        },
        "tags": [],
        "id": "b3503d4d"
      },
      "outputs": [],
      "source": [
        "# dataset=dataset.merge(submission_df,on=[\"Session_Id\",\"Item_ID\"],how=\"outer\")\n",
        "# del submission_df\n",
        "# dataset=dataset.merge(submission_df_tr,on=[\"Session_Id\",\"Item_ID\"],how=\"outer\")\n",
        "# del submission_df_tr\n",
        "dataset=dataset.merge(submission_df_LSTM,on=[\"Session_Id\",\"Item_ID\"],how=\"outer\")\n"
      ]
    },
    {
      "cell_type": "code",
      "execution_count": null,
      "id": "79dc226e",
      "metadata": {
        "execution": {
          "iopub.execute_input": "2022-06-12T16:56:17.555767Z",
          "iopub.status.busy": "2022-06-12T16:56:17.554723Z",
          "iopub.status.idle": "2022-06-12T16:56:23.474091Z",
          "shell.execute_reply": "2022-06-12T16:56:23.474928Z",
          "shell.execute_reply.started": "2022-06-12T16:48:53.529749Z"
        },
        "papermill": {
          "duration": 5.978353,
          "end_time": "2022-06-12T16:56:23.475109",
          "exception": false,
          "start_time": "2022-06-12T16:56:17.496756",
          "status": "completed"
        },
        "tags": [],
        "id": "79dc226e"
      },
      "outputs": [],
      "source": [
        "dataset=dataset.merge(dataset_max,on=[\"Session_Id\"],how=\"left\")\n",
        "del dataset_max"
      ]
    },
    {
      "cell_type": "code",
      "execution_count": null,
      "id": "4afa4119",
      "metadata": {
        "execution": {
          "iopub.execute_input": "2022-06-12T16:56:23.589768Z",
          "iopub.status.busy": "2022-06-12T16:56:23.588981Z",
          "iopub.status.idle": "2022-06-12T16:56:37.722764Z",
          "shell.execute_reply": "2022-06-12T16:56:37.723409Z",
          "shell.execute_reply.started": "2022-06-12T16:49:21.356967Z"
        },
        "papermill": {
          "duration": 14.194397,
          "end_time": "2022-06-12T16:56:37.723580",
          "exception": false,
          "start_time": "2022-06-12T16:56:23.529183",
          "status": "completed"
        },
        "tags": [],
        "id": "4afa4119"
      },
      "outputs": [],
      "source": [
        "dataset.fillna(0,inplace=True)"
      ]
    },
    {
      "cell_type": "code",
      "execution_count": null,
      "id": "22527153",
      "metadata": {
        "execution": {
          "iopub.execute_input": "2022-06-12T16:56:37.833540Z",
          "iopub.status.busy": "2022-06-12T16:56:37.832863Z",
          "iopub.status.idle": "2022-06-12T16:56:39.377664Z",
          "shell.execute_reply": "2022-06-12T16:56:39.377008Z",
          "shell.execute_reply.started": "2022-06-12T16:49:51.935529Z"
        },
        "papermill": {
          "duration": 1.601248,
          "end_time": "2022-06-12T16:56:39.377803",
          "exception": false,
          "start_time": "2022-06-12T16:56:37.776555",
          "status": "completed"
        },
        "tags": [],
        "colab": {
          "base_uri": "https://localhost:8080/"
        },
        "id": "22527153",
        "outputId": "f117c8cb-114d-4516-e893-b11f92375d2d"
      },
      "outputs": [
        {
          "output_type": "execute_result",
          "data": {
            "text/plain": [
              "2288"
            ]
          },
          "metadata": {},
          "execution_count": 20
        }
      ],
      "source": [
        "gc.collect()"
      ]
    },
    {
      "cell_type": "code",
      "execution_count": null,
      "id": "3def4b97",
      "metadata": {
        "execution": {
          "iopub.status.busy": "2022-06-12T16:45:45.107247Z",
          "iopub.status.idle": "2022-06-12T16:45:45.107540Z",
          "shell.execute_reply": "2022-06-12T16:45:45.107406Z",
          "shell.execute_reply.started": "2022-06-12T16:45:45.107387Z"
        },
        "papermill": {
          "duration": 0.053703,
          "end_time": "2022-06-12T16:56:39.486170",
          "exception": false,
          "start_time": "2022-06-12T16:56:39.432467",
          "status": "completed"
        },
        "tags": [],
        "id": "3def4b97"
      },
      "outputs": [],
      "source": [
        "dataset_macro_features = pd.read_csv('./drive/MyDrive/Recommendation_system/dataset/processed_data/macro_feats_NN_final.csv',\n",
        "                                     usecols=['session_id',\n",
        "                                                'session_similarity',\n",
        "                                                'session_similarity_uniques', 'session_similarity_feats', 'session_similarity_feats_uniques',\n",
        "                                              'length_of_session_seconds',\n",
        "                   'avg_time_spent_per_item_seconds',\n",
        "                   'variance_time_spent_per_item_seconds',\n",
        "                   'n_seen_items',\n",
        "                   'n_unique_items',])\n",
        "\n",
        "dataset_macro_features.rename(columns={'session_id':'Session_Id'}, inplace=True)\n",
        "dataset = dataset.merge(dataset_macro_features, on='Session_Id', how='left')"
      ]
    },
    {
      "cell_type": "code",
      "execution_count": null,
      "metadata": {
        "pycharm": {
          "name": "#%%\n"
        },
        "id": "nqVWKJ5A6EEG"
      },
      "outputs": [],
      "source": [
        "# dataset.drop('Max_Score_TopPop15', axis=1, inplace=True)"
      ],
      "id": "nqVWKJ5A6EEG"
    },
    {
      "cell_type": "code",
      "execution_count": null,
      "id": "ec1dd779",
      "metadata": {
        "execution": {
          "iopub.execute_input": "2022-06-12T16:56:39.599154Z",
          "iopub.status.busy": "2022-06-12T16:56:39.598474Z",
          "iopub.status.idle": "2022-06-12T16:56:39.615720Z",
          "shell.execute_reply": "2022-06-12T16:56:39.616252Z",
          "shell.execute_reply.started": "2022-06-12T16:49:55.659744Z"
        },
        "papermill": {
          "duration": 0.076322,
          "end_time": "2022-06-12T16:56:39.616418",
          "exception": false,
          "start_time": "2022-06-12T16:56:39.540096",
          "status": "completed"
        },
        "tags": [],
        "colab": {
          "base_uri": "https://localhost:8080/",
          "height": 256
        },
        "id": "ec1dd779",
        "outputId": "6a9af65b-9c26-4d88-8195-be46e45e4de5"
      },
      "outputs": [
        {
          "output_type": "execute_result",
          "data": {
            "text/plain": [
              "   Item_ID  Score_UCF  Score_ICBF  Score_Graph  Score_ICF  Session_Id  \\\n",
              "0       11   0.035145    0.115033     0.006554   0.311263          61   \n",
              "1       19   0.018681    0.000000     0.000000   0.000000          61   \n",
              "2       23   0.039035    0.072503     0.007389   0.325638          61   \n",
              "3       25   0.025481    0.081094     0.004554   0.006163          61   \n",
              "4       69   0.056301    0.085104     0.011284   0.338065          61   \n",
              "\n",
              "   score_LSTM  rank_LSTM  Max_Score_UCF  Max_Score_ICBF  ...  Max_Score_ICF  \\\n",
              "0    0.001511       45.0      239.07347        3.357151  ...       0.563566   \n",
              "1    0.000000        0.0      239.07347        3.357151  ...       0.563566   \n",
              "2    0.000000        0.0      239.07347        3.357151  ...       0.563566   \n",
              "3    0.000000        0.0      239.07347        3.357151  ...       0.563566   \n",
              "4    0.002591       25.0      239.07347        3.357151  ...       0.563566   \n",
              "\n",
              "   length_of_session_seconds  avg_time_spent_per_item_seconds  \\\n",
              "0                        0.0                              0.0   \n",
              "1                        0.0                              0.0   \n",
              "2                        0.0                              0.0   \n",
              "3                        0.0                              0.0   \n",
              "4                        0.0                              0.0   \n",
              "\n",
              "   variance_time_spent_per_item_seconds  n_seen_items  n_unique_items  \\\n",
              "0                                   0.0           1.0             1.0   \n",
              "1                                   0.0           1.0             1.0   \n",
              "2                                   0.0           1.0             1.0   \n",
              "3                                   0.0           1.0             1.0   \n",
              "4                                   0.0           1.0             1.0   \n",
              "\n",
              "   session_similarity  session_similarity_uniques  session_similarity_feats  \\\n",
              "0                 1.0                         1.0                       1.0   \n",
              "1                 1.0                         1.0                       1.0   \n",
              "2                 1.0                         1.0                       1.0   \n",
              "3                 1.0                         1.0                       1.0   \n",
              "4                 1.0                         1.0                       1.0   \n",
              "\n",
              "   session_similarity_feats_uniques  \n",
              "0                               1.0  \n",
              "1                               1.0  \n",
              "2                               1.0  \n",
              "3                               1.0  \n",
              "4                               1.0  \n",
              "\n",
              "[5 rows x 21 columns]"
            ],
            "text/html": [
              "\n",
              "  <div id=\"df-52558d5d-6209-4e25-8d5c-64cf41aea442\" class=\"colab-df-container\">\n",
              "    <div>\n",
              "<style scoped>\n",
              "    .dataframe tbody tr th:only-of-type {\n",
              "        vertical-align: middle;\n",
              "    }\n",
              "\n",
              "    .dataframe tbody tr th {\n",
              "        vertical-align: top;\n",
              "    }\n",
              "\n",
              "    .dataframe thead th {\n",
              "        text-align: right;\n",
              "    }\n",
              "</style>\n",
              "<table border=\"1\" class=\"dataframe\">\n",
              "  <thead>\n",
              "    <tr style=\"text-align: right;\">\n",
              "      <th></th>\n",
              "      <th>Item_ID</th>\n",
              "      <th>Score_UCF</th>\n",
              "      <th>Score_ICBF</th>\n",
              "      <th>Score_Graph</th>\n",
              "      <th>Score_ICF</th>\n",
              "      <th>Session_Id</th>\n",
              "      <th>score_LSTM</th>\n",
              "      <th>rank_LSTM</th>\n",
              "      <th>Max_Score_UCF</th>\n",
              "      <th>Max_Score_ICBF</th>\n",
              "      <th>...</th>\n",
              "      <th>Max_Score_ICF</th>\n",
              "      <th>length_of_session_seconds</th>\n",
              "      <th>avg_time_spent_per_item_seconds</th>\n",
              "      <th>variance_time_spent_per_item_seconds</th>\n",
              "      <th>n_seen_items</th>\n",
              "      <th>n_unique_items</th>\n",
              "      <th>session_similarity</th>\n",
              "      <th>session_similarity_uniques</th>\n",
              "      <th>session_similarity_feats</th>\n",
              "      <th>session_similarity_feats_uniques</th>\n",
              "    </tr>\n",
              "  </thead>\n",
              "  <tbody>\n",
              "    <tr>\n",
              "      <th>0</th>\n",
              "      <td>11</td>\n",
              "      <td>0.035145</td>\n",
              "      <td>0.115033</td>\n",
              "      <td>0.006554</td>\n",
              "      <td>0.311263</td>\n",
              "      <td>61</td>\n",
              "      <td>0.001511</td>\n",
              "      <td>45.0</td>\n",
              "      <td>239.07347</td>\n",
              "      <td>3.357151</td>\n",
              "      <td>...</td>\n",
              "      <td>0.563566</td>\n",
              "      <td>0.0</td>\n",
              "      <td>0.0</td>\n",
              "      <td>0.0</td>\n",
              "      <td>1.0</td>\n",
              "      <td>1.0</td>\n",
              "      <td>1.0</td>\n",
              "      <td>1.0</td>\n",
              "      <td>1.0</td>\n",
              "      <td>1.0</td>\n",
              "    </tr>\n",
              "    <tr>\n",
              "      <th>1</th>\n",
              "      <td>19</td>\n",
              "      <td>0.018681</td>\n",
              "      <td>0.000000</td>\n",
              "      <td>0.000000</td>\n",
              "      <td>0.000000</td>\n",
              "      <td>61</td>\n",
              "      <td>0.000000</td>\n",
              "      <td>0.0</td>\n",
              "      <td>239.07347</td>\n",
              "      <td>3.357151</td>\n",
              "      <td>...</td>\n",
              "      <td>0.563566</td>\n",
              "      <td>0.0</td>\n",
              "      <td>0.0</td>\n",
              "      <td>0.0</td>\n",
              "      <td>1.0</td>\n",
              "      <td>1.0</td>\n",
              "      <td>1.0</td>\n",
              "      <td>1.0</td>\n",
              "      <td>1.0</td>\n",
              "      <td>1.0</td>\n",
              "    </tr>\n",
              "    <tr>\n",
              "      <th>2</th>\n",
              "      <td>23</td>\n",
              "      <td>0.039035</td>\n",
              "      <td>0.072503</td>\n",
              "      <td>0.007389</td>\n",
              "      <td>0.325638</td>\n",
              "      <td>61</td>\n",
              "      <td>0.000000</td>\n",
              "      <td>0.0</td>\n",
              "      <td>239.07347</td>\n",
              "      <td>3.357151</td>\n",
              "      <td>...</td>\n",
              "      <td>0.563566</td>\n",
              "      <td>0.0</td>\n",
              "      <td>0.0</td>\n",
              "      <td>0.0</td>\n",
              "      <td>1.0</td>\n",
              "      <td>1.0</td>\n",
              "      <td>1.0</td>\n",
              "      <td>1.0</td>\n",
              "      <td>1.0</td>\n",
              "      <td>1.0</td>\n",
              "    </tr>\n",
              "    <tr>\n",
              "      <th>3</th>\n",
              "      <td>25</td>\n",
              "      <td>0.025481</td>\n",
              "      <td>0.081094</td>\n",
              "      <td>0.004554</td>\n",
              "      <td>0.006163</td>\n",
              "      <td>61</td>\n",
              "      <td>0.000000</td>\n",
              "      <td>0.0</td>\n",
              "      <td>239.07347</td>\n",
              "      <td>3.357151</td>\n",
              "      <td>...</td>\n",
              "      <td>0.563566</td>\n",
              "      <td>0.0</td>\n",
              "      <td>0.0</td>\n",
              "      <td>0.0</td>\n",
              "      <td>1.0</td>\n",
              "      <td>1.0</td>\n",
              "      <td>1.0</td>\n",
              "      <td>1.0</td>\n",
              "      <td>1.0</td>\n",
              "      <td>1.0</td>\n",
              "    </tr>\n",
              "    <tr>\n",
              "      <th>4</th>\n",
              "      <td>69</td>\n",
              "      <td>0.056301</td>\n",
              "      <td>0.085104</td>\n",
              "      <td>0.011284</td>\n",
              "      <td>0.338065</td>\n",
              "      <td>61</td>\n",
              "      <td>0.002591</td>\n",
              "      <td>25.0</td>\n",
              "      <td>239.07347</td>\n",
              "      <td>3.357151</td>\n",
              "      <td>...</td>\n",
              "      <td>0.563566</td>\n",
              "      <td>0.0</td>\n",
              "      <td>0.0</td>\n",
              "      <td>0.0</td>\n",
              "      <td>1.0</td>\n",
              "      <td>1.0</td>\n",
              "      <td>1.0</td>\n",
              "      <td>1.0</td>\n",
              "      <td>1.0</td>\n",
              "      <td>1.0</td>\n",
              "    </tr>\n",
              "  </tbody>\n",
              "</table>\n",
              "<p>5 rows × 21 columns</p>\n",
              "</div>\n",
              "    <div class=\"colab-df-buttons\">\n",
              "\n",
              "  <div class=\"colab-df-container\">\n",
              "    <button class=\"colab-df-convert\" onclick=\"convertToInteractive('df-52558d5d-6209-4e25-8d5c-64cf41aea442')\"\n",
              "            title=\"Convert this dataframe to an interactive table.\"\n",
              "            style=\"display:none;\">\n",
              "\n",
              "  <svg xmlns=\"http://www.w3.org/2000/svg\" height=\"24px\" viewBox=\"0 -960 960 960\">\n",
              "    <path d=\"M120-120v-720h720v720H120Zm60-500h600v-160H180v160Zm220 220h160v-160H400v160Zm0 220h160v-160H400v160ZM180-400h160v-160H180v160Zm440 0h160v-160H620v160ZM180-180h160v-160H180v160Zm440 0h160v-160H620v160Z\"/>\n",
              "  </svg>\n",
              "    </button>\n",
              "\n",
              "  <style>\n",
              "    .colab-df-container {\n",
              "      display:flex;\n",
              "      gap: 12px;\n",
              "    }\n",
              "\n",
              "    .colab-df-convert {\n",
              "      background-color: #E8F0FE;\n",
              "      border: none;\n",
              "      border-radius: 50%;\n",
              "      cursor: pointer;\n",
              "      display: none;\n",
              "      fill: #1967D2;\n",
              "      height: 32px;\n",
              "      padding: 0 0 0 0;\n",
              "      width: 32px;\n",
              "    }\n",
              "\n",
              "    .colab-df-convert:hover {\n",
              "      background-color: #E2EBFA;\n",
              "      box-shadow: 0px 1px 2px rgba(60, 64, 67, 0.3), 0px 1px 3px 1px rgba(60, 64, 67, 0.15);\n",
              "      fill: #174EA6;\n",
              "    }\n",
              "\n",
              "    .colab-df-buttons div {\n",
              "      margin-bottom: 4px;\n",
              "    }\n",
              "\n",
              "    [theme=dark] .colab-df-convert {\n",
              "      background-color: #3B4455;\n",
              "      fill: #D2E3FC;\n",
              "    }\n",
              "\n",
              "    [theme=dark] .colab-df-convert:hover {\n",
              "      background-color: #434B5C;\n",
              "      box-shadow: 0px 1px 3px 1px rgba(0, 0, 0, 0.15);\n",
              "      filter: drop-shadow(0px 1px 2px rgba(0, 0, 0, 0.3));\n",
              "      fill: #FFFFFF;\n",
              "    }\n",
              "  </style>\n",
              "\n",
              "    <script>\n",
              "      const buttonEl =\n",
              "        document.querySelector('#df-52558d5d-6209-4e25-8d5c-64cf41aea442 button.colab-df-convert');\n",
              "      buttonEl.style.display =\n",
              "        google.colab.kernel.accessAllowed ? 'block' : 'none';\n",
              "\n",
              "      async function convertToInteractive(key) {\n",
              "        const element = document.querySelector('#df-52558d5d-6209-4e25-8d5c-64cf41aea442');\n",
              "        const dataTable =\n",
              "          await google.colab.kernel.invokeFunction('convertToInteractive',\n",
              "                                                    [key], {});\n",
              "        if (!dataTable) return;\n",
              "\n",
              "        const docLinkHtml = 'Like what you see? Visit the ' +\n",
              "          '<a target=\"_blank\" href=https://colab.research.google.com/notebooks/data_table.ipynb>data table notebook</a>'\n",
              "          + ' to learn more about interactive tables.';\n",
              "        element.innerHTML = '';\n",
              "        dataTable['output_type'] = 'display_data';\n",
              "        await google.colab.output.renderOutput(dataTable, element);\n",
              "        const docLink = document.createElement('div');\n",
              "        docLink.innerHTML = docLinkHtml;\n",
              "        element.appendChild(docLink);\n",
              "      }\n",
              "    </script>\n",
              "  </div>\n",
              "\n",
              "\n",
              "<div id=\"df-1ec48694-7174-4cb6-8236-86efbeb12507\">\n",
              "  <button class=\"colab-df-quickchart\" onclick=\"quickchart('df-1ec48694-7174-4cb6-8236-86efbeb12507')\"\n",
              "            title=\"Suggest charts\"\n",
              "            style=\"display:none;\">\n",
              "\n",
              "<svg xmlns=\"http://www.w3.org/2000/svg\" height=\"24px\"viewBox=\"0 0 24 24\"\n",
              "     width=\"24px\">\n",
              "    <g>\n",
              "        <path d=\"M19 3H5c-1.1 0-2 .9-2 2v14c0 1.1.9 2 2 2h14c1.1 0 2-.9 2-2V5c0-1.1-.9-2-2-2zM9 17H7v-7h2v7zm4 0h-2V7h2v10zm4 0h-2v-4h2v4z\"/>\n",
              "    </g>\n",
              "</svg>\n",
              "  </button>\n",
              "\n",
              "<style>\n",
              "  .colab-df-quickchart {\n",
              "      --bg-color: #E8F0FE;\n",
              "      --fill-color: #1967D2;\n",
              "      --hover-bg-color: #E2EBFA;\n",
              "      --hover-fill-color: #174EA6;\n",
              "      --disabled-fill-color: #AAA;\n",
              "      --disabled-bg-color: #DDD;\n",
              "  }\n",
              "\n",
              "  [theme=dark] .colab-df-quickchart {\n",
              "      --bg-color: #3B4455;\n",
              "      --fill-color: #D2E3FC;\n",
              "      --hover-bg-color: #434B5C;\n",
              "      --hover-fill-color: #FFFFFF;\n",
              "      --disabled-bg-color: #3B4455;\n",
              "      --disabled-fill-color: #666;\n",
              "  }\n",
              "\n",
              "  .colab-df-quickchart {\n",
              "    background-color: var(--bg-color);\n",
              "    border: none;\n",
              "    border-radius: 50%;\n",
              "    cursor: pointer;\n",
              "    display: none;\n",
              "    fill: var(--fill-color);\n",
              "    height: 32px;\n",
              "    padding: 0;\n",
              "    width: 32px;\n",
              "  }\n",
              "\n",
              "  .colab-df-quickchart:hover {\n",
              "    background-color: var(--hover-bg-color);\n",
              "    box-shadow: 0 1px 2px rgba(60, 64, 67, 0.3), 0 1px 3px 1px rgba(60, 64, 67, 0.15);\n",
              "    fill: var(--button-hover-fill-color);\n",
              "  }\n",
              "\n",
              "  .colab-df-quickchart-complete:disabled,\n",
              "  .colab-df-quickchart-complete:disabled:hover {\n",
              "    background-color: var(--disabled-bg-color);\n",
              "    fill: var(--disabled-fill-color);\n",
              "    box-shadow: none;\n",
              "  }\n",
              "\n",
              "  .colab-df-spinner {\n",
              "    border: 2px solid var(--fill-color);\n",
              "    border-color: transparent;\n",
              "    border-bottom-color: var(--fill-color);\n",
              "    animation:\n",
              "      spin 1s steps(1) infinite;\n",
              "  }\n",
              "\n",
              "  @keyframes spin {\n",
              "    0% {\n",
              "      border-color: transparent;\n",
              "      border-bottom-color: var(--fill-color);\n",
              "      border-left-color: var(--fill-color);\n",
              "    }\n",
              "    20% {\n",
              "      border-color: transparent;\n",
              "      border-left-color: var(--fill-color);\n",
              "      border-top-color: var(--fill-color);\n",
              "    }\n",
              "    30% {\n",
              "      border-color: transparent;\n",
              "      border-left-color: var(--fill-color);\n",
              "      border-top-color: var(--fill-color);\n",
              "      border-right-color: var(--fill-color);\n",
              "    }\n",
              "    40% {\n",
              "      border-color: transparent;\n",
              "      border-right-color: var(--fill-color);\n",
              "      border-top-color: var(--fill-color);\n",
              "    }\n",
              "    60% {\n",
              "      border-color: transparent;\n",
              "      border-right-color: var(--fill-color);\n",
              "    }\n",
              "    80% {\n",
              "      border-color: transparent;\n",
              "      border-right-color: var(--fill-color);\n",
              "      border-bottom-color: var(--fill-color);\n",
              "    }\n",
              "    90% {\n",
              "      border-color: transparent;\n",
              "      border-bottom-color: var(--fill-color);\n",
              "    }\n",
              "  }\n",
              "</style>\n",
              "\n",
              "  <script>\n",
              "    async function quickchart(key) {\n",
              "      const quickchartButtonEl =\n",
              "        document.querySelector('#' + key + ' button');\n",
              "      quickchartButtonEl.disabled = true;  // To prevent multiple clicks.\n",
              "      quickchartButtonEl.classList.add('colab-df-spinner');\n",
              "      try {\n",
              "        const charts = await google.colab.kernel.invokeFunction(\n",
              "            'suggestCharts', [key], {});\n",
              "      } catch (error) {\n",
              "        console.error('Error during call to suggestCharts:', error);\n",
              "      }\n",
              "      quickchartButtonEl.classList.remove('colab-df-spinner');\n",
              "      quickchartButtonEl.classList.add('colab-df-quickchart-complete');\n",
              "    }\n",
              "    (() => {\n",
              "      let quickchartButtonEl =\n",
              "        document.querySelector('#df-1ec48694-7174-4cb6-8236-86efbeb12507 button');\n",
              "      quickchartButtonEl.style.display =\n",
              "        google.colab.kernel.accessAllowed ? 'block' : 'none';\n",
              "    })();\n",
              "  </script>\n",
              "</div>\n",
              "\n",
              "    </div>\n",
              "  </div>\n"
            ],
            "application/vnd.google.colaboratory.intrinsic+json": {
              "type": "dataframe",
              "variable_name": "dataset"
            }
          },
          "metadata": {},
          "execution_count": 23
        }
      ],
      "source": [
        "dataset.head()"
      ]
    },
    {
      "cell_type": "code",
      "execution_count": null,
      "id": "0e5ed5e6",
      "metadata": {
        "execution": {
          "iopub.execute_input": "2022-06-12T16:56:39.727309Z",
          "iopub.status.busy": "2022-06-12T16:56:39.726655Z",
          "iopub.status.idle": "2022-06-12T16:56:39.829233Z",
          "shell.execute_reply": "2022-06-12T16:56:39.828737Z",
          "shell.execute_reply.started": "2022-06-12T16:49:57.837326Z"
        },
        "papermill": {
          "duration": 0.15881,
          "end_time": "2022-06-12T16:56:39.829383",
          "exception": false,
          "start_time": "2022-06-12T16:56:39.670573",
          "status": "completed"
        },
        "tags": [],
        "colab": {
          "base_uri": "https://localhost:8080/"
        },
        "id": "0e5ed5e6",
        "outputId": "76fc72f5-4a5e-4105-bc4e-c455d8944c89"
      },
      "outputs": [
        {
          "output_type": "execute_result",
          "data": {
            "text/plain": [
              "0"
            ]
          },
          "metadata": {},
          "execution_count": 24
        }
      ],
      "source": [
        "gc.collect()"
      ]
    },
    {
      "cell_type": "code",
      "execution_count": null,
      "id": "1546cffa",
      "metadata": {
        "execution": {
          "iopub.execute_input": "2022-06-12T16:56:39.944426Z",
          "iopub.status.busy": "2022-06-12T16:56:39.943764Z",
          "iopub.status.idle": "2022-06-12T16:56:43.274340Z",
          "shell.execute_reply": "2022-06-12T16:56:43.273731Z",
          "shell.execute_reply.started": "2022-06-12T16:45:45.112926Z"
        },
        "papermill": {
          "duration": 3.39065,
          "end_time": "2022-06-12T16:56:43.274495",
          "exception": false,
          "start_time": "2022-06-12T16:56:39.883845",
          "status": "completed"
        },
        "tags": [],
        "id": "1546cffa"
      },
      "outputs": [],
      "source": [
        "dataset=dataset.sort_values(\"Session_Id\")"
      ]
    },
    {
      "cell_type": "code",
      "execution_count": null,
      "id": "ae00cbc6",
      "metadata": {
        "execution": {
          "iopub.execute_input": "2022-06-12T16:56:43.604262Z",
          "iopub.status.busy": "2022-06-12T16:56:43.603612Z",
          "iopub.status.idle": "2022-06-12T16:56:43.706397Z",
          "shell.execute_reply": "2022-06-12T16:56:43.706933Z",
          "shell.execute_reply.started": "2022-06-12T16:45:45.114357Z"
        },
        "papermill": {
          "duration": 0.160414,
          "end_time": "2022-06-12T16:56:43.707099",
          "exception": false,
          "start_time": "2022-06-12T16:56:43.546685",
          "status": "completed"
        },
        "tags": [],
        "colab": {
          "base_uri": "https://localhost:8080/"
        },
        "id": "ae00cbc6",
        "outputId": "51326a4c-921c-4515-b013-bf2aae538ab0"
      },
      "outputs": [
        {
          "output_type": "execute_result",
          "data": {
            "text/plain": [
              "0"
            ]
          },
          "metadata": {},
          "execution_count": 26
        }
      ],
      "source": [
        "gc.collect()"
      ]
    },
    {
      "cell_type": "code",
      "execution_count": null,
      "id": "6ec34b10",
      "metadata": {
        "execution": {
          "iopub.execute_input": "2022-06-12T16:56:43.821997Z",
          "iopub.status.busy": "2022-06-12T16:56:43.821367Z",
          "iopub.status.idle": "2022-06-12T16:56:45.541802Z",
          "shell.execute_reply": "2022-06-12T16:56:45.541032Z",
          "shell.execute_reply.started": "2022-06-12T16:45:45.116157Z"
        },
        "papermill": {
          "duration": 1.779393,
          "end_time": "2022-06-12T16:56:45.541963",
          "exception": false,
          "start_time": "2022-06-12T16:56:43.762570",
          "status": "completed"
        },
        "tags": [],
        "id": "6ec34b10"
      },
      "outputs": [],
      "source": [
        "import lightgbm"
      ]
    },
    {
      "cell_type": "code",
      "execution_count": null,
      "metadata": {
        "pycharm": {
          "name": "#%%\n"
        },
        "id": "STXPa5eA6EEH"
      },
      "outputs": [],
      "source": [
        "k=10\n",
        "result = []"
      ],
      "id": "STXPa5eA6EEH"
    },
    {
      "cell_type": "code",
      "execution_count": null,
      "id": "5d441590",
      "metadata": {
        "execution": {
          "iopub.execute_input": "2022-06-12T16:56:45.659990Z",
          "iopub.status.busy": "2022-06-12T16:56:45.659231Z",
          "iopub.status.idle": "2022-06-12T16:56:45.721584Z",
          "shell.execute_reply": "2022-06-12T16:56:45.722262Z",
          "shell.execute_reply.started": "2022-06-12T16:45:45.117557Z"
        },
        "papermill": {
          "duration": 0.123721,
          "end_time": "2022-06-12T16:56:45.722456",
          "exception": false,
          "start_time": "2022-06-12T16:56:45.598735",
          "status": "completed"
        },
        "tags": [],
        "colab": {
          "base_uri": "https://localhost:8080/"
        },
        "id": "5d441590",
        "outputId": "788ce939-2d95-46bd-f8dc-4e9df89bcce9"
      },
      "outputs": [
        {
          "output_type": "execute_result",
          "data": {
            "text/plain": [
              "array([[-0.32250742, -1.82630611, -1.89948004, ..., -1.86377808,\n",
              "        -1.86377808, -1.53990971],\n",
              "       [-0.86963227, -3.17537099, -3.31268778, ..., -3.19849513,\n",
              "        -3.19849513, -2.36470167],\n",
              "       [-1.08337799, -3.4424639 , -3.55231233, ..., -3.32397016,\n",
              "        -3.32397016, -2.57951804],\n",
              "       ...,\n",
              "       [-1.18756523, -3.58511242, -3.78713499, ..., -3.4148288 ,\n",
              "        -3.4148288 , -2.1746211 ],\n",
              "       [-1.10793473, -3.4705367 , -3.75911079, ..., -3.36060508,\n",
              "        -3.36060508, -2.51644264],\n",
              "       [-1.21864832, -3.4654535 , -3.746795  , ..., -3.3785058 ,\n",
              "        -3.3785058 , -2.5015894 ]])"
            ]
          },
          "metadata": {},
          "execution_count": 29
        }
      ],
      "source": [
        "for index in range(k):\n",
        "    model = lightgbm.Booster(model_file=f'./drive/MyDrive/Recommendation_system/rankers/lightgbm/all_traditional_and_lstm/model_{index}.txt')\n",
        "    result.append(model.predict(dataset.drop([\"Session_Id\",\"Item_ID\"],axis=1)))\n",
        "\n",
        "result = np.array(result)\n",
        "result"
      ]
    },
    {
      "cell_type": "code",
      "execution_count": null,
      "metadata": {
        "pycharm": {
          "name": "#%%\n"
        },
        "id": "C_sj7pMb6EEH"
      },
      "outputs": [],
      "source": [
        "dataset[\"score\"]=np.mean(result ,axis=0)\n",
        "# dataset[\"score\"]=np.median(result ,axis=0)"
      ],
      "id": "C_sj7pMb6EEH"
    },
    {
      "cell_type": "code",
      "execution_count": null,
      "id": "b92931e2",
      "metadata": {
        "execution": {
          "iopub.execute_input": "2022-06-12T16:59:02.077546Z",
          "iopub.status.busy": "2022-06-12T16:59:01.698248Z",
          "iopub.status.idle": "2022-06-12T16:59:02.080396Z",
          "shell.execute_reply": "2022-06-12T16:59:02.080921Z",
          "shell.execute_reply.started": "2022-06-12T16:45:45.120519Z"
        },
        "papermill": {
          "duration": 0.442046,
          "end_time": "2022-06-12T16:59:02.081096",
          "exception": false,
          "start_time": "2022-06-12T16:59:01.639050",
          "status": "completed"
        },
        "tags": [],
        "colab": {
          "base_uri": "https://localhost:8080/"
        },
        "id": "b92931e2",
        "outputId": "0fcf85d2-ec90-4919-f493-4d692acf096b"
      },
      "outputs": [
        {
          "output_type": "execute_result",
          "data": {
            "text/plain": [
              "49"
            ]
          },
          "metadata": {},
          "execution_count": 31
        }
      ],
      "source": [
        "dataset=dataset[[\"Session_Id\",\"Item_ID\",\"score\"]]\n",
        "gc.collect()"
      ]
    },
    {
      "cell_type": "code",
      "execution_count": null,
      "id": "3a582375",
      "metadata": {
        "execution": {
          "iopub.execute_input": "2022-06-12T16:59:02.201861Z",
          "iopub.status.busy": "2022-06-12T16:59:02.201225Z",
          "iopub.status.idle": "2022-06-12T16:59:02.209553Z",
          "shell.execute_reply": "2022-06-12T16:59:02.208952Z",
          "shell.execute_reply.started": "2022-06-12T16:45:45.122235Z"
        },
        "papermill": {
          "duration": 0.071213,
          "end_time": "2022-06-12T16:59:02.209707",
          "exception": false,
          "start_time": "2022-06-12T16:59:02.138494",
          "status": "completed"
        },
        "tags": [],
        "colab": {
          "base_uri": "https://localhost:8080/",
          "height": 206
        },
        "id": "3a582375",
        "outputId": "ff9c5935-df2b-4d40-ac3d-bfe2a1c63e58"
      },
      "outputs": [
        {
          "output_type": "execute_result",
          "data": {
            "text/plain": [
              "          Session_Id  Item_ID     score\n",
              "0                 61       11 -0.911340\n",
              "25325335          61     2839 -3.005523\n",
              "25325334          61     2721 -3.162443\n",
              "25325333          61     2640 -3.162443\n",
              "25325332          61     2594 -3.164590"
            ],
            "text/html": [
              "\n",
              "  <div id=\"df-dacc83da-eb0a-4dd1-a161-22939f441165\" class=\"colab-df-container\">\n",
              "    <div>\n",
              "<style scoped>\n",
              "    .dataframe tbody tr th:only-of-type {\n",
              "        vertical-align: middle;\n",
              "    }\n",
              "\n",
              "    .dataframe tbody tr th {\n",
              "        vertical-align: top;\n",
              "    }\n",
              "\n",
              "    .dataframe thead th {\n",
              "        text-align: right;\n",
              "    }\n",
              "</style>\n",
              "<table border=\"1\" class=\"dataframe\">\n",
              "  <thead>\n",
              "    <tr style=\"text-align: right;\">\n",
              "      <th></th>\n",
              "      <th>Session_Id</th>\n",
              "      <th>Item_ID</th>\n",
              "      <th>score</th>\n",
              "    </tr>\n",
              "  </thead>\n",
              "  <tbody>\n",
              "    <tr>\n",
              "      <th>0</th>\n",
              "      <td>61</td>\n",
              "      <td>11</td>\n",
              "      <td>-0.911340</td>\n",
              "    </tr>\n",
              "    <tr>\n",
              "      <th>25325335</th>\n",
              "      <td>61</td>\n",
              "      <td>2839</td>\n",
              "      <td>-3.005523</td>\n",
              "    </tr>\n",
              "    <tr>\n",
              "      <th>25325334</th>\n",
              "      <td>61</td>\n",
              "      <td>2721</td>\n",
              "      <td>-3.162443</td>\n",
              "    </tr>\n",
              "    <tr>\n",
              "      <th>25325333</th>\n",
              "      <td>61</td>\n",
              "      <td>2640</td>\n",
              "      <td>-3.162443</td>\n",
              "    </tr>\n",
              "    <tr>\n",
              "      <th>25325332</th>\n",
              "      <td>61</td>\n",
              "      <td>2594</td>\n",
              "      <td>-3.164590</td>\n",
              "    </tr>\n",
              "  </tbody>\n",
              "</table>\n",
              "</div>\n",
              "    <div class=\"colab-df-buttons\">\n",
              "\n",
              "  <div class=\"colab-df-container\">\n",
              "    <button class=\"colab-df-convert\" onclick=\"convertToInteractive('df-dacc83da-eb0a-4dd1-a161-22939f441165')\"\n",
              "            title=\"Convert this dataframe to an interactive table.\"\n",
              "            style=\"display:none;\">\n",
              "\n",
              "  <svg xmlns=\"http://www.w3.org/2000/svg\" height=\"24px\" viewBox=\"0 -960 960 960\">\n",
              "    <path d=\"M120-120v-720h720v720H120Zm60-500h600v-160H180v160Zm220 220h160v-160H400v160Zm0 220h160v-160H400v160ZM180-400h160v-160H180v160Zm440 0h160v-160H620v160ZM180-180h160v-160H180v160Zm440 0h160v-160H620v160Z\"/>\n",
              "  </svg>\n",
              "    </button>\n",
              "\n",
              "  <style>\n",
              "    .colab-df-container {\n",
              "      display:flex;\n",
              "      gap: 12px;\n",
              "    }\n",
              "\n",
              "    .colab-df-convert {\n",
              "      background-color: #E8F0FE;\n",
              "      border: none;\n",
              "      border-radius: 50%;\n",
              "      cursor: pointer;\n",
              "      display: none;\n",
              "      fill: #1967D2;\n",
              "      height: 32px;\n",
              "      padding: 0 0 0 0;\n",
              "      width: 32px;\n",
              "    }\n",
              "\n",
              "    .colab-df-convert:hover {\n",
              "      background-color: #E2EBFA;\n",
              "      box-shadow: 0px 1px 2px rgba(60, 64, 67, 0.3), 0px 1px 3px 1px rgba(60, 64, 67, 0.15);\n",
              "      fill: #174EA6;\n",
              "    }\n",
              "\n",
              "    .colab-df-buttons div {\n",
              "      margin-bottom: 4px;\n",
              "    }\n",
              "\n",
              "    [theme=dark] .colab-df-convert {\n",
              "      background-color: #3B4455;\n",
              "      fill: #D2E3FC;\n",
              "    }\n",
              "\n",
              "    [theme=dark] .colab-df-convert:hover {\n",
              "      background-color: #434B5C;\n",
              "      box-shadow: 0px 1px 3px 1px rgba(0, 0, 0, 0.15);\n",
              "      filter: drop-shadow(0px 1px 2px rgba(0, 0, 0, 0.3));\n",
              "      fill: #FFFFFF;\n",
              "    }\n",
              "  </style>\n",
              "\n",
              "    <script>\n",
              "      const buttonEl =\n",
              "        document.querySelector('#df-dacc83da-eb0a-4dd1-a161-22939f441165 button.colab-df-convert');\n",
              "      buttonEl.style.display =\n",
              "        google.colab.kernel.accessAllowed ? 'block' : 'none';\n",
              "\n",
              "      async function convertToInteractive(key) {\n",
              "        const element = document.querySelector('#df-dacc83da-eb0a-4dd1-a161-22939f441165');\n",
              "        const dataTable =\n",
              "          await google.colab.kernel.invokeFunction('convertToInteractive',\n",
              "                                                    [key], {});\n",
              "        if (!dataTable) return;\n",
              "\n",
              "        const docLinkHtml = 'Like what you see? Visit the ' +\n",
              "          '<a target=\"_blank\" href=https://colab.research.google.com/notebooks/data_table.ipynb>data table notebook</a>'\n",
              "          + ' to learn more about interactive tables.';\n",
              "        element.innerHTML = '';\n",
              "        dataTable['output_type'] = 'display_data';\n",
              "        await google.colab.output.renderOutput(dataTable, element);\n",
              "        const docLink = document.createElement('div');\n",
              "        docLink.innerHTML = docLinkHtml;\n",
              "        element.appendChild(docLink);\n",
              "      }\n",
              "    </script>\n",
              "  </div>\n",
              "\n",
              "\n",
              "<div id=\"df-dff2213d-847b-4af4-a330-b87fb071be21\">\n",
              "  <button class=\"colab-df-quickchart\" onclick=\"quickchart('df-dff2213d-847b-4af4-a330-b87fb071be21')\"\n",
              "            title=\"Suggest charts\"\n",
              "            style=\"display:none;\">\n",
              "\n",
              "<svg xmlns=\"http://www.w3.org/2000/svg\" height=\"24px\"viewBox=\"0 0 24 24\"\n",
              "     width=\"24px\">\n",
              "    <g>\n",
              "        <path d=\"M19 3H5c-1.1 0-2 .9-2 2v14c0 1.1.9 2 2 2h14c1.1 0 2-.9 2-2V5c0-1.1-.9-2-2-2zM9 17H7v-7h2v7zm4 0h-2V7h2v10zm4 0h-2v-4h2v4z\"/>\n",
              "    </g>\n",
              "</svg>\n",
              "  </button>\n",
              "\n",
              "<style>\n",
              "  .colab-df-quickchart {\n",
              "      --bg-color: #E8F0FE;\n",
              "      --fill-color: #1967D2;\n",
              "      --hover-bg-color: #E2EBFA;\n",
              "      --hover-fill-color: #174EA6;\n",
              "      --disabled-fill-color: #AAA;\n",
              "      --disabled-bg-color: #DDD;\n",
              "  }\n",
              "\n",
              "  [theme=dark] .colab-df-quickchart {\n",
              "      --bg-color: #3B4455;\n",
              "      --fill-color: #D2E3FC;\n",
              "      --hover-bg-color: #434B5C;\n",
              "      --hover-fill-color: #FFFFFF;\n",
              "      --disabled-bg-color: #3B4455;\n",
              "      --disabled-fill-color: #666;\n",
              "  }\n",
              "\n",
              "  .colab-df-quickchart {\n",
              "    background-color: var(--bg-color);\n",
              "    border: none;\n",
              "    border-radius: 50%;\n",
              "    cursor: pointer;\n",
              "    display: none;\n",
              "    fill: var(--fill-color);\n",
              "    height: 32px;\n",
              "    padding: 0;\n",
              "    width: 32px;\n",
              "  }\n",
              "\n",
              "  .colab-df-quickchart:hover {\n",
              "    background-color: var(--hover-bg-color);\n",
              "    box-shadow: 0 1px 2px rgba(60, 64, 67, 0.3), 0 1px 3px 1px rgba(60, 64, 67, 0.15);\n",
              "    fill: var(--button-hover-fill-color);\n",
              "  }\n",
              "\n",
              "  .colab-df-quickchart-complete:disabled,\n",
              "  .colab-df-quickchart-complete:disabled:hover {\n",
              "    background-color: var(--disabled-bg-color);\n",
              "    fill: var(--disabled-fill-color);\n",
              "    box-shadow: none;\n",
              "  }\n",
              "\n",
              "  .colab-df-spinner {\n",
              "    border: 2px solid var(--fill-color);\n",
              "    border-color: transparent;\n",
              "    border-bottom-color: var(--fill-color);\n",
              "    animation:\n",
              "      spin 1s steps(1) infinite;\n",
              "  }\n",
              "\n",
              "  @keyframes spin {\n",
              "    0% {\n",
              "      border-color: transparent;\n",
              "      border-bottom-color: var(--fill-color);\n",
              "      border-left-color: var(--fill-color);\n",
              "    }\n",
              "    20% {\n",
              "      border-color: transparent;\n",
              "      border-left-color: var(--fill-color);\n",
              "      border-top-color: var(--fill-color);\n",
              "    }\n",
              "    30% {\n",
              "      border-color: transparent;\n",
              "      border-left-color: var(--fill-color);\n",
              "      border-top-color: var(--fill-color);\n",
              "      border-right-color: var(--fill-color);\n",
              "    }\n",
              "    40% {\n",
              "      border-color: transparent;\n",
              "      border-right-color: var(--fill-color);\n",
              "      border-top-color: var(--fill-color);\n",
              "    }\n",
              "    60% {\n",
              "      border-color: transparent;\n",
              "      border-right-color: var(--fill-color);\n",
              "    }\n",
              "    80% {\n",
              "      border-color: transparent;\n",
              "      border-right-color: var(--fill-color);\n",
              "      border-bottom-color: var(--fill-color);\n",
              "    }\n",
              "    90% {\n",
              "      border-color: transparent;\n",
              "      border-bottom-color: var(--fill-color);\n",
              "    }\n",
              "  }\n",
              "</style>\n",
              "\n",
              "  <script>\n",
              "    async function quickchart(key) {\n",
              "      const quickchartButtonEl =\n",
              "        document.querySelector('#' + key + ' button');\n",
              "      quickchartButtonEl.disabled = true;  // To prevent multiple clicks.\n",
              "      quickchartButtonEl.classList.add('colab-df-spinner');\n",
              "      try {\n",
              "        const charts = await google.colab.kernel.invokeFunction(\n",
              "            'suggestCharts', [key], {});\n",
              "      } catch (error) {\n",
              "        console.error('Error during call to suggestCharts:', error);\n",
              "      }\n",
              "      quickchartButtonEl.classList.remove('colab-df-spinner');\n",
              "      quickchartButtonEl.classList.add('colab-df-quickchart-complete');\n",
              "    }\n",
              "    (() => {\n",
              "      let quickchartButtonEl =\n",
              "        document.querySelector('#df-dff2213d-847b-4af4-a330-b87fb071be21 button');\n",
              "      quickchartButtonEl.style.display =\n",
              "        google.colab.kernel.accessAllowed ? 'block' : 'none';\n",
              "    })();\n",
              "  </script>\n",
              "</div>\n",
              "\n",
              "    </div>\n",
              "  </div>\n"
            ],
            "application/vnd.google.colaboratory.intrinsic+json": {
              "type": "dataframe",
              "variable_name": "dataset"
            }
          },
          "metadata": {},
          "execution_count": 32
        }
      ],
      "source": [
        "dataset.head()"
      ]
    },
    {
      "cell_type": "code",
      "execution_count": null,
      "id": "f62e232f",
      "metadata": {
        "execution": {
          "iopub.execute_input": "2022-06-12T16:59:02.327660Z",
          "iopub.status.busy": "2022-06-12T16:59:02.325936Z",
          "iopub.status.idle": "2022-06-12T16:59:16.631562Z",
          "shell.execute_reply": "2022-06-12T16:59:16.630905Z",
          "shell.execute_reply.started": "2022-06-12T16:45:45.123130Z"
        },
        "papermill": {
          "duration": 14.365345,
          "end_time": "2022-06-12T16:59:16.631745",
          "exception": false,
          "start_time": "2022-06-12T16:59:02.266400",
          "status": "completed"
        },
        "tags": [],
        "id": "f62e232f"
      },
      "outputs": [],
      "source": [
        "dataset=dataset.groupby(['Session_Id']).agg(list).reset_index()"
      ]
    },
    {
      "cell_type": "code",
      "execution_count": null,
      "id": "9b85040e",
      "metadata": {
        "execution": {
          "iopub.execute_input": "2022-06-12T16:59:16.757153Z",
          "iopub.status.busy": "2022-06-12T16:59:16.755027Z",
          "iopub.status.idle": "2022-06-12T16:59:16.758945Z",
          "shell.execute_reply": "2022-06-12T16:59:16.759547Z",
          "shell.execute_reply.started": "2022-06-12T16:45:45.125443Z"
        },
        "papermill": {
          "duration": 0.070322,
          "end_time": "2022-06-12T16:59:16.759733",
          "exception": false,
          "start_time": "2022-06-12T16:59:16.689411",
          "status": "completed"
        },
        "tags": [],
        "id": "9b85040e"
      },
      "outputs": [],
      "source": [
        "def get_indices(x):\n",
        "    x=np.array(x)\n",
        "    indices_unsorted=np.argpartition(x, -100)[-100:]\n",
        "    x=x[indices_unsorted]\n",
        "    indices=indices_unsorted[np.argsort(-x)]\n",
        "    return indices"
      ]
    },
    {
      "cell_type": "code",
      "execution_count": null,
      "id": "322214a9",
      "metadata": {
        "execution": {
          "iopub.execute_input": "2022-06-12T16:59:16.880335Z",
          "iopub.status.busy": "2022-06-12T16:59:16.878240Z",
          "iopub.status.idle": "2022-06-12T16:59:21.541201Z",
          "shell.execute_reply": "2022-06-12T16:59:21.540626Z",
          "shell.execute_reply.started": "2022-06-12T16:45:45.127023Z"
        },
        "papermill": {
          "duration": 4.723503,
          "end_time": "2022-06-12T16:59:21.541339",
          "exception": false,
          "start_time": "2022-06-12T16:59:16.817836",
          "status": "completed"
        },
        "tags": [],
        "id": "322214a9"
      },
      "outputs": [],
      "source": [
        "dataset[\"indices\"]=dataset[\"score\"].apply(lambda x: get_indices(x))"
      ]
    },
    {
      "cell_type": "code",
      "execution_count": null,
      "id": "0d15c34d",
      "metadata": {
        "execution": {
          "iopub.execute_input": "2022-06-12T16:59:21.666446Z",
          "iopub.status.busy": "2022-06-12T16:59:21.665635Z",
          "iopub.status.idle": "2022-06-12T16:59:21.668937Z",
          "shell.execute_reply": "2022-06-12T16:59:21.669415Z",
          "shell.execute_reply.started": "2022-06-12T16:45:45.128494Z"
        },
        "papermill": {
          "duration": 0.069271,
          "end_time": "2022-06-12T16:59:21.669582",
          "exception": false,
          "start_time": "2022-06-12T16:59:21.600311",
          "status": "completed"
        },
        "tags": [],
        "colab": {
          "base_uri": "https://localhost:8080/"
        },
        "id": "0d15c34d",
        "outputId": "2815fbf4-4473-46ca-c21d-63954e4ddace"
      },
      "outputs": [
        {
          "output_type": "execute_result",
          "data": {
            "text/plain": [
              "Session_Id                                                   61\n",
              "Item_ID       [11, 2839, 2721, 2640, 2594, 2442, 2386, 2376,...\n",
              "score         [-0.9113398033877667, -3.005522745285509, -3.1...\n",
              "indices       [386, 407, 537, 448, 75, 98, 531, 400, 296, 10...\n",
              "Name: 0, dtype: object"
            ]
          },
          "metadata": {},
          "execution_count": 36
        }
      ],
      "source": [
        "dataset.iloc[0]"
      ]
    },
    {
      "cell_type": "code",
      "execution_count": null,
      "id": "bddb4385",
      "metadata": {
        "execution": {
          "iopub.execute_input": "2022-06-12T16:59:21.792818Z",
          "iopub.status.busy": "2022-06-12T16:59:21.792123Z",
          "iopub.status.idle": "2022-06-12T16:59:21.794690Z",
          "shell.execute_reply": "2022-06-12T16:59:21.795160Z",
          "shell.execute_reply.started": "2022-06-12T16:45:45.129667Z"
        },
        "papermill": {
          "duration": 0.066992,
          "end_time": "2022-06-12T16:59:21.795321",
          "exception": false,
          "start_time": "2022-06-12T16:59:21.728329",
          "status": "completed"
        },
        "tags": [],
        "colab": {
          "base_uri": "https://localhost:8080/"
        },
        "id": "bddb4385",
        "outputId": "bb7aa4d7-77b0-4a21-935e-dddca2960cc4"
      },
      "outputs": [
        {
          "output_type": "execute_result",
          "data": {
            "text/plain": [
              "3581"
            ]
          },
          "metadata": {},
          "execution_count": 37
        }
      ],
      "source": [
        "dataset.iloc[0][\"Item_ID\"][536]"
      ]
    },
    {
      "cell_type": "code",
      "execution_count": null,
      "id": "ebaf1049",
      "metadata": {
        "execution": {
          "iopub.execute_input": "2022-06-12T16:59:21.914318Z",
          "iopub.status.busy": "2022-06-12T16:59:21.913633Z",
          "iopub.status.idle": "2022-06-12T16:59:21.918477Z",
          "shell.execute_reply": "2022-06-12T16:59:21.917883Z",
          "shell.execute_reply.started": "2022-06-12T16:45:45.133056Z"
        },
        "papermill": {
          "duration": 0.065781,
          "end_time": "2022-06-12T16:59:21.918641",
          "exception": false,
          "start_time": "2022-06-12T16:59:21.852860",
          "status": "completed"
        },
        "tags": [],
        "id": "ebaf1049"
      },
      "outputs": [],
      "source": [
        "def get_items(x):\n",
        "    items=np.array(x[0])\n",
        "    return items[x[1]]"
      ]
    },
    {
      "cell_type": "code",
      "execution_count": null,
      "id": "144e62b2",
      "metadata": {
        "execution": {
          "iopub.execute_input": "2022-06-12T16:59:22.041022Z",
          "iopub.status.busy": "2022-06-12T16:59:22.040329Z",
          "iopub.status.idle": "2022-06-12T16:59:26.943557Z",
          "shell.execute_reply": "2022-06-12T16:59:26.942906Z",
          "shell.execute_reply.started": "2022-06-12T16:45:45.134236Z"
        },
        "papermill": {
          "duration": 4.96688,
          "end_time": "2022-06-12T16:59:26.943713",
          "exception": false,
          "start_time": "2022-06-12T16:59:21.976833",
          "status": "completed"
        },
        "tags": [],
        "id": "144e62b2"
      },
      "outputs": [],
      "source": [
        "dataset[\"predictions\"]=dataset[[\"Item_ID\",\"indices\"]].apply(get_items,axis=1)"
      ]
    },
    {
      "cell_type": "code",
      "execution_count": null,
      "id": "b3e85988",
      "metadata": {
        "execution": {
          "iopub.execute_input": "2022-06-12T16:59:27.064711Z",
          "iopub.status.busy": "2022-06-12T16:59:27.064029Z",
          "iopub.status.idle": "2022-06-12T16:59:28.418904Z",
          "shell.execute_reply": "2022-06-12T16:59:28.418236Z",
          "shell.execute_reply.started": "2022-06-12T16:45:45.135881Z"
        },
        "papermill": {
          "duration": 1.416768,
          "end_time": "2022-06-12T16:59:28.419052",
          "exception": false,
          "start_time": "2022-06-12T16:59:27.002284",
          "status": "completed"
        },
        "tags": [],
        "id": "b3e85988"
      },
      "outputs": [],
      "source": [
        "dataset=dataset[[\"Session_Id\",\"predictions\"]]\n",
        "dataset[\"rank\"]=dataset.apply(lambda x:tuple([rank for rank in range(1, 101)]) ,axis=1)"
      ]
    },
    {
      "cell_type": "code",
      "execution_count": null,
      "id": "2c55ecc0",
      "metadata": {
        "execution": {
          "iopub.execute_input": "2022-06-12T16:59:28.541311Z",
          "iopub.status.busy": "2022-06-12T16:59:28.540658Z",
          "iopub.status.idle": "2022-06-12T16:59:28.576588Z",
          "shell.execute_reply": "2022-06-12T16:59:28.575962Z",
          "shell.execute_reply.started": "2022-06-12T16:45:45.137133Z"
        },
        "papermill": {
          "duration": 0.099685,
          "end_time": "2022-06-12T16:59:28.576741",
          "exception": false,
          "start_time": "2022-06-12T16:59:28.477056",
          "status": "completed"
        },
        "tags": [],
        "colab": {
          "base_uri": "https://localhost:8080/",
          "height": 424
        },
        "id": "2c55ecc0",
        "outputId": "a1afde7f-39c5-4d7e-9fd1-c189a0f42564"
      },
      "outputs": [
        {
          "output_type": "execute_result",
          "data": {
            "text/plain": [
              "       Session_Id                                        predictions  \\\n",
              "0              61  [1045, 292, 3586, 1563, 4574, 3904, 3414, 143,...   \n",
              "1              96  [3564, 3705, 3778, 4591, 143, 3290, 4148, 1183...   \n",
              "2             185  [4148, 4146, 1936, 2704, 2330, 3326, 3827, 416...   \n",
              "3             224  [4202, 3338, 2769, 16, 4990, 4764, 1516, 2448,...   \n",
              "4             285  [3691, 3555, 2899, 2970, 3441, 2471, 3599, 465...   \n",
              "...           ...                                                ...   \n",
              "49995     4439646  [270, 1468, 772, 4026, 3656, 2720, 3424, 191, ...   \n",
              "49996     4439648  [4145, 3901, 3223, 4586, 3550, 3110, 3505, 223...   \n",
              "49997     4439675  [4865, 3166, 4966, 819, 779, 3445, 3879, 1169,...   \n",
              "49998     4439868  [519, 4740, 1972, 2285, 292, 4220, 3414, 3586,...   \n",
              "49999     4439966  [3362, 1609, 678, 559, 1931, 3155, 2540, 4126,...   \n",
              "\n",
              "                                                    rank  \n",
              "0      (1, 2, 3, 4, 5, 6, 7, 8, 9, 10, 11, 12, 13, 14...  \n",
              "1      (1, 2, 3, 4, 5, 6, 7, 8, 9, 10, 11, 12, 13, 14...  \n",
              "2      (1, 2, 3, 4, 5, 6, 7, 8, 9, 10, 11, 12, 13, 14...  \n",
              "3      (1, 2, 3, 4, 5, 6, 7, 8, 9, 10, 11, 12, 13, 14...  \n",
              "4      (1, 2, 3, 4, 5, 6, 7, 8, 9, 10, 11, 12, 13, 14...  \n",
              "...                                                  ...  \n",
              "49995  (1, 2, 3, 4, 5, 6, 7, 8, 9, 10, 11, 12, 13, 14...  \n",
              "49996  (1, 2, 3, 4, 5, 6, 7, 8, 9, 10, 11, 12, 13, 14...  \n",
              "49997  (1, 2, 3, 4, 5, 6, 7, 8, 9, 10, 11, 12, 13, 14...  \n",
              "49998  (1, 2, 3, 4, 5, 6, 7, 8, 9, 10, 11, 12, 13, 14...  \n",
              "49999  (1, 2, 3, 4, 5, 6, 7, 8, 9, 10, 11, 12, 13, 14...  \n",
              "\n",
              "[50000 rows x 3 columns]"
            ],
            "text/html": [
              "\n",
              "  <div id=\"df-f44bcd2e-9049-4404-98d5-3d2c15001d4c\" class=\"colab-df-container\">\n",
              "    <div>\n",
              "<style scoped>\n",
              "    .dataframe tbody tr th:only-of-type {\n",
              "        vertical-align: middle;\n",
              "    }\n",
              "\n",
              "    .dataframe tbody tr th {\n",
              "        vertical-align: top;\n",
              "    }\n",
              "\n",
              "    .dataframe thead th {\n",
              "        text-align: right;\n",
              "    }\n",
              "</style>\n",
              "<table border=\"1\" class=\"dataframe\">\n",
              "  <thead>\n",
              "    <tr style=\"text-align: right;\">\n",
              "      <th></th>\n",
              "      <th>Session_Id</th>\n",
              "      <th>predictions</th>\n",
              "      <th>rank</th>\n",
              "    </tr>\n",
              "  </thead>\n",
              "  <tbody>\n",
              "    <tr>\n",
              "      <th>0</th>\n",
              "      <td>61</td>\n",
              "      <td>[1045, 292, 3586, 1563, 4574, 3904, 3414, 143,...</td>\n",
              "      <td>(1, 2, 3, 4, 5, 6, 7, 8, 9, 10, 11, 12, 13, 14...</td>\n",
              "    </tr>\n",
              "    <tr>\n",
              "      <th>1</th>\n",
              "      <td>96</td>\n",
              "      <td>[3564, 3705, 3778, 4591, 143, 3290, 4148, 1183...</td>\n",
              "      <td>(1, 2, 3, 4, 5, 6, 7, 8, 9, 10, 11, 12, 13, 14...</td>\n",
              "    </tr>\n",
              "    <tr>\n",
              "      <th>2</th>\n",
              "      <td>185</td>\n",
              "      <td>[4148, 4146, 1936, 2704, 2330, 3326, 3827, 416...</td>\n",
              "      <td>(1, 2, 3, 4, 5, 6, 7, 8, 9, 10, 11, 12, 13, 14...</td>\n",
              "    </tr>\n",
              "    <tr>\n",
              "      <th>3</th>\n",
              "      <td>224</td>\n",
              "      <td>[4202, 3338, 2769, 16, 4990, 4764, 1516, 2448,...</td>\n",
              "      <td>(1, 2, 3, 4, 5, 6, 7, 8, 9, 10, 11, 12, 13, 14...</td>\n",
              "    </tr>\n",
              "    <tr>\n",
              "      <th>4</th>\n",
              "      <td>285</td>\n",
              "      <td>[3691, 3555, 2899, 2970, 3441, 2471, 3599, 465...</td>\n",
              "      <td>(1, 2, 3, 4, 5, 6, 7, 8, 9, 10, 11, 12, 13, 14...</td>\n",
              "    </tr>\n",
              "    <tr>\n",
              "      <th>...</th>\n",
              "      <td>...</td>\n",
              "      <td>...</td>\n",
              "      <td>...</td>\n",
              "    </tr>\n",
              "    <tr>\n",
              "      <th>49995</th>\n",
              "      <td>4439646</td>\n",
              "      <td>[270, 1468, 772, 4026, 3656, 2720, 3424, 191, ...</td>\n",
              "      <td>(1, 2, 3, 4, 5, 6, 7, 8, 9, 10, 11, 12, 13, 14...</td>\n",
              "    </tr>\n",
              "    <tr>\n",
              "      <th>49996</th>\n",
              "      <td>4439648</td>\n",
              "      <td>[4145, 3901, 3223, 4586, 3550, 3110, 3505, 223...</td>\n",
              "      <td>(1, 2, 3, 4, 5, 6, 7, 8, 9, 10, 11, 12, 13, 14...</td>\n",
              "    </tr>\n",
              "    <tr>\n",
              "      <th>49997</th>\n",
              "      <td>4439675</td>\n",
              "      <td>[4865, 3166, 4966, 819, 779, 3445, 3879, 1169,...</td>\n",
              "      <td>(1, 2, 3, 4, 5, 6, 7, 8, 9, 10, 11, 12, 13, 14...</td>\n",
              "    </tr>\n",
              "    <tr>\n",
              "      <th>49998</th>\n",
              "      <td>4439868</td>\n",
              "      <td>[519, 4740, 1972, 2285, 292, 4220, 3414, 3586,...</td>\n",
              "      <td>(1, 2, 3, 4, 5, 6, 7, 8, 9, 10, 11, 12, 13, 14...</td>\n",
              "    </tr>\n",
              "    <tr>\n",
              "      <th>49999</th>\n",
              "      <td>4439966</td>\n",
              "      <td>[3362, 1609, 678, 559, 1931, 3155, 2540, 4126,...</td>\n",
              "      <td>(1, 2, 3, 4, 5, 6, 7, 8, 9, 10, 11, 12, 13, 14...</td>\n",
              "    </tr>\n",
              "  </tbody>\n",
              "</table>\n",
              "<p>50000 rows × 3 columns</p>\n",
              "</div>\n",
              "    <div class=\"colab-df-buttons\">\n",
              "\n",
              "  <div class=\"colab-df-container\">\n",
              "    <button class=\"colab-df-convert\" onclick=\"convertToInteractive('df-f44bcd2e-9049-4404-98d5-3d2c15001d4c')\"\n",
              "            title=\"Convert this dataframe to an interactive table.\"\n",
              "            style=\"display:none;\">\n",
              "\n",
              "  <svg xmlns=\"http://www.w3.org/2000/svg\" height=\"24px\" viewBox=\"0 -960 960 960\">\n",
              "    <path d=\"M120-120v-720h720v720H120Zm60-500h600v-160H180v160Zm220 220h160v-160H400v160Zm0 220h160v-160H400v160ZM180-400h160v-160H180v160Zm440 0h160v-160H620v160ZM180-180h160v-160H180v160Zm440 0h160v-160H620v160Z\"/>\n",
              "  </svg>\n",
              "    </button>\n",
              "\n",
              "  <style>\n",
              "    .colab-df-container {\n",
              "      display:flex;\n",
              "      gap: 12px;\n",
              "    }\n",
              "\n",
              "    .colab-df-convert {\n",
              "      background-color: #E8F0FE;\n",
              "      border: none;\n",
              "      border-radius: 50%;\n",
              "      cursor: pointer;\n",
              "      display: none;\n",
              "      fill: #1967D2;\n",
              "      height: 32px;\n",
              "      padding: 0 0 0 0;\n",
              "      width: 32px;\n",
              "    }\n",
              "\n",
              "    .colab-df-convert:hover {\n",
              "      background-color: #E2EBFA;\n",
              "      box-shadow: 0px 1px 2px rgba(60, 64, 67, 0.3), 0px 1px 3px 1px rgba(60, 64, 67, 0.15);\n",
              "      fill: #174EA6;\n",
              "    }\n",
              "\n",
              "    .colab-df-buttons div {\n",
              "      margin-bottom: 4px;\n",
              "    }\n",
              "\n",
              "    [theme=dark] .colab-df-convert {\n",
              "      background-color: #3B4455;\n",
              "      fill: #D2E3FC;\n",
              "    }\n",
              "\n",
              "    [theme=dark] .colab-df-convert:hover {\n",
              "      background-color: #434B5C;\n",
              "      box-shadow: 0px 1px 3px 1px rgba(0, 0, 0, 0.15);\n",
              "      filter: drop-shadow(0px 1px 2px rgba(0, 0, 0, 0.3));\n",
              "      fill: #FFFFFF;\n",
              "    }\n",
              "  </style>\n",
              "\n",
              "    <script>\n",
              "      const buttonEl =\n",
              "        document.querySelector('#df-f44bcd2e-9049-4404-98d5-3d2c15001d4c button.colab-df-convert');\n",
              "      buttonEl.style.display =\n",
              "        google.colab.kernel.accessAllowed ? 'block' : 'none';\n",
              "\n",
              "      async function convertToInteractive(key) {\n",
              "        const element = document.querySelector('#df-f44bcd2e-9049-4404-98d5-3d2c15001d4c');\n",
              "        const dataTable =\n",
              "          await google.colab.kernel.invokeFunction('convertToInteractive',\n",
              "                                                    [key], {});\n",
              "        if (!dataTable) return;\n",
              "\n",
              "        const docLinkHtml = 'Like what you see? Visit the ' +\n",
              "          '<a target=\"_blank\" href=https://colab.research.google.com/notebooks/data_table.ipynb>data table notebook</a>'\n",
              "          + ' to learn more about interactive tables.';\n",
              "        element.innerHTML = '';\n",
              "        dataTable['output_type'] = 'display_data';\n",
              "        await google.colab.output.renderOutput(dataTable, element);\n",
              "        const docLink = document.createElement('div');\n",
              "        docLink.innerHTML = docLinkHtml;\n",
              "        element.appendChild(docLink);\n",
              "      }\n",
              "    </script>\n",
              "  </div>\n",
              "\n",
              "\n",
              "<div id=\"df-c3c41c85-711d-41e4-9069-3cf8de15245a\">\n",
              "  <button class=\"colab-df-quickchart\" onclick=\"quickchart('df-c3c41c85-711d-41e4-9069-3cf8de15245a')\"\n",
              "            title=\"Suggest charts\"\n",
              "            style=\"display:none;\">\n",
              "\n",
              "<svg xmlns=\"http://www.w3.org/2000/svg\" height=\"24px\"viewBox=\"0 0 24 24\"\n",
              "     width=\"24px\">\n",
              "    <g>\n",
              "        <path d=\"M19 3H5c-1.1 0-2 .9-2 2v14c0 1.1.9 2 2 2h14c1.1 0 2-.9 2-2V5c0-1.1-.9-2-2-2zM9 17H7v-7h2v7zm4 0h-2V7h2v10zm4 0h-2v-4h2v4z\"/>\n",
              "    </g>\n",
              "</svg>\n",
              "  </button>\n",
              "\n",
              "<style>\n",
              "  .colab-df-quickchart {\n",
              "      --bg-color: #E8F0FE;\n",
              "      --fill-color: #1967D2;\n",
              "      --hover-bg-color: #E2EBFA;\n",
              "      --hover-fill-color: #174EA6;\n",
              "      --disabled-fill-color: #AAA;\n",
              "      --disabled-bg-color: #DDD;\n",
              "  }\n",
              "\n",
              "  [theme=dark] .colab-df-quickchart {\n",
              "      --bg-color: #3B4455;\n",
              "      --fill-color: #D2E3FC;\n",
              "      --hover-bg-color: #434B5C;\n",
              "      --hover-fill-color: #FFFFFF;\n",
              "      --disabled-bg-color: #3B4455;\n",
              "      --disabled-fill-color: #666;\n",
              "  }\n",
              "\n",
              "  .colab-df-quickchart {\n",
              "    background-color: var(--bg-color);\n",
              "    border: none;\n",
              "    border-radius: 50%;\n",
              "    cursor: pointer;\n",
              "    display: none;\n",
              "    fill: var(--fill-color);\n",
              "    height: 32px;\n",
              "    padding: 0;\n",
              "    width: 32px;\n",
              "  }\n",
              "\n",
              "  .colab-df-quickchart:hover {\n",
              "    background-color: var(--hover-bg-color);\n",
              "    box-shadow: 0 1px 2px rgba(60, 64, 67, 0.3), 0 1px 3px 1px rgba(60, 64, 67, 0.15);\n",
              "    fill: var(--button-hover-fill-color);\n",
              "  }\n",
              "\n",
              "  .colab-df-quickchart-complete:disabled,\n",
              "  .colab-df-quickchart-complete:disabled:hover {\n",
              "    background-color: var(--disabled-bg-color);\n",
              "    fill: var(--disabled-fill-color);\n",
              "    box-shadow: none;\n",
              "  }\n",
              "\n",
              "  .colab-df-spinner {\n",
              "    border: 2px solid var(--fill-color);\n",
              "    border-color: transparent;\n",
              "    border-bottom-color: var(--fill-color);\n",
              "    animation:\n",
              "      spin 1s steps(1) infinite;\n",
              "  }\n",
              "\n",
              "  @keyframes spin {\n",
              "    0% {\n",
              "      border-color: transparent;\n",
              "      border-bottom-color: var(--fill-color);\n",
              "      border-left-color: var(--fill-color);\n",
              "    }\n",
              "    20% {\n",
              "      border-color: transparent;\n",
              "      border-left-color: var(--fill-color);\n",
              "      border-top-color: var(--fill-color);\n",
              "    }\n",
              "    30% {\n",
              "      border-color: transparent;\n",
              "      border-left-color: var(--fill-color);\n",
              "      border-top-color: var(--fill-color);\n",
              "      border-right-color: var(--fill-color);\n",
              "    }\n",
              "    40% {\n",
              "      border-color: transparent;\n",
              "      border-right-color: var(--fill-color);\n",
              "      border-top-color: var(--fill-color);\n",
              "    }\n",
              "    60% {\n",
              "      border-color: transparent;\n",
              "      border-right-color: var(--fill-color);\n",
              "    }\n",
              "    80% {\n",
              "      border-color: transparent;\n",
              "      border-right-color: var(--fill-color);\n",
              "      border-bottom-color: var(--fill-color);\n",
              "    }\n",
              "    90% {\n",
              "      border-color: transparent;\n",
              "      border-bottom-color: var(--fill-color);\n",
              "    }\n",
              "  }\n",
              "</style>\n",
              "\n",
              "  <script>\n",
              "    async function quickchart(key) {\n",
              "      const quickchartButtonEl =\n",
              "        document.querySelector('#' + key + ' button');\n",
              "      quickchartButtonEl.disabled = true;  // To prevent multiple clicks.\n",
              "      quickchartButtonEl.classList.add('colab-df-spinner');\n",
              "      try {\n",
              "        const charts = await google.colab.kernel.invokeFunction(\n",
              "            'suggestCharts', [key], {});\n",
              "      } catch (error) {\n",
              "        console.error('Error during call to suggestCharts:', error);\n",
              "      }\n",
              "      quickchartButtonEl.classList.remove('colab-df-spinner');\n",
              "      quickchartButtonEl.classList.add('colab-df-quickchart-complete');\n",
              "    }\n",
              "    (() => {\n",
              "      let quickchartButtonEl =\n",
              "        document.querySelector('#df-c3c41c85-711d-41e4-9069-3cf8de15245a button');\n",
              "      quickchartButtonEl.style.display =\n",
              "        google.colab.kernel.accessAllowed ? 'block' : 'none';\n",
              "    })();\n",
              "  </script>\n",
              "</div>\n",
              "\n",
              "  <div id=\"id_57b4e1bb-4d26-461b-b8e2-0ecb3eefdb21\">\n",
              "    <style>\n",
              "      .colab-df-generate {\n",
              "        background-color: #E8F0FE;\n",
              "        border: none;\n",
              "        border-radius: 50%;\n",
              "        cursor: pointer;\n",
              "        display: none;\n",
              "        fill: #1967D2;\n",
              "        height: 32px;\n",
              "        padding: 0 0 0 0;\n",
              "        width: 32px;\n",
              "      }\n",
              "\n",
              "      .colab-df-generate:hover {\n",
              "        background-color: #E2EBFA;\n",
              "        box-shadow: 0px 1px 2px rgba(60, 64, 67, 0.3), 0px 1px 3px 1px rgba(60, 64, 67, 0.15);\n",
              "        fill: #174EA6;\n",
              "      }\n",
              "\n",
              "      [theme=dark] .colab-df-generate {\n",
              "        background-color: #3B4455;\n",
              "        fill: #D2E3FC;\n",
              "      }\n",
              "\n",
              "      [theme=dark] .colab-df-generate:hover {\n",
              "        background-color: #434B5C;\n",
              "        box-shadow: 0px 1px 3px 1px rgba(0, 0, 0, 0.15);\n",
              "        filter: drop-shadow(0px 1px 2px rgba(0, 0, 0, 0.3));\n",
              "        fill: #FFFFFF;\n",
              "      }\n",
              "    </style>\n",
              "    <button class=\"colab-df-generate\" onclick=\"generateWithVariable('dataset')\"\n",
              "            title=\"Generate code using this dataframe.\"\n",
              "            style=\"display:none;\">\n",
              "\n",
              "  <svg xmlns=\"http://www.w3.org/2000/svg\" height=\"24px\"viewBox=\"0 0 24 24\"\n",
              "       width=\"24px\">\n",
              "    <path d=\"M7,19H8.4L18.45,9,17,7.55,7,17.6ZM5,21V16.75L18.45,3.32a2,2,0,0,1,2.83,0l1.4,1.43a1.91,1.91,0,0,1,.58,1.4,1.91,1.91,0,0,1-.58,1.4L9.25,21ZM18.45,9,17,7.55Zm-12,3A5.31,5.31,0,0,0,4.9,8.1,5.31,5.31,0,0,0,1,6.5,5.31,5.31,0,0,0,4.9,4.9,5.31,5.31,0,0,0,6.5,1,5.31,5.31,0,0,0,8.1,4.9,5.31,5.31,0,0,0,12,6.5,5.46,5.46,0,0,0,6.5,12Z\"/>\n",
              "  </svg>\n",
              "    </button>\n",
              "    <script>\n",
              "      (() => {\n",
              "      const buttonEl =\n",
              "        document.querySelector('#id_57b4e1bb-4d26-461b-b8e2-0ecb3eefdb21 button.colab-df-generate');\n",
              "      buttonEl.style.display =\n",
              "        google.colab.kernel.accessAllowed ? 'block' : 'none';\n",
              "\n",
              "      buttonEl.onclick = () => {\n",
              "        google.colab.notebook.generateWithVariable('dataset');\n",
              "      }\n",
              "      })();\n",
              "    </script>\n",
              "  </div>\n",
              "\n",
              "    </div>\n",
              "  </div>\n"
            ],
            "application/vnd.google.colaboratory.intrinsic+json": {
              "type": "dataframe",
              "variable_name": "dataset",
              "summary": "{\n  \"name\": \"dataset\",\n  \"rows\": 50000,\n  \"fields\": [\n    {\n      \"column\": \"Session_Id\",\n      \"properties\": {\n        \"dtype\": \"number\",\n        \"std\": 1282026,\n        \"min\": 61,\n        \"max\": 4439966,\n        \"num_unique_values\": 50000,\n        \"samples\": [\n          2971690,\n          836475,\n          16743\n        ],\n        \"semantic_type\": \"\",\n        \"description\": \"\"\n      }\n    },\n    {\n      \"column\": \"predictions\",\n      \"properties\": {\n        \"dtype\": \"object\",\n        \"semantic_type\": \"\",\n        \"description\": \"\"\n      }\n    },\n    {\n      \"column\": \"rank\",\n      \"properties\": {\n        \"dtype\": \"category\",\n        \"num_unique_values\": 1,\n        \"samples\": [\n          [\n            1,\n            2,\n            3,\n            4,\n            5,\n            6,\n            7,\n            8,\n            9,\n            10,\n            11,\n            12,\n            13,\n            14,\n            15,\n            16,\n            17,\n            18,\n            19,\n            20,\n            21,\n            22,\n            23,\n            24,\n            25,\n            26,\n            27,\n            28,\n            29,\n            30,\n            31,\n            32,\n            33,\n            34,\n            35,\n            36,\n            37,\n            38,\n            39,\n            40,\n            41,\n            42,\n            43,\n            44,\n            45,\n            46,\n            47,\n            48,\n            49,\n            50,\n            51,\n            52,\n            53,\n            54,\n            55,\n            56,\n            57,\n            58,\n            59,\n            60,\n            61,\n            62,\n            63,\n            64,\n            65,\n            66,\n            67,\n            68,\n            69,\n            70,\n            71,\n            72,\n            73,\n            74,\n            75,\n            76,\n            77,\n            78,\n            79,\n            80,\n            81,\n            82,\n            83,\n            84,\n            85,\n            86,\n            87,\n            88,\n            89,\n            90,\n            91,\n            92,\n            93,\n            94,\n            95,\n            96,\n            97,\n            98,\n            99,\n            100\n          ]\n        ],\n        \"semantic_type\": \"\",\n        \"description\": \"\"\n      }\n    }\n  ]\n}"
            }
          },
          "metadata": {},
          "execution_count": 41
        }
      ],
      "source": [
        "dataset"
      ]
    },
    {
      "cell_type": "code",
      "execution_count": null,
      "id": "19e4beee",
      "metadata": {
        "execution": {
          "iopub.execute_input": "2022-06-12T16:59:29.297882Z",
          "iopub.status.busy": "2022-06-12T16:59:28.699621Z",
          "iopub.status.idle": "2022-06-12T16:59:29.318844Z",
          "shell.execute_reply": "2022-06-12T16:59:29.318122Z",
          "shell.execute_reply.started": "2022-06-12T16:45:45.138354Z"
        },
        "papermill": {
          "duration": 0.683005,
          "end_time": "2022-06-12T16:59:29.319000",
          "exception": false,
          "start_time": "2022-06-12T16:59:28.635995",
          "status": "completed"
        },
        "tags": [],
        "id": "19e4beee"
      },
      "outputs": [],
      "source": [
        "dataset[\"predictions\"]=dataset[\"predictions\"].apply(tuple)"
      ]
    },
    {
      "cell_type": "code",
      "execution_count": null,
      "id": "a2d2299a",
      "metadata": {
        "execution": {
          "iopub.execute_input": "2022-06-12T16:59:29.566072Z",
          "iopub.status.busy": "2022-06-12T16:59:29.565390Z",
          "iopub.status.idle": "2022-06-12T16:59:29.569173Z",
          "shell.execute_reply": "2022-06-12T16:59:29.568574Z",
          "shell.execute_reply.started": "2022-06-12T16:45:45.139710Z"
        },
        "papermill": {
          "duration": 0.07339,
          "end_time": "2022-06-12T16:59:29.569313",
          "exception": false,
          "start_time": "2022-06-12T16:59:29.495923",
          "status": "completed"
        },
        "tags": [],
        "id": "a2d2299a"
      },
      "outputs": [],
      "source": [
        "dataset=dataset[[\"Session_Id\",\"predictions\",\"rank\"]]"
      ]
    },
    {
      "cell_type": "code",
      "execution_count": null,
      "id": "1facb193",
      "metadata": {
        "execution": {
          "iopub.execute_input": "2022-06-12T16:59:29.692489Z",
          "iopub.status.busy": "2022-06-12T16:59:29.691886Z",
          "iopub.status.idle": "2022-06-12T16:59:29.693584Z",
          "shell.execute_reply": "2022-06-12T16:59:29.694079Z",
          "shell.execute_reply.started": "2022-06-12T16:45:45.140957Z"
        },
        "papermill": {
          "duration": 0.06533,
          "end_time": "2022-06-12T16:59:29.694238",
          "exception": false,
          "start_time": "2022-06-12T16:59:29.628908",
          "status": "completed"
        },
        "tags": [],
        "id": "1facb193"
      },
      "outputs": [],
      "source": [
        "dataset.columns=[\"session_id\",\"code\",\"rank\"]"
      ]
    },
    {
      "cell_type": "code",
      "execution_count": null,
      "id": "ccdf1f46",
      "metadata": {
        "execution": {
          "iopub.execute_input": "2022-06-12T16:59:29.818440Z",
          "iopub.status.busy": "2022-06-12T16:59:29.817800Z",
          "iopub.status.idle": "2022-06-12T16:59:29.836686Z",
          "shell.execute_reply": "2022-06-12T16:59:29.837270Z",
          "shell.execute_reply.started": "2022-06-12T16:45:45.142920Z"
        },
        "papermill": {
          "duration": 0.083812,
          "end_time": "2022-06-12T16:59:29.837436",
          "exception": false,
          "start_time": "2022-06-12T16:59:29.753624",
          "status": "completed"
        },
        "tags": [],
        "colab": {
          "base_uri": "https://localhost:8080/",
          "height": 206
        },
        "id": "ccdf1f46",
        "outputId": "7f472461-cb57-49ba-a1ea-024c131dbb47"
      },
      "outputs": [
        {
          "output_type": "execute_result",
          "data": {
            "text/plain": [
              "   session_id                                               code  \\\n",
              "0          61  (1045, 292, 3586, 1563, 4574, 3904, 3414, 143,...   \n",
              "1          96  (3564, 3705, 3778, 4591, 143, 3290, 4148, 1183...   \n",
              "2         185  (4148, 4146, 1936, 2704, 2330, 3326, 3827, 416...   \n",
              "3         224  (4202, 3338, 2769, 16, 4990, 4764, 1516, 2448,...   \n",
              "4         285  (3691, 3555, 2899, 2970, 3441, 2471, 3599, 465...   \n",
              "\n",
              "                                                rank  \n",
              "0  (1, 2, 3, 4, 5, 6, 7, 8, 9, 10, 11, 12, 13, 14...  \n",
              "1  (1, 2, 3, 4, 5, 6, 7, 8, 9, 10, 11, 12, 13, 14...  \n",
              "2  (1, 2, 3, 4, 5, 6, 7, 8, 9, 10, 11, 12, 13, 14...  \n",
              "3  (1, 2, 3, 4, 5, 6, 7, 8, 9, 10, 11, 12, 13, 14...  \n",
              "4  (1, 2, 3, 4, 5, 6, 7, 8, 9, 10, 11, 12, 13, 14...  "
            ],
            "text/html": [
              "\n",
              "  <div id=\"df-761d746e-93b3-4631-b66c-3455075cbaa8\" class=\"colab-df-container\">\n",
              "    <div>\n",
              "<style scoped>\n",
              "    .dataframe tbody tr th:only-of-type {\n",
              "        vertical-align: middle;\n",
              "    }\n",
              "\n",
              "    .dataframe tbody tr th {\n",
              "        vertical-align: top;\n",
              "    }\n",
              "\n",
              "    .dataframe thead th {\n",
              "        text-align: right;\n",
              "    }\n",
              "</style>\n",
              "<table border=\"1\" class=\"dataframe\">\n",
              "  <thead>\n",
              "    <tr style=\"text-align: right;\">\n",
              "      <th></th>\n",
              "      <th>session_id</th>\n",
              "      <th>code</th>\n",
              "      <th>rank</th>\n",
              "    </tr>\n",
              "  </thead>\n",
              "  <tbody>\n",
              "    <tr>\n",
              "      <th>0</th>\n",
              "      <td>61</td>\n",
              "      <td>(1045, 292, 3586, 1563, 4574, 3904, 3414, 143,...</td>\n",
              "      <td>(1, 2, 3, 4, 5, 6, 7, 8, 9, 10, 11, 12, 13, 14...</td>\n",
              "    </tr>\n",
              "    <tr>\n",
              "      <th>1</th>\n",
              "      <td>96</td>\n",
              "      <td>(3564, 3705, 3778, 4591, 143, 3290, 4148, 1183...</td>\n",
              "      <td>(1, 2, 3, 4, 5, 6, 7, 8, 9, 10, 11, 12, 13, 14...</td>\n",
              "    </tr>\n",
              "    <tr>\n",
              "      <th>2</th>\n",
              "      <td>185</td>\n",
              "      <td>(4148, 4146, 1936, 2704, 2330, 3326, 3827, 416...</td>\n",
              "      <td>(1, 2, 3, 4, 5, 6, 7, 8, 9, 10, 11, 12, 13, 14...</td>\n",
              "    </tr>\n",
              "    <tr>\n",
              "      <th>3</th>\n",
              "      <td>224</td>\n",
              "      <td>(4202, 3338, 2769, 16, 4990, 4764, 1516, 2448,...</td>\n",
              "      <td>(1, 2, 3, 4, 5, 6, 7, 8, 9, 10, 11, 12, 13, 14...</td>\n",
              "    </tr>\n",
              "    <tr>\n",
              "      <th>4</th>\n",
              "      <td>285</td>\n",
              "      <td>(3691, 3555, 2899, 2970, 3441, 2471, 3599, 465...</td>\n",
              "      <td>(1, 2, 3, 4, 5, 6, 7, 8, 9, 10, 11, 12, 13, 14...</td>\n",
              "    </tr>\n",
              "  </tbody>\n",
              "</table>\n",
              "</div>\n",
              "    <div class=\"colab-df-buttons\">\n",
              "\n",
              "  <div class=\"colab-df-container\">\n",
              "    <button class=\"colab-df-convert\" onclick=\"convertToInteractive('df-761d746e-93b3-4631-b66c-3455075cbaa8')\"\n",
              "            title=\"Convert this dataframe to an interactive table.\"\n",
              "            style=\"display:none;\">\n",
              "\n",
              "  <svg xmlns=\"http://www.w3.org/2000/svg\" height=\"24px\" viewBox=\"0 -960 960 960\">\n",
              "    <path d=\"M120-120v-720h720v720H120Zm60-500h600v-160H180v160Zm220 220h160v-160H400v160Zm0 220h160v-160H400v160ZM180-400h160v-160H180v160Zm440 0h160v-160H620v160ZM180-180h160v-160H180v160Zm440 0h160v-160H620v160Z\"/>\n",
              "  </svg>\n",
              "    </button>\n",
              "\n",
              "  <style>\n",
              "    .colab-df-container {\n",
              "      display:flex;\n",
              "      gap: 12px;\n",
              "    }\n",
              "\n",
              "    .colab-df-convert {\n",
              "      background-color: #E8F0FE;\n",
              "      border: none;\n",
              "      border-radius: 50%;\n",
              "      cursor: pointer;\n",
              "      display: none;\n",
              "      fill: #1967D2;\n",
              "      height: 32px;\n",
              "      padding: 0 0 0 0;\n",
              "      width: 32px;\n",
              "    }\n",
              "\n",
              "    .colab-df-convert:hover {\n",
              "      background-color: #E2EBFA;\n",
              "      box-shadow: 0px 1px 2px rgba(60, 64, 67, 0.3), 0px 1px 3px 1px rgba(60, 64, 67, 0.15);\n",
              "      fill: #174EA6;\n",
              "    }\n",
              "\n",
              "    .colab-df-buttons div {\n",
              "      margin-bottom: 4px;\n",
              "    }\n",
              "\n",
              "    [theme=dark] .colab-df-convert {\n",
              "      background-color: #3B4455;\n",
              "      fill: #D2E3FC;\n",
              "    }\n",
              "\n",
              "    [theme=dark] .colab-df-convert:hover {\n",
              "      background-color: #434B5C;\n",
              "      box-shadow: 0px 1px 3px 1px rgba(0, 0, 0, 0.15);\n",
              "      filter: drop-shadow(0px 1px 2px rgba(0, 0, 0, 0.3));\n",
              "      fill: #FFFFFF;\n",
              "    }\n",
              "  </style>\n",
              "\n",
              "    <script>\n",
              "      const buttonEl =\n",
              "        document.querySelector('#df-761d746e-93b3-4631-b66c-3455075cbaa8 button.colab-df-convert');\n",
              "      buttonEl.style.display =\n",
              "        google.colab.kernel.accessAllowed ? 'block' : 'none';\n",
              "\n",
              "      async function convertToInteractive(key) {\n",
              "        const element = document.querySelector('#df-761d746e-93b3-4631-b66c-3455075cbaa8');\n",
              "        const dataTable =\n",
              "          await google.colab.kernel.invokeFunction('convertToInteractive',\n",
              "                                                    [key], {});\n",
              "        if (!dataTable) return;\n",
              "\n",
              "        const docLinkHtml = 'Like what you see? Visit the ' +\n",
              "          '<a target=\"_blank\" href=https://colab.research.google.com/notebooks/data_table.ipynb>data table notebook</a>'\n",
              "          + ' to learn more about interactive tables.';\n",
              "        element.innerHTML = '';\n",
              "        dataTable['output_type'] = 'display_data';\n",
              "        await google.colab.output.renderOutput(dataTable, element);\n",
              "        const docLink = document.createElement('div');\n",
              "        docLink.innerHTML = docLinkHtml;\n",
              "        element.appendChild(docLink);\n",
              "      }\n",
              "    </script>\n",
              "  </div>\n",
              "\n",
              "\n",
              "<div id=\"df-8c6035d1-339f-429a-9f11-6573804479d6\">\n",
              "  <button class=\"colab-df-quickchart\" onclick=\"quickchart('df-8c6035d1-339f-429a-9f11-6573804479d6')\"\n",
              "            title=\"Suggest charts\"\n",
              "            style=\"display:none;\">\n",
              "\n",
              "<svg xmlns=\"http://www.w3.org/2000/svg\" height=\"24px\"viewBox=\"0 0 24 24\"\n",
              "     width=\"24px\">\n",
              "    <g>\n",
              "        <path d=\"M19 3H5c-1.1 0-2 .9-2 2v14c0 1.1.9 2 2 2h14c1.1 0 2-.9 2-2V5c0-1.1-.9-2-2-2zM9 17H7v-7h2v7zm4 0h-2V7h2v10zm4 0h-2v-4h2v4z\"/>\n",
              "    </g>\n",
              "</svg>\n",
              "  </button>\n",
              "\n",
              "<style>\n",
              "  .colab-df-quickchart {\n",
              "      --bg-color: #E8F0FE;\n",
              "      --fill-color: #1967D2;\n",
              "      --hover-bg-color: #E2EBFA;\n",
              "      --hover-fill-color: #174EA6;\n",
              "      --disabled-fill-color: #AAA;\n",
              "      --disabled-bg-color: #DDD;\n",
              "  }\n",
              "\n",
              "  [theme=dark] .colab-df-quickchart {\n",
              "      --bg-color: #3B4455;\n",
              "      --fill-color: #D2E3FC;\n",
              "      --hover-bg-color: #434B5C;\n",
              "      --hover-fill-color: #FFFFFF;\n",
              "      --disabled-bg-color: #3B4455;\n",
              "      --disabled-fill-color: #666;\n",
              "  }\n",
              "\n",
              "  .colab-df-quickchart {\n",
              "    background-color: var(--bg-color);\n",
              "    border: none;\n",
              "    border-radius: 50%;\n",
              "    cursor: pointer;\n",
              "    display: none;\n",
              "    fill: var(--fill-color);\n",
              "    height: 32px;\n",
              "    padding: 0;\n",
              "    width: 32px;\n",
              "  }\n",
              "\n",
              "  .colab-df-quickchart:hover {\n",
              "    background-color: var(--hover-bg-color);\n",
              "    box-shadow: 0 1px 2px rgba(60, 64, 67, 0.3), 0 1px 3px 1px rgba(60, 64, 67, 0.15);\n",
              "    fill: var(--button-hover-fill-color);\n",
              "  }\n",
              "\n",
              "  .colab-df-quickchart-complete:disabled,\n",
              "  .colab-df-quickchart-complete:disabled:hover {\n",
              "    background-color: var(--disabled-bg-color);\n",
              "    fill: var(--disabled-fill-color);\n",
              "    box-shadow: none;\n",
              "  }\n",
              "\n",
              "  .colab-df-spinner {\n",
              "    border: 2px solid var(--fill-color);\n",
              "    border-color: transparent;\n",
              "    border-bottom-color: var(--fill-color);\n",
              "    animation:\n",
              "      spin 1s steps(1) infinite;\n",
              "  }\n",
              "\n",
              "  @keyframes spin {\n",
              "    0% {\n",
              "      border-color: transparent;\n",
              "      border-bottom-color: var(--fill-color);\n",
              "      border-left-color: var(--fill-color);\n",
              "    }\n",
              "    20% {\n",
              "      border-color: transparent;\n",
              "      border-left-color: var(--fill-color);\n",
              "      border-top-color: var(--fill-color);\n",
              "    }\n",
              "    30% {\n",
              "      border-color: transparent;\n",
              "      border-left-color: var(--fill-color);\n",
              "      border-top-color: var(--fill-color);\n",
              "      border-right-color: var(--fill-color);\n",
              "    }\n",
              "    40% {\n",
              "      border-color: transparent;\n",
              "      border-right-color: var(--fill-color);\n",
              "      border-top-color: var(--fill-color);\n",
              "    }\n",
              "    60% {\n",
              "      border-color: transparent;\n",
              "      border-right-color: var(--fill-color);\n",
              "    }\n",
              "    80% {\n",
              "      border-color: transparent;\n",
              "      border-right-color: var(--fill-color);\n",
              "      border-bottom-color: var(--fill-color);\n",
              "    }\n",
              "    90% {\n",
              "      border-color: transparent;\n",
              "      border-bottom-color: var(--fill-color);\n",
              "    }\n",
              "  }\n",
              "</style>\n",
              "\n",
              "  <script>\n",
              "    async function quickchart(key) {\n",
              "      const quickchartButtonEl =\n",
              "        document.querySelector('#' + key + ' button');\n",
              "      quickchartButtonEl.disabled = true;  // To prevent multiple clicks.\n",
              "      quickchartButtonEl.classList.add('colab-df-spinner');\n",
              "      try {\n",
              "        const charts = await google.colab.kernel.invokeFunction(\n",
              "            'suggestCharts', [key], {});\n",
              "      } catch (error) {\n",
              "        console.error('Error during call to suggestCharts:', error);\n",
              "      }\n",
              "      quickchartButtonEl.classList.remove('colab-df-spinner');\n",
              "      quickchartButtonEl.classList.add('colab-df-quickchart-complete');\n",
              "    }\n",
              "    (() => {\n",
              "      let quickchartButtonEl =\n",
              "        document.querySelector('#df-8c6035d1-339f-429a-9f11-6573804479d6 button');\n",
              "      quickchartButtonEl.style.display =\n",
              "        google.colab.kernel.accessAllowed ? 'block' : 'none';\n",
              "    })();\n",
              "  </script>\n",
              "</div>\n",
              "\n",
              "    </div>\n",
              "  </div>\n"
            ],
            "application/vnd.google.colaboratory.intrinsic+json": {
              "type": "dataframe",
              "variable_name": "dataset",
              "summary": "{\n  \"name\": \"dataset\",\n  \"rows\": 50000,\n  \"fields\": [\n    {\n      \"column\": \"session_id\",\n      \"properties\": {\n        \"dtype\": \"number\",\n        \"std\": 1282026,\n        \"min\": 61,\n        \"max\": 4439966,\n        \"num_unique_values\": 50000,\n        \"samples\": [\n          2971690,\n          836475,\n          16743\n        ],\n        \"semantic_type\": \"\",\n        \"description\": \"\"\n      }\n    },\n    {\n      \"column\": \"code\",\n      \"properties\": {\n        \"dtype\": \"string\",\n        \"num_unique_values\": 49945,\n        \"samples\": [\n          [\n            \"1510\",\n            \"1424\",\n            \"2614\",\n            \"4591\",\n            \"1590\",\n            \"1290\",\n            \"3586\",\n            \"1420\",\n            \"4220\",\n            \"1608\",\n            \"416\",\n            \"750\",\n            \"2189\",\n            \"292\",\n            \"4436\",\n            \"2367\",\n            \"2285\",\n            \"1052\",\n            \"2257\",\n            \"3904\",\n            \"4083\",\n            \"143\",\n            \"3172\",\n            \"1972\",\n            \"4734\",\n            \"699\",\n            \"1563\",\n            \"3705\",\n            \"2485\",\n            \"1206\",\n            \"2786\",\n            \"1136\",\n            \"4740\",\n            \"3216\",\n            \"1518\",\n            \"519\",\n            \"3892\",\n            \"4136\",\n            \"3607\",\n            \"258\",\n            \"3049\",\n            \"2953\",\n            \"2121\",\n            \"1183\",\n            \"19\",\n            \"2334\",\n            \"685\",\n            \"3335\",\n            \"1148\",\n            \"149\",\n            \"3155\",\n            \"341\",\n            \"4743\",\n            \"1623\",\n            \"2995\",\n            \"4590\",\n            \"410\",\n            \"3550\",\n            \"2117\",\n            \"1573\",\n            \"2923\",\n            \"3844\",\n            \"2328\",\n            \"583\",\n            \"3290\",\n            \"4587\",\n            \"2745\",\n            \"2232\",\n            \"2568\",\n            \"3506\",\n            \"4819\",\n            \"3884\",\n            \"4344\",\n            \"1989\",\n            \"1609\",\n            \"44\",\n            \"3418\",\n            \"1963\",\n            \"4741\",\n            \"1628\",\n            \"3384\",\n            \"3018\",\n            \"4416\",\n            \"2967\",\n            \"4574\",\n            \"2477\",\n            \"2056\",\n            \"4242\",\n            \"230\",\n            \"2862\",\n            \"4245\",\n            \"3108\",\n            \"564\",\n            \"2301\",\n            \"295\",\n            \"1688\",\n            \"2545\",\n            \"3316\",\n            \"194\",\n            \"2667\"\n          ],\n          [\n            \"708\",\n            \"3283\",\n            \"1210\",\n            \"434\",\n            \"4203\",\n            \"991\",\n            \"442\",\n            \"4587\",\n            \"4433\",\n            \"2929\",\n            \"3325\",\n            \"2346\",\n            \"4119\",\n            \"2107\",\n            \"3034\",\n            \"3971\",\n            \"1666\",\n            \"2723\",\n            \"1802\",\n            \"542\",\n            \"865\",\n            \"4257\",\n            \"4418\",\n            \"1810\",\n            \"3128\",\n            \"2312\",\n            \"1135\",\n            \"320\",\n            \"3181\",\n            \"3539\",\n            \"2301\",\n            \"3245\",\n            \"3387\",\n            \"3579\",\n            \"2270\",\n            \"1262\",\n            \"3866\",\n            \"4018\",\n            \"1903\",\n            \"1726\",\n            \"4347\",\n            \"3094\",\n            \"4262\",\n            \"3355\",\n            \"2370\",\n            \"4237\",\n            \"2639\",\n            \"1139\",\n            \"4741\",\n            \"4148\",\n            \"1843\",\n            \"1646\",\n            \"3550\",\n            \"3895\",\n            \"3964\",\n            \"490\",\n            \"3614\",\n            \"3744\",\n            \"860\",\n            \"1201\",\n            \"3203\",\n            \"4278\",\n            \"99\",\n            \"2554\",\n            \"3428\",\n            \"3333\",\n            \"2674\",\n            \"3024\",\n            \"1401\",\n            \"3285\",\n            \"3459\",\n            \"4798\",\n            \"2543\",\n            \"2785\",\n            \"2628\",\n            \"242\",\n            \"1463\",\n            \"2901\",\n            \"4424\",\n            \"2100\",\n            \"1609\",\n            \"1458\",\n            \"356\",\n            \"4787\",\n            \"4000\",\n            \"2037\",\n            \"1519\",\n            \"1952\",\n            \"3976\",\n            \"115\",\n            \"4929\",\n            \"2491\",\n            \"4138\",\n            \"4356\",\n            \"998\",\n            \"1936\",\n            \"3708\",\n            \"3143\",\n            \"4146\",\n            \"2903\"\n          ],\n          [\n            \"1288\",\n            \"3506\",\n            \"4905\",\n            \"4742\",\n            \"615\",\n            \"447\",\n            \"3492\",\n            \"663\",\n            \"2227\",\n            \"2256\",\n            \"4968\",\n            \"981\",\n            \"72\",\n            \"4988\",\n            \"3491\",\n            \"1966\",\n            \"3447\",\n            \"4774\",\n            \"409\",\n            \"3413\",\n            \"2950\",\n            \"4343\",\n            \"1058\",\n            \"3287\",\n            \"2450\",\n            \"4951\",\n            \"2742\",\n            \"26\",\n            \"263\",\n            \"4819\",\n            \"306\",\n            \"3340\",\n            \"1411\",\n            \"996\",\n            \"1019\",\n            \"455\",\n            \"1637\",\n            \"2693\",\n            \"4090\",\n            \"3624\",\n            \"3745\",\n            \"2073\",\n            \"208\",\n            \"3908\",\n            \"1585\",\n            \"368\",\n            \"2904\",\n            \"3185\",\n            \"4264\",\n            \"4112\",\n            \"3856\",\n            \"4475\",\n            \"4172\",\n            \"2244\",\n            \"53\",\n            \"4148\",\n            \"1591\",\n            \"3389\",\n            \"2627\",\n            \"19\",\n            \"2821\",\n            \"3555\",\n            \"1497\",\n            \"2603\",\n            \"3601\",\n            \"3488\",\n            \"1730\",\n            \"3548\",\n            \"646\",\n            \"2239\",\n            \"3551\",\n            \"2415\",\n            \"4803\",\n            \"3675\",\n            \"4758\",\n            \"2722\",\n            \"2212\",\n            \"4461\",\n            \"4321\",\n            \"3769\",\n            \"4899\",\n            \"1229\",\n            \"2984\",\n            \"4094\",\n            \"1562\",\n            \"1878\",\n            \"3133\",\n            \"2649\",\n            \"4484\",\n            \"292\",\n            \"4486\",\n            \"1580\",\n            \"1669\",\n            \"4310\",\n            \"1594\",\n            \"2692\",\n            \"2025\",\n            \"776\",\n            \"1540\",\n            \"3402\"\n          ]\n        ],\n        \"semantic_type\": \"\",\n        \"description\": \"\"\n      }\n    },\n    {\n      \"column\": \"rank\",\n      \"properties\": {\n        \"dtype\": \"category\",\n        \"num_unique_values\": 1,\n        \"samples\": [\n          [\n            1,\n            2,\n            3,\n            4,\n            5,\n            6,\n            7,\n            8,\n            9,\n            10,\n            11,\n            12,\n            13,\n            14,\n            15,\n            16,\n            17,\n            18,\n            19,\n            20,\n            21,\n            22,\n            23,\n            24,\n            25,\n            26,\n            27,\n            28,\n            29,\n            30,\n            31,\n            32,\n            33,\n            34,\n            35,\n            36,\n            37,\n            38,\n            39,\n            40,\n            41,\n            42,\n            43,\n            44,\n            45,\n            46,\n            47,\n            48,\n            49,\n            50,\n            51,\n            52,\n            53,\n            54,\n            55,\n            56,\n            57,\n            58,\n            59,\n            60,\n            61,\n            62,\n            63,\n            64,\n            65,\n            66,\n            67,\n            68,\n            69,\n            70,\n            71,\n            72,\n            73,\n            74,\n            75,\n            76,\n            77,\n            78,\n            79,\n            80,\n            81,\n            82,\n            83,\n            84,\n            85,\n            86,\n            87,\n            88,\n            89,\n            90,\n            91,\n            92,\n            93,\n            94,\n            95,\n            96,\n            97,\n            98,\n            99,\n            100\n          ]\n        ],\n        \"semantic_type\": \"\",\n        \"description\": \"\"\n      }\n    }\n  ]\n}"
            }
          },
          "metadata": {},
          "execution_count": 45
        }
      ],
      "source": [
        "dataset.head()"
      ]
    },
    {
      "cell_type": "code",
      "execution_count": null,
      "id": "e4258770",
      "metadata": {
        "execution": {
          "iopub.execute_input": "2022-06-12T16:59:29.959846Z",
          "iopub.status.busy": "2022-06-12T16:59:29.959193Z",
          "iopub.status.idle": "2022-06-12T16:59:31.262009Z",
          "shell.execute_reply": "2022-06-12T16:59:31.261435Z",
          "shell.execute_reply.started": "2022-06-12T16:45:45.143967Z"
        },
        "papermill": {
          "duration": 1.365591,
          "end_time": "2022-06-12T16:59:31.262162",
          "exception": false,
          "start_time": "2022-06-12T16:59:29.896571",
          "status": "completed"
        },
        "tags": [],
        "id": "e4258770"
      },
      "outputs": [],
      "source": [
        "submission_df = dataset.explode(['code', 'rank']).astype(int)"
      ]
    },
    {
      "cell_type": "code",
      "execution_count": null,
      "id": "f5243792",
      "metadata": {
        "execution": {
          "iopub.execute_input": "2022-06-12T16:59:31.384565Z",
          "iopub.status.busy": "2022-06-12T16:59:31.383947Z",
          "iopub.status.idle": "2022-06-12T16:59:32.135657Z",
          "shell.execute_reply": "2022-06-12T16:59:32.136208Z",
          "shell.execute_reply.started": "2022-06-12T16:45:45.145692Z"
        },
        "papermill": {
          "duration": 0.814342,
          "end_time": "2022-06-12T16:59:32.136382",
          "exception": false,
          "start_time": "2022-06-12T16:59:31.322040",
          "status": "completed"
        },
        "tags": [],
        "id": "f5243792"
      },
      "outputs": [],
      "source": [
        "mapping= pd.read_csv('./drive/MyDrive/Recommendation_system/dataset/processed_data/map.csv')\n",
        "submission_df=submission_df.merge(mapping,on=\"code\",how=\"left\")\n",
        "del submission_df[\"code\"]\n",
        "submission_df=submission_df[[\"session_id\",\"item_id\",\"rank\"]]"
      ]
    },
    {
      "cell_type": "code",
      "execution_count": null,
      "id": "3939ba35",
      "metadata": {
        "execution": {
          "iopub.execute_input": "2022-06-12T16:59:32.259233Z",
          "iopub.status.busy": "2022-06-12T16:59:32.258552Z",
          "iopub.status.idle": "2022-06-12T16:59:32.263516Z",
          "shell.execute_reply": "2022-06-12T16:59:32.264314Z",
          "shell.execute_reply.started": "2022-06-12T16:45:45.147116Z"
        },
        "papermill": {
          "duration": 0.067899,
          "end_time": "2022-06-12T16:59:32.264542",
          "exception": false,
          "start_time": "2022-06-12T16:59:32.196643",
          "status": "completed"
        },
        "tags": [],
        "colab": {
          "base_uri": "https://localhost:8080/"
        },
        "id": "3939ba35",
        "outputId": "5b0908ee-b897-41c2-c25b-2548d8da996a"
      },
      "outputs": [
        {
          "output_type": "stream",
          "name": "stdout",
          "text": [
            "5000000\n"
          ]
        }
      ],
      "source": [
        "print(len(submission_df))"
      ]
    },
    {
      "cell_type": "code",
      "execution_count": null,
      "id": "d9cf15d2",
      "metadata": {
        "execution": {
          "iopub.execute_input": "2022-06-12T16:59:32.403243Z",
          "iopub.status.busy": "2022-06-12T16:59:32.402496Z",
          "iopub.status.idle": "2022-06-12T16:59:32.406343Z",
          "shell.execute_reply": "2022-06-12T16:59:32.406969Z",
          "shell.execute_reply.started": "2022-06-12T16:45:45.149050Z"
        },
        "papermill": {
          "duration": 0.077344,
          "end_time": "2022-06-12T16:59:32.407149",
          "exception": false,
          "start_time": "2022-06-12T16:59:32.329805",
          "status": "completed"
        },
        "tags": [],
        "colab": {
          "base_uri": "https://localhost:8080/"
        },
        "id": "d9cf15d2",
        "outputId": "4ff19dbe-fa3a-4a73-c127-a116ba385002"
      },
      "outputs": [
        {
          "output_type": "stream",
          "name": "stdout",
          "text": [
            "<class 'pandas.core.frame.DataFrame'>\n",
            "Int64Index: 5000000 entries, 0 to 4999999\n",
            "Data columns (total 3 columns):\n",
            " #   Column      Dtype\n",
            "---  ------      -----\n",
            " 0   session_id  int64\n",
            " 1   item_id     int64\n",
            " 2   rank        int64\n",
            "dtypes: int64(3)\n",
            "memory usage: 152.6 MB\n"
          ]
        }
      ],
      "source": [
        "submission_df.info()"
      ]
    },
    {
      "cell_type": "code",
      "execution_count": null,
      "id": "a4bd6fea",
      "metadata": {
        "execution": {
          "iopub.execute_input": "2022-06-12T16:59:32.536003Z",
          "iopub.status.busy": "2022-06-12T16:59:32.534855Z",
          "iopub.status.idle": "2022-06-12T16:59:32.559106Z",
          "shell.execute_reply": "2022-06-12T16:59:32.559544Z",
          "shell.execute_reply.started": "2022-06-12T16:45:45.150576Z"
        },
        "papermill": {
          "duration": 0.091514,
          "end_time": "2022-06-12T16:59:32.559757",
          "exception": false,
          "start_time": "2022-06-12T16:59:32.468243",
          "status": "completed"
        },
        "tags": [],
        "colab": {
          "base_uri": "https://localhost:8080/"
        },
        "id": "a4bd6fea",
        "outputId": "305e0375-1350-47d5-d88e-bf82f75734bc"
      },
      "outputs": [
        {
          "output_type": "execute_result",
          "data": {
            "text/plain": [
              "session_id    0\n",
              "item_id       0\n",
              "rank          0\n",
              "dtype: int64"
            ]
          },
          "metadata": {},
          "execution_count": 50
        }
      ],
      "source": [
        "submission_df.isna().sum()"
      ]
    },
    {
      "cell_type": "code",
      "execution_count": null,
      "id": "4381eeb6",
      "metadata": {
        "execution": {
          "iopub.execute_input": "2022-06-12T16:59:32.685486Z",
          "iopub.status.busy": "2022-06-12T16:59:32.683790Z",
          "iopub.status.idle": "2022-06-12T16:59:43.267171Z",
          "shell.execute_reply": "2022-06-12T16:59:43.266441Z",
          "shell.execute_reply.started": "2022-06-12T16:45:45.152156Z"
        },
        "papermill": {
          "duration": 10.646249,
          "end_time": "2022-06-12T16:59:43.267327",
          "exception": false,
          "start_time": "2022-06-12T16:59:32.621078",
          "status": "completed"
        },
        "tags": [],
        "id": "4381eeb6"
      },
      "outputs": [],
      "source": [
        "submission_df.to_csv(\n",
        "    f'./drive/MyDrive/Recommendation_system/rankers/lightgbm/all_traditional_and_lstm/final/final_sub.csv',\n",
        "    index=False\n",
        "    )"
      ]
    }
  ],
  "metadata": {
    "kernelspec": {
      "display_name": "Python 3",
      "name": "python3"
    },
    "language_info": {
      "codemirror_mode": {
        "name": "ipython",
        "version": 3
      },
      "file_extension": ".py",
      "mimetype": "text/x-python",
      "name": "python",
      "nbconvert_exporter": "python",
      "pygments_lexer": "ipython3",
      "version": "3.7.13"
    },
    "papermill": {
      "default_parameters": {},
      "duration": 355.611026,
      "end_time": "2022-06-12T16:59:44.340713",
      "environment_variables": {},
      "exception": null,
      "input_path": "__notebook__.ipynb",
      "output_path": "__notebook__.ipynb",
      "parameters": {},
      "start_time": "2022-06-12T16:53:48.729687",
      "version": "2.3.3"
    },
    "vscode": {
      "interpreter": {
        "hash": "61f38fddaed46afda7c40a5798d4631266e18af1d335aa6f772dc3ed9b8ab549"
      }
    },
    "colab": {
      "provenance": [],
      "machine_shape": "hm"
    }
  },
  "nbformat": 4,
  "nbformat_minor": 5
}