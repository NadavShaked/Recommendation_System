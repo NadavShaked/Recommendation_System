{
  "cells": [
    {
      "cell_type": "code",
      "execution_count": null,
      "id": "4770ec9a",
      "metadata": {
        "id": "4770ec9a"
      },
      "outputs": [],
      "source": [
        "just_checking_integrity=False"
      ]
    },
    {
      "cell_type": "code",
      "execution_count": null,
      "id": "0cd378b3",
      "metadata": {
        "execution": {
          "iopub.execute_input": "2022-06-12T16:53:58.434177Z",
          "iopub.status.busy": "2022-06-12T16:53:58.433031Z",
          "iopub.status.idle": "2022-06-12T16:53:58.520198Z",
          "shell.execute_reply": "2022-06-12T16:53:58.519411Z",
          "shell.execute_reply.started": "2022-06-12T16:44:12.113125Z"
        },
        "papermill": {
          "duration": 0.141538,
          "end_time": "2022-06-12T16:53:58.520370",
          "exception": false,
          "start_time": "2022-06-12T16:53:58.378832",
          "status": "completed"
        },
        "tags": [],
        "id": "0cd378b3"
      },
      "outputs": [],
      "source": [
        "import gc\n",
        "import pandas as pd\n",
        "import scipy.sparse as sps\n",
        "import numpy as np"
      ]
    },
    {
      "cell_type": "code",
      "source": [
        "from google.colab import drive\n",
        "drive.mount('/content/drive')"
      ],
      "metadata": {
        "colab": {
          "base_uri": "https://localhost:8080/"
        },
        "id": "AAR1Qb8iO11w",
        "outputId": "d48a2bdb-bcd9-4cd0-fd29-8bcbf44136a4"
      },
      "id": "AAR1Qb8iO11w",
      "execution_count": null,
      "outputs": [
        {
          "output_type": "stream",
          "name": "stdout",
          "text": [
            "Mounted at /content/drive\n"
          ]
        }
      ]
    },
    {
      "cell_type": "code",
      "execution_count": null,
      "id": "e4676f00",
      "metadata": {
        "execution": {
          "iopub.execute_input": "2022-06-12T16:53:58.624435Z",
          "iopub.status.busy": "2022-06-12T16:53:58.623807Z",
          "iopub.status.idle": "2022-06-12T16:53:58.715256Z",
          "shell.execute_reply": "2022-06-12T16:53:58.715776Z",
          "shell.execute_reply.started": "2022-06-12T16:44:12.151138Z"
        },
        "papermill": {
          "duration": 0.146009,
          "end_time": "2022-06-12T16:53:58.715990",
          "exception": false,
          "start_time": "2022-06-12T16:53:58.569981",
          "status": "completed"
        },
        "tags": [],
        "id": "e4676f00"
      },
      "outputs": [],
      "source": [
        "URM_test=sps.load_npz(\"./drive/MyDrive/Recommendation_system/dataset/processed_data/URM_test_leaderboard.npz\")"
      ]
    },
    {
      "cell_type": "code",
      "execution_count": null,
      "id": "7854974f",
      "metadata": {
        "execution": {
          "iopub.execute_input": "2022-06-12T16:53:58.818349Z",
          "iopub.status.busy": "2022-06-12T16:53:58.817358Z",
          "iopub.status.idle": "2022-06-12T16:53:58.824571Z",
          "shell.execute_reply": "2022-06-12T16:53:58.825099Z",
          "shell.execute_reply.started": "2022-06-12T16:44:12.212375Z"
        },
        "papermill": {
          "duration": 0.060116,
          "end_time": "2022-06-12T16:53:58.825275",
          "exception": false,
          "start_time": "2022-06-12T16:53:58.765159",
          "status": "completed"
        },
        "tags": [],
        "colab": {
          "base_uri": "https://localhost:8080/"
        },
        "id": "7854974f",
        "outputId": "6e7e7c48-4444-420f-caea-c455ff86597f"
      },
      "outputs": [
        {
          "output_type": "execute_result",
          "data": {
            "text/plain": [
              "(4439758, 23692)"
            ]
          },
          "metadata": {},
          "execution_count": 5
        }
      ],
      "source": [
        "URM_test.shape"
      ]
    },
    {
      "cell_type": "code",
      "execution_count": null,
      "id": "b2fc443c",
      "metadata": {
        "execution": {
          "iopub.execute_input": "2022-06-12T16:53:58.931182Z",
          "iopub.status.busy": "2022-06-12T16:53:58.930469Z",
          "iopub.status.idle": "2022-06-12T16:53:59.004536Z",
          "shell.execute_reply": "2022-06-12T16:53:59.005147Z",
          "shell.execute_reply.started": "2022-06-12T16:44:12.221723Z"
        },
        "papermill": {
          "duration": 0.129216,
          "end_time": "2022-06-12T16:53:59.005328",
          "exception": false,
          "start_time": "2022-06-12T16:53:58.876112",
          "status": "completed"
        },
        "tags": [],
        "colab": {
          "base_uri": "https://localhost:8080/"
        },
        "id": "b2fc443c",
        "outputId": "2d95a8b2-96d8-472e-8a8f-509b19181b97"
      },
      "outputs": [
        {
          "output_type": "execute_result",
          "data": {
            "text/plain": [
              "(4439758,)"
            ]
          },
          "metadata": {},
          "execution_count": 6
        }
      ],
      "source": [
        "np.ravel(URM_test.sum(axis=1)).shape"
      ]
    },
    {
      "cell_type": "code",
      "execution_count": null,
      "id": "f4e1acd0",
      "metadata": {
        "execution": {
          "iopub.execute_input": "2022-06-12T16:53:59.111151Z",
          "iopub.status.busy": "2022-06-12T16:53:59.110421Z",
          "iopub.status.idle": "2022-06-12T16:53:59.199591Z",
          "shell.execute_reply": "2022-06-12T16:53:59.198926Z",
          "shell.execute_reply.started": "2022-06-12T16:44:12.300508Z"
        },
        "papermill": {
          "duration": 0.144207,
          "end_time": "2022-06-12T16:53:59.199763",
          "exception": false,
          "start_time": "2022-06-12T16:53:59.055556",
          "status": "completed"
        },
        "tags": [],
        "id": "f4e1acd0"
      },
      "outputs": [],
      "source": [
        "Session_ids=np.argwhere(np.ravel(URM_test.sum(axis=1)))"
      ]
    },
    {
      "cell_type": "code",
      "execution_count": null,
      "id": "23c21590",
      "metadata": {
        "execution": {
          "iopub.execute_input": "2022-06-12T16:53:59.304726Z",
          "iopub.status.busy": "2022-06-12T16:53:59.304053Z",
          "iopub.status.idle": "2022-06-12T16:53:59.306743Z",
          "shell.execute_reply": "2022-06-12T16:53:59.306254Z",
          "shell.execute_reply.started": "2022-06-12T16:44:12.391063Z"
        },
        "papermill": {
          "duration": 0.056971,
          "end_time": "2022-06-12T16:53:59.306883",
          "exception": false,
          "start_time": "2022-06-12T16:53:59.249912",
          "status": "completed"
        },
        "tags": [],
        "id": "23c21590"
      },
      "outputs": [],
      "source": [
        "is_sorted = lambda a: np.all(a[:-1] <= a[1:])"
      ]
    },
    {
      "cell_type": "code",
      "execution_count": null,
      "id": "5adf257f",
      "metadata": {
        "execution": {
          "iopub.execute_input": "2022-06-12T16:53:59.410367Z",
          "iopub.status.busy": "2022-06-12T16:53:59.409701Z",
          "iopub.status.idle": "2022-06-12T16:53:59.414286Z",
          "shell.execute_reply": "2022-06-12T16:53:59.414842Z",
          "shell.execute_reply.started": "2022-06-12T16:44:12.397660Z"
        },
        "papermill": {
          "duration": 0.057925,
          "end_time": "2022-06-12T16:53:59.415013",
          "exception": false,
          "start_time": "2022-06-12T16:53:59.357088",
          "status": "completed"
        },
        "tags": [],
        "colab": {
          "base_uri": "https://localhost:8080/"
        },
        "id": "5adf257f",
        "outputId": "527b487e-a198-40f1-d0ec-f4a7d463761b"
      },
      "outputs": [
        {
          "output_type": "execute_result",
          "data": {
            "text/plain": [
              "True"
            ]
          },
          "metadata": {},
          "execution_count": 9
        }
      ],
      "source": [
        "is_sorted(Session_ids)"
      ]
    },
    {
      "cell_type": "code",
      "execution_count": null,
      "id": "ae942e02",
      "metadata": {
        "execution": {
          "iopub.execute_input": "2022-06-12T16:53:59.518422Z",
          "iopub.status.busy": "2022-06-12T16:53:59.517782Z",
          "iopub.status.idle": "2022-06-12T16:55:24.580943Z",
          "shell.execute_reply": "2022-06-12T16:55:24.580279Z",
          "shell.execute_reply.started": "2022-06-12T16:44:12.411287Z"
        },
        "papermill": {
          "duration": 85.115587,
          "end_time": "2022-06-12T16:55:24.581119",
          "exception": false,
          "start_time": "2022-06-12T16:53:59.465532",
          "status": "completed"
        },
        "tags": [],
        "colab": {
          "base_uri": "https://localhost:8080/"
        },
        "id": "ae942e02",
        "outputId": "e4b6fa49-849e-4cf6-fce9-f960520038ac"
      },
      "outputs": [
        {
          "output_type": "stream",
          "name": "stdout",
          "text": [
            "0\n",
            "loading UCF\n",
            "15952526\n",
            "loaded UCF\n",
            "0\n",
            "loading ICBF\n",
            "14870776\n",
            "loaded ICBF\n",
            "0\n",
            "loading Graph\n",
            "8315730\n",
            "loaded Graph\n",
            "0\n",
            "loading ICF\n",
            "17772188\n",
            "loaded ICF\n"
          ]
        }
      ],
      "source": [
        "dataset=None\n",
        "dataset_max=None\n",
        "#[\"UCF\",\"ICBF\",\"ICF\",\"Graph\",\"TopPop100\",\"TopPop50\",\"TopPop15\"] # \"UCF_W\",\"Graph_W\",\"ICF_W\",\"UCF_WW\",\"ICBF_WW\",\"Graph_WW\",\"ICF_WW\", \"ICBF_W\"\n",
        "for file in [\"UCF\",\"ICBF\",\"Graph\",\"ICF\"]:\n",
        "    print(gc.collect())\n",
        "    print(f\"loading {file}\")\n",
        "    df=pd.read_csv(f\"./drive/MyDrive/Recommendation_system/dataset/candidates/traditional_recs/leaderboard/{file}.csv\")\n",
        "    print(len(df))\n",
        "    print(f\"loaded {file}\")\n",
        "    for col in df:\n",
        "        if \"Max\" in col:\n",
        "            df_max=df[[\"Session_Id\",col]].drop_duplicates()\n",
        "        elif \"Score\" in col:\n",
        "            df_feats=df[[\"Session_Id\",\"Item_ID\",col]]\n",
        "    if dataset is None:\n",
        "        dataset=df_feats\n",
        "        dataset_max=df_max\n",
        "    else:\n",
        "        dataset=dataset.merge(df_feats,on=[\"Session_Id\",\"Item_ID\"],how=\"outer\")\n",
        "        dataset_max=dataset_max.merge(df_max,on=[\"Session_Id\"],how=\"outer\")\n",
        "    del df\n",
        "\n",
        "\n",
        "del df_feats\n",
        "del df_max"
      ]
    },
    {
      "cell_type": "code",
      "execution_count": null,
      "id": "de5d999f",
      "metadata": {
        "execution": {
          "iopub.execute_input": "2022-06-12T16:55:24.690427Z",
          "iopub.status.busy": "2022-06-12T16:55:24.689463Z",
          "iopub.status.idle": "2022-06-12T16:55:24.872901Z",
          "shell.execute_reply": "2022-06-12T16:55:24.872108Z",
          "shell.execute_reply.started": "2022-06-12T16:45:38.200141Z"
        },
        "papermill": {
          "duration": 0.238542,
          "end_time": "2022-06-12T16:55:24.873056",
          "exception": false,
          "start_time": "2022-06-12T16:55:24.634514",
          "status": "completed"
        },
        "tags": [],
        "id": "de5d999f"
      },
      "outputs": [],
      "source": [
        "ids=np.sort(dataset[\"Session_Id\"].unique())\n",
        "map_ids=pd.DataFrame()\n",
        "map_ids[\"Session_Id\"]=ids\n",
        "if just_checking_integrity:\n",
        "    map_ids[\"Real_Id\"]=Session_ids[:len(ids)]\n",
        "else:\n",
        "    map_ids[\"Real_Id\"]=Session_ids"
      ]
    },
    {
      "cell_type": "code",
      "execution_count": null,
      "id": "7bea3fde",
      "metadata": {
        "execution": {
          "iopub.execute_input": "2022-06-12T16:55:24.984509Z",
          "iopub.status.busy": "2022-06-12T16:55:24.983869Z",
          "iopub.status.idle": "2022-06-12T16:55:25.002790Z",
          "shell.execute_reply": "2022-06-12T16:55:25.002224Z"
        },
        "papermill": {
          "duration": 0.077023,
          "end_time": "2022-06-12T16:55:25.002952",
          "exception": false,
          "start_time": "2022-06-12T16:55:24.925929",
          "status": "completed"
        },
        "tags": [],
        "id": "7bea3fde"
      },
      "outputs": [],
      "source": [
        "dataset_max=dataset_max.merge(map_ids,on=\"Session_Id\",how=\"left\")\n",
        "del dataset_max[\"Session_Id\"]\n",
        "dataset_max.rename(columns={\"Real_Id\":\"Session_Id\"},inplace=True)"
      ]
    },
    {
      "cell_type": "code",
      "execution_count": null,
      "id": "06602988",
      "metadata": {
        "execution": {
          "iopub.execute_input": "2022-06-12T16:55:25.114745Z",
          "iopub.status.busy": "2022-06-12T16:55:25.114028Z",
          "iopub.status.idle": "2022-06-12T16:55:29.314122Z",
          "shell.execute_reply": "2022-06-12T16:55:29.313517Z",
          "shell.execute_reply.started": "2022-06-12T16:45:38.385624Z"
        },
        "papermill": {
          "duration": 4.258115,
          "end_time": "2022-06-12T16:55:29.314291",
          "exception": false,
          "start_time": "2022-06-12T16:55:25.056176",
          "status": "completed"
        },
        "tags": [],
        "id": "06602988"
      },
      "outputs": [],
      "source": [
        "dataset=dataset.merge(map_ids,on=\"Session_Id\",how=\"left\")\n",
        "del dataset[\"Session_Id\"]\n",
        "dataset.rename(columns={\"Real_Id\":\"Session_Id\"},inplace=True)"
      ]
    },
    {
      "cell_type": "code",
      "execution_count": null,
      "id": "1ba29cb4",
      "metadata": {
        "execution": {
          "iopub.execute_input": "2022-06-12T16:55:29.426267Z",
          "iopub.status.busy": "2022-06-12T16:55:29.425561Z",
          "iopub.status.idle": "2022-06-12T16:55:31.342153Z",
          "shell.execute_reply": "2022-06-12T16:55:31.342718Z",
          "shell.execute_reply.started": "2022-06-12T16:45:56.908821Z"
        },
        "papermill": {
          "duration": 1.975633,
          "end_time": "2022-06-12T16:55:31.342906",
          "exception": false,
          "start_time": "2022-06-12T16:55:29.367273",
          "status": "completed"
        },
        "tags": [],
        "id": "1ba29cb4"
      },
      "outputs": [],
      "source": [
        "# import ast\n",
        "# submission_df=pd.read_csv(\"./drive/MyDrive/Recommendation_system/dataset/candidates/NN/GRU/leaderboard/candidates.csv\")\n",
        "# submission_df[\"score\"]=submission_df[\"score\"].map(ast.literal_eval)\n",
        "# submission_df[\"code\"]=submission_df[\"code\"].map(ast.literal_eval)\n",
        "# submission_df[\"rank\"]=submission_df[\"rank\"].map(ast.literal_eval)\n",
        "# submission_df = submission_df.explode(['code','score', 'rank'])\n",
        "# submission_df[[\"session_id\",\"code\",\"rank\"]]=submission_df[[\"session_id\",\"code\",\"rank\"]].astype(int)\n",
        "# submission_df.rename(columns={\"code\":\"Item_ID\",\"session_id\":\"Session_Id\",\"rank\":\"rank_gru\",\"score\":\"score_gru\"},inplace=True)"
      ]
    },
    {
      "cell_type": "code",
      "execution_count": null,
      "id": "fef897e1",
      "metadata": {
        "execution": {
          "iopub.execute_input": "2022-06-12T16:55:31.454420Z",
          "iopub.status.busy": "2022-06-12T16:55:31.453371Z",
          "iopub.status.idle": "2022-06-12T16:55:57.911477Z",
          "shell.execute_reply": "2022-06-12T16:55:57.911973Z",
          "shell.execute_reply.started": "2022-06-12T16:45:59.327200Z"
        },
        "papermill": {
          "duration": 26.516025,
          "end_time": "2022-06-12T16:55:57.912172",
          "exception": false,
          "start_time": "2022-06-12T16:55:31.396147",
          "status": "completed"
        },
        "tags": [],
        "id": "fef897e1"
      },
      "outputs": [],
      "source": [
        "# import ast\n",
        "# submission_df_tr=pd.read_csv(\"./drive/MyDrive/Recommendation_system/dataset/candidates/NN/Transformer/leaderboard/candidates.csv\")\n",
        "# submission_df_tr[\"score\"]=submission_df_tr[\"score\"].map(ast.literal_eval)\n",
        "# submission_df_tr[\"code\"]=submission_df_tr[\"code\"].map(ast.literal_eval)\n",
        "# submission_df_tr[\"rank\"]=submission_df_tr[\"rank\"].map(ast.literal_eval)\n",
        "# submission_df_tr = submission_df_tr.explode(['code','score', 'rank'])\n",
        "# submission_df_tr[[\"session_id\",\"code\",\"rank\"]]=submission_df_tr[[\"session_id\",\"code\",\"rank\"]].astype(int)\n",
        "# submission_df_tr.rename(columns={\"code\":\"Item_ID\",\"session_id\":\"Session_Id\",\"rank\":\"rank_transformer\",\"score\":\"score_transformer\"},inplace=True)"
      ]
    },
    {
      "cell_type": "code",
      "execution_count": null,
      "metadata": {
        "pycharm": {
          "name": "#%%\n"
        },
        "id": "rLs87v8K52ur"
      },
      "outputs": [],
      "source": [
        "import ast\n",
        "submission_df_LSTM=pd.read_csv(\"./drive/MyDrive/Recommendation_system/dataset/candidates/NN/LSTM/leaderboard/candidates.csv\")\n",
        "submission_df_LSTM[\"score\"]=submission_df_LSTM[\"score\"].map(ast.literal_eval)\n",
        "submission_df_LSTM[\"code\"]=submission_df_LSTM[\"code\"].map(ast.literal_eval)\n",
        "submission_df_LSTM[\"rank\"]=submission_df_LSTM[\"rank\"].map(ast.literal_eval)\n",
        "submission_df_LSTM = submission_df_LSTM.explode(['code','score', 'rank'])\n",
        "submission_df_LSTM[[\"session_id\",\"code\",\"rank\"]]=submission_df_LSTM[[\"session_id\",\"code\",\"rank\"]].astype(int)\n",
        "submission_df_LSTM.rename(columns={\"code\":\"Item_ID\",\"session_id\":\"Session_Id\",\"rank\":\"rank_LSTM\",\"score\":\"score_LSTM\"},inplace=True)"
      ],
      "id": "rLs87v8K52ur"
    },
    {
      "cell_type": "code",
      "execution_count": null,
      "id": "b3503d4d",
      "metadata": {
        "execution": {
          "iopub.execute_input": "2022-06-12T16:56:01.086319Z",
          "iopub.status.busy": "2022-06-12T16:56:01.085614Z",
          "iopub.status.idle": "2022-06-12T16:56:17.441787Z",
          "shell.execute_reply": "2022-06-12T16:56:17.441245Z",
          "shell.execute_reply.started": "2022-06-12T16:48:33.770521Z"
        },
        "papermill": {
          "duration": 16.489758,
          "end_time": "2022-06-12T16:56:17.441937",
          "exception": false,
          "start_time": "2022-06-12T16:56:00.952179",
          "status": "completed"
        },
        "tags": [],
        "id": "b3503d4d"
      },
      "outputs": [],
      "source": [
        "# dataset=dataset.merge(submission_df,on=[\"Session_Id\",\"Item_ID\"],how=\"outer\")\n",
        "# del submission_df\n",
        "# dataset=dataset.merge(submission_df_tr,on=[\"Session_Id\",\"Item_ID\"],how=\"outer\")\n",
        "# del submission_df_tr\n",
        "dataset=dataset.merge(submission_df_LSTM,on=[\"Session_Id\",\"Item_ID\"],how=\"outer\")\n"
      ]
    },
    {
      "cell_type": "code",
      "execution_count": null,
      "id": "79dc226e",
      "metadata": {
        "execution": {
          "iopub.execute_input": "2022-06-12T16:56:17.555767Z",
          "iopub.status.busy": "2022-06-12T16:56:17.554723Z",
          "iopub.status.idle": "2022-06-12T16:56:23.474091Z",
          "shell.execute_reply": "2022-06-12T16:56:23.474928Z",
          "shell.execute_reply.started": "2022-06-12T16:48:53.529749Z"
        },
        "papermill": {
          "duration": 5.978353,
          "end_time": "2022-06-12T16:56:23.475109",
          "exception": false,
          "start_time": "2022-06-12T16:56:17.496756",
          "status": "completed"
        },
        "tags": [],
        "id": "79dc226e"
      },
      "outputs": [],
      "source": [
        "dataset=dataset.merge(dataset_max,on=[\"Session_Id\"],how=\"left\")\n",
        "del dataset_max"
      ]
    },
    {
      "cell_type": "code",
      "execution_count": null,
      "id": "4afa4119",
      "metadata": {
        "execution": {
          "iopub.execute_input": "2022-06-12T16:56:23.589768Z",
          "iopub.status.busy": "2022-06-12T16:56:23.588981Z",
          "iopub.status.idle": "2022-06-12T16:56:37.722764Z",
          "shell.execute_reply": "2022-06-12T16:56:37.723409Z",
          "shell.execute_reply.started": "2022-06-12T16:49:21.356967Z"
        },
        "papermill": {
          "duration": 14.194397,
          "end_time": "2022-06-12T16:56:37.723580",
          "exception": false,
          "start_time": "2022-06-12T16:56:23.529183",
          "status": "completed"
        },
        "tags": [],
        "id": "4afa4119"
      },
      "outputs": [],
      "source": [
        "dataset.fillna(0,inplace=True)"
      ]
    },
    {
      "cell_type": "code",
      "execution_count": null,
      "id": "3def4b97",
      "metadata": {
        "execution": {
          "iopub.status.busy": "2022-06-12T16:45:45.107247Z",
          "iopub.status.idle": "2022-06-12T16:45:45.107540Z",
          "shell.execute_reply": "2022-06-12T16:45:45.107406Z",
          "shell.execute_reply.started": "2022-06-12T16:45:45.107387Z"
        },
        "papermill": {
          "duration": 0.053703,
          "end_time": "2022-06-12T16:56:39.486170",
          "exception": false,
          "start_time": "2022-06-12T16:56:39.432467",
          "status": "completed"
        },
        "tags": [],
        "id": "3def4b97"
      },
      "outputs": [],
      "source": [
        "dataset_macro_features = pd.read_csv('./drive/MyDrive/Recommendation_system/dataset/processed_data/macro_feats_NN_leaderboard.csv',\n",
        "                                     usecols=['session_id',\n",
        "                                                'session_similarity',\n",
        "                                                'session_similarity_uniques', 'session_similarity_feats', 'session_similarity_feats_uniques',\n",
        "                                              'length_of_session_seconds',\n",
        "                   'avg_time_spent_per_item_seconds',\n",
        "                   'variance_time_spent_per_item_seconds',\n",
        "                   'n_seen_items',\n",
        "                   'n_unique_items'])\n",
        "\n",
        "dataset_macro_features.rename(columns={'session_id':'Session_Id'}, inplace=True)\n",
        "dataset = dataset.merge(dataset_macro_features, on='Session_Id', how='left')"
      ]
    },
    {
      "cell_type": "code",
      "execution_count": null,
      "metadata": {
        "pycharm": {
          "name": "#%%\n"
        },
        "id": "3yXKxVQg52us"
      },
      "outputs": [],
      "source": [
        "# dataset.drop('Max_Score_TopPop15', axis=1, inplace=True)"
      ],
      "id": "3yXKxVQg52us"
    },
    {
      "cell_type": "code",
      "execution_count": null,
      "id": "ec1dd779",
      "metadata": {
        "execution": {
          "iopub.execute_input": "2022-06-12T16:56:39.599154Z",
          "iopub.status.busy": "2022-06-12T16:56:39.598474Z",
          "iopub.status.idle": "2022-06-12T16:56:39.615720Z",
          "shell.execute_reply": "2022-06-12T16:56:39.616252Z",
          "shell.execute_reply.started": "2022-06-12T16:49:55.659744Z"
        },
        "papermill": {
          "duration": 0.076322,
          "end_time": "2022-06-12T16:56:39.616418",
          "exception": false,
          "start_time": "2022-06-12T16:56:39.540096",
          "status": "completed"
        },
        "tags": [],
        "colab": {
          "base_uri": "https://localhost:8080/",
          "height": 256
        },
        "id": "ec1dd779",
        "outputId": "a3d621a5-52a6-4fa3-b061-1a57d5d4855f"
      },
      "outputs": [
        {
          "output_type": "execute_result",
          "data": {
            "text/plain": [
              "   Item_ID  Score_UCF  Score_ICBF  Score_Graph  Score_ICF  Session_Id  \\\n",
              "0       21   0.100227         0.0     0.019740   0.000000          26   \n",
              "1       52   0.242711         0.0     0.087397   0.548803          26   \n",
              "2       80   0.090264         0.0     0.045723   0.545978          26   \n",
              "3      115   0.025982         0.0     0.000000   0.000000          26   \n",
              "4      159   0.058162         0.0     0.020845   0.000000          26   \n",
              "\n",
              "   score_LSTM  rank_LSTM  Max_Score_UCF  Max_Score_ICBF  ...  Max_Score_ICF  \\\n",
              "0    0.000000        0.0      55.290478        3.397799  ...       0.330278   \n",
              "1    0.002269       33.0      55.290478        3.397799  ...       0.330278   \n",
              "2    0.001017       76.0      55.290478        3.397799  ...       0.330278   \n",
              "3    0.000000        0.0      55.290478        3.397799  ...       0.330278   \n",
              "4    0.000000        0.0      55.290478        3.397799  ...       0.330278   \n",
              "\n",
              "   length_of_session_seconds  avg_time_spent_per_item_seconds  \\\n",
              "0                        0.0                              0.0   \n",
              "1                        0.0                              0.0   \n",
              "2                        0.0                              0.0   \n",
              "3                        0.0                              0.0   \n",
              "4                        0.0                              0.0   \n",
              "\n",
              "   variance_time_spent_per_item_seconds  n_seen_items  n_unique_items  \\\n",
              "0                                   0.0           1.0             1.0   \n",
              "1                                   0.0           1.0             1.0   \n",
              "2                                   0.0           1.0             1.0   \n",
              "3                                   0.0           1.0             1.0   \n",
              "4                                   0.0           1.0             1.0   \n",
              "\n",
              "   session_similarity  session_similarity_uniques  session_similarity_feats  \\\n",
              "0                 1.0                         1.0                       1.0   \n",
              "1                 1.0                         1.0                       1.0   \n",
              "2                 1.0                         1.0                       1.0   \n",
              "3                 1.0                         1.0                       1.0   \n",
              "4                 1.0                         1.0                       1.0   \n",
              "\n",
              "   session_similarity_feats_uniques  \n",
              "0                               1.0  \n",
              "1                               1.0  \n",
              "2                               1.0  \n",
              "3                               1.0  \n",
              "4                               1.0  \n",
              "\n",
              "[5 rows x 21 columns]"
            ],
            "text/html": [
              "\n",
              "  <div id=\"df-72b996d2-3568-40d1-bfb9-d7c7c62f16e3\" class=\"colab-df-container\">\n",
              "    <div>\n",
              "<style scoped>\n",
              "    .dataframe tbody tr th:only-of-type {\n",
              "        vertical-align: middle;\n",
              "    }\n",
              "\n",
              "    .dataframe tbody tr th {\n",
              "        vertical-align: top;\n",
              "    }\n",
              "\n",
              "    .dataframe thead th {\n",
              "        text-align: right;\n",
              "    }\n",
              "</style>\n",
              "<table border=\"1\" class=\"dataframe\">\n",
              "  <thead>\n",
              "    <tr style=\"text-align: right;\">\n",
              "      <th></th>\n",
              "      <th>Item_ID</th>\n",
              "      <th>Score_UCF</th>\n",
              "      <th>Score_ICBF</th>\n",
              "      <th>Score_Graph</th>\n",
              "      <th>Score_ICF</th>\n",
              "      <th>Session_Id</th>\n",
              "      <th>score_LSTM</th>\n",
              "      <th>rank_LSTM</th>\n",
              "      <th>Max_Score_UCF</th>\n",
              "      <th>Max_Score_ICBF</th>\n",
              "      <th>...</th>\n",
              "      <th>Max_Score_ICF</th>\n",
              "      <th>length_of_session_seconds</th>\n",
              "      <th>avg_time_spent_per_item_seconds</th>\n",
              "      <th>variance_time_spent_per_item_seconds</th>\n",
              "      <th>n_seen_items</th>\n",
              "      <th>n_unique_items</th>\n",
              "      <th>session_similarity</th>\n",
              "      <th>session_similarity_uniques</th>\n",
              "      <th>session_similarity_feats</th>\n",
              "      <th>session_similarity_feats_uniques</th>\n",
              "    </tr>\n",
              "  </thead>\n",
              "  <tbody>\n",
              "    <tr>\n",
              "      <th>0</th>\n",
              "      <td>21</td>\n",
              "      <td>0.100227</td>\n",
              "      <td>0.0</td>\n",
              "      <td>0.019740</td>\n",
              "      <td>0.000000</td>\n",
              "      <td>26</td>\n",
              "      <td>0.000000</td>\n",
              "      <td>0.0</td>\n",
              "      <td>55.290478</td>\n",
              "      <td>3.397799</td>\n",
              "      <td>...</td>\n",
              "      <td>0.330278</td>\n",
              "      <td>0.0</td>\n",
              "      <td>0.0</td>\n",
              "      <td>0.0</td>\n",
              "      <td>1.0</td>\n",
              "      <td>1.0</td>\n",
              "      <td>1.0</td>\n",
              "      <td>1.0</td>\n",
              "      <td>1.0</td>\n",
              "      <td>1.0</td>\n",
              "    </tr>\n",
              "    <tr>\n",
              "      <th>1</th>\n",
              "      <td>52</td>\n",
              "      <td>0.242711</td>\n",
              "      <td>0.0</td>\n",
              "      <td>0.087397</td>\n",
              "      <td>0.548803</td>\n",
              "      <td>26</td>\n",
              "      <td>0.002269</td>\n",
              "      <td>33.0</td>\n",
              "      <td>55.290478</td>\n",
              "      <td>3.397799</td>\n",
              "      <td>...</td>\n",
              "      <td>0.330278</td>\n",
              "      <td>0.0</td>\n",
              "      <td>0.0</td>\n",
              "      <td>0.0</td>\n",
              "      <td>1.0</td>\n",
              "      <td>1.0</td>\n",
              "      <td>1.0</td>\n",
              "      <td>1.0</td>\n",
              "      <td>1.0</td>\n",
              "      <td>1.0</td>\n",
              "    </tr>\n",
              "    <tr>\n",
              "      <th>2</th>\n",
              "      <td>80</td>\n",
              "      <td>0.090264</td>\n",
              "      <td>0.0</td>\n",
              "      <td>0.045723</td>\n",
              "      <td>0.545978</td>\n",
              "      <td>26</td>\n",
              "      <td>0.001017</td>\n",
              "      <td>76.0</td>\n",
              "      <td>55.290478</td>\n",
              "      <td>3.397799</td>\n",
              "      <td>...</td>\n",
              "      <td>0.330278</td>\n",
              "      <td>0.0</td>\n",
              "      <td>0.0</td>\n",
              "      <td>0.0</td>\n",
              "      <td>1.0</td>\n",
              "      <td>1.0</td>\n",
              "      <td>1.0</td>\n",
              "      <td>1.0</td>\n",
              "      <td>1.0</td>\n",
              "      <td>1.0</td>\n",
              "    </tr>\n",
              "    <tr>\n",
              "      <th>3</th>\n",
              "      <td>115</td>\n",
              "      <td>0.025982</td>\n",
              "      <td>0.0</td>\n",
              "      <td>0.000000</td>\n",
              "      <td>0.000000</td>\n",
              "      <td>26</td>\n",
              "      <td>0.000000</td>\n",
              "      <td>0.0</td>\n",
              "      <td>55.290478</td>\n",
              "      <td>3.397799</td>\n",
              "      <td>...</td>\n",
              "      <td>0.330278</td>\n",
              "      <td>0.0</td>\n",
              "      <td>0.0</td>\n",
              "      <td>0.0</td>\n",
              "      <td>1.0</td>\n",
              "      <td>1.0</td>\n",
              "      <td>1.0</td>\n",
              "      <td>1.0</td>\n",
              "      <td>1.0</td>\n",
              "      <td>1.0</td>\n",
              "    </tr>\n",
              "    <tr>\n",
              "      <th>4</th>\n",
              "      <td>159</td>\n",
              "      <td>0.058162</td>\n",
              "      <td>0.0</td>\n",
              "      <td>0.020845</td>\n",
              "      <td>0.000000</td>\n",
              "      <td>26</td>\n",
              "      <td>0.000000</td>\n",
              "      <td>0.0</td>\n",
              "      <td>55.290478</td>\n",
              "      <td>3.397799</td>\n",
              "      <td>...</td>\n",
              "      <td>0.330278</td>\n",
              "      <td>0.0</td>\n",
              "      <td>0.0</td>\n",
              "      <td>0.0</td>\n",
              "      <td>1.0</td>\n",
              "      <td>1.0</td>\n",
              "      <td>1.0</td>\n",
              "      <td>1.0</td>\n",
              "      <td>1.0</td>\n",
              "      <td>1.0</td>\n",
              "    </tr>\n",
              "  </tbody>\n",
              "</table>\n",
              "<p>5 rows × 21 columns</p>\n",
              "</div>\n",
              "    <div class=\"colab-df-buttons\">\n",
              "\n",
              "  <div class=\"colab-df-container\">\n",
              "    <button class=\"colab-df-convert\" onclick=\"convertToInteractive('df-72b996d2-3568-40d1-bfb9-d7c7c62f16e3')\"\n",
              "            title=\"Convert this dataframe to an interactive table.\"\n",
              "            style=\"display:none;\">\n",
              "\n",
              "  <svg xmlns=\"http://www.w3.org/2000/svg\" height=\"24px\" viewBox=\"0 -960 960 960\">\n",
              "    <path d=\"M120-120v-720h720v720H120Zm60-500h600v-160H180v160Zm220 220h160v-160H400v160Zm0 220h160v-160H400v160ZM180-400h160v-160H180v160Zm440 0h160v-160H620v160ZM180-180h160v-160H180v160Zm440 0h160v-160H620v160Z\"/>\n",
              "  </svg>\n",
              "    </button>\n",
              "\n",
              "  <style>\n",
              "    .colab-df-container {\n",
              "      display:flex;\n",
              "      gap: 12px;\n",
              "    }\n",
              "\n",
              "    .colab-df-convert {\n",
              "      background-color: #E8F0FE;\n",
              "      border: none;\n",
              "      border-radius: 50%;\n",
              "      cursor: pointer;\n",
              "      display: none;\n",
              "      fill: #1967D2;\n",
              "      height: 32px;\n",
              "      padding: 0 0 0 0;\n",
              "      width: 32px;\n",
              "    }\n",
              "\n",
              "    .colab-df-convert:hover {\n",
              "      background-color: #E2EBFA;\n",
              "      box-shadow: 0px 1px 2px rgba(60, 64, 67, 0.3), 0px 1px 3px 1px rgba(60, 64, 67, 0.15);\n",
              "      fill: #174EA6;\n",
              "    }\n",
              "\n",
              "    .colab-df-buttons div {\n",
              "      margin-bottom: 4px;\n",
              "    }\n",
              "\n",
              "    [theme=dark] .colab-df-convert {\n",
              "      background-color: #3B4455;\n",
              "      fill: #D2E3FC;\n",
              "    }\n",
              "\n",
              "    [theme=dark] .colab-df-convert:hover {\n",
              "      background-color: #434B5C;\n",
              "      box-shadow: 0px 1px 3px 1px rgba(0, 0, 0, 0.15);\n",
              "      filter: drop-shadow(0px 1px 2px rgba(0, 0, 0, 0.3));\n",
              "      fill: #FFFFFF;\n",
              "    }\n",
              "  </style>\n",
              "\n",
              "    <script>\n",
              "      const buttonEl =\n",
              "        document.querySelector('#df-72b996d2-3568-40d1-bfb9-d7c7c62f16e3 button.colab-df-convert');\n",
              "      buttonEl.style.display =\n",
              "        google.colab.kernel.accessAllowed ? 'block' : 'none';\n",
              "\n",
              "      async function convertToInteractive(key) {\n",
              "        const element = document.querySelector('#df-72b996d2-3568-40d1-bfb9-d7c7c62f16e3');\n",
              "        const dataTable =\n",
              "          await google.colab.kernel.invokeFunction('convertToInteractive',\n",
              "                                                    [key], {});\n",
              "        if (!dataTable) return;\n",
              "\n",
              "        const docLinkHtml = 'Like what you see? Visit the ' +\n",
              "          '<a target=\"_blank\" href=https://colab.research.google.com/notebooks/data_table.ipynb>data table notebook</a>'\n",
              "          + ' to learn more about interactive tables.';\n",
              "        element.innerHTML = '';\n",
              "        dataTable['output_type'] = 'display_data';\n",
              "        await google.colab.output.renderOutput(dataTable, element);\n",
              "        const docLink = document.createElement('div');\n",
              "        docLink.innerHTML = docLinkHtml;\n",
              "        element.appendChild(docLink);\n",
              "      }\n",
              "    </script>\n",
              "  </div>\n",
              "\n",
              "\n",
              "<div id=\"df-903dbe77-5f4f-422b-b8a6-1c38b1ade6c8\">\n",
              "  <button class=\"colab-df-quickchart\" onclick=\"quickchart('df-903dbe77-5f4f-422b-b8a6-1c38b1ade6c8')\"\n",
              "            title=\"Suggest charts\"\n",
              "            style=\"display:none;\">\n",
              "\n",
              "<svg xmlns=\"http://www.w3.org/2000/svg\" height=\"24px\"viewBox=\"0 0 24 24\"\n",
              "     width=\"24px\">\n",
              "    <g>\n",
              "        <path d=\"M19 3H5c-1.1 0-2 .9-2 2v14c0 1.1.9 2 2 2h14c1.1 0 2-.9 2-2V5c0-1.1-.9-2-2-2zM9 17H7v-7h2v7zm4 0h-2V7h2v10zm4 0h-2v-4h2v4z\"/>\n",
              "    </g>\n",
              "</svg>\n",
              "  </button>\n",
              "\n",
              "<style>\n",
              "  .colab-df-quickchart {\n",
              "      --bg-color: #E8F0FE;\n",
              "      --fill-color: #1967D2;\n",
              "      --hover-bg-color: #E2EBFA;\n",
              "      --hover-fill-color: #174EA6;\n",
              "      --disabled-fill-color: #AAA;\n",
              "      --disabled-bg-color: #DDD;\n",
              "  }\n",
              "\n",
              "  [theme=dark] .colab-df-quickchart {\n",
              "      --bg-color: #3B4455;\n",
              "      --fill-color: #D2E3FC;\n",
              "      --hover-bg-color: #434B5C;\n",
              "      --hover-fill-color: #FFFFFF;\n",
              "      --disabled-bg-color: #3B4455;\n",
              "      --disabled-fill-color: #666;\n",
              "  }\n",
              "\n",
              "  .colab-df-quickchart {\n",
              "    background-color: var(--bg-color);\n",
              "    border: none;\n",
              "    border-radius: 50%;\n",
              "    cursor: pointer;\n",
              "    display: none;\n",
              "    fill: var(--fill-color);\n",
              "    height: 32px;\n",
              "    padding: 0;\n",
              "    width: 32px;\n",
              "  }\n",
              "\n",
              "  .colab-df-quickchart:hover {\n",
              "    background-color: var(--hover-bg-color);\n",
              "    box-shadow: 0 1px 2px rgba(60, 64, 67, 0.3), 0 1px 3px 1px rgba(60, 64, 67, 0.15);\n",
              "    fill: var(--button-hover-fill-color);\n",
              "  }\n",
              "\n",
              "  .colab-df-quickchart-complete:disabled,\n",
              "  .colab-df-quickchart-complete:disabled:hover {\n",
              "    background-color: var(--disabled-bg-color);\n",
              "    fill: var(--disabled-fill-color);\n",
              "    box-shadow: none;\n",
              "  }\n",
              "\n",
              "  .colab-df-spinner {\n",
              "    border: 2px solid var(--fill-color);\n",
              "    border-color: transparent;\n",
              "    border-bottom-color: var(--fill-color);\n",
              "    animation:\n",
              "      spin 1s steps(1) infinite;\n",
              "  }\n",
              "\n",
              "  @keyframes spin {\n",
              "    0% {\n",
              "      border-color: transparent;\n",
              "      border-bottom-color: var(--fill-color);\n",
              "      border-left-color: var(--fill-color);\n",
              "    }\n",
              "    20% {\n",
              "      border-color: transparent;\n",
              "      border-left-color: var(--fill-color);\n",
              "      border-top-color: var(--fill-color);\n",
              "    }\n",
              "    30% {\n",
              "      border-color: transparent;\n",
              "      border-left-color: var(--fill-color);\n",
              "      border-top-color: var(--fill-color);\n",
              "      border-right-color: var(--fill-color);\n",
              "    }\n",
              "    40% {\n",
              "      border-color: transparent;\n",
              "      border-right-color: var(--fill-color);\n",
              "      border-top-color: var(--fill-color);\n",
              "    }\n",
              "    60% {\n",
              "      border-color: transparent;\n",
              "      border-right-color: var(--fill-color);\n",
              "    }\n",
              "    80% {\n",
              "      border-color: transparent;\n",
              "      border-right-color: var(--fill-color);\n",
              "      border-bottom-color: var(--fill-color);\n",
              "    }\n",
              "    90% {\n",
              "      border-color: transparent;\n",
              "      border-bottom-color: var(--fill-color);\n",
              "    }\n",
              "  }\n",
              "</style>\n",
              "\n",
              "  <script>\n",
              "    async function quickchart(key) {\n",
              "      const quickchartButtonEl =\n",
              "        document.querySelector('#' + key + ' button');\n",
              "      quickchartButtonEl.disabled = true;  // To prevent multiple clicks.\n",
              "      quickchartButtonEl.classList.add('colab-df-spinner');\n",
              "      try {\n",
              "        const charts = await google.colab.kernel.invokeFunction(\n",
              "            'suggestCharts', [key], {});\n",
              "      } catch (error) {\n",
              "        console.error('Error during call to suggestCharts:', error);\n",
              "      }\n",
              "      quickchartButtonEl.classList.remove('colab-df-spinner');\n",
              "      quickchartButtonEl.classList.add('colab-df-quickchart-complete');\n",
              "    }\n",
              "    (() => {\n",
              "      let quickchartButtonEl =\n",
              "        document.querySelector('#df-903dbe77-5f4f-422b-b8a6-1c38b1ade6c8 button');\n",
              "      quickchartButtonEl.style.display =\n",
              "        google.colab.kernel.accessAllowed ? 'block' : 'none';\n",
              "    })();\n",
              "  </script>\n",
              "</div>\n",
              "\n",
              "    </div>\n",
              "  </div>\n"
            ],
            "application/vnd.google.colaboratory.intrinsic+json": {
              "type": "dataframe",
              "variable_name": "dataset"
            }
          },
          "metadata": {},
          "execution_count": 22
        }
      ],
      "source": [
        "dataset.head()"
      ]
    },
    {
      "cell_type": "code",
      "execution_count": null,
      "id": "0e5ed5e6",
      "metadata": {
        "execution": {
          "iopub.execute_input": "2022-06-12T16:56:39.727309Z",
          "iopub.status.busy": "2022-06-12T16:56:39.726655Z",
          "iopub.status.idle": "2022-06-12T16:56:39.829233Z",
          "shell.execute_reply": "2022-06-12T16:56:39.828737Z",
          "shell.execute_reply.started": "2022-06-12T16:49:57.837326Z"
        },
        "papermill": {
          "duration": 0.15881,
          "end_time": "2022-06-12T16:56:39.829383",
          "exception": false,
          "start_time": "2022-06-12T16:56:39.670573",
          "status": "completed"
        },
        "tags": [],
        "colab": {
          "base_uri": "https://localhost:8080/"
        },
        "id": "0e5ed5e6",
        "outputId": "cece6eb2-43ef-475d-fef6-3b9e7687558c"
      },
      "outputs": [
        {
          "output_type": "execute_result",
          "data": {
            "text/plain": [
              "2266"
            ]
          },
          "metadata": {},
          "execution_count": 23
        }
      ],
      "source": [
        "gc.collect()"
      ]
    },
    {
      "cell_type": "code",
      "execution_count": null,
      "id": "1546cffa",
      "metadata": {
        "execution": {
          "iopub.execute_input": "2022-06-12T16:56:39.944426Z",
          "iopub.status.busy": "2022-06-12T16:56:39.943764Z",
          "iopub.status.idle": "2022-06-12T16:56:43.274340Z",
          "shell.execute_reply": "2022-06-12T16:56:43.273731Z",
          "shell.execute_reply.started": "2022-06-12T16:45:45.112926Z"
        },
        "papermill": {
          "duration": 3.39065,
          "end_time": "2022-06-12T16:56:43.274495",
          "exception": false,
          "start_time": "2022-06-12T16:56:39.883845",
          "status": "completed"
        },
        "tags": [],
        "id": "1546cffa"
      },
      "outputs": [],
      "source": [
        "dataset=dataset.sort_values(\"Session_Id\")"
      ]
    },
    {
      "cell_type": "code",
      "execution_count": null,
      "id": "ae00cbc6",
      "metadata": {
        "execution": {
          "iopub.execute_input": "2022-06-12T16:56:43.604262Z",
          "iopub.status.busy": "2022-06-12T16:56:43.603612Z",
          "iopub.status.idle": "2022-06-12T16:56:43.706397Z",
          "shell.execute_reply": "2022-06-12T16:56:43.706933Z",
          "shell.execute_reply.started": "2022-06-12T16:45:45.114357Z"
        },
        "papermill": {
          "duration": 0.160414,
          "end_time": "2022-06-12T16:56:43.707099",
          "exception": false,
          "start_time": "2022-06-12T16:56:43.546685",
          "status": "completed"
        },
        "tags": [],
        "colab": {
          "base_uri": "https://localhost:8080/"
        },
        "id": "ae00cbc6",
        "outputId": "b8d11e5f-797d-45e3-8cd1-a856c0be5b56"
      },
      "outputs": [
        {
          "output_type": "execute_result",
          "data": {
            "text/plain": [
              "0"
            ]
          },
          "metadata": {},
          "execution_count": 25
        }
      ],
      "source": [
        "gc.collect()"
      ]
    },
    {
      "cell_type": "code",
      "execution_count": null,
      "id": "5d441590",
      "metadata": {
        "execution": {
          "iopub.execute_input": "2022-06-12T16:56:45.659990Z",
          "iopub.status.busy": "2022-06-12T16:56:45.659231Z",
          "iopub.status.idle": "2022-06-12T16:56:45.721584Z",
          "shell.execute_reply": "2022-06-12T16:56:45.722262Z",
          "shell.execute_reply.started": "2022-06-12T16:45:45.117557Z"
        },
        "papermill": {
          "duration": 0.123721,
          "end_time": "2022-06-12T16:56:45.722456",
          "exception": false,
          "start_time": "2022-06-12T16:56:45.598735",
          "status": "completed"
        },
        "tags": [],
        "id": "5d441590"
      },
      "outputs": [],
      "source": [
        "k=10"
      ]
    },
    {
      "cell_type": "code",
      "execution_count": null,
      "metadata": {
        "pycharm": {
          "name": "#%%\n"
        },
        "id": "iMDKDx2552ut"
      },
      "outputs": [],
      "source": [
        "result = []"
      ],
      "id": "iMDKDx2552ut"
    },
    {
      "cell_type": "code",
      "source": [
        "import xgboost as xgb\n",
        "\n",
        "result = []\n",
        "\n",
        "for index in range(k):\n",
        "    model = xgb.Booster({'predictor': 'cpu_predictor'})  # Initializing a new XGBoost model\n",
        "    model.load_model(f'./drive/MyDrive/Recommendation_system/rankers/xgboost/all_traditional_and_lstm/model_{index}.xgb')\n",
        "    result.append(model.predict(xgb.DMatrix(dataset.drop([\"Session_Id\", \"Item_ID\"], axis=1))))\n",
        "    # dataset[f\"score_{index}\"] = model.predict(xgb.DMatrix(dataset.drop([\"Session_Id\", \"Item_ID\"], axis=1)))\n",
        "\n",
        "# combine scores\n",
        "result = np.array(result)\n",
        "result\n"
      ],
      "metadata": {
        "colab": {
          "base_uri": "https://localhost:8080/"
        },
        "id": "8INqc04WoFg4",
        "outputId": "4ed6b581-d705-42b4-85df-f77c2eea12bd"
      },
      "id": "8INqc04WoFg4",
      "execution_count": null,
      "outputs": [
        {
          "output_type": "stream",
          "name": "stderr",
          "text": [
            "/usr/local/lib/python3.10/dist-packages/xgboost/core.py:160: UserWarning: [10:19:04] WARNING: /workspace/src/learner.cc:742: \n",
            "Parameters: { \"predictor\" } are not used.\n",
            "\n",
            "  warnings.warn(smsg, UserWarning)\n",
            "/usr/local/lib/python3.10/dist-packages/xgboost/core.py:160: UserWarning: [10:19:21] WARNING: /workspace/src/learner.cc:742: \n",
            "Parameters: { \"predictor\" } are not used.\n",
            "\n",
            "  warnings.warn(smsg, UserWarning)\n",
            "/usr/local/lib/python3.10/dist-packages/xgboost/core.py:160: UserWarning: [10:19:46] WARNING: /workspace/src/learner.cc:742: \n",
            "Parameters: { \"predictor\" } are not used.\n",
            "\n",
            "  warnings.warn(smsg, UserWarning)\n",
            "/usr/local/lib/python3.10/dist-packages/xgboost/core.py:160: UserWarning: [10:20:10] WARNING: /workspace/src/learner.cc:742: \n",
            "Parameters: { \"predictor\" } are not used.\n",
            "\n",
            "  warnings.warn(smsg, UserWarning)\n",
            "/usr/local/lib/python3.10/dist-packages/xgboost/core.py:160: UserWarning: [10:20:34] WARNING: /workspace/src/learner.cc:742: \n",
            "Parameters: { \"predictor\" } are not used.\n",
            "\n",
            "  warnings.warn(smsg, UserWarning)\n",
            "/usr/local/lib/python3.10/dist-packages/xgboost/core.py:160: UserWarning: [10:21:01] WARNING: /workspace/src/learner.cc:742: \n",
            "Parameters: { \"predictor\" } are not used.\n",
            "\n",
            "  warnings.warn(smsg, UserWarning)\n",
            "/usr/local/lib/python3.10/dist-packages/xgboost/core.py:160: UserWarning: [10:21:19] WARNING: /workspace/src/learner.cc:742: \n",
            "Parameters: { \"predictor\" } are not used.\n",
            "\n",
            "  warnings.warn(smsg, UserWarning)\n",
            "/usr/local/lib/python3.10/dist-packages/xgboost/core.py:160: UserWarning: [10:21:38] WARNING: /workspace/src/learner.cc:742: \n",
            "Parameters: { \"predictor\" } are not used.\n",
            "\n",
            "  warnings.warn(smsg, UserWarning)\n",
            "/usr/local/lib/python3.10/dist-packages/xgboost/core.py:160: UserWarning: [10:22:26] WARNING: /workspace/src/learner.cc:742: \n",
            "Parameters: { \"predictor\" } are not used.\n",
            "\n",
            "  warnings.warn(smsg, UserWarning)\n",
            "/usr/local/lib/python3.10/dist-packages/xgboost/core.py:160: UserWarning: [10:23:06] WARNING: /workspace/src/learner.cc:742: \n",
            "Parameters: { \"predictor\" } are not used.\n",
            "\n",
            "  warnings.warn(smsg, UserWarning)\n"
          ]
        },
        {
          "output_type": "execute_result",
          "data": {
            "text/plain": [
              "array([[-0.36698055, -0.44614756, -0.315772  , ..., -0.64376783,\n",
              "        -0.64376783, -0.64376783],\n",
              "       [-0.8738199 , -0.9647921 , -0.7572688 , ..., -1.2530967 ,\n",
              "        -1.2333088 , -1.223219  ],\n",
              "       [-0.82422084, -0.9763791 , -0.67789257, ..., -1.2302608 ,\n",
              "        -1.2180533 , -1.2060306 ],\n",
              "       ...,\n",
              "       [-1.4310877 , -1.5266429 , -1.1748816 , ..., -1.956462  ,\n",
              "        -1.8487028 , -1.8653489 ],\n",
              "       [-1.2678435 , -1.4431429 , -1.1787874 , ..., -1.7536098 ,\n",
              "        -1.6840527 , -1.7291182 ],\n",
              "       [-0.6237985 , -0.8035595 , -0.5415791 , ..., -1.103486  ,\n",
              "        -1.0127436 , -1.0920194 ]], dtype=float32)"
            ]
          },
          "metadata": {},
          "execution_count": 28
        }
      ]
    },
    {
      "cell_type": "code",
      "execution_count": null,
      "metadata": {
        "pycharm": {
          "name": "#%%\n"
        },
        "colab": {
          "base_uri": "https://localhost:8080/"
        },
        "id": "v8ADYYVe52ut",
        "outputId": "41877959-7e22-44f6-b860-d794bba4691e"
      },
      "outputs": [
        {
          "output_type": "execute_result",
          "data": {
            "text/plain": [
              "(10, 30090188)"
            ]
          },
          "metadata": {},
          "execution_count": 29
        }
      ],
      "source": [
        "result.shape"
      ],
      "id": "v8ADYYVe52ut"
    },
    {
      "cell_type": "code",
      "execution_count": null,
      "metadata": {
        "pycharm": {
          "name": "#%%\n"
        },
        "id": "KUEaLjF052ut"
      },
      "outputs": [],
      "source": [
        "dataset[\"score\"]=np.mean(result ,axis=0)\n",
        "# dataset[\"score\"]=np.median(result ,axis=0)\n",
        "\n",
        "#dataset[\"score\"]=dataset[[f\"score_{i}\" for i in range(k)]].apply(lambda x:np.median(x),axis=1)"
      ],
      "id": "KUEaLjF052ut"
    },
    {
      "cell_type": "code",
      "execution_count": null,
      "id": "b92931e2",
      "metadata": {
        "execution": {
          "iopub.execute_input": "2022-06-12T16:59:02.077546Z",
          "iopub.status.busy": "2022-06-12T16:59:01.698248Z",
          "iopub.status.idle": "2022-06-12T16:59:02.080396Z",
          "shell.execute_reply": "2022-06-12T16:59:02.080921Z",
          "shell.execute_reply.started": "2022-06-12T16:45:45.120519Z"
        },
        "papermill": {
          "duration": 0.442046,
          "end_time": "2022-06-12T16:59:02.081096",
          "exception": false,
          "start_time": "2022-06-12T16:59:01.639050",
          "status": "completed"
        },
        "tags": [],
        "colab": {
          "base_uri": "https://localhost:8080/"
        },
        "id": "b92931e2",
        "outputId": "0b312069-9d93-4eb9-8195-98c9fac92bec"
      },
      "outputs": [
        {
          "output_type": "execute_result",
          "data": {
            "text/plain": [
              "7"
            ]
          },
          "metadata": {},
          "execution_count": 31
        }
      ],
      "source": [
        "dataset=dataset[[\"Session_Id\",\"Item_ID\",\"score\"]]\n",
        "gc.collect()"
      ]
    },
    {
      "cell_type": "code",
      "execution_count": null,
      "id": "3a582375",
      "metadata": {
        "execution": {
          "iopub.execute_input": "2022-06-12T16:59:02.201861Z",
          "iopub.status.busy": "2022-06-12T16:59:02.201225Z",
          "iopub.status.idle": "2022-06-12T16:59:02.209553Z",
          "shell.execute_reply": "2022-06-12T16:59:02.208952Z",
          "shell.execute_reply.started": "2022-06-12T16:45:45.122235Z"
        },
        "papermill": {
          "duration": 0.071213,
          "end_time": "2022-06-12T16:59:02.209707",
          "exception": false,
          "start_time": "2022-06-12T16:59:02.138494",
          "status": "completed"
        },
        "tags": [],
        "colab": {
          "base_uri": "https://localhost:8080/",
          "height": 206
        },
        "id": "3a582375",
        "outputId": "31f2b4bc-2cbe-40f0-9f80-c1529a0d08f6"
      },
      "outputs": [
        {
          "output_type": "execute_result",
          "data": {
            "text/plain": [
              "          Session_Id  Item_ID     score\n",
              "0                 26       21 -0.783063\n",
              "15952582          26     1483 -0.905632\n",
              "15952583          26     1524 -0.684156\n",
              "15952584          26     1607 -0.895136\n",
              "15952585          26     1643 -0.558527"
            ],
            "text/html": [
              "\n",
              "  <div id=\"df-2a5f05a7-4146-4dd4-862c-9cbbf1c528b0\" class=\"colab-df-container\">\n",
              "    <div>\n",
              "<style scoped>\n",
              "    .dataframe tbody tr th:only-of-type {\n",
              "        vertical-align: middle;\n",
              "    }\n",
              "\n",
              "    .dataframe tbody tr th {\n",
              "        vertical-align: top;\n",
              "    }\n",
              "\n",
              "    .dataframe thead th {\n",
              "        text-align: right;\n",
              "    }\n",
              "</style>\n",
              "<table border=\"1\" class=\"dataframe\">\n",
              "  <thead>\n",
              "    <tr style=\"text-align: right;\">\n",
              "      <th></th>\n",
              "      <th>Session_Id</th>\n",
              "      <th>Item_ID</th>\n",
              "      <th>score</th>\n",
              "    </tr>\n",
              "  </thead>\n",
              "  <tbody>\n",
              "    <tr>\n",
              "      <th>0</th>\n",
              "      <td>26</td>\n",
              "      <td>21</td>\n",
              "      <td>-0.783063</td>\n",
              "    </tr>\n",
              "    <tr>\n",
              "      <th>15952582</th>\n",
              "      <td>26</td>\n",
              "      <td>1483</td>\n",
              "      <td>-0.905632</td>\n",
              "    </tr>\n",
              "    <tr>\n",
              "      <th>15952583</th>\n",
              "      <td>26</td>\n",
              "      <td>1524</td>\n",
              "      <td>-0.684156</td>\n",
              "    </tr>\n",
              "    <tr>\n",
              "      <th>15952584</th>\n",
              "      <td>26</td>\n",
              "      <td>1607</td>\n",
              "      <td>-0.895136</td>\n",
              "    </tr>\n",
              "    <tr>\n",
              "      <th>15952585</th>\n",
              "      <td>26</td>\n",
              "      <td>1643</td>\n",
              "      <td>-0.558527</td>\n",
              "    </tr>\n",
              "  </tbody>\n",
              "</table>\n",
              "</div>\n",
              "    <div class=\"colab-df-buttons\">\n",
              "\n",
              "  <div class=\"colab-df-container\">\n",
              "    <button class=\"colab-df-convert\" onclick=\"convertToInteractive('df-2a5f05a7-4146-4dd4-862c-9cbbf1c528b0')\"\n",
              "            title=\"Convert this dataframe to an interactive table.\"\n",
              "            style=\"display:none;\">\n",
              "\n",
              "  <svg xmlns=\"http://www.w3.org/2000/svg\" height=\"24px\" viewBox=\"0 -960 960 960\">\n",
              "    <path d=\"M120-120v-720h720v720H120Zm60-500h600v-160H180v160Zm220 220h160v-160H400v160Zm0 220h160v-160H400v160ZM180-400h160v-160H180v160Zm440 0h160v-160H620v160ZM180-180h160v-160H180v160Zm440 0h160v-160H620v160Z\"/>\n",
              "  </svg>\n",
              "    </button>\n",
              "\n",
              "  <style>\n",
              "    .colab-df-container {\n",
              "      display:flex;\n",
              "      gap: 12px;\n",
              "    }\n",
              "\n",
              "    .colab-df-convert {\n",
              "      background-color: #E8F0FE;\n",
              "      border: none;\n",
              "      border-radius: 50%;\n",
              "      cursor: pointer;\n",
              "      display: none;\n",
              "      fill: #1967D2;\n",
              "      height: 32px;\n",
              "      padding: 0 0 0 0;\n",
              "      width: 32px;\n",
              "    }\n",
              "\n",
              "    .colab-df-convert:hover {\n",
              "      background-color: #E2EBFA;\n",
              "      box-shadow: 0px 1px 2px rgba(60, 64, 67, 0.3), 0px 1px 3px 1px rgba(60, 64, 67, 0.15);\n",
              "      fill: #174EA6;\n",
              "    }\n",
              "\n",
              "    .colab-df-buttons div {\n",
              "      margin-bottom: 4px;\n",
              "    }\n",
              "\n",
              "    [theme=dark] .colab-df-convert {\n",
              "      background-color: #3B4455;\n",
              "      fill: #D2E3FC;\n",
              "    }\n",
              "\n",
              "    [theme=dark] .colab-df-convert:hover {\n",
              "      background-color: #434B5C;\n",
              "      box-shadow: 0px 1px 3px 1px rgba(0, 0, 0, 0.15);\n",
              "      filter: drop-shadow(0px 1px 2px rgba(0, 0, 0, 0.3));\n",
              "      fill: #FFFFFF;\n",
              "    }\n",
              "  </style>\n",
              "\n",
              "    <script>\n",
              "      const buttonEl =\n",
              "        document.querySelector('#df-2a5f05a7-4146-4dd4-862c-9cbbf1c528b0 button.colab-df-convert');\n",
              "      buttonEl.style.display =\n",
              "        google.colab.kernel.accessAllowed ? 'block' : 'none';\n",
              "\n",
              "      async function convertToInteractive(key) {\n",
              "        const element = document.querySelector('#df-2a5f05a7-4146-4dd4-862c-9cbbf1c528b0');\n",
              "        const dataTable =\n",
              "          await google.colab.kernel.invokeFunction('convertToInteractive',\n",
              "                                                    [key], {});\n",
              "        if (!dataTable) return;\n",
              "\n",
              "        const docLinkHtml = 'Like what you see? Visit the ' +\n",
              "          '<a target=\"_blank\" href=https://colab.research.google.com/notebooks/data_table.ipynb>data table notebook</a>'\n",
              "          + ' to learn more about interactive tables.';\n",
              "        element.innerHTML = '';\n",
              "        dataTable['output_type'] = 'display_data';\n",
              "        await google.colab.output.renderOutput(dataTable, element);\n",
              "        const docLink = document.createElement('div');\n",
              "        docLink.innerHTML = docLinkHtml;\n",
              "        element.appendChild(docLink);\n",
              "      }\n",
              "    </script>\n",
              "  </div>\n",
              "\n",
              "\n",
              "<div id=\"df-7d76f193-932d-427c-8459-d99a5dcef468\">\n",
              "  <button class=\"colab-df-quickchart\" onclick=\"quickchart('df-7d76f193-932d-427c-8459-d99a5dcef468')\"\n",
              "            title=\"Suggest charts\"\n",
              "            style=\"display:none;\">\n",
              "\n",
              "<svg xmlns=\"http://www.w3.org/2000/svg\" height=\"24px\"viewBox=\"0 0 24 24\"\n",
              "     width=\"24px\">\n",
              "    <g>\n",
              "        <path d=\"M19 3H5c-1.1 0-2 .9-2 2v14c0 1.1.9 2 2 2h14c1.1 0 2-.9 2-2V5c0-1.1-.9-2-2-2zM9 17H7v-7h2v7zm4 0h-2V7h2v10zm4 0h-2v-4h2v4z\"/>\n",
              "    </g>\n",
              "</svg>\n",
              "  </button>\n",
              "\n",
              "<style>\n",
              "  .colab-df-quickchart {\n",
              "      --bg-color: #E8F0FE;\n",
              "      --fill-color: #1967D2;\n",
              "      --hover-bg-color: #E2EBFA;\n",
              "      --hover-fill-color: #174EA6;\n",
              "      --disabled-fill-color: #AAA;\n",
              "      --disabled-bg-color: #DDD;\n",
              "  }\n",
              "\n",
              "  [theme=dark] .colab-df-quickchart {\n",
              "      --bg-color: #3B4455;\n",
              "      --fill-color: #D2E3FC;\n",
              "      --hover-bg-color: #434B5C;\n",
              "      --hover-fill-color: #FFFFFF;\n",
              "      --disabled-bg-color: #3B4455;\n",
              "      --disabled-fill-color: #666;\n",
              "  }\n",
              "\n",
              "  .colab-df-quickchart {\n",
              "    background-color: var(--bg-color);\n",
              "    border: none;\n",
              "    border-radius: 50%;\n",
              "    cursor: pointer;\n",
              "    display: none;\n",
              "    fill: var(--fill-color);\n",
              "    height: 32px;\n",
              "    padding: 0;\n",
              "    width: 32px;\n",
              "  }\n",
              "\n",
              "  .colab-df-quickchart:hover {\n",
              "    background-color: var(--hover-bg-color);\n",
              "    box-shadow: 0 1px 2px rgba(60, 64, 67, 0.3), 0 1px 3px 1px rgba(60, 64, 67, 0.15);\n",
              "    fill: var(--button-hover-fill-color);\n",
              "  }\n",
              "\n",
              "  .colab-df-quickchart-complete:disabled,\n",
              "  .colab-df-quickchart-complete:disabled:hover {\n",
              "    background-color: var(--disabled-bg-color);\n",
              "    fill: var(--disabled-fill-color);\n",
              "    box-shadow: none;\n",
              "  }\n",
              "\n",
              "  .colab-df-spinner {\n",
              "    border: 2px solid var(--fill-color);\n",
              "    border-color: transparent;\n",
              "    border-bottom-color: var(--fill-color);\n",
              "    animation:\n",
              "      spin 1s steps(1) infinite;\n",
              "  }\n",
              "\n",
              "  @keyframes spin {\n",
              "    0% {\n",
              "      border-color: transparent;\n",
              "      border-bottom-color: var(--fill-color);\n",
              "      border-left-color: var(--fill-color);\n",
              "    }\n",
              "    20% {\n",
              "      border-color: transparent;\n",
              "      border-left-color: var(--fill-color);\n",
              "      border-top-color: var(--fill-color);\n",
              "    }\n",
              "    30% {\n",
              "      border-color: transparent;\n",
              "      border-left-color: var(--fill-color);\n",
              "      border-top-color: var(--fill-color);\n",
              "      border-right-color: var(--fill-color);\n",
              "    }\n",
              "    40% {\n",
              "      border-color: transparent;\n",
              "      border-right-color: var(--fill-color);\n",
              "      border-top-color: var(--fill-color);\n",
              "    }\n",
              "    60% {\n",
              "      border-color: transparent;\n",
              "      border-right-color: var(--fill-color);\n",
              "    }\n",
              "    80% {\n",
              "      border-color: transparent;\n",
              "      border-right-color: var(--fill-color);\n",
              "      border-bottom-color: var(--fill-color);\n",
              "    }\n",
              "    90% {\n",
              "      border-color: transparent;\n",
              "      border-bottom-color: var(--fill-color);\n",
              "    }\n",
              "  }\n",
              "</style>\n",
              "\n",
              "  <script>\n",
              "    async function quickchart(key) {\n",
              "      const quickchartButtonEl =\n",
              "        document.querySelector('#' + key + ' button');\n",
              "      quickchartButtonEl.disabled = true;  // To prevent multiple clicks.\n",
              "      quickchartButtonEl.classList.add('colab-df-spinner');\n",
              "      try {\n",
              "        const charts = await google.colab.kernel.invokeFunction(\n",
              "            'suggestCharts', [key], {});\n",
              "      } catch (error) {\n",
              "        console.error('Error during call to suggestCharts:', error);\n",
              "      }\n",
              "      quickchartButtonEl.classList.remove('colab-df-spinner');\n",
              "      quickchartButtonEl.classList.add('colab-df-quickchart-complete');\n",
              "    }\n",
              "    (() => {\n",
              "      let quickchartButtonEl =\n",
              "        document.querySelector('#df-7d76f193-932d-427c-8459-d99a5dcef468 button');\n",
              "      quickchartButtonEl.style.display =\n",
              "        google.colab.kernel.accessAllowed ? 'block' : 'none';\n",
              "    })();\n",
              "  </script>\n",
              "</div>\n",
              "\n",
              "    </div>\n",
              "  </div>\n"
            ],
            "application/vnd.google.colaboratory.intrinsic+json": {
              "type": "dataframe",
              "variable_name": "dataset"
            }
          },
          "metadata": {},
          "execution_count": 32
        }
      ],
      "source": [
        "dataset.head()"
      ]
    },
    {
      "cell_type": "code",
      "execution_count": null,
      "id": "f62e232f",
      "metadata": {
        "execution": {
          "iopub.execute_input": "2022-06-12T16:59:02.327660Z",
          "iopub.status.busy": "2022-06-12T16:59:02.325936Z",
          "iopub.status.idle": "2022-06-12T16:59:16.631562Z",
          "shell.execute_reply": "2022-06-12T16:59:16.630905Z",
          "shell.execute_reply.started": "2022-06-12T16:45:45.123130Z"
        },
        "papermill": {
          "duration": 14.365345,
          "end_time": "2022-06-12T16:59:16.631745",
          "exception": false,
          "start_time": "2022-06-12T16:59:02.266400",
          "status": "completed"
        },
        "tags": [],
        "id": "f62e232f"
      },
      "outputs": [],
      "source": [
        "dataset=dataset.groupby(['Session_Id']).agg(list).reset_index()"
      ]
    },
    {
      "cell_type": "code",
      "execution_count": null,
      "id": "9b85040e",
      "metadata": {
        "execution": {
          "iopub.execute_input": "2022-06-12T16:59:16.757153Z",
          "iopub.status.busy": "2022-06-12T16:59:16.755027Z",
          "iopub.status.idle": "2022-06-12T16:59:16.758945Z",
          "shell.execute_reply": "2022-06-12T16:59:16.759547Z",
          "shell.execute_reply.started": "2022-06-12T16:45:45.125443Z"
        },
        "papermill": {
          "duration": 0.070322,
          "end_time": "2022-06-12T16:59:16.759733",
          "exception": false,
          "start_time": "2022-06-12T16:59:16.689411",
          "status": "completed"
        },
        "tags": [],
        "id": "9b85040e"
      },
      "outputs": [],
      "source": [
        "def get_indices(x):\n",
        "    x=np.array(x)\n",
        "    indices_unsorted=np.argpartition(x, -100)[-100:]\n",
        "    x=x[indices_unsorted]\n",
        "    indices=indices_unsorted[np.argsort(-x)]\n",
        "    return indices"
      ]
    },
    {
      "cell_type": "code",
      "execution_count": null,
      "id": "322214a9",
      "metadata": {
        "execution": {
          "iopub.execute_input": "2022-06-12T16:59:16.880335Z",
          "iopub.status.busy": "2022-06-12T16:59:16.878240Z",
          "iopub.status.idle": "2022-06-12T16:59:21.541201Z",
          "shell.execute_reply": "2022-06-12T16:59:21.540626Z",
          "shell.execute_reply.started": "2022-06-12T16:45:45.127023Z"
        },
        "papermill": {
          "duration": 4.723503,
          "end_time": "2022-06-12T16:59:21.541339",
          "exception": false,
          "start_time": "2022-06-12T16:59:16.817836",
          "status": "completed"
        },
        "tags": [],
        "id": "322214a9"
      },
      "outputs": [],
      "source": [
        "dataset[\"indices\"]=dataset[\"score\"].apply(lambda x: get_indices(x))"
      ]
    },
    {
      "cell_type": "code",
      "execution_count": null,
      "id": "0d15c34d",
      "metadata": {
        "execution": {
          "iopub.execute_input": "2022-06-12T16:59:21.666446Z",
          "iopub.status.busy": "2022-06-12T16:59:21.665635Z",
          "iopub.status.idle": "2022-06-12T16:59:21.668937Z",
          "shell.execute_reply": "2022-06-12T16:59:21.669415Z",
          "shell.execute_reply.started": "2022-06-12T16:45:45.128494Z"
        },
        "papermill": {
          "duration": 0.069271,
          "end_time": "2022-06-12T16:59:21.669582",
          "exception": false,
          "start_time": "2022-06-12T16:59:21.600311",
          "status": "completed"
        },
        "tags": [],
        "colab": {
          "base_uri": "https://localhost:8080/"
        },
        "id": "0d15c34d",
        "outputId": "c0dea646-17a8-47ec-879c-39bcc6de406f"
      },
      "outputs": [
        {
          "output_type": "execute_result",
          "data": {
            "text/plain": [
              "Session_Id                                                   26\n",
              "Item_ID       [21, 1483, 1524, 1607, 1643, 1649, 1651, 1464,...\n",
              "score         [-0.7830632328987122, -0.9056320190429688, -0....\n",
              "indices       [369, 108, 491, 302, 85, 77, 289, 83, 238, 426...\n",
              "Name: 0, dtype: object"
            ]
          },
          "metadata": {},
          "execution_count": 36
        }
      ],
      "source": [
        "dataset.iloc[0]"
      ]
    },
    {
      "cell_type": "code",
      "execution_count": null,
      "id": "bddb4385",
      "metadata": {
        "execution": {
          "iopub.execute_input": "2022-06-12T16:59:21.792818Z",
          "iopub.status.busy": "2022-06-12T16:59:21.792123Z",
          "iopub.status.idle": "2022-06-12T16:59:21.794690Z",
          "shell.execute_reply": "2022-06-12T16:59:21.795160Z",
          "shell.execute_reply.started": "2022-06-12T16:45:45.129667Z"
        },
        "papermill": {
          "duration": 0.066992,
          "end_time": "2022-06-12T16:59:21.795321",
          "exception": false,
          "start_time": "2022-06-12T16:59:21.728329",
          "status": "completed"
        },
        "tags": [],
        "colab": {
          "base_uri": "https://localhost:8080/"
        },
        "id": "bddb4385",
        "outputId": "7f8df9e5-8703-4870-c8d7-ab618518f44f"
      },
      "outputs": [
        {
          "output_type": "execute_result",
          "data": {
            "text/plain": [
              "3338"
            ]
          },
          "metadata": {},
          "execution_count": 37
        }
      ],
      "source": [
        "dataset.iloc[0][\"Item_ID\"][536]"
      ]
    },
    {
      "cell_type": "code",
      "execution_count": null,
      "id": "ebaf1049",
      "metadata": {
        "execution": {
          "iopub.execute_input": "2022-06-12T16:59:21.914318Z",
          "iopub.status.busy": "2022-06-12T16:59:21.913633Z",
          "iopub.status.idle": "2022-06-12T16:59:21.918477Z",
          "shell.execute_reply": "2022-06-12T16:59:21.917883Z",
          "shell.execute_reply.started": "2022-06-12T16:45:45.133056Z"
        },
        "papermill": {
          "duration": 0.065781,
          "end_time": "2022-06-12T16:59:21.918641",
          "exception": false,
          "start_time": "2022-06-12T16:59:21.852860",
          "status": "completed"
        },
        "tags": [],
        "id": "ebaf1049"
      },
      "outputs": [],
      "source": [
        "def get_items(x):\n",
        "    items=np.array(x[0])\n",
        "    return items[x[1]]"
      ]
    },
    {
      "cell_type": "code",
      "execution_count": null,
      "id": "144e62b2",
      "metadata": {
        "execution": {
          "iopub.execute_input": "2022-06-12T16:59:22.041022Z",
          "iopub.status.busy": "2022-06-12T16:59:22.040329Z",
          "iopub.status.idle": "2022-06-12T16:59:26.943557Z",
          "shell.execute_reply": "2022-06-12T16:59:26.942906Z",
          "shell.execute_reply.started": "2022-06-12T16:45:45.134236Z"
        },
        "papermill": {
          "duration": 4.96688,
          "end_time": "2022-06-12T16:59:26.943713",
          "exception": false,
          "start_time": "2022-06-12T16:59:21.976833",
          "status": "completed"
        },
        "tags": [],
        "id": "144e62b2"
      },
      "outputs": [],
      "source": [
        "dataset[\"predictions\"]=dataset[[\"Item_ID\",\"indices\"]].apply(get_items,axis=1)"
      ]
    },
    {
      "cell_type": "code",
      "execution_count": null,
      "id": "b3e85988",
      "metadata": {
        "execution": {
          "iopub.execute_input": "2022-06-12T16:59:27.064711Z",
          "iopub.status.busy": "2022-06-12T16:59:27.064029Z",
          "iopub.status.idle": "2022-06-12T16:59:28.418904Z",
          "shell.execute_reply": "2022-06-12T16:59:28.418236Z",
          "shell.execute_reply.started": "2022-06-12T16:45:45.135881Z"
        },
        "papermill": {
          "duration": 1.416768,
          "end_time": "2022-06-12T16:59:28.419052",
          "exception": false,
          "start_time": "2022-06-12T16:59:27.002284",
          "status": "completed"
        },
        "tags": [],
        "id": "b3e85988"
      },
      "outputs": [],
      "source": [
        "dataset=dataset[[\"Session_Id\",\"predictions\"]]\n",
        "dataset[\"rank\"]=dataset.apply(lambda x:tuple([rank for rank in range(1, 101)]) ,axis=1)"
      ]
    },
    {
      "cell_type": "code",
      "execution_count": null,
      "id": "2c55ecc0",
      "metadata": {
        "execution": {
          "iopub.execute_input": "2022-06-12T16:59:28.541311Z",
          "iopub.status.busy": "2022-06-12T16:59:28.540658Z",
          "iopub.status.idle": "2022-06-12T16:59:28.576588Z",
          "shell.execute_reply": "2022-06-12T16:59:28.575962Z",
          "shell.execute_reply.started": "2022-06-12T16:45:45.137133Z"
        },
        "papermill": {
          "duration": 0.099685,
          "end_time": "2022-06-12T16:59:28.576741",
          "exception": false,
          "start_time": "2022-06-12T16:59:28.477056",
          "status": "completed"
        },
        "tags": [],
        "colab": {
          "base_uri": "https://localhost:8080/",
          "height": 424
        },
        "id": "2c55ecc0",
        "outputId": "7f5ad8a3-2542-47a9-84c1-ad1004caedef"
      },
      "outputs": [
        {
          "output_type": "execute_result",
          "data": {
            "text/plain": [
              "       Session_Id                                        predictions  \\\n",
              "0              26  [606, 4952, 3646, 2905, 4881, 4685, 3894, 4841...   \n",
              "1             200  [772, 1827, 270, 3400, 4878, 3229, 3656, 3676,...   \n",
              "2             205  [2289, 3398, 4986, 1181, 2235, 1039, 588, 3355...   \n",
              "3             495  [2378, 3337, 534, 2369, 3201, 4849, 4155, 4453...   \n",
              "4             521  [1004, 3172, 2175, 143, 1768, 3022, 1518, 3586...   \n",
              "...           ...                                                ...   \n",
              "49995     4439446  [3526, 4810, 2258, 1468, 2605, 2800, 949, 3084...   \n",
              "49996     4439458  [1875, 3880, 2877, 3155, 3026, 867, 2919, 3550...   \n",
              "49997     4439550  [1901, 4779, 625, 4846, 2431, 2835, 989, 517, ...   \n",
              "49998     4439653  [2596, 1015, 42, 2266, 3531, 2638, 360, 36, 36...   \n",
              "49999     4439757  [3252, 3158, 1440, 1057, 3777, 853, 986, 4578,...   \n",
              "\n",
              "                                                    rank  \n",
              "0      (1, 2, 3, 4, 5, 6, 7, 8, 9, 10, 11, 12, 13, 14...  \n",
              "1      (1, 2, 3, 4, 5, 6, 7, 8, 9, 10, 11, 12, 13, 14...  \n",
              "2      (1, 2, 3, 4, 5, 6, 7, 8, 9, 10, 11, 12, 13, 14...  \n",
              "3      (1, 2, 3, 4, 5, 6, 7, 8, 9, 10, 11, 12, 13, 14...  \n",
              "4      (1, 2, 3, 4, 5, 6, 7, 8, 9, 10, 11, 12, 13, 14...  \n",
              "...                                                  ...  \n",
              "49995  (1, 2, 3, 4, 5, 6, 7, 8, 9, 10, 11, 12, 13, 14...  \n",
              "49996  (1, 2, 3, 4, 5, 6, 7, 8, 9, 10, 11, 12, 13, 14...  \n",
              "49997  (1, 2, 3, 4, 5, 6, 7, 8, 9, 10, 11, 12, 13, 14...  \n",
              "49998  (1, 2, 3, 4, 5, 6, 7, 8, 9, 10, 11, 12, 13, 14...  \n",
              "49999  (1, 2, 3, 4, 5, 6, 7, 8, 9, 10, 11, 12, 13, 14...  \n",
              "\n",
              "[50000 rows x 3 columns]"
            ],
            "text/html": [
              "\n",
              "  <div id=\"df-95b3a473-f4bd-4188-a372-f947e27b08d6\" class=\"colab-df-container\">\n",
              "    <div>\n",
              "<style scoped>\n",
              "    .dataframe tbody tr th:only-of-type {\n",
              "        vertical-align: middle;\n",
              "    }\n",
              "\n",
              "    .dataframe tbody tr th {\n",
              "        vertical-align: top;\n",
              "    }\n",
              "\n",
              "    .dataframe thead th {\n",
              "        text-align: right;\n",
              "    }\n",
              "</style>\n",
              "<table border=\"1\" class=\"dataframe\">\n",
              "  <thead>\n",
              "    <tr style=\"text-align: right;\">\n",
              "      <th></th>\n",
              "      <th>Session_Id</th>\n",
              "      <th>predictions</th>\n",
              "      <th>rank</th>\n",
              "    </tr>\n",
              "  </thead>\n",
              "  <tbody>\n",
              "    <tr>\n",
              "      <th>0</th>\n",
              "      <td>26</td>\n",
              "      <td>[606, 4952, 3646, 2905, 4881, 4685, 3894, 4841...</td>\n",
              "      <td>(1, 2, 3, 4, 5, 6, 7, 8, 9, 10, 11, 12, 13, 14...</td>\n",
              "    </tr>\n",
              "    <tr>\n",
              "      <th>1</th>\n",
              "      <td>200</td>\n",
              "      <td>[772, 1827, 270, 3400, 4878, 3229, 3656, 3676,...</td>\n",
              "      <td>(1, 2, 3, 4, 5, 6, 7, 8, 9, 10, 11, 12, 13, 14...</td>\n",
              "    </tr>\n",
              "    <tr>\n",
              "      <th>2</th>\n",
              "      <td>205</td>\n",
              "      <td>[2289, 3398, 4986, 1181, 2235, 1039, 588, 3355...</td>\n",
              "      <td>(1, 2, 3, 4, 5, 6, 7, 8, 9, 10, 11, 12, 13, 14...</td>\n",
              "    </tr>\n",
              "    <tr>\n",
              "      <th>3</th>\n",
              "      <td>495</td>\n",
              "      <td>[2378, 3337, 534, 2369, 3201, 4849, 4155, 4453...</td>\n",
              "      <td>(1, 2, 3, 4, 5, 6, 7, 8, 9, 10, 11, 12, 13, 14...</td>\n",
              "    </tr>\n",
              "    <tr>\n",
              "      <th>4</th>\n",
              "      <td>521</td>\n",
              "      <td>[1004, 3172, 2175, 143, 1768, 3022, 1518, 3586...</td>\n",
              "      <td>(1, 2, 3, 4, 5, 6, 7, 8, 9, 10, 11, 12, 13, 14...</td>\n",
              "    </tr>\n",
              "    <tr>\n",
              "      <th>...</th>\n",
              "      <td>...</td>\n",
              "      <td>...</td>\n",
              "      <td>...</td>\n",
              "    </tr>\n",
              "    <tr>\n",
              "      <th>49995</th>\n",
              "      <td>4439446</td>\n",
              "      <td>[3526, 4810, 2258, 1468, 2605, 2800, 949, 3084...</td>\n",
              "      <td>(1, 2, 3, 4, 5, 6, 7, 8, 9, 10, 11, 12, 13, 14...</td>\n",
              "    </tr>\n",
              "    <tr>\n",
              "      <th>49996</th>\n",
              "      <td>4439458</td>\n",
              "      <td>[1875, 3880, 2877, 3155, 3026, 867, 2919, 3550...</td>\n",
              "      <td>(1, 2, 3, 4, 5, 6, 7, 8, 9, 10, 11, 12, 13, 14...</td>\n",
              "    </tr>\n",
              "    <tr>\n",
              "      <th>49997</th>\n",
              "      <td>4439550</td>\n",
              "      <td>[1901, 4779, 625, 4846, 2431, 2835, 989, 517, ...</td>\n",
              "      <td>(1, 2, 3, 4, 5, 6, 7, 8, 9, 10, 11, 12, 13, 14...</td>\n",
              "    </tr>\n",
              "    <tr>\n",
              "      <th>49998</th>\n",
              "      <td>4439653</td>\n",
              "      <td>[2596, 1015, 42, 2266, 3531, 2638, 360, 36, 36...</td>\n",
              "      <td>(1, 2, 3, 4, 5, 6, 7, 8, 9, 10, 11, 12, 13, 14...</td>\n",
              "    </tr>\n",
              "    <tr>\n",
              "      <th>49999</th>\n",
              "      <td>4439757</td>\n",
              "      <td>[3252, 3158, 1440, 1057, 3777, 853, 986, 4578,...</td>\n",
              "      <td>(1, 2, 3, 4, 5, 6, 7, 8, 9, 10, 11, 12, 13, 14...</td>\n",
              "    </tr>\n",
              "  </tbody>\n",
              "</table>\n",
              "<p>50000 rows × 3 columns</p>\n",
              "</div>\n",
              "    <div class=\"colab-df-buttons\">\n",
              "\n",
              "  <div class=\"colab-df-container\">\n",
              "    <button class=\"colab-df-convert\" onclick=\"convertToInteractive('df-95b3a473-f4bd-4188-a372-f947e27b08d6')\"\n",
              "            title=\"Convert this dataframe to an interactive table.\"\n",
              "            style=\"display:none;\">\n",
              "\n",
              "  <svg xmlns=\"http://www.w3.org/2000/svg\" height=\"24px\" viewBox=\"0 -960 960 960\">\n",
              "    <path d=\"M120-120v-720h720v720H120Zm60-500h600v-160H180v160Zm220 220h160v-160H400v160Zm0 220h160v-160H400v160ZM180-400h160v-160H180v160Zm440 0h160v-160H620v160ZM180-180h160v-160H180v160Zm440 0h160v-160H620v160Z\"/>\n",
              "  </svg>\n",
              "    </button>\n",
              "\n",
              "  <style>\n",
              "    .colab-df-container {\n",
              "      display:flex;\n",
              "      gap: 12px;\n",
              "    }\n",
              "\n",
              "    .colab-df-convert {\n",
              "      background-color: #E8F0FE;\n",
              "      border: none;\n",
              "      border-radius: 50%;\n",
              "      cursor: pointer;\n",
              "      display: none;\n",
              "      fill: #1967D2;\n",
              "      height: 32px;\n",
              "      padding: 0 0 0 0;\n",
              "      width: 32px;\n",
              "    }\n",
              "\n",
              "    .colab-df-convert:hover {\n",
              "      background-color: #E2EBFA;\n",
              "      box-shadow: 0px 1px 2px rgba(60, 64, 67, 0.3), 0px 1px 3px 1px rgba(60, 64, 67, 0.15);\n",
              "      fill: #174EA6;\n",
              "    }\n",
              "\n",
              "    .colab-df-buttons div {\n",
              "      margin-bottom: 4px;\n",
              "    }\n",
              "\n",
              "    [theme=dark] .colab-df-convert {\n",
              "      background-color: #3B4455;\n",
              "      fill: #D2E3FC;\n",
              "    }\n",
              "\n",
              "    [theme=dark] .colab-df-convert:hover {\n",
              "      background-color: #434B5C;\n",
              "      box-shadow: 0px 1px 3px 1px rgba(0, 0, 0, 0.15);\n",
              "      filter: drop-shadow(0px 1px 2px rgba(0, 0, 0, 0.3));\n",
              "      fill: #FFFFFF;\n",
              "    }\n",
              "  </style>\n",
              "\n",
              "    <script>\n",
              "      const buttonEl =\n",
              "        document.querySelector('#df-95b3a473-f4bd-4188-a372-f947e27b08d6 button.colab-df-convert');\n",
              "      buttonEl.style.display =\n",
              "        google.colab.kernel.accessAllowed ? 'block' : 'none';\n",
              "\n",
              "      async function convertToInteractive(key) {\n",
              "        const element = document.querySelector('#df-95b3a473-f4bd-4188-a372-f947e27b08d6');\n",
              "        const dataTable =\n",
              "          await google.colab.kernel.invokeFunction('convertToInteractive',\n",
              "                                                    [key], {});\n",
              "        if (!dataTable) return;\n",
              "\n",
              "        const docLinkHtml = 'Like what you see? Visit the ' +\n",
              "          '<a target=\"_blank\" href=https://colab.research.google.com/notebooks/data_table.ipynb>data table notebook</a>'\n",
              "          + ' to learn more about interactive tables.';\n",
              "        element.innerHTML = '';\n",
              "        dataTable['output_type'] = 'display_data';\n",
              "        await google.colab.output.renderOutput(dataTable, element);\n",
              "        const docLink = document.createElement('div');\n",
              "        docLink.innerHTML = docLinkHtml;\n",
              "        element.appendChild(docLink);\n",
              "      }\n",
              "    </script>\n",
              "  </div>\n",
              "\n",
              "\n",
              "<div id=\"df-68cc08cc-4719-43ec-9a0f-44fa7d0b4f8b\">\n",
              "  <button class=\"colab-df-quickchart\" onclick=\"quickchart('df-68cc08cc-4719-43ec-9a0f-44fa7d0b4f8b')\"\n",
              "            title=\"Suggest charts\"\n",
              "            style=\"display:none;\">\n",
              "\n",
              "<svg xmlns=\"http://www.w3.org/2000/svg\" height=\"24px\"viewBox=\"0 0 24 24\"\n",
              "     width=\"24px\">\n",
              "    <g>\n",
              "        <path d=\"M19 3H5c-1.1 0-2 .9-2 2v14c0 1.1.9 2 2 2h14c1.1 0 2-.9 2-2V5c0-1.1-.9-2-2-2zM9 17H7v-7h2v7zm4 0h-2V7h2v10zm4 0h-2v-4h2v4z\"/>\n",
              "    </g>\n",
              "</svg>\n",
              "  </button>\n",
              "\n",
              "<style>\n",
              "  .colab-df-quickchart {\n",
              "      --bg-color: #E8F0FE;\n",
              "      --fill-color: #1967D2;\n",
              "      --hover-bg-color: #E2EBFA;\n",
              "      --hover-fill-color: #174EA6;\n",
              "      --disabled-fill-color: #AAA;\n",
              "      --disabled-bg-color: #DDD;\n",
              "  }\n",
              "\n",
              "  [theme=dark] .colab-df-quickchart {\n",
              "      --bg-color: #3B4455;\n",
              "      --fill-color: #D2E3FC;\n",
              "      --hover-bg-color: #434B5C;\n",
              "      --hover-fill-color: #FFFFFF;\n",
              "      --disabled-bg-color: #3B4455;\n",
              "      --disabled-fill-color: #666;\n",
              "  }\n",
              "\n",
              "  .colab-df-quickchart {\n",
              "    background-color: var(--bg-color);\n",
              "    border: none;\n",
              "    border-radius: 50%;\n",
              "    cursor: pointer;\n",
              "    display: none;\n",
              "    fill: var(--fill-color);\n",
              "    height: 32px;\n",
              "    padding: 0;\n",
              "    width: 32px;\n",
              "  }\n",
              "\n",
              "  .colab-df-quickchart:hover {\n",
              "    background-color: var(--hover-bg-color);\n",
              "    box-shadow: 0 1px 2px rgba(60, 64, 67, 0.3), 0 1px 3px 1px rgba(60, 64, 67, 0.15);\n",
              "    fill: var(--button-hover-fill-color);\n",
              "  }\n",
              "\n",
              "  .colab-df-quickchart-complete:disabled,\n",
              "  .colab-df-quickchart-complete:disabled:hover {\n",
              "    background-color: var(--disabled-bg-color);\n",
              "    fill: var(--disabled-fill-color);\n",
              "    box-shadow: none;\n",
              "  }\n",
              "\n",
              "  .colab-df-spinner {\n",
              "    border: 2px solid var(--fill-color);\n",
              "    border-color: transparent;\n",
              "    border-bottom-color: var(--fill-color);\n",
              "    animation:\n",
              "      spin 1s steps(1) infinite;\n",
              "  }\n",
              "\n",
              "  @keyframes spin {\n",
              "    0% {\n",
              "      border-color: transparent;\n",
              "      border-bottom-color: var(--fill-color);\n",
              "      border-left-color: var(--fill-color);\n",
              "    }\n",
              "    20% {\n",
              "      border-color: transparent;\n",
              "      border-left-color: var(--fill-color);\n",
              "      border-top-color: var(--fill-color);\n",
              "    }\n",
              "    30% {\n",
              "      border-color: transparent;\n",
              "      border-left-color: var(--fill-color);\n",
              "      border-top-color: var(--fill-color);\n",
              "      border-right-color: var(--fill-color);\n",
              "    }\n",
              "    40% {\n",
              "      border-color: transparent;\n",
              "      border-right-color: var(--fill-color);\n",
              "      border-top-color: var(--fill-color);\n",
              "    }\n",
              "    60% {\n",
              "      border-color: transparent;\n",
              "      border-right-color: var(--fill-color);\n",
              "    }\n",
              "    80% {\n",
              "      border-color: transparent;\n",
              "      border-right-color: var(--fill-color);\n",
              "      border-bottom-color: var(--fill-color);\n",
              "    }\n",
              "    90% {\n",
              "      border-color: transparent;\n",
              "      border-bottom-color: var(--fill-color);\n",
              "    }\n",
              "  }\n",
              "</style>\n",
              "\n",
              "  <script>\n",
              "    async function quickchart(key) {\n",
              "      const quickchartButtonEl =\n",
              "        document.querySelector('#' + key + ' button');\n",
              "      quickchartButtonEl.disabled = true;  // To prevent multiple clicks.\n",
              "      quickchartButtonEl.classList.add('colab-df-spinner');\n",
              "      try {\n",
              "        const charts = await google.colab.kernel.invokeFunction(\n",
              "            'suggestCharts', [key], {});\n",
              "      } catch (error) {\n",
              "        console.error('Error during call to suggestCharts:', error);\n",
              "      }\n",
              "      quickchartButtonEl.classList.remove('colab-df-spinner');\n",
              "      quickchartButtonEl.classList.add('colab-df-quickchart-complete');\n",
              "    }\n",
              "    (() => {\n",
              "      let quickchartButtonEl =\n",
              "        document.querySelector('#df-68cc08cc-4719-43ec-9a0f-44fa7d0b4f8b button');\n",
              "      quickchartButtonEl.style.display =\n",
              "        google.colab.kernel.accessAllowed ? 'block' : 'none';\n",
              "    })();\n",
              "  </script>\n",
              "</div>\n",
              "\n",
              "  <div id=\"id_b75d2260-5933-4914-8aad-5ca304d79134\">\n",
              "    <style>\n",
              "      .colab-df-generate {\n",
              "        background-color: #E8F0FE;\n",
              "        border: none;\n",
              "        border-radius: 50%;\n",
              "        cursor: pointer;\n",
              "        display: none;\n",
              "        fill: #1967D2;\n",
              "        height: 32px;\n",
              "        padding: 0 0 0 0;\n",
              "        width: 32px;\n",
              "      }\n",
              "\n",
              "      .colab-df-generate:hover {\n",
              "        background-color: #E2EBFA;\n",
              "        box-shadow: 0px 1px 2px rgba(60, 64, 67, 0.3), 0px 1px 3px 1px rgba(60, 64, 67, 0.15);\n",
              "        fill: #174EA6;\n",
              "      }\n",
              "\n",
              "      [theme=dark] .colab-df-generate {\n",
              "        background-color: #3B4455;\n",
              "        fill: #D2E3FC;\n",
              "      }\n",
              "\n",
              "      [theme=dark] .colab-df-generate:hover {\n",
              "        background-color: #434B5C;\n",
              "        box-shadow: 0px 1px 3px 1px rgba(0, 0, 0, 0.15);\n",
              "        filter: drop-shadow(0px 1px 2px rgba(0, 0, 0, 0.3));\n",
              "        fill: #FFFFFF;\n",
              "      }\n",
              "    </style>\n",
              "    <button class=\"colab-df-generate\" onclick=\"generateWithVariable('dataset')\"\n",
              "            title=\"Generate code using this dataframe.\"\n",
              "            style=\"display:none;\">\n",
              "\n",
              "  <svg xmlns=\"http://www.w3.org/2000/svg\" height=\"24px\"viewBox=\"0 0 24 24\"\n",
              "       width=\"24px\">\n",
              "    <path d=\"M7,19H8.4L18.45,9,17,7.55,7,17.6ZM5,21V16.75L18.45,3.32a2,2,0,0,1,2.83,0l1.4,1.43a1.91,1.91,0,0,1,.58,1.4,1.91,1.91,0,0,1-.58,1.4L9.25,21ZM18.45,9,17,7.55Zm-12,3A5.31,5.31,0,0,0,4.9,8.1,5.31,5.31,0,0,0,1,6.5,5.31,5.31,0,0,0,4.9,4.9,5.31,5.31,0,0,0,6.5,1,5.31,5.31,0,0,0,8.1,4.9,5.31,5.31,0,0,0,12,6.5,5.46,5.46,0,0,0,6.5,12Z\"/>\n",
              "  </svg>\n",
              "    </button>\n",
              "    <script>\n",
              "      (() => {\n",
              "      const buttonEl =\n",
              "        document.querySelector('#id_b75d2260-5933-4914-8aad-5ca304d79134 button.colab-df-generate');\n",
              "      buttonEl.style.display =\n",
              "        google.colab.kernel.accessAllowed ? 'block' : 'none';\n",
              "\n",
              "      buttonEl.onclick = () => {\n",
              "        google.colab.notebook.generateWithVariable('dataset');\n",
              "      }\n",
              "      })();\n",
              "    </script>\n",
              "  </div>\n",
              "\n",
              "    </div>\n",
              "  </div>\n"
            ],
            "application/vnd.google.colaboratory.intrinsic+json": {
              "type": "dataframe",
              "variable_name": "dataset",
              "summary": "{\n  \"name\": \"dataset\",\n  \"rows\": 50000,\n  \"fields\": [\n    {\n      \"column\": \"Session_Id\",\n      \"properties\": {\n        \"dtype\": \"number\",\n        \"std\": 1283404,\n        \"min\": 26,\n        \"max\": 4439757,\n        \"num_unique_values\": 50000,\n        \"samples\": [\n          2993624,\n          841850,\n          18132\n        ],\n        \"semantic_type\": \"\",\n        \"description\": \"\"\n      }\n    },\n    {\n      \"column\": \"predictions\",\n      \"properties\": {\n        \"dtype\": \"object\",\n        \"semantic_type\": \"\",\n        \"description\": \"\"\n      }\n    },\n    {\n      \"column\": \"rank\",\n      \"properties\": {\n        \"dtype\": \"category\",\n        \"num_unique_values\": 1,\n        \"samples\": [\n          [\n            1,\n            2,\n            3,\n            4,\n            5,\n            6,\n            7,\n            8,\n            9,\n            10,\n            11,\n            12,\n            13,\n            14,\n            15,\n            16,\n            17,\n            18,\n            19,\n            20,\n            21,\n            22,\n            23,\n            24,\n            25,\n            26,\n            27,\n            28,\n            29,\n            30,\n            31,\n            32,\n            33,\n            34,\n            35,\n            36,\n            37,\n            38,\n            39,\n            40,\n            41,\n            42,\n            43,\n            44,\n            45,\n            46,\n            47,\n            48,\n            49,\n            50,\n            51,\n            52,\n            53,\n            54,\n            55,\n            56,\n            57,\n            58,\n            59,\n            60,\n            61,\n            62,\n            63,\n            64,\n            65,\n            66,\n            67,\n            68,\n            69,\n            70,\n            71,\n            72,\n            73,\n            74,\n            75,\n            76,\n            77,\n            78,\n            79,\n            80,\n            81,\n            82,\n            83,\n            84,\n            85,\n            86,\n            87,\n            88,\n            89,\n            90,\n            91,\n            92,\n            93,\n            94,\n            95,\n            96,\n            97,\n            98,\n            99,\n            100\n          ]\n        ],\n        \"semantic_type\": \"\",\n        \"description\": \"\"\n      }\n    }\n  ]\n}"
            }
          },
          "metadata": {},
          "execution_count": 41
        }
      ],
      "source": [
        "dataset"
      ]
    },
    {
      "cell_type": "code",
      "execution_count": null,
      "id": "19e4beee",
      "metadata": {
        "execution": {
          "iopub.execute_input": "2022-06-12T16:59:29.297882Z",
          "iopub.status.busy": "2022-06-12T16:59:28.699621Z",
          "iopub.status.idle": "2022-06-12T16:59:29.318844Z",
          "shell.execute_reply": "2022-06-12T16:59:29.318122Z",
          "shell.execute_reply.started": "2022-06-12T16:45:45.138354Z"
        },
        "papermill": {
          "duration": 0.683005,
          "end_time": "2022-06-12T16:59:29.319000",
          "exception": false,
          "start_time": "2022-06-12T16:59:28.635995",
          "status": "completed"
        },
        "tags": [],
        "id": "19e4beee"
      },
      "outputs": [],
      "source": [
        "dataset[\"predictions\"]=dataset[\"predictions\"].apply(tuple)"
      ]
    },
    {
      "cell_type": "code",
      "execution_count": null,
      "id": "a2d2299a",
      "metadata": {
        "execution": {
          "iopub.execute_input": "2022-06-12T16:59:29.566072Z",
          "iopub.status.busy": "2022-06-12T16:59:29.565390Z",
          "iopub.status.idle": "2022-06-12T16:59:29.569173Z",
          "shell.execute_reply": "2022-06-12T16:59:29.568574Z",
          "shell.execute_reply.started": "2022-06-12T16:45:45.139710Z"
        },
        "papermill": {
          "duration": 0.07339,
          "end_time": "2022-06-12T16:59:29.569313",
          "exception": false,
          "start_time": "2022-06-12T16:59:29.495923",
          "status": "completed"
        },
        "tags": [],
        "id": "a2d2299a"
      },
      "outputs": [],
      "source": [
        "dataset=dataset[[\"Session_Id\",\"predictions\",\"rank\"]]"
      ]
    },
    {
      "cell_type": "code",
      "execution_count": null,
      "id": "1facb193",
      "metadata": {
        "execution": {
          "iopub.execute_input": "2022-06-12T16:59:29.692489Z",
          "iopub.status.busy": "2022-06-12T16:59:29.691886Z",
          "iopub.status.idle": "2022-06-12T16:59:29.693584Z",
          "shell.execute_reply": "2022-06-12T16:59:29.694079Z",
          "shell.execute_reply.started": "2022-06-12T16:45:45.140957Z"
        },
        "papermill": {
          "duration": 0.06533,
          "end_time": "2022-06-12T16:59:29.694238",
          "exception": false,
          "start_time": "2022-06-12T16:59:29.628908",
          "status": "completed"
        },
        "tags": [],
        "id": "1facb193"
      },
      "outputs": [],
      "source": [
        "dataset.columns=[\"session_id\",\"code\",\"rank\"]"
      ]
    },
    {
      "cell_type": "code",
      "execution_count": null,
      "id": "ccdf1f46",
      "metadata": {
        "execution": {
          "iopub.execute_input": "2022-06-12T16:59:29.818440Z",
          "iopub.status.busy": "2022-06-12T16:59:29.817800Z",
          "iopub.status.idle": "2022-06-12T16:59:29.836686Z",
          "shell.execute_reply": "2022-06-12T16:59:29.837270Z",
          "shell.execute_reply.started": "2022-06-12T16:45:45.142920Z"
        },
        "papermill": {
          "duration": 0.083812,
          "end_time": "2022-06-12T16:59:29.837436",
          "exception": false,
          "start_time": "2022-06-12T16:59:29.753624",
          "status": "completed"
        },
        "tags": [],
        "colab": {
          "base_uri": "https://localhost:8080/",
          "height": 206
        },
        "id": "ccdf1f46",
        "outputId": "6602ce90-758d-4ed9-9520-383fe1328862"
      },
      "outputs": [
        {
          "output_type": "execute_result",
          "data": {
            "text/plain": [
              "   session_id                                               code  \\\n",
              "0          26  (606, 4952, 3646, 2905, 4881, 4685, 3894, 4841...   \n",
              "1         200  (772, 1827, 270, 3400, 4878, 3229, 3656, 3676,...   \n",
              "2         205  (2289, 3398, 4986, 1181, 2235, 1039, 588, 3355...   \n",
              "3         495  (2378, 3337, 534, 2369, 3201, 4849, 4155, 4453...   \n",
              "4         521  (1004, 3172, 2175, 143, 1768, 3022, 1518, 3586...   \n",
              "\n",
              "                                                rank  \n",
              "0  (1, 2, 3, 4, 5, 6, 7, 8, 9, 10, 11, 12, 13, 14...  \n",
              "1  (1, 2, 3, 4, 5, 6, 7, 8, 9, 10, 11, 12, 13, 14...  \n",
              "2  (1, 2, 3, 4, 5, 6, 7, 8, 9, 10, 11, 12, 13, 14...  \n",
              "3  (1, 2, 3, 4, 5, 6, 7, 8, 9, 10, 11, 12, 13, 14...  \n",
              "4  (1, 2, 3, 4, 5, 6, 7, 8, 9, 10, 11, 12, 13, 14...  "
            ],
            "text/html": [
              "\n",
              "  <div id=\"df-f416116e-4ff2-44d9-8841-8198b1b46bd6\" class=\"colab-df-container\">\n",
              "    <div>\n",
              "<style scoped>\n",
              "    .dataframe tbody tr th:only-of-type {\n",
              "        vertical-align: middle;\n",
              "    }\n",
              "\n",
              "    .dataframe tbody tr th {\n",
              "        vertical-align: top;\n",
              "    }\n",
              "\n",
              "    .dataframe thead th {\n",
              "        text-align: right;\n",
              "    }\n",
              "</style>\n",
              "<table border=\"1\" class=\"dataframe\">\n",
              "  <thead>\n",
              "    <tr style=\"text-align: right;\">\n",
              "      <th></th>\n",
              "      <th>session_id</th>\n",
              "      <th>code</th>\n",
              "      <th>rank</th>\n",
              "    </tr>\n",
              "  </thead>\n",
              "  <tbody>\n",
              "    <tr>\n",
              "      <th>0</th>\n",
              "      <td>26</td>\n",
              "      <td>(606, 4952, 3646, 2905, 4881, 4685, 3894, 4841...</td>\n",
              "      <td>(1, 2, 3, 4, 5, 6, 7, 8, 9, 10, 11, 12, 13, 14...</td>\n",
              "    </tr>\n",
              "    <tr>\n",
              "      <th>1</th>\n",
              "      <td>200</td>\n",
              "      <td>(772, 1827, 270, 3400, 4878, 3229, 3656, 3676,...</td>\n",
              "      <td>(1, 2, 3, 4, 5, 6, 7, 8, 9, 10, 11, 12, 13, 14...</td>\n",
              "    </tr>\n",
              "    <tr>\n",
              "      <th>2</th>\n",
              "      <td>205</td>\n",
              "      <td>(2289, 3398, 4986, 1181, 2235, 1039, 588, 3355...</td>\n",
              "      <td>(1, 2, 3, 4, 5, 6, 7, 8, 9, 10, 11, 12, 13, 14...</td>\n",
              "    </tr>\n",
              "    <tr>\n",
              "      <th>3</th>\n",
              "      <td>495</td>\n",
              "      <td>(2378, 3337, 534, 2369, 3201, 4849, 4155, 4453...</td>\n",
              "      <td>(1, 2, 3, 4, 5, 6, 7, 8, 9, 10, 11, 12, 13, 14...</td>\n",
              "    </tr>\n",
              "    <tr>\n",
              "      <th>4</th>\n",
              "      <td>521</td>\n",
              "      <td>(1004, 3172, 2175, 143, 1768, 3022, 1518, 3586...</td>\n",
              "      <td>(1, 2, 3, 4, 5, 6, 7, 8, 9, 10, 11, 12, 13, 14...</td>\n",
              "    </tr>\n",
              "  </tbody>\n",
              "</table>\n",
              "</div>\n",
              "    <div class=\"colab-df-buttons\">\n",
              "\n",
              "  <div class=\"colab-df-container\">\n",
              "    <button class=\"colab-df-convert\" onclick=\"convertToInteractive('df-f416116e-4ff2-44d9-8841-8198b1b46bd6')\"\n",
              "            title=\"Convert this dataframe to an interactive table.\"\n",
              "            style=\"display:none;\">\n",
              "\n",
              "  <svg xmlns=\"http://www.w3.org/2000/svg\" height=\"24px\" viewBox=\"0 -960 960 960\">\n",
              "    <path d=\"M120-120v-720h720v720H120Zm60-500h600v-160H180v160Zm220 220h160v-160H400v160Zm0 220h160v-160H400v160ZM180-400h160v-160H180v160Zm440 0h160v-160H620v160ZM180-180h160v-160H180v160Zm440 0h160v-160H620v160Z\"/>\n",
              "  </svg>\n",
              "    </button>\n",
              "\n",
              "  <style>\n",
              "    .colab-df-container {\n",
              "      display:flex;\n",
              "      gap: 12px;\n",
              "    }\n",
              "\n",
              "    .colab-df-convert {\n",
              "      background-color: #E8F0FE;\n",
              "      border: none;\n",
              "      border-radius: 50%;\n",
              "      cursor: pointer;\n",
              "      display: none;\n",
              "      fill: #1967D2;\n",
              "      height: 32px;\n",
              "      padding: 0 0 0 0;\n",
              "      width: 32px;\n",
              "    }\n",
              "\n",
              "    .colab-df-convert:hover {\n",
              "      background-color: #E2EBFA;\n",
              "      box-shadow: 0px 1px 2px rgba(60, 64, 67, 0.3), 0px 1px 3px 1px rgba(60, 64, 67, 0.15);\n",
              "      fill: #174EA6;\n",
              "    }\n",
              "\n",
              "    .colab-df-buttons div {\n",
              "      margin-bottom: 4px;\n",
              "    }\n",
              "\n",
              "    [theme=dark] .colab-df-convert {\n",
              "      background-color: #3B4455;\n",
              "      fill: #D2E3FC;\n",
              "    }\n",
              "\n",
              "    [theme=dark] .colab-df-convert:hover {\n",
              "      background-color: #434B5C;\n",
              "      box-shadow: 0px 1px 3px 1px rgba(0, 0, 0, 0.15);\n",
              "      filter: drop-shadow(0px 1px 2px rgba(0, 0, 0, 0.3));\n",
              "      fill: #FFFFFF;\n",
              "    }\n",
              "  </style>\n",
              "\n",
              "    <script>\n",
              "      const buttonEl =\n",
              "        document.querySelector('#df-f416116e-4ff2-44d9-8841-8198b1b46bd6 button.colab-df-convert');\n",
              "      buttonEl.style.display =\n",
              "        google.colab.kernel.accessAllowed ? 'block' : 'none';\n",
              "\n",
              "      async function convertToInteractive(key) {\n",
              "        const element = document.querySelector('#df-f416116e-4ff2-44d9-8841-8198b1b46bd6');\n",
              "        const dataTable =\n",
              "          await google.colab.kernel.invokeFunction('convertToInteractive',\n",
              "                                                    [key], {});\n",
              "        if (!dataTable) return;\n",
              "\n",
              "        const docLinkHtml = 'Like what you see? Visit the ' +\n",
              "          '<a target=\"_blank\" href=https://colab.research.google.com/notebooks/data_table.ipynb>data table notebook</a>'\n",
              "          + ' to learn more about interactive tables.';\n",
              "        element.innerHTML = '';\n",
              "        dataTable['output_type'] = 'display_data';\n",
              "        await google.colab.output.renderOutput(dataTable, element);\n",
              "        const docLink = document.createElement('div');\n",
              "        docLink.innerHTML = docLinkHtml;\n",
              "        element.appendChild(docLink);\n",
              "      }\n",
              "    </script>\n",
              "  </div>\n",
              "\n",
              "\n",
              "<div id=\"df-eed9c502-3248-4588-bf22-c797387b540e\">\n",
              "  <button class=\"colab-df-quickchart\" onclick=\"quickchart('df-eed9c502-3248-4588-bf22-c797387b540e')\"\n",
              "            title=\"Suggest charts\"\n",
              "            style=\"display:none;\">\n",
              "\n",
              "<svg xmlns=\"http://www.w3.org/2000/svg\" height=\"24px\"viewBox=\"0 0 24 24\"\n",
              "     width=\"24px\">\n",
              "    <g>\n",
              "        <path d=\"M19 3H5c-1.1 0-2 .9-2 2v14c0 1.1.9 2 2 2h14c1.1 0 2-.9 2-2V5c0-1.1-.9-2-2-2zM9 17H7v-7h2v7zm4 0h-2V7h2v10zm4 0h-2v-4h2v4z\"/>\n",
              "    </g>\n",
              "</svg>\n",
              "  </button>\n",
              "\n",
              "<style>\n",
              "  .colab-df-quickchart {\n",
              "      --bg-color: #E8F0FE;\n",
              "      --fill-color: #1967D2;\n",
              "      --hover-bg-color: #E2EBFA;\n",
              "      --hover-fill-color: #174EA6;\n",
              "      --disabled-fill-color: #AAA;\n",
              "      --disabled-bg-color: #DDD;\n",
              "  }\n",
              "\n",
              "  [theme=dark] .colab-df-quickchart {\n",
              "      --bg-color: #3B4455;\n",
              "      --fill-color: #D2E3FC;\n",
              "      --hover-bg-color: #434B5C;\n",
              "      --hover-fill-color: #FFFFFF;\n",
              "      --disabled-bg-color: #3B4455;\n",
              "      --disabled-fill-color: #666;\n",
              "  }\n",
              "\n",
              "  .colab-df-quickchart {\n",
              "    background-color: var(--bg-color);\n",
              "    border: none;\n",
              "    border-radius: 50%;\n",
              "    cursor: pointer;\n",
              "    display: none;\n",
              "    fill: var(--fill-color);\n",
              "    height: 32px;\n",
              "    padding: 0;\n",
              "    width: 32px;\n",
              "  }\n",
              "\n",
              "  .colab-df-quickchart:hover {\n",
              "    background-color: var(--hover-bg-color);\n",
              "    box-shadow: 0 1px 2px rgba(60, 64, 67, 0.3), 0 1px 3px 1px rgba(60, 64, 67, 0.15);\n",
              "    fill: var(--button-hover-fill-color);\n",
              "  }\n",
              "\n",
              "  .colab-df-quickchart-complete:disabled,\n",
              "  .colab-df-quickchart-complete:disabled:hover {\n",
              "    background-color: var(--disabled-bg-color);\n",
              "    fill: var(--disabled-fill-color);\n",
              "    box-shadow: none;\n",
              "  }\n",
              "\n",
              "  .colab-df-spinner {\n",
              "    border: 2px solid var(--fill-color);\n",
              "    border-color: transparent;\n",
              "    border-bottom-color: var(--fill-color);\n",
              "    animation:\n",
              "      spin 1s steps(1) infinite;\n",
              "  }\n",
              "\n",
              "  @keyframes spin {\n",
              "    0% {\n",
              "      border-color: transparent;\n",
              "      border-bottom-color: var(--fill-color);\n",
              "      border-left-color: var(--fill-color);\n",
              "    }\n",
              "    20% {\n",
              "      border-color: transparent;\n",
              "      border-left-color: var(--fill-color);\n",
              "      border-top-color: var(--fill-color);\n",
              "    }\n",
              "    30% {\n",
              "      border-color: transparent;\n",
              "      border-left-color: var(--fill-color);\n",
              "      border-top-color: var(--fill-color);\n",
              "      border-right-color: var(--fill-color);\n",
              "    }\n",
              "    40% {\n",
              "      border-color: transparent;\n",
              "      border-right-color: var(--fill-color);\n",
              "      border-top-color: var(--fill-color);\n",
              "    }\n",
              "    60% {\n",
              "      border-color: transparent;\n",
              "      border-right-color: var(--fill-color);\n",
              "    }\n",
              "    80% {\n",
              "      border-color: transparent;\n",
              "      border-right-color: var(--fill-color);\n",
              "      border-bottom-color: var(--fill-color);\n",
              "    }\n",
              "    90% {\n",
              "      border-color: transparent;\n",
              "      border-bottom-color: var(--fill-color);\n",
              "    }\n",
              "  }\n",
              "</style>\n",
              "\n",
              "  <script>\n",
              "    async function quickchart(key) {\n",
              "      const quickchartButtonEl =\n",
              "        document.querySelector('#' + key + ' button');\n",
              "      quickchartButtonEl.disabled = true;  // To prevent multiple clicks.\n",
              "      quickchartButtonEl.classList.add('colab-df-spinner');\n",
              "      try {\n",
              "        const charts = await google.colab.kernel.invokeFunction(\n",
              "            'suggestCharts', [key], {});\n",
              "      } catch (error) {\n",
              "        console.error('Error during call to suggestCharts:', error);\n",
              "      }\n",
              "      quickchartButtonEl.classList.remove('colab-df-spinner');\n",
              "      quickchartButtonEl.classList.add('colab-df-quickchart-complete');\n",
              "    }\n",
              "    (() => {\n",
              "      let quickchartButtonEl =\n",
              "        document.querySelector('#df-eed9c502-3248-4588-bf22-c797387b540e button');\n",
              "      quickchartButtonEl.style.display =\n",
              "        google.colab.kernel.accessAllowed ? 'block' : 'none';\n",
              "    })();\n",
              "  </script>\n",
              "</div>\n",
              "\n",
              "    </div>\n",
              "  </div>\n"
            ],
            "application/vnd.google.colaboratory.intrinsic+json": {
              "type": "dataframe",
              "variable_name": "dataset",
              "summary": "{\n  \"name\": \"dataset\",\n  \"rows\": 50000,\n  \"fields\": [\n    {\n      \"column\": \"session_id\",\n      \"properties\": {\n        \"dtype\": \"number\",\n        \"std\": 1283404,\n        \"min\": 26,\n        \"max\": 4439757,\n        \"num_unique_values\": 50000,\n        \"samples\": [\n          2993624,\n          841850,\n          18132\n        ],\n        \"semantic_type\": \"\",\n        \"description\": \"\"\n      }\n    },\n    {\n      \"column\": \"code\",\n      \"properties\": {\n        \"dtype\": \"string\",\n        \"num_unique_values\": 49954,\n        \"samples\": [\n          [\n            \"4562\",\n            \"349\",\n            \"192\",\n            \"3784\",\n            \"1528\",\n            \"823\",\n            \"787\",\n            \"3922\",\n            \"3224\",\n            \"716\",\n            \"1317\",\n            \"3586\",\n            \"2634\",\n            \"3954\",\n            \"1973\",\n            \"3935\",\n            \"4453\",\n            \"2379\",\n            \"808\",\n            \"1470\",\n            \"2920\",\n            \"3860\",\n            \"1327\",\n            \"3996\",\n            \"143\",\n            \"534\",\n            \"4608\",\n            \"1152\",\n            \"4700\",\n            \"4845\",\n            \"874\",\n            \"1796\",\n            \"715\",\n            \"698\",\n            \"2155\",\n            \"4874\",\n            \"4123\",\n            \"3804\",\n            \"2529\",\n            \"1458\",\n            \"173\",\n            \"1296\",\n            \"4339\",\n            \"3929\",\n            \"429\",\n            \"668\",\n            \"2037\",\n            \"1459\",\n            \"1429\",\n            \"1048\",\n            \"2000\",\n            \"1249\",\n            \"261\",\n            \"2117\",\n            \"3621\",\n            \"3137\",\n            \"1195\",\n            \"3241\",\n            \"2711\",\n            \"645\",\n            \"1244\",\n            \"4805\",\n            \"2445\",\n            \"1007\",\n            \"2350\",\n            \"1626\",\n            \"3344\",\n            \"4376\",\n            \"4842\",\n            \"4822\",\n            \"3533\",\n            \"3921\",\n            \"4208\",\n            \"2909\",\n            \"4721\",\n            \"1745\",\n            \"4705\",\n            \"2588\",\n            \"4244\",\n            \"2578\",\n            \"1815\",\n            \"2865\",\n            \"1396\",\n            \"1728\",\n            \"430\",\n            \"2257\",\n            \"1684\",\n            \"2022\",\n            \"2453\",\n            \"393\",\n            \"4220\",\n            \"1726\",\n            \"187\",\n            \"2877\",\n            \"1004\",\n            \"1608\",\n            \"682\",\n            \"286\",\n            \"466\",\n            \"206\"\n          ],\n          [\n            \"4418\",\n            \"1952\",\n            \"1794\",\n            \"1183\",\n            \"1609\",\n            \"2865\",\n            \"2785\",\n            \"3362\",\n            \"2780\",\n            \"3355\",\n            \"3550\",\n            \"3895\",\n            \"4489\",\n            \"2503\",\n            \"1643\",\n            \"4741\",\n            \"4795\",\n            \"4451\",\n            \"2639\",\n            \"4554\",\n            \"2674\",\n            \"3026\",\n            \"1463\",\n            \"4038\",\n            \"3155\",\n            \"603\",\n            \"3255\",\n            \"1139\",\n            \"2328\",\n            \"3359\",\n            \"4138\",\n            \"1458\",\n            \"242\",\n            \"1989\",\n            \"1389\",\n            \"2718\",\n            \"3708\",\n            \"1936\",\n            \"4385\",\n            \"3731\",\n            \"3333\",\n            \"2724\",\n            \"3746\",\n            \"1488\",\n            \"3128\",\n            \"965\",\n            \"3671\",\n            \"4103\",\n            \"2435\",\n            \"4175\",\n            \"4314\",\n            \"1356\",\n            \"4487\",\n            \"2332\",\n            \"4145\",\n            \"1605\",\n            \"1785\",\n            \"1044\",\n            \"105\",\n            \"1813\",\n            \"1523\",\n            \"4178\",\n            \"3687\",\n            \"4657\",\n            \"2491\",\n            \"4257\",\n            \"2937\",\n            \"3036\",\n            \"320\",\n            \"3584\",\n            \"4468\",\n            \"848\",\n            \"2517\",\n            \"4144\",\n            \"4221\",\n            \"998\",\n            \"3136\",\n            \"4688\",\n            \"3203\",\n            \"2118\",\n            \"3417\",\n            \"2301\",\n            \"3993\",\n            \"967\",\n            \"3844\",\n            \"609\",\n            \"3678\",\n            \"1211\",\n            \"1307\",\n            \"3833\",\n            \"2330\",\n            \"790\",\n            \"4778\",\n            \"827\",\n            \"3398\",\n            \"3116\",\n            \"1227\",\n            \"4503\",\n            \"1329\",\n            \"2694\"\n          ],\n          [\n            \"1342\",\n            \"2202\",\n            \"599\",\n            \"2853\",\n            \"1183\",\n            \"3704\",\n            \"2784\",\n            \"2646\",\n            \"3550\",\n            \"4239\",\n            \"344\",\n            \"3110\",\n            \"1866\",\n            \"3680\",\n            \"1936\",\n            \"1868\",\n            \"3155\",\n            \"1449\",\n            \"3092\",\n            \"1643\",\n            \"4974\",\n            \"1048\",\n            \"241\",\n            \"1356\",\n            \"1609\",\n            \"4457\",\n            \"4130\",\n            \"2625\",\n            \"242\",\n            \"2050\",\n            \"4846\",\n            \"2684\",\n            \"2328\",\n            \"2250\",\n            \"4148\",\n            \"1989\",\n            \"4436\",\n            \"4145\",\n            \"2865\",\n            \"3152\",\n            \"4741\",\n            \"2704\",\n            \"3427\",\n            \"3586\",\n            \"3493\",\n            \"2111\",\n            \"3531\",\n            \"2180\",\n            \"1458\",\n            \"3320\",\n            \"2121\",\n            \"3340\",\n            \"197\",\n            \"967\",\n            \"1088\",\n            \"1497\",\n            \"2107\",\n            \"615\",\n            \"388\",\n            \"2019\",\n            \"2997\",\n            \"271\",\n            \"3597\",\n            \"19\",\n            \"782\",\n            \"1292\",\n            \"981\",\n            \"2729\",\n            \"1136\",\n            \"719\",\n            \"1229\",\n            \"860\",\n            \"699\",\n            \"3045\",\n            \"3203\",\n            \"3447\",\n            \"2094\",\n            \"1603\",\n            \"2422\",\n            \"2330\",\n            \"263\",\n            \"4617\",\n            \"1806\",\n            \"2696\",\n            \"3614\",\n            \"1464\",\n            \"1291\",\n            \"3827\",\n            \"879\",\n            \"4873\",\n            \"3213\",\n            \"4670\",\n            \"1909\",\n            \"3648\",\n            \"2536\",\n            \"456\",\n            \"891\",\n            \"4481\",\n            \"4128\",\n            \"3849\"\n          ]\n        ],\n        \"semantic_type\": \"\",\n        \"description\": \"\"\n      }\n    },\n    {\n      \"column\": \"rank\",\n      \"properties\": {\n        \"dtype\": \"category\",\n        \"num_unique_values\": 1,\n        \"samples\": [\n          [\n            1,\n            2,\n            3,\n            4,\n            5,\n            6,\n            7,\n            8,\n            9,\n            10,\n            11,\n            12,\n            13,\n            14,\n            15,\n            16,\n            17,\n            18,\n            19,\n            20,\n            21,\n            22,\n            23,\n            24,\n            25,\n            26,\n            27,\n            28,\n            29,\n            30,\n            31,\n            32,\n            33,\n            34,\n            35,\n            36,\n            37,\n            38,\n            39,\n            40,\n            41,\n            42,\n            43,\n            44,\n            45,\n            46,\n            47,\n            48,\n            49,\n            50,\n            51,\n            52,\n            53,\n            54,\n            55,\n            56,\n            57,\n            58,\n            59,\n            60,\n            61,\n            62,\n            63,\n            64,\n            65,\n            66,\n            67,\n            68,\n            69,\n            70,\n            71,\n            72,\n            73,\n            74,\n            75,\n            76,\n            77,\n            78,\n            79,\n            80,\n            81,\n            82,\n            83,\n            84,\n            85,\n            86,\n            87,\n            88,\n            89,\n            90,\n            91,\n            92,\n            93,\n            94,\n            95,\n            96,\n            97,\n            98,\n            99,\n            100\n          ]\n        ],\n        \"semantic_type\": \"\",\n        \"description\": \"\"\n      }\n    }\n  ]\n}"
            }
          },
          "metadata": {},
          "execution_count": 45
        }
      ],
      "source": [
        "dataset.head()"
      ]
    },
    {
      "cell_type": "code",
      "execution_count": null,
      "id": "e4258770",
      "metadata": {
        "execution": {
          "iopub.execute_input": "2022-06-12T16:59:29.959846Z",
          "iopub.status.busy": "2022-06-12T16:59:29.959193Z",
          "iopub.status.idle": "2022-06-12T16:59:31.262009Z",
          "shell.execute_reply": "2022-06-12T16:59:31.261435Z",
          "shell.execute_reply.started": "2022-06-12T16:45:45.143967Z"
        },
        "papermill": {
          "duration": 1.365591,
          "end_time": "2022-06-12T16:59:31.262162",
          "exception": false,
          "start_time": "2022-06-12T16:59:29.896571",
          "status": "completed"
        },
        "tags": [],
        "id": "e4258770"
      },
      "outputs": [],
      "source": [
        "submission_df = dataset.explode(['code', 'rank']).astype(int)"
      ]
    },
    {
      "cell_type": "code",
      "execution_count": null,
      "id": "f5243792",
      "metadata": {
        "execution": {
          "iopub.execute_input": "2022-06-12T16:59:31.384565Z",
          "iopub.status.busy": "2022-06-12T16:59:31.383947Z",
          "iopub.status.idle": "2022-06-12T16:59:32.135657Z",
          "shell.execute_reply": "2022-06-12T16:59:32.136208Z",
          "shell.execute_reply.started": "2022-06-12T16:45:45.145692Z"
        },
        "papermill": {
          "duration": 0.814342,
          "end_time": "2022-06-12T16:59:32.136382",
          "exception": false,
          "start_time": "2022-06-12T16:59:31.322040",
          "status": "completed"
        },
        "tags": [],
        "id": "f5243792"
      },
      "outputs": [],
      "source": [
        "mapping= pd.read_csv('./drive/MyDrive/Recommendation_system/dataset/processed_data/map.csv')\n",
        "submission_df=submission_df.merge(mapping,on=\"code\",how=\"left\")\n",
        "del submission_df[\"code\"]\n",
        "submission_df=submission_df[[\"session_id\",\"item_id\",\"rank\"]]"
      ]
    },
    {
      "cell_type": "code",
      "execution_count": null,
      "id": "3939ba35",
      "metadata": {
        "execution": {
          "iopub.execute_input": "2022-06-12T16:59:32.259233Z",
          "iopub.status.busy": "2022-06-12T16:59:32.258552Z",
          "iopub.status.idle": "2022-06-12T16:59:32.263516Z",
          "shell.execute_reply": "2022-06-12T16:59:32.264314Z",
          "shell.execute_reply.started": "2022-06-12T16:45:45.147116Z"
        },
        "papermill": {
          "duration": 0.067899,
          "end_time": "2022-06-12T16:59:32.264542",
          "exception": false,
          "start_time": "2022-06-12T16:59:32.196643",
          "status": "completed"
        },
        "tags": [],
        "colab": {
          "base_uri": "https://localhost:8080/"
        },
        "id": "3939ba35",
        "outputId": "e92d2836-0540-4224-c039-462c90f97016"
      },
      "outputs": [
        {
          "output_type": "stream",
          "name": "stdout",
          "text": [
            "5000000\n"
          ]
        }
      ],
      "source": [
        "print(len(submission_df))"
      ]
    },
    {
      "cell_type": "code",
      "execution_count": null,
      "id": "d9cf15d2",
      "metadata": {
        "execution": {
          "iopub.execute_input": "2022-06-12T16:59:32.403243Z",
          "iopub.status.busy": "2022-06-12T16:59:32.402496Z",
          "iopub.status.idle": "2022-06-12T16:59:32.406343Z",
          "shell.execute_reply": "2022-06-12T16:59:32.406969Z",
          "shell.execute_reply.started": "2022-06-12T16:45:45.149050Z"
        },
        "papermill": {
          "duration": 0.077344,
          "end_time": "2022-06-12T16:59:32.407149",
          "exception": false,
          "start_time": "2022-06-12T16:59:32.329805",
          "status": "completed"
        },
        "tags": [],
        "colab": {
          "base_uri": "https://localhost:8080/"
        },
        "id": "d9cf15d2",
        "outputId": "5d726821-44b6-4276-d7fc-8dc863a93a17"
      },
      "outputs": [
        {
          "output_type": "stream",
          "name": "stdout",
          "text": [
            "<class 'pandas.core.frame.DataFrame'>\n",
            "Int64Index: 5000000 entries, 0 to 4999999\n",
            "Data columns (total 3 columns):\n",
            " #   Column      Dtype\n",
            "---  ------      -----\n",
            " 0   session_id  int64\n",
            " 1   item_id     int64\n",
            " 2   rank        int64\n",
            "dtypes: int64(3)\n",
            "memory usage: 152.6 MB\n"
          ]
        }
      ],
      "source": [
        "submission_df.info()"
      ]
    },
    {
      "cell_type": "code",
      "execution_count": null,
      "id": "a4bd6fea",
      "metadata": {
        "execution": {
          "iopub.execute_input": "2022-06-12T16:59:32.536003Z",
          "iopub.status.busy": "2022-06-12T16:59:32.534855Z",
          "iopub.status.idle": "2022-06-12T16:59:32.559106Z",
          "shell.execute_reply": "2022-06-12T16:59:32.559544Z",
          "shell.execute_reply.started": "2022-06-12T16:45:45.150576Z"
        },
        "papermill": {
          "duration": 0.091514,
          "end_time": "2022-06-12T16:59:32.559757",
          "exception": false,
          "start_time": "2022-06-12T16:59:32.468243",
          "status": "completed"
        },
        "tags": [],
        "colab": {
          "base_uri": "https://localhost:8080/"
        },
        "id": "a4bd6fea",
        "outputId": "926549af-fd26-4d26-f198-956f39d71c69"
      },
      "outputs": [
        {
          "output_type": "execute_result",
          "data": {
            "text/plain": [
              "session_id    0\n",
              "item_id       0\n",
              "rank          0\n",
              "dtype: int64"
            ]
          },
          "metadata": {},
          "execution_count": 50
        }
      ],
      "source": [
        "submission_df.isna().sum()"
      ]
    },
    {
      "cell_type": "code",
      "execution_count": null,
      "id": "4381eeb6",
      "metadata": {
        "execution": {
          "iopub.execute_input": "2022-06-12T16:59:32.685486Z",
          "iopub.status.busy": "2022-06-12T16:59:32.683790Z",
          "iopub.status.idle": "2022-06-12T16:59:43.267171Z",
          "shell.execute_reply": "2022-06-12T16:59:43.266441Z",
          "shell.execute_reply.started": "2022-06-12T16:45:45.152156Z"
        },
        "papermill": {
          "duration": 10.646249,
          "end_time": "2022-06-12T16:59:43.267327",
          "exception": false,
          "start_time": "2022-06-12T16:59:32.621078",
          "status": "completed"
        },
        "tags": [],
        "id": "4381eeb6"
      },
      "outputs": [],
      "source": [
        "submission_df.to_csv(\n",
        "    f'./drive/MyDrive/Recommendation_system/rankers/xgboost/all_traditional_and_lstm/leaderboard/leaderboard_sub.csv',\n",
        "    index=False\n",
        "    )"
      ]
    }
  ],
  "metadata": {
    "kernelspec": {
      "display_name": "Python 3",
      "name": "python3"
    },
    "language_info": {
      "codemirror_mode": {
        "name": "ipython",
        "version": 3
      },
      "file_extension": ".py",
      "mimetype": "text/x-python",
      "name": "python",
      "nbconvert_exporter": "python",
      "pygments_lexer": "ipython3",
      "version": "3.7.13"
    },
    "papermill": {
      "default_parameters": {},
      "duration": 355.611026,
      "end_time": "2022-06-12T16:59:44.340713",
      "environment_variables": {},
      "exception": null,
      "input_path": "__notebook__.ipynb",
      "output_path": "__notebook__.ipynb",
      "parameters": {},
      "start_time": "2022-06-12T16:53:48.729687",
      "version": "2.3.3"
    },
    "vscode": {
      "interpreter": {
        "hash": "61f38fddaed46afda7c40a5798d4631266e18af1d335aa6f772dc3ed9b8ab549"
      }
    },
    "colab": {
      "provenance": [],
      "machine_shape": "hm"
    }
  },
  "nbformat": 4,
  "nbformat_minor": 5
}