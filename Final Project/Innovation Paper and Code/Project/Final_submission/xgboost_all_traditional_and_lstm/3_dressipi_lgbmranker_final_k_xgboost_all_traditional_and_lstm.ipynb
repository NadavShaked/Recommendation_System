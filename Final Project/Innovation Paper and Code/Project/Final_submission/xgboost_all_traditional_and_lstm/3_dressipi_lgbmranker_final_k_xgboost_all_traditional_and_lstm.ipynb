{
  "cells": [
    {
      "cell_type": "code",
      "execution_count": null,
      "id": "ac9a115d",
      "metadata": {
        "id": "ac9a115d"
      },
      "outputs": [],
      "source": [
        "just_checking_integrity=False"
      ]
    },
    {
      "cell_type": "code",
      "execution_count": null,
      "id": "0cd378b3",
      "metadata": {
        "execution": {
          "iopub.execute_input": "2022-06-12T16:53:58.434177Z",
          "iopub.status.busy": "2022-06-12T16:53:58.433031Z",
          "iopub.status.idle": "2022-06-12T16:53:58.520198Z",
          "shell.execute_reply": "2022-06-12T16:53:58.519411Z",
          "shell.execute_reply.started": "2022-06-12T16:44:12.113125Z"
        },
        "papermill": {
          "duration": 0.141538,
          "end_time": "2022-06-12T16:53:58.520370",
          "exception": false,
          "start_time": "2022-06-12T16:53:58.378832",
          "status": "completed"
        },
        "tags": [],
        "id": "0cd378b3"
      },
      "outputs": [],
      "source": [
        "import gc\n",
        "import pandas as pd\n",
        "import scipy.sparse as sps\n",
        "import numpy as np"
      ]
    },
    {
      "cell_type": "code",
      "source": [
        "from google.colab import drive\n",
        "drive.mount('/content/drive')"
      ],
      "metadata": {
        "colab": {
          "base_uri": "https://localhost:8080/"
        },
        "id": "bHu58p4aW63K",
        "outputId": "a7a9dea5-b474-4329-cedd-54a843af0c56"
      },
      "id": "bHu58p4aW63K",
      "execution_count": null,
      "outputs": [
        {
          "output_type": "stream",
          "name": "stdout",
          "text": [
            "Mounted at /content/drive\n"
          ]
        }
      ]
    },
    {
      "cell_type": "code",
      "execution_count": null,
      "id": "e4676f00",
      "metadata": {
        "execution": {
          "iopub.execute_input": "2022-06-12T16:53:58.624435Z",
          "iopub.status.busy": "2022-06-12T16:53:58.623807Z",
          "iopub.status.idle": "2022-06-12T16:53:58.715256Z",
          "shell.execute_reply": "2022-06-12T16:53:58.715776Z",
          "shell.execute_reply.started": "2022-06-12T16:44:12.151138Z"
        },
        "papermill": {
          "duration": 0.146009,
          "end_time": "2022-06-12T16:53:58.715990",
          "exception": false,
          "start_time": "2022-06-12T16:53:58.569981",
          "status": "completed"
        },
        "tags": [],
        "id": "e4676f00"
      },
      "outputs": [],
      "source": [
        "URM_test=sps.load_npz(\"./drive/MyDrive/Recommendation_system/dataset/processed_data/URM_test_final.npz\")"
      ]
    },
    {
      "cell_type": "code",
      "execution_count": null,
      "id": "7854974f",
      "metadata": {
        "execution": {
          "iopub.execute_input": "2022-06-12T16:53:58.818349Z",
          "iopub.status.busy": "2022-06-12T16:53:58.817358Z",
          "iopub.status.idle": "2022-06-12T16:53:58.824571Z",
          "shell.execute_reply": "2022-06-12T16:53:58.825099Z",
          "shell.execute_reply.started": "2022-06-12T16:44:12.212375Z"
        },
        "papermill": {
          "duration": 0.060116,
          "end_time": "2022-06-12T16:53:58.825275",
          "exception": false,
          "start_time": "2022-06-12T16:53:58.765159",
          "status": "completed"
        },
        "tags": [],
        "colab": {
          "base_uri": "https://localhost:8080/"
        },
        "id": "7854974f",
        "outputId": "8fec5b5c-63a9-4efc-c688-360d38033c3f"
      },
      "outputs": [
        {
          "output_type": "execute_result",
          "data": {
            "text/plain": [
              "(4439967, 23690)"
            ]
          },
          "metadata": {},
          "execution_count": 5
        }
      ],
      "source": [
        "URM_test.shape"
      ]
    },
    {
      "cell_type": "code",
      "execution_count": null,
      "id": "b2fc443c",
      "metadata": {
        "execution": {
          "iopub.execute_input": "2022-06-12T16:53:58.931182Z",
          "iopub.status.busy": "2022-06-12T16:53:58.930469Z",
          "iopub.status.idle": "2022-06-12T16:53:59.004536Z",
          "shell.execute_reply": "2022-06-12T16:53:59.005147Z",
          "shell.execute_reply.started": "2022-06-12T16:44:12.221723Z"
        },
        "papermill": {
          "duration": 0.129216,
          "end_time": "2022-06-12T16:53:59.005328",
          "exception": false,
          "start_time": "2022-06-12T16:53:58.876112",
          "status": "completed"
        },
        "tags": [],
        "colab": {
          "base_uri": "https://localhost:8080/"
        },
        "id": "b2fc443c",
        "outputId": "01eafd6c-cb8b-4954-cf09-452794f00b1f"
      },
      "outputs": [
        {
          "output_type": "execute_result",
          "data": {
            "text/plain": [
              "(4439967,)"
            ]
          },
          "metadata": {},
          "execution_count": 6
        }
      ],
      "source": [
        "np.ravel(URM_test.sum(axis=1)).shape"
      ]
    },
    {
      "cell_type": "code",
      "execution_count": null,
      "id": "f4e1acd0",
      "metadata": {
        "execution": {
          "iopub.execute_input": "2022-06-12T16:53:59.111151Z",
          "iopub.status.busy": "2022-06-12T16:53:59.110421Z",
          "iopub.status.idle": "2022-06-12T16:53:59.199591Z",
          "shell.execute_reply": "2022-06-12T16:53:59.198926Z",
          "shell.execute_reply.started": "2022-06-12T16:44:12.300508Z"
        },
        "papermill": {
          "duration": 0.144207,
          "end_time": "2022-06-12T16:53:59.199763",
          "exception": false,
          "start_time": "2022-06-12T16:53:59.055556",
          "status": "completed"
        },
        "tags": [],
        "id": "f4e1acd0"
      },
      "outputs": [],
      "source": [
        "Session_ids=np.argwhere(np.ravel(URM_test.sum(axis=1)))"
      ]
    },
    {
      "cell_type": "code",
      "execution_count": null,
      "id": "23c21590",
      "metadata": {
        "execution": {
          "iopub.execute_input": "2022-06-12T16:53:59.304726Z",
          "iopub.status.busy": "2022-06-12T16:53:59.304053Z",
          "iopub.status.idle": "2022-06-12T16:53:59.306743Z",
          "shell.execute_reply": "2022-06-12T16:53:59.306254Z",
          "shell.execute_reply.started": "2022-06-12T16:44:12.391063Z"
        },
        "papermill": {
          "duration": 0.056971,
          "end_time": "2022-06-12T16:53:59.306883",
          "exception": false,
          "start_time": "2022-06-12T16:53:59.249912",
          "status": "completed"
        },
        "tags": [],
        "id": "23c21590"
      },
      "outputs": [],
      "source": [
        "is_sorted = lambda a: np.all(a[:-1] <= a[1:])"
      ]
    },
    {
      "cell_type": "code",
      "execution_count": null,
      "id": "5adf257f",
      "metadata": {
        "execution": {
          "iopub.execute_input": "2022-06-12T16:53:59.410367Z",
          "iopub.status.busy": "2022-06-12T16:53:59.409701Z",
          "iopub.status.idle": "2022-06-12T16:53:59.414286Z",
          "shell.execute_reply": "2022-06-12T16:53:59.414842Z",
          "shell.execute_reply.started": "2022-06-12T16:44:12.397660Z"
        },
        "papermill": {
          "duration": 0.057925,
          "end_time": "2022-06-12T16:53:59.415013",
          "exception": false,
          "start_time": "2022-06-12T16:53:59.357088",
          "status": "completed"
        },
        "tags": [],
        "colab": {
          "base_uri": "https://localhost:8080/"
        },
        "id": "5adf257f",
        "outputId": "b2007519-759c-4066-9282-c2dde70e3152"
      },
      "outputs": [
        {
          "output_type": "execute_result",
          "data": {
            "text/plain": [
              "True"
            ]
          },
          "metadata": {},
          "execution_count": 9
        }
      ],
      "source": [
        "is_sorted(Session_ids)"
      ]
    },
    {
      "cell_type": "code",
      "execution_count": null,
      "id": "ae942e02",
      "metadata": {
        "execution": {
          "iopub.execute_input": "2022-06-12T16:53:59.518422Z",
          "iopub.status.busy": "2022-06-12T16:53:59.517782Z",
          "iopub.status.idle": "2022-06-12T16:55:24.580943Z",
          "shell.execute_reply": "2022-06-12T16:55:24.580279Z",
          "shell.execute_reply.started": "2022-06-12T16:44:12.411287Z"
        },
        "papermill": {
          "duration": 85.115587,
          "end_time": "2022-06-12T16:55:24.581119",
          "exception": false,
          "start_time": "2022-06-12T16:53:59.465532",
          "status": "completed"
        },
        "tags": [],
        "colab": {
          "base_uri": "https://localhost:8080/"
        },
        "id": "ae942e02",
        "outputId": "42ae0033-7dc2-4862-c581-401a03b23b75"
      },
      "outputs": [
        {
          "output_type": "stream",
          "name": "stdout",
          "text": [
            "0\n",
            "loading UCF\n",
            "15960976\n",
            "loaded UCF\n",
            "0\n",
            "loading ICBF\n",
            "14855475\n",
            "loaded ICBF\n",
            "0\n",
            "loading Graph\n",
            "8321415\n",
            "loaded Graph\n",
            "0\n",
            "loading ICF\n",
            "17771428\n",
            "loaded ICF\n"
          ]
        }
      ],
      "source": [
        "dataset=None\n",
        "dataset_max=None\n",
        "#[\"UCF\",\"ICBF\",\"ICF\",\"Graph\",\"TopPop100\",\"TopPop50\",\"TopPop15\"] # \"UCF_W\",\"Graph_W\",\"ICF_W\",\"UCF_WW\",\"ICBF_WW\",\"Graph_WW\",\"ICF_WW\", \"ICBF_W\"\n",
        "for file in [\"UCF\",\"ICBF\",\"Graph\",\"ICF\"]:\n",
        "    print(gc.collect())\n",
        "    print(f\"loading {file}\")\n",
        "    df=pd.read_csv(f\"./drive/MyDrive/Recommendation_system/dataset/candidates/traditional_recs/final/{file}.csv\")\n",
        "    print(len(df))\n",
        "    print(f\"loaded {file}\")\n",
        "    for col in df:\n",
        "        if \"Max\" in col:\n",
        "            df_max=df[[\"Session_Id\",col]].drop_duplicates()\n",
        "        elif \"Score\" in col:\n",
        "            df_feats=df[[\"Session_Id\",\"Item_ID\",col]]\n",
        "    if dataset is None:\n",
        "        dataset=df_feats\n",
        "        dataset_max=df_max\n",
        "    else:\n",
        "        dataset=dataset.merge(df_feats,on=[\"Session_Id\",\"Item_ID\"],how=\"outer\")\n",
        "        dataset_max=dataset_max.merge(df_max,on=[\"Session_Id\"],how=\"outer\")\n",
        "    del df\n",
        "\n",
        "\n",
        "del df_feats\n",
        "del df_max"
      ]
    },
    {
      "cell_type": "code",
      "execution_count": null,
      "id": "de5d999f",
      "metadata": {
        "execution": {
          "iopub.execute_input": "2022-06-12T16:55:24.690427Z",
          "iopub.status.busy": "2022-06-12T16:55:24.689463Z",
          "iopub.status.idle": "2022-06-12T16:55:24.872901Z",
          "shell.execute_reply": "2022-06-12T16:55:24.872108Z",
          "shell.execute_reply.started": "2022-06-12T16:45:38.200141Z"
        },
        "papermill": {
          "duration": 0.238542,
          "end_time": "2022-06-12T16:55:24.873056",
          "exception": false,
          "start_time": "2022-06-12T16:55:24.634514",
          "status": "completed"
        },
        "tags": [],
        "id": "de5d999f"
      },
      "outputs": [],
      "source": [
        "ids=np.sort(dataset[\"Session_Id\"].unique())\n",
        "map_ids=pd.DataFrame()\n",
        "map_ids[\"Session_Id\"]=ids\n",
        "if just_checking_integrity:\n",
        "    map_ids[\"Real_Id\"]=Session_ids[:len(ids)]\n",
        "else:\n",
        "    map_ids[\"Real_Id\"]=Session_ids\n"
      ]
    },
    {
      "cell_type": "code",
      "execution_count": null,
      "id": "7bea3fde",
      "metadata": {
        "execution": {
          "iopub.execute_input": "2022-06-12T16:55:24.984509Z",
          "iopub.status.busy": "2022-06-12T16:55:24.983869Z",
          "iopub.status.idle": "2022-06-12T16:55:25.002790Z",
          "shell.execute_reply": "2022-06-12T16:55:25.002224Z"
        },
        "papermill": {
          "duration": 0.077023,
          "end_time": "2022-06-12T16:55:25.002952",
          "exception": false,
          "start_time": "2022-06-12T16:55:24.925929",
          "status": "completed"
        },
        "tags": [],
        "id": "7bea3fde"
      },
      "outputs": [],
      "source": [
        "dataset_max=dataset_max.merge(map_ids,on=\"Session_Id\",how=\"left\")\n",
        "del dataset_max[\"Session_Id\"]\n",
        "dataset_max.rename(columns={\"Real_Id\":\"Session_Id\"},inplace=True)"
      ]
    },
    {
      "cell_type": "code",
      "execution_count": null,
      "id": "06602988",
      "metadata": {
        "execution": {
          "iopub.execute_input": "2022-06-12T16:55:25.114745Z",
          "iopub.status.busy": "2022-06-12T16:55:25.114028Z",
          "iopub.status.idle": "2022-06-12T16:55:29.314122Z",
          "shell.execute_reply": "2022-06-12T16:55:29.313517Z",
          "shell.execute_reply.started": "2022-06-12T16:45:38.385624Z"
        },
        "papermill": {
          "duration": 4.258115,
          "end_time": "2022-06-12T16:55:29.314291",
          "exception": false,
          "start_time": "2022-06-12T16:55:25.056176",
          "status": "completed"
        },
        "tags": [],
        "id": "06602988"
      },
      "outputs": [],
      "source": [
        "dataset=dataset.merge(map_ids,on=\"Session_Id\",how=\"left\")\n",
        "del dataset[\"Session_Id\"]\n",
        "dataset.rename(columns={\"Real_Id\":\"Session_Id\"},inplace=True)"
      ]
    },
    {
      "cell_type": "code",
      "execution_count": null,
      "id": "1ba29cb4",
      "metadata": {
        "execution": {
          "iopub.execute_input": "2022-06-12T16:55:29.426267Z",
          "iopub.status.busy": "2022-06-12T16:55:29.425561Z",
          "iopub.status.idle": "2022-06-12T16:55:31.342153Z",
          "shell.execute_reply": "2022-06-12T16:55:31.342718Z",
          "shell.execute_reply.started": "2022-06-12T16:45:56.908821Z"
        },
        "papermill": {
          "duration": 1.975633,
          "end_time": "2022-06-12T16:55:31.342906",
          "exception": false,
          "start_time": "2022-06-12T16:55:29.367273",
          "status": "completed"
        },
        "tags": [],
        "id": "1ba29cb4"
      },
      "outputs": [],
      "source": [
        "# import ast\n",
        "# submission_df=pd.read_csv(\"./drive/MyDrive/Recommendation_system/dataset/candidates/NN/GRU/final/candidates.csv\")\n",
        "# submission_df[\"score\"]=submission_df[\"score\"].map(ast.literal_eval)\n",
        "# submission_df[\"code\"]=submission_df[\"code\"].map(ast.literal_eval)\n",
        "# submission_df[\"rank\"]=submission_df[\"rank\"].map(ast.literal_eval)\n",
        "# submission_df = submission_df.explode(['code','score', 'rank'])\n",
        "# submission_df[[\"session_id\",\"code\",\"rank\"]]=submission_df[[\"session_id\",\"code\",\"rank\"]].astype(int)\n",
        "# submission_df.rename(columns={\"code\":\"Item_ID\",\"session_id\":\"Session_Id\",\"rank\":\"rank_gru\",\"score\":\"score_gru\"},inplace=True)"
      ]
    },
    {
      "cell_type": "code",
      "execution_count": null,
      "id": "fef897e1",
      "metadata": {
        "execution": {
          "iopub.execute_input": "2022-06-12T16:55:31.454420Z",
          "iopub.status.busy": "2022-06-12T16:55:31.453371Z",
          "iopub.status.idle": "2022-06-12T16:55:57.911477Z",
          "shell.execute_reply": "2022-06-12T16:55:57.911973Z",
          "shell.execute_reply.started": "2022-06-12T16:45:59.327200Z"
        },
        "papermill": {
          "duration": 26.516025,
          "end_time": "2022-06-12T16:55:57.912172",
          "exception": false,
          "start_time": "2022-06-12T16:55:31.396147",
          "status": "completed"
        },
        "tags": [],
        "id": "fef897e1"
      },
      "outputs": [],
      "source": [
        "# import ast\n",
        "# submission_df_tr=pd.read_csv(\"./drive/MyDrive/Recommendation_system/dataset/candidates/NN/Transformer/final/candidates.csv\")\n",
        "# submission_df_tr[\"score\"]=submission_df_tr[\"score\"].map(ast.literal_eval)\n",
        "# submission_df_tr[\"code\"]=submission_df_tr[\"code\"].map(ast.literal_eval)\n",
        "# submission_df_tr[\"rank\"]=submission_df_tr[\"rank\"].map(ast.literal_eval)\n",
        "# submission_df_tr = submission_df_tr.explode(['code','score', 'rank'])\n",
        "# submission_df_tr[[\"session_id\",\"code\",\"rank\"]]=submission_df_tr[[\"session_id\",\"code\",\"rank\"]].astype(int)\n",
        "# submission_df_tr.rename(columns={\"code\":\"Item_ID\",\"session_id\":\"Session_Id\",\"rank\":\"rank_transformer\",\"score\":\"score_transformer\"},inplace=True)"
      ]
    },
    {
      "cell_type": "code",
      "execution_count": null,
      "metadata": {
        "pycharm": {
          "name": "#%%\n"
        },
        "id": "-XtMIjTd6EEE"
      },
      "outputs": [],
      "source": [
        "import ast\n",
        "submission_df_LSTM=pd.read_csv(\"./drive/MyDrive/Recommendation_system/dataset/candidates/NN/LSTM/final/candidates.csv\")\n",
        "submission_df_LSTM[\"score\"]=submission_df_LSTM[\"score\"].map(ast.literal_eval)\n",
        "submission_df_LSTM[\"code\"]=submission_df_LSTM[\"code\"].map(ast.literal_eval)\n",
        "submission_df_LSTM[\"rank\"]=submission_df_LSTM[\"rank\"].map(ast.literal_eval)\n",
        "submission_df_LSTM = submission_df_LSTM.explode(['code','score', 'rank'])\n",
        "submission_df_LSTM[[\"session_id\",\"code\",\"rank\"]]=submission_df_LSTM[[\"session_id\",\"code\",\"rank\"]].astype(int)\n",
        "submission_df_LSTM.rename(columns={\"code\":\"Item_ID\",\"session_id\":\"Session_Id\",\"rank\":\"rank_LSTM\",\"score\":\"score_LSTM\"},inplace=True)"
      ],
      "id": "-XtMIjTd6EEE"
    },
    {
      "cell_type": "code",
      "execution_count": null,
      "id": "b3503d4d",
      "metadata": {
        "execution": {
          "iopub.execute_input": "2022-06-12T16:56:01.086319Z",
          "iopub.status.busy": "2022-06-12T16:56:01.085614Z",
          "iopub.status.idle": "2022-06-12T16:56:17.441787Z",
          "shell.execute_reply": "2022-06-12T16:56:17.441245Z",
          "shell.execute_reply.started": "2022-06-12T16:48:33.770521Z"
        },
        "papermill": {
          "duration": 16.489758,
          "end_time": "2022-06-12T16:56:17.441937",
          "exception": false,
          "start_time": "2022-06-12T16:56:00.952179",
          "status": "completed"
        },
        "tags": [],
        "id": "b3503d4d"
      },
      "outputs": [],
      "source": [
        "# dataset=dataset.merge(submission_df,on=[\"Session_Id\",\"Item_ID\"],how=\"outer\")\n",
        "# del submission_df\n",
        "# dataset=dataset.merge(submission_df_tr,on=[\"Session_Id\",\"Item_ID\"],how=\"outer\")\n",
        "# del submission_df_tr\n",
        "dataset=dataset.merge(submission_df_LSTM,on=[\"Session_Id\",\"Item_ID\"],how=\"outer\")\n"
      ]
    },
    {
      "cell_type": "code",
      "execution_count": null,
      "id": "79dc226e",
      "metadata": {
        "execution": {
          "iopub.execute_input": "2022-06-12T16:56:17.555767Z",
          "iopub.status.busy": "2022-06-12T16:56:17.554723Z",
          "iopub.status.idle": "2022-06-12T16:56:23.474091Z",
          "shell.execute_reply": "2022-06-12T16:56:23.474928Z",
          "shell.execute_reply.started": "2022-06-12T16:48:53.529749Z"
        },
        "papermill": {
          "duration": 5.978353,
          "end_time": "2022-06-12T16:56:23.475109",
          "exception": false,
          "start_time": "2022-06-12T16:56:17.496756",
          "status": "completed"
        },
        "tags": [],
        "id": "79dc226e"
      },
      "outputs": [],
      "source": [
        "dataset=dataset.merge(dataset_max,on=[\"Session_Id\"],how=\"left\")\n",
        "del dataset_max"
      ]
    },
    {
      "cell_type": "code",
      "execution_count": null,
      "id": "4afa4119",
      "metadata": {
        "execution": {
          "iopub.execute_input": "2022-06-12T16:56:23.589768Z",
          "iopub.status.busy": "2022-06-12T16:56:23.588981Z",
          "iopub.status.idle": "2022-06-12T16:56:37.722764Z",
          "shell.execute_reply": "2022-06-12T16:56:37.723409Z",
          "shell.execute_reply.started": "2022-06-12T16:49:21.356967Z"
        },
        "papermill": {
          "duration": 14.194397,
          "end_time": "2022-06-12T16:56:37.723580",
          "exception": false,
          "start_time": "2022-06-12T16:56:23.529183",
          "status": "completed"
        },
        "tags": [],
        "id": "4afa4119"
      },
      "outputs": [],
      "source": [
        "dataset.fillna(0,inplace=True)"
      ]
    },
    {
      "cell_type": "code",
      "execution_count": null,
      "id": "22527153",
      "metadata": {
        "execution": {
          "iopub.execute_input": "2022-06-12T16:56:37.833540Z",
          "iopub.status.busy": "2022-06-12T16:56:37.832863Z",
          "iopub.status.idle": "2022-06-12T16:56:39.377664Z",
          "shell.execute_reply": "2022-06-12T16:56:39.377008Z",
          "shell.execute_reply.started": "2022-06-12T16:49:51.935529Z"
        },
        "papermill": {
          "duration": 1.601248,
          "end_time": "2022-06-12T16:56:39.377803",
          "exception": false,
          "start_time": "2022-06-12T16:56:37.776555",
          "status": "completed"
        },
        "tags": [],
        "colab": {
          "base_uri": "https://localhost:8080/"
        },
        "id": "22527153",
        "outputId": "0934f684-e8b3-44bf-ca62-488fed834e46"
      },
      "outputs": [
        {
          "output_type": "execute_result",
          "data": {
            "text/plain": [
              "2431"
            ]
          },
          "metadata": {},
          "execution_count": 20
        }
      ],
      "source": [
        "gc.collect()"
      ]
    },
    {
      "cell_type": "code",
      "execution_count": null,
      "id": "3def4b97",
      "metadata": {
        "execution": {
          "iopub.status.busy": "2022-06-12T16:45:45.107247Z",
          "iopub.status.idle": "2022-06-12T16:45:45.107540Z",
          "shell.execute_reply": "2022-06-12T16:45:45.107406Z",
          "shell.execute_reply.started": "2022-06-12T16:45:45.107387Z"
        },
        "papermill": {
          "duration": 0.053703,
          "end_time": "2022-06-12T16:56:39.486170",
          "exception": false,
          "start_time": "2022-06-12T16:56:39.432467",
          "status": "completed"
        },
        "tags": [],
        "id": "3def4b97"
      },
      "outputs": [],
      "source": [
        "dataset_macro_features = pd.read_csv('./drive/MyDrive/Recommendation_system/dataset/processed_data/macro_feats_NN_final.csv',\n",
        "                                     usecols=['session_id',\n",
        "                                                'session_similarity',\n",
        "                                                'session_similarity_uniques', 'session_similarity_feats', 'session_similarity_feats_uniques',\n",
        "                                              'length_of_session_seconds',\n",
        "                   'avg_time_spent_per_item_seconds',\n",
        "                   'variance_time_spent_per_item_seconds',\n",
        "                   'n_seen_items',\n",
        "                   'n_unique_items',])\n",
        "\n",
        "dataset_macro_features.rename(columns={'session_id':'Session_Id'}, inplace=True)\n",
        "dataset = dataset.merge(dataset_macro_features, on='Session_Id', how='left')"
      ]
    },
    {
      "cell_type": "code",
      "execution_count": null,
      "metadata": {
        "pycharm": {
          "name": "#%%\n"
        },
        "id": "nqVWKJ5A6EEG"
      },
      "outputs": [],
      "source": [
        "# dataset.drop('Max_Score_TopPop15', axis=1, inplace=True)"
      ],
      "id": "nqVWKJ5A6EEG"
    },
    {
      "cell_type": "code",
      "execution_count": null,
      "id": "ec1dd779",
      "metadata": {
        "execution": {
          "iopub.execute_input": "2022-06-12T16:56:39.599154Z",
          "iopub.status.busy": "2022-06-12T16:56:39.598474Z",
          "iopub.status.idle": "2022-06-12T16:56:39.615720Z",
          "shell.execute_reply": "2022-06-12T16:56:39.616252Z",
          "shell.execute_reply.started": "2022-06-12T16:49:55.659744Z"
        },
        "papermill": {
          "duration": 0.076322,
          "end_time": "2022-06-12T16:56:39.616418",
          "exception": false,
          "start_time": "2022-06-12T16:56:39.540096",
          "status": "completed"
        },
        "tags": [],
        "colab": {
          "base_uri": "https://localhost:8080/",
          "height": 256
        },
        "id": "ec1dd779",
        "outputId": "6e0f7f97-d344-4173-f51f-be720ecd4bbd"
      },
      "outputs": [
        {
          "output_type": "execute_result",
          "data": {
            "text/plain": [
              "   Item_ID  Score_UCF  Score_ICBF  Score_Graph  Score_ICF  Session_Id  \\\n",
              "0       11   0.035145    0.115033     0.006554   0.311263          61   \n",
              "1       19   0.018681    0.000000     0.000000   0.000000          61   \n",
              "2       23   0.039035    0.072503     0.007389   0.325638          61   \n",
              "3       25   0.025481    0.081094     0.004554   0.006163          61   \n",
              "4       69   0.056301    0.085104     0.011284   0.338065          61   \n",
              "\n",
              "   score_LSTM  rank_LSTM  Max_Score_UCF  Max_Score_ICBF  ...  Max_Score_ICF  \\\n",
              "0    0.001511       45.0      239.07347        3.357151  ...       0.563566   \n",
              "1    0.000000        0.0      239.07347        3.357151  ...       0.563566   \n",
              "2    0.000000        0.0      239.07347        3.357151  ...       0.563566   \n",
              "3    0.000000        0.0      239.07347        3.357151  ...       0.563566   \n",
              "4    0.002591       25.0      239.07347        3.357151  ...       0.563566   \n",
              "\n",
              "   length_of_session_seconds  avg_time_spent_per_item_seconds  \\\n",
              "0                        0.0                              0.0   \n",
              "1                        0.0                              0.0   \n",
              "2                        0.0                              0.0   \n",
              "3                        0.0                              0.0   \n",
              "4                        0.0                              0.0   \n",
              "\n",
              "   variance_time_spent_per_item_seconds  n_seen_items  n_unique_items  \\\n",
              "0                                   0.0           1.0             1.0   \n",
              "1                                   0.0           1.0             1.0   \n",
              "2                                   0.0           1.0             1.0   \n",
              "3                                   0.0           1.0             1.0   \n",
              "4                                   0.0           1.0             1.0   \n",
              "\n",
              "   session_similarity  session_similarity_uniques  session_similarity_feats  \\\n",
              "0                 1.0                         1.0                       1.0   \n",
              "1                 1.0                         1.0                       1.0   \n",
              "2                 1.0                         1.0                       1.0   \n",
              "3                 1.0                         1.0                       1.0   \n",
              "4                 1.0                         1.0                       1.0   \n",
              "\n",
              "   session_similarity_feats_uniques  \n",
              "0                               1.0  \n",
              "1                               1.0  \n",
              "2                               1.0  \n",
              "3                               1.0  \n",
              "4                               1.0  \n",
              "\n",
              "[5 rows x 21 columns]"
            ],
            "text/html": [
              "\n",
              "  <div id=\"df-df8a4f64-a6bd-423c-87d2-ee5303f3d419\" class=\"colab-df-container\">\n",
              "    <div>\n",
              "<style scoped>\n",
              "    .dataframe tbody tr th:only-of-type {\n",
              "        vertical-align: middle;\n",
              "    }\n",
              "\n",
              "    .dataframe tbody tr th {\n",
              "        vertical-align: top;\n",
              "    }\n",
              "\n",
              "    .dataframe thead th {\n",
              "        text-align: right;\n",
              "    }\n",
              "</style>\n",
              "<table border=\"1\" class=\"dataframe\">\n",
              "  <thead>\n",
              "    <tr style=\"text-align: right;\">\n",
              "      <th></th>\n",
              "      <th>Item_ID</th>\n",
              "      <th>Score_UCF</th>\n",
              "      <th>Score_ICBF</th>\n",
              "      <th>Score_Graph</th>\n",
              "      <th>Score_ICF</th>\n",
              "      <th>Session_Id</th>\n",
              "      <th>score_LSTM</th>\n",
              "      <th>rank_LSTM</th>\n",
              "      <th>Max_Score_UCF</th>\n",
              "      <th>Max_Score_ICBF</th>\n",
              "      <th>...</th>\n",
              "      <th>Max_Score_ICF</th>\n",
              "      <th>length_of_session_seconds</th>\n",
              "      <th>avg_time_spent_per_item_seconds</th>\n",
              "      <th>variance_time_spent_per_item_seconds</th>\n",
              "      <th>n_seen_items</th>\n",
              "      <th>n_unique_items</th>\n",
              "      <th>session_similarity</th>\n",
              "      <th>session_similarity_uniques</th>\n",
              "      <th>session_similarity_feats</th>\n",
              "      <th>session_similarity_feats_uniques</th>\n",
              "    </tr>\n",
              "  </thead>\n",
              "  <tbody>\n",
              "    <tr>\n",
              "      <th>0</th>\n",
              "      <td>11</td>\n",
              "      <td>0.035145</td>\n",
              "      <td>0.115033</td>\n",
              "      <td>0.006554</td>\n",
              "      <td>0.311263</td>\n",
              "      <td>61</td>\n",
              "      <td>0.001511</td>\n",
              "      <td>45.0</td>\n",
              "      <td>239.07347</td>\n",
              "      <td>3.357151</td>\n",
              "      <td>...</td>\n",
              "      <td>0.563566</td>\n",
              "      <td>0.0</td>\n",
              "      <td>0.0</td>\n",
              "      <td>0.0</td>\n",
              "      <td>1.0</td>\n",
              "      <td>1.0</td>\n",
              "      <td>1.0</td>\n",
              "      <td>1.0</td>\n",
              "      <td>1.0</td>\n",
              "      <td>1.0</td>\n",
              "    </tr>\n",
              "    <tr>\n",
              "      <th>1</th>\n",
              "      <td>19</td>\n",
              "      <td>0.018681</td>\n",
              "      <td>0.000000</td>\n",
              "      <td>0.000000</td>\n",
              "      <td>0.000000</td>\n",
              "      <td>61</td>\n",
              "      <td>0.000000</td>\n",
              "      <td>0.0</td>\n",
              "      <td>239.07347</td>\n",
              "      <td>3.357151</td>\n",
              "      <td>...</td>\n",
              "      <td>0.563566</td>\n",
              "      <td>0.0</td>\n",
              "      <td>0.0</td>\n",
              "      <td>0.0</td>\n",
              "      <td>1.0</td>\n",
              "      <td>1.0</td>\n",
              "      <td>1.0</td>\n",
              "      <td>1.0</td>\n",
              "      <td>1.0</td>\n",
              "      <td>1.0</td>\n",
              "    </tr>\n",
              "    <tr>\n",
              "      <th>2</th>\n",
              "      <td>23</td>\n",
              "      <td>0.039035</td>\n",
              "      <td>0.072503</td>\n",
              "      <td>0.007389</td>\n",
              "      <td>0.325638</td>\n",
              "      <td>61</td>\n",
              "      <td>0.000000</td>\n",
              "      <td>0.0</td>\n",
              "      <td>239.07347</td>\n",
              "      <td>3.357151</td>\n",
              "      <td>...</td>\n",
              "      <td>0.563566</td>\n",
              "      <td>0.0</td>\n",
              "      <td>0.0</td>\n",
              "      <td>0.0</td>\n",
              "      <td>1.0</td>\n",
              "      <td>1.0</td>\n",
              "      <td>1.0</td>\n",
              "      <td>1.0</td>\n",
              "      <td>1.0</td>\n",
              "      <td>1.0</td>\n",
              "    </tr>\n",
              "    <tr>\n",
              "      <th>3</th>\n",
              "      <td>25</td>\n",
              "      <td>0.025481</td>\n",
              "      <td>0.081094</td>\n",
              "      <td>0.004554</td>\n",
              "      <td>0.006163</td>\n",
              "      <td>61</td>\n",
              "      <td>0.000000</td>\n",
              "      <td>0.0</td>\n",
              "      <td>239.07347</td>\n",
              "      <td>3.357151</td>\n",
              "      <td>...</td>\n",
              "      <td>0.563566</td>\n",
              "      <td>0.0</td>\n",
              "      <td>0.0</td>\n",
              "      <td>0.0</td>\n",
              "      <td>1.0</td>\n",
              "      <td>1.0</td>\n",
              "      <td>1.0</td>\n",
              "      <td>1.0</td>\n",
              "      <td>1.0</td>\n",
              "      <td>1.0</td>\n",
              "    </tr>\n",
              "    <tr>\n",
              "      <th>4</th>\n",
              "      <td>69</td>\n",
              "      <td>0.056301</td>\n",
              "      <td>0.085104</td>\n",
              "      <td>0.011284</td>\n",
              "      <td>0.338065</td>\n",
              "      <td>61</td>\n",
              "      <td>0.002591</td>\n",
              "      <td>25.0</td>\n",
              "      <td>239.07347</td>\n",
              "      <td>3.357151</td>\n",
              "      <td>...</td>\n",
              "      <td>0.563566</td>\n",
              "      <td>0.0</td>\n",
              "      <td>0.0</td>\n",
              "      <td>0.0</td>\n",
              "      <td>1.0</td>\n",
              "      <td>1.0</td>\n",
              "      <td>1.0</td>\n",
              "      <td>1.0</td>\n",
              "      <td>1.0</td>\n",
              "      <td>1.0</td>\n",
              "    </tr>\n",
              "  </tbody>\n",
              "</table>\n",
              "<p>5 rows × 21 columns</p>\n",
              "</div>\n",
              "    <div class=\"colab-df-buttons\">\n",
              "\n",
              "  <div class=\"colab-df-container\">\n",
              "    <button class=\"colab-df-convert\" onclick=\"convertToInteractive('df-df8a4f64-a6bd-423c-87d2-ee5303f3d419')\"\n",
              "            title=\"Convert this dataframe to an interactive table.\"\n",
              "            style=\"display:none;\">\n",
              "\n",
              "  <svg xmlns=\"http://www.w3.org/2000/svg\" height=\"24px\" viewBox=\"0 -960 960 960\">\n",
              "    <path d=\"M120-120v-720h720v720H120Zm60-500h600v-160H180v160Zm220 220h160v-160H400v160Zm0 220h160v-160H400v160ZM180-400h160v-160H180v160Zm440 0h160v-160H620v160ZM180-180h160v-160H180v160Zm440 0h160v-160H620v160Z\"/>\n",
              "  </svg>\n",
              "    </button>\n",
              "\n",
              "  <style>\n",
              "    .colab-df-container {\n",
              "      display:flex;\n",
              "      gap: 12px;\n",
              "    }\n",
              "\n",
              "    .colab-df-convert {\n",
              "      background-color: #E8F0FE;\n",
              "      border: none;\n",
              "      border-radius: 50%;\n",
              "      cursor: pointer;\n",
              "      display: none;\n",
              "      fill: #1967D2;\n",
              "      height: 32px;\n",
              "      padding: 0 0 0 0;\n",
              "      width: 32px;\n",
              "    }\n",
              "\n",
              "    .colab-df-convert:hover {\n",
              "      background-color: #E2EBFA;\n",
              "      box-shadow: 0px 1px 2px rgba(60, 64, 67, 0.3), 0px 1px 3px 1px rgba(60, 64, 67, 0.15);\n",
              "      fill: #174EA6;\n",
              "    }\n",
              "\n",
              "    .colab-df-buttons div {\n",
              "      margin-bottom: 4px;\n",
              "    }\n",
              "\n",
              "    [theme=dark] .colab-df-convert {\n",
              "      background-color: #3B4455;\n",
              "      fill: #D2E3FC;\n",
              "    }\n",
              "\n",
              "    [theme=dark] .colab-df-convert:hover {\n",
              "      background-color: #434B5C;\n",
              "      box-shadow: 0px 1px 3px 1px rgba(0, 0, 0, 0.15);\n",
              "      filter: drop-shadow(0px 1px 2px rgba(0, 0, 0, 0.3));\n",
              "      fill: #FFFFFF;\n",
              "    }\n",
              "  </style>\n",
              "\n",
              "    <script>\n",
              "      const buttonEl =\n",
              "        document.querySelector('#df-df8a4f64-a6bd-423c-87d2-ee5303f3d419 button.colab-df-convert');\n",
              "      buttonEl.style.display =\n",
              "        google.colab.kernel.accessAllowed ? 'block' : 'none';\n",
              "\n",
              "      async function convertToInteractive(key) {\n",
              "        const element = document.querySelector('#df-df8a4f64-a6bd-423c-87d2-ee5303f3d419');\n",
              "        const dataTable =\n",
              "          await google.colab.kernel.invokeFunction('convertToInteractive',\n",
              "                                                    [key], {});\n",
              "        if (!dataTable) return;\n",
              "\n",
              "        const docLinkHtml = 'Like what you see? Visit the ' +\n",
              "          '<a target=\"_blank\" href=https://colab.research.google.com/notebooks/data_table.ipynb>data table notebook</a>'\n",
              "          + ' to learn more about interactive tables.';\n",
              "        element.innerHTML = '';\n",
              "        dataTable['output_type'] = 'display_data';\n",
              "        await google.colab.output.renderOutput(dataTable, element);\n",
              "        const docLink = document.createElement('div');\n",
              "        docLink.innerHTML = docLinkHtml;\n",
              "        element.appendChild(docLink);\n",
              "      }\n",
              "    </script>\n",
              "  </div>\n",
              "\n",
              "\n",
              "<div id=\"df-0f24cfe7-cd8f-445a-88a8-29b13c73394c\">\n",
              "  <button class=\"colab-df-quickchart\" onclick=\"quickchart('df-0f24cfe7-cd8f-445a-88a8-29b13c73394c')\"\n",
              "            title=\"Suggest charts\"\n",
              "            style=\"display:none;\">\n",
              "\n",
              "<svg xmlns=\"http://www.w3.org/2000/svg\" height=\"24px\"viewBox=\"0 0 24 24\"\n",
              "     width=\"24px\">\n",
              "    <g>\n",
              "        <path d=\"M19 3H5c-1.1 0-2 .9-2 2v14c0 1.1.9 2 2 2h14c1.1 0 2-.9 2-2V5c0-1.1-.9-2-2-2zM9 17H7v-7h2v7zm4 0h-2V7h2v10zm4 0h-2v-4h2v4z\"/>\n",
              "    </g>\n",
              "</svg>\n",
              "  </button>\n",
              "\n",
              "<style>\n",
              "  .colab-df-quickchart {\n",
              "      --bg-color: #E8F0FE;\n",
              "      --fill-color: #1967D2;\n",
              "      --hover-bg-color: #E2EBFA;\n",
              "      --hover-fill-color: #174EA6;\n",
              "      --disabled-fill-color: #AAA;\n",
              "      --disabled-bg-color: #DDD;\n",
              "  }\n",
              "\n",
              "  [theme=dark] .colab-df-quickchart {\n",
              "      --bg-color: #3B4455;\n",
              "      --fill-color: #D2E3FC;\n",
              "      --hover-bg-color: #434B5C;\n",
              "      --hover-fill-color: #FFFFFF;\n",
              "      --disabled-bg-color: #3B4455;\n",
              "      --disabled-fill-color: #666;\n",
              "  }\n",
              "\n",
              "  .colab-df-quickchart {\n",
              "    background-color: var(--bg-color);\n",
              "    border: none;\n",
              "    border-radius: 50%;\n",
              "    cursor: pointer;\n",
              "    display: none;\n",
              "    fill: var(--fill-color);\n",
              "    height: 32px;\n",
              "    padding: 0;\n",
              "    width: 32px;\n",
              "  }\n",
              "\n",
              "  .colab-df-quickchart:hover {\n",
              "    background-color: var(--hover-bg-color);\n",
              "    box-shadow: 0 1px 2px rgba(60, 64, 67, 0.3), 0 1px 3px 1px rgba(60, 64, 67, 0.15);\n",
              "    fill: var(--button-hover-fill-color);\n",
              "  }\n",
              "\n",
              "  .colab-df-quickchart-complete:disabled,\n",
              "  .colab-df-quickchart-complete:disabled:hover {\n",
              "    background-color: var(--disabled-bg-color);\n",
              "    fill: var(--disabled-fill-color);\n",
              "    box-shadow: none;\n",
              "  }\n",
              "\n",
              "  .colab-df-spinner {\n",
              "    border: 2px solid var(--fill-color);\n",
              "    border-color: transparent;\n",
              "    border-bottom-color: var(--fill-color);\n",
              "    animation:\n",
              "      spin 1s steps(1) infinite;\n",
              "  }\n",
              "\n",
              "  @keyframes spin {\n",
              "    0% {\n",
              "      border-color: transparent;\n",
              "      border-bottom-color: var(--fill-color);\n",
              "      border-left-color: var(--fill-color);\n",
              "    }\n",
              "    20% {\n",
              "      border-color: transparent;\n",
              "      border-left-color: var(--fill-color);\n",
              "      border-top-color: var(--fill-color);\n",
              "    }\n",
              "    30% {\n",
              "      border-color: transparent;\n",
              "      border-left-color: var(--fill-color);\n",
              "      border-top-color: var(--fill-color);\n",
              "      border-right-color: var(--fill-color);\n",
              "    }\n",
              "    40% {\n",
              "      border-color: transparent;\n",
              "      border-right-color: var(--fill-color);\n",
              "      border-top-color: var(--fill-color);\n",
              "    }\n",
              "    60% {\n",
              "      border-color: transparent;\n",
              "      border-right-color: var(--fill-color);\n",
              "    }\n",
              "    80% {\n",
              "      border-color: transparent;\n",
              "      border-right-color: var(--fill-color);\n",
              "      border-bottom-color: var(--fill-color);\n",
              "    }\n",
              "    90% {\n",
              "      border-color: transparent;\n",
              "      border-bottom-color: var(--fill-color);\n",
              "    }\n",
              "  }\n",
              "</style>\n",
              "\n",
              "  <script>\n",
              "    async function quickchart(key) {\n",
              "      const quickchartButtonEl =\n",
              "        document.querySelector('#' + key + ' button');\n",
              "      quickchartButtonEl.disabled = true;  // To prevent multiple clicks.\n",
              "      quickchartButtonEl.classList.add('colab-df-spinner');\n",
              "      try {\n",
              "        const charts = await google.colab.kernel.invokeFunction(\n",
              "            'suggestCharts', [key], {});\n",
              "      } catch (error) {\n",
              "        console.error('Error during call to suggestCharts:', error);\n",
              "      }\n",
              "      quickchartButtonEl.classList.remove('colab-df-spinner');\n",
              "      quickchartButtonEl.classList.add('colab-df-quickchart-complete');\n",
              "    }\n",
              "    (() => {\n",
              "      let quickchartButtonEl =\n",
              "        document.querySelector('#df-0f24cfe7-cd8f-445a-88a8-29b13c73394c button');\n",
              "      quickchartButtonEl.style.display =\n",
              "        google.colab.kernel.accessAllowed ? 'block' : 'none';\n",
              "    })();\n",
              "  </script>\n",
              "</div>\n",
              "\n",
              "    </div>\n",
              "  </div>\n"
            ],
            "application/vnd.google.colaboratory.intrinsic+json": {
              "type": "dataframe",
              "variable_name": "dataset"
            }
          },
          "metadata": {},
          "execution_count": 23
        }
      ],
      "source": [
        "dataset.head()"
      ]
    },
    {
      "cell_type": "code",
      "execution_count": null,
      "id": "0e5ed5e6",
      "metadata": {
        "execution": {
          "iopub.execute_input": "2022-06-12T16:56:39.727309Z",
          "iopub.status.busy": "2022-06-12T16:56:39.726655Z",
          "iopub.status.idle": "2022-06-12T16:56:39.829233Z",
          "shell.execute_reply": "2022-06-12T16:56:39.828737Z",
          "shell.execute_reply.started": "2022-06-12T16:49:57.837326Z"
        },
        "papermill": {
          "duration": 0.15881,
          "end_time": "2022-06-12T16:56:39.829383",
          "exception": false,
          "start_time": "2022-06-12T16:56:39.670573",
          "status": "completed"
        },
        "tags": [],
        "colab": {
          "base_uri": "https://localhost:8080/"
        },
        "id": "0e5ed5e6",
        "outputId": "50d4b1a9-cb73-45dc-da3e-5b0a8eabef0b"
      },
      "outputs": [
        {
          "output_type": "execute_result",
          "data": {
            "text/plain": [
              "0"
            ]
          },
          "metadata": {},
          "execution_count": 24
        }
      ],
      "source": [
        "gc.collect()"
      ]
    },
    {
      "cell_type": "code",
      "execution_count": null,
      "id": "1546cffa",
      "metadata": {
        "execution": {
          "iopub.execute_input": "2022-06-12T16:56:39.944426Z",
          "iopub.status.busy": "2022-06-12T16:56:39.943764Z",
          "iopub.status.idle": "2022-06-12T16:56:43.274340Z",
          "shell.execute_reply": "2022-06-12T16:56:43.273731Z",
          "shell.execute_reply.started": "2022-06-12T16:45:45.112926Z"
        },
        "papermill": {
          "duration": 3.39065,
          "end_time": "2022-06-12T16:56:43.274495",
          "exception": false,
          "start_time": "2022-06-12T16:56:39.883845",
          "status": "completed"
        },
        "tags": [],
        "id": "1546cffa"
      },
      "outputs": [],
      "source": [
        "dataset=dataset.sort_values(\"Session_Id\")"
      ]
    },
    {
      "cell_type": "code",
      "execution_count": null,
      "id": "ae00cbc6",
      "metadata": {
        "execution": {
          "iopub.execute_input": "2022-06-12T16:56:43.604262Z",
          "iopub.status.busy": "2022-06-12T16:56:43.603612Z",
          "iopub.status.idle": "2022-06-12T16:56:43.706397Z",
          "shell.execute_reply": "2022-06-12T16:56:43.706933Z",
          "shell.execute_reply.started": "2022-06-12T16:45:45.114357Z"
        },
        "papermill": {
          "duration": 0.160414,
          "end_time": "2022-06-12T16:56:43.707099",
          "exception": false,
          "start_time": "2022-06-12T16:56:43.546685",
          "status": "completed"
        },
        "tags": [],
        "colab": {
          "base_uri": "https://localhost:8080/"
        },
        "id": "ae00cbc6",
        "outputId": "4948fe02-5a3b-4c48-95cd-d680a8d73f13"
      },
      "outputs": [
        {
          "output_type": "execute_result",
          "data": {
            "text/plain": [
              "0"
            ]
          },
          "metadata": {},
          "execution_count": 26
        }
      ],
      "source": [
        "gc.collect()"
      ]
    },
    {
      "cell_type": "code",
      "execution_count": null,
      "metadata": {
        "pycharm": {
          "name": "#%%\n"
        },
        "id": "STXPa5eA6EEH"
      },
      "outputs": [],
      "source": [
        "k=10\n",
        "result = []"
      ],
      "id": "STXPa5eA6EEH"
    },
    {
      "cell_type": "code",
      "execution_count": null,
      "id": "5d441590",
      "metadata": {
        "execution": {
          "iopub.execute_input": "2022-06-12T16:56:45.659990Z",
          "iopub.status.busy": "2022-06-12T16:56:45.659231Z",
          "iopub.status.idle": "2022-06-12T16:56:45.721584Z",
          "shell.execute_reply": "2022-06-12T16:56:45.722262Z",
          "shell.execute_reply.started": "2022-06-12T16:45:45.117557Z"
        },
        "papermill": {
          "duration": 0.123721,
          "end_time": "2022-06-12T16:56:45.722456",
          "exception": false,
          "start_time": "2022-06-12T16:56:45.598735",
          "status": "completed"
        },
        "tags": [],
        "colab": {
          "base_uri": "https://localhost:8080/"
        },
        "id": "5d441590",
        "outputId": "bb23c639-0109-4aa9-b415-e7a2bcf3f45f"
      },
      "outputs": [
        {
          "output_type": "stream",
          "name": "stderr",
          "text": [
            "/usr/local/lib/python3.10/dist-packages/xgboost/core.py:160: UserWarning: [10:27:23] WARNING: /workspace/src/learner.cc:742: \n",
            "Parameters: { \"predictor\" } are not used.\n",
            "\n",
            "  warnings.warn(smsg, UserWarning)\n",
            "/usr/local/lib/python3.10/dist-packages/xgboost/core.py:160: UserWarning: [10:27:38] WARNING: /workspace/src/learner.cc:742: \n",
            "Parameters: { \"predictor\" } are not used.\n",
            "\n",
            "  warnings.warn(smsg, UserWarning)\n",
            "/usr/local/lib/python3.10/dist-packages/xgboost/core.py:160: UserWarning: [10:28:00] WARNING: /workspace/src/learner.cc:742: \n",
            "Parameters: { \"predictor\" } are not used.\n",
            "\n",
            "  warnings.warn(smsg, UserWarning)\n",
            "/usr/local/lib/python3.10/dist-packages/xgboost/core.py:160: UserWarning: [10:28:21] WARNING: /workspace/src/learner.cc:742: \n",
            "Parameters: { \"predictor\" } are not used.\n",
            "\n",
            "  warnings.warn(smsg, UserWarning)\n",
            "/usr/local/lib/python3.10/dist-packages/xgboost/core.py:160: UserWarning: [10:28:42] WARNING: /workspace/src/learner.cc:742: \n",
            "Parameters: { \"predictor\" } are not used.\n",
            "\n",
            "  warnings.warn(smsg, UserWarning)\n",
            "/usr/local/lib/python3.10/dist-packages/xgboost/core.py:160: UserWarning: [10:29:07] WARNING: /workspace/src/learner.cc:742: \n",
            "Parameters: { \"predictor\" } are not used.\n",
            "\n",
            "  warnings.warn(smsg, UserWarning)\n",
            "/usr/local/lib/python3.10/dist-packages/xgboost/core.py:160: UserWarning: [10:29:23] WARNING: /workspace/src/learner.cc:742: \n",
            "Parameters: { \"predictor\" } are not used.\n",
            "\n",
            "  warnings.warn(smsg, UserWarning)\n",
            "/usr/local/lib/python3.10/dist-packages/xgboost/core.py:160: UserWarning: [10:29:41] WARNING: /workspace/src/learner.cc:742: \n",
            "Parameters: { \"predictor\" } are not used.\n",
            "\n",
            "  warnings.warn(smsg, UserWarning)\n",
            "/usr/local/lib/python3.10/dist-packages/xgboost/core.py:160: UserWarning: [10:30:25] WARNING: /workspace/src/learner.cc:742: \n",
            "Parameters: { \"predictor\" } are not used.\n",
            "\n",
            "  warnings.warn(smsg, UserWarning)\n",
            "/usr/local/lib/python3.10/dist-packages/xgboost/core.py:160: UserWarning: [10:31:02] WARNING: /workspace/src/learner.cc:742: \n",
            "Parameters: { \"predictor\" } are not used.\n",
            "\n",
            "  warnings.warn(smsg, UserWarning)\n"
          ]
        },
        {
          "output_type": "execute_result",
          "data": {
            "text/plain": [
              "array([[-0.20297652, -0.64376783, -0.64376783, ..., -0.64376783,\n",
              "        -0.64376783, -0.46474043],\n",
              "       [-0.58976793, -1.2782301 , -1.2891009 , ..., -1.2292565 ,\n",
              "        -1.2292565 , -0.921246  ],\n",
              "       [-0.5768796 , -1.2589526 , -1.2754304 , ..., -1.2111686 ,\n",
              "        -1.2111686 , -1.0293927 ],\n",
              "       ...,\n",
              "       [-1.3190708 , -2.0675046 , -2.1483653 , ..., -1.7978241 ,\n",
              "        -1.7978241 , -1.3715616 ],\n",
              "       [-1.120058  , -1.8347442 , -1.8571862 , ..., -1.7000949 ,\n",
              "        -1.7000949 , -1.3974214 ],\n",
              "       [-0.40888116, -1.1108346 , -1.1186196 , ..., -1.1142702 ,\n",
              "        -1.1142702 , -0.7728048 ]], dtype=float32)"
            ]
          },
          "metadata": {},
          "execution_count": 28
        }
      ],
      "source": [
        "import xgboost as xgb\n",
        "\n",
        "result = []\n",
        "\n",
        "for index in range(k):\n",
        "    model = xgb.Booster({'predictor': 'cpu_predictor'})  # Initializing a new XGBoost model\n",
        "    model.load_model(f'./drive/MyDrive/Recommendation_system/rankers/xgboost/all_traditional_and_lstm/model_{index}.xgb')\n",
        "    result.append(model.predict(xgb.DMatrix(dataset.drop([\"Session_Id\", \"Item_ID\"], axis=1))))\n",
        "    # dataset[f\"score_{index}\"] = model.predict(xgb.DMatrix(dataset.drop([\"Session_Id\", \"Item_ID\"], axis=1)))\n",
        "\n",
        "# combine scores\n",
        "result = np.array(result)\n",
        "result"
      ]
    },
    {
      "cell_type": "code",
      "execution_count": null,
      "metadata": {
        "pycharm": {
          "name": "#%%\n"
        },
        "id": "C_sj7pMb6EEH"
      },
      "outputs": [],
      "source": [
        "dataset[\"score\"]=np.mean(result ,axis=0)\n",
        "# dataset[\"score\"]=np.median(result ,axis=0)"
      ],
      "id": "C_sj7pMb6EEH"
    },
    {
      "cell_type": "code",
      "execution_count": null,
      "id": "b92931e2",
      "metadata": {
        "execution": {
          "iopub.execute_input": "2022-06-12T16:59:02.077546Z",
          "iopub.status.busy": "2022-06-12T16:59:01.698248Z",
          "iopub.status.idle": "2022-06-12T16:59:02.080396Z",
          "shell.execute_reply": "2022-06-12T16:59:02.080921Z",
          "shell.execute_reply.started": "2022-06-12T16:45:45.120519Z"
        },
        "papermill": {
          "duration": 0.442046,
          "end_time": "2022-06-12T16:59:02.081096",
          "exception": false,
          "start_time": "2022-06-12T16:59:01.639050",
          "status": "completed"
        },
        "tags": [],
        "colab": {
          "base_uri": "https://localhost:8080/"
        },
        "id": "b92931e2",
        "outputId": "8daf9acf-9e6b-4ae6-a5e5-3cfceb90bcf7"
      },
      "outputs": [
        {
          "output_type": "execute_result",
          "data": {
            "text/plain": [
              "0"
            ]
          },
          "metadata": {},
          "execution_count": 30
        }
      ],
      "source": [
        "dataset=dataset[[\"Session_Id\",\"Item_ID\",\"score\"]]\n",
        "gc.collect()"
      ]
    },
    {
      "cell_type": "code",
      "execution_count": null,
      "id": "3a582375",
      "metadata": {
        "execution": {
          "iopub.execute_input": "2022-06-12T16:59:02.201861Z",
          "iopub.status.busy": "2022-06-12T16:59:02.201225Z",
          "iopub.status.idle": "2022-06-12T16:59:02.209553Z",
          "shell.execute_reply": "2022-06-12T16:59:02.208952Z",
          "shell.execute_reply.started": "2022-06-12T16:45:45.122235Z"
        },
        "papermill": {
          "duration": 0.071213,
          "end_time": "2022-06-12T16:59:02.209707",
          "exception": false,
          "start_time": "2022-06-12T16:59:02.138494",
          "status": "completed"
        },
        "tags": [],
        "colab": {
          "base_uri": "https://localhost:8080/",
          "height": 206
        },
        "id": "3a582375",
        "outputId": "34ca36d2-d523-4677-eb45-3df148be4540"
      },
      "outputs": [
        {
          "output_type": "execute_result",
          "data": {
            "text/plain": [
              "          Session_Id  Item_ID     score\n",
              "0                 61       11 -0.584093\n",
              "25325335          61     2839 -1.224595\n",
              "25325334          61     2721 -1.243598\n",
              "25325333          61     2640 -1.243598\n",
              "25325332          61     2594 -1.243598"
            ],
            "text/html": [
              "\n",
              "  <div id=\"df-65725aab-a038-4566-ada1-bb30a528a5e9\" class=\"colab-df-container\">\n",
              "    <div>\n",
              "<style scoped>\n",
              "    .dataframe tbody tr th:only-of-type {\n",
              "        vertical-align: middle;\n",
              "    }\n",
              "\n",
              "    .dataframe tbody tr th {\n",
              "        vertical-align: top;\n",
              "    }\n",
              "\n",
              "    .dataframe thead th {\n",
              "        text-align: right;\n",
              "    }\n",
              "</style>\n",
              "<table border=\"1\" class=\"dataframe\">\n",
              "  <thead>\n",
              "    <tr style=\"text-align: right;\">\n",
              "      <th></th>\n",
              "      <th>Session_Id</th>\n",
              "      <th>Item_ID</th>\n",
              "      <th>score</th>\n",
              "    </tr>\n",
              "  </thead>\n",
              "  <tbody>\n",
              "    <tr>\n",
              "      <th>0</th>\n",
              "      <td>61</td>\n",
              "      <td>11</td>\n",
              "      <td>-0.584093</td>\n",
              "    </tr>\n",
              "    <tr>\n",
              "      <th>25325335</th>\n",
              "      <td>61</td>\n",
              "      <td>2839</td>\n",
              "      <td>-1.224595</td>\n",
              "    </tr>\n",
              "    <tr>\n",
              "      <th>25325334</th>\n",
              "      <td>61</td>\n",
              "      <td>2721</td>\n",
              "      <td>-1.243598</td>\n",
              "    </tr>\n",
              "    <tr>\n",
              "      <th>25325333</th>\n",
              "      <td>61</td>\n",
              "      <td>2640</td>\n",
              "      <td>-1.243598</td>\n",
              "    </tr>\n",
              "    <tr>\n",
              "      <th>25325332</th>\n",
              "      <td>61</td>\n",
              "      <td>2594</td>\n",
              "      <td>-1.243598</td>\n",
              "    </tr>\n",
              "  </tbody>\n",
              "</table>\n",
              "</div>\n",
              "    <div class=\"colab-df-buttons\">\n",
              "\n",
              "  <div class=\"colab-df-container\">\n",
              "    <button class=\"colab-df-convert\" onclick=\"convertToInteractive('df-65725aab-a038-4566-ada1-bb30a528a5e9')\"\n",
              "            title=\"Convert this dataframe to an interactive table.\"\n",
              "            style=\"display:none;\">\n",
              "\n",
              "  <svg xmlns=\"http://www.w3.org/2000/svg\" height=\"24px\" viewBox=\"0 -960 960 960\">\n",
              "    <path d=\"M120-120v-720h720v720H120Zm60-500h600v-160H180v160Zm220 220h160v-160H400v160Zm0 220h160v-160H400v160ZM180-400h160v-160H180v160Zm440 0h160v-160H620v160ZM180-180h160v-160H180v160Zm440 0h160v-160H620v160Z\"/>\n",
              "  </svg>\n",
              "    </button>\n",
              "\n",
              "  <style>\n",
              "    .colab-df-container {\n",
              "      display:flex;\n",
              "      gap: 12px;\n",
              "    }\n",
              "\n",
              "    .colab-df-convert {\n",
              "      background-color: #E8F0FE;\n",
              "      border: none;\n",
              "      border-radius: 50%;\n",
              "      cursor: pointer;\n",
              "      display: none;\n",
              "      fill: #1967D2;\n",
              "      height: 32px;\n",
              "      padding: 0 0 0 0;\n",
              "      width: 32px;\n",
              "    }\n",
              "\n",
              "    .colab-df-convert:hover {\n",
              "      background-color: #E2EBFA;\n",
              "      box-shadow: 0px 1px 2px rgba(60, 64, 67, 0.3), 0px 1px 3px 1px rgba(60, 64, 67, 0.15);\n",
              "      fill: #174EA6;\n",
              "    }\n",
              "\n",
              "    .colab-df-buttons div {\n",
              "      margin-bottom: 4px;\n",
              "    }\n",
              "\n",
              "    [theme=dark] .colab-df-convert {\n",
              "      background-color: #3B4455;\n",
              "      fill: #D2E3FC;\n",
              "    }\n",
              "\n",
              "    [theme=dark] .colab-df-convert:hover {\n",
              "      background-color: #434B5C;\n",
              "      box-shadow: 0px 1px 3px 1px rgba(0, 0, 0, 0.15);\n",
              "      filter: drop-shadow(0px 1px 2px rgba(0, 0, 0, 0.3));\n",
              "      fill: #FFFFFF;\n",
              "    }\n",
              "  </style>\n",
              "\n",
              "    <script>\n",
              "      const buttonEl =\n",
              "        document.querySelector('#df-65725aab-a038-4566-ada1-bb30a528a5e9 button.colab-df-convert');\n",
              "      buttonEl.style.display =\n",
              "        google.colab.kernel.accessAllowed ? 'block' : 'none';\n",
              "\n",
              "      async function convertToInteractive(key) {\n",
              "        const element = document.querySelector('#df-65725aab-a038-4566-ada1-bb30a528a5e9');\n",
              "        const dataTable =\n",
              "          await google.colab.kernel.invokeFunction('convertToInteractive',\n",
              "                                                    [key], {});\n",
              "        if (!dataTable) return;\n",
              "\n",
              "        const docLinkHtml = 'Like what you see? Visit the ' +\n",
              "          '<a target=\"_blank\" href=https://colab.research.google.com/notebooks/data_table.ipynb>data table notebook</a>'\n",
              "          + ' to learn more about interactive tables.';\n",
              "        element.innerHTML = '';\n",
              "        dataTable['output_type'] = 'display_data';\n",
              "        await google.colab.output.renderOutput(dataTable, element);\n",
              "        const docLink = document.createElement('div');\n",
              "        docLink.innerHTML = docLinkHtml;\n",
              "        element.appendChild(docLink);\n",
              "      }\n",
              "    </script>\n",
              "  </div>\n",
              "\n",
              "\n",
              "<div id=\"df-875254e1-974e-4150-944e-40e0c4c10869\">\n",
              "  <button class=\"colab-df-quickchart\" onclick=\"quickchart('df-875254e1-974e-4150-944e-40e0c4c10869')\"\n",
              "            title=\"Suggest charts\"\n",
              "            style=\"display:none;\">\n",
              "\n",
              "<svg xmlns=\"http://www.w3.org/2000/svg\" height=\"24px\"viewBox=\"0 0 24 24\"\n",
              "     width=\"24px\">\n",
              "    <g>\n",
              "        <path d=\"M19 3H5c-1.1 0-2 .9-2 2v14c0 1.1.9 2 2 2h14c1.1 0 2-.9 2-2V5c0-1.1-.9-2-2-2zM9 17H7v-7h2v7zm4 0h-2V7h2v10zm4 0h-2v-4h2v4z\"/>\n",
              "    </g>\n",
              "</svg>\n",
              "  </button>\n",
              "\n",
              "<style>\n",
              "  .colab-df-quickchart {\n",
              "      --bg-color: #E8F0FE;\n",
              "      --fill-color: #1967D2;\n",
              "      --hover-bg-color: #E2EBFA;\n",
              "      --hover-fill-color: #174EA6;\n",
              "      --disabled-fill-color: #AAA;\n",
              "      --disabled-bg-color: #DDD;\n",
              "  }\n",
              "\n",
              "  [theme=dark] .colab-df-quickchart {\n",
              "      --bg-color: #3B4455;\n",
              "      --fill-color: #D2E3FC;\n",
              "      --hover-bg-color: #434B5C;\n",
              "      --hover-fill-color: #FFFFFF;\n",
              "      --disabled-bg-color: #3B4455;\n",
              "      --disabled-fill-color: #666;\n",
              "  }\n",
              "\n",
              "  .colab-df-quickchart {\n",
              "    background-color: var(--bg-color);\n",
              "    border: none;\n",
              "    border-radius: 50%;\n",
              "    cursor: pointer;\n",
              "    display: none;\n",
              "    fill: var(--fill-color);\n",
              "    height: 32px;\n",
              "    padding: 0;\n",
              "    width: 32px;\n",
              "  }\n",
              "\n",
              "  .colab-df-quickchart:hover {\n",
              "    background-color: var(--hover-bg-color);\n",
              "    box-shadow: 0 1px 2px rgba(60, 64, 67, 0.3), 0 1px 3px 1px rgba(60, 64, 67, 0.15);\n",
              "    fill: var(--button-hover-fill-color);\n",
              "  }\n",
              "\n",
              "  .colab-df-quickchart-complete:disabled,\n",
              "  .colab-df-quickchart-complete:disabled:hover {\n",
              "    background-color: var(--disabled-bg-color);\n",
              "    fill: var(--disabled-fill-color);\n",
              "    box-shadow: none;\n",
              "  }\n",
              "\n",
              "  .colab-df-spinner {\n",
              "    border: 2px solid var(--fill-color);\n",
              "    border-color: transparent;\n",
              "    border-bottom-color: var(--fill-color);\n",
              "    animation:\n",
              "      spin 1s steps(1) infinite;\n",
              "  }\n",
              "\n",
              "  @keyframes spin {\n",
              "    0% {\n",
              "      border-color: transparent;\n",
              "      border-bottom-color: var(--fill-color);\n",
              "      border-left-color: var(--fill-color);\n",
              "    }\n",
              "    20% {\n",
              "      border-color: transparent;\n",
              "      border-left-color: var(--fill-color);\n",
              "      border-top-color: var(--fill-color);\n",
              "    }\n",
              "    30% {\n",
              "      border-color: transparent;\n",
              "      border-left-color: var(--fill-color);\n",
              "      border-top-color: var(--fill-color);\n",
              "      border-right-color: var(--fill-color);\n",
              "    }\n",
              "    40% {\n",
              "      border-color: transparent;\n",
              "      border-right-color: var(--fill-color);\n",
              "      border-top-color: var(--fill-color);\n",
              "    }\n",
              "    60% {\n",
              "      border-color: transparent;\n",
              "      border-right-color: var(--fill-color);\n",
              "    }\n",
              "    80% {\n",
              "      border-color: transparent;\n",
              "      border-right-color: var(--fill-color);\n",
              "      border-bottom-color: var(--fill-color);\n",
              "    }\n",
              "    90% {\n",
              "      border-color: transparent;\n",
              "      border-bottom-color: var(--fill-color);\n",
              "    }\n",
              "  }\n",
              "</style>\n",
              "\n",
              "  <script>\n",
              "    async function quickchart(key) {\n",
              "      const quickchartButtonEl =\n",
              "        document.querySelector('#' + key + ' button');\n",
              "      quickchartButtonEl.disabled = true;  // To prevent multiple clicks.\n",
              "      quickchartButtonEl.classList.add('colab-df-spinner');\n",
              "      try {\n",
              "        const charts = await google.colab.kernel.invokeFunction(\n",
              "            'suggestCharts', [key], {});\n",
              "      } catch (error) {\n",
              "        console.error('Error during call to suggestCharts:', error);\n",
              "      }\n",
              "      quickchartButtonEl.classList.remove('colab-df-spinner');\n",
              "      quickchartButtonEl.classList.add('colab-df-quickchart-complete');\n",
              "    }\n",
              "    (() => {\n",
              "      let quickchartButtonEl =\n",
              "        document.querySelector('#df-875254e1-974e-4150-944e-40e0c4c10869 button');\n",
              "      quickchartButtonEl.style.display =\n",
              "        google.colab.kernel.accessAllowed ? 'block' : 'none';\n",
              "    })();\n",
              "  </script>\n",
              "</div>\n",
              "\n",
              "    </div>\n",
              "  </div>\n"
            ],
            "application/vnd.google.colaboratory.intrinsic+json": {
              "type": "dataframe",
              "variable_name": "dataset"
            }
          },
          "metadata": {},
          "execution_count": 31
        }
      ],
      "source": [
        "dataset.head()"
      ]
    },
    {
      "cell_type": "code",
      "execution_count": null,
      "id": "f62e232f",
      "metadata": {
        "execution": {
          "iopub.execute_input": "2022-06-12T16:59:02.327660Z",
          "iopub.status.busy": "2022-06-12T16:59:02.325936Z",
          "iopub.status.idle": "2022-06-12T16:59:16.631562Z",
          "shell.execute_reply": "2022-06-12T16:59:16.630905Z",
          "shell.execute_reply.started": "2022-06-12T16:45:45.123130Z"
        },
        "papermill": {
          "duration": 14.365345,
          "end_time": "2022-06-12T16:59:16.631745",
          "exception": false,
          "start_time": "2022-06-12T16:59:02.266400",
          "status": "completed"
        },
        "tags": [],
        "id": "f62e232f"
      },
      "outputs": [],
      "source": [
        "dataset=dataset.groupby(['Session_Id']).agg(list).reset_index()"
      ]
    },
    {
      "cell_type": "code",
      "execution_count": null,
      "id": "9b85040e",
      "metadata": {
        "execution": {
          "iopub.execute_input": "2022-06-12T16:59:16.757153Z",
          "iopub.status.busy": "2022-06-12T16:59:16.755027Z",
          "iopub.status.idle": "2022-06-12T16:59:16.758945Z",
          "shell.execute_reply": "2022-06-12T16:59:16.759547Z",
          "shell.execute_reply.started": "2022-06-12T16:45:45.125443Z"
        },
        "papermill": {
          "duration": 0.070322,
          "end_time": "2022-06-12T16:59:16.759733",
          "exception": false,
          "start_time": "2022-06-12T16:59:16.689411",
          "status": "completed"
        },
        "tags": [],
        "id": "9b85040e"
      },
      "outputs": [],
      "source": [
        "def get_indices(x):\n",
        "    x=np.array(x)\n",
        "    indices_unsorted=np.argpartition(x, -100)[-100:]\n",
        "    x=x[indices_unsorted]\n",
        "    indices=indices_unsorted[np.argsort(-x)]\n",
        "    return indices"
      ]
    },
    {
      "cell_type": "code",
      "execution_count": null,
      "id": "322214a9",
      "metadata": {
        "execution": {
          "iopub.execute_input": "2022-06-12T16:59:16.880335Z",
          "iopub.status.busy": "2022-06-12T16:59:16.878240Z",
          "iopub.status.idle": "2022-06-12T16:59:21.541201Z",
          "shell.execute_reply": "2022-06-12T16:59:21.540626Z",
          "shell.execute_reply.started": "2022-06-12T16:45:45.127023Z"
        },
        "papermill": {
          "duration": 4.723503,
          "end_time": "2022-06-12T16:59:21.541339",
          "exception": false,
          "start_time": "2022-06-12T16:59:16.817836",
          "status": "completed"
        },
        "tags": [],
        "id": "322214a9"
      },
      "outputs": [],
      "source": [
        "dataset[\"indices\"]=dataset[\"score\"].apply(lambda x: get_indices(x))"
      ]
    },
    {
      "cell_type": "code",
      "execution_count": null,
      "id": "0d15c34d",
      "metadata": {
        "execution": {
          "iopub.execute_input": "2022-06-12T16:59:21.666446Z",
          "iopub.status.busy": "2022-06-12T16:59:21.665635Z",
          "iopub.status.idle": "2022-06-12T16:59:21.668937Z",
          "shell.execute_reply": "2022-06-12T16:59:21.669415Z",
          "shell.execute_reply.started": "2022-06-12T16:45:45.128494Z"
        },
        "papermill": {
          "duration": 0.069271,
          "end_time": "2022-06-12T16:59:21.669582",
          "exception": false,
          "start_time": "2022-06-12T16:59:21.600311",
          "status": "completed"
        },
        "tags": [],
        "colab": {
          "base_uri": "https://localhost:8080/"
        },
        "id": "0d15c34d",
        "outputId": "bf2f1595-1976-4380-806b-dcad82965984"
      },
      "outputs": [
        {
          "output_type": "execute_result",
          "data": {
            "text/plain": [
              "Session_Id                                                   61\n",
              "Item_ID       [11, 2839, 2721, 2640, 2594, 2442, 2386, 2376,...\n",
              "score         [-0.5840932130813599, -1.2245947122573853, -1....\n",
              "indices       [386, 407, 537, 448, 75, 98, 531, 296, 536, 40...\n",
              "Name: 0, dtype: object"
            ]
          },
          "metadata": {},
          "execution_count": 35
        }
      ],
      "source": [
        "dataset.iloc[0]"
      ]
    },
    {
      "cell_type": "code",
      "execution_count": null,
      "id": "bddb4385",
      "metadata": {
        "execution": {
          "iopub.execute_input": "2022-06-12T16:59:21.792818Z",
          "iopub.status.busy": "2022-06-12T16:59:21.792123Z",
          "iopub.status.idle": "2022-06-12T16:59:21.794690Z",
          "shell.execute_reply": "2022-06-12T16:59:21.795160Z",
          "shell.execute_reply.started": "2022-06-12T16:45:45.129667Z"
        },
        "papermill": {
          "duration": 0.066992,
          "end_time": "2022-06-12T16:59:21.795321",
          "exception": false,
          "start_time": "2022-06-12T16:59:21.728329",
          "status": "completed"
        },
        "tags": [],
        "colab": {
          "base_uri": "https://localhost:8080/"
        },
        "id": "bddb4385",
        "outputId": "60c81011-aad9-492d-8d0a-e6a613f8d26e"
      },
      "outputs": [
        {
          "output_type": "execute_result",
          "data": {
            "text/plain": [
              "3581"
            ]
          },
          "metadata": {},
          "execution_count": 36
        }
      ],
      "source": [
        "dataset.iloc[0][\"Item_ID\"][536]"
      ]
    },
    {
      "cell_type": "code",
      "execution_count": null,
      "id": "ebaf1049",
      "metadata": {
        "execution": {
          "iopub.execute_input": "2022-06-12T16:59:21.914318Z",
          "iopub.status.busy": "2022-06-12T16:59:21.913633Z",
          "iopub.status.idle": "2022-06-12T16:59:21.918477Z",
          "shell.execute_reply": "2022-06-12T16:59:21.917883Z",
          "shell.execute_reply.started": "2022-06-12T16:45:45.133056Z"
        },
        "papermill": {
          "duration": 0.065781,
          "end_time": "2022-06-12T16:59:21.918641",
          "exception": false,
          "start_time": "2022-06-12T16:59:21.852860",
          "status": "completed"
        },
        "tags": [],
        "id": "ebaf1049"
      },
      "outputs": [],
      "source": [
        "def get_items(x):\n",
        "    items=np.array(x[0])\n",
        "    return items[x[1]]"
      ]
    },
    {
      "cell_type": "code",
      "execution_count": null,
      "id": "144e62b2",
      "metadata": {
        "execution": {
          "iopub.execute_input": "2022-06-12T16:59:22.041022Z",
          "iopub.status.busy": "2022-06-12T16:59:22.040329Z",
          "iopub.status.idle": "2022-06-12T16:59:26.943557Z",
          "shell.execute_reply": "2022-06-12T16:59:26.942906Z",
          "shell.execute_reply.started": "2022-06-12T16:45:45.134236Z"
        },
        "papermill": {
          "duration": 4.96688,
          "end_time": "2022-06-12T16:59:26.943713",
          "exception": false,
          "start_time": "2022-06-12T16:59:21.976833",
          "status": "completed"
        },
        "tags": [],
        "id": "144e62b2"
      },
      "outputs": [],
      "source": [
        "dataset[\"predictions\"]=dataset[[\"Item_ID\",\"indices\"]].apply(get_items,axis=1)"
      ]
    },
    {
      "cell_type": "code",
      "execution_count": null,
      "id": "b3e85988",
      "metadata": {
        "execution": {
          "iopub.execute_input": "2022-06-12T16:59:27.064711Z",
          "iopub.status.busy": "2022-06-12T16:59:27.064029Z",
          "iopub.status.idle": "2022-06-12T16:59:28.418904Z",
          "shell.execute_reply": "2022-06-12T16:59:28.418236Z",
          "shell.execute_reply.started": "2022-06-12T16:45:45.135881Z"
        },
        "papermill": {
          "duration": 1.416768,
          "end_time": "2022-06-12T16:59:28.419052",
          "exception": false,
          "start_time": "2022-06-12T16:59:27.002284",
          "status": "completed"
        },
        "tags": [],
        "id": "b3e85988"
      },
      "outputs": [],
      "source": [
        "dataset=dataset[[\"Session_Id\",\"predictions\"]]\n",
        "dataset[\"rank\"]=dataset.apply(lambda x:tuple([rank for rank in range(1, 101)]) ,axis=1)"
      ]
    },
    {
      "cell_type": "code",
      "execution_count": null,
      "id": "2c55ecc0",
      "metadata": {
        "execution": {
          "iopub.execute_input": "2022-06-12T16:59:28.541311Z",
          "iopub.status.busy": "2022-06-12T16:59:28.540658Z",
          "iopub.status.idle": "2022-06-12T16:59:28.576588Z",
          "shell.execute_reply": "2022-06-12T16:59:28.575962Z",
          "shell.execute_reply.started": "2022-06-12T16:45:45.137133Z"
        },
        "papermill": {
          "duration": 0.099685,
          "end_time": "2022-06-12T16:59:28.576741",
          "exception": false,
          "start_time": "2022-06-12T16:59:28.477056",
          "status": "completed"
        },
        "tags": [],
        "colab": {
          "base_uri": "https://localhost:8080/",
          "height": 424
        },
        "id": "2c55ecc0",
        "outputId": "4519a943-2ad0-4d93-a71c-35afee35b79d"
      },
      "outputs": [
        {
          "output_type": "execute_result",
          "data": {
            "text/plain": [
              "       Session_Id                                        predictions  \\\n",
              "0              61  [1045, 292, 3586, 1563, 4574, 3904, 3414, 3251...   \n",
              "1              96  [3564, 3778, 3705, 3303, 4148, 1183, 4591, 168...   \n",
              "2             185  [4148, 4146, 2704, 1936, 2330, 3326, 3827, 293...   \n",
              "3             224  [4202, 3338, 2769, 16, 2448, 4990, 1245, 3343,...   \n",
              "4             285  [3691, 3555, 2970, 3441, 2899, 2471, 3599, 226...   \n",
              "...           ...                                                ...   \n",
              "49995     4439646  [270, 1468, 772, 4026, 3656, 2720, 3424, 191, ...   \n",
              "49996     4439648  [4145, 3901, 3223, 4586, 3550, 3505, 2423, 311...   \n",
              "49997     4439675  [4865, 3166, 819, 1169, 4966, 603, 779, 2724, ...   \n",
              "49998     4439868  [519, 1972, 2285, 4740, 292, 4220, 3414, 3586,...   \n",
              "49999     4439966  [3362, 1609, 4126, 678, 559, 2540, 1931, 3155,...   \n",
              "\n",
              "                                                    rank  \n",
              "0      (1, 2, 3, 4, 5, 6, 7, 8, 9, 10, 11, 12, 13, 14...  \n",
              "1      (1, 2, 3, 4, 5, 6, 7, 8, 9, 10, 11, 12, 13, 14...  \n",
              "2      (1, 2, 3, 4, 5, 6, 7, 8, 9, 10, 11, 12, 13, 14...  \n",
              "3      (1, 2, 3, 4, 5, 6, 7, 8, 9, 10, 11, 12, 13, 14...  \n",
              "4      (1, 2, 3, 4, 5, 6, 7, 8, 9, 10, 11, 12, 13, 14...  \n",
              "...                                                  ...  \n",
              "49995  (1, 2, 3, 4, 5, 6, 7, 8, 9, 10, 11, 12, 13, 14...  \n",
              "49996  (1, 2, 3, 4, 5, 6, 7, 8, 9, 10, 11, 12, 13, 14...  \n",
              "49997  (1, 2, 3, 4, 5, 6, 7, 8, 9, 10, 11, 12, 13, 14...  \n",
              "49998  (1, 2, 3, 4, 5, 6, 7, 8, 9, 10, 11, 12, 13, 14...  \n",
              "49999  (1, 2, 3, 4, 5, 6, 7, 8, 9, 10, 11, 12, 13, 14...  \n",
              "\n",
              "[50000 rows x 3 columns]"
            ],
            "text/html": [
              "\n",
              "  <div id=\"df-0f7bdd40-9eb4-4e30-a8c0-89c40ddcc722\" class=\"colab-df-container\">\n",
              "    <div>\n",
              "<style scoped>\n",
              "    .dataframe tbody tr th:only-of-type {\n",
              "        vertical-align: middle;\n",
              "    }\n",
              "\n",
              "    .dataframe tbody tr th {\n",
              "        vertical-align: top;\n",
              "    }\n",
              "\n",
              "    .dataframe thead th {\n",
              "        text-align: right;\n",
              "    }\n",
              "</style>\n",
              "<table border=\"1\" class=\"dataframe\">\n",
              "  <thead>\n",
              "    <tr style=\"text-align: right;\">\n",
              "      <th></th>\n",
              "      <th>Session_Id</th>\n",
              "      <th>predictions</th>\n",
              "      <th>rank</th>\n",
              "    </tr>\n",
              "  </thead>\n",
              "  <tbody>\n",
              "    <tr>\n",
              "      <th>0</th>\n",
              "      <td>61</td>\n",
              "      <td>[1045, 292, 3586, 1563, 4574, 3904, 3414, 3251...</td>\n",
              "      <td>(1, 2, 3, 4, 5, 6, 7, 8, 9, 10, 11, 12, 13, 14...</td>\n",
              "    </tr>\n",
              "    <tr>\n",
              "      <th>1</th>\n",
              "      <td>96</td>\n",
              "      <td>[3564, 3778, 3705, 3303, 4148, 1183, 4591, 168...</td>\n",
              "      <td>(1, 2, 3, 4, 5, 6, 7, 8, 9, 10, 11, 12, 13, 14...</td>\n",
              "    </tr>\n",
              "    <tr>\n",
              "      <th>2</th>\n",
              "      <td>185</td>\n",
              "      <td>[4148, 4146, 2704, 1936, 2330, 3326, 3827, 293...</td>\n",
              "      <td>(1, 2, 3, 4, 5, 6, 7, 8, 9, 10, 11, 12, 13, 14...</td>\n",
              "    </tr>\n",
              "    <tr>\n",
              "      <th>3</th>\n",
              "      <td>224</td>\n",
              "      <td>[4202, 3338, 2769, 16, 2448, 4990, 1245, 3343,...</td>\n",
              "      <td>(1, 2, 3, 4, 5, 6, 7, 8, 9, 10, 11, 12, 13, 14...</td>\n",
              "    </tr>\n",
              "    <tr>\n",
              "      <th>4</th>\n",
              "      <td>285</td>\n",
              "      <td>[3691, 3555, 2970, 3441, 2899, 2471, 3599, 226...</td>\n",
              "      <td>(1, 2, 3, 4, 5, 6, 7, 8, 9, 10, 11, 12, 13, 14...</td>\n",
              "    </tr>\n",
              "    <tr>\n",
              "      <th>...</th>\n",
              "      <td>...</td>\n",
              "      <td>...</td>\n",
              "      <td>...</td>\n",
              "    </tr>\n",
              "    <tr>\n",
              "      <th>49995</th>\n",
              "      <td>4439646</td>\n",
              "      <td>[270, 1468, 772, 4026, 3656, 2720, 3424, 191, ...</td>\n",
              "      <td>(1, 2, 3, 4, 5, 6, 7, 8, 9, 10, 11, 12, 13, 14...</td>\n",
              "    </tr>\n",
              "    <tr>\n",
              "      <th>49996</th>\n",
              "      <td>4439648</td>\n",
              "      <td>[4145, 3901, 3223, 4586, 3550, 3505, 2423, 311...</td>\n",
              "      <td>(1, 2, 3, 4, 5, 6, 7, 8, 9, 10, 11, 12, 13, 14...</td>\n",
              "    </tr>\n",
              "    <tr>\n",
              "      <th>49997</th>\n",
              "      <td>4439675</td>\n",
              "      <td>[4865, 3166, 819, 1169, 4966, 603, 779, 2724, ...</td>\n",
              "      <td>(1, 2, 3, 4, 5, 6, 7, 8, 9, 10, 11, 12, 13, 14...</td>\n",
              "    </tr>\n",
              "    <tr>\n",
              "      <th>49998</th>\n",
              "      <td>4439868</td>\n",
              "      <td>[519, 1972, 2285, 4740, 292, 4220, 3414, 3586,...</td>\n",
              "      <td>(1, 2, 3, 4, 5, 6, 7, 8, 9, 10, 11, 12, 13, 14...</td>\n",
              "    </tr>\n",
              "    <tr>\n",
              "      <th>49999</th>\n",
              "      <td>4439966</td>\n",
              "      <td>[3362, 1609, 4126, 678, 559, 2540, 1931, 3155,...</td>\n",
              "      <td>(1, 2, 3, 4, 5, 6, 7, 8, 9, 10, 11, 12, 13, 14...</td>\n",
              "    </tr>\n",
              "  </tbody>\n",
              "</table>\n",
              "<p>50000 rows × 3 columns</p>\n",
              "</div>\n",
              "    <div class=\"colab-df-buttons\">\n",
              "\n",
              "  <div class=\"colab-df-container\">\n",
              "    <button class=\"colab-df-convert\" onclick=\"convertToInteractive('df-0f7bdd40-9eb4-4e30-a8c0-89c40ddcc722')\"\n",
              "            title=\"Convert this dataframe to an interactive table.\"\n",
              "            style=\"display:none;\">\n",
              "\n",
              "  <svg xmlns=\"http://www.w3.org/2000/svg\" height=\"24px\" viewBox=\"0 -960 960 960\">\n",
              "    <path d=\"M120-120v-720h720v720H120Zm60-500h600v-160H180v160Zm220 220h160v-160H400v160Zm0 220h160v-160H400v160ZM180-400h160v-160H180v160Zm440 0h160v-160H620v160ZM180-180h160v-160H180v160Zm440 0h160v-160H620v160Z\"/>\n",
              "  </svg>\n",
              "    </button>\n",
              "\n",
              "  <style>\n",
              "    .colab-df-container {\n",
              "      display:flex;\n",
              "      gap: 12px;\n",
              "    }\n",
              "\n",
              "    .colab-df-convert {\n",
              "      background-color: #E8F0FE;\n",
              "      border: none;\n",
              "      border-radius: 50%;\n",
              "      cursor: pointer;\n",
              "      display: none;\n",
              "      fill: #1967D2;\n",
              "      height: 32px;\n",
              "      padding: 0 0 0 0;\n",
              "      width: 32px;\n",
              "    }\n",
              "\n",
              "    .colab-df-convert:hover {\n",
              "      background-color: #E2EBFA;\n",
              "      box-shadow: 0px 1px 2px rgba(60, 64, 67, 0.3), 0px 1px 3px 1px rgba(60, 64, 67, 0.15);\n",
              "      fill: #174EA6;\n",
              "    }\n",
              "\n",
              "    .colab-df-buttons div {\n",
              "      margin-bottom: 4px;\n",
              "    }\n",
              "\n",
              "    [theme=dark] .colab-df-convert {\n",
              "      background-color: #3B4455;\n",
              "      fill: #D2E3FC;\n",
              "    }\n",
              "\n",
              "    [theme=dark] .colab-df-convert:hover {\n",
              "      background-color: #434B5C;\n",
              "      box-shadow: 0px 1px 3px 1px rgba(0, 0, 0, 0.15);\n",
              "      filter: drop-shadow(0px 1px 2px rgba(0, 0, 0, 0.3));\n",
              "      fill: #FFFFFF;\n",
              "    }\n",
              "  </style>\n",
              "\n",
              "    <script>\n",
              "      const buttonEl =\n",
              "        document.querySelector('#df-0f7bdd40-9eb4-4e30-a8c0-89c40ddcc722 button.colab-df-convert');\n",
              "      buttonEl.style.display =\n",
              "        google.colab.kernel.accessAllowed ? 'block' : 'none';\n",
              "\n",
              "      async function convertToInteractive(key) {\n",
              "        const element = document.querySelector('#df-0f7bdd40-9eb4-4e30-a8c0-89c40ddcc722');\n",
              "        const dataTable =\n",
              "          await google.colab.kernel.invokeFunction('convertToInteractive',\n",
              "                                                    [key], {});\n",
              "        if (!dataTable) return;\n",
              "\n",
              "        const docLinkHtml = 'Like what you see? Visit the ' +\n",
              "          '<a target=\"_blank\" href=https://colab.research.google.com/notebooks/data_table.ipynb>data table notebook</a>'\n",
              "          + ' to learn more about interactive tables.';\n",
              "        element.innerHTML = '';\n",
              "        dataTable['output_type'] = 'display_data';\n",
              "        await google.colab.output.renderOutput(dataTable, element);\n",
              "        const docLink = document.createElement('div');\n",
              "        docLink.innerHTML = docLinkHtml;\n",
              "        element.appendChild(docLink);\n",
              "      }\n",
              "    </script>\n",
              "  </div>\n",
              "\n",
              "\n",
              "<div id=\"df-9b98f5e1-ffe2-4f8e-a7e2-8fc9b3c3935b\">\n",
              "  <button class=\"colab-df-quickchart\" onclick=\"quickchart('df-9b98f5e1-ffe2-4f8e-a7e2-8fc9b3c3935b')\"\n",
              "            title=\"Suggest charts\"\n",
              "            style=\"display:none;\">\n",
              "\n",
              "<svg xmlns=\"http://www.w3.org/2000/svg\" height=\"24px\"viewBox=\"0 0 24 24\"\n",
              "     width=\"24px\">\n",
              "    <g>\n",
              "        <path d=\"M19 3H5c-1.1 0-2 .9-2 2v14c0 1.1.9 2 2 2h14c1.1 0 2-.9 2-2V5c0-1.1-.9-2-2-2zM9 17H7v-7h2v7zm4 0h-2V7h2v10zm4 0h-2v-4h2v4z\"/>\n",
              "    </g>\n",
              "</svg>\n",
              "  </button>\n",
              "\n",
              "<style>\n",
              "  .colab-df-quickchart {\n",
              "      --bg-color: #E8F0FE;\n",
              "      --fill-color: #1967D2;\n",
              "      --hover-bg-color: #E2EBFA;\n",
              "      --hover-fill-color: #174EA6;\n",
              "      --disabled-fill-color: #AAA;\n",
              "      --disabled-bg-color: #DDD;\n",
              "  }\n",
              "\n",
              "  [theme=dark] .colab-df-quickchart {\n",
              "      --bg-color: #3B4455;\n",
              "      --fill-color: #D2E3FC;\n",
              "      --hover-bg-color: #434B5C;\n",
              "      --hover-fill-color: #FFFFFF;\n",
              "      --disabled-bg-color: #3B4455;\n",
              "      --disabled-fill-color: #666;\n",
              "  }\n",
              "\n",
              "  .colab-df-quickchart {\n",
              "    background-color: var(--bg-color);\n",
              "    border: none;\n",
              "    border-radius: 50%;\n",
              "    cursor: pointer;\n",
              "    display: none;\n",
              "    fill: var(--fill-color);\n",
              "    height: 32px;\n",
              "    padding: 0;\n",
              "    width: 32px;\n",
              "  }\n",
              "\n",
              "  .colab-df-quickchart:hover {\n",
              "    background-color: var(--hover-bg-color);\n",
              "    box-shadow: 0 1px 2px rgba(60, 64, 67, 0.3), 0 1px 3px 1px rgba(60, 64, 67, 0.15);\n",
              "    fill: var(--button-hover-fill-color);\n",
              "  }\n",
              "\n",
              "  .colab-df-quickchart-complete:disabled,\n",
              "  .colab-df-quickchart-complete:disabled:hover {\n",
              "    background-color: var(--disabled-bg-color);\n",
              "    fill: var(--disabled-fill-color);\n",
              "    box-shadow: none;\n",
              "  }\n",
              "\n",
              "  .colab-df-spinner {\n",
              "    border: 2px solid var(--fill-color);\n",
              "    border-color: transparent;\n",
              "    border-bottom-color: var(--fill-color);\n",
              "    animation:\n",
              "      spin 1s steps(1) infinite;\n",
              "  }\n",
              "\n",
              "  @keyframes spin {\n",
              "    0% {\n",
              "      border-color: transparent;\n",
              "      border-bottom-color: var(--fill-color);\n",
              "      border-left-color: var(--fill-color);\n",
              "    }\n",
              "    20% {\n",
              "      border-color: transparent;\n",
              "      border-left-color: var(--fill-color);\n",
              "      border-top-color: var(--fill-color);\n",
              "    }\n",
              "    30% {\n",
              "      border-color: transparent;\n",
              "      border-left-color: var(--fill-color);\n",
              "      border-top-color: var(--fill-color);\n",
              "      border-right-color: var(--fill-color);\n",
              "    }\n",
              "    40% {\n",
              "      border-color: transparent;\n",
              "      border-right-color: var(--fill-color);\n",
              "      border-top-color: var(--fill-color);\n",
              "    }\n",
              "    60% {\n",
              "      border-color: transparent;\n",
              "      border-right-color: var(--fill-color);\n",
              "    }\n",
              "    80% {\n",
              "      border-color: transparent;\n",
              "      border-right-color: var(--fill-color);\n",
              "      border-bottom-color: var(--fill-color);\n",
              "    }\n",
              "    90% {\n",
              "      border-color: transparent;\n",
              "      border-bottom-color: var(--fill-color);\n",
              "    }\n",
              "  }\n",
              "</style>\n",
              "\n",
              "  <script>\n",
              "    async function quickchart(key) {\n",
              "      const quickchartButtonEl =\n",
              "        document.querySelector('#' + key + ' button');\n",
              "      quickchartButtonEl.disabled = true;  // To prevent multiple clicks.\n",
              "      quickchartButtonEl.classList.add('colab-df-spinner');\n",
              "      try {\n",
              "        const charts = await google.colab.kernel.invokeFunction(\n",
              "            'suggestCharts', [key], {});\n",
              "      } catch (error) {\n",
              "        console.error('Error during call to suggestCharts:', error);\n",
              "      }\n",
              "      quickchartButtonEl.classList.remove('colab-df-spinner');\n",
              "      quickchartButtonEl.classList.add('colab-df-quickchart-complete');\n",
              "    }\n",
              "    (() => {\n",
              "      let quickchartButtonEl =\n",
              "        document.querySelector('#df-9b98f5e1-ffe2-4f8e-a7e2-8fc9b3c3935b button');\n",
              "      quickchartButtonEl.style.display =\n",
              "        google.colab.kernel.accessAllowed ? 'block' : 'none';\n",
              "    })();\n",
              "  </script>\n",
              "</div>\n",
              "\n",
              "  <div id=\"id_c4725e2b-bd35-4029-8232-56b48924c38a\">\n",
              "    <style>\n",
              "      .colab-df-generate {\n",
              "        background-color: #E8F0FE;\n",
              "        border: none;\n",
              "        border-radius: 50%;\n",
              "        cursor: pointer;\n",
              "        display: none;\n",
              "        fill: #1967D2;\n",
              "        height: 32px;\n",
              "        padding: 0 0 0 0;\n",
              "        width: 32px;\n",
              "      }\n",
              "\n",
              "      .colab-df-generate:hover {\n",
              "        background-color: #E2EBFA;\n",
              "        box-shadow: 0px 1px 2px rgba(60, 64, 67, 0.3), 0px 1px 3px 1px rgba(60, 64, 67, 0.15);\n",
              "        fill: #174EA6;\n",
              "      }\n",
              "\n",
              "      [theme=dark] .colab-df-generate {\n",
              "        background-color: #3B4455;\n",
              "        fill: #D2E3FC;\n",
              "      }\n",
              "\n",
              "      [theme=dark] .colab-df-generate:hover {\n",
              "        background-color: #434B5C;\n",
              "        box-shadow: 0px 1px 3px 1px rgba(0, 0, 0, 0.15);\n",
              "        filter: drop-shadow(0px 1px 2px rgba(0, 0, 0, 0.3));\n",
              "        fill: #FFFFFF;\n",
              "      }\n",
              "    </style>\n",
              "    <button class=\"colab-df-generate\" onclick=\"generateWithVariable('dataset')\"\n",
              "            title=\"Generate code using this dataframe.\"\n",
              "            style=\"display:none;\">\n",
              "\n",
              "  <svg xmlns=\"http://www.w3.org/2000/svg\" height=\"24px\"viewBox=\"0 0 24 24\"\n",
              "       width=\"24px\">\n",
              "    <path d=\"M7,19H8.4L18.45,9,17,7.55,7,17.6ZM5,21V16.75L18.45,3.32a2,2,0,0,1,2.83,0l1.4,1.43a1.91,1.91,0,0,1,.58,1.4,1.91,1.91,0,0,1-.58,1.4L9.25,21ZM18.45,9,17,7.55Zm-12,3A5.31,5.31,0,0,0,4.9,8.1,5.31,5.31,0,0,0,1,6.5,5.31,5.31,0,0,0,4.9,4.9,5.31,5.31,0,0,0,6.5,1,5.31,5.31,0,0,0,8.1,4.9,5.31,5.31,0,0,0,12,6.5,5.46,5.46,0,0,0,6.5,12Z\"/>\n",
              "  </svg>\n",
              "    </button>\n",
              "    <script>\n",
              "      (() => {\n",
              "      const buttonEl =\n",
              "        document.querySelector('#id_c4725e2b-bd35-4029-8232-56b48924c38a button.colab-df-generate');\n",
              "      buttonEl.style.display =\n",
              "        google.colab.kernel.accessAllowed ? 'block' : 'none';\n",
              "\n",
              "      buttonEl.onclick = () => {\n",
              "        google.colab.notebook.generateWithVariable('dataset');\n",
              "      }\n",
              "      })();\n",
              "    </script>\n",
              "  </div>\n",
              "\n",
              "    </div>\n",
              "  </div>\n"
            ],
            "application/vnd.google.colaboratory.intrinsic+json": {
              "type": "dataframe",
              "variable_name": "dataset",
              "summary": "{\n  \"name\": \"dataset\",\n  \"rows\": 50000,\n  \"fields\": [\n    {\n      \"column\": \"Session_Id\",\n      \"properties\": {\n        \"dtype\": \"number\",\n        \"std\": 1282026,\n        \"min\": 61,\n        \"max\": 4439966,\n        \"num_unique_values\": 50000,\n        \"samples\": [\n          2971690,\n          836475,\n          16743\n        ],\n        \"semantic_type\": \"\",\n        \"description\": \"\"\n      }\n    },\n    {\n      \"column\": \"predictions\",\n      \"properties\": {\n        \"dtype\": \"object\",\n        \"semantic_type\": \"\",\n        \"description\": \"\"\n      }\n    },\n    {\n      \"column\": \"rank\",\n      \"properties\": {\n        \"dtype\": \"category\",\n        \"num_unique_values\": 1,\n        \"samples\": [\n          [\n            1,\n            2,\n            3,\n            4,\n            5,\n            6,\n            7,\n            8,\n            9,\n            10,\n            11,\n            12,\n            13,\n            14,\n            15,\n            16,\n            17,\n            18,\n            19,\n            20,\n            21,\n            22,\n            23,\n            24,\n            25,\n            26,\n            27,\n            28,\n            29,\n            30,\n            31,\n            32,\n            33,\n            34,\n            35,\n            36,\n            37,\n            38,\n            39,\n            40,\n            41,\n            42,\n            43,\n            44,\n            45,\n            46,\n            47,\n            48,\n            49,\n            50,\n            51,\n            52,\n            53,\n            54,\n            55,\n            56,\n            57,\n            58,\n            59,\n            60,\n            61,\n            62,\n            63,\n            64,\n            65,\n            66,\n            67,\n            68,\n            69,\n            70,\n            71,\n            72,\n            73,\n            74,\n            75,\n            76,\n            77,\n            78,\n            79,\n            80,\n            81,\n            82,\n            83,\n            84,\n            85,\n            86,\n            87,\n            88,\n            89,\n            90,\n            91,\n            92,\n            93,\n            94,\n            95,\n            96,\n            97,\n            98,\n            99,\n            100\n          ]\n        ],\n        \"semantic_type\": \"\",\n        \"description\": \"\"\n      }\n    }\n  ]\n}"
            }
          },
          "metadata": {},
          "execution_count": 40
        }
      ],
      "source": [
        "dataset"
      ]
    },
    {
      "cell_type": "code",
      "execution_count": null,
      "id": "19e4beee",
      "metadata": {
        "execution": {
          "iopub.execute_input": "2022-06-12T16:59:29.297882Z",
          "iopub.status.busy": "2022-06-12T16:59:28.699621Z",
          "iopub.status.idle": "2022-06-12T16:59:29.318844Z",
          "shell.execute_reply": "2022-06-12T16:59:29.318122Z",
          "shell.execute_reply.started": "2022-06-12T16:45:45.138354Z"
        },
        "papermill": {
          "duration": 0.683005,
          "end_time": "2022-06-12T16:59:29.319000",
          "exception": false,
          "start_time": "2022-06-12T16:59:28.635995",
          "status": "completed"
        },
        "tags": [],
        "id": "19e4beee"
      },
      "outputs": [],
      "source": [
        "dataset[\"predictions\"]=dataset[\"predictions\"].apply(tuple)"
      ]
    },
    {
      "cell_type": "code",
      "execution_count": null,
      "id": "a2d2299a",
      "metadata": {
        "execution": {
          "iopub.execute_input": "2022-06-12T16:59:29.566072Z",
          "iopub.status.busy": "2022-06-12T16:59:29.565390Z",
          "iopub.status.idle": "2022-06-12T16:59:29.569173Z",
          "shell.execute_reply": "2022-06-12T16:59:29.568574Z",
          "shell.execute_reply.started": "2022-06-12T16:45:45.139710Z"
        },
        "papermill": {
          "duration": 0.07339,
          "end_time": "2022-06-12T16:59:29.569313",
          "exception": false,
          "start_time": "2022-06-12T16:59:29.495923",
          "status": "completed"
        },
        "tags": [],
        "id": "a2d2299a"
      },
      "outputs": [],
      "source": [
        "dataset=dataset[[\"Session_Id\",\"predictions\",\"rank\"]]"
      ]
    },
    {
      "cell_type": "code",
      "execution_count": null,
      "id": "1facb193",
      "metadata": {
        "execution": {
          "iopub.execute_input": "2022-06-12T16:59:29.692489Z",
          "iopub.status.busy": "2022-06-12T16:59:29.691886Z",
          "iopub.status.idle": "2022-06-12T16:59:29.693584Z",
          "shell.execute_reply": "2022-06-12T16:59:29.694079Z",
          "shell.execute_reply.started": "2022-06-12T16:45:45.140957Z"
        },
        "papermill": {
          "duration": 0.06533,
          "end_time": "2022-06-12T16:59:29.694238",
          "exception": false,
          "start_time": "2022-06-12T16:59:29.628908",
          "status": "completed"
        },
        "tags": [],
        "id": "1facb193"
      },
      "outputs": [],
      "source": [
        "dataset.columns=[\"session_id\",\"code\",\"rank\"]"
      ]
    },
    {
      "cell_type": "code",
      "execution_count": null,
      "id": "ccdf1f46",
      "metadata": {
        "execution": {
          "iopub.execute_input": "2022-06-12T16:59:29.818440Z",
          "iopub.status.busy": "2022-06-12T16:59:29.817800Z",
          "iopub.status.idle": "2022-06-12T16:59:29.836686Z",
          "shell.execute_reply": "2022-06-12T16:59:29.837270Z",
          "shell.execute_reply.started": "2022-06-12T16:45:45.142920Z"
        },
        "papermill": {
          "duration": 0.083812,
          "end_time": "2022-06-12T16:59:29.837436",
          "exception": false,
          "start_time": "2022-06-12T16:59:29.753624",
          "status": "completed"
        },
        "tags": [],
        "colab": {
          "base_uri": "https://localhost:8080/",
          "height": 206
        },
        "id": "ccdf1f46",
        "outputId": "a931bea7-474e-4df8-b988-8084cc224a60"
      },
      "outputs": [
        {
          "output_type": "execute_result",
          "data": {
            "text/plain": [
              "   session_id                                               code  \\\n",
              "0          61  (1045, 292, 3586, 1563, 4574, 3904, 3414, 3251...   \n",
              "1          96  (3564, 3778, 3705, 3303, 4148, 1183, 4591, 168...   \n",
              "2         185  (4148, 4146, 2704, 1936, 2330, 3326, 3827, 293...   \n",
              "3         224  (4202, 3338, 2769, 16, 2448, 4990, 1245, 3343,...   \n",
              "4         285  (3691, 3555, 2970, 3441, 2899, 2471, 3599, 226...   \n",
              "\n",
              "                                                rank  \n",
              "0  (1, 2, 3, 4, 5, 6, 7, 8, 9, 10, 11, 12, 13, 14...  \n",
              "1  (1, 2, 3, 4, 5, 6, 7, 8, 9, 10, 11, 12, 13, 14...  \n",
              "2  (1, 2, 3, 4, 5, 6, 7, 8, 9, 10, 11, 12, 13, 14...  \n",
              "3  (1, 2, 3, 4, 5, 6, 7, 8, 9, 10, 11, 12, 13, 14...  \n",
              "4  (1, 2, 3, 4, 5, 6, 7, 8, 9, 10, 11, 12, 13, 14...  "
            ],
            "text/html": [
              "\n",
              "  <div id=\"df-dceb2d45-25ef-4918-9e88-1160eaded08b\" class=\"colab-df-container\">\n",
              "    <div>\n",
              "<style scoped>\n",
              "    .dataframe tbody tr th:only-of-type {\n",
              "        vertical-align: middle;\n",
              "    }\n",
              "\n",
              "    .dataframe tbody tr th {\n",
              "        vertical-align: top;\n",
              "    }\n",
              "\n",
              "    .dataframe thead th {\n",
              "        text-align: right;\n",
              "    }\n",
              "</style>\n",
              "<table border=\"1\" class=\"dataframe\">\n",
              "  <thead>\n",
              "    <tr style=\"text-align: right;\">\n",
              "      <th></th>\n",
              "      <th>session_id</th>\n",
              "      <th>code</th>\n",
              "      <th>rank</th>\n",
              "    </tr>\n",
              "  </thead>\n",
              "  <tbody>\n",
              "    <tr>\n",
              "      <th>0</th>\n",
              "      <td>61</td>\n",
              "      <td>(1045, 292, 3586, 1563, 4574, 3904, 3414, 3251...</td>\n",
              "      <td>(1, 2, 3, 4, 5, 6, 7, 8, 9, 10, 11, 12, 13, 14...</td>\n",
              "    </tr>\n",
              "    <tr>\n",
              "      <th>1</th>\n",
              "      <td>96</td>\n",
              "      <td>(3564, 3778, 3705, 3303, 4148, 1183, 4591, 168...</td>\n",
              "      <td>(1, 2, 3, 4, 5, 6, 7, 8, 9, 10, 11, 12, 13, 14...</td>\n",
              "    </tr>\n",
              "    <tr>\n",
              "      <th>2</th>\n",
              "      <td>185</td>\n",
              "      <td>(4148, 4146, 2704, 1936, 2330, 3326, 3827, 293...</td>\n",
              "      <td>(1, 2, 3, 4, 5, 6, 7, 8, 9, 10, 11, 12, 13, 14...</td>\n",
              "    </tr>\n",
              "    <tr>\n",
              "      <th>3</th>\n",
              "      <td>224</td>\n",
              "      <td>(4202, 3338, 2769, 16, 2448, 4990, 1245, 3343,...</td>\n",
              "      <td>(1, 2, 3, 4, 5, 6, 7, 8, 9, 10, 11, 12, 13, 14...</td>\n",
              "    </tr>\n",
              "    <tr>\n",
              "      <th>4</th>\n",
              "      <td>285</td>\n",
              "      <td>(3691, 3555, 2970, 3441, 2899, 2471, 3599, 226...</td>\n",
              "      <td>(1, 2, 3, 4, 5, 6, 7, 8, 9, 10, 11, 12, 13, 14...</td>\n",
              "    </tr>\n",
              "  </tbody>\n",
              "</table>\n",
              "</div>\n",
              "    <div class=\"colab-df-buttons\">\n",
              "\n",
              "  <div class=\"colab-df-container\">\n",
              "    <button class=\"colab-df-convert\" onclick=\"convertToInteractive('df-dceb2d45-25ef-4918-9e88-1160eaded08b')\"\n",
              "            title=\"Convert this dataframe to an interactive table.\"\n",
              "            style=\"display:none;\">\n",
              "\n",
              "  <svg xmlns=\"http://www.w3.org/2000/svg\" height=\"24px\" viewBox=\"0 -960 960 960\">\n",
              "    <path d=\"M120-120v-720h720v720H120Zm60-500h600v-160H180v160Zm220 220h160v-160H400v160Zm0 220h160v-160H400v160ZM180-400h160v-160H180v160Zm440 0h160v-160H620v160ZM180-180h160v-160H180v160Zm440 0h160v-160H620v160Z\"/>\n",
              "  </svg>\n",
              "    </button>\n",
              "\n",
              "  <style>\n",
              "    .colab-df-container {\n",
              "      display:flex;\n",
              "      gap: 12px;\n",
              "    }\n",
              "\n",
              "    .colab-df-convert {\n",
              "      background-color: #E8F0FE;\n",
              "      border: none;\n",
              "      border-radius: 50%;\n",
              "      cursor: pointer;\n",
              "      display: none;\n",
              "      fill: #1967D2;\n",
              "      height: 32px;\n",
              "      padding: 0 0 0 0;\n",
              "      width: 32px;\n",
              "    }\n",
              "\n",
              "    .colab-df-convert:hover {\n",
              "      background-color: #E2EBFA;\n",
              "      box-shadow: 0px 1px 2px rgba(60, 64, 67, 0.3), 0px 1px 3px 1px rgba(60, 64, 67, 0.15);\n",
              "      fill: #174EA6;\n",
              "    }\n",
              "\n",
              "    .colab-df-buttons div {\n",
              "      margin-bottom: 4px;\n",
              "    }\n",
              "\n",
              "    [theme=dark] .colab-df-convert {\n",
              "      background-color: #3B4455;\n",
              "      fill: #D2E3FC;\n",
              "    }\n",
              "\n",
              "    [theme=dark] .colab-df-convert:hover {\n",
              "      background-color: #434B5C;\n",
              "      box-shadow: 0px 1px 3px 1px rgba(0, 0, 0, 0.15);\n",
              "      filter: drop-shadow(0px 1px 2px rgba(0, 0, 0, 0.3));\n",
              "      fill: #FFFFFF;\n",
              "    }\n",
              "  </style>\n",
              "\n",
              "    <script>\n",
              "      const buttonEl =\n",
              "        document.querySelector('#df-dceb2d45-25ef-4918-9e88-1160eaded08b button.colab-df-convert');\n",
              "      buttonEl.style.display =\n",
              "        google.colab.kernel.accessAllowed ? 'block' : 'none';\n",
              "\n",
              "      async function convertToInteractive(key) {\n",
              "        const element = document.querySelector('#df-dceb2d45-25ef-4918-9e88-1160eaded08b');\n",
              "        const dataTable =\n",
              "          await google.colab.kernel.invokeFunction('convertToInteractive',\n",
              "                                                    [key], {});\n",
              "        if (!dataTable) return;\n",
              "\n",
              "        const docLinkHtml = 'Like what you see? Visit the ' +\n",
              "          '<a target=\"_blank\" href=https://colab.research.google.com/notebooks/data_table.ipynb>data table notebook</a>'\n",
              "          + ' to learn more about interactive tables.';\n",
              "        element.innerHTML = '';\n",
              "        dataTable['output_type'] = 'display_data';\n",
              "        await google.colab.output.renderOutput(dataTable, element);\n",
              "        const docLink = document.createElement('div');\n",
              "        docLink.innerHTML = docLinkHtml;\n",
              "        element.appendChild(docLink);\n",
              "      }\n",
              "    </script>\n",
              "  </div>\n",
              "\n",
              "\n",
              "<div id=\"df-29841306-36cb-4676-88fa-911ac1115195\">\n",
              "  <button class=\"colab-df-quickchart\" onclick=\"quickchart('df-29841306-36cb-4676-88fa-911ac1115195')\"\n",
              "            title=\"Suggest charts\"\n",
              "            style=\"display:none;\">\n",
              "\n",
              "<svg xmlns=\"http://www.w3.org/2000/svg\" height=\"24px\"viewBox=\"0 0 24 24\"\n",
              "     width=\"24px\">\n",
              "    <g>\n",
              "        <path d=\"M19 3H5c-1.1 0-2 .9-2 2v14c0 1.1.9 2 2 2h14c1.1 0 2-.9 2-2V5c0-1.1-.9-2-2-2zM9 17H7v-7h2v7zm4 0h-2V7h2v10zm4 0h-2v-4h2v4z\"/>\n",
              "    </g>\n",
              "</svg>\n",
              "  </button>\n",
              "\n",
              "<style>\n",
              "  .colab-df-quickchart {\n",
              "      --bg-color: #E8F0FE;\n",
              "      --fill-color: #1967D2;\n",
              "      --hover-bg-color: #E2EBFA;\n",
              "      --hover-fill-color: #174EA6;\n",
              "      --disabled-fill-color: #AAA;\n",
              "      --disabled-bg-color: #DDD;\n",
              "  }\n",
              "\n",
              "  [theme=dark] .colab-df-quickchart {\n",
              "      --bg-color: #3B4455;\n",
              "      --fill-color: #D2E3FC;\n",
              "      --hover-bg-color: #434B5C;\n",
              "      --hover-fill-color: #FFFFFF;\n",
              "      --disabled-bg-color: #3B4455;\n",
              "      --disabled-fill-color: #666;\n",
              "  }\n",
              "\n",
              "  .colab-df-quickchart {\n",
              "    background-color: var(--bg-color);\n",
              "    border: none;\n",
              "    border-radius: 50%;\n",
              "    cursor: pointer;\n",
              "    display: none;\n",
              "    fill: var(--fill-color);\n",
              "    height: 32px;\n",
              "    padding: 0;\n",
              "    width: 32px;\n",
              "  }\n",
              "\n",
              "  .colab-df-quickchart:hover {\n",
              "    background-color: var(--hover-bg-color);\n",
              "    box-shadow: 0 1px 2px rgba(60, 64, 67, 0.3), 0 1px 3px 1px rgba(60, 64, 67, 0.15);\n",
              "    fill: var(--button-hover-fill-color);\n",
              "  }\n",
              "\n",
              "  .colab-df-quickchart-complete:disabled,\n",
              "  .colab-df-quickchart-complete:disabled:hover {\n",
              "    background-color: var(--disabled-bg-color);\n",
              "    fill: var(--disabled-fill-color);\n",
              "    box-shadow: none;\n",
              "  }\n",
              "\n",
              "  .colab-df-spinner {\n",
              "    border: 2px solid var(--fill-color);\n",
              "    border-color: transparent;\n",
              "    border-bottom-color: var(--fill-color);\n",
              "    animation:\n",
              "      spin 1s steps(1) infinite;\n",
              "  }\n",
              "\n",
              "  @keyframes spin {\n",
              "    0% {\n",
              "      border-color: transparent;\n",
              "      border-bottom-color: var(--fill-color);\n",
              "      border-left-color: var(--fill-color);\n",
              "    }\n",
              "    20% {\n",
              "      border-color: transparent;\n",
              "      border-left-color: var(--fill-color);\n",
              "      border-top-color: var(--fill-color);\n",
              "    }\n",
              "    30% {\n",
              "      border-color: transparent;\n",
              "      border-left-color: var(--fill-color);\n",
              "      border-top-color: var(--fill-color);\n",
              "      border-right-color: var(--fill-color);\n",
              "    }\n",
              "    40% {\n",
              "      border-color: transparent;\n",
              "      border-right-color: var(--fill-color);\n",
              "      border-top-color: var(--fill-color);\n",
              "    }\n",
              "    60% {\n",
              "      border-color: transparent;\n",
              "      border-right-color: var(--fill-color);\n",
              "    }\n",
              "    80% {\n",
              "      border-color: transparent;\n",
              "      border-right-color: var(--fill-color);\n",
              "      border-bottom-color: var(--fill-color);\n",
              "    }\n",
              "    90% {\n",
              "      border-color: transparent;\n",
              "      border-bottom-color: var(--fill-color);\n",
              "    }\n",
              "  }\n",
              "</style>\n",
              "\n",
              "  <script>\n",
              "    async function quickchart(key) {\n",
              "      const quickchartButtonEl =\n",
              "        document.querySelector('#' + key + ' button');\n",
              "      quickchartButtonEl.disabled = true;  // To prevent multiple clicks.\n",
              "      quickchartButtonEl.classList.add('colab-df-spinner');\n",
              "      try {\n",
              "        const charts = await google.colab.kernel.invokeFunction(\n",
              "            'suggestCharts', [key], {});\n",
              "      } catch (error) {\n",
              "        console.error('Error during call to suggestCharts:', error);\n",
              "      }\n",
              "      quickchartButtonEl.classList.remove('colab-df-spinner');\n",
              "      quickchartButtonEl.classList.add('colab-df-quickchart-complete');\n",
              "    }\n",
              "    (() => {\n",
              "      let quickchartButtonEl =\n",
              "        document.querySelector('#df-29841306-36cb-4676-88fa-911ac1115195 button');\n",
              "      quickchartButtonEl.style.display =\n",
              "        google.colab.kernel.accessAllowed ? 'block' : 'none';\n",
              "    })();\n",
              "  </script>\n",
              "</div>\n",
              "\n",
              "    </div>\n",
              "  </div>\n"
            ],
            "application/vnd.google.colaboratory.intrinsic+json": {
              "type": "dataframe",
              "variable_name": "dataset",
              "summary": "{\n  \"name\": \"dataset\",\n  \"rows\": 50000,\n  \"fields\": [\n    {\n      \"column\": \"session_id\",\n      \"properties\": {\n        \"dtype\": \"number\",\n        \"std\": 1282026,\n        \"min\": 61,\n        \"max\": 4439966,\n        \"num_unique_values\": 50000,\n        \"samples\": [\n          2971690,\n          836475,\n          16743\n        ],\n        \"semantic_type\": \"\",\n        \"description\": \"\"\n      }\n    },\n    {\n      \"column\": \"code\",\n      \"properties\": {\n        \"dtype\": \"string\",\n        \"num_unique_values\": 49963,\n        \"samples\": [\n          [\n            \"4889\",\n            \"1369\",\n            \"3441\",\n            \"3018\",\n            \"3418\",\n            \"1070\",\n            \"1900\",\n            \"3555\",\n            \"3691\",\n            \"2662\",\n            \"2471\",\n            \"1424\",\n            \"3907\",\n            \"3586\",\n            \"1608\",\n            \"4220\",\n            \"4027\",\n            \"1890\",\n            \"2614\",\n            \"1407\",\n            \"2334\",\n            \"3065\",\n            \"2967\",\n            \"4436\",\n            \"1420\",\n            \"2498\",\n            \"2309\",\n            \"2458\",\n            \"2953\",\n            \"2502\",\n            \"2568\",\n            \"410\",\n            \"750\",\n            \"3892\",\n            \"416\",\n            \"4886\",\n            \"564\",\n            \"2020\",\n            \"583\",\n            \"1290\",\n            \"1052\",\n            \"3049\",\n            \"2179\",\n            \"4637\",\n            \"1032\",\n            \"4590\",\n            \"3533\",\n            \"2555\",\n            \"2699\",\n            \"1165\",\n            \"149\",\n            \"4734\",\n            \"89\",\n            \"4574\",\n            \"4725\",\n            \"3290\",\n            \"4806\",\n            \"1628\",\n            \"3108\",\n            \"2594\",\n            \"2477\",\n            \"2131\",\n            \"143\",\n            \"4981\",\n            \"4242\",\n            \"4655\",\n            \"3309\",\n            \"258\",\n            \"136\",\n            \"4785\",\n            \"3645\",\n            \"2461\",\n            \"840\",\n            \"3173\",\n            \"837\",\n            \"4972\",\n            \"884\",\n            \"4473\",\n            \"709\",\n            \"1688\",\n            \"1510\",\n            \"2748\",\n            \"2926\",\n            \"364\",\n            \"4780\",\n            \"4944\",\n            \"2490\",\n            \"2839\",\n            \"1136\",\n            \"2092\",\n            \"295\",\n            \"931\",\n            \"3844\",\n            \"3583\",\n            \"3172\",\n            \"3837\",\n            \"4140\",\n            \"377\",\n            \"1367\",\n            \"4031\"\n          ],\n          [\n            \"4846\",\n            \"2180\",\n            \"360\",\n            \"3665\",\n            \"3531\",\n            \"2924\",\n            \"2320\",\n            \"517\",\n            \"1898\",\n            \"989\",\n            \"2266\",\n            \"2638\",\n            \"4573\",\n            \"1970\",\n            \"503\",\n            \"4560\",\n            \"625\",\n            \"1454\",\n            \"4312\",\n            \"3821\",\n            \"1741\",\n            \"2431\",\n            \"3221\",\n            \"1824\",\n            \"10\",\n            \"1449\",\n            \"1632\",\n            \"1349\",\n            \"4240\",\n            \"3004\",\n            \"351\",\n            \"2956\",\n            \"3229\",\n            \"4322\",\n            \"4425\",\n            \"4423\",\n            \"2661\",\n            \"2596\",\n            \"2116\",\n            \"4779\",\n            \"530\",\n            \"2574\",\n            \"323\",\n            \"1271\",\n            \"1015\",\n            \"2891\",\n            \"4661\",\n            \"740\",\n            \"4652\",\n            \"3651\",\n            \"3264\",\n            \"2448\",\n            \"1468\",\n            \"3130\",\n            \"2629\",\n            \"3524\",\n            \"3208\",\n            \"3487\",\n            \"4714\",\n            \"2702\",\n            \"1254\",\n            \"4902\",\n            \"285\",\n            \"134\",\n            \"294\",\n            \"2835\",\n            \"4238\",\n            \"439\",\n            \"2814\",\n            \"3546\",\n            \"2577\",\n            \"1422\",\n            \"4411\",\n            \"2546\",\n            \"3085\",\n            \"200\",\n            \"19\",\n            \"3231\",\n            \"2696\",\n            \"4982\",\n            \"1888\",\n            \"2482\",\n            \"3526\",\n            \"36\",\n            \"2409\",\n            \"2088\",\n            \"3737\",\n            \"972\",\n            \"1192\",\n            \"2463\",\n            \"108\",\n            \"3566\",\n            \"1453\",\n            \"791\",\n            \"2763\",\n            \"1609\",\n            \"4177\",\n            \"3194\",\n            \"2048\",\n            \"1157\"\n          ],\n          [\n            \"1400\",\n            \"3344\",\n            \"4618\",\n            \"1459\",\n            \"3118\",\n            \"4369\",\n            \"2472\",\n            \"1053\",\n            \"2198\",\n            \"662\",\n            \"2392\",\n            \"3592\",\n            \"1745\",\n            \"1502\",\n            \"1728\",\n            \"3803\",\n            \"4879\",\n            \"4842\",\n            \"4792\",\n            \"682\",\n            \"466\",\n            \"4206\",\n            \"4786\",\n            \"1660\",\n            \"3818\",\n            \"2221\",\n            \"2379\",\n            \"3638\",\n            \"3087\",\n            \"1609\",\n            \"2242\",\n            \"1429\",\n            \"3685\",\n            \"823\",\n            \"1470\",\n            \"428\",\n            \"4523\",\n            \"2767\",\n            \"65\",\n            \"2149\",\n            \"1317\",\n            \"3981\",\n            \"4705\",\n            \"2398\",\n            \"1945\",\n            \"2000\",\n            \"1469\",\n            \"87\",\n            \"808\",\n            \"77\",\n            \"3858\",\n            \"1285\",\n            \"3804\",\n            \"2815\",\n            \"2401\",\n            \"3398\",\n            \"2205\",\n            \"4053\",\n            \"4244\",\n            \"2529\",\n            \"2689\",\n            \"4979\",\n            \"2434\",\n            \"4918\",\n            \"955\",\n            \"4123\",\n            \"3224\",\n            \"4217\",\n            \"2055\",\n            \"3921\",\n            \"3043\",\n            \"2744\",\n            \"2567\",\n            \"474\",\n            \"3935\",\n            \"4474\",\n            \"4049\",\n            \"206\",\n            \"73\",\n            \"192\",\n            \"4505\",\n            \"2578\",\n            \"698\",\n            \"2927\",\n            \"1133\",\n            \"2235\",\n            \"3793\",\n            \"4376\",\n            \"4888\",\n            \"4261\",\n            \"296\",\n            \"3702\",\n            \"2880\",\n            \"3929\",\n            \"3784\",\n            \"1521\",\n            \"579\",\n            \"1396\",\n            \"173\",\n            \"1249\"\n          ]\n        ],\n        \"semantic_type\": \"\",\n        \"description\": \"\"\n      }\n    },\n    {\n      \"column\": \"rank\",\n      \"properties\": {\n        \"dtype\": \"category\",\n        \"num_unique_values\": 1,\n        \"samples\": [\n          [\n            1,\n            2,\n            3,\n            4,\n            5,\n            6,\n            7,\n            8,\n            9,\n            10,\n            11,\n            12,\n            13,\n            14,\n            15,\n            16,\n            17,\n            18,\n            19,\n            20,\n            21,\n            22,\n            23,\n            24,\n            25,\n            26,\n            27,\n            28,\n            29,\n            30,\n            31,\n            32,\n            33,\n            34,\n            35,\n            36,\n            37,\n            38,\n            39,\n            40,\n            41,\n            42,\n            43,\n            44,\n            45,\n            46,\n            47,\n            48,\n            49,\n            50,\n            51,\n            52,\n            53,\n            54,\n            55,\n            56,\n            57,\n            58,\n            59,\n            60,\n            61,\n            62,\n            63,\n            64,\n            65,\n            66,\n            67,\n            68,\n            69,\n            70,\n            71,\n            72,\n            73,\n            74,\n            75,\n            76,\n            77,\n            78,\n            79,\n            80,\n            81,\n            82,\n            83,\n            84,\n            85,\n            86,\n            87,\n            88,\n            89,\n            90,\n            91,\n            92,\n            93,\n            94,\n            95,\n            96,\n            97,\n            98,\n            99,\n            100\n          ]\n        ],\n        \"semantic_type\": \"\",\n        \"description\": \"\"\n      }\n    }\n  ]\n}"
            }
          },
          "metadata": {},
          "execution_count": 44
        }
      ],
      "source": [
        "dataset.head()"
      ]
    },
    {
      "cell_type": "code",
      "execution_count": null,
      "id": "e4258770",
      "metadata": {
        "execution": {
          "iopub.execute_input": "2022-06-12T16:59:29.959846Z",
          "iopub.status.busy": "2022-06-12T16:59:29.959193Z",
          "iopub.status.idle": "2022-06-12T16:59:31.262009Z",
          "shell.execute_reply": "2022-06-12T16:59:31.261435Z",
          "shell.execute_reply.started": "2022-06-12T16:45:45.143967Z"
        },
        "papermill": {
          "duration": 1.365591,
          "end_time": "2022-06-12T16:59:31.262162",
          "exception": false,
          "start_time": "2022-06-12T16:59:29.896571",
          "status": "completed"
        },
        "tags": [],
        "id": "e4258770"
      },
      "outputs": [],
      "source": [
        "submission_df = dataset.explode(['code', 'rank']).astype(int)"
      ]
    },
    {
      "cell_type": "code",
      "execution_count": null,
      "id": "f5243792",
      "metadata": {
        "execution": {
          "iopub.execute_input": "2022-06-12T16:59:31.384565Z",
          "iopub.status.busy": "2022-06-12T16:59:31.383947Z",
          "iopub.status.idle": "2022-06-12T16:59:32.135657Z",
          "shell.execute_reply": "2022-06-12T16:59:32.136208Z",
          "shell.execute_reply.started": "2022-06-12T16:45:45.145692Z"
        },
        "papermill": {
          "duration": 0.814342,
          "end_time": "2022-06-12T16:59:32.136382",
          "exception": false,
          "start_time": "2022-06-12T16:59:31.322040",
          "status": "completed"
        },
        "tags": [],
        "id": "f5243792"
      },
      "outputs": [],
      "source": [
        "mapping= pd.read_csv('./drive/MyDrive/Recommendation_system/dataset/processed_data/map.csv')\n",
        "submission_df=submission_df.merge(mapping,on=\"code\",how=\"left\")\n",
        "del submission_df[\"code\"]\n",
        "submission_df=submission_df[[\"session_id\",\"item_id\",\"rank\"]]"
      ]
    },
    {
      "cell_type": "code",
      "execution_count": null,
      "id": "3939ba35",
      "metadata": {
        "execution": {
          "iopub.execute_input": "2022-06-12T16:59:32.259233Z",
          "iopub.status.busy": "2022-06-12T16:59:32.258552Z",
          "iopub.status.idle": "2022-06-12T16:59:32.263516Z",
          "shell.execute_reply": "2022-06-12T16:59:32.264314Z",
          "shell.execute_reply.started": "2022-06-12T16:45:45.147116Z"
        },
        "papermill": {
          "duration": 0.067899,
          "end_time": "2022-06-12T16:59:32.264542",
          "exception": false,
          "start_time": "2022-06-12T16:59:32.196643",
          "status": "completed"
        },
        "tags": [],
        "colab": {
          "base_uri": "https://localhost:8080/"
        },
        "id": "3939ba35",
        "outputId": "017a7f1f-910f-47fb-f9a5-e549f6416a2f"
      },
      "outputs": [
        {
          "output_type": "stream",
          "name": "stdout",
          "text": [
            "5000000\n"
          ]
        }
      ],
      "source": [
        "print(len(submission_df))"
      ]
    },
    {
      "cell_type": "code",
      "execution_count": null,
      "id": "d9cf15d2",
      "metadata": {
        "execution": {
          "iopub.execute_input": "2022-06-12T16:59:32.403243Z",
          "iopub.status.busy": "2022-06-12T16:59:32.402496Z",
          "iopub.status.idle": "2022-06-12T16:59:32.406343Z",
          "shell.execute_reply": "2022-06-12T16:59:32.406969Z",
          "shell.execute_reply.started": "2022-06-12T16:45:45.149050Z"
        },
        "papermill": {
          "duration": 0.077344,
          "end_time": "2022-06-12T16:59:32.407149",
          "exception": false,
          "start_time": "2022-06-12T16:59:32.329805",
          "status": "completed"
        },
        "tags": [],
        "colab": {
          "base_uri": "https://localhost:8080/"
        },
        "id": "d9cf15d2",
        "outputId": "2288b945-9d37-4fe3-91a5-10b4c64f0c7f"
      },
      "outputs": [
        {
          "output_type": "stream",
          "name": "stdout",
          "text": [
            "<class 'pandas.core.frame.DataFrame'>\n",
            "Int64Index: 5000000 entries, 0 to 4999999\n",
            "Data columns (total 3 columns):\n",
            " #   Column      Dtype\n",
            "---  ------      -----\n",
            " 0   session_id  int64\n",
            " 1   item_id     int64\n",
            " 2   rank        int64\n",
            "dtypes: int64(3)\n",
            "memory usage: 152.6 MB\n"
          ]
        }
      ],
      "source": [
        "submission_df.info()"
      ]
    },
    {
      "cell_type": "code",
      "execution_count": null,
      "id": "a4bd6fea",
      "metadata": {
        "execution": {
          "iopub.execute_input": "2022-06-12T16:59:32.536003Z",
          "iopub.status.busy": "2022-06-12T16:59:32.534855Z",
          "iopub.status.idle": "2022-06-12T16:59:32.559106Z",
          "shell.execute_reply": "2022-06-12T16:59:32.559544Z",
          "shell.execute_reply.started": "2022-06-12T16:45:45.150576Z"
        },
        "papermill": {
          "duration": 0.091514,
          "end_time": "2022-06-12T16:59:32.559757",
          "exception": false,
          "start_time": "2022-06-12T16:59:32.468243",
          "status": "completed"
        },
        "tags": [],
        "colab": {
          "base_uri": "https://localhost:8080/"
        },
        "id": "a4bd6fea",
        "outputId": "f18d61f4-be36-4884-f031-9336b9d7c50b"
      },
      "outputs": [
        {
          "output_type": "execute_result",
          "data": {
            "text/plain": [
              "session_id    0\n",
              "item_id       0\n",
              "rank          0\n",
              "dtype: int64"
            ]
          },
          "metadata": {},
          "execution_count": 49
        }
      ],
      "source": [
        "submission_df.isna().sum()"
      ]
    },
    {
      "cell_type": "code",
      "execution_count": null,
      "id": "4381eeb6",
      "metadata": {
        "execution": {
          "iopub.execute_input": "2022-06-12T16:59:32.685486Z",
          "iopub.status.busy": "2022-06-12T16:59:32.683790Z",
          "iopub.status.idle": "2022-06-12T16:59:43.267171Z",
          "shell.execute_reply": "2022-06-12T16:59:43.266441Z",
          "shell.execute_reply.started": "2022-06-12T16:45:45.152156Z"
        },
        "papermill": {
          "duration": 10.646249,
          "end_time": "2022-06-12T16:59:43.267327",
          "exception": false,
          "start_time": "2022-06-12T16:59:32.621078",
          "status": "completed"
        },
        "tags": [],
        "id": "4381eeb6"
      },
      "outputs": [],
      "source": [
        "submission_df.to_csv(\n",
        "    f'./drive/MyDrive/Recommendation_system/rankers/xgboost/all_traditional_and_lstm/final/final_sub.csv',\n",
        "    index=False\n",
        "    )"
      ]
    }
  ],
  "metadata": {
    "kernelspec": {
      "display_name": "Python 3",
      "name": "python3"
    },
    "language_info": {
      "codemirror_mode": {
        "name": "ipython",
        "version": 3
      },
      "file_extension": ".py",
      "mimetype": "text/x-python",
      "name": "python",
      "nbconvert_exporter": "python",
      "pygments_lexer": "ipython3",
      "version": "3.7.13"
    },
    "papermill": {
      "default_parameters": {},
      "duration": 355.611026,
      "end_time": "2022-06-12T16:59:44.340713",
      "environment_variables": {},
      "exception": null,
      "input_path": "__notebook__.ipynb",
      "output_path": "__notebook__.ipynb",
      "parameters": {},
      "start_time": "2022-06-12T16:53:48.729687",
      "version": "2.3.3"
    },
    "vscode": {
      "interpreter": {
        "hash": "61f38fddaed46afda7c40a5798d4631266e18af1d335aa6f772dc3ed9b8ab549"
      }
    },
    "colab": {
      "provenance": [],
      "machine_shape": "hm"
    }
  },
  "nbformat": 4,
  "nbformat_minor": 5
}