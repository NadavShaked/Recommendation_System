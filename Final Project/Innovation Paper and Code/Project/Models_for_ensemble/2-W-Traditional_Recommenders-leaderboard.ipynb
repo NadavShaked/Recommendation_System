{
 "cells": [
  {
   "cell_type": "code",
   "execution_count": 1,
   "outputs": [],
   "source": [
    "just_checking_integrity=False\n",
    "boundary=980000\n",
    "boundary_after=-45000"
   ],
   "metadata": {
    "collapsed": false,
    "ExecuteTime": {
     "end_time": "2024-02-20T13:32:39.728105Z",
     "start_time": "2024-02-20T13:32:39.723142Z"
    }
   }
  },
  {
   "cell_type": "code",
   "execution_count": 2,
   "outputs": [],
   "source": [
    "import sys\n",
    "sys.path.append(\"./RecSys_Course_AT_PoliMi\")"
   ],
   "metadata": {
    "collapsed": false,
    "ExecuteTime": {
     "end_time": "2024-02-20T13:32:40.585918Z",
     "start_time": "2024-02-20T13:32:40.569875Z"
    }
   }
  },
  {
   "cell_type": "code",
   "execution_count": 3,
   "metadata": {
    "_cell_guid": "b1076dfc-b9ad-4769-8c92-a6c4dae69d19",
    "_uuid": "8f2839f25d086af736a60e9eeb907d3b93b6e0e5",
    "jupyter": {
     "source_hidden": true
    },
    "trusted": true,
    "ExecuteTime": {
     "end_time": "2024-02-20T13:32:42.095636Z",
     "start_time": "2024-02-20T13:32:41.335464Z"
    }
   },
   "outputs": [],
   "source": [
    "%%capture\n",
    "import numpy as np \n",
    "import pandas as pd \n",
    "import os\n",
    "import scipy.sparse as sps"
   ]
  },
  {
   "cell_type": "code",
   "execution_count": 4,
   "metadata": {
    "jupyter": {
     "source_hidden": true
    },
    "trusted": true,
    "ExecuteTime": {
     "end_time": "2024-02-20T13:32:43.100005Z",
     "start_time": "2024-02-20T13:32:43.067903Z"
    }
   },
   "outputs": [],
   "source": [
    "from Data_manager.split_functions.split_train_validation_random_holdout import *\n",
    "from Evaluation.Evaluator import *\n",
    "from Evaluation.metrics import *\n",
    "from Evaluation.Evaluator import _create_empty_metrics_dict"
   ]
  },
  {
   "cell_type": "code",
   "execution_count": 5,
   "outputs": [],
   "source": [
    "from Recommenders.MatrixFactorization.IALSRecommender import IALSRecommender\n",
    "from Recommenders.NonPersonalizedRecommender import TopPop, Random, GlobalEffects\n",
    "from Recommenders.KNN.UserKNNCFRecommender import UserKNNCFRecommender\n",
    "from Recommenders.KNN.ItemKNNCFRecommender import ItemKNNCFRecommender\n",
    "from Recommenders.KNN.ItemKNNCBFRecommender import ItemKNNCBFRecommender\n",
    "from Recommenders.GraphBased.RP3betaRecommender import RP3betaRecommender\n",
    "from Recommenders.GraphBased.P3alphaRecommender import P3alphaRecommender"
   ],
   "metadata": {
    "collapsed": false,
    "ExecuteTime": {
     "end_time": "2024-02-20T13:32:45.238169Z",
     "start_time": "2024-02-20T13:32:44.353695Z"
    }
   }
  },
  {
   "cell_type": "code",
   "execution_count": 6,
   "metadata": {
    "jupyter": {
     "source_hidden": true
    },
    "trusted": true,
    "ExecuteTime": {
     "end_time": "2024-02-20T13:32:46.538809Z",
     "start_time": "2024-02-20T13:32:46.512039Z"
    }
   },
   "outputs": [],
   "source": [
    "import os, multiprocessing\n",
    "from functools import partial\n",
    "import traceback, os\n",
    "import scipy.sparse as sps"
   ]
  },
  {
   "cell_type": "markdown",
   "metadata": {},
   "source": [
    "# HITRATE"
   ]
  },
  {
   "cell_type": "code",
   "execution_count": 7,
   "metadata": {
    "jupyter": {
     "source_hidden": true
    },
    "trusted": true,
    "ExecuteTime": {
     "end_time": "2024-02-20T13:32:47.761901Z",
     "start_time": "2024-02-20T13:32:47.754539Z"
    }
   },
   "outputs": [],
   "source": [
    "import pandas as pd\n",
    "class HITRATEEvaluator(EvaluatorHoldout):\n",
    "    def __init__(self, URM_test_list, cutoff_list, min_ratings_per_user=1, exclude_seen=True,\n",
    "                 diversity_object = None,\n",
    "                 ignore_items = None,\n",
    "                 ignore_users = None,\n",
    "                 verbose=True):\n",
    "\n",
    "\n",
    "        super(HITRATEEvaluator, self).__init__(URM_test_list, cutoff_list,\n",
    "                                               diversity_object = diversity_object,\n",
    "                                               min_ratings_per_user =min_ratings_per_user, exclude_seen=exclude_seen,\n",
    "                                               ignore_items = ignore_items, ignore_users = ignore_users,\n",
    "                                               verbose = verbose)\n",
    "        \n",
    "    def _run_evaluation_on_selected_users(self, recommender_objects, users_to_evaluate, block_size = None,items_to_compute=None,name=\"_\"):\n",
    "\n",
    "        if block_size is None:\n",
    "            # Reduce block size if estimated memory requirement exceeds 4 GB\n",
    "            block_size = min([4000, int(4*1e9*8/64/self.n_items), len(users_to_evaluate)])\n",
    "\n",
    "\n",
    "        results_dict = _create_empty_metrics_dict(self.cutoff_list,\n",
    "                                                  self.n_items, self.n_users,\n",
    "                                                  recommender_objects[0].get_URM_train(),\n",
    "                                                  self.URM_test,\n",
    "                                                  self.ignore_items_ID,\n",
    "                                                  self.ignore_users_ID,\n",
    "                                                  self.diversity_object)\n",
    "\n",
    "\n",
    "        \n",
    "\n",
    "        # Start from -block_size to ensure it to be 0 at the first block\n",
    "        user_batch_start = 0\n",
    "        user_batch_end = 0\n",
    "\n",
    "        while user_batch_start < len(users_to_evaluate):\n",
    "\n",
    "            user_batch_end = user_batch_start + block_size\n",
    "            user_batch_end = min(user_batch_end, len(users_to_evaluate))\n",
    "\n",
    "            test_user_batch_array = np.array(users_to_evaluate[user_batch_start:user_batch_end])\n",
    "            user_batch_start = user_batch_end\n",
    "            recommended_items_batch_list = None\n",
    "            # Compute predictions for a batch of users using vectorization, much more efficient than computing it one at a time\n",
    "            for recommender_object in recommender_objects:\n",
    "                recommended_items_batch_list_single, score = recommender_object.recommend(test_user_batch_array,\n",
    "                                                                          remove_seen_flag=self.exclude_seen,\n",
    "                                                                          cutoff = self.max_cutoff,\n",
    "                                                                          items_to_compute=items_to_compute,\n",
    "                                                                          remove_top_pop_flag=False,\n",
    "                                                                          remove_custom_items_flag=self.ignore_items_flag,\n",
    "                                                                          return_scores = True\n",
    "                                                                         )\n",
    "                \n",
    "                if recommended_items_batch_list is None:\n",
    "                    recommended_items_batch_list = recommended_items_batch_list_single\n",
    "                    score_sum=score\n",
    "                else:\n",
    "                    recommended_items_batch_list=np.hstack((recommended_items_batch_list,recommended_items_batch_list_single))\n",
    "                    score_sum+=score\n",
    "                \n",
    "            recommended_items_batch_list\n",
    "\n",
    "            results_dict = self._compute_metrics_on_recommendation_list(test_user_batch_array = test_user_batch_array,\n",
    "                                                         recommended_items_batch_list = recommended_items_batch_list,\n",
    "                                                         score_batch=score_sum,\n",
    "                                                         results_dict = results_dict,name=name)\n",
    "\n",
    "\n",
    "        return results_dict\n",
    "    \n",
    "    def _compute_metrics_on_recommendation_list(self, test_user_batch_array, recommended_items_batch_list,score_batch,results_dict,name=\"_\"):\n",
    "\n",
    "        assert len(recommended_items_batch_list) == len(test_user_batch_array), \"{}: recommended_items_batch_list contained recommendations for {} users, expected was {}\".format(\n",
    "            self.EVALUATOR_NAME, len(recommended_items_batch_list), len(test_user_batch_array))\n",
    "\n",
    "        temp=pd.DataFrame()\n",
    "        col_session=None\n",
    "        col_items=None\n",
    "        col_score=None\n",
    "        col_max_score=None\n",
    "        length=0\n",
    "        # Compute recommendation quality for each user in batch\n",
    "        for batch_user_index,recommended_items in enumerate(recommended_items_batch_list):\n",
    "            score=score_batch[batch_user_index]\n",
    "            recommended_items=np.unique(recommended_items)\n",
    "            scores_top=score[recommended_items]\n",
    "            \n",
    "            self.len_unique+=len(recommended_items)\n",
    "            test_user = test_user_batch_array[batch_user_index]\n",
    "            session_id= np.repeat(test_user,len(recommended_items))\n",
    "            maximum_score= np.repeat(np.max(score),len(recommended_items))\n",
    "            if col_session is None:\n",
    "                col_session=session_id\n",
    "                col_items=recommended_items\n",
    "                col_score=scores_top/np.max(score)\n",
    "                col_max_score=maximum_score\n",
    "            else:\n",
    "                col_session=np.append(col_session,session_id)\n",
    "                col_items=np.append(col_items,recommended_items)\n",
    "                col_score=np.append(col_score,scores_top/np.max(score))\n",
    "                col_max_score=np.append(col_max_score,maximum_score)\n",
    "            #print(recommended_items[-4:])\n",
    "            #print(scores_top[-4:])\n",
    "            #print(session_id[-4:])\n",
    "            relevant_items = self.get_user_relevant_items(test_user)\n",
    "\n",
    "            # Being the URM CSR, the indices are the non-zero column indexes\n",
    "            \n",
    "            is_relevant = np.in1d(recommended_items, relevant_items, assume_unique=True)\n",
    "\n",
    "            self._n_users_evaluated += 1\n",
    "\n",
    "            cutoff = self.max_cutoff\n",
    "\n",
    "            results_current_cutoff = results_dict[cutoff]\n",
    "            results_current_cutoff[EvaluatorMetrics.HIT_RATE.value].add_recommendations(is_relevant)\n",
    "        if time.time() - self._start_time_print > 60 or self._n_users_evaluated==len(self.users_to_evaluate):\n",
    "\n",
    "            elapsed_time = time.time()-self._start_time\n",
    "            new_time_value, new_time_unit = seconds_to_biggest_unit(elapsed_time)\n",
    "\n",
    "            self._print(\"Processed {} ({:4.1f}%) in {:.2f} {}. Users per second: {:.0f}\".format(\n",
    "                          self._n_users_evaluated,\n",
    "                          100.0* float(self._n_users_evaluated)/len(self.users_to_evaluate),\n",
    "                          new_time_value, new_time_unit,\n",
    "                          float(self._n_users_evaluated)/elapsed_time if elapsed_time>0.0 else np.nan))\n",
    "\n",
    "            sys.stdout.flush()\n",
    "            sys.stderr.flush()\n",
    "\n",
    "            self._start_time_print = time.time()\n",
    "        temp['Session_Id']=col_session\n",
    "        temp['Item_ID']=col_items\n",
    "        temp[f'Score_{name}']=col_score\n",
    "        temp[f'Max_Score_{name}']=col_max_score\n",
    "        self.dataset_for_ranker=pd.concat([self.dataset_for_ranker, temp], ignore_index=True)\n",
    "        #print(temp.tail(4))\n",
    "        #print(self.dataset_for_ranker.tail(4))\n",
    "\n",
    "        return results_dict\n",
    "    def evaluateRecommender(self, recommender_objects,block_size=None,items_to_compute=None,name=\"_\"):\n",
    "        \"\"\"\n",
    "        :param recommender_object: the trained recommender object, a BaseRecommender subclass\n",
    "        :param URM_test_list: list of URMs to test the recommender against, or a single URM object\n",
    "        :param cutoff_list: list of cutoffs to be use to report the scores, or a single cutoff\n",
    "        :return results_df: dataframe with index the cutoff and columns the metric\n",
    "        :return results_run_string: printable result string\n",
    "        \"\"\"\n",
    "        self.len_unique=0\n",
    "        if self.ignore_items_flag:\n",
    "            for recommender_object in recommender_objects:\n",
    "                recommender_object.set_items_to_ignore(self.ignore_items_ID)\n",
    "\n",
    "        self._start_time = time.time()\n",
    "        self._start_time_print = time.time()\n",
    "        self._n_users_evaluated = 0\n",
    "        self.dataset_for_ranker=pd.DataFrame(columns=['Session_Id', 'Item_ID', f'Score_{name}',f'Max_Score_{name}'])\n",
    "        results_dict = self._run_evaluation_on_selected_users(recommender_objects, self.users_to_evaluate,block_size=block_size,items_to_compute=items_to_compute,name=name)\n",
    "        self.dataset_for_ranker.to_csv(f\"../dataset/candidates/traditional_recs/leaderboard/{name}.csv\",index=False)\n",
    "\n",
    "\n",
    "        if self._n_users_evaluated > 0:\n",
    "\n",
    "            for cutoff in self.cutoff_list:\n",
    "                results_current_cutoff = results_dict[cutoff]\n",
    "\n",
    "                for key in results_current_cutoff.keys():\n",
    "                    if key!=\"HIT_RATE\":\n",
    "                        continue\n",
    "                    value = results_current_cutoff[key]\n",
    "\n",
    "                    \n",
    "                    results_current_cutoff[key] = value.get_metric_value()*self._n_users_evaluated\n",
    "                    \n",
    "                    #results_current_cutoff[key] = value/self._n_users_evaluated\n",
    "\n",
    "\n",
    "        else:\n",
    "            self._print(\"WARNING: No users had a sufficient number of relevant items\")\n",
    "        \n",
    "        if self.ignore_items_flag:\n",
    "            recommender_object.reset_items_to_ignore()\n",
    "\n",
    "        results_df = pd.DataFrame(columns=results_dict[self.cutoff_list[0]].keys(),\n",
    "                                  index=self.cutoff_list)\n",
    "        results_df.index.rename(\"cutoff\", inplace = True)\n",
    "\n",
    "        for cutoff in results_dict.keys():\n",
    "            results_df.loc[cutoff] = results_dict[cutoff]\n",
    "        print(\"average number of different items for each session\",self.len_unique/self._n_users_evaluated)\n",
    "        #results_run_string = get_result_string_df(results_df)\n",
    "\n",
    "        return results_df.loc[self.cutoff_list[0]][\"HIT_RATE\"]"
   ]
  },
  {
   "cell_type": "code",
   "execution_count": 8,
   "metadata": {
    "jupyter": {
     "source_hidden": true
    },
    "trusted": true,
    "ExecuteTime": {
     "end_time": "2024-02-20T13:32:48.556394Z",
     "start_time": "2024-02-20T13:32:48.522667Z"
    }
   },
   "outputs": [],
   "source": [
    "from collections import defaultdict\n",
    "from tqdm import tqdm\n",
    "import numpy as np\n",
    "\n",
    "from joblib import Parallel, delayed\n"
   ]
  },
  {
   "cell_type": "code",
   "execution_count": 9,
   "metadata": {
    "jupyter": {
     "source_hidden": true
    },
    "trusted": true,
    "ExecuteTime": {
     "end_time": "2024-02-20T13:32:49.148974Z",
     "start_time": "2024-02-20T13:32:49.142445Z"
    }
   },
   "outputs": [],
   "source": [
    "import time"
   ]
  },
  {
   "cell_type": "code",
   "execution_count": 10,
   "metadata": {
    "jupyter": {
     "source_hidden": true
    },
    "trusted": true,
    "ExecuteTime": {
     "end_time": "2024-02-20T13:32:49.696232Z",
     "start_time": "2024-02-20T13:32:49.684979Z"
    }
   },
   "outputs": [],
   "source": [
    "def get_ICM(files_directory=\"../dataset/processed_data/\"):\n",
    "    df_icm = pd.read_csv(filepath_or_buffer=os.path.join(files_directory, 'simplified_features_and_categories_30.csv'), sep=',', header=0)\n",
    "    \n",
    "    item_id_list = df_icm['item_id'].values\n",
    "    feat_id_list = df_icm['feature_idx'].values\n",
    "    rating_id_list = np.ones_like(feat_id_list)\n",
    "    ICM_matrix = sps.csr_matrix((rating_id_list, (item_id_list, feat_id_list)))\n",
    "    return ICM_matrix"
   ]
  },
  {
   "cell_type": "code",
   "execution_count": 11,
   "metadata": {
    "ExecuteTime": {
     "end_time": "2024-02-20T13:32:50.340031Z",
     "start_time": "2024-02-20T13:32:50.334055Z"
    }
   },
   "outputs": [],
   "source": [
    "is_leaderboard=True"
   ]
  },
  {
   "cell_type": "code",
   "execution_count": 12,
   "metadata": {
    "trusted": true,
    "ExecuteTime": {
     "end_time": "2024-02-20T13:32:51.898313Z",
     "start_time": "2024-02-20T13:32:50.814512Z"
    }
   },
   "outputs": [],
   "source": [
    "URM_train = sps.load_npz(\"../dataset/processed_data/URM_WV_train_full.npz\")\n",
    "URM_train.data=np.ones_like(URM_train.data)\n",
    "URM_valid = sps.load_npz(\"../dataset/processed_data/URM_WV_valid_bought.npz\").tocsr()\n",
    "\n",
    "temp= sps.load_npz(\"../dataset/processed_data/URM_WV_valid_seen.npz\")\n",
    "URM_train = temp+URM_train+URM_valid\n",
    "\n",
    "\n",
    "if is_leaderboard:\n",
    "    test_seen=sps.load_npz(\"../dataset/processed_data/URM_test_leaderboard.npz\")\n",
    "else:\n",
    "    test_seen=sps.load_npz(\"../dataset/processed_data/URM_test_final.npz\")\n",
    "#condense matrix to just the seen users -> test = userf from 1.000.000 to 1.000.000+test_seen.shape[0]\n",
    "test_seen = test_seen[test_seen.getnnz(1)>0]\n",
    "if test_seen.shape[1]!=URM_train.shape[1]:\n",
    "    fix=sps.csr_matrix((test_seen.shape[0],URM_train.shape[1]-test_seen.shape[1]), dtype=\"float32\")\n",
    "    test_seen=sps.hstack([test_seen,fix])\n",
    "URM_after_train=sps.vstack([URM_train,test_seen]).tocsr()\n",
    "M = sps.csr_matrix(URM_train.shape, dtype=\"float32\")\n",
    "URM_valid=sps.vstack([M,test_seen]).tocsr()\n",
    "ICM_all = get_ICM()\n",
    "    \n",
    "if just_checking_integrity:\n",
    "    URM_train = URM_train[boundary:]\n",
    "    URM_valid = URM_valid[boundary:boundary_after]\n",
    "    URM_after_train = URM_after_train[boundary:boundary_after]\n",
    "\n",
    "\n",
    "#Fake URM_to recreate validation setting \n",
    "\n",
    "\n",
    "\n",
    "\n",
    "\n",
    "params_ICF=[\n",
    "    {\"topK\":334,\"shrink\":396, \"similarity\":'cosine', \"feature_weighting\" : 'none' ,           \"power\":1.2561991065561426, \"weight\" :0.6393597471969044},\n",
    "    {\"topK\":236,\"shrink\":687, \"similarity\":'tanimoto', \"feature_weighting\" : 'none' ,           \"power\":0.5509167891518838, \"weight\" :0.23362677165465845},\n",
    "    {\"topK\":186,\"shrink\":699, \"similarity\":'dice', \"feature_weighting\" : 'none' ,           \"power\":0.5454807130915313, \"weight\" :0.37150060696200815},\n",
    "    {\"topK\":236,\"shrink\":700, \"similarity\":'jaccard', \"feature_weighting\" : 'none' ,           \"power\":0.5224371929702275, \"weight\" :0.4532502310580744},\n",
    "    {\"topK\":194,\"shrink\":45, \"similarity\":'adjusted', \"feature_weighting\" : 'none' ,           \"power\":1.3923780294419528, \"weight\" :0.747093242387402},\n",
    "    {\"topK\":348,\"shrink\":661, \"similarity\":'asymmetric', \"feature_weighting\" : 'none' ,           \"power\":1.2462156230754484, \"weight\" :0.6410862143760282, \"asymmetric_alpha\" :0.6586444014201189},\n",
    "    {\"topK\":587,\"shrink\":675, \"similarity\":'tversky', \"feature_weighting\" : 'none' ,           \"power\":1.894411025512657, \"weight\" :0.5871629850378687, \"tversky_alpha\" : 0.0022760544555811006,\"tversky_beta\" : 0.4049955813941767},\n",
    "    {\"topK\":299,\"shrink\":674, \"similarity\":'pearson', \"feature_weighting\" : 'none' ,           \"power\":1.892818062582165, \"weight\" :0.5806120640896252}\n",
    "]\n",
    "params_graph=[\n",
    "{\"topK\":760 , \"alpha\":0.35376041951192866  , \"implicit\":False , \"power\":1.6642347425902089, \"weight\":0.23322573709955957},\n",
    "{\"topK\":1434 , \"alpha\":0.37391558455295765, \"beta\":0.13809420287767862  , \"implicit\":True , \"power\":1.6030310290761034, \"weight\":0.733513865097587}\n",
    "]\n",
    "params_ICBF=[\n",
    "    {\"topK\":124,\"shrink\":9, \"similarity\":'tversky', \"feature_weighting\" : 'TF-IDF' ,           \"power\":1.861087725409631,  \"tversky_alpha\" : 0.7689675774356587,\"tversky_beta\" : 0.9052725399846582},\n",
    "    {\"topK\":127,\"shrink\":79, \"similarity\":'asymmetric', \"feature_weighting\" : 'none' ,           \"power\":1.8699713052217346,  \"asymmetric_alpha\" : 0.7611612156193225},\n",
    "    {\"topK\":218,\"shrink\":773, \"similarity\":'adjusted', \"feature_weighting\" : 'BM25' ,           \"power\":0.18601468383405495},\n",
    "    {\"topK\":127,\"shrink\":19, \"similarity\":'cosine', \"feature_weighting\" : 'none' ,           \"power\":1.8849223054440538},\n",
    "    {\"topK\":492,\"shrink\":348, \"similarity\":'pearson', \"feature_weighting\" : 'TF-IDF' ,           \"power\":1.467718817406988},\n",
    "    {\"topK\":139,\"shrink\":3, \"similarity\":'dice', \"feature_weighting\" : 'TF-IDF' ,           \"power\":1.8969043493328803},\n",
    "    {\"topK\":153,\"shrink\":5, \"similarity\":'jaccard', \"feature_weighting\" : 'BM25' ,           \"power\":1.8125421495255112},\n",
    "    {\"topK\":152,\"shrink\":4, \"similarity\":'tanimoto', \"feature_weighting\" : 'BM25' ,           \"power\":1.8224861269207941}\n",
    "]\n",
    "params_UCF=[\n",
    "    {\"topK\":1184,\"shrink\":386, \"similarity\":'cosine',           \"power\":0.1327615452747038,\"split\" :809438, \"keep_dup\" :False},\n",
    "{\"topK\":1070,\"shrink\":15, \"similarity\":'tanimoto',           \"power\":0.845380696129735,\"split\" :813333, \"keep_dup\" :False},\n",
    "{\"topK\":1751,\"shrink\":5, \"similarity\":'dice',           \"power\":0.6757609944671665,\"split\" :768495, \"keep_dup\" :False},\n",
    "{\"topK\":1624,\"shrink\":16, \"similarity\":'jaccard',           \"power\":1.4426671932509196,\"split\" :765230, \"keep_dup\" :False},\n",
    "{\"topK\":5123,\"shrink\":129, \"similarity\":'adjusted',           \"power\":0.12005038535002555,\"split\" :760859, \"keep_dup\" :True},\n",
    "{\"topK\":4318,\"shrink\":3, \"similarity\":'pearson',           \"power\":0.16747332134568205,\"split\" :757664, \"keep_dup\" :True},\n",
    "{\"topK\":5918,\"shrink\":1, \"similarity\":'asymmetric',           \"power\":1.443558847537245,\"split\" :776618, \"keep_dup\" :False,\"asymmetric_alpha\":0.33399818943172976},\n",
    "{\"topK\":1031,\"shrink\":3, \"similarity\":'tversky',           \"power\":0.9137962256579533,\"split\" :775536, \"keep_dup\" :False,\"tversky_alpha\":0.5927402991066659,\"tversky_beta\":0.9129868678836787}\n",
    "]\n",
    "\n",
    "\n",
    "params=params_UCF+params_ICBF+params_ICF+params_graph\n",
    "\n",
    "use_stacking=[False]*16+[True]*10\n",
    "duplicates=[param[\"keep_dup\"] if \"keep_dup\" in param else False for param in params ]\n",
    "duplicates_before=[param[\"duplicates_train\"] if \"duplicates_train\" in param else duplicates[i] for i,param in enumerate(params)]\n",
    "duplicates_after=[param[\"duplicates_after_train\"] if \"duplicates_after_train\" in param else duplicates[i] for i,param in enumerate(params)]\n",
    "\n",
    "transpose=[True]*8+[False]*18\n",
    "get_input=[lambda urm_train,urm,icm: {\"URM_train\":urm}]*8+[lambda urm_train,urm,icm: {\"URM_train\":urm,\"ICM_train\":icm}]*8+[lambda urm_train,urm,icm: {\"URM_train\":urm_train}]*10\n",
    "\n",
    "rec_classes=([UserKNNCFRecommender]*8)+([ItemKNNCBFRecommender]*8)+([ItemKNNCFRecommender]*8)+[P3alphaRecommender,RP3betaRecommender]\n",
    "\n",
    "recs=[]\n",
    "\n",
    "    \n"
   ]
  },
  {
   "cell_type": "code",
   "execution_count": 13,
   "metadata": {
    "trusted": true,
    "ExecuteTime": {
     "end_time": "2024-02-20T13:32:52.914213Z",
     "start_time": "2024-02-20T13:32:52.902194Z"
    }
   },
   "outputs": [],
   "source": [
    "candidates=np.array([i+1 for i in range(4990)]) #Candidates are items from 1 to 4990"
   ]
  },
  {
   "cell_type": "code",
   "execution_count": 14,
   "metadata": {
    "trusted": true,
    "ExecuteTime": {
     "end_time": "2024-02-20T13:32:53.766841Z",
     "start_time": "2024-02-20T13:32:53.688459Z"
    }
   },
   "outputs": [
    {
     "name": "stdout",
     "output_type": "stream",
     "text": [
      "TopPopRecommender: URM Detected 16301 (68.8%) items with no interactions.\n"
     ]
    }
   ],
   "source": [
    "recs_top=[]\n",
    "if just_checking_integrity:\n",
    "    splits=[0]\n",
    "else:\n",
    "    splits=[850000]\n",
    "for split in splits:\n",
    "    recTop=TopPop(URM_train[split:])\n",
    "    recTop.fit(split)\n",
    "    recTop.URM_train=URM_after_train[split:]\n",
    "    recs_top.append(np.array([recTop]))\n",
    "    "
   ]
  },
  {
   "cell_type": "code",
   "execution_count": 15,
   "metadata": {
    "trusted": true,
    "ExecuteTime": {
     "end_time": "2024-02-20T13:32:55.095575Z",
     "start_time": "2024-02-20T13:32:55.082912Z"
    }
   },
   "outputs": [],
   "source": [
    "#ev = HITRATEEvaluator(URM_valid,cutoff_list=[200])\n",
    "#result=ev.evaluateRecommender(recs_top[0],block_size=4000,items_to_compute=candidates,name= \"tentative\")"
   ]
  },
  {
   "cell_type": "code",
   "execution_count": 16,
   "metadata": {
    "trusted": true,
    "ExecuteTime": {
     "end_time": "2024-02-20T13:32:55.784650Z",
     "start_time": "2024-02-20T13:32:55.779242Z"
    }
   },
   "outputs": [],
   "source": [
    "if not just_checking_integrity:\n",
    "    URM_valid[-81618,2638]"
   ]
  },
  {
   "cell_type": "code",
   "execution_count": 17,
   "metadata": {
    "trusted": true,
    "ExecuteTime": {
     "end_time": "2024-02-20T14:03:17.947343Z",
     "start_time": "2024-02-20T13:32:56.937680Z"
    }
   },
   "outputs": [
    {
     "name": "stdout",
     "output_type": "stream",
     "text": [
      "-------------------0-------------------\n",
      "UserKNNCFRecommender: URM Detected 15123 (63.8%) items with no interactions.\n",
      "Similarity column 49548 (99.1%), 449.28 column/sec. Elapsed time 1.84 min\n",
      "transposed\n",
      "-------------------1-------------------\n",
      "UserKNNCFRecommender: URM Detected 15274 (64.5%) items with no interactions.\n",
      "Similarity column 33400 (66.8%), 555.53 column/sec. Elapsed time 1.00 min\n",
      "transposed\n",
      "-------------------2-------------------\n",
      "UserKNNCFRecommender: URM Detected 14389 (60.7%) items with no interactions.\n",
      "Similarity column 27425 (54.9%), 457.08 column/sec. Elapsed time 1.00 min\n",
      "transposed\n",
      "-------------------3-------------------\n",
      "UserKNNCFRecommender: URM Detected 14289 (60.3%) items with no interactions.\n",
      "transposed\n",
      "-------------------4-------------------\n",
      "UserKNNCFRecommender: URM Detected 14143 (59.7%) items with no interactions.\n",
      "Similarity column 23482 (47.0%), 391.31 column/sec. Elapsed time 1.00 min\n"
     ]
    },
    {
     "name": "stderr",
     "output_type": "stream",
     "text": [
      "/Users/nadavshaked/anaconda3/envs/RecSys_final_projrct/lib/python3.7/site-packages/ipykernel_launcher.py:42: RuntimeWarning: invalid value encountered in power\n"
     ]
    },
    {
     "name": "stdout",
     "output_type": "stream",
     "text": [
      "transposed\n",
      "-------------------5-------------------\n",
      "UserKNNCFRecommender: URM Detected 14027 (59.2%) items with no interactions.\n",
      "Similarity column 24446 (48.9%), 404.16 column/sec. Elapsed time 1.01 min\n",
      "transposed\n",
      "-------------------6-------------------\n",
      "UserKNNCFRecommender: URM Detected 14594 (61.6%) items with no interactions.\n",
      "transposed\n",
      "-------------------7-------------------\n",
      "UserKNNCFRecommender: URM Detected 14576 (61.5%) items with no interactions.\n",
      "Similarity column 27478 (55.0%), 457.66 column/sec. Elapsed time 1.00 min\n",
      "transposed\n",
      "-------------------8-------------------\n",
      "ItemKNNCBFRecommender: URM Detected 9 ( 0.0%) items with no interactions.\n",
      "ItemKNNCBFRecommender: ICM Detected 1 ( 0.0%) items with no features.\n",
      "Similarity column 23692 (100.0%), 658.21 column/sec. Elapsed time 35.99 sec\n",
      "-------------------9-------------------\n",
      "ItemKNNCBFRecommender: URM Detected 9 ( 0.0%) items with no interactions.\n",
      "ItemKNNCBFRecommender: ICM Detected 1 ( 0.0%) items with no features.\n",
      "Similarity column 23692 (100.0%), 552.10 column/sec. Elapsed time 42.91 sec\n",
      "-------------------10-------------------\n",
      "ItemKNNCBFRecommender: URM Detected 9 ( 0.0%) items with no interactions.\n",
      "ItemKNNCBFRecommender: ICM Detected 1 ( 0.0%) items with no features.\n",
      "Similarity column 23692 (100.0%), 543.59 column/sec. Elapsed time 43.58 sec\n",
      "-------------------11-------------------\n",
      "ItemKNNCBFRecommender: URM Detected 9 ( 0.0%) items with no interactions.\n",
      "ItemKNNCBFRecommender: ICM Detected 1 ( 0.0%) items with no features.\n",
      "Similarity column 23692 (100.0%), 554.63 column/sec. Elapsed time 42.72 sec\n",
      "-------------------12-------------------\n",
      "ItemKNNCBFRecommender: URM Detected 9 ( 0.0%) items with no interactions.\n",
      "ItemKNNCBFRecommender: ICM Detected 1 ( 0.0%) items with no features.\n",
      "Similarity column 23692 (100.0%), 603.72 column/sec. Elapsed time 39.24 sec\n",
      "-------------------13-------------------\n",
      "ItemKNNCBFRecommender: URM Detected 9 ( 0.0%) items with no interactions.\n",
      "ItemKNNCBFRecommender: ICM Detected 1 ( 0.0%) items with no features.\n",
      "Similarity column 23692 (100.0%), 659.01 column/sec. Elapsed time 35.95 sec\n",
      "-------------------14-------------------\n",
      "ItemKNNCBFRecommender: URM Detected 9 ( 0.0%) items with no interactions.\n",
      "ItemKNNCBFRecommender: ICM Detected 1 ( 0.0%) items with no features.\n",
      "Similarity column 23692 (100.0%), 689.66 column/sec. Elapsed time 34.35 sec\n",
      "-------------------15-------------------\n",
      "ItemKNNCBFRecommender: URM Detected 9 ( 0.0%) items with no interactions.\n",
      "ItemKNNCBFRecommender: ICM Detected 1 ( 0.0%) items with no features.\n",
      "Similarity column 23692 (100.0%), 678.75 column/sec. Elapsed time 34.91 sec\n",
      "-------------------16-------------------\n",
      "ItemKNNCFRecommender: URM Detected 1 ( 0.0%) users with no interactions.\n",
      "ItemKNNCFRecommender: URM Detected 1 ( 0.0%) items with no interactions.\n",
      "Similarity column 23692 (100.0%), 625.84 column/sec. Elapsed time 37.86 sec\n",
      "-------------------17-------------------\n",
      "ItemKNNCFRecommender: URM Detected 1 ( 0.0%) users with no interactions.\n",
      "ItemKNNCFRecommender: URM Detected 1 ( 0.0%) items with no interactions.\n",
      "Similarity column 23692 (100.0%), 630.10 column/sec. Elapsed time 37.60 sec\n",
      "-------------------18-------------------\n",
      "ItemKNNCFRecommender: URM Detected 1 ( 0.0%) users with no interactions.\n",
      "ItemKNNCFRecommender: URM Detected 1 ( 0.0%) items with no interactions.\n",
      "Similarity column 23692 (100.0%), 620.42 column/sec. Elapsed time 38.19 sec\n",
      "-------------------19-------------------\n",
      "ItemKNNCFRecommender: URM Detected 1 ( 0.0%) users with no interactions.\n",
      "ItemKNNCFRecommender: URM Detected 1 ( 0.0%) items with no interactions.\n",
      "Similarity column 23692 (100.0%), 630.50 column/sec. Elapsed time 37.58 sec\n",
      "-------------------20-------------------\n",
      "ItemKNNCFRecommender: URM Detected 1 ( 0.0%) users with no interactions.\n",
      "ItemKNNCFRecommender: URM Detected 1 ( 0.0%) items with no interactions.\n",
      "Similarity column 23692 (100.0%), 630.65 column/sec. Elapsed time 37.57 sec\n",
      "-------------------21-------------------\n",
      "ItemKNNCFRecommender: URM Detected 1 ( 0.0%) users with no interactions.\n",
      "ItemKNNCFRecommender: URM Detected 1 ( 0.0%) items with no interactions.\n",
      "Similarity column 23692 (100.0%), 627.11 column/sec. Elapsed time 37.78 sec\n",
      "-------------------22-------------------\n",
      "ItemKNNCFRecommender: URM Detected 1 ( 0.0%) users with no interactions.\n",
      "ItemKNNCFRecommender: URM Detected 1 ( 0.0%) items with no interactions.\n",
      "Similarity column 23692 (100.0%), 622.69 column/sec. Elapsed time 38.05 sec\n",
      "-------------------23-------------------\n",
      "ItemKNNCFRecommender: URM Detected 1 ( 0.0%) users with no interactions.\n",
      "ItemKNNCFRecommender: URM Detected 1 ( 0.0%) items with no interactions.\n",
      "Similarity column 23692 (100.0%), 617.03 column/sec. Elapsed time 38.40 sec\n",
      "-------------------24-------------------\n",
      "P3alphaRecommender: URM Detected 1 ( 0.0%) users with no interactions.\n",
      "P3alphaRecommender: URM Detected 1 ( 0.0%) items with no interactions.\n",
      "P3alphaRecommender: Similarity column 23692 (100.0%), 432.87 column/sec. Elapsed time 54.73 sec\n",
      "-------------------25-------------------\n",
      "RP3betaRecommender: URM Detected 1 ( 0.0%) users with no interactions.\n",
      "RP3betaRecommender: URM Detected 1 ( 0.0%) items with no interactions.\n",
      "RP3betaRecommender: Similarity column 23692 (100.0%), 338.53 column/sec. Elapsed time 1.17 min\n"
     ]
    }
   ],
   "source": [
    "for i, rec in enumerate(rec_classes):\n",
    "    print(f\"-------------------{i}-------------------\")\n",
    "    params_rec=params[i]\n",
    "    params_recommender={k:v for k,v in params_rec.items()  if k not in [\"weight\",\"power\",\"split\",\"keep_dup\",\"duplicates_train\",\"duplicates_after_train\"]}\n",
    "    p=params_rec[\"power\"] \n",
    "    \n",
    "    split=\"split\" in params_rec\n",
    "    X=URM_train.copy()\n",
    "    X_post=URM_after_train.copy()\n",
    "    if not duplicates_before[i]:\n",
    "        X.data=np.ones_like(X.data)\n",
    "    if not duplicates_after[i]:\n",
    "        X_post.data=np.ones_like(X_post.data)\n",
    "    if use_stacking[i]:\n",
    "        w=params_rec[\"weight\"]\n",
    "        URM_temp=sps.vstack([X*w,ICM_all.T*(1-w)]).tocsr()\n",
    "        URM_temp_after=sps.vstack([X_post*w,ICM_all.T*(1-w)]).tocsr()\n",
    "    else:\n",
    "        URM_temp=X\n",
    "        URM_temp_after=X_post\n",
    "        \n",
    "    if split:\n",
    "        split_point=params_rec[\"split\"]\n",
    "        if just_checking_integrity:\n",
    "            temp=URM_train.sum(axis=1)\n",
    "        else:\n",
    "            URM_temp=URM_temp[split_point:,:]\n",
    "            temp=URM_train[split_point:,:].sum(axis=1)\n",
    "        start_valid_user=np.sum(temp!=0)\n",
    "        params_recommender[\"start_user\"]=start_valid_user\n",
    "        if not just_checking_integrity:\n",
    "            URM_temp_after=URM_temp_after[split_point:,:]\n",
    "    \n",
    "        \n",
    "    rec=rec(**get_input[i](URM_temp,URM_temp_after,ICM_all))\n",
    "    rec.fit(**params_recommender)\n",
    "    if split:\n",
    "        if not just_checking_integrity:\n",
    "            rec.offset=split_point\n",
    "        else:\n",
    "            rec.offset=0\n",
    "    rec.W_sparse.data=np.power(rec.W_sparse.data,p)\n",
    "    if transpose[i]:\n",
    "        print(\"transposed\")\n",
    "        rec.W_sparse=rec.W_sparse.T\n",
    "    rec.W_sparse=rec.W_sparse.astype(\"float32\").tocsr()\n",
    "    rec.URM_train=URM_temp_after.astype(\"float32\")\n",
    "    recs.append(rec)\n",
    "    #rec.save_model(\"./\",file_name =f\"{rec.RECOMMENDER_NAME}-{i}.data\")\n",
    "recs=np.array(recs)"
   ]
  },
  {
   "cell_type": "code",
   "execution_count": 18,
   "metadata": {
    "trusted": true,
    "ExecuteTime": {
     "end_time": "2024-02-20T14:16:28.469434Z",
     "start_time": "2024-02-20T14:16:28.445531Z"
    }
   },
   "outputs": [],
   "source": [
    "UCF=recs[:8]\n",
    "ICBF=recs[8:16]\n",
    "ICF=recs[16:24]\n",
    "Graph=recs[24:]"
   ]
  },
  {
   "cell_type": "code",
   "execution_count": 19,
   "metadata": {
    "trusted": true,
    "ExecuteTime": {
     "end_time": "2024-02-20T14:16:29.333640Z",
     "start_time": "2024-02-20T14:16:29.314021Z"
    }
   },
   "outputs": [],
   "source": [
    "if just_checking_integrity:\n",
    "    rec_groups=[UCF,ICBF,ICF,Graph,*recs_top]\n",
    "    names=[\"UCF_W\",\"ICBF_W\",\"ICF_W\",\"Graph_W\",\"TopPop15_W\"]\n",
    "else:\n",
    "    rec_groups=[UCF,ICBF,ICF,Graph,*recs_top]\n",
    "    names=[\"UCF_W\",\"ICBF_W\",\"ICF_W\",\"Graph_W\",\"TopPop15_W\"]"
   ]
  },
  {
   "cell_type": "code",
   "execution_count": 20,
   "metadata": {
    "trusted": true,
    "ExecuteTime": {
     "end_time": "2024-02-20T14:41:47.956558Z",
     "start_time": "2024-02-20T14:16:30.374402Z"
    }
   },
   "outputs": [
    {
     "name": "stdout",
     "output_type": "stream",
     "text": [
      "EvaluatorHoldout: Ignoring 1000000 (95.2%) Users that have less than 1 test interactions\n"
     ]
    },
    {
     "name": "stderr",
     "output_type": "stream",
     "text": [
      "/Users/nadavshaked/anaconda3/envs/RecSys_final_projrct/lib/python3.7/site-packages/ipykernel_launcher.py:103: RuntimeWarning: invalid value encountered in true_divide\n"
     ]
    },
    {
     "name": "stdout",
     "output_type": "stream",
     "text": [
      "EvaluatorHoldout: Processed 4000 ( 8.0%) in 1.20 min. Users per second: 56\n",
      "EvaluatorHoldout: Processed 8000 (16.0%) in 2.26 min. Users per second: 59\n",
      "EvaluatorHoldout: Processed 12000 (24.0%) in 3.32 min. Users per second: 60\n",
      "EvaluatorHoldout: Processed 16000 (32.0%) in 4.33 min. Users per second: 62\n",
      "EvaluatorHoldout: Processed 24000 (48.0%) in 6.31 min. Users per second: 63\n",
      "EvaluatorHoldout: Processed 32000 (64.0%) in 8.34 min. Users per second: 64\n",
      "EvaluatorHoldout: Processed 36000 (72.0%) in 9.40 min. Users per second: 64\n",
      "EvaluatorHoldout: Processed 44000 (88.0%) in 11.44 min. Users per second: 64\n",
      "EvaluatorHoldout: Processed 48000 (96.0%) in 12.46 min. Users per second: 64\n",
      "EvaluatorHoldout: Processed 50000 (100.0%) in 12.83 min. Users per second: 65\n",
      "average number of different items for each session 326.77116\n",
      "EvaluatorHoldout: Ignoring 1000000 (95.2%) Users that have less than 1 test interactions\n",
      "EvaluatorHoldout: Processed 4000 ( 8.0%) in 1.37 min. Users per second: 49\n",
      "EvaluatorHoldout: Processed 8000 (16.0%) in 2.39 min. Users per second: 56\n",
      "EvaluatorHoldout: Processed 16000 (32.0%) in 4.05 min. Users per second: 66\n",
      "EvaluatorHoldout: Processed 24000 (48.0%) in 5.71 min. Users per second: 70\n",
      "EvaluatorHoldout: Processed 32000 (64.0%) in 7.35 min. Users per second: 73\n",
      "EvaluatorHoldout: Processed 40000 (80.0%) in 9.16 min. Users per second: 73\n",
      "EvaluatorHoldout: Processed 48000 (96.0%) in 10.79 min. Users per second: 74\n",
      "EvaluatorHoldout: Processed 50000 (100.0%) in 11.08 min. Users per second: 75\n"
     ]
    },
    {
     "ename": "OSError",
     "evalue": "[Errno 28] No space left on device",
     "output_type": "error",
     "traceback": [
      "\u001B[0;31m---------------------------------------------------------------------------\u001B[0m",
      "\u001B[0;31mOSError\u001B[0m                                   Traceback (most recent call last)",
      "\u001B[0;32m/var/folders/7g/mbx_0wdd31321s89t9jppyyh0000gn/T/ipykernel_33208/3661815592.py\u001B[0m in \u001B[0;36m<module>\u001B[0;34m\u001B[0m\n\u001B[1;32m      2\u001B[0m     \u001B[0mname\u001B[0m\u001B[0;34m=\u001B[0m\u001B[0mnames\u001B[0m\u001B[0;34m[\u001B[0m\u001B[0mi\u001B[0m\u001B[0;34m]\u001B[0m\u001B[0;34m\u001B[0m\u001B[0;34m\u001B[0m\u001B[0m\n\u001B[1;32m      3\u001B[0m     \u001B[0mev\u001B[0m \u001B[0;34m=\u001B[0m \u001B[0mHITRATEEvaluator\u001B[0m\u001B[0;34m(\u001B[0m\u001B[0mURM_valid\u001B[0m\u001B[0;34m,\u001B[0m\u001B[0mcutoff_list\u001B[0m\u001B[0;34m=\u001B[0m\u001B[0;34m[\u001B[0m\u001B[0;36m150\u001B[0m\u001B[0;34m]\u001B[0m\u001B[0;34m)\u001B[0m\u001B[0;34m\u001B[0m\u001B[0;34m\u001B[0m\u001B[0m\n\u001B[0;32m----> 4\u001B[0;31m     \u001B[0mresult\u001B[0m\u001B[0;34m=\u001B[0m\u001B[0mev\u001B[0m\u001B[0;34m.\u001B[0m\u001B[0mevaluateRecommender\u001B[0m\u001B[0;34m(\u001B[0m\u001B[0mrec_group\u001B[0m\u001B[0;34m,\u001B[0m\u001B[0mblock_size\u001B[0m\u001B[0;34m=\u001B[0m\u001B[0;36m4000\u001B[0m\u001B[0;34m,\u001B[0m\u001B[0mitems_to_compute\u001B[0m\u001B[0;34m=\u001B[0m\u001B[0mcandidates\u001B[0m\u001B[0;34m,\u001B[0m\u001B[0mname\u001B[0m\u001B[0;34m=\u001B[0m \u001B[0mname\u001B[0m\u001B[0;34m)\u001B[0m\u001B[0;34m\u001B[0m\u001B[0;34m\u001B[0m\u001B[0m\n\u001B[0m",
      "\u001B[0;32m/var/folders/7g/mbx_0wdd31321s89t9jppyyh0000gn/T/ipykernel_33208/1470883293.py\u001B[0m in \u001B[0;36mevaluateRecommender\u001B[0;34m(self, recommender_objects, block_size, items_to_compute, name)\u001B[0m\n\u001B[1;32m    160\u001B[0m         \u001B[0mself\u001B[0m\u001B[0;34m.\u001B[0m\u001B[0mdataset_for_ranker\u001B[0m\u001B[0;34m=\u001B[0m\u001B[0mpd\u001B[0m\u001B[0;34m.\u001B[0m\u001B[0mDataFrame\u001B[0m\u001B[0;34m(\u001B[0m\u001B[0mcolumns\u001B[0m\u001B[0;34m=\u001B[0m\u001B[0;34m[\u001B[0m\u001B[0;34m'Session_Id'\u001B[0m\u001B[0;34m,\u001B[0m \u001B[0;34m'Item_ID'\u001B[0m\u001B[0;34m,\u001B[0m \u001B[0;34mf'Score_{name}'\u001B[0m\u001B[0;34m,\u001B[0m\u001B[0;34mf'Max_Score_{name}'\u001B[0m\u001B[0;34m]\u001B[0m\u001B[0;34m)\u001B[0m\u001B[0;34m\u001B[0m\u001B[0;34m\u001B[0m\u001B[0m\n\u001B[1;32m    161\u001B[0m         \u001B[0mresults_dict\u001B[0m \u001B[0;34m=\u001B[0m \u001B[0mself\u001B[0m\u001B[0;34m.\u001B[0m\u001B[0m_run_evaluation_on_selected_users\u001B[0m\u001B[0;34m(\u001B[0m\u001B[0mrecommender_objects\u001B[0m\u001B[0;34m,\u001B[0m \u001B[0mself\u001B[0m\u001B[0;34m.\u001B[0m\u001B[0musers_to_evaluate\u001B[0m\u001B[0;34m,\u001B[0m\u001B[0mblock_size\u001B[0m\u001B[0;34m=\u001B[0m\u001B[0mblock_size\u001B[0m\u001B[0;34m,\u001B[0m\u001B[0mitems_to_compute\u001B[0m\u001B[0;34m=\u001B[0m\u001B[0mitems_to_compute\u001B[0m\u001B[0;34m,\u001B[0m\u001B[0mname\u001B[0m\u001B[0;34m=\u001B[0m\u001B[0mname\u001B[0m\u001B[0;34m)\u001B[0m\u001B[0;34m\u001B[0m\u001B[0;34m\u001B[0m\u001B[0m\n\u001B[0;32m--> 162\u001B[0;31m         \u001B[0mself\u001B[0m\u001B[0;34m.\u001B[0m\u001B[0mdataset_for_ranker\u001B[0m\u001B[0;34m.\u001B[0m\u001B[0mto_csv\u001B[0m\u001B[0;34m(\u001B[0m\u001B[0;34mf\"../dataset/candidates/traditional_recs/leaderboard/{name}.csv\"\u001B[0m\u001B[0;34m,\u001B[0m\u001B[0mindex\u001B[0m\u001B[0;34m=\u001B[0m\u001B[0;32mFalse\u001B[0m\u001B[0;34m)\u001B[0m\u001B[0;34m\u001B[0m\u001B[0;34m\u001B[0m\u001B[0m\n\u001B[0m\u001B[1;32m    163\u001B[0m \u001B[0;34m\u001B[0m\u001B[0m\n\u001B[1;32m    164\u001B[0m \u001B[0;34m\u001B[0m\u001B[0m\n",
      "\u001B[0;32m~/anaconda3/envs/RecSys_final_projrct/lib/python3.7/site-packages/pandas/core/generic.py\u001B[0m in \u001B[0;36mto_csv\u001B[0;34m(self, path_or_buf, sep, na_rep, float_format, columns, header, index, index_label, mode, encoding, compression, quoting, quotechar, line_terminator, chunksize, date_format, doublequote, escapechar, decimal, errors, storage_options)\u001B[0m\n\u001B[1;32m   3480\u001B[0m             \u001B[0mdoublequote\u001B[0m\u001B[0;34m=\u001B[0m\u001B[0mdoublequote\u001B[0m\u001B[0;34m,\u001B[0m\u001B[0;34m\u001B[0m\u001B[0;34m\u001B[0m\u001B[0m\n\u001B[1;32m   3481\u001B[0m             \u001B[0mescapechar\u001B[0m\u001B[0;34m=\u001B[0m\u001B[0mescapechar\u001B[0m\u001B[0;34m,\u001B[0m\u001B[0;34m\u001B[0m\u001B[0;34m\u001B[0m\u001B[0m\n\u001B[0;32m-> 3482\u001B[0;31m             \u001B[0mstorage_options\u001B[0m\u001B[0;34m=\u001B[0m\u001B[0mstorage_options\u001B[0m\u001B[0;34m,\u001B[0m\u001B[0;34m\u001B[0m\u001B[0;34m\u001B[0m\u001B[0m\n\u001B[0m\u001B[1;32m   3483\u001B[0m         )\n\u001B[1;32m   3484\u001B[0m \u001B[0;34m\u001B[0m\u001B[0m\n",
      "\u001B[0;32m~/anaconda3/envs/RecSys_final_projrct/lib/python3.7/site-packages/pandas/io/formats/format.py\u001B[0m in \u001B[0;36mto_csv\u001B[0;34m(self, path_or_buf, encoding, sep, columns, index_label, mode, compression, quoting, quotechar, line_terminator, chunksize, date_format, doublequote, escapechar, errors, storage_options)\u001B[0m\n\u001B[1;32m   1103\u001B[0m             \u001B[0mformatter\u001B[0m\u001B[0;34m=\u001B[0m\u001B[0mself\u001B[0m\u001B[0;34m.\u001B[0m\u001B[0mfmt\u001B[0m\u001B[0;34m,\u001B[0m\u001B[0;34m\u001B[0m\u001B[0;34m\u001B[0m\u001B[0m\n\u001B[1;32m   1104\u001B[0m         )\n\u001B[0;32m-> 1105\u001B[0;31m         \u001B[0mcsv_formatter\u001B[0m\u001B[0;34m.\u001B[0m\u001B[0msave\u001B[0m\u001B[0;34m(\u001B[0m\u001B[0;34m)\u001B[0m\u001B[0;34m\u001B[0m\u001B[0;34m\u001B[0m\u001B[0m\n\u001B[0m\u001B[1;32m   1106\u001B[0m \u001B[0;34m\u001B[0m\u001B[0m\n\u001B[1;32m   1107\u001B[0m         \u001B[0;32mif\u001B[0m \u001B[0mcreated_buffer\u001B[0m\u001B[0;34m:\u001B[0m\u001B[0;34m\u001B[0m\u001B[0;34m\u001B[0m\u001B[0m\n",
      "\u001B[0;32m~/anaconda3/envs/RecSys_final_projrct/lib/python3.7/site-packages/pandas/io/formats/csvs.py\u001B[0m in \u001B[0;36msave\u001B[0;34m(self)\u001B[0m\n\u001B[1;32m    255\u001B[0m             )\n\u001B[1;32m    256\u001B[0m \u001B[0;34m\u001B[0m\u001B[0m\n\u001B[0;32m--> 257\u001B[0;31m             \u001B[0mself\u001B[0m\u001B[0;34m.\u001B[0m\u001B[0m_save\u001B[0m\u001B[0;34m(\u001B[0m\u001B[0;34m)\u001B[0m\u001B[0;34m\u001B[0m\u001B[0;34m\u001B[0m\u001B[0m\n\u001B[0m\u001B[1;32m    258\u001B[0m \u001B[0;34m\u001B[0m\u001B[0m\n\u001B[1;32m    259\u001B[0m     \u001B[0;32mdef\u001B[0m \u001B[0m_save\u001B[0m\u001B[0;34m(\u001B[0m\u001B[0mself\u001B[0m\u001B[0;34m)\u001B[0m \u001B[0;34m->\u001B[0m \u001B[0;32mNone\u001B[0m\u001B[0;34m:\u001B[0m\u001B[0;34m\u001B[0m\u001B[0;34m\u001B[0m\u001B[0m\n",
      "\u001B[0;32m~/anaconda3/envs/RecSys_final_projrct/lib/python3.7/site-packages/pandas/io/formats/csvs.py\u001B[0m in \u001B[0;36m_save\u001B[0;34m(self)\u001B[0m\n\u001B[1;32m    260\u001B[0m         \u001B[0;32mif\u001B[0m \u001B[0mself\u001B[0m\u001B[0;34m.\u001B[0m\u001B[0m_need_to_save_header\u001B[0m\u001B[0;34m:\u001B[0m\u001B[0;34m\u001B[0m\u001B[0;34m\u001B[0m\u001B[0m\n\u001B[1;32m    261\u001B[0m             \u001B[0mself\u001B[0m\u001B[0;34m.\u001B[0m\u001B[0m_save_header\u001B[0m\u001B[0;34m(\u001B[0m\u001B[0;34m)\u001B[0m\u001B[0;34m\u001B[0m\u001B[0;34m\u001B[0m\u001B[0m\n\u001B[0;32m--> 262\u001B[0;31m         \u001B[0mself\u001B[0m\u001B[0;34m.\u001B[0m\u001B[0m_save_body\u001B[0m\u001B[0;34m(\u001B[0m\u001B[0;34m)\u001B[0m\u001B[0;34m\u001B[0m\u001B[0;34m\u001B[0m\u001B[0m\n\u001B[0m\u001B[1;32m    263\u001B[0m \u001B[0;34m\u001B[0m\u001B[0m\n\u001B[1;32m    264\u001B[0m     \u001B[0;32mdef\u001B[0m \u001B[0m_save_header\u001B[0m\u001B[0;34m(\u001B[0m\u001B[0mself\u001B[0m\u001B[0;34m)\u001B[0m \u001B[0;34m->\u001B[0m \u001B[0;32mNone\u001B[0m\u001B[0;34m:\u001B[0m\u001B[0;34m\u001B[0m\u001B[0;34m\u001B[0m\u001B[0m\n",
      "\u001B[0;32m~/anaconda3/envs/RecSys_final_projrct/lib/python3.7/site-packages/pandas/io/formats/csvs.py\u001B[0m in \u001B[0;36m_save_body\u001B[0;34m(self)\u001B[0m\n\u001B[1;32m    298\u001B[0m             \u001B[0;32mif\u001B[0m \u001B[0mstart_i\u001B[0m \u001B[0;34m>=\u001B[0m \u001B[0mend_i\u001B[0m\u001B[0;34m:\u001B[0m\u001B[0;34m\u001B[0m\u001B[0;34m\u001B[0m\u001B[0m\n\u001B[1;32m    299\u001B[0m                 \u001B[0;32mbreak\u001B[0m\u001B[0;34m\u001B[0m\u001B[0;34m\u001B[0m\u001B[0m\n\u001B[0;32m--> 300\u001B[0;31m             \u001B[0mself\u001B[0m\u001B[0;34m.\u001B[0m\u001B[0m_save_chunk\u001B[0m\u001B[0;34m(\u001B[0m\u001B[0mstart_i\u001B[0m\u001B[0;34m,\u001B[0m \u001B[0mend_i\u001B[0m\u001B[0;34m)\u001B[0m\u001B[0;34m\u001B[0m\u001B[0;34m\u001B[0m\u001B[0m\n\u001B[0m\u001B[1;32m    301\u001B[0m \u001B[0;34m\u001B[0m\u001B[0m\n\u001B[1;32m    302\u001B[0m     \u001B[0;32mdef\u001B[0m \u001B[0m_save_chunk\u001B[0m\u001B[0;34m(\u001B[0m\u001B[0mself\u001B[0m\u001B[0;34m,\u001B[0m \u001B[0mstart_i\u001B[0m\u001B[0;34m:\u001B[0m \u001B[0mint\u001B[0m\u001B[0;34m,\u001B[0m \u001B[0mend_i\u001B[0m\u001B[0;34m:\u001B[0m \u001B[0mint\u001B[0m\u001B[0;34m)\u001B[0m \u001B[0;34m->\u001B[0m \u001B[0;32mNone\u001B[0m\u001B[0;34m:\u001B[0m\u001B[0;34m\u001B[0m\u001B[0;34m\u001B[0m\u001B[0m\n",
      "\u001B[0;32m~/anaconda3/envs/RecSys_final_projrct/lib/python3.7/site-packages/pandas/io/formats/csvs.py\u001B[0m in \u001B[0;36m_save_chunk\u001B[0;34m(self, start_i, end_i)\u001B[0m\n\u001B[1;32m    314\u001B[0m             \u001B[0mself\u001B[0m\u001B[0;34m.\u001B[0m\u001B[0mnlevels\u001B[0m\u001B[0;34m,\u001B[0m\u001B[0;34m\u001B[0m\u001B[0;34m\u001B[0m\u001B[0m\n\u001B[1;32m    315\u001B[0m             \u001B[0mself\u001B[0m\u001B[0;34m.\u001B[0m\u001B[0mcols\u001B[0m\u001B[0;34m,\u001B[0m\u001B[0;34m\u001B[0m\u001B[0;34m\u001B[0m\u001B[0m\n\u001B[0;32m--> 316\u001B[0;31m             \u001B[0mself\u001B[0m\u001B[0;34m.\u001B[0m\u001B[0mwriter\u001B[0m\u001B[0;34m,\u001B[0m\u001B[0;34m\u001B[0m\u001B[0;34m\u001B[0m\u001B[0m\n\u001B[0m\u001B[1;32m    317\u001B[0m         )\n",
      "\u001B[0;32m~/anaconda3/envs/RecSys_final_projrct/lib/python3.7/site-packages/pandas/_libs/writers.pyx\u001B[0m in \u001B[0;36mpandas._libs.writers.write_csv_rows\u001B[0;34m()\u001B[0m\n",
      "\u001B[0;31mOSError\u001B[0m: [Errno 28] No space left on device"
     ]
    }
   ],
   "source": [
    "for i,rec_group in enumerate(rec_groups):\n",
    "    name=names[i]\n",
    "    ev = HITRATEEvaluator(URM_valid,cutoff_list=[150])\n",
    "    result=ev.evaluateRecommender(rec_group,block_size=4000,items_to_compute=candidates,name= name)"
   ]
  }
 ],
 "metadata": {
  "kernelspec": {
   "display_name": "Python 3.7.11 ('mujoco_env')",
   "language": "python",
   "name": "python3"
  },
  "language_info": {
   "codemirror_mode": {
    "name": "ipython",
    "version": 3
   },
   "file_extension": ".py",
   "mimetype": "text/x-python",
   "name": "python",
   "nbconvert_exporter": "python",
   "pygments_lexer": "ipython3",
   "version": "3.7.11"
  },
  "vscode": {
   "interpreter": {
    "hash": "f8061722fe84fabbc8ed8d5f0e039f2c96c46380194aaa420922169d0b1efcc8"
   }
  }
 },
 "nbformat": 4,
 "nbformat_minor": 4
}
