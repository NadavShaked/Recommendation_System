{
  "cells": [
    {
      "cell_type": "code",
      "execution_count": null,
      "id": "f6b22d84",
      "metadata": {
        "id": "f6b22d84"
      },
      "outputs": [],
      "source": [
        "just_checking_integrity=False\n",
        "rows=3000\n",
        "test_rows=1000"
      ]
    },
    {
      "cell_type": "code",
      "execution_count": null,
      "id": "b647804a",
      "metadata": {
        "execution": {
          "iopub.execute_input": "2022-06-13T15:46:46.608130Z",
          "iopub.status.busy": "2022-06-13T15:46:46.607453Z",
          "iopub.status.idle": "2022-06-13T15:46:52.081025Z",
          "shell.execute_reply": "2022-06-13T15:46:52.080240Z"
        },
        "id": "b647804a",
        "papermill": {
          "duration": 5.495221,
          "end_time": "2022-06-13T15:46:52.083101",
          "exception": false,
          "start_time": "2022-06-13T15:46:46.587880",
          "status": "completed"
        },
        "tags": []
      },
      "outputs": [],
      "source": [
        "import pandas as pd\n",
        "import tensorflow as tf\n",
        "from tensorflow.keras import layers\n",
        "from sklearn.model_selection import train_test_split\n",
        "import numpy as np\n",
        "import datetime\n",
        "from itertools import compress\n",
        "from math import sin, cos\n",
        "import ast"
      ]
    },
    {
      "cell_type": "code",
      "source": [
        "from google.colab import drive\n",
        "drive.mount('/content/drive')"
      ],
      "metadata": {
        "colab": {
          "base_uri": "https://localhost:8080/"
        },
        "id": "Ixq0f51oOWI3",
        "outputId": "8b0a1f85-0184-4801-91a7-e96afd99c08c"
      },
      "id": "Ixq0f51oOWI3",
      "execution_count": null,
      "outputs": [
        {
          "output_type": "stream",
          "name": "stdout",
          "text": [
            "Mounted at /content/drive\n"
          ]
        }
      ]
    },
    {
      "cell_type": "code",
      "execution_count": null,
      "id": "31e5dc46",
      "metadata": {
        "id": "31e5dc46"
      },
      "outputs": [],
      "source": [
        "from tqdm.auto import tqdm\n",
        "tqdm.pandas()"
      ]
    },
    {
      "cell_type": "markdown",
      "id": "c9df263b",
      "metadata": {
        "id": "c9df263b",
        "papermill": {
          "duration": 0.018802,
          "end_time": "2022-06-13T15:46:52.932998",
          "exception": false,
          "start_time": "2022-06-13T15:46:52.914196",
          "status": "completed"
        },
        "tags": []
      },
      "source": [
        "## Custom metric\n"
      ]
    },
    {
      "cell_type": "code",
      "execution_count": null,
      "id": "0e515b5a",
      "metadata": {
        "execution": {
          "iopub.execute_input": "2022-06-13T15:46:52.971622Z",
          "iopub.status.busy": "2022-06-13T15:46:52.971293Z",
          "iopub.status.idle": "2022-06-13T15:46:52.979012Z",
          "shell.execute_reply": "2022-06-13T15:46:52.978270Z"
        },
        "id": "0e515b5a",
        "papermill": {
          "duration": 0.029113,
          "end_time": "2022-06-13T15:46:52.980780",
          "exception": false,
          "start_time": "2022-06-13T15:46:52.951667",
          "status": "completed"
        },
        "tags": []
      },
      "outputs": [],
      "source": [
        "def mrr_top_at(at=100):\n",
        "    @tf.function\n",
        "    def mrr_top(y_true,y_pred):\n",
        "        top_k=tf.math.top_k(y_pred,k=at)\n",
        "        rr=top_k.indices\n",
        "        #print(rr)\n",
        "        idx=tf.range(start=1,limit=at+1,delta=1)\n",
        "        y_true=tf.reshape(y_true,[-1,1])\n",
        "        #print(y_true)\n",
        "        #y_true=tf.broadcast_to(y_true,test.shape)\n",
        "        y_true=tf.cast(y_true,tf.int32)\n",
        "        ranking=tf.where(tf.math.equal(rr,y_true),idx,0)\n",
        "        #print(ranking)\n",
        "        ranking=tf.reduce_sum(ranking,axis=-1)\n",
        "        ranking=tf.where(ranking>0,1/ranking,0)\n",
        "        #print(ranking)\n",
        "        ranking=tf.reduce_mean(ranking)\n",
        "        return ranking\n",
        "    return mrr_top\n"
      ]
    },
    {
      "cell_type": "markdown",
      "id": "024b1a7e",
      "metadata": {
        "id": "024b1a7e",
        "papermill": {
          "duration": 0.018758,
          "end_time": "2022-06-13T15:46:53.018573",
          "exception": false,
          "start_time": "2022-06-13T15:46:52.999815",
          "status": "completed"
        },
        "tags": []
      },
      "source": [
        "## Custom layers"
      ]
    },
    {
      "cell_type": "code",
      "execution_count": null,
      "id": "f682c799",
      "metadata": {
        "execution": {
          "iopub.execute_input": "2022-06-13T15:46:53.057483Z",
          "iopub.status.busy": "2022-06-13T15:46:53.056810Z",
          "iopub.status.idle": "2022-06-13T15:46:53.064633Z",
          "shell.execute_reply": "2022-06-13T15:46:53.063907Z"
        },
        "id": "f682c799",
        "papermill": {
          "duration": 0.029132,
          "end_time": "2022-06-13T15:46:53.066312",
          "exception": false,
          "start_time": "2022-06-13T15:46:53.037180",
          "status": "completed"
        },
        "tags": []
      },
      "outputs": [],
      "source": [
        "class TransformerBlock(layers.Layer):\n",
        "    def __init__(self, embed_dim, num_heads, ff_dim, rate=0.1):\n",
        "        super(TransformerBlock, self).__init__()\n",
        "        self.att = layers.MultiHeadAttention(num_heads=num_heads, key_dim=embed_dim)\n",
        "        self.ffn = tf.keras.Sequential(\n",
        "            [layers.Dense(ff_dim, activation=\"relu\"), layers.Dense(embed_dim),]\n",
        "        )\n",
        "        self.layernorm1 = layers.LayerNormalization(epsilon=1e-6)\n",
        "        self.layernorm2 = layers.LayerNormalization(epsilon=1e-6)\n",
        "        self.dropout1 = layers.Dropout(rate)\n",
        "        self.dropout2 = layers.Dropout(rate)\n",
        "\n",
        "    def call(self, inputs, training):\n",
        "        attn_output = self.att(inputs, inputs)\n",
        "        attn_output = self.dropout1(attn_output, training=training)\n",
        "        out1 = self.layernorm1(inputs + attn_output)\n",
        "        ffn_output = self.ffn(out1)\n",
        "        ffn_output = self.dropout2(ffn_output, training=training)\n",
        "        return self.layernorm2(out1 + ffn_output)"
      ]
    },
    {
      "cell_type": "code",
      "execution_count": null,
      "id": "8b32ba9f",
      "metadata": {
        "execution": {
          "iopub.execute_input": "2022-06-13T15:46:53.104693Z",
          "iopub.status.busy": "2022-06-13T15:46:53.104054Z",
          "iopub.status.idle": "2022-06-13T15:46:53.110733Z",
          "shell.execute_reply": "2022-06-13T15:46:53.110019Z"
        },
        "id": "8b32ba9f",
        "papermill": {
          "duration": 0.027593,
          "end_time": "2022-06-13T15:46:53.112366",
          "exception": false,
          "start_time": "2022-06-13T15:46:53.084773",
          "status": "completed"
        },
        "tags": []
      },
      "outputs": [],
      "source": [
        "class TokenAndPositionEmbedding(layers.Layer):\n",
        "    def __init__(\n",
        "        self,\n",
        "        maxlen,\n",
        "        vocab_size,\n",
        "        embed_dim,\n",
        "        item_embedding_trainable=True,\n",
        "        embedding_weights=None\n",
        "        ):\n",
        "        super(TokenAndPositionEmbedding, self).__init__()\n",
        "        self.token_emb = layers.Embedding(\n",
        "            input_dim=vocab_size,\n",
        "            output_dim=embed_dim,\n",
        "            trainable=item_embedding_trainable,\n",
        "            weights=embedding_weights\n",
        "            )\n",
        "        self.pos_emb = layers.Embedding(input_dim=maxlen, output_dim=embed_dim)\n",
        "\n",
        "    def call(self, x):\n",
        "        maxlen = tf.shape(x)[-1]\n",
        "        positions = tf.range(start=maxlen-1, limit=0, delta=-1)\n",
        "        positions = self.pos_emb(positions)\n",
        "        x = self.token_emb(x)\n",
        "        return x + positions"
      ]
    },
    {
      "cell_type": "code",
      "execution_count": null,
      "id": "357d9308",
      "metadata": {
        "execution": {
          "iopub.execute_input": "2022-06-13T15:46:53.150889Z",
          "iopub.status.busy": "2022-06-13T15:46:53.150617Z",
          "iopub.status.idle": "2022-06-13T15:46:53.156218Z",
          "shell.execute_reply": "2022-06-13T15:46:53.155513Z"
        },
        "id": "357d9308",
        "papermill": {
          "duration": 0.026924,
          "end_time": "2022-06-13T15:46:53.157898",
          "exception": false,
          "start_time": "2022-06-13T15:46:53.130974",
          "status": "completed"
        },
        "tags": []
      },
      "outputs": [],
      "source": [
        "class PositionEmbedding(layers.Layer):\n",
        "    def __init__(\n",
        "        self,\n",
        "        maxlen,\n",
        "        embed_dim,\n",
        "        ):\n",
        "        super(PositionEmbedding, self).__init__()\n",
        "        self.pos_emb = layers.Embedding(input_dim=maxlen, output_dim=embed_dim)\n",
        "\n",
        "    def call(self, x):\n",
        "        maxlen = tf.shape(x)[-1]\n",
        "        positions = tf.range(start=0, limit=maxlen, delta=1)\n",
        "        positions = self.pos_emb(positions)\n",
        "        return positions"
      ]
    },
    {
      "cell_type": "code",
      "execution_count": null,
      "id": "99603a0f",
      "metadata": {
        "execution": {
          "iopub.execute_input": "2022-06-13T15:46:53.197710Z",
          "iopub.status.busy": "2022-06-13T15:46:53.196404Z",
          "iopub.status.idle": "2022-06-13T15:46:53.203227Z",
          "shell.execute_reply": "2022-06-13T15:46:53.202536Z"
        },
        "id": "99603a0f",
        "papermill": {
          "duration": 0.028007,
          "end_time": "2022-06-13T15:46:53.204851",
          "exception": false,
          "start_time": "2022-06-13T15:46:53.176844",
          "status": "completed"
        },
        "tags": []
      },
      "outputs": [],
      "source": [
        "class RBFLayer(layers.Layer):\n",
        "    def __init__(self, weights, gamma, **kwargs):\n",
        "        super(RBFLayer, self).__init__(**kwargs)\n",
        "        # shape=(embedding_dimension, num_units)\n",
        "        self.embedding_weights = tf.transpose(weights)\n",
        "        self.gamma = gamma\n",
        "\n",
        "    def call(self, inputs):\n",
        "        l2 = tf.math.reduce_sum(\n",
        "            tf.math.squared_difference(\n",
        "                x=tf.expand_dims(inputs, axis=-1),\n",
        "                y=self.embedding_weights\n",
        "                ),\n",
        "            axis=1\n",
        "            )\n",
        "        res = tf.math.exp(-self.gamma * l2)\n",
        "        return res / tf.reduce_sum(res, axis=1, keepdims=True)"
      ]
    },
    {
      "cell_type": "markdown",
      "id": "88e0e2ad",
      "metadata": {
        "id": "88e0e2ad",
        "papermill": {
          "duration": 0.031781,
          "end_time": "2022-06-13T15:46:53.950092",
          "exception": false,
          "start_time": "2022-06-13T15:46:53.918311",
          "status": "completed"
        },
        "tags": []
      },
      "source": [
        "# Prepare dataset"
      ]
    },
    {
      "cell_type": "code",
      "execution_count": null,
      "id": "82dc56b9",
      "metadata": {
        "execution": {
          "iopub.execute_input": "2022-06-13T15:46:54.017951Z",
          "iopub.status.busy": "2022-06-13T15:46:54.017635Z",
          "iopub.status.idle": "2022-06-13T15:46:54.032556Z",
          "shell.execute_reply": "2022-06-13T15:46:54.031718Z"
        },
        "id": "82dc56b9",
        "outputId": "df074ab3-191d-43b1-9566-46fca1fa3570",
        "papermill": {
          "duration": 0.050992,
          "end_time": "2022-06-13T15:46:54.034575",
          "exception": false,
          "start_time": "2022-06-13T15:46:53.983583",
          "status": "completed"
        },
        "tags": [],
        "colab": {
          "base_uri": "https://localhost:8080/",
          "height": 206
        }
      },
      "outputs": [
        {
          "output_type": "execute_result",
          "data": {
            "text/plain": [
              "   item_id\n",
              "0        1\n",
              "1        2\n",
              "2        3\n",
              "3        4\n",
              "4        5"
            ],
            "text/html": [
              "\n",
              "  <div id=\"df-77351179-70e9-401d-aa8e-7724e86de2cb\" class=\"colab-df-container\">\n",
              "    <div>\n",
              "<style scoped>\n",
              "    .dataframe tbody tr th:only-of-type {\n",
              "        vertical-align: middle;\n",
              "    }\n",
              "\n",
              "    .dataframe tbody tr th {\n",
              "        vertical-align: top;\n",
              "    }\n",
              "\n",
              "    .dataframe thead th {\n",
              "        text-align: right;\n",
              "    }\n",
              "</style>\n",
              "<table border=\"1\" class=\"dataframe\">\n",
              "  <thead>\n",
              "    <tr style=\"text-align: right;\">\n",
              "      <th></th>\n",
              "      <th>item_id</th>\n",
              "    </tr>\n",
              "  </thead>\n",
              "  <tbody>\n",
              "    <tr>\n",
              "      <th>0</th>\n",
              "      <td>1</td>\n",
              "    </tr>\n",
              "    <tr>\n",
              "      <th>1</th>\n",
              "      <td>2</td>\n",
              "    </tr>\n",
              "    <tr>\n",
              "      <th>2</th>\n",
              "      <td>3</td>\n",
              "    </tr>\n",
              "    <tr>\n",
              "      <th>3</th>\n",
              "      <td>4</td>\n",
              "    </tr>\n",
              "    <tr>\n",
              "      <th>4</th>\n",
              "      <td>5</td>\n",
              "    </tr>\n",
              "  </tbody>\n",
              "</table>\n",
              "</div>\n",
              "    <div class=\"colab-df-buttons\">\n",
              "\n",
              "  <div class=\"colab-df-container\">\n",
              "    <button class=\"colab-df-convert\" onclick=\"convertToInteractive('df-77351179-70e9-401d-aa8e-7724e86de2cb')\"\n",
              "            title=\"Convert this dataframe to an interactive table.\"\n",
              "            style=\"display:none;\">\n",
              "\n",
              "  <svg xmlns=\"http://www.w3.org/2000/svg\" height=\"24px\" viewBox=\"0 -960 960 960\">\n",
              "    <path d=\"M120-120v-720h720v720H120Zm60-500h600v-160H180v160Zm220 220h160v-160H400v160Zm0 220h160v-160H400v160ZM180-400h160v-160H180v160Zm440 0h160v-160H620v160ZM180-180h160v-160H180v160Zm440 0h160v-160H620v160Z\"/>\n",
              "  </svg>\n",
              "    </button>\n",
              "\n",
              "  <style>\n",
              "    .colab-df-container {\n",
              "      display:flex;\n",
              "      gap: 12px;\n",
              "    }\n",
              "\n",
              "    .colab-df-convert {\n",
              "      background-color: #E8F0FE;\n",
              "      border: none;\n",
              "      border-radius: 50%;\n",
              "      cursor: pointer;\n",
              "      display: none;\n",
              "      fill: #1967D2;\n",
              "      height: 32px;\n",
              "      padding: 0 0 0 0;\n",
              "      width: 32px;\n",
              "    }\n",
              "\n",
              "    .colab-df-convert:hover {\n",
              "      background-color: #E2EBFA;\n",
              "      box-shadow: 0px 1px 2px rgba(60, 64, 67, 0.3), 0px 1px 3px 1px rgba(60, 64, 67, 0.15);\n",
              "      fill: #174EA6;\n",
              "    }\n",
              "\n",
              "    .colab-df-buttons div {\n",
              "      margin-bottom: 4px;\n",
              "    }\n",
              "\n",
              "    [theme=dark] .colab-df-convert {\n",
              "      background-color: #3B4455;\n",
              "      fill: #D2E3FC;\n",
              "    }\n",
              "\n",
              "    [theme=dark] .colab-df-convert:hover {\n",
              "      background-color: #434B5C;\n",
              "      box-shadow: 0px 1px 3px 1px rgba(0, 0, 0, 0.15);\n",
              "      filter: drop-shadow(0px 1px 2px rgba(0, 0, 0, 0.3));\n",
              "      fill: #FFFFFF;\n",
              "    }\n",
              "  </style>\n",
              "\n",
              "    <script>\n",
              "      const buttonEl =\n",
              "        document.querySelector('#df-77351179-70e9-401d-aa8e-7724e86de2cb button.colab-df-convert');\n",
              "      buttonEl.style.display =\n",
              "        google.colab.kernel.accessAllowed ? 'block' : 'none';\n",
              "\n",
              "      async function convertToInteractive(key) {\n",
              "        const element = document.querySelector('#df-77351179-70e9-401d-aa8e-7724e86de2cb');\n",
              "        const dataTable =\n",
              "          await google.colab.kernel.invokeFunction('convertToInteractive',\n",
              "                                                    [key], {});\n",
              "        if (!dataTable) return;\n",
              "\n",
              "        const docLinkHtml = 'Like what you see? Visit the ' +\n",
              "          '<a target=\"_blank\" href=https://colab.research.google.com/notebooks/data_table.ipynb>data table notebook</a>'\n",
              "          + ' to learn more about interactive tables.';\n",
              "        element.innerHTML = '';\n",
              "        dataTable['output_type'] = 'display_data';\n",
              "        await google.colab.output.renderOutput(dataTable, element);\n",
              "        const docLink = document.createElement('div');\n",
              "        docLink.innerHTML = docLinkHtml;\n",
              "        element.appendChild(docLink);\n",
              "      }\n",
              "    </script>\n",
              "  </div>\n",
              "\n",
              "\n",
              "<div id=\"df-bc3efec1-fb96-4a43-b793-f28bb08a1524\">\n",
              "  <button class=\"colab-df-quickchart\" onclick=\"quickchart('df-bc3efec1-fb96-4a43-b793-f28bb08a1524')\"\n",
              "            title=\"Suggest charts\"\n",
              "            style=\"display:none;\">\n",
              "\n",
              "<svg xmlns=\"http://www.w3.org/2000/svg\" height=\"24px\"viewBox=\"0 0 24 24\"\n",
              "     width=\"24px\">\n",
              "    <g>\n",
              "        <path d=\"M19 3H5c-1.1 0-2 .9-2 2v14c0 1.1.9 2 2 2h14c1.1 0 2-.9 2-2V5c0-1.1-.9-2-2-2zM9 17H7v-7h2v7zm4 0h-2V7h2v10zm4 0h-2v-4h2v4z\"/>\n",
              "    </g>\n",
              "</svg>\n",
              "  </button>\n",
              "\n",
              "<style>\n",
              "  .colab-df-quickchart {\n",
              "      --bg-color: #E8F0FE;\n",
              "      --fill-color: #1967D2;\n",
              "      --hover-bg-color: #E2EBFA;\n",
              "      --hover-fill-color: #174EA6;\n",
              "      --disabled-fill-color: #AAA;\n",
              "      --disabled-bg-color: #DDD;\n",
              "  }\n",
              "\n",
              "  [theme=dark] .colab-df-quickchart {\n",
              "      --bg-color: #3B4455;\n",
              "      --fill-color: #D2E3FC;\n",
              "      --hover-bg-color: #434B5C;\n",
              "      --hover-fill-color: #FFFFFF;\n",
              "      --disabled-bg-color: #3B4455;\n",
              "      --disabled-fill-color: #666;\n",
              "  }\n",
              "\n",
              "  .colab-df-quickchart {\n",
              "    background-color: var(--bg-color);\n",
              "    border: none;\n",
              "    border-radius: 50%;\n",
              "    cursor: pointer;\n",
              "    display: none;\n",
              "    fill: var(--fill-color);\n",
              "    height: 32px;\n",
              "    padding: 0;\n",
              "    width: 32px;\n",
              "  }\n",
              "\n",
              "  .colab-df-quickchart:hover {\n",
              "    background-color: var(--hover-bg-color);\n",
              "    box-shadow: 0 1px 2px rgba(60, 64, 67, 0.3), 0 1px 3px 1px rgba(60, 64, 67, 0.15);\n",
              "    fill: var(--button-hover-fill-color);\n",
              "  }\n",
              "\n",
              "  .colab-df-quickchart-complete:disabled,\n",
              "  .colab-df-quickchart-complete:disabled:hover {\n",
              "    background-color: var(--disabled-bg-color);\n",
              "    fill: var(--disabled-fill-color);\n",
              "    box-shadow: none;\n",
              "  }\n",
              "\n",
              "  .colab-df-spinner {\n",
              "    border: 2px solid var(--fill-color);\n",
              "    border-color: transparent;\n",
              "    border-bottom-color: var(--fill-color);\n",
              "    animation:\n",
              "      spin 1s steps(1) infinite;\n",
              "  }\n",
              "\n",
              "  @keyframes spin {\n",
              "    0% {\n",
              "      border-color: transparent;\n",
              "      border-bottom-color: var(--fill-color);\n",
              "      border-left-color: var(--fill-color);\n",
              "    }\n",
              "    20% {\n",
              "      border-color: transparent;\n",
              "      border-left-color: var(--fill-color);\n",
              "      border-top-color: var(--fill-color);\n",
              "    }\n",
              "    30% {\n",
              "      border-color: transparent;\n",
              "      border-left-color: var(--fill-color);\n",
              "      border-top-color: var(--fill-color);\n",
              "      border-right-color: var(--fill-color);\n",
              "    }\n",
              "    40% {\n",
              "      border-color: transparent;\n",
              "      border-right-color: var(--fill-color);\n",
              "      border-top-color: var(--fill-color);\n",
              "    }\n",
              "    60% {\n",
              "      border-color: transparent;\n",
              "      border-right-color: var(--fill-color);\n",
              "    }\n",
              "    80% {\n",
              "      border-color: transparent;\n",
              "      border-right-color: var(--fill-color);\n",
              "      border-bottom-color: var(--fill-color);\n",
              "    }\n",
              "    90% {\n",
              "      border-color: transparent;\n",
              "      border-bottom-color: var(--fill-color);\n",
              "    }\n",
              "  }\n",
              "</style>\n",
              "\n",
              "  <script>\n",
              "    async function quickchart(key) {\n",
              "      const quickchartButtonEl =\n",
              "        document.querySelector('#' + key + ' button');\n",
              "      quickchartButtonEl.disabled = true;  // To prevent multiple clicks.\n",
              "      quickchartButtonEl.classList.add('colab-df-spinner');\n",
              "      try {\n",
              "        const charts = await google.colab.kernel.invokeFunction(\n",
              "            'suggestCharts', [key], {});\n",
              "      } catch (error) {\n",
              "        console.error('Error during call to suggestCharts:', error);\n",
              "      }\n",
              "      quickchartButtonEl.classList.remove('colab-df-spinner');\n",
              "      quickchartButtonEl.classList.add('colab-df-quickchart-complete');\n",
              "    }\n",
              "    (() => {\n",
              "      let quickchartButtonEl =\n",
              "        document.querySelector('#df-bc3efec1-fb96-4a43-b793-f28bb08a1524 button');\n",
              "      quickchartButtonEl.style.display =\n",
              "        google.colab.kernel.accessAllowed ? 'block' : 'none';\n",
              "    })();\n",
              "  </script>\n",
              "</div>\n",
              "\n",
              "    </div>\n",
              "  </div>\n"
            ],
            "application/vnd.google.colaboratory.intrinsic+json": {
              "type": "dataframe",
              "variable_name": "candidate_items",
              "summary": "{\n  \"name\": \"candidate_items\",\n  \"rows\": 4990,\n  \"fields\": [\n    {\n      \"column\": \"item_id\",\n      \"properties\": {\n        \"dtype\": \"number\",\n        \"std\": 1440,\n        \"min\": 1,\n        \"max\": 4990,\n        \"num_unique_values\": 4990,\n        \"samples\": [\n          4728,\n          2317,\n          3670\n        ],\n        \"semantic_type\": \"\",\n        \"description\": \"\"\n      }\n    }\n  ]\n}"
            }
          },
          "metadata": {},
          "execution_count": 10
        }
      ],
      "source": [
        "candidate_items = pd.read_csv('./drive/MyDrive/Recommendation_system/dataset/processed_data/candidate_items_mapped.csv')\n",
        "candidate_items.head()"
      ]
    },
    {
      "cell_type": "code",
      "execution_count": null,
      "id": "5a5a5fe6",
      "metadata": {
        "execution": {
          "iopub.execute_input": "2022-06-13T15:46:54.073629Z",
          "iopub.status.busy": "2022-06-13T15:46:54.073351Z",
          "iopub.status.idle": "2022-06-13T15:46:54.082020Z",
          "shell.execute_reply": "2022-06-13T15:46:54.081162Z"
        },
        "id": "5a5a5fe6",
        "outputId": "f7cf08ff-2966-48a8-aec6-a243d66a5081",
        "papermill": {
          "duration": 0.029847,
          "end_time": "2022-06-13T15:46:54.083735",
          "exception": false,
          "start_time": "2022-06-13T15:46:54.053888",
          "status": "completed"
        },
        "tags": [],
        "colab": {
          "base_uri": "https://localhost:8080/"
        }
      },
      "outputs": [
        {
          "output_type": "execute_result",
          "data": {
            "text/plain": [
              "(23692, 64)"
            ]
          },
          "metadata": {},
          "execution_count": 11
        }
      ],
      "source": [
        "embedding_weights = np.load(\n",
        "    './drive/MyDrive/Recommendation_system/dataset/processed_data/compressed_features.npy'\n",
        "    )\n",
        "import os\n",
        "import scipy.sparse as sps\n",
        "def get_ICM(files_directory=\"./drive/MyDrive/Recommendation_system/dataset/processed_data\"):\n",
        "    df_icm = pd.read_csv(filepath_or_buffer=os.path.join(files_directory, 'simplified_features_and_categories_30.csv'), sep=',', header=0)\n",
        "\n",
        "    item_id_list = df_icm['item_id'].values\n",
        "    feat_id_list = df_icm['feature_idx'].values\n",
        "    rating_id_list = np.ones_like(feat_id_list)\n",
        "    ICM_matrix = sps.csr_matrix((rating_id_list, (item_id_list, feat_id_list)))\n",
        "    return ICM_matrix\n",
        "\n",
        "ICM=get_ICM()\n",
        "embedding_weights.shape"
      ]
    },
    {
      "cell_type": "code",
      "execution_count": null,
      "id": "972a586b",
      "metadata": {
        "execution": {
          "iopub.execute_input": "2022-06-13T15:46:54.303794Z",
          "iopub.status.busy": "2022-06-13T15:46:54.303548Z",
          "iopub.status.idle": "2022-06-13T15:47:34.265070Z",
          "shell.execute_reply": "2022-06-13T15:47:34.264280Z"
        },
        "id": "972a586b",
        "papermill": {
          "duration": 39.983661,
          "end_time": "2022-06-13T15:47:34.267146",
          "exception": false,
          "start_time": "2022-06-13T15:46:54.283485",
          "status": "completed"
        },
        "tags": []
      },
      "outputs": [],
      "source": [
        "result =  pd.read_csv(\"./drive/MyDrive/Recommendation_system/dataset/processed_data/macro_feats_NN.csv\",parse_dates=[\"date_session_starting\"],\n",
        "     infer_datetime_format=True)\n",
        "\n",
        "\n",
        "\n",
        "result[\"item_id\"]=result[\"item_id\"].map(ast.literal_eval)\n",
        "result[\"timedelta\"]=result[\"timedelta\"].map(ast.literal_eval)\n",
        "\n",
        "def is_reseen(x):\n",
        "    #print(x)\n",
        "    seen={}\n",
        "    res=[]\n",
        "    for item in x:\n",
        "        if item in seen:\n",
        "            res.append(seen[item])\n",
        "            seen[item]+=1\n",
        "        else:\n",
        "            res.append(0)\n",
        "            seen[item]=1\n",
        "    return res\n",
        "\n",
        "def percentage_seen(x):\n",
        "    size=len(x)\n",
        "    return [(i+1)/size for i in range(size)]"
      ]
    },
    {
      "cell_type": "code",
      "execution_count": null,
      "id": "ff57e158",
      "metadata": {
        "execution": {
          "iopub.execute_input": "2022-06-13T15:47:34.307373Z",
          "iopub.status.busy": "2022-06-13T15:47:34.307065Z",
          "iopub.status.idle": "2022-06-13T15:47:50.902832Z",
          "shell.execute_reply": "2022-06-13T15:47:50.902005Z"
        },
        "id": "ff57e158",
        "outputId": "4618caee-107a-48fb-a4de-5a035933a91a",
        "papermill": {
          "duration": 16.618572,
          "end_time": "2022-06-13T15:47:50.904973",
          "exception": false,
          "start_time": "2022-06-13T15:47:34.286401",
          "status": "completed"
        },
        "tags": [],
        "colab": {
          "base_uri": "https://localhost:8080/",
          "height": 81,
          "referenced_widgets": [
            "aa337411af644b239e366c6699d7dbc6",
            "97548d5ed61a4ab6b2d6c57cb015064e",
            "8f4034a0220d486bb9959f2e505b7509",
            "11134d4b27b14fa2b61b5fa66e21fe9b",
            "8df54917f36c418a8ae78099e63681ff",
            "92dd55fe6c04400abd6a3c4ad4ae2817",
            "ec555681ac01426aaaf6b0826b556b92",
            "3caea61f890649dda226186c8dfccb63",
            "f62835bee059429a8eae9397eefb5d3d",
            "0e7e1563bdd245e0bd695a6951ecbf60",
            "c1aef64672c142c4a1f8ef180f18963d",
            "5d0e32289e6b444f8fcdd154f85695b8",
            "68b3a75fe8de4536a6ae67d232df0863",
            "90d1f912f8cb462a95e6e17059b7edf9",
            "0cf36b4027c241be934baa29d4a110d5",
            "ac7709a6831647c7b69e8c089aa5f789",
            "f6426aae0c8a46faa3f1f5e2e7a9934e",
            "2b840908c9d74255898100aceef0416f",
            "ecddaaba806b4524b4fd4e19999608b5",
            "0f7b6567930e4a28b31865f7f1b498b2",
            "14e58c4c7a0045d68313444cbc59e8ca",
            "62add308abeb4a75a5b051ab890d61d5"
          ]
        }
      },
      "outputs": [
        {
          "output_type": "display_data",
          "data": {
            "text/plain": [
              "  0%|          | 0/1000000 [00:00<?, ?it/s]"
            ],
            "application/vnd.jupyter.widget-view+json": {
              "version_major": 2,
              "version_minor": 0,
              "model_id": "aa337411af644b239e366c6699d7dbc6"
            }
          },
          "metadata": {}
        },
        {
          "output_type": "display_data",
          "data": {
            "text/plain": [
              "  0%|          | 0/1000000 [00:00<?, ?it/s]"
            ],
            "application/vnd.jupyter.widget-view+json": {
              "version_major": 2,
              "version_minor": 0,
              "model_id": "5d0e32289e6b444f8fcdd154f85695b8"
            }
          },
          "metadata": {}
        }
      ],
      "source": [
        "x_reseen = tf.keras.preprocessing.sequence.pad_sequences(\n",
        "    result['item_id'].progress_apply(is_reseen),\n",
        "    padding='post',\n",
        "    maxlen=100,\n",
        "    dtype=\"int16\"\n",
        ")\n",
        "x_percentage_seen = tf.keras.preprocessing.sequence.pad_sequences(\n",
        "    result['item_id'].progress_apply(percentage_seen),\n",
        "    padding='post',\n",
        "    maxlen=100,\n",
        "    dtype='float16',\n",
        ")"
      ]
    },
    {
      "cell_type": "code",
      "execution_count": null,
      "id": "1bb85465",
      "metadata": {
        "execution": {
          "iopub.execute_input": "2022-06-13T15:47:50.946427Z",
          "iopub.status.busy": "2022-06-13T15:47:50.946120Z",
          "iopub.status.idle": "2022-06-13T15:47:50.954799Z",
          "shell.execute_reply": "2022-06-13T15:47:50.953838Z"
        },
        "id": "1bb85465",
        "papermill": {
          "duration": 0.031192,
          "end_time": "2022-06-13T15:47:50.956707",
          "exception": false,
          "start_time": "2022-06-13T15:47:50.925515",
          "status": "completed"
        },
        "tags": []
      },
      "outputs": [],
      "source": [
        "def similarity_with_preceding(x):\n",
        "    if len(x)==1:\n",
        "        return np.array([0])\n",
        "    feats=embedding_weights[x]\n",
        "    #normalize\n",
        "    feats=np.divide(feats,np.linalg.norm(feats,axis=1).reshape((-1,1)))\n",
        "    feats_copy=feats.copy()\n",
        "    feats_copy=np.roll(feats_copy,1,axis=0)\n",
        "    feats_copy[0,:]=0\n",
        "    prod=np.multiply(feats,feats_copy).sum(axis=1)\n",
        "    return prod\n",
        "\n",
        "\n",
        "\n",
        "def similarity_feats_with_preceding(x):\n",
        "    if len(x)==1:\n",
        "        return np.array([0])\n",
        "    feats=ICM[x].toarray()\n",
        "    #normalize\n",
        "    feats=np.divide(feats,np.linalg.norm(feats,axis=1).reshape((-1,1)))\n",
        "    feats_copy=feats.copy()\n",
        "    feats_copy=np.roll(feats_copy,1,axis=0)\n",
        "    feats_copy[0,:]=0\n",
        "    prod=np.multiply(feats,feats_copy).sum(axis=1)\n",
        "    return prod"
      ]
    },
    {
      "cell_type": "code",
      "execution_count": null,
      "id": "94f3c622",
      "metadata": {
        "execution": {
          "iopub.execute_input": "2022-06-13T15:47:50.995998Z",
          "iopub.status.busy": "2022-06-13T15:47:50.995567Z",
          "iopub.status.idle": "2022-06-13T15:51:32.773031Z",
          "shell.execute_reply": "2022-06-13T15:51:32.772159Z"
        },
        "id": "94f3c622",
        "outputId": "25976424-13ac-41f2-f78f-b4d6d3b461e6",
        "papermill": {
          "duration": 221.799486,
          "end_time": "2022-06-13T15:51:32.775130",
          "exception": false,
          "start_time": "2022-06-13T15:47:50.975644",
          "status": "completed"
        },
        "tags": [],
        "colab": {
          "base_uri": "https://localhost:8080/",
          "height": 81,
          "referenced_widgets": [
            "86cf0f93d37249aca984bf18b343840b",
            "21e726b7be7743e297d7c4118f7c5560",
            "ba414673e7474e4897ccb5b194b87c8b",
            "4268268d4b6744609cfaa416da83df66",
            "fc6c0dea48a54d67a34bea44ad2cc723",
            "aa8d1260c07c473e9458e9b624f75a29",
            "d4258a2ba6f548789347fd2d30c3b6a9",
            "7f31b61a44dc40e389fdb85bef983730",
            "7e617682f1c74984865ec2a0afb77e49",
            "68766884b3af47a9a73ab02d34b1c9bf",
            "1a673949c3114d5bb8bbc6091d14f2b6",
            "4074cae9b0f943c88c3313a65ff28508",
            "24d39ae6a36142b8b35c66eeee82149c",
            "3d34b161967b42a0998c0b0c84c30aeb",
            "14ff67a9554f4bbfbf89039c833d4140",
            "7cff8e092bad4ccbb8a5547639b25250",
            "e3584078b49b400fbe12c16db2e2c68a",
            "6b0a0a54121942929f0e7fe66110f948",
            "d3b3e8c5b24f4751baa0497a9c53b5ce",
            "b9cf60c957b84c00ac414202bde67ea6",
            "57abedc64a3b46d5b5194a9f78aaccc7",
            "c36f7fce225141ce8e996bf9c5aeb302"
          ]
        }
      },
      "outputs": [
        {
          "output_type": "display_data",
          "data": {
            "text/plain": [
              "  0%|          | 0/1000000 [00:00<?, ?it/s]"
            ],
            "application/vnd.jupyter.widget-view+json": {
              "version_major": 2,
              "version_minor": 0,
              "model_id": "86cf0f93d37249aca984bf18b343840b"
            }
          },
          "metadata": {}
        },
        {
          "output_type": "display_data",
          "data": {
            "text/plain": [
              "  0%|          | 0/1000000 [00:00<?, ?it/s]"
            ],
            "application/vnd.jupyter.widget-view+json": {
              "version_major": 2,
              "version_minor": 0,
              "model_id": "4074cae9b0f943c88c3313a65ff28508"
            }
          },
          "metadata": {}
        }
      ],
      "source": [
        "x_simils = tf.keras.preprocessing.sequence.pad_sequences(\n",
        "    result['item_id'].progress_apply(similarity_with_preceding\n",
        "    ),\n",
        "    padding='post',\n",
        "    maxlen=100,\n",
        "    dtype='float16',\n",
        ")\n",
        "x_simils_feats = tf.keras.preprocessing.sequence.pad_sequences(\n",
        "    result['item_id'].progress_apply(similarity_feats_with_preceding\n",
        "    ),\n",
        "    padding='post',\n",
        "    maxlen=100,\n",
        "    dtype='float16',\n",
        ")"
      ]
    },
    {
      "cell_type": "code",
      "execution_count": null,
      "id": "d62f6260",
      "metadata": {
        "execution": {
          "iopub.execute_input": "2022-06-13T15:51:34.501280Z",
          "iopub.status.busy": "2022-06-13T15:51:34.500969Z",
          "iopub.status.idle": "2022-06-13T15:51:34.570271Z",
          "shell.execute_reply": "2022-06-13T15:51:34.569406Z"
        },
        "id": "d62f6260",
        "papermill": {
          "duration": 0.092553,
          "end_time": "2022-06-13T15:51:34.572311",
          "exception": false,
          "start_time": "2022-06-13T15:51:34.479758",
          "status": "completed"
        },
        "tags": []
      },
      "outputs": [],
      "source": [
        "static_features = [\n",
        "                   'date_hour_sin',\n",
        "                   'date_hour_cos',\n",
        "                   'date_day_sin',\n",
        "                   'date_day_cos',\n",
        "                   'date_month_sin',\n",
        "                   'date_month_cos',\n",
        "                   'date_hour_sin_ending',\n",
        "                   'date_hour_cos_ending',\n",
        "                   'date_day_sin_ending',\n",
        "                   'date_day_cos_ending',\n",
        "                   'date_month_sin_ending',\n",
        "                   'date_month_cos_ending',\n",
        "                   'date_year_2020',\n",
        "                   'length_of_session_seconds',\n",
        "                   'avg_time_spent_per_item_seconds',\n",
        "                   'variance_time_spent_per_item_seconds',\n",
        "                   'n_seen_items',\n",
        "                   'n_unique_items',\n",
        "                   'user_went_afk',\n",
        "                   'is_weekend',\n",
        "                   'is_hot_hour',\n",
        "                   'is_night',\n",
        "                   'is_christmas_time',\n",
        "                   'is_black_friday',\n",
        "                   'session_similarity',\n",
        "                   'session_similarity_uniques',\n",
        "                   'session_similarity_feats',\n",
        "                   'session_similarity_feats_uniques'\n",
        "]\n",
        "for col in ['length_of_session_seconds','avg_time_spent_per_item_seconds','variance_time_spent_per_item_seconds']:\n",
        "    result[col]=np.log10(result[col]+1)\n",
        "for col in ['n_seen_items','n_unique_items']:\n",
        "    result[col]=result[col]/100\n",
        "item_related_features = [\n",
        "                         'timedelta'\n",
        "]"
      ]
    },
    {
      "cell_type": "code",
      "execution_count": null,
      "id": "534beafc",
      "metadata": {
        "execution": {
          "iopub.execute_input": "2022-06-13T15:51:34.615718Z",
          "iopub.status.busy": "2022-06-13T15:51:34.615062Z",
          "iopub.status.idle": "2022-06-13T15:51:34.917476Z",
          "shell.execute_reply": "2022-06-13T15:51:34.916559Z"
        },
        "id": "534beafc",
        "papermill": {
          "duration": 0.325499,
          "end_time": "2022-06-13T15:51:34.919304",
          "exception": false,
          "start_time": "2022-06-13T15:51:34.593805",
          "status": "completed"
        },
        "tags": []
      },
      "outputs": [],
      "source": [
        "if just_checking_integrity:\n",
        "    train_purchases = pd.read_csv(\n",
        "    './drive/MyDrive/Recommendation_system/dataset/processed_data/train_purchases_mapped.csv',\n",
        "    usecols = ['session_id', 'item_id'],\n",
        "    nrows=len(result)\n",
        "    )\n",
        "else:\n",
        "    train_purchases = pd.read_csv(\n",
        "    './drive/MyDrive/Recommendation_system/dataset/processed_data/train_purchases_mapped.csv',\n",
        "    usecols = ['session_id', 'item_id'],\n",
        "    )\n"
      ]
    },
    {
      "cell_type": "code",
      "execution_count": null,
      "id": "2a7adf88",
      "metadata": {
        "execution": {
          "iopub.execute_input": "2022-06-13T15:51:34.962544Z",
          "iopub.status.busy": "2022-06-13T15:51:34.961683Z",
          "iopub.status.idle": "2022-06-13T15:51:35.110044Z",
          "shell.execute_reply": "2022-06-13T15:51:35.109135Z"
        },
        "id": "2a7adf88",
        "papermill": {
          "duration": 0.17217,
          "end_time": "2022-06-13T15:51:35.112494",
          "exception": false,
          "start_time": "2022-06-13T15:51:34.940324",
          "status": "completed"
        },
        "tags": []
      },
      "outputs": [],
      "source": [
        "train_purchases.sort_values(by=\"session_id\",inplace=True)"
      ]
    },
    {
      "cell_type": "code",
      "execution_count": null,
      "id": "1388d6d3",
      "metadata": {
        "execution": {
          "iopub.execute_input": "2022-06-13T15:51:35.155237Z",
          "iopub.status.busy": "2022-06-13T15:51:35.154928Z",
          "iopub.status.idle": "2022-06-13T15:51:39.396817Z",
          "shell.execute_reply": "2022-06-13T15:51:39.395855Z"
        },
        "id": "1388d6d3",
        "papermill": {
          "duration": 4.265437,
          "end_time": "2022-06-13T15:51:39.398888",
          "exception": false,
          "start_time": "2022-06-13T15:51:35.133451",
          "status": "completed"
        },
        "tags": []
      },
      "outputs": [],
      "source": [
        "x_ids = tf.keras.preprocessing.sequence.pad_sequences(\n",
        "    result['item_id'],\n",
        "    padding='post',\n",
        "    maxlen=100\n",
        ")"
      ]
    },
    {
      "cell_type": "code",
      "execution_count": null,
      "id": "22f15072",
      "metadata": {
        "execution": {
          "iopub.execute_input": "2022-06-13T15:51:39.449019Z",
          "iopub.status.busy": "2022-06-13T15:51:39.447546Z",
          "iopub.status.idle": "2022-06-13T15:51:43.704762Z",
          "shell.execute_reply": "2022-06-13T15:51:43.703929Z"
        },
        "id": "22f15072",
        "outputId": "3d4a73d5-6051-40c3-a401-949839e11c87",
        "papermill": {
          "duration": 4.285489,
          "end_time": "2022-06-13T15:51:43.706848",
          "exception": false,
          "start_time": "2022-06-13T15:51:39.421359",
          "status": "completed"
        },
        "tags": [],
        "colab": {
          "base_uri": "https://localhost:8080/"
        }
      },
      "outputs": [
        {
          "output_type": "stream",
          "name": "stdout",
          "text": [
            "Padding timedelta\n"
          ]
        }
      ],
      "source": [
        "for item_related_feature in item_related_features:\n",
        "  print('Padding {}'.format(item_related_feature))\n",
        "  x_item_related = tf.keras.preprocessing.sequence.pad_sequences(\n",
        "      result[item_related_feature],\n",
        "      dtype='float16',\n",
        "      maxlen=100,\n",
        "      padding='post'\n",
        "    )"
      ]
    },
    {
      "cell_type": "code",
      "execution_count": null,
      "id": "f6e35447",
      "metadata": {
        "execution": {
          "iopub.execute_input": "2022-06-13T15:51:43.750944Z",
          "iopub.status.busy": "2022-06-13T15:51:43.750637Z",
          "iopub.status.idle": "2022-06-13T15:51:43.754631Z",
          "shell.execute_reply": "2022-06-13T15:51:43.753840Z"
        },
        "id": "f6e35447",
        "papermill": {
          "duration": 0.02755,
          "end_time": "2022-06-13T15:51:43.756240",
          "exception": false,
          "start_time": "2022-06-13T15:51:43.728690",
          "status": "completed"
        },
        "tags": []
      },
      "outputs": [],
      "source": [
        "if len(item_related_features) == 1:\n",
        "    x_item_related = np.expand_dims(x_item_related, axis=-1)"
      ]
    },
    {
      "cell_type": "code",
      "execution_count": null,
      "id": "f884d292",
      "metadata": {
        "execution": {
          "iopub.execute_input": "2022-06-13T15:51:43.893379Z",
          "iopub.status.busy": "2022-06-13T15:51:43.893107Z",
          "iopub.status.idle": "2022-06-13T15:51:43.896971Z",
          "shell.execute_reply": "2022-06-13T15:51:43.896229Z"
        },
        "id": "f884d292",
        "papermill": {
          "duration": 0.026709,
          "end_time": "2022-06-13T15:51:43.898618",
          "exception": false,
          "start_time": "2022-06-13T15:51:43.871909",
          "status": "completed"
        },
        "tags": []
      },
      "outputs": [],
      "source": [
        "y = train_purchases['item_id'].to_numpy()"
      ]
    },
    {
      "cell_type": "code",
      "execution_count": null,
      "id": "1a4a0af6",
      "metadata": {
        "execution": {
          "iopub.execute_input": "2022-06-13T15:51:43.941569Z",
          "iopub.status.busy": "2022-06-13T15:51:43.941317Z",
          "iopub.status.idle": "2022-06-13T15:51:44.021922Z",
          "shell.execute_reply": "2022-06-13T15:51:44.021034Z"
        },
        "id": "1a4a0af6",
        "papermill": {
          "duration": 0.104479,
          "end_time": "2022-06-13T15:51:44.024064",
          "exception": false,
          "start_time": "2022-06-13T15:51:43.919585",
          "status": "completed"
        },
        "tags": []
      },
      "outputs": [],
      "source": [
        "y_features = embedding_weights[y]"
      ]
    },
    {
      "cell_type": "code",
      "execution_count": null,
      "id": "f22f3984",
      "metadata": {
        "execution": {
          "iopub.execute_input": "2022-06-13T15:51:44.067560Z",
          "iopub.status.busy": "2022-06-13T15:51:44.067172Z",
          "iopub.status.idle": "2022-06-13T15:51:45.449853Z",
          "shell.execute_reply": "2022-06-13T15:51:45.449013Z"
        },
        "id": "f22f3984",
        "papermill": {
          "duration": 1.406532,
          "end_time": "2022-06-13T15:51:45.451908",
          "exception": false,
          "start_time": "2022-06-13T15:51:44.045376",
          "status": "completed"
        },
        "tags": []
      },
      "outputs": [],
      "source": [
        "x_ids_train, x_ids_test,\\\n",
        "x_reseen_train, x_reseen_test,\\\n",
        "x_simils_train,x_simils_test,\\\n",
        "x_simils_feats_train,x_simils_feats_test,\\\n",
        "x_percentage_seen_train,x_percentage_seen_test,\\\n",
        "x_static_train, x_static_test, \\\n",
        "x_item_related_train, x_item_related_test, \\\n",
        "y_train, y_test, \\\n",
        "y_features_train, y_features_test = train_test_split(\n",
        "    x_ids,\n",
        "    x_reseen,\n",
        "    x_simils,\n",
        "    x_simils_feats,\n",
        "    x_percentage_seen,\n",
        "    result[static_features].to_numpy(),\n",
        "    x_item_related,\n",
        "    y,\n",
        "    y_features,\n",
        "    test_size=0.2,\n",
        "    random_state=1234\n",
        "    )\n"
      ]
    },
    {
      "cell_type": "code",
      "execution_count": null,
      "id": "53bb5588",
      "metadata": {
        "execution": {
          "iopub.execute_input": "2022-06-13T15:51:45.496227Z",
          "iopub.status.busy": "2022-06-13T15:51:45.495636Z",
          "iopub.status.idle": "2022-06-13T15:51:45.901985Z",
          "shell.execute_reply": "2022-06-13T15:51:45.901153Z"
        },
        "id": "53bb5588",
        "outputId": "55c990f5-8b6a-409f-8322-fcbaf9a69aaa",
        "papermill": {
          "duration": 0.429915,
          "end_time": "2022-06-13T15:51:45.903962",
          "exception": false,
          "start_time": "2022-06-13T15:51:45.474047",
          "status": "completed"
        },
        "tags": [],
        "colab": {
          "base_uri": "https://localhost:8080/"
        }
      },
      "outputs": [
        {
          "output_type": "execute_result",
          "data": {
            "text/plain": [
              "18"
            ]
          },
          "metadata": {},
          "execution_count": 25
        }
      ],
      "source": [
        "del x_ids,x_reseen,x_simils,x_simils_feats,x_percentage_seen,result,x_item_related,y,y_features\n",
        "import gc\n",
        "gc.collect()"
      ]
    },
    {
      "cell_type": "markdown",
      "id": "9ca33062",
      "metadata": {
        "id": "9ca33062",
        "papermill": {
          "duration": 0.020763,
          "end_time": "2022-06-13T15:51:45.946343",
          "exception": false,
          "start_time": "2022-06-13T15:51:45.925580",
          "status": "completed"
        },
        "tags": []
      },
      "source": [
        "# Build Dataset"
      ]
    },
    {
      "cell_type": "code",
      "execution_count": null,
      "id": "141d71da",
      "metadata": {
        "execution": {
          "iopub.execute_input": "2022-06-13T15:51:45.990114Z",
          "iopub.status.busy": "2022-06-13T15:51:45.989457Z",
          "iopub.status.idle": "2022-06-13T15:51:53.352858Z",
          "shell.execute_reply": "2022-06-13T15:51:53.351926Z"
        },
        "id": "141d71da",
        "outputId": "8ca1ef70-8e3f-48e1-b430-ffdf0bbe3b25",
        "papermill": {
          "duration": 7.387675,
          "end_time": "2022-06-13T15:51:53.355423",
          "exception": false,
          "start_time": "2022-06-13T15:51:45.967748",
          "status": "completed"
        },
        "tags": [],
        "colab": {
          "base_uri": "https://localhost:8080/"
        }
      },
      "outputs": [
        {
          "output_type": "execute_result",
          "data": {
            "text/plain": [
              "18"
            ]
          },
          "metadata": {},
          "execution_count": 26
        }
      ],
      "source": [
        "\n",
        "train_set_complete = tf.data.Dataset.from_tensor_slices(\n",
        "    ((x_ids_train, x_reseen_train/100,x_percentage_seen_train,x_simils_train,x_simils_feats_train, x_item_related_train, x_static_train), (y_train, y_features_train))\n",
        "    ).batch(256,num_parallel_calls=tf.data.AUTOTUNE).prefetch(tf.data.AUTOTUNE).shuffle(1563, reshuffle_each_iteration=True)\n",
        "test_set_complete = tf.data.Dataset.from_tensor_slices(\n",
        "    ((x_ids_test, x_reseen_test/100, x_percentage_seen_test,x_simils_test,x_simils_feats_test, x_item_related_test, x_static_test), (y_test, y_features_test))\n",
        "    ).batch(256)\n",
        "gc.collect()"
      ]
    },
    {
      "cell_type": "code",
      "execution_count": null,
      "id": "863af3e9",
      "metadata": {
        "execution": {
          "iopub.execute_input": "2022-06-13T15:51:53.428338Z",
          "iopub.status.busy": "2022-06-13T15:51:53.427947Z",
          "iopub.status.idle": "2022-06-13T15:51:53.432468Z",
          "shell.execute_reply": "2022-06-13T15:51:53.431541Z"
        },
        "papermill": {
          "duration": 0.045271,
          "end_time": "2022-06-13T15:51:53.436361",
          "exception": false,
          "start_time": "2022-06-13T15:51:53.391090",
          "status": "completed"
        },
        "tags": [],
        "id": "863af3e9"
      },
      "outputs": [],
      "source": [
        "shape=y_features_train.shape[1]"
      ]
    },
    {
      "cell_type": "code",
      "execution_count": null,
      "id": "88a72605",
      "metadata": {
        "execution": {
          "iopub.execute_input": "2022-06-13T15:51:53.507961Z",
          "iopub.status.busy": "2022-06-13T15:51:53.507540Z",
          "iopub.status.idle": "2022-06-13T15:51:53.984954Z",
          "shell.execute_reply": "2022-06-13T15:51:53.984184Z"
        },
        "papermill": {
          "duration": 0.515709,
          "end_time": "2022-06-13T15:51:53.986832",
          "exception": false,
          "start_time": "2022-06-13T15:51:53.471123",
          "status": "completed"
        },
        "tags": [],
        "colab": {
          "base_uri": "https://localhost:8080/"
        },
        "id": "88a72605",
        "outputId": "3c0edb82-a94c-4670-9ab8-d9889b349009"
      },
      "outputs": [
        {
          "output_type": "execute_result",
          "data": {
            "text/plain": [
              "0"
            ]
          },
          "metadata": {},
          "execution_count": 28
        }
      ],
      "source": [
        "del x_ids_train,x_reseen_train,x_simils_train,x_simils_feats_train,x_percentage_seen_train,x_item_related_train,y_train,y_features_train\n",
        "del x_ids_test,x_reseen_test,x_simils_test,x_simils_feats_test,x_percentage_seen_test,x_item_related_test,y_test,y_features_test\n",
        "gc.collect()"
      ]
    },
    {
      "cell_type": "code",
      "execution_count": null,
      "id": "8b63b103",
      "metadata": {
        "execution": {
          "iopub.execute_input": "2022-06-13T15:51:54.033515Z",
          "iopub.status.busy": "2022-06-13T15:51:54.033136Z",
          "iopub.status.idle": "2022-06-13T15:51:54.038651Z",
          "shell.execute_reply": "2022-06-13T15:51:54.037938Z"
        },
        "id": "8b63b103",
        "outputId": "81b8bfbc-6436-4f48-bf25-e8659535b886",
        "papermill": {
          "duration": 0.032112,
          "end_time": "2022-06-13T15:51:54.040457",
          "exception": false,
          "start_time": "2022-06-13T15:51:54.008345",
          "status": "completed"
        },
        "tags": [],
        "colab": {
          "base_uri": "https://localhost:8080/"
        }
      },
      "outputs": [
        {
          "output_type": "execute_result",
          "data": {
            "text/plain": [
              "((TensorSpec(shape=(None, 100), dtype=tf.int32, name=None),\n",
              "  TensorSpec(shape=(None, 100), dtype=tf.float64, name=None),\n",
              "  TensorSpec(shape=(None, 100), dtype=tf.float16, name=None),\n",
              "  TensorSpec(shape=(None, 100), dtype=tf.float16, name=None),\n",
              "  TensorSpec(shape=(None, 100), dtype=tf.float16, name=None),\n",
              "  TensorSpec(shape=(None, 100, 1), dtype=tf.float16, name=None),\n",
              "  TensorSpec(shape=(None, 28), dtype=tf.float64, name=None)),\n",
              " (TensorSpec(shape=(None,), dtype=tf.int64, name=None),\n",
              "  TensorSpec(shape=(None, 64), dtype=tf.float32, name=None)))"
            ]
          },
          "metadata": {},
          "execution_count": 29
        }
      ],
      "source": [
        "train_set_complete.element_spec"
      ]
    },
    {
      "cell_type": "code",
      "execution_count": null,
      "id": "b21c0fba",
      "metadata": {
        "execution": {
          "iopub.execute_input": "2022-06-13T15:51:54.085044Z",
          "iopub.status.busy": "2022-06-13T15:51:54.084566Z",
          "iopub.status.idle": "2022-06-13T15:51:54.967540Z",
          "shell.execute_reply": "2022-06-13T15:51:54.966736Z"
        },
        "papermill": {
          "duration": 0.908109,
          "end_time": "2022-06-13T15:51:54.969686",
          "exception": false,
          "start_time": "2022-06-13T15:51:54.061577",
          "status": "completed"
        },
        "tags": [],
        "id": "b21c0fba"
      },
      "outputs": [],
      "source": [
        "embed_dim = 64  # Embedding size for each token\n",
        "maxlen = 100\n",
        "num_static = len(static_features)\n",
        "num_item_related = len(item_related_features)\n",
        "vocabulary_size = 23692 #max(train_purchases['item_id']) # Size of the vocabulary\n",
        "rnn_width = (512 - 128 - num_static - num_item_related - 4)//2\n",
        "mlp_width = 511\n",
        "mlp_depth = 2\n",
        "\n",
        "###### INPUT #####\n",
        "id_inputs = layers.Input(shape=(maxlen,), name='ids')\n",
        "item_related_inputs = layers.Input(shape=(maxlen, num_item_related), name='item_related_features')\n",
        "x_reseen_inputs = layers.Input(shape=(maxlen, 1), name='x_reseen_featurs')\n",
        "x_percentage_seen_inputs = layers.Input(shape=(maxlen, 1), name='x_percentage_seen')\n",
        "x_simils_inputs = layers.Input(shape=(maxlen, 1), name='x_similarities_embeddings')\n",
        "x_simils_feats_inputs = layers.Input(shape=(maxlen, 1), name='x_similarities_ICM')\n",
        "static_inputs = layers.Input(shape=(num_static,), name='static_features')\n",
        "\n",
        "##### MODEL DEFINITION #####\n",
        "\n",
        "learned_embedding = layers.Embedding(\n",
        "    input_dim=vocabulary_size,\n",
        "    output_dim=embed_dim,\n",
        "    mask_zero=True,\n",
        "    name='learned_embedding'\n",
        "    )(id_inputs)\n",
        "\n",
        "feature_embedding = layers.Embedding(\n",
        "    input_dim=embedding_weights.shape[0],\n",
        "    output_dim=embedding_weights.shape[1],\n",
        "    mask_zero=True,\n",
        "    trainable=False,\n",
        "    weights=[embedding_weights],\n",
        "    name='feature_embedding'\n",
        "    )(id_inputs)\n",
        "\n",
        "embedding = layers.Concatenate(\n",
        "    name='embedding'\n",
        ")([learned_embedding, feature_embedding])\n",
        "\n",
        "x_pre = embedding\n",
        "\n",
        "masked_item_related_inputs = item_related_inputs[:, :tf.shape(id_inputs)[-1], :]\n",
        "\n",
        "x_pre = layers.Concatenate()([x_pre, masked_item_related_inputs, x_reseen_inputs,x_percentage_seen_inputs,x_simils_inputs,x_simils_feats_inputs])\n",
        "\n",
        "x_post = layers.Bidirectional(layers.LSTM(\n",
        "    units=rnn_width,\n",
        "    return_sequences=False,\n",
        "    dropout=0.1,\n",
        "    #unroll=True,\n",
        "    name='recurrrent1'\n",
        "))(x_pre)\n",
        "\n",
        "x_pre = layers.GlobalAveragePooling1D()(x_pre)\n",
        "x_pre = layers.Concatenate()([x_post, x_pre, static_inputs])\n",
        "\n",
        "for layer in range(mlp_depth):\n",
        "    x_post = layers.BatchNormalization()(x_pre)\n",
        "    x_post = layers.Dropout(0.2)(x_post)\n",
        "    x_post = layers.Dense(units=mlp_width, activation='gelu')(x_post)\n",
        "    x_pre = layers.Add()([x_pre, x_post])\n",
        "\n",
        "##### PREDICTION DEFINITION #####\n",
        "\n",
        "outputs = layers.Dense(19021, activation='softmax', name='y')(x_pre)\n",
        "secondary_outputs = layers.Dense(\n",
        "    units=shape,\n",
        "    activation='tanh',\n",
        "    name='y_features'\n",
        "    )(x_pre)\n",
        "\n",
        "model_for_training= tf.keras.Model(\n",
        "    inputs=[id_inputs, x_reseen_inputs, x_percentage_seen_inputs,x_simils_inputs,x_simils_feats_inputs,item_related_inputs, static_inputs],\n",
        "    outputs=[outputs, secondary_outputs],\n",
        "    name=\"encodermodel_training\"\n",
        "    )\n",
        "\n",
        "\n",
        "model_for_training.compile(\n",
        "    optimizer=\"adamax\",\n",
        "    loss=[\n",
        "        lambda y_true, y_pred : tf.keras.losses.categorical_crossentropy(\n",
        "            tf.squeeze(tf.one_hot(tf.cast(y_true, dtype=tf.int32), 19020+1, axis=-1)),\n",
        "            y_pred,\n",
        "            label_smoothing=0.3\n",
        "            ),\n",
        "        'mse'\n",
        "    ],\n",
        "    loss_weights=[1, 1],\n",
        "    metrics=[\n",
        "            [\n",
        "            mrr_top_at(at=100)\n",
        "            ],\n",
        "            []\n",
        "            ]\n",
        "    )"
      ]
    },
    {
      "cell_type": "markdown",
      "id": "03ec1b76",
      "metadata": {
        "id": "03ec1b76",
        "papermill": {
          "duration": 0.021265,
          "end_time": "2022-06-13T15:51:55.013902",
          "exception": false,
          "start_time": "2022-06-13T15:51:54.992637",
          "status": "completed"
        },
        "tags": []
      },
      "source": [
        "# Plot"
      ]
    },
    {
      "cell_type": "markdown",
      "id": "50634bf8",
      "metadata": {
        "id": "50634bf8",
        "papermill": {
          "duration": 0.021133,
          "end_time": "2022-06-13T15:51:55.056367",
          "exception": false,
          "start_time": "2022-06-13T15:51:55.035234",
          "status": "completed"
        },
        "tags": []
      },
      "source": [
        "#Training"
      ]
    },
    {
      "cell_type": "code",
      "execution_count": null,
      "id": "5deafa4d",
      "metadata": {
        "execution": {
          "iopub.execute_input": "2022-06-13T15:51:55.100603Z",
          "iopub.status.busy": "2022-06-13T15:51:55.099842Z",
          "iopub.status.idle": "2022-06-13T16:06:44.461121Z",
          "shell.execute_reply": "2022-06-13T16:06:44.460195Z"
        },
        "id": "5deafa4d",
        "outputId": "acf70376-02d4-41f3-e686-a620f4b6a947",
        "papermill": {
          "duration": 889.396889,
          "end_time": "2022-06-13T16:06:44.474620",
          "exception": false,
          "start_time": "2022-06-13T15:51:55.077731",
          "status": "completed"
        },
        "tags": [],
        "colab": {
          "base_uri": "https://localhost:8080/"
        }
      },
      "outputs": [
        {
          "output_type": "stream",
          "name": "stdout",
          "text": [
            "Epoch 1/100\n",
            "3125/3125 [==============================] - 169s 49ms/step - loss: 8.5511 - y_loss: 8.5232 - y_features_loss: 0.0279 - y_mrr_top: 0.0796 - val_loss: 8.0380 - val_y_loss: 8.0275 - val_y_features_loss: 0.0105 - val_y_mrr_top: 0.1226\n",
            "Epoch 2/100\n",
            "3125/3125 [==============================] - 100s 31ms/step - loss: 7.8838 - y_loss: 7.8731 - y_features_loss: 0.0107 - y_mrr_top: 0.1401 - val_loss: 7.8107 - val_y_loss: 7.8002 - val_y_features_loss: 0.0105 - val_y_mrr_top: 0.1552\n",
            "Epoch 3/100\n",
            "3125/3125 [==============================] - 100s 31ms/step - loss: 7.6445 - y_loss: 7.6338 - y_features_loss: 0.0107 - y_mrr_top: 0.1701 - val_loss: 7.7136 - val_y_loss: 7.7031 - val_y_features_loss: 0.0106 - val_y_mrr_top: 0.1714\n",
            "Epoch 4/100\n",
            "3125/3125 [==============================] - 101s 31ms/step - loss: 7.4816 - y_loss: 7.4708 - y_features_loss: 0.0108 - y_mrr_top: 0.1913 - val_loss: 7.6716 - val_y_loss: 7.6610 - val_y_features_loss: 0.0106 - val_y_mrr_top: 0.1808\n",
            "Epoch 5/100\n",
            "3125/3125 [==============================] - 100s 31ms/step - loss: 7.3527 - y_loss: 7.3419 - y_features_loss: 0.0108 - y_mrr_top: 0.2078 - val_loss: 7.6572 - val_y_loss: 7.6465 - val_y_features_loss: 0.0107 - val_y_mrr_top: 0.1866\n",
            "Epoch 6/100\n",
            "3125/3125 [==============================] - 100s 31ms/step - loss: 7.2454 - y_loss: 7.2345 - y_features_loss: 0.0108 - y_mrr_top: 0.2219 - val_loss: 7.6622 - val_y_loss: 7.6514 - val_y_features_loss: 0.0107 - val_y_mrr_top: 0.1892\n",
            "Epoch 7/100\n",
            "3125/3125 [==============================] - 99s 30ms/step - loss: 7.1496 - y_loss: 7.1387 - y_features_loss: 0.0109 - y_mrr_top: 0.2355 - val_loss: 7.6752 - val_y_loss: 7.6644 - val_y_features_loss: 0.0108 - val_y_mrr_top: 0.1916\n",
            "Epoch 8/100\n",
            "3125/3125 [==============================] - 100s 30ms/step - loss: 7.0622 - y_loss: 7.0513 - y_features_loss: 0.0109 - y_mrr_top: 0.2484 - val_loss: 7.6962 - val_y_loss: 7.6854 - val_y_features_loss: 0.0108 - val_y_mrr_top: 0.1921\n",
            "Epoch 9/100\n",
            "3125/3125 [==============================] - 100s 31ms/step - loss: 6.9825 - y_loss: 6.9715 - y_features_loss: 0.0110 - y_mrr_top: 0.2610 - val_loss: 7.7308 - val_y_loss: 7.7200 - val_y_features_loss: 0.0108 - val_y_mrr_top: 0.1919\n"
          ]
        },
        {
          "output_type": "execute_result",
          "data": {
            "text/plain": [
              "<keras.src.callbacks.History at 0x7f114ff7acb0>"
            ]
          },
          "metadata": {},
          "execution_count": 31
        }
      ],
      "source": [
        "gc.collect()\n",
        "if just_checking_integrity:\n",
        "    n_epochs=2\n",
        "else:\n",
        "    n_epochs=100\n",
        "monitor='val_y_mrr_top'\n",
        "model_for_training.fit(\n",
        "    train_set_complete,\n",
        "    validation_data=test_set_complete,\n",
        "    epochs=n_epochs,\n",
        "    callbacks=[\n",
        "               tf.keras.callbacks.EarlyStopping(\n",
        "                  monitor=monitor,\n",
        "                  mode='max',\n",
        "                  patience=1,\n",
        "                  min_delta=0.0001,\n",
        "                  restore_best_weights=True,\n",
        "              ),\n",
        "         ]\n",
        "    )"
      ]
    },
    {
      "cell_type": "markdown",
      "id": "606adf29",
      "metadata": {
        "id": "606adf29",
        "papermill": {
          "duration": 0.022568,
          "end_time": "2022-06-13T16:06:44.519940",
          "exception": false,
          "start_time": "2022-06-13T16:06:44.497372",
          "status": "completed"
        },
        "tags": []
      },
      "source": [
        "# Prepare test predictions Leaderboard\n",
        "\n"
      ]
    },
    {
      "cell_type": "code",
      "execution_count": null,
      "id": "c6a7d62e",
      "metadata": {
        "execution": {
          "iopub.execute_input": "2022-06-13T16:06:44.566987Z",
          "iopub.status.busy": "2022-06-13T16:06:44.566660Z",
          "iopub.status.idle": "2022-06-13T16:06:44.589899Z",
          "shell.execute_reply": "2022-06-13T16:06:44.589161Z"
        },
        "papermill": {
          "duration": 0.048993,
          "end_time": "2022-06-13T16:06:44.591607",
          "exception": false,
          "start_time": "2022-06-13T16:06:44.542614",
          "status": "completed"
        },
        "tags": [],
        "id": "c6a7d62e"
      },
      "outputs": [],
      "source": [
        "del train_set_complete\n",
        "del test_set_complete"
      ]
    },
    {
      "cell_type": "code",
      "execution_count": null,
      "id": "e392d3ac",
      "metadata": {
        "execution": {
          "iopub.execute_input": "2022-06-13T16:06:45.230061Z",
          "iopub.status.busy": "2022-06-13T16:06:45.229746Z",
          "iopub.status.idle": "2022-06-13T16:06:47.447985Z",
          "shell.execute_reply": "2022-06-13T16:06:47.447136Z"
        },
        "id": "e392d3ac",
        "outputId": "f46b152b-1edf-4737-8457-e7ca3fe6650d",
        "papermill": {
          "duration": 2.244434,
          "end_time": "2022-06-13T16:06:47.450210",
          "exception": false,
          "start_time": "2022-06-13T16:06:45.205776",
          "status": "completed"
        },
        "tags": [],
        "colab": {
          "base_uri": "https://localhost:8080/"
        }
      },
      "outputs": [
        {
          "output_type": "execute_result",
          "data": {
            "text/plain": [
              "1302"
            ]
          },
          "metadata": {},
          "execution_count": 33
        }
      ],
      "source": [
        "temp=pd.read_csv(\"./drive/MyDrive/Recommendation_system/dataset/processed_data/macro_feats_NN_leaderboard.csv\")\n",
        "temp[\"item_id\"]=temp[\"item_id\"].map(ast.literal_eval)\n",
        "temp[\"timedelta\"]=temp[\"timedelta\"].map(ast.literal_eval)\n",
        "\n",
        "test_leaderboard_sessions=temp\n",
        "gc.collect()"
      ]
    },
    {
      "cell_type": "code",
      "execution_count": null,
      "id": "927de505",
      "metadata": {
        "execution": {
          "iopub.execute_input": "2022-06-13T16:06:47.498838Z",
          "iopub.status.busy": "2022-06-13T16:06:47.498183Z",
          "iopub.status.idle": "2022-06-13T16:06:48.037874Z",
          "shell.execute_reply": "2022-06-13T16:06:48.037062Z"
        },
        "id": "927de505",
        "papermill": {
          "duration": 0.565867,
          "end_time": "2022-06-13T16:06:48.039989",
          "exception": false,
          "start_time": "2022-06-13T16:06:47.474122",
          "status": "completed"
        },
        "tags": []
      },
      "outputs": [],
      "source": [
        "\n",
        "x_reseen_test = tf.keras.preprocessing.sequence.pad_sequences(\n",
        "    test_leaderboard_sessions['item_id'].apply(is_reseen),\n",
        "    padding='post',\n",
        "    maxlen=100,\n",
        ")\n",
        "\n",
        "x_percentage_seen_test = tf.keras.preprocessing.sequence.pad_sequences(\n",
        "    test_leaderboard_sessions['item_id'].apply(percentage_seen),\n",
        "    padding='post',\n",
        "    maxlen=100,\n",
        ")"
      ]
    },
    {
      "cell_type": "code",
      "execution_count": null,
      "id": "4bbcca2a",
      "metadata": {
        "execution": {
          "iopub.execute_input": "2022-06-13T16:06:48.089197Z",
          "iopub.status.busy": "2022-06-13T16:06:48.088494Z",
          "iopub.status.idle": "2022-06-13T16:06:59.057112Z",
          "shell.execute_reply": "2022-06-13T16:06:59.056307Z"
        },
        "id": "4bbcca2a",
        "outputId": "65acca8d-563b-4e04-f3e0-56c1445a68e7",
        "papermill": {
          "duration": 10.995595,
          "end_time": "2022-06-13T16:06:59.059286",
          "exception": false,
          "start_time": "2022-06-13T16:06:48.063691",
          "status": "completed"
        },
        "tags": [],
        "colab": {
          "base_uri": "https://localhost:8080/",
          "height": 81,
          "referenced_widgets": [
            "fc01b2b8999044eb8d16b9961928a07f",
            "6844504a87e24317aee742030e73d090",
            "63d20423deae4b81b947da2a63ec8fb5",
            "2f64caaf9f074c8799d37ef63c7bc3e5",
            "64f9bba150f34927a0368e702b612145",
            "af747f58dc8249f988fcec35ff719446",
            "8680e46711a7468a95a7391c50b7327d",
            "9c96834506894bdaae3f811dc17dff52",
            "30e71b4eadf14db2a33ed31b56eeb3aa",
            "cbc709c338ae498287e9b369756fe2a0",
            "fcc998c666f241abb033a153b11e9fc4",
            "7ff7b6b972a24e9989f863bacab12258",
            "3636200cecab49f5aa01ebfebb9a7871",
            "3f14c85d2a604209b39f535503f90d51",
            "1c8256dfe0a545acb4b95b0c0bff56db",
            "554639c524c14fb78a6c33fcfee0f346",
            "7b6ee75540c94b76ab3012440805ddcf",
            "74f65a551acf42a9901882f377b54c06",
            "66ec4f8595ec418b93ab42a85ddfab9e",
            "ef5b5b19ddbe47708bcd3adc496d6936",
            "139eb1c1883845bc9f850cf02f42a850",
            "17594fe9788443f79680b40f08b83687"
          ]
        }
      },
      "outputs": [
        {
          "output_type": "display_data",
          "data": {
            "text/plain": [
              "  0%|          | 0/50000 [00:00<?, ?it/s]"
            ],
            "application/vnd.jupyter.widget-view+json": {
              "version_major": 2,
              "version_minor": 0,
              "model_id": "fc01b2b8999044eb8d16b9961928a07f"
            }
          },
          "metadata": {}
        },
        {
          "output_type": "display_data",
          "data": {
            "text/plain": [
              "  0%|          | 0/50000 [00:00<?, ?it/s]"
            ],
            "application/vnd.jupyter.widget-view+json": {
              "version_major": 2,
              "version_minor": 0,
              "model_id": "7ff7b6b972a24e9989f863bacab12258"
            }
          },
          "metadata": {}
        }
      ],
      "source": [
        "x_simils_test = tf.keras.preprocessing.sequence.pad_sequences(\n",
        "    test_leaderboard_sessions['item_id'].progress_apply(similarity_with_preceding\n",
        "    ),\n",
        "    padding='post',\n",
        "    maxlen=100,\n",
        "    dtype='float32',\n",
        ")\n",
        "x_simils_feats_test = tf.keras.preprocessing.sequence.pad_sequences(\n",
        "    test_leaderboard_sessions['item_id'].progress_apply(similarity_feats_with_preceding\n",
        "    ),\n",
        "    padding='post',\n",
        "    maxlen=100,\n",
        "    dtype='float32',\n",
        ")"
      ]
    },
    {
      "cell_type": "code",
      "execution_count": null,
      "id": "93cecdd9",
      "metadata": {
        "execution": {
          "iopub.execute_input": "2022-06-13T16:06:59.110460Z",
          "iopub.status.busy": "2022-06-13T16:06:59.110085Z",
          "iopub.status.idle": "2022-06-13T16:06:59.121248Z",
          "shell.execute_reply": "2022-06-13T16:06:59.120472Z"
        },
        "id": "93cecdd9",
        "papermill": {
          "duration": 0.038412,
          "end_time": "2022-06-13T16:06:59.123137",
          "exception": false,
          "start_time": "2022-06-13T16:06:59.084725",
          "status": "completed"
        },
        "tags": []
      },
      "outputs": [],
      "source": [
        "for col in ['length_of_session_seconds','avg_time_spent_per_item_seconds','variance_time_spent_per_item_seconds']:\n",
        "    test_leaderboard_sessions[col]=np.log10(test_leaderboard_sessions[col]+1)\n",
        "for col in ['n_seen_items','n_unique_items']:\n",
        "    test_leaderboard_sessions[col]=test_leaderboard_sessions[col]/100"
      ]
    },
    {
      "cell_type": "code",
      "execution_count": null,
      "id": "6d2fe969",
      "metadata": {
        "execution": {
          "iopub.execute_input": "2022-06-13T16:06:59.174306Z",
          "iopub.status.busy": "2022-06-13T16:06:59.173642Z",
          "iopub.status.idle": "2022-06-13T16:06:59.379504Z",
          "shell.execute_reply": "2022-06-13T16:06:59.378552Z"
        },
        "id": "6d2fe969",
        "papermill": {
          "duration": 0.233343,
          "end_time": "2022-06-13T16:06:59.381721",
          "exception": false,
          "start_time": "2022-06-13T16:06:59.148378",
          "status": "completed"
        },
        "tags": [],
        "colab": {
          "base_uri": "https://localhost:8080/"
        },
        "outputId": "38938161-3455-4a05-c3a7-b797b1b23da0"
      },
      "outputs": [
        {
          "output_type": "execute_result",
          "data": {
            "text/plain": [
              "array([3404,    0,    0,    0,    0,    0,    0,    0,    0,    0,    0,\n",
              "          0,    0,    0,    0,    0,    0,    0,    0,    0,    0,    0,\n",
              "          0,    0,    0,    0,    0,    0,    0,    0,    0,    0,    0,\n",
              "          0,    0,    0,    0,    0,    0,    0,    0,    0,    0,    0,\n",
              "          0,    0,    0,    0,    0,    0,    0,    0,    0,    0,    0,\n",
              "          0,    0,    0,    0,    0,    0,    0,    0,    0,    0,    0,\n",
              "          0,    0,    0,    0,    0,    0,    0,    0,    0,    0,    0,\n",
              "          0,    0,    0,    0,    0,    0,    0,    0,    0,    0,    0,\n",
              "          0,    0,    0,    0,    0,    0,    0,    0,    0,    0,    0,\n",
              "          0], dtype=int32)"
            ]
          },
          "metadata": {},
          "execution_count": 37
        }
      ],
      "source": [
        "x_test_leaderboard = tf.keras.preprocessing.sequence.pad_sequences(\n",
        "    test_leaderboard_sessions['item_id'],\n",
        "    padding='post',\n",
        "    maxlen=100\n",
        ")\n",
        "\n",
        "x_test_leaderboard[0]"
      ]
    },
    {
      "cell_type": "code",
      "execution_count": null,
      "id": "4a1ca7da",
      "metadata": {
        "execution": {
          "iopub.execute_input": "2022-06-13T16:06:59.433021Z",
          "iopub.status.busy": "2022-06-13T16:06:59.432227Z",
          "iopub.status.idle": "2022-06-13T16:06:59.642095Z",
          "shell.execute_reply": "2022-06-13T16:06:59.640926Z"
        },
        "id": "4a1ca7da",
        "papermill": {
          "duration": 0.238214,
          "end_time": "2022-06-13T16:06:59.644606",
          "exception": false,
          "start_time": "2022-06-13T16:06:59.406392",
          "status": "completed"
        },
        "tags": [],
        "colab": {
          "base_uri": "https://localhost:8080/"
        },
        "outputId": "5e903426-656d-4ffc-860d-63289de8e8a3"
      },
      "outputs": [
        {
          "output_type": "stream",
          "name": "stdout",
          "text": [
            "Padding timedelta\n"
          ]
        }
      ],
      "source": [
        "for item_related_feature in item_related_features:\n",
        "  print('Padding {}'.format(item_related_feature))\n",
        "  x_test_item_related = tf.keras.preprocessing.sequence.pad_sequences(\n",
        "      test_leaderboard_sessions[item_related_feature],\n",
        "      dtype='float16',\n",
        "      maxlen=100,\n",
        "      padding='post'\n",
        "    )"
      ]
    },
    {
      "cell_type": "code",
      "execution_count": null,
      "id": "ae52b0f1",
      "metadata": {
        "execution": {
          "iopub.execute_input": "2022-06-13T16:06:59.698055Z",
          "iopub.status.busy": "2022-06-13T16:06:59.697292Z",
          "iopub.status.idle": "2022-06-13T16:06:59.701666Z",
          "shell.execute_reply": "2022-06-13T16:06:59.700865Z"
        },
        "id": "ae52b0f1",
        "papermill": {
          "duration": 0.033071,
          "end_time": "2022-06-13T16:06:59.703533",
          "exception": false,
          "start_time": "2022-06-13T16:06:59.670462",
          "status": "completed"
        },
        "tags": []
      },
      "outputs": [],
      "source": [
        "if len(item_related_features) == 1:\n",
        "    x_test_item_related = np.expand_dims(x_test_item_related, axis=-1)"
      ]
    },
    {
      "cell_type": "code",
      "execution_count": null,
      "id": "435fc2bf",
      "metadata": {
        "execution": {
          "iopub.execute_input": "2022-06-13T16:06:59.754252Z",
          "iopub.status.busy": "2022-06-13T16:06:59.753605Z",
          "iopub.status.idle": "2022-06-13T16:06:59.840357Z",
          "shell.execute_reply": "2022-06-13T16:06:59.839546Z"
        },
        "id": "435fc2bf",
        "outputId": "8c87ad8c-41f3-4b4d-98f4-5b762825dabc",
        "papermill": {
          "duration": 0.114226,
          "end_time": "2022-06-13T16:06:59.842201",
          "exception": false,
          "start_time": "2022-06-13T16:06:59.727975",
          "status": "completed"
        },
        "tags": [],
        "colab": {
          "base_uri": "https://localhost:8080/"
        }
      },
      "outputs": [
        {
          "output_type": "execute_result",
          "data": {
            "text/plain": [
              "(TensorSpec(shape=(None,), dtype=tf.int64, name=None),\n",
              " (TensorSpec(shape=(None, 100), dtype=tf.int32, name=None),\n",
              "  TensorSpec(shape=(None, 100), dtype=tf.float64, name=None),\n",
              "  TensorSpec(shape=(None, 100), dtype=tf.int32, name=None),\n",
              "  TensorSpec(shape=(None, 100), dtype=tf.float32, name=None),\n",
              "  TensorSpec(shape=(None, 100), dtype=tf.float32, name=None),\n",
              "  TensorSpec(shape=(None, 100, 1), dtype=tf.float16, name=None),\n",
              "  TensorSpec(shape=(None, 28), dtype=tf.float64, name=None)))"
            ]
          },
          "metadata": {},
          "execution_count": 40
        }
      ],
      "source": [
        "submission_set = tf.data.Dataset.from_tensor_slices(\n",
        "    (\n",
        "        test_leaderboard_sessions['session_id'],\n",
        "     (\n",
        "        x_test_leaderboard,\n",
        "        x_reseen_test/100,\n",
        "        x_percentage_seen_test,\n",
        "        x_simils_test,\n",
        "        x_simils_feats_test,\n",
        "        x_test_item_related,\n",
        "        test_leaderboard_sessions[static_features].to_numpy()\n",
        "     )\n",
        "    )\n",
        ").batch(512)\n",
        "\n",
        "submission_set.element_spec"
      ]
    },
    {
      "cell_type": "code",
      "execution_count": null,
      "id": "b5127be2",
      "metadata": {
        "execution": {
          "iopub.execute_input": "2022-06-13T16:06:59.895073Z",
          "iopub.status.busy": "2022-06-13T16:06:59.894724Z",
          "iopub.status.idle": "2022-06-13T16:06:59.904723Z",
          "shell.execute_reply": "2022-06-13T16:06:59.903870Z"
        },
        "id": "b5127be2",
        "outputId": "c78e514b-f1ee-48a9-db8c-6ae9f2584f82",
        "papermill": {
          "duration": 0.037788,
          "end_time": "2022-06-13T16:06:59.906596",
          "exception": false,
          "start_time": "2022-06-13T16:06:59.868808",
          "status": "completed"
        },
        "tags": [],
        "colab": {
          "base_uri": "https://localhost:8080/",
          "height": 53
        }
      },
      "outputs": [
        {
          "output_type": "execute_result",
          "data": {
            "text/plain": [
              "Empty DataFrame\n",
              "Columns: [session_id, code, score, rank]\n",
              "Index: []"
            ],
            "text/html": [
              "\n",
              "  <div id=\"df-e8cbe000-c604-4060-838c-765f5b869abb\" class=\"colab-df-container\">\n",
              "    <div>\n",
              "<style scoped>\n",
              "    .dataframe tbody tr th:only-of-type {\n",
              "        vertical-align: middle;\n",
              "    }\n",
              "\n",
              "    .dataframe tbody tr th {\n",
              "        vertical-align: top;\n",
              "    }\n",
              "\n",
              "    .dataframe thead th {\n",
              "        text-align: right;\n",
              "    }\n",
              "</style>\n",
              "<table border=\"1\" class=\"dataframe\">\n",
              "  <thead>\n",
              "    <tr style=\"text-align: right;\">\n",
              "      <th></th>\n",
              "      <th>session_id</th>\n",
              "      <th>code</th>\n",
              "      <th>score</th>\n",
              "      <th>rank</th>\n",
              "    </tr>\n",
              "  </thead>\n",
              "  <tbody>\n",
              "  </tbody>\n",
              "</table>\n",
              "</div>\n",
              "    <div class=\"colab-df-buttons\">\n",
              "\n",
              "  <div class=\"colab-df-container\">\n",
              "    <button class=\"colab-df-convert\" onclick=\"convertToInteractive('df-e8cbe000-c604-4060-838c-765f5b869abb')\"\n",
              "            title=\"Convert this dataframe to an interactive table.\"\n",
              "            style=\"display:none;\">\n",
              "\n",
              "  <svg xmlns=\"http://www.w3.org/2000/svg\" height=\"24px\" viewBox=\"0 -960 960 960\">\n",
              "    <path d=\"M120-120v-720h720v720H120Zm60-500h600v-160H180v160Zm220 220h160v-160H400v160Zm0 220h160v-160H400v160ZM180-400h160v-160H180v160Zm440 0h160v-160H620v160ZM180-180h160v-160H180v160Zm440 0h160v-160H620v160Z\"/>\n",
              "  </svg>\n",
              "    </button>\n",
              "\n",
              "  <style>\n",
              "    .colab-df-container {\n",
              "      display:flex;\n",
              "      gap: 12px;\n",
              "    }\n",
              "\n",
              "    .colab-df-convert {\n",
              "      background-color: #E8F0FE;\n",
              "      border: none;\n",
              "      border-radius: 50%;\n",
              "      cursor: pointer;\n",
              "      display: none;\n",
              "      fill: #1967D2;\n",
              "      height: 32px;\n",
              "      padding: 0 0 0 0;\n",
              "      width: 32px;\n",
              "    }\n",
              "\n",
              "    .colab-df-convert:hover {\n",
              "      background-color: #E2EBFA;\n",
              "      box-shadow: 0px 1px 2px rgba(60, 64, 67, 0.3), 0px 1px 3px 1px rgba(60, 64, 67, 0.15);\n",
              "      fill: #174EA6;\n",
              "    }\n",
              "\n",
              "    .colab-df-buttons div {\n",
              "      margin-bottom: 4px;\n",
              "    }\n",
              "\n",
              "    [theme=dark] .colab-df-convert {\n",
              "      background-color: #3B4455;\n",
              "      fill: #D2E3FC;\n",
              "    }\n",
              "\n",
              "    [theme=dark] .colab-df-convert:hover {\n",
              "      background-color: #434B5C;\n",
              "      box-shadow: 0px 1px 3px 1px rgba(0, 0, 0, 0.15);\n",
              "      filter: drop-shadow(0px 1px 2px rgba(0, 0, 0, 0.3));\n",
              "      fill: #FFFFFF;\n",
              "    }\n",
              "  </style>\n",
              "\n",
              "    <script>\n",
              "      const buttonEl =\n",
              "        document.querySelector('#df-e8cbe000-c604-4060-838c-765f5b869abb button.colab-df-convert');\n",
              "      buttonEl.style.display =\n",
              "        google.colab.kernel.accessAllowed ? 'block' : 'none';\n",
              "\n",
              "      async function convertToInteractive(key) {\n",
              "        const element = document.querySelector('#df-e8cbe000-c604-4060-838c-765f5b869abb');\n",
              "        const dataTable =\n",
              "          await google.colab.kernel.invokeFunction('convertToInteractive',\n",
              "                                                    [key], {});\n",
              "        if (!dataTable) return;\n",
              "\n",
              "        const docLinkHtml = 'Like what you see? Visit the ' +\n",
              "          '<a target=\"_blank\" href=https://colab.research.google.com/notebooks/data_table.ipynb>data table notebook</a>'\n",
              "          + ' to learn more about interactive tables.';\n",
              "        element.innerHTML = '';\n",
              "        dataTable['output_type'] = 'display_data';\n",
              "        await google.colab.output.renderOutput(dataTable, element);\n",
              "        const docLink = document.createElement('div');\n",
              "        docLink.innerHTML = docLinkHtml;\n",
              "        element.appendChild(docLink);\n",
              "      }\n",
              "    </script>\n",
              "  </div>\n",
              "\n",
              "\n",
              "    </div>\n",
              "  </div>\n"
            ],
            "application/vnd.google.colaboratory.intrinsic+json": {
              "type": "dataframe",
              "variable_name": "submission_df",
              "summary": "{\n  \"name\": \"submission_df\",\n  \"rows\": 0,\n  \"fields\": [\n    {\n      \"column\": \"session_id\",\n      \"properties\": {\n        \"dtype\": \"number\",\n        \"std\": null,\n        \"min\": null,\n        \"max\": null,\n        \"num_unique_values\": 0,\n        \"samples\": [],\n        \"semantic_type\": \"\",\n        \"description\": \"\"\n      }\n    },\n    {\n      \"column\": \"code\",\n      \"properties\": {\n        \"dtype\": \"number\",\n        \"std\": null,\n        \"min\": null,\n        \"max\": null,\n        \"num_unique_values\": 0,\n        \"samples\": [],\n        \"semantic_type\": \"\",\n        \"description\": \"\"\n      }\n    },\n    {\n      \"column\": \"score\",\n      \"properties\": {\n        \"dtype\": \"number\",\n        \"std\": null,\n        \"min\": null,\n        \"max\": null,\n        \"num_unique_values\": 0,\n        \"samples\": [],\n        \"semantic_type\": \"\",\n        \"description\": \"\"\n      }\n    },\n    {\n      \"column\": \"rank\",\n      \"properties\": {\n        \"dtype\": \"number\",\n        \"std\": null,\n        \"min\": null,\n        \"max\": null,\n        \"num_unique_values\": 0,\n        \"samples\": [],\n        \"semantic_type\": \"\",\n        \"description\": \"\"\n      }\n    }\n  ]\n}"
            }
          },
          "metadata": {},
          "execution_count": 41
        }
      ],
      "source": [
        "submission_df = pd.DataFrame(\n",
        "    {\n",
        "        'session_id':[],\n",
        "        'code':[],\n",
        "        'score':[],\n",
        "        'rank':[]\n",
        "    }\n",
        ")\n",
        "\n",
        "submission_df.head()"
      ]
    },
    {
      "cell_type": "code",
      "execution_count": null,
      "id": "31d538cf",
      "metadata": {
        "execution": {
          "iopub.execute_input": "2022-06-13T16:06:59.960033Z",
          "iopub.status.busy": "2022-06-13T16:06:59.959685Z",
          "iopub.status.idle": "2022-06-13T16:06:59.964819Z",
          "shell.execute_reply": "2022-06-13T16:06:59.964065Z"
        },
        "id": "31d538cf",
        "papermill": {
          "duration": 0.032551,
          "end_time": "2022-06-13T16:06:59.966452",
          "exception": false,
          "start_time": "2022-06-13T16:06:59.933901",
          "status": "completed"
        },
        "tags": []
      },
      "outputs": [],
      "source": [
        "candidates=np.array([i+1 for i in range(4990)]) # this is for the test month"
      ]
    },
    {
      "cell_type": "code",
      "execution_count": null,
      "id": "85266a92",
      "metadata": {
        "execution": {
          "iopub.execute_input": "2022-06-13T16:07:00.018957Z",
          "iopub.status.busy": "2022-06-13T16:07:00.018430Z",
          "iopub.status.idle": "2022-06-13T16:07:18.037881Z",
          "shell.execute_reply": "2022-06-13T16:07:18.037110Z"
        },
        "id": "85266a92",
        "outputId": "0032bd96-2a23-4beb-9816-b6d54267940a",
        "papermill": {
          "duration": 18.04733,
          "end_time": "2022-06-13T16:07:18.039739",
          "exception": false,
          "start_time": "2022-06-13T16:06:59.992409",
          "status": "completed"
        },
        "tags": [],
        "colab": {
          "base_uri": "https://localhost:8080/",
          "height": 206
        }
      },
      "outputs": [
        {
          "output_type": "execute_result",
          "data": {
            "text/plain": [
              "   session_id                                               code  \\\n",
              "0        26.0  (606, 3646, 3720, 4685, 4841, 1114, 2874, 4952...   \n",
              "1       200.0  (772, 1827, 3400, 270, 2696, 64, 4754, 3782, 4...   \n",
              "2       205.0  (3398, 4986, 1181, 1484, 2235, 584, 218, 3203,...   \n",
              "3       495.0  (825, 4453, 534, 3201, 3964, 2232, 4686, 2401,...   \n",
              "4       521.0  (3172, 143, 23, 2232, 1768, 410, 3705, 3586, 3...   \n",
              "\n",
              "                                               score  \\\n",
              "0  (0.077153586, 0.059021138, 0.036284342, 0.0175...   \n",
              "1  (0.16531512, 0.043278623, 0.040170275, 0.02404...   \n",
              "2  (0.3104614, 0.06077284, 0.04219773, 0.02496687...   \n",
              "3  (0.0136980405, 0.008784313, 0.006392899, 0.005...   \n",
              "4  (0.010731853, 0.010527081, 0.010299219, 0.0078...   \n",
              "\n",
              "                                                rank  \n",
              "0  (1, 2, 3, 4, 5, 6, 7, 8, 9, 10, 11, 12, 13, 14...  \n",
              "1  (1, 2, 3, 4, 5, 6, 7, 8, 9, 10, 11, 12, 13, 14...  \n",
              "2  (1, 2, 3, 4, 5, 6, 7, 8, 9, 10, 11, 12, 13, 14...  \n",
              "3  (1, 2, 3, 4, 5, 6, 7, 8, 9, 10, 11, 12, 13, 14...  \n",
              "4  (1, 2, 3, 4, 5, 6, 7, 8, 9, 10, 11, 12, 13, 14...  "
            ],
            "text/html": [
              "\n",
              "  <div id=\"df-0a6162bf-36d5-40cf-a8e8-d9519ecb942e\" class=\"colab-df-container\">\n",
              "    <div>\n",
              "<style scoped>\n",
              "    .dataframe tbody tr th:only-of-type {\n",
              "        vertical-align: middle;\n",
              "    }\n",
              "\n",
              "    .dataframe tbody tr th {\n",
              "        vertical-align: top;\n",
              "    }\n",
              "\n",
              "    .dataframe thead th {\n",
              "        text-align: right;\n",
              "    }\n",
              "</style>\n",
              "<table border=\"1\" class=\"dataframe\">\n",
              "  <thead>\n",
              "    <tr style=\"text-align: right;\">\n",
              "      <th></th>\n",
              "      <th>session_id</th>\n",
              "      <th>code</th>\n",
              "      <th>score</th>\n",
              "      <th>rank</th>\n",
              "    </tr>\n",
              "  </thead>\n",
              "  <tbody>\n",
              "    <tr>\n",
              "      <th>0</th>\n",
              "      <td>26.0</td>\n",
              "      <td>(606, 3646, 3720, 4685, 4841, 1114, 2874, 4952...</td>\n",
              "      <td>(0.077153586, 0.059021138, 0.036284342, 0.0175...</td>\n",
              "      <td>(1, 2, 3, 4, 5, 6, 7, 8, 9, 10, 11, 12, 13, 14...</td>\n",
              "    </tr>\n",
              "    <tr>\n",
              "      <th>1</th>\n",
              "      <td>200.0</td>\n",
              "      <td>(772, 1827, 3400, 270, 2696, 64, 4754, 3782, 4...</td>\n",
              "      <td>(0.16531512, 0.043278623, 0.040170275, 0.02404...</td>\n",
              "      <td>(1, 2, 3, 4, 5, 6, 7, 8, 9, 10, 11, 12, 13, 14...</td>\n",
              "    </tr>\n",
              "    <tr>\n",
              "      <th>2</th>\n",
              "      <td>205.0</td>\n",
              "      <td>(3398, 4986, 1181, 1484, 2235, 584, 218, 3203,...</td>\n",
              "      <td>(0.3104614, 0.06077284, 0.04219773, 0.02496687...</td>\n",
              "      <td>(1, 2, 3, 4, 5, 6, 7, 8, 9, 10, 11, 12, 13, 14...</td>\n",
              "    </tr>\n",
              "    <tr>\n",
              "      <th>3</th>\n",
              "      <td>495.0</td>\n",
              "      <td>(825, 4453, 534, 3201, 3964, 2232, 4686, 2401,...</td>\n",
              "      <td>(0.0136980405, 0.008784313, 0.006392899, 0.005...</td>\n",
              "      <td>(1, 2, 3, 4, 5, 6, 7, 8, 9, 10, 11, 12, 13, 14...</td>\n",
              "    </tr>\n",
              "    <tr>\n",
              "      <th>4</th>\n",
              "      <td>521.0</td>\n",
              "      <td>(3172, 143, 23, 2232, 1768, 410, 3705, 3586, 3...</td>\n",
              "      <td>(0.010731853, 0.010527081, 0.010299219, 0.0078...</td>\n",
              "      <td>(1, 2, 3, 4, 5, 6, 7, 8, 9, 10, 11, 12, 13, 14...</td>\n",
              "    </tr>\n",
              "  </tbody>\n",
              "</table>\n",
              "</div>\n",
              "    <div class=\"colab-df-buttons\">\n",
              "\n",
              "  <div class=\"colab-df-container\">\n",
              "    <button class=\"colab-df-convert\" onclick=\"convertToInteractive('df-0a6162bf-36d5-40cf-a8e8-d9519ecb942e')\"\n",
              "            title=\"Convert this dataframe to an interactive table.\"\n",
              "            style=\"display:none;\">\n",
              "\n",
              "  <svg xmlns=\"http://www.w3.org/2000/svg\" height=\"24px\" viewBox=\"0 -960 960 960\">\n",
              "    <path d=\"M120-120v-720h720v720H120Zm60-500h600v-160H180v160Zm220 220h160v-160H400v160Zm0 220h160v-160H400v160ZM180-400h160v-160H180v160Zm440 0h160v-160H620v160ZM180-180h160v-160H180v160Zm440 0h160v-160H620v160Z\"/>\n",
              "  </svg>\n",
              "    </button>\n",
              "\n",
              "  <style>\n",
              "    .colab-df-container {\n",
              "      display:flex;\n",
              "      gap: 12px;\n",
              "    }\n",
              "\n",
              "    .colab-df-convert {\n",
              "      background-color: #E8F0FE;\n",
              "      border: none;\n",
              "      border-radius: 50%;\n",
              "      cursor: pointer;\n",
              "      display: none;\n",
              "      fill: #1967D2;\n",
              "      height: 32px;\n",
              "      padding: 0 0 0 0;\n",
              "      width: 32px;\n",
              "    }\n",
              "\n",
              "    .colab-df-convert:hover {\n",
              "      background-color: #E2EBFA;\n",
              "      box-shadow: 0px 1px 2px rgba(60, 64, 67, 0.3), 0px 1px 3px 1px rgba(60, 64, 67, 0.15);\n",
              "      fill: #174EA6;\n",
              "    }\n",
              "\n",
              "    .colab-df-buttons div {\n",
              "      margin-bottom: 4px;\n",
              "    }\n",
              "\n",
              "    [theme=dark] .colab-df-convert {\n",
              "      background-color: #3B4455;\n",
              "      fill: #D2E3FC;\n",
              "    }\n",
              "\n",
              "    [theme=dark] .colab-df-convert:hover {\n",
              "      background-color: #434B5C;\n",
              "      box-shadow: 0px 1px 3px 1px rgba(0, 0, 0, 0.15);\n",
              "      filter: drop-shadow(0px 1px 2px rgba(0, 0, 0, 0.3));\n",
              "      fill: #FFFFFF;\n",
              "    }\n",
              "  </style>\n",
              "\n",
              "    <script>\n",
              "      const buttonEl =\n",
              "        document.querySelector('#df-0a6162bf-36d5-40cf-a8e8-d9519ecb942e button.colab-df-convert');\n",
              "      buttonEl.style.display =\n",
              "        google.colab.kernel.accessAllowed ? 'block' : 'none';\n",
              "\n",
              "      async function convertToInteractive(key) {\n",
              "        const element = document.querySelector('#df-0a6162bf-36d5-40cf-a8e8-d9519ecb942e');\n",
              "        const dataTable =\n",
              "          await google.colab.kernel.invokeFunction('convertToInteractive',\n",
              "                                                    [key], {});\n",
              "        if (!dataTable) return;\n",
              "\n",
              "        const docLinkHtml = 'Like what you see? Visit the ' +\n",
              "          '<a target=\"_blank\" href=https://colab.research.google.com/notebooks/data_table.ipynb>data table notebook</a>'\n",
              "          + ' to learn more about interactive tables.';\n",
              "        element.innerHTML = '';\n",
              "        dataTable['output_type'] = 'display_data';\n",
              "        await google.colab.output.renderOutput(dataTable, element);\n",
              "        const docLink = document.createElement('div');\n",
              "        docLink.innerHTML = docLinkHtml;\n",
              "        element.appendChild(docLink);\n",
              "      }\n",
              "    </script>\n",
              "  </div>\n",
              "\n",
              "\n",
              "<div id=\"df-7c2410d3-1150-4327-a4d7-d9a7db12e9a7\">\n",
              "  <button class=\"colab-df-quickchart\" onclick=\"quickchart('df-7c2410d3-1150-4327-a4d7-d9a7db12e9a7')\"\n",
              "            title=\"Suggest charts\"\n",
              "            style=\"display:none;\">\n",
              "\n",
              "<svg xmlns=\"http://www.w3.org/2000/svg\" height=\"24px\"viewBox=\"0 0 24 24\"\n",
              "     width=\"24px\">\n",
              "    <g>\n",
              "        <path d=\"M19 3H5c-1.1 0-2 .9-2 2v14c0 1.1.9 2 2 2h14c1.1 0 2-.9 2-2V5c0-1.1-.9-2-2-2zM9 17H7v-7h2v7zm4 0h-2V7h2v10zm4 0h-2v-4h2v4z\"/>\n",
              "    </g>\n",
              "</svg>\n",
              "  </button>\n",
              "\n",
              "<style>\n",
              "  .colab-df-quickchart {\n",
              "      --bg-color: #E8F0FE;\n",
              "      --fill-color: #1967D2;\n",
              "      --hover-bg-color: #E2EBFA;\n",
              "      --hover-fill-color: #174EA6;\n",
              "      --disabled-fill-color: #AAA;\n",
              "      --disabled-bg-color: #DDD;\n",
              "  }\n",
              "\n",
              "  [theme=dark] .colab-df-quickchart {\n",
              "      --bg-color: #3B4455;\n",
              "      --fill-color: #D2E3FC;\n",
              "      --hover-bg-color: #434B5C;\n",
              "      --hover-fill-color: #FFFFFF;\n",
              "      --disabled-bg-color: #3B4455;\n",
              "      --disabled-fill-color: #666;\n",
              "  }\n",
              "\n",
              "  .colab-df-quickchart {\n",
              "    background-color: var(--bg-color);\n",
              "    border: none;\n",
              "    border-radius: 50%;\n",
              "    cursor: pointer;\n",
              "    display: none;\n",
              "    fill: var(--fill-color);\n",
              "    height: 32px;\n",
              "    padding: 0;\n",
              "    width: 32px;\n",
              "  }\n",
              "\n",
              "  .colab-df-quickchart:hover {\n",
              "    background-color: var(--hover-bg-color);\n",
              "    box-shadow: 0 1px 2px rgba(60, 64, 67, 0.3), 0 1px 3px 1px rgba(60, 64, 67, 0.15);\n",
              "    fill: var(--button-hover-fill-color);\n",
              "  }\n",
              "\n",
              "  .colab-df-quickchart-complete:disabled,\n",
              "  .colab-df-quickchart-complete:disabled:hover {\n",
              "    background-color: var(--disabled-bg-color);\n",
              "    fill: var(--disabled-fill-color);\n",
              "    box-shadow: none;\n",
              "  }\n",
              "\n",
              "  .colab-df-spinner {\n",
              "    border: 2px solid var(--fill-color);\n",
              "    border-color: transparent;\n",
              "    border-bottom-color: var(--fill-color);\n",
              "    animation:\n",
              "      spin 1s steps(1) infinite;\n",
              "  }\n",
              "\n",
              "  @keyframes spin {\n",
              "    0% {\n",
              "      border-color: transparent;\n",
              "      border-bottom-color: var(--fill-color);\n",
              "      border-left-color: var(--fill-color);\n",
              "    }\n",
              "    20% {\n",
              "      border-color: transparent;\n",
              "      border-left-color: var(--fill-color);\n",
              "      border-top-color: var(--fill-color);\n",
              "    }\n",
              "    30% {\n",
              "      border-color: transparent;\n",
              "      border-left-color: var(--fill-color);\n",
              "      border-top-color: var(--fill-color);\n",
              "      border-right-color: var(--fill-color);\n",
              "    }\n",
              "    40% {\n",
              "      border-color: transparent;\n",
              "      border-right-color: var(--fill-color);\n",
              "      border-top-color: var(--fill-color);\n",
              "    }\n",
              "    60% {\n",
              "      border-color: transparent;\n",
              "      border-right-color: var(--fill-color);\n",
              "    }\n",
              "    80% {\n",
              "      border-color: transparent;\n",
              "      border-right-color: var(--fill-color);\n",
              "      border-bottom-color: var(--fill-color);\n",
              "    }\n",
              "    90% {\n",
              "      border-color: transparent;\n",
              "      border-bottom-color: var(--fill-color);\n",
              "    }\n",
              "  }\n",
              "</style>\n",
              "\n",
              "  <script>\n",
              "    async function quickchart(key) {\n",
              "      const quickchartButtonEl =\n",
              "        document.querySelector('#' + key + ' button');\n",
              "      quickchartButtonEl.disabled = true;  // To prevent multiple clicks.\n",
              "      quickchartButtonEl.classList.add('colab-df-spinner');\n",
              "      try {\n",
              "        const charts = await google.colab.kernel.invokeFunction(\n",
              "            'suggestCharts', [key], {});\n",
              "      } catch (error) {\n",
              "        console.error('Error during call to suggestCharts:', error);\n",
              "      }\n",
              "      quickchartButtonEl.classList.remove('colab-df-spinner');\n",
              "      quickchartButtonEl.classList.add('colab-df-quickchart-complete');\n",
              "    }\n",
              "    (() => {\n",
              "      let quickchartButtonEl =\n",
              "        document.querySelector('#df-7c2410d3-1150-4327-a4d7-d9a7db12e9a7 button');\n",
              "      quickchartButtonEl.style.display =\n",
              "        google.colab.kernel.accessAllowed ? 'block' : 'none';\n",
              "    })();\n",
              "  </script>\n",
              "</div>\n",
              "\n",
              "    </div>\n",
              "  </div>\n"
            ],
            "application/vnd.google.colaboratory.intrinsic+json": {
              "type": "dataframe",
              "variable_name": "submission_df",
              "summary": "{\n  \"name\": \"submission_df\",\n  \"rows\": 50000,\n  \"fields\": [\n    {\n      \"column\": \"session_id\",\n      \"properties\": {\n        \"dtype\": \"number\",\n        \"std\": 1283404.4665049529,\n        \"min\": 26.0,\n        \"max\": 4439757.0,\n        \"num_unique_values\": 50000,\n        \"samples\": [\n          2993624.0,\n          841850.0,\n          18132.0\n        ],\n        \"semantic_type\": \"\",\n        \"description\": \"\"\n      }\n    },\n    {\n      \"column\": \"code\",\n      \"properties\": {\n        \"dtype\": \"string\",\n        \"num_unique_values\": 49963,\n        \"samples\": [\n          [\n            \"2702\",\n            \"1764\",\n            \"4341\",\n            \"4982\",\n            \"1970\",\n            \"3651\",\n            \"2661\",\n            \"989\",\n            \"657\",\n            \"444\",\n            \"3186\",\n            \"2835\",\n            \"16\",\n            \"972\",\n            \"2638\",\n            \"3531\",\n            \"1895\",\n            \"503\",\n            \"2448\",\n            \"4202\",\n            \"1557\",\n            \"2505\",\n            \"2596\",\n            \"2180\",\n            \"1656\",\n            \"3423\",\n            \"1437\",\n            \"3221\",\n            \"1888\",\n            \"2019\",\n            \"4989\",\n            \"1736\",\n            \"1790\",\n            \"1422\",\n            \"302\",\n            \"625\",\n            \"3665\",\n            \"99\",\n            \"42\",\n            \"3400\",\n            \"2094\",\n            \"934\",\n            \"2564\",\n            \"3264\",\n            \"2500\",\n            \"2769\",\n            \"2924\",\n            \"4779\",\n            \"4238\",\n            \"4240\",\n            \"3130\",\n            \"504\",\n            \"863\",\n            \"3863\",\n            \"4652\",\n            \"4425\",\n            \"1183\",\n            \"3208\",\n            \"2266\",\n            \"4651\",\n            \"2814\",\n            \"70\",\n            \"4150\",\n            \"1881\",\n            \"2147\",\n            \"1782\",\n            \"1048\",\n            \"4499\",\n            \"1143\",\n            \"1514\",\n            \"589\",\n            \"4708\",\n            \"885\",\n            \"1775\",\n            \"1899\",\n            \"360\",\n            \"2418\",\n            \"1096\",\n            \"4109\",\n            \"4454\",\n            \"3356\",\n            \"439\",\n            \"4449\",\n            \"4695\",\n            \"2968\",\n            \"351\",\n            \"3424\",\n            \"4423\",\n            \"2895\",\n            \"2684\",\n            \"3463\",\n            \"4836\",\n            \"2276\",\n            \"3054\",\n            \"687\",\n            \"1725\",\n            \"517\",\n            \"669\",\n            \"10\",\n            \"339\"\n          ],\n          [\n            \"4935\",\n            \"3630\",\n            \"786\",\n            \"2235\",\n            \"4716\",\n            \"4741\",\n            \"3346\",\n            \"4503\",\n            \"1227\",\n            \"4213\",\n            \"3746\",\n            \"232\",\n            \"649\",\n            \"3461\",\n            \"4841\",\n            \"320\",\n            \"1609\",\n            \"3783\",\n            \"4451\",\n            \"2301\",\n            \"4834\",\n            \"2616\",\n            \"3526\",\n            \"4184\",\n            \"2115\",\n            \"4356\",\n            \"2694\",\n            \"2234\",\n            \"1643\",\n            \"1389\",\n            \"3400\",\n            \"3282\",\n            \"2149\",\n            \"2218\",\n            \"2906\",\n            \"2739\",\n            \"1646\",\n            \"2328\",\n            \"3263\",\n            \"1342\",\n            \"3432\",\n            \"1183\",\n            \"1936\",\n            \"1325\",\n            \"3541\",\n            \"112\",\n            \"1139\",\n            \"1285\",\n            \"1140\",\n            \"914\",\n            \"4612\",\n            \"4263\",\n            \"1672\",\n            \"3671\",\n            \"1620\",\n            \"2715\",\n            \"4038\",\n            \"2696\",\n            \"1028\",\n            \"3355\",\n            \"4819\",\n            \"3012\",\n            \"3550\",\n            \"3168\",\n            \"1572\",\n            \"3841\",\n            \"2037\",\n            \"3333\",\n            \"3255\",\n            \"342\",\n            \"4622\",\n            \"1636\",\n            \"2660\",\n            \"1182\",\n            \"4146\",\n            \"2639\",\n            \"2785\",\n            \"4737\",\n            \"1794\",\n            \"4083\",\n            \"3353\",\n            \"19\",\n            \"2674\",\n            \"795\",\n            \"851\",\n            \"1797\",\n            \"4153\",\n            \"13\",\n            \"4385\",\n            \"4145\",\n            \"2780\",\n            \"4657\",\n            \"1322\",\n            \"4294\",\n            \"81\",\n            \"3197\",\n            \"2919\",\n            \"772\",\n            \"867\",\n            \"415\"\n          ],\n          [\n            \"4148\",\n            \"2704\",\n            \"3133\",\n            \"2853\",\n            \"4681\",\n            \"733\",\n            \"1936\",\n            \"1342\",\n            \"4758\",\n            \"19\",\n            \"2729\",\n            \"4162\",\n            \"2625\",\n            \"3827\",\n            \"344\",\n            \"51\",\n            \"2937\",\n            \"241\",\n            \"3202\",\n            \"143\",\n            \"3904\",\n            \"292\",\n            \"3094\",\n            \"3550\",\n            \"981\",\n            \"2050\",\n            \"534\",\n            \"4905\",\n            \"3892\",\n            \"2037\",\n            \"242\",\n            \"3506\",\n            \"99\",\n            \"1428\",\n            \"3088\",\n            \"3767\",\n            \"1903\",\n            \"3398\",\n            \"3110\",\n            \"4680\",\n            \"2437\",\n            \"263\",\n            \"2202\",\n            \"615\",\n            \"3730\",\n            \"2950\",\n            \"3460\",\n            \"3645\",\n            \"2260\",\n            \"1637\",\n            \"3155\",\n            \"1857\",\n            \"719\",\n            \"4457\",\n            \"2019\",\n            \"299\",\n            \"3597\",\n            \"4988\",\n            \"4321\",\n            \"4974\",\n            \"3417\",\n            \"939\",\n            \"1608\",\n            \"3522\",\n            \"462\",\n            \"3194\",\n            \"3680\",\n            \"3493\",\n            \"3320\",\n            \"535\",\n            \"4857\",\n            \"1139\",\n            \"819\",\n            \"2455\",\n            \"2821\",\n            \"1183\",\n            \"447\",\n            \"867\",\n            \"3492\",\n            \"2906\",\n            \"4119\",\n            \"1569\",\n            \"2643\",\n            \"203\",\n            \"3197\",\n            \"2865\",\n            \"663\",\n            \"1652\",\n            \"1356\",\n            \"2560\",\n            \"3982\",\n            \"882\",\n            \"4165\",\n            \"3531\",\n            \"53\",\n            \"2327\",\n            \"969\",\n            \"818\",\n            \"3125\",\n            \"3964\"\n          ]\n        ],\n        \"semantic_type\": \"\",\n        \"description\": \"\"\n      }\n    },\n    {\n      \"column\": \"score\",\n      \"properties\": {\n        \"dtype\": \"string\",\n        \"num_unique_values\": 49984,\n        \"samples\": [\n          [\n            \"0.042970177\",\n            \"0.036839828\",\n            \"0.020949803\",\n            \"0.020833828\",\n            \"0.01930097\",\n            \"0.018658997\",\n            \"0.01638608\",\n            \"0.012207844\",\n            \"0.011624879\",\n            \"0.0105717415\",\n            \"0.00984753\",\n            \"0.0071715927\",\n            \"0.0070442394\",\n            \"0.0067680767\",\n            \"0.0066043497\",\n            \"0.0063271103\",\n            \"0.005936779\",\n            \"0.005873828\",\n            \"0.005822429\",\n            \"0.005481624\",\n            \"0.0050772796\",\n            \"0.004916752\",\n            \"0.004898051\",\n            \"0.00461489\",\n            \"0.0045934883\",\n            \"0.003974135\",\n            \"0.0039682575\",\n            \"0.003839878\",\n            \"0.003783513\",\n            \"0.0037283874\",\n            \"0.003596775\",\n            \"0.003516191\",\n            \"0.0034760416\",\n            \"0.003397482\",\n            \"0.0033396324\",\n            \"0.0032180462\",\n            \"0.0032038495\",\n            \"0.003115642\",\n            \"0.0030668997\",\n            \"0.003028586\",\n            \"0.0030269343\",\n            \"0.0030155764\",\n            \"0.0028871093\",\n            \"0.0027638355\",\n            \"0.00272392\",\n            \"0.0026752627\",\n            \"0.002648951\",\n            \"0.0025084168\",\n            \"0.002500649\",\n            \"0.0024785164\",\n            \"0.002416954\",\n            \"0.0023422034\",\n            \"0.0023299414\",\n            \"0.002318159\",\n            \"0.002183007\",\n            \"0.002118298\",\n            \"0.0021010998\",\n            \"0.0020443131\",\n            \"0.0020330444\",\n            \"0.0019597332\",\n            \"0.0019062327\",\n            \"0.0018651176\",\n            \"0.0018346019\",\n            \"0.0018052565\",\n            \"0.0017810796\",\n            \"0.0017742374\",\n            \"0.0017606181\",\n            \"0.0017582858\",\n            \"0.0017526807\",\n            \"0.0017520124\",\n            \"0.0017229526\",\n            \"0.0016953157\",\n            \"0.0016850801\",\n            \"0.0016506858\",\n            \"0.0016444668\",\n            \"0.0016232355\",\n            \"0.0016124938\",\n            \"0.0016122264\",\n            \"0.0016073077\",\n            \"0.0015962267\",\n            \"0.001588606\",\n            \"0.0015800874\",\n            \"0.0015494872\",\n            \"0.001544224\",\n            \"0.0015179764\",\n            \"0.00150729\",\n            \"0.0014845104\",\n            \"0.0014572142\",\n            \"0.0014414273\",\n            \"0.0014353256\",\n            \"0.0014222448\",\n            \"0.0014217838\",\n            \"0.0014130002\",\n            \"0.0013983268\",\n            \"0.0013743101\",\n            \"0.0013712755\",\n            \"0.0013413277\",\n            \"0.001316152\",\n            \"0.0013104982\",\n            \"0.001302067\"\n          ],\n          [\n            \"0.20280741\",\n            \"0.050640438\",\n            \"0.049095407\",\n            \"0.025462203\",\n            \"0.021956867\",\n            \"0.021049362\",\n            \"0.009908426\",\n            \"0.00915253\",\n            \"0.009041742\",\n            \"0.008516415\",\n            \"0.006636197\",\n            \"0.0050784727\",\n            \"0.0046353578\",\n            \"0.0038973961\",\n            \"0.0037779035\",\n            \"0.0037534193\",\n            \"0.0031143182\",\n            \"0.0029595983\",\n            \"0.0029202122\",\n            \"0.0029020112\",\n            \"0.0028439765\",\n            \"0.002803021\",\n            \"0.0027732996\",\n            \"0.0027307982\",\n            \"0.0026400997\",\n            \"0.00237264\",\n            \"0.0021840904\",\n            \"0.0021830702\",\n            \"0.0021515586\",\n            \"0.0020386756\",\n            \"0.0020345734\",\n            \"0.0019345172\",\n            \"0.001919924\",\n            \"0.0018147199\",\n            \"0.0017096689\",\n            \"0.0016889645\",\n            \"0.0016783928\",\n            \"0.001666135\",\n            \"0.0016544247\",\n            \"0.0016443137\",\n            \"0.0015184953\",\n            \"0.0014724554\",\n            \"0.001442368\",\n            \"0.0014005265\",\n            \"0.0013933884\",\n            \"0.0013385806\",\n            \"0.0013158788\",\n            \"0.001299854\",\n            \"0.0012897777\",\n            \"0.0012813673\",\n            \"0.0012601116\",\n            \"0.0012301771\",\n            \"0.0012163484\",\n            \"0.0011580075\",\n            \"0.0011569589\",\n            \"0.0011509502\",\n            \"0.0011486518\",\n            \"0.0011347025\",\n            \"0.001108618\",\n            \"0.001094641\",\n            \"0.0010828873\",\n            \"0.0010791367\",\n            \"0.0010772037\",\n            \"0.0010385779\",\n            \"0.0010123098\",\n            \"0.0010070448\",\n            \"0.0010069448\",\n            \"0.0010011289\",\n            \"0.0009958174\",\n            \"0.0009860854\",\n            \"0.0009832026\",\n            \"0.0009807602\",\n            \"0.00096455176\",\n            \"0.00095435325\",\n            \"0.000950783\",\n            \"0.00094975723\",\n            \"0.0009459624\",\n            \"0.0009335535\",\n            \"0.00092598994\",\n            \"0.00092224975\",\n            \"0.0009190608\",\n            \"0.00091717823\",\n            \"0.0009166134\",\n            \"0.00090172474\",\n            \"0.000893991\",\n            \"0.00089134177\",\n            \"0.00088936836\",\n            \"0.0008773403\",\n            \"0.0008722563\",\n            \"0.0008697461\",\n            \"0.000868791\",\n            \"0.00085330935\",\n            \"0.0008155997\",\n            \"0.00081193505\",\n            \"0.0008096231\",\n            \"0.0007802036\",\n            \"0.00077793305\",\n            \"0.0007775978\",\n            \"0.00077480706\",\n            \"0.00076269003\"\n          ],\n          [\n            \"0.030699762\",\n            \"0.0223805\",\n            \"0.021988979\",\n            \"0.014062107\",\n            \"0.0140174385\",\n            \"0.011083674\",\n            \"0.010718167\",\n            \"0.010538158\",\n            \"0.010298069\",\n            \"0.009838545\",\n            \"0.009552755\",\n            \"0.009002613\",\n            \"0.008231551\",\n            \"0.0071227546\",\n            \"0.0066013695\",\n            \"0.006417725\",\n            \"0.00641409\",\n            \"0.0060199085\",\n            \"0.0059539746\",\n            \"0.0052351574\",\n            \"0.005229908\",\n            \"0.005147166\",\n            \"0.0048047286\",\n            \"0.0047884253\",\n            \"0.0046434295\",\n            \"0.0045162425\",\n            \"0.0041359668\",\n            \"0.003919479\",\n            \"0.00360881\",\n            \"0.0035318749\",\n            \"0.0035233635\",\n            \"0.0033909392\",\n            \"0.0032259328\",\n            \"0.0031041666\",\n            \"0.0030295586\",\n            \"0.002897184\",\n            \"0.0028009757\",\n            \"0.0027781925\",\n            \"0.0027270047\",\n            \"0.0027201008\",\n            \"0.0027083287\",\n            \"0.002632302\",\n            \"0.0025567217\",\n            \"0.002488627\",\n            \"0.0024397387\",\n            \"0.0024198662\",\n            \"0.0023940518\",\n            \"0.0022467012\",\n            \"0.0022009613\",\n            \"0.0021957827\",\n            \"0.0021761283\",\n            \"0.0021191197\",\n            \"0.0021063536\",\n            \"0.0020855737\",\n            \"0.0020622786\",\n            \"0.0020392635\",\n            \"0.00200882\",\n            \"0.0019624578\",\n            \"0.0019583858\",\n            \"0.0019460904\",\n            \"0.0019035127\",\n            \"0.0019009223\",\n            \"0.0018464935\",\n            \"0.0017996953\",\n            \"0.0017978733\",\n            \"0.0017393641\",\n            \"0.001706428\",\n            \"0.0016747351\",\n            \"0.0016513169\",\n            \"0.0016348575\",\n            \"0.0016064137\",\n            \"0.0015974888\",\n            \"0.0015918892\",\n            \"0.001552121\",\n            \"0.001512674\",\n            \"0.0015077252\",\n            \"0.0015051594\",\n            \"0.0014688012\",\n            \"0.0013849922\",\n            \"0.0013825113\",\n            \"0.0012881237\",\n            \"0.001278292\",\n            \"0.0012391545\",\n            \"0.001215892\",\n            \"0.0012093511\",\n            \"0.0012026619\",\n            \"0.0012016072\",\n            \"0.0011862587\",\n            \"0.001185232\",\n            \"0.0011693184\",\n            \"0.0011381212\",\n            \"0.0011186227\",\n            \"0.00111654\",\n            \"0.0011101187\",\n            \"0.0011060628\",\n            \"0.0010997687\",\n            \"0.0010971853\",\n            \"0.0010871944\",\n            \"0.0010773584\",\n            \"0.0010643234\"\n          ]\n        ],\n        \"semantic_type\": \"\",\n        \"description\": \"\"\n      }\n    },\n    {\n      \"column\": \"rank\",\n      \"properties\": {\n        \"dtype\": \"category\",\n        \"num_unique_values\": 1,\n        \"samples\": [\n          [\n            1,\n            2,\n            3,\n            4,\n            5,\n            6,\n            7,\n            8,\n            9,\n            10,\n            11,\n            12,\n            13,\n            14,\n            15,\n            16,\n            17,\n            18,\n            19,\n            20,\n            21,\n            22,\n            23,\n            24,\n            25,\n            26,\n            27,\n            28,\n            29,\n            30,\n            31,\n            32,\n            33,\n            34,\n            35,\n            36,\n            37,\n            38,\n            39,\n            40,\n            41,\n            42,\n            43,\n            44,\n            45,\n            46,\n            47,\n            48,\n            49,\n            50,\n            51,\n            52,\n            53,\n            54,\n            55,\n            56,\n            57,\n            58,\n            59,\n            60,\n            61,\n            62,\n            63,\n            64,\n            65,\n            66,\n            67,\n            68,\n            69,\n            70,\n            71,\n            72,\n            73,\n            74,\n            75,\n            76,\n            77,\n            78,\n            79,\n            80,\n            81,\n            82,\n            83,\n            84,\n            85,\n            86,\n            87,\n            88,\n            89,\n            90,\n            91,\n            92,\n            93,\n            94,\n            95,\n            96,\n            97,\n            98,\n            99,\n            100\n          ]\n        ],\n        \"semantic_type\": \"\",\n        \"description\": \"\"\n      }\n    }\n  ]\n}"
            }
          },
          "metadata": {},
          "execution_count": 43
        }
      ],
      "source": [
        "for session_ids, sessions in submission_set:\n",
        "    predicted_scores=model_for_training(sessions)[0].numpy()\n",
        "    mask = np.ones(predicted_scores.shape[1], dtype=bool)\n",
        "    mask[candidates] = False\n",
        "    predicted_scores[...,mask]=-np.inf\n",
        "    predicted_scores=tf.convert_to_tensor(predicted_scores)\n",
        "    preds=tf.math.top_k(predicted_scores, k=100)\n",
        "    scores=preds.values.numpy()\n",
        "    code = preds.indices.numpy()\n",
        "    prediction = pd.DataFrame(\n",
        "        {\n",
        "            'session_id':session_ids,\n",
        "            'code':[tuple(v) for v in code],\n",
        "            'score':[tuple(v) for v in scores],\n",
        "            'rank':[tuple([rank for rank in range(1, 101)]) for id in session_ids]\n",
        "        }\n",
        "        )\n",
        "\n",
        "    submission_df = pd.concat([submission_df, prediction])\n",
        "\n",
        "submission_df.head()"
      ]
    },
    {
      "cell_type": "code",
      "execution_count": null,
      "id": "22bb8d27",
      "metadata": {
        "execution": {
          "iopub.execute_input": "2022-06-13T16:07:18.090162Z",
          "iopub.status.busy": "2022-06-13T16:07:18.089885Z",
          "iopub.status.idle": "2022-06-13T16:07:27.315685Z",
          "shell.execute_reply": "2022-06-13T16:07:27.314650Z"
        },
        "id": "22bb8d27",
        "papermill": {
          "duration": 9.25344,
          "end_time": "2022-06-13T16:07:27.317993",
          "exception": false,
          "start_time": "2022-06-13T16:07:18.064553",
          "status": "completed"
        },
        "tags": []
      },
      "outputs": [],
      "source": [
        "submission_df.to_csv(\n",
        "    './drive/MyDrive/Recommendation_system/dataset/candidates/NN/LSTM/leaderboard/candidates.csv',\n",
        "    index=False\n",
        "    )"
      ]
    },
    {
      "cell_type": "code",
      "execution_count": null,
      "id": "f8b16f3a",
      "metadata": {
        "execution": {
          "iopub.execute_input": "2022-06-13T16:07:27.375159Z",
          "iopub.status.busy": "2022-06-13T16:07:27.374821Z",
          "iopub.status.idle": "2022-06-13T16:07:27.845061Z",
          "shell.execute_reply": "2022-06-13T16:07:27.844139Z"
        },
        "papermill": {
          "duration": 0.500731,
          "end_time": "2022-06-13T16:07:27.847107",
          "exception": false,
          "start_time": "2022-06-13T16:07:27.346376",
          "status": "completed"
        },
        "tags": [],
        "colab": {
          "base_uri": "https://localhost:8080/"
        },
        "id": "f8b16f3a",
        "outputId": "c50b33eb-1d17-4885-d785-3d723da5ccf2"
      },
      "outputs": [
        {
          "output_type": "execute_result",
          "data": {
            "text/plain": [
              "49"
            ]
          },
          "metadata": {},
          "execution_count": 45
        }
      ],
      "source": [
        "del submission_df\n",
        "gc.collect()"
      ]
    },
    {
      "cell_type": "markdown",
      "id": "ec0adaeb",
      "metadata": {
        "id": "ec0adaeb",
        "papermill": {
          "duration": 0.025043,
          "end_time": "2022-06-13T16:07:27.900378",
          "exception": false,
          "start_time": "2022-06-13T16:07:27.875335",
          "status": "completed"
        },
        "tags": []
      },
      "source": [
        "# Prepare test predictions Final\n"
      ]
    },
    {
      "cell_type": "code",
      "execution_count": null,
      "id": "bbb14e22",
      "metadata": {
        "execution": {
          "iopub.execute_input": "2022-06-13T16:07:27.950917Z",
          "iopub.status.busy": "2022-06-13T16:07:27.950365Z",
          "iopub.status.idle": "2022-06-13T16:07:30.185820Z",
          "shell.execute_reply": "2022-06-13T16:07:30.185064Z"
        },
        "id": "bbb14e22",
        "outputId": "e5cbd741-4228-436b-eca1-043e017e2d46",
        "papermill": {
          "duration": 2.262505,
          "end_time": "2022-06-13T16:07:30.187617",
          "exception": false,
          "start_time": "2022-06-13T16:07:27.925112",
          "status": "completed"
        },
        "tags": [],
        "colab": {
          "base_uri": "https://localhost:8080/"
        }
      },
      "outputs": [
        {
          "output_type": "execute_result",
          "data": {
            "text/plain": [
              "2046"
            ]
          },
          "metadata": {},
          "execution_count": 46
        }
      ],
      "source": [
        "temp=pd.read_csv(\"./drive/MyDrive/Recommendation_system/dataset/processed_data/macro_feats_NN_final.csv\")\n",
        "temp[\"item_id\"]=temp[\"item_id\"].map(ast.literal_eval)\n",
        "temp[\"timedelta\"]=temp[\"timedelta\"].map(ast.literal_eval)\n",
        "\n",
        "test_leaderboard_sessions=temp\n",
        "gc.collect()"
      ]
    },
    {
      "cell_type": "code",
      "execution_count": null,
      "id": "78c383bd",
      "metadata": {
        "execution": {
          "iopub.execute_input": "2022-06-13T16:07:30.239639Z",
          "iopub.status.busy": "2022-06-13T16:07:30.239351Z",
          "iopub.status.idle": "2022-06-13T16:07:30.769535Z",
          "shell.execute_reply": "2022-06-13T16:07:30.768754Z"
        },
        "id": "78c383bd",
        "papermill": {
          "duration": 0.558819,
          "end_time": "2022-06-13T16:07:30.771619",
          "exception": false,
          "start_time": "2022-06-13T16:07:30.212800",
          "status": "completed"
        },
        "tags": []
      },
      "outputs": [],
      "source": [
        "\n",
        "x_reseen_test = tf.keras.preprocessing.sequence.pad_sequences(\n",
        "    test_leaderboard_sessions['item_id'].apply(is_reseen),\n",
        "    padding='post',\n",
        "    maxlen=100,\n",
        ")\n",
        "\n",
        "x_percentage_seen_test = tf.keras.preprocessing.sequence.pad_sequences(\n",
        "    test_leaderboard_sessions['item_id'].apply(percentage_seen),\n",
        "    padding='post',\n",
        "    maxlen=100,\n",
        ")"
      ]
    },
    {
      "cell_type": "code",
      "execution_count": null,
      "id": "f78be361",
      "metadata": {
        "execution": {
          "iopub.execute_input": "2022-06-13T16:07:30.823882Z",
          "iopub.status.busy": "2022-06-13T16:07:30.823069Z",
          "iopub.status.idle": "2022-06-13T16:07:41.429301Z",
          "shell.execute_reply": "2022-06-13T16:07:41.428512Z"
        },
        "id": "f78be361",
        "outputId": "c4c66850-9a89-46b4-da7a-a202ed48d2ae",
        "papermill": {
          "duration": 10.634753,
          "end_time": "2022-06-13T16:07:41.431863",
          "exception": false,
          "start_time": "2022-06-13T16:07:30.797110",
          "status": "completed"
        },
        "tags": [],
        "colab": {
          "base_uri": "https://localhost:8080/",
          "height": 81,
          "referenced_widgets": [
            "444ec68c6773435a9c959c701ff7bb9d",
            "00a4573c04204dd38e67c62ccbc8b922",
            "f19da21f9a894890bbe016fcd8c106ec",
            "5e99e9adc8d9469e94b5ec83ed01ef78",
            "4a4ad28b6a664f7db29c4b21fc166201",
            "fcd1ec4aab6f48fda046515919010fb5",
            "1b60a5dbaeaf4c7496c7e67c2cac51fd",
            "bf48f9ce4bdb4ca587bb004bb823de0b",
            "acccf470f7d048118feef4ac7a7690c6",
            "1113df68f0784dcbad372dfec614b844",
            "e24f7994225b4b438719dc48a16bf1c6",
            "7ec9d08366284459b7dffe38331d5dd1",
            "effc7088d1784e3ba38526df3ceb51cb",
            "ce536fac325e47deb1e641205bc8250d",
            "7ff293f97ea14e908bc7dd7621932353",
            "cba2d33363e04b5d815dd08c040df491",
            "869caf5839a94160a1881aa84f1d1d6d",
            "c9a82481f34841cd90442bd24110c74e",
            "74bb0f9fdf8944a99b9acc4a56d2d856",
            "3c5cf5cdaa884938bfff88fa8698c286",
            "52da9c2ff8174e438116d53856ce1609",
            "e4b5021061ad47f2b467078ea6ea22fa"
          ]
        }
      },
      "outputs": [
        {
          "output_type": "display_data",
          "data": {
            "text/plain": [
              "  0%|          | 0/50000 [00:00<?, ?it/s]"
            ],
            "application/vnd.jupyter.widget-view+json": {
              "version_major": 2,
              "version_minor": 0,
              "model_id": "444ec68c6773435a9c959c701ff7bb9d"
            }
          },
          "metadata": {}
        },
        {
          "output_type": "display_data",
          "data": {
            "text/plain": [
              "  0%|          | 0/50000 [00:00<?, ?it/s]"
            ],
            "application/vnd.jupyter.widget-view+json": {
              "version_major": 2,
              "version_minor": 0,
              "model_id": "7ec9d08366284459b7dffe38331d5dd1"
            }
          },
          "metadata": {}
        }
      ],
      "source": [
        "x_simils_test = tf.keras.preprocessing.sequence.pad_sequences(\n",
        "    test_leaderboard_sessions['item_id'].progress_apply(similarity_with_preceding\n",
        "    ),\n",
        "    padding='post',\n",
        "    maxlen=100,\n",
        "    dtype='float32',\n",
        ")\n",
        "x_simils_feats_test = tf.keras.preprocessing.sequence.pad_sequences(\n",
        "    test_leaderboard_sessions['item_id'].progress_apply(similarity_feats_with_preceding\n",
        "    ),\n",
        "    padding='post',\n",
        "    maxlen=100,\n",
        "    dtype='float32',\n",
        ")"
      ]
    },
    {
      "cell_type": "code",
      "execution_count": null,
      "id": "637ad44b",
      "metadata": {
        "execution": {
          "iopub.execute_input": "2022-06-13T16:07:41.518852Z",
          "iopub.status.busy": "2022-06-13T16:07:41.518502Z",
          "iopub.status.idle": "2022-06-13T16:07:41.533748Z",
          "shell.execute_reply": "2022-06-13T16:07:41.533097Z"
        },
        "id": "637ad44b",
        "papermill": {
          "duration": 0.063237,
          "end_time": "2022-06-13T16:07:41.538915",
          "exception": false,
          "start_time": "2022-06-13T16:07:41.475678",
          "status": "completed"
        },
        "tags": []
      },
      "outputs": [],
      "source": [
        "for col in ['length_of_session_seconds','avg_time_spent_per_item_seconds','variance_time_spent_per_item_seconds']:\n",
        "    test_leaderboard_sessions[col]=np.log10(test_leaderboard_sessions[col]+1)\n",
        "for col in ['n_seen_items','n_unique_items']:\n",
        "    test_leaderboard_sessions[col]=test_leaderboard_sessions[col]/100"
      ]
    },
    {
      "cell_type": "code",
      "execution_count": null,
      "id": "42ac81fe",
      "metadata": {
        "execution": {
          "iopub.execute_input": "2022-06-13T16:07:41.624584Z",
          "iopub.status.busy": "2022-06-13T16:07:41.624236Z",
          "iopub.status.idle": "2022-06-13T16:07:41.884050Z",
          "shell.execute_reply": "2022-06-13T16:07:41.883153Z"
        },
        "id": "42ac81fe",
        "papermill": {
          "duration": 0.304858,
          "end_time": "2022-06-13T16:07:41.885813",
          "exception": false,
          "start_time": "2022-06-13T16:07:41.580955",
          "status": "completed"
        },
        "tags": [],
        "colab": {
          "base_uri": "https://localhost:8080/"
        },
        "outputId": "c483d626-f27a-4c87-8a61-77a5408e0234"
      },
      "outputs": [
        {
          "output_type": "execute_result",
          "data": {
            "text/plain": [
              "array([4785,    0,    0,    0,    0,    0,    0,    0,    0,    0,    0,\n",
              "          0,    0,    0,    0,    0,    0,    0,    0,    0,    0,    0,\n",
              "          0,    0,    0,    0,    0,    0,    0,    0,    0,    0,    0,\n",
              "          0,    0,    0,    0,    0,    0,    0,    0,    0,    0,    0,\n",
              "          0,    0,    0,    0,    0,    0,    0,    0,    0,    0,    0,\n",
              "          0,    0,    0,    0,    0,    0,    0,    0,    0,    0,    0,\n",
              "          0,    0,    0,    0,    0,    0,    0,    0,    0,    0,    0,\n",
              "          0,    0,    0,    0,    0,    0,    0,    0,    0,    0,    0,\n",
              "          0,    0,    0,    0,    0,    0,    0,    0,    0,    0,    0,\n",
              "          0], dtype=int32)"
            ]
          },
          "metadata": {},
          "execution_count": 50
        }
      ],
      "source": [
        "x_test_leaderboard = tf.keras.preprocessing.sequence.pad_sequences(\n",
        "    test_leaderboard_sessions['item_id'],\n",
        "    padding='post',\n",
        "    maxlen=100\n",
        ")\n",
        "\n",
        "x_test_leaderboard[0]"
      ]
    },
    {
      "cell_type": "code",
      "execution_count": null,
      "id": "36e7fdf4",
      "metadata": {
        "execution": {
          "iopub.execute_input": "2022-06-13T16:07:41.939634Z",
          "iopub.status.busy": "2022-06-13T16:07:41.939353Z",
          "iopub.status.idle": "2022-06-13T16:07:42.140989Z",
          "shell.execute_reply": "2022-06-13T16:07:42.140019Z"
        },
        "id": "36e7fdf4",
        "papermill": {
          "duration": 0.230588,
          "end_time": "2022-06-13T16:07:42.142676",
          "exception": false,
          "start_time": "2022-06-13T16:07:41.912088",
          "status": "completed"
        },
        "tags": [],
        "colab": {
          "base_uri": "https://localhost:8080/"
        },
        "outputId": "f369881c-07da-4066-8841-1ecda59942a3"
      },
      "outputs": [
        {
          "output_type": "stream",
          "name": "stdout",
          "text": [
            "Padding timedelta\n"
          ]
        }
      ],
      "source": [
        "\n",
        "for item_related_feature in item_related_features:\n",
        "    print('Padding {}'.format(item_related_feature))\n",
        "    x_test_item_related = tf.keras.preprocessing.sequence.pad_sequences(\n",
        "        test_leaderboard_sessions[item_related_feature],\n",
        "        dtype='float16',\n",
        "        maxlen=100,\n",
        "        padding='post'\n",
        "    )"
      ]
    },
    {
      "cell_type": "code",
      "execution_count": null,
      "id": "afdfa217",
      "metadata": {
        "execution": {
          "iopub.execute_input": "2022-06-13T16:07:42.194870Z",
          "iopub.status.busy": "2022-06-13T16:07:42.194599Z",
          "iopub.status.idle": "2022-06-13T16:07:42.198447Z",
          "shell.execute_reply": "2022-06-13T16:07:42.197658Z"
        },
        "id": "afdfa217",
        "papermill": {
          "duration": 0.031637,
          "end_time": "2022-06-13T16:07:42.200092",
          "exception": false,
          "start_time": "2022-06-13T16:07:42.168455",
          "status": "completed"
        },
        "tags": []
      },
      "outputs": [],
      "source": [
        "if len(item_related_features) == 1:\n",
        "    x_test_item_related = np.expand_dims(x_test_item_related, axis=-1)"
      ]
    },
    {
      "cell_type": "code",
      "execution_count": null,
      "id": "d6648b94",
      "metadata": {
        "execution": {
          "iopub.execute_input": "2022-06-13T16:07:42.252111Z",
          "iopub.status.busy": "2022-06-13T16:07:42.251862Z",
          "iopub.status.idle": "2022-06-13T16:07:42.337982Z",
          "shell.execute_reply": "2022-06-13T16:07:42.337289Z"
        },
        "id": "d6648b94",
        "papermill": {
          "duration": 0.114158,
          "end_time": "2022-06-13T16:07:42.339663",
          "exception": false,
          "start_time": "2022-06-13T16:07:42.225505",
          "status": "completed"
        },
        "tags": [],
        "colab": {
          "base_uri": "https://localhost:8080/"
        },
        "outputId": "1e38b61f-7449-4f26-9614-0355f6f0aaad"
      },
      "outputs": [
        {
          "output_type": "execute_result",
          "data": {
            "text/plain": [
              "(TensorSpec(shape=(None,), dtype=tf.int64, name=None),\n",
              " (TensorSpec(shape=(None, 100), dtype=tf.int32, name=None),\n",
              "  TensorSpec(shape=(None, 100), dtype=tf.float64, name=None),\n",
              "  TensorSpec(shape=(None, 100), dtype=tf.int32, name=None),\n",
              "  TensorSpec(shape=(None, 100), dtype=tf.float32, name=None),\n",
              "  TensorSpec(shape=(None, 100), dtype=tf.float32, name=None),\n",
              "  TensorSpec(shape=(None, 100, 1), dtype=tf.float16, name=None),\n",
              "  TensorSpec(shape=(None, 28), dtype=tf.float64, name=None)))"
            ]
          },
          "metadata": {},
          "execution_count": 53
        }
      ],
      "source": [
        "submission_set = tf.data.Dataset.from_tensor_slices(\n",
        "    (\n",
        "        test_leaderboard_sessions['session_id'],\n",
        "     (\n",
        "        x_test_leaderboard,\n",
        "        x_reseen_test/100,\n",
        "        x_percentage_seen_test,\n",
        "        x_simils_test,\n",
        "        x_simils_feats_test,\n",
        "        x_test_item_related,\n",
        "        test_leaderboard_sessions[static_features].to_numpy()\n",
        "     )\n",
        "    )\n",
        ").batch(512)\n",
        "submission_set.element_spec"
      ]
    },
    {
      "cell_type": "code",
      "execution_count": null,
      "id": "7b49535c",
      "metadata": {
        "execution": {
          "iopub.execute_input": "2022-06-13T16:07:42.392015Z",
          "iopub.status.busy": "2022-06-13T16:07:42.391745Z",
          "iopub.status.idle": "2022-06-13T16:07:42.400774Z",
          "shell.execute_reply": "2022-06-13T16:07:42.399954Z"
        },
        "id": "7b49535c",
        "outputId": "e50a2647-b755-4946-e0a5-538ed7d2bad4",
        "papermill": {
          "duration": 0.036877,
          "end_time": "2022-06-13T16:07:42.402465",
          "exception": false,
          "start_time": "2022-06-13T16:07:42.365588",
          "status": "completed"
        },
        "tags": [],
        "colab": {
          "base_uri": "https://localhost:8080/",
          "height": 53
        }
      },
      "outputs": [
        {
          "output_type": "execute_result",
          "data": {
            "text/plain": [
              "Empty DataFrame\n",
              "Columns: [session_id, code, score, rank]\n",
              "Index: []"
            ],
            "text/html": [
              "\n",
              "  <div id=\"df-de5dd5f8-2bcd-4ee1-b3a2-a22d02cf3180\" class=\"colab-df-container\">\n",
              "    <div>\n",
              "<style scoped>\n",
              "    .dataframe tbody tr th:only-of-type {\n",
              "        vertical-align: middle;\n",
              "    }\n",
              "\n",
              "    .dataframe tbody tr th {\n",
              "        vertical-align: top;\n",
              "    }\n",
              "\n",
              "    .dataframe thead th {\n",
              "        text-align: right;\n",
              "    }\n",
              "</style>\n",
              "<table border=\"1\" class=\"dataframe\">\n",
              "  <thead>\n",
              "    <tr style=\"text-align: right;\">\n",
              "      <th></th>\n",
              "      <th>session_id</th>\n",
              "      <th>code</th>\n",
              "      <th>score</th>\n",
              "      <th>rank</th>\n",
              "    </tr>\n",
              "  </thead>\n",
              "  <tbody>\n",
              "  </tbody>\n",
              "</table>\n",
              "</div>\n",
              "    <div class=\"colab-df-buttons\">\n",
              "\n",
              "  <div class=\"colab-df-container\">\n",
              "    <button class=\"colab-df-convert\" onclick=\"convertToInteractive('df-de5dd5f8-2bcd-4ee1-b3a2-a22d02cf3180')\"\n",
              "            title=\"Convert this dataframe to an interactive table.\"\n",
              "            style=\"display:none;\">\n",
              "\n",
              "  <svg xmlns=\"http://www.w3.org/2000/svg\" height=\"24px\" viewBox=\"0 -960 960 960\">\n",
              "    <path d=\"M120-120v-720h720v720H120Zm60-500h600v-160H180v160Zm220 220h160v-160H400v160Zm0 220h160v-160H400v160ZM180-400h160v-160H180v160Zm440 0h160v-160H620v160ZM180-180h160v-160H180v160Zm440 0h160v-160H620v160Z\"/>\n",
              "  </svg>\n",
              "    </button>\n",
              "\n",
              "  <style>\n",
              "    .colab-df-container {\n",
              "      display:flex;\n",
              "      gap: 12px;\n",
              "    }\n",
              "\n",
              "    .colab-df-convert {\n",
              "      background-color: #E8F0FE;\n",
              "      border: none;\n",
              "      border-radius: 50%;\n",
              "      cursor: pointer;\n",
              "      display: none;\n",
              "      fill: #1967D2;\n",
              "      height: 32px;\n",
              "      padding: 0 0 0 0;\n",
              "      width: 32px;\n",
              "    }\n",
              "\n",
              "    .colab-df-convert:hover {\n",
              "      background-color: #E2EBFA;\n",
              "      box-shadow: 0px 1px 2px rgba(60, 64, 67, 0.3), 0px 1px 3px 1px rgba(60, 64, 67, 0.15);\n",
              "      fill: #174EA6;\n",
              "    }\n",
              "\n",
              "    .colab-df-buttons div {\n",
              "      margin-bottom: 4px;\n",
              "    }\n",
              "\n",
              "    [theme=dark] .colab-df-convert {\n",
              "      background-color: #3B4455;\n",
              "      fill: #D2E3FC;\n",
              "    }\n",
              "\n",
              "    [theme=dark] .colab-df-convert:hover {\n",
              "      background-color: #434B5C;\n",
              "      box-shadow: 0px 1px 3px 1px rgba(0, 0, 0, 0.15);\n",
              "      filter: drop-shadow(0px 1px 2px rgba(0, 0, 0, 0.3));\n",
              "      fill: #FFFFFF;\n",
              "    }\n",
              "  </style>\n",
              "\n",
              "    <script>\n",
              "      const buttonEl =\n",
              "        document.querySelector('#df-de5dd5f8-2bcd-4ee1-b3a2-a22d02cf3180 button.colab-df-convert');\n",
              "      buttonEl.style.display =\n",
              "        google.colab.kernel.accessAllowed ? 'block' : 'none';\n",
              "\n",
              "      async function convertToInteractive(key) {\n",
              "        const element = document.querySelector('#df-de5dd5f8-2bcd-4ee1-b3a2-a22d02cf3180');\n",
              "        const dataTable =\n",
              "          await google.colab.kernel.invokeFunction('convertToInteractive',\n",
              "                                                    [key], {});\n",
              "        if (!dataTable) return;\n",
              "\n",
              "        const docLinkHtml = 'Like what you see? Visit the ' +\n",
              "          '<a target=\"_blank\" href=https://colab.research.google.com/notebooks/data_table.ipynb>data table notebook</a>'\n",
              "          + ' to learn more about interactive tables.';\n",
              "        element.innerHTML = '';\n",
              "        dataTable['output_type'] = 'display_data';\n",
              "        await google.colab.output.renderOutput(dataTable, element);\n",
              "        const docLink = document.createElement('div');\n",
              "        docLink.innerHTML = docLinkHtml;\n",
              "        element.appendChild(docLink);\n",
              "      }\n",
              "    </script>\n",
              "  </div>\n",
              "\n",
              "\n",
              "    </div>\n",
              "  </div>\n"
            ],
            "application/vnd.google.colaboratory.intrinsic+json": {
              "type": "dataframe",
              "variable_name": "submission_df",
              "summary": "{\n  \"name\": \"submission_df\",\n  \"rows\": 0,\n  \"fields\": [\n    {\n      \"column\": \"session_id\",\n      \"properties\": {\n        \"dtype\": \"number\",\n        \"std\": null,\n        \"min\": null,\n        \"max\": null,\n        \"num_unique_values\": 0,\n        \"samples\": [],\n        \"semantic_type\": \"\",\n        \"description\": \"\"\n      }\n    },\n    {\n      \"column\": \"code\",\n      \"properties\": {\n        \"dtype\": \"number\",\n        \"std\": null,\n        \"min\": null,\n        \"max\": null,\n        \"num_unique_values\": 0,\n        \"samples\": [],\n        \"semantic_type\": \"\",\n        \"description\": \"\"\n      }\n    },\n    {\n      \"column\": \"score\",\n      \"properties\": {\n        \"dtype\": \"number\",\n        \"std\": null,\n        \"min\": null,\n        \"max\": null,\n        \"num_unique_values\": 0,\n        \"samples\": [],\n        \"semantic_type\": \"\",\n        \"description\": \"\"\n      }\n    },\n    {\n      \"column\": \"rank\",\n      \"properties\": {\n        \"dtype\": \"number\",\n        \"std\": null,\n        \"min\": null,\n        \"max\": null,\n        \"num_unique_values\": 0,\n        \"samples\": [],\n        \"semantic_type\": \"\",\n        \"description\": \"\"\n      }\n    }\n  ]\n}"
            }
          },
          "metadata": {},
          "execution_count": 54
        }
      ],
      "source": [
        "submission_df = pd.DataFrame(\n",
        "    {\n",
        "        'session_id':[],\n",
        "        'code':[],\n",
        "        'score':[],\n",
        "        'rank':[]\n",
        "    }\n",
        ")\n",
        "\n",
        "submission_df.head()"
      ]
    },
    {
      "cell_type": "code",
      "execution_count": null,
      "id": "2ad3e22d",
      "metadata": {
        "execution": {
          "iopub.execute_input": "2022-06-13T16:07:42.462536Z",
          "iopub.status.busy": "2022-06-13T16:07:42.462250Z",
          "iopub.status.idle": "2022-06-13T16:07:42.467189Z",
          "shell.execute_reply": "2022-06-13T16:07:42.466421Z"
        },
        "id": "2ad3e22d",
        "papermill": {
          "duration": 0.04065,
          "end_time": "2022-06-13T16:07:42.468857",
          "exception": false,
          "start_time": "2022-06-13T16:07:42.428207",
          "status": "completed"
        },
        "tags": []
      },
      "outputs": [],
      "source": [
        "candidates=np.array([i+1 for i in range(4990)])"
      ]
    },
    {
      "cell_type": "code",
      "execution_count": null,
      "id": "6a0589d1",
      "metadata": {
        "execution": {
          "iopub.execute_input": "2022-06-13T16:07:42.522535Z",
          "iopub.status.busy": "2022-06-13T16:07:42.522284Z",
          "iopub.status.idle": "2022-06-13T16:08:00.037931Z",
          "shell.execute_reply": "2022-06-13T16:08:00.037126Z"
        },
        "id": "6a0589d1",
        "outputId": "7412d47b-a7d0-4b81-8733-d7a028c65163",
        "papermill": {
          "duration": 17.543777,
          "end_time": "2022-06-13T16:08:00.039747",
          "exception": false,
          "start_time": "2022-06-13T16:07:42.495970",
          "status": "completed"
        },
        "tags": [],
        "colab": {
          "base_uri": "https://localhost:8080/",
          "height": 206
        }
      },
      "outputs": [
        {
          "output_type": "execute_result",
          "data": {
            "text/plain": [
              "   session_id                                               code  \\\n",
              "0        61.0  (1045, 292, 3586, 429, 1563, 4574, 3904, 3414,...   \n",
              "1        96.0  (3564, 4148, 1183, 4758, 1601, 3778, 3705, 168...   \n",
              "2       185.0  (4148, 4146, 1936, 2330, 3326, 1342, 2704, 293...   \n",
              "3       224.0  (4202, 2147, 2448, 4990, 3338, 4418, 3186, 256...   \n",
              "4       285.0  (3441, 1070, 2970, 3555, 3691, 2268, 2471, 266...   \n",
              "\n",
              "                                               score  \\\n",
              "0  (0.399852, 0.033405717, 0.021922255, 0.0094308...   \n",
              "1  (0.047628563, 0.015976166, 0.015082802, 0.0122...   \n",
              "2  (0.26529494, 0.09140977, 0.04646319, 0.0235473...   \n",
              "3  (0.13181497, 0.03727505, 0.034436855, 0.033483...   \n",
              "4  (0.10427058, 0.025104608, 0.020159215, 0.01648...   \n",
              "\n",
              "                                                rank  \n",
              "0  (1, 2, 3, 4, 5, 6, 7, 8, 9, 10, 11, 12, 13, 14...  \n",
              "1  (1, 2, 3, 4, 5, 6, 7, 8, 9, 10, 11, 12, 13, 14...  \n",
              "2  (1, 2, 3, 4, 5, 6, 7, 8, 9, 10, 11, 12, 13, 14...  \n",
              "3  (1, 2, 3, 4, 5, 6, 7, 8, 9, 10, 11, 12, 13, 14...  \n",
              "4  (1, 2, 3, 4, 5, 6, 7, 8, 9, 10, 11, 12, 13, 14...  "
            ],
            "text/html": [
              "\n",
              "  <div id=\"df-656715a5-d43d-4983-a675-32206e35ed48\" class=\"colab-df-container\">\n",
              "    <div>\n",
              "<style scoped>\n",
              "    .dataframe tbody tr th:only-of-type {\n",
              "        vertical-align: middle;\n",
              "    }\n",
              "\n",
              "    .dataframe tbody tr th {\n",
              "        vertical-align: top;\n",
              "    }\n",
              "\n",
              "    .dataframe thead th {\n",
              "        text-align: right;\n",
              "    }\n",
              "</style>\n",
              "<table border=\"1\" class=\"dataframe\">\n",
              "  <thead>\n",
              "    <tr style=\"text-align: right;\">\n",
              "      <th></th>\n",
              "      <th>session_id</th>\n",
              "      <th>code</th>\n",
              "      <th>score</th>\n",
              "      <th>rank</th>\n",
              "    </tr>\n",
              "  </thead>\n",
              "  <tbody>\n",
              "    <tr>\n",
              "      <th>0</th>\n",
              "      <td>61.0</td>\n",
              "      <td>(1045, 292, 3586, 429, 1563, 4574, 3904, 3414,...</td>\n",
              "      <td>(0.399852, 0.033405717, 0.021922255, 0.0094308...</td>\n",
              "      <td>(1, 2, 3, 4, 5, 6, 7, 8, 9, 10, 11, 12, 13, 14...</td>\n",
              "    </tr>\n",
              "    <tr>\n",
              "      <th>1</th>\n",
              "      <td>96.0</td>\n",
              "      <td>(3564, 4148, 1183, 4758, 1601, 3778, 3705, 168...</td>\n",
              "      <td>(0.047628563, 0.015976166, 0.015082802, 0.0122...</td>\n",
              "      <td>(1, 2, 3, 4, 5, 6, 7, 8, 9, 10, 11, 12, 13, 14...</td>\n",
              "    </tr>\n",
              "    <tr>\n",
              "      <th>2</th>\n",
              "      <td>185.0</td>\n",
              "      <td>(4148, 4146, 1936, 2330, 3326, 1342, 2704, 293...</td>\n",
              "      <td>(0.26529494, 0.09140977, 0.04646319, 0.0235473...</td>\n",
              "      <td>(1, 2, 3, 4, 5, 6, 7, 8, 9, 10, 11, 12, 13, 14...</td>\n",
              "    </tr>\n",
              "    <tr>\n",
              "      <th>3</th>\n",
              "      <td>224.0</td>\n",
              "      <td>(4202, 2147, 2448, 4990, 3338, 4418, 3186, 256...</td>\n",
              "      <td>(0.13181497, 0.03727505, 0.034436855, 0.033483...</td>\n",
              "      <td>(1, 2, 3, 4, 5, 6, 7, 8, 9, 10, 11, 12, 13, 14...</td>\n",
              "    </tr>\n",
              "    <tr>\n",
              "      <th>4</th>\n",
              "      <td>285.0</td>\n",
              "      <td>(3441, 1070, 2970, 3555, 3691, 2268, 2471, 266...</td>\n",
              "      <td>(0.10427058, 0.025104608, 0.020159215, 0.01648...</td>\n",
              "      <td>(1, 2, 3, 4, 5, 6, 7, 8, 9, 10, 11, 12, 13, 14...</td>\n",
              "    </tr>\n",
              "  </tbody>\n",
              "</table>\n",
              "</div>\n",
              "    <div class=\"colab-df-buttons\">\n",
              "\n",
              "  <div class=\"colab-df-container\">\n",
              "    <button class=\"colab-df-convert\" onclick=\"convertToInteractive('df-656715a5-d43d-4983-a675-32206e35ed48')\"\n",
              "            title=\"Convert this dataframe to an interactive table.\"\n",
              "            style=\"display:none;\">\n",
              "\n",
              "  <svg xmlns=\"http://www.w3.org/2000/svg\" height=\"24px\" viewBox=\"0 -960 960 960\">\n",
              "    <path d=\"M120-120v-720h720v720H120Zm60-500h600v-160H180v160Zm220 220h160v-160H400v160Zm0 220h160v-160H400v160ZM180-400h160v-160H180v160Zm440 0h160v-160H620v160ZM180-180h160v-160H180v160Zm440 0h160v-160H620v160Z\"/>\n",
              "  </svg>\n",
              "    </button>\n",
              "\n",
              "  <style>\n",
              "    .colab-df-container {\n",
              "      display:flex;\n",
              "      gap: 12px;\n",
              "    }\n",
              "\n",
              "    .colab-df-convert {\n",
              "      background-color: #E8F0FE;\n",
              "      border: none;\n",
              "      border-radius: 50%;\n",
              "      cursor: pointer;\n",
              "      display: none;\n",
              "      fill: #1967D2;\n",
              "      height: 32px;\n",
              "      padding: 0 0 0 0;\n",
              "      width: 32px;\n",
              "    }\n",
              "\n",
              "    .colab-df-convert:hover {\n",
              "      background-color: #E2EBFA;\n",
              "      box-shadow: 0px 1px 2px rgba(60, 64, 67, 0.3), 0px 1px 3px 1px rgba(60, 64, 67, 0.15);\n",
              "      fill: #174EA6;\n",
              "    }\n",
              "\n",
              "    .colab-df-buttons div {\n",
              "      margin-bottom: 4px;\n",
              "    }\n",
              "\n",
              "    [theme=dark] .colab-df-convert {\n",
              "      background-color: #3B4455;\n",
              "      fill: #D2E3FC;\n",
              "    }\n",
              "\n",
              "    [theme=dark] .colab-df-convert:hover {\n",
              "      background-color: #434B5C;\n",
              "      box-shadow: 0px 1px 3px 1px rgba(0, 0, 0, 0.15);\n",
              "      filter: drop-shadow(0px 1px 2px rgba(0, 0, 0, 0.3));\n",
              "      fill: #FFFFFF;\n",
              "    }\n",
              "  </style>\n",
              "\n",
              "    <script>\n",
              "      const buttonEl =\n",
              "        document.querySelector('#df-656715a5-d43d-4983-a675-32206e35ed48 button.colab-df-convert');\n",
              "      buttonEl.style.display =\n",
              "        google.colab.kernel.accessAllowed ? 'block' : 'none';\n",
              "\n",
              "      async function convertToInteractive(key) {\n",
              "        const element = document.querySelector('#df-656715a5-d43d-4983-a675-32206e35ed48');\n",
              "        const dataTable =\n",
              "          await google.colab.kernel.invokeFunction('convertToInteractive',\n",
              "                                                    [key], {});\n",
              "        if (!dataTable) return;\n",
              "\n",
              "        const docLinkHtml = 'Like what you see? Visit the ' +\n",
              "          '<a target=\"_blank\" href=https://colab.research.google.com/notebooks/data_table.ipynb>data table notebook</a>'\n",
              "          + ' to learn more about interactive tables.';\n",
              "        element.innerHTML = '';\n",
              "        dataTable['output_type'] = 'display_data';\n",
              "        await google.colab.output.renderOutput(dataTable, element);\n",
              "        const docLink = document.createElement('div');\n",
              "        docLink.innerHTML = docLinkHtml;\n",
              "        element.appendChild(docLink);\n",
              "      }\n",
              "    </script>\n",
              "  </div>\n",
              "\n",
              "\n",
              "<div id=\"df-c25d7f7a-d045-4c81-bb8b-8ba730ee1565\">\n",
              "  <button class=\"colab-df-quickchart\" onclick=\"quickchart('df-c25d7f7a-d045-4c81-bb8b-8ba730ee1565')\"\n",
              "            title=\"Suggest charts\"\n",
              "            style=\"display:none;\">\n",
              "\n",
              "<svg xmlns=\"http://www.w3.org/2000/svg\" height=\"24px\"viewBox=\"0 0 24 24\"\n",
              "     width=\"24px\">\n",
              "    <g>\n",
              "        <path d=\"M19 3H5c-1.1 0-2 .9-2 2v14c0 1.1.9 2 2 2h14c1.1 0 2-.9 2-2V5c0-1.1-.9-2-2-2zM9 17H7v-7h2v7zm4 0h-2V7h2v10zm4 0h-2v-4h2v4z\"/>\n",
              "    </g>\n",
              "</svg>\n",
              "  </button>\n",
              "\n",
              "<style>\n",
              "  .colab-df-quickchart {\n",
              "      --bg-color: #E8F0FE;\n",
              "      --fill-color: #1967D2;\n",
              "      --hover-bg-color: #E2EBFA;\n",
              "      --hover-fill-color: #174EA6;\n",
              "      --disabled-fill-color: #AAA;\n",
              "      --disabled-bg-color: #DDD;\n",
              "  }\n",
              "\n",
              "  [theme=dark] .colab-df-quickchart {\n",
              "      --bg-color: #3B4455;\n",
              "      --fill-color: #D2E3FC;\n",
              "      --hover-bg-color: #434B5C;\n",
              "      --hover-fill-color: #FFFFFF;\n",
              "      --disabled-bg-color: #3B4455;\n",
              "      --disabled-fill-color: #666;\n",
              "  }\n",
              "\n",
              "  .colab-df-quickchart {\n",
              "    background-color: var(--bg-color);\n",
              "    border: none;\n",
              "    border-radius: 50%;\n",
              "    cursor: pointer;\n",
              "    display: none;\n",
              "    fill: var(--fill-color);\n",
              "    height: 32px;\n",
              "    padding: 0;\n",
              "    width: 32px;\n",
              "  }\n",
              "\n",
              "  .colab-df-quickchart:hover {\n",
              "    background-color: var(--hover-bg-color);\n",
              "    box-shadow: 0 1px 2px rgba(60, 64, 67, 0.3), 0 1px 3px 1px rgba(60, 64, 67, 0.15);\n",
              "    fill: var(--button-hover-fill-color);\n",
              "  }\n",
              "\n",
              "  .colab-df-quickchart-complete:disabled,\n",
              "  .colab-df-quickchart-complete:disabled:hover {\n",
              "    background-color: var(--disabled-bg-color);\n",
              "    fill: var(--disabled-fill-color);\n",
              "    box-shadow: none;\n",
              "  }\n",
              "\n",
              "  .colab-df-spinner {\n",
              "    border: 2px solid var(--fill-color);\n",
              "    border-color: transparent;\n",
              "    border-bottom-color: var(--fill-color);\n",
              "    animation:\n",
              "      spin 1s steps(1) infinite;\n",
              "  }\n",
              "\n",
              "  @keyframes spin {\n",
              "    0% {\n",
              "      border-color: transparent;\n",
              "      border-bottom-color: var(--fill-color);\n",
              "      border-left-color: var(--fill-color);\n",
              "    }\n",
              "    20% {\n",
              "      border-color: transparent;\n",
              "      border-left-color: var(--fill-color);\n",
              "      border-top-color: var(--fill-color);\n",
              "    }\n",
              "    30% {\n",
              "      border-color: transparent;\n",
              "      border-left-color: var(--fill-color);\n",
              "      border-top-color: var(--fill-color);\n",
              "      border-right-color: var(--fill-color);\n",
              "    }\n",
              "    40% {\n",
              "      border-color: transparent;\n",
              "      border-right-color: var(--fill-color);\n",
              "      border-top-color: var(--fill-color);\n",
              "    }\n",
              "    60% {\n",
              "      border-color: transparent;\n",
              "      border-right-color: var(--fill-color);\n",
              "    }\n",
              "    80% {\n",
              "      border-color: transparent;\n",
              "      border-right-color: var(--fill-color);\n",
              "      border-bottom-color: var(--fill-color);\n",
              "    }\n",
              "    90% {\n",
              "      border-color: transparent;\n",
              "      border-bottom-color: var(--fill-color);\n",
              "    }\n",
              "  }\n",
              "</style>\n",
              "\n",
              "  <script>\n",
              "    async function quickchart(key) {\n",
              "      const quickchartButtonEl =\n",
              "        document.querySelector('#' + key + ' button');\n",
              "      quickchartButtonEl.disabled = true;  // To prevent multiple clicks.\n",
              "      quickchartButtonEl.classList.add('colab-df-spinner');\n",
              "      try {\n",
              "        const charts = await google.colab.kernel.invokeFunction(\n",
              "            'suggestCharts', [key], {});\n",
              "      } catch (error) {\n",
              "        console.error('Error during call to suggestCharts:', error);\n",
              "      }\n",
              "      quickchartButtonEl.classList.remove('colab-df-spinner');\n",
              "      quickchartButtonEl.classList.add('colab-df-quickchart-complete');\n",
              "    }\n",
              "    (() => {\n",
              "      let quickchartButtonEl =\n",
              "        document.querySelector('#df-c25d7f7a-d045-4c81-bb8b-8ba730ee1565 button');\n",
              "      quickchartButtonEl.style.display =\n",
              "        google.colab.kernel.accessAllowed ? 'block' : 'none';\n",
              "    })();\n",
              "  </script>\n",
              "</div>\n",
              "\n",
              "    </div>\n",
              "  </div>\n"
            ],
            "application/vnd.google.colaboratory.intrinsic+json": {
              "type": "dataframe",
              "variable_name": "submission_df",
              "summary": "{\n  \"name\": \"submission_df\",\n  \"rows\": 50000,\n  \"fields\": [\n    {\n      \"column\": \"session_id\",\n      \"properties\": {\n        \"dtype\": \"number\",\n        \"std\": 1282026.5744703738,\n        \"min\": 61.0,\n        \"max\": 4439966.0,\n        \"num_unique_values\": 50000,\n        \"samples\": [\n          2971690.0,\n          836475.0,\n          16743.0\n        ],\n        \"semantic_type\": \"\",\n        \"description\": \"\"\n      }\n    },\n    {\n      \"column\": \"code\",\n      \"properties\": {\n        \"dtype\": \"string\",\n        \"num_unique_values\": 49960,\n        \"samples\": [\n          [\n            \"2051\",\n            \"3194\",\n            \"3553\",\n            \"1388\",\n            \"2406\",\n            \"1125\",\n            \"4544\",\n            \"2602\",\n            \"2696\",\n            \"909\",\n            \"328\",\n            \"2659\",\n            \"608\",\n            \"4717\",\n            \"2597\",\n            \"3526\",\n            \"2629\",\n            \"2799\",\n            \"2734\",\n            \"4641\",\n            \"1468\",\n            \"294\",\n            \"3004\",\n            \"3145\",\n            \"339\",\n            \"64\",\n            \"977\",\n            \"3660\",\n            \"3051\",\n            \"4846\",\n            \"4810\",\n            \"4939\",\n            \"2611\",\n            \"4535\",\n            \"530\",\n            \"1453\",\n            \"99\",\n            \"693\",\n            \"1304\",\n            \"2210\",\n            \"467\",\n            \"1988\",\n            \"2033\",\n            \"298\",\n            \"1023\",\n            \"1609\",\n            \"1318\",\n            \"4689\",\n            \"2924\",\n            \"1899\",\n            \"2577\",\n            \"4833\",\n            \"2940\",\n            \"2235\",\n            \"3388\",\n            \"1849\",\n            \"3618\",\n            \"3230\",\n            \"4482\",\n            \"2530\",\n            \"4695\",\n            \"1139\",\n            \"4327\",\n            \"2835\",\n            \"1422\",\n            \"2353\",\n            \"3511\",\n            \"3901\",\n            \"652\",\n            \"858\",\n            \"724\",\n            \"4835\",\n            \"2328\",\n            \"4979\",\n            \"323\",\n            \"2258\",\n            \"3948\",\n            \"3170\",\n            \"3589\",\n            \"3773\",\n            \"1694\",\n            \"373\",\n            \"773\",\n            \"1183\",\n            \"3186\",\n            \"3550\",\n            \"3406\",\n            \"280\",\n            \"270\",\n            \"2802\",\n            \"3665\",\n            \"4177\",\n            \"3782\",\n            \"4466\",\n            \"3863\",\n            \"251\",\n            \"3867\",\n            \"439\",\n            \"991\",\n            \"2546\"\n          ],\n          [\n            \"989\",\n            \"4846\",\n            \"2320\",\n            \"99\",\n            \"360\",\n            \"2924\",\n            \"2266\",\n            \"3665\",\n            \"2696\",\n            \"2638\",\n            \"2180\",\n            \"3656\",\n            \"2661\",\n            \"3550\",\n            \"3400\",\n            \"772\",\n            \"4167\",\n            \"3424\",\n            \"3821\",\n            \"4122\",\n            \"1468\",\n            \"4238\",\n            \"1122\",\n            \"2431\",\n            \"2835\",\n            \"3283\",\n            \"1895\",\n            \"4779\",\n            \"19\",\n            \"1632\",\n            \"3737\",\n            \"294\",\n            \"4069\",\n            \"4982\",\n            \"4652\",\n            \"2530\",\n            \"2729\",\n            \"2409\",\n            \"1609\",\n            \"1183\",\n            \"4902\",\n            \"3904\",\n            \"4312\",\n            \"42\",\n            \"1936\",\n            \"625\",\n            \"2596\",\n            \"10\",\n            \"3231\",\n            \"707\",\n            \"3194\",\n            \"719\",\n            \"4024\",\n            \"134\",\n            \"323\",\n            \"4819\",\n            \"3531\",\n            \"1970\",\n            \"1824\",\n            \"1048\",\n            \"1015\",\n            \"439\",\n            \"2250\",\n            \"1356\",\n            \"3004\",\n            \"3155\",\n            \"2328\",\n            \"1342\",\n            \"4776\",\n            \"1192\",\n            \"4651\",\n            \"3447\",\n            \"529\",\n            \"2482\",\n            \"4026\",\n            \"3094\",\n            \"2702\",\n            \"3186\",\n            \"2787\",\n            \"2094\",\n            \"2547\",\n            \"3614\",\n            \"120\",\n            \"64\",\n            \"4717\",\n            \"4573\",\n            \"4165\",\n            \"1785\",\n            \"292\",\n            \"270\",\n            \"1148\",\n            \"867\",\n            \"2871\",\n            \"2564\",\n            \"2853\",\n            \"3586\",\n            \"517\",\n            \"3705\",\n            \"4148\",\n            \"351\"\n          ],\n          [\n            \"1643\",\n            \"2328\",\n            \"3550\",\n            \"1936\",\n            \"2166\",\n            \"1989\",\n            \"2037\",\n            \"1609\",\n            \"1356\",\n            \"4184\",\n            \"3155\",\n            \"1794\",\n            \"1464\",\n            \"1139\",\n            \"4038\",\n            \"3362\",\n            \"4148\",\n            \"3595\",\n            \"2330\",\n            \"1477\",\n            \"19\",\n            \"1183\",\n            \"4554\",\n            \"3359\",\n            \"791\",\n            \"2050\",\n            \"3398\",\n            \"545\",\n            \"3943\",\n            \"3266\",\n            \"2785\",\n            \"968\",\n            \"1652\",\n            \"2039\",\n            \"1435\",\n            \"1389\",\n            \"4451\",\n            \"4741\",\n            \"2554\",\n            \"2719\",\n            \"2234\",\n            \"2905\",\n            \"2543\",\n            \"967\",\n            \"4215\",\n            \"3413\",\n            \"2865\",\n            \"3671\",\n            \"4458\",\n            \"3453\",\n            \"4146\",\n            \"2906\",\n            \"2435\",\n            \"2704\",\n            \"3880\",\n            \"81\",\n            \"998\",\n            \"2222\",\n            \"4418\",\n            \"622\",\n            \"4758\",\n            \"3859\",\n            \"2235\",\n            \"1248\",\n            \"1879\",\n            \"4314\",\n            \"263\",\n            \"3026\",\n            \"1646\",\n            \"4787\",\n            \"3326\",\n            \"2180\",\n            \"4115\",\n            \"3901\",\n            \"381\",\n            \"342\",\n            \"4655\",\n            \"4579\",\n            \"3871\",\n            \"4145\",\n            \"4285\",\n            \"3920\",\n            \"2780\",\n            \"2202\",\n            \"320\",\n            \"256\",\n            \"3410\",\n            \"534\",\n            \"3904\",\n            \"786\",\n            \"2215\",\n            \"787\",\n            \"2107\",\n            \"3648\",\n            \"3683\",\n            \"1068\",\n            \"2958\",\n            \"1865\",\n            \"1342\",\n            \"3614\"\n          ]\n        ],\n        \"semantic_type\": \"\",\n        \"description\": \"\"\n      }\n    },\n    {\n      \"column\": \"score\",\n      \"properties\": {\n        \"dtype\": \"string\",\n        \"num_unique_values\": 49985,\n        \"samples\": [\n          [\n            \"0.37319896\",\n            \"0.031900354\",\n            \"0.02506023\",\n            \"0.02323697\",\n            \"0.015495448\",\n            \"0.010687002\",\n            \"0.010365314\",\n            \"0.009781856\",\n            \"0.008739096\",\n            \"0.008304794\",\n            \"0.007516908\",\n            \"0.0045425524\",\n            \"0.0041985307\",\n            \"0.0038978986\",\n            \"0.0037286063\",\n            \"0.0035400246\",\n            \"0.0035124423\",\n            \"0.0032841885\",\n            \"0.0030239436\",\n            \"0.0028389988\",\n            \"0.0024547377\",\n            \"0.0024295382\",\n            \"0.002386253\",\n            \"0.0023588843\",\n            \"0.002344267\",\n            \"0.002138485\",\n            \"0.0020634567\",\n            \"0.0020287628\",\n            \"0.0019647775\",\n            \"0.0017776543\",\n            \"0.0017185374\",\n            \"0.0016500554\",\n            \"0.0015758519\",\n            \"0.00151428\",\n            \"0.001433623\",\n            \"0.0014100568\",\n            \"0.0013764789\",\n            \"0.0013503705\",\n            \"0.0012114367\",\n            \"0.001206769\",\n            \"0.0011746665\",\n            \"0.0010021292\",\n            \"0.0009977083\",\n            \"0.0009865793\",\n            \"0.0009860639\",\n            \"0.0009052826\",\n            \"0.0008699942\",\n            \"0.0008486713\",\n            \"0.0008399543\",\n            \"0.00080880284\",\n            \"0.00079897\",\n            \"0.0007866642\",\n            \"0.0007816925\",\n            \"0.00076657615\",\n            \"0.00076604856\",\n            \"0.00076311285\",\n            \"0.0007540167\",\n            \"0.0007492942\",\n            \"0.00073630264\",\n            \"0.00073507347\",\n            \"0.0007344932\",\n            \"0.0007220475\",\n            \"0.0007121981\",\n            \"0.0007055016\",\n            \"0.0006736388\",\n            \"0.00065972045\",\n            \"0.0006352618\",\n            \"0.00063041685\",\n            \"0.00062140945\",\n            \"0.00061542925\",\n            \"0.0006146855\",\n            \"0.0006011763\",\n            \"0.00058722316\",\n            \"0.000586537\",\n            \"0.0005816152\",\n            \"0.0005771804\",\n            \"0.0005736421\",\n            \"0.00056904\",\n            \"0.00056532514\",\n            \"0.00054096396\",\n            \"0.0005358407\",\n            \"0.0005275353\",\n            \"0.000519991\",\n            \"0.00051083684\",\n            \"0.0004929001\",\n            \"0.0004902757\",\n            \"0.00048539817\",\n            \"0.00048479027\",\n            \"0.00047771234\",\n            \"0.00047753565\",\n            \"0.00047228107\",\n            \"0.00046932578\",\n            \"0.00046747466\",\n            \"0.0004636731\",\n            \"0.00045608767\",\n            \"0.0004556468\",\n            \"0.00045231573\",\n            \"0.00044793205\",\n            \"0.00044650666\",\n            \"0.00044225605\"\n          ],\n          [\n            \"0.10686842\",\n            \"0.09293013\",\n            \"0.049470037\",\n            \"0.047239766\",\n            \"0.025305478\",\n            \"0.019899527\",\n            \"0.018477742\",\n            \"0.0142917335\",\n            \"0.008595947\",\n            \"0.00846905\",\n            \"0.008200285\",\n            \"0.006419674\",\n            \"0.006150134\",\n            \"0.0061058127\",\n            \"0.005916433\",\n            \"0.0055977213\",\n            \"0.004792325\",\n            \"0.0042959643\",\n            \"0.0042245877\",\n            \"0.0041782856\",\n            \"0.004126253\",\n            \"0.0040447125\",\n            \"0.0039026889\",\n            \"0.003611766\",\n            \"0.0035572902\",\n            \"0.003376919\",\n            \"0.0030664385\",\n            \"0.0029575634\",\n            \"0.0028428186\",\n            \"0.0028341885\",\n            \"0.0027195627\",\n            \"0.0026129968\",\n            \"0.0025432603\",\n            \"0.0025430252\",\n            \"0.0025309736\",\n            \"0.0024948376\",\n            \"0.0022910582\",\n            \"0.0022907895\",\n            \"0.0022222984\",\n            \"0.0020191888\",\n            \"0.0020056297\",\n            \"0.0019201401\",\n            \"0.0019074209\",\n            \"0.0019033866\",\n            \"0.0018905493\",\n            \"0.001727242\",\n            \"0.0016898263\",\n            \"0.0016351093\",\n            \"0.0015876765\",\n            \"0.0015096597\",\n            \"0.0014904107\",\n            \"0.0014341082\",\n            \"0.001403966\",\n            \"0.001396516\",\n            \"0.0013383776\",\n            \"0.0013099276\",\n            \"0.0013034961\",\n            \"0.0012284643\",\n            \"0.001183141\",\n            \"0.0011476038\",\n            \"0.0010981176\",\n            \"0.0010952163\",\n            \"0.0010927957\",\n            \"0.0010862912\",\n            \"0.0010582573\",\n            \"0.0010307265\",\n            \"0.0010291991\",\n            \"0.0010093773\",\n            \"0.0010061231\",\n            \"0.0009993564\",\n            \"0.0009766095\",\n            \"0.00094453077\",\n            \"0.0009426231\",\n            \"0.00091697\",\n            \"0.00089786237\",\n            \"0.00086341635\",\n            \"0.0008522463\",\n            \"0.0008521617\",\n            \"0.00081184745\",\n            \"0.00080814044\",\n            \"0.0008015984\",\n            \"0.0007591458\",\n            \"0.00074370974\",\n            \"0.000734739\",\n            \"0.00072826655\",\n            \"0.0007264935\",\n            \"0.0007188045\",\n            \"0.0007110198\",\n            \"0.00069587905\",\n            \"0.0006863638\",\n            \"0.000682469\",\n            \"0.0006817619\",\n            \"0.00067994837\",\n            \"0.0006777227\",\n            \"0.00066984806\",\n            \"0.000664769\",\n            \"0.0006644559\",\n            \"0.00064923347\",\n            \"0.0006370642\",\n            \"0.0006281026\"\n          ],\n          [\n            \"0.071715154\",\n            \"0.03337231\",\n            \"0.03135894\",\n            \"0.029905017\",\n            \"0.026026621\",\n            \"0.02245251\",\n            \"0.020711657\",\n            \"0.02054893\",\n            \"0.018060189\",\n            \"0.017536566\",\n            \"0.016233418\",\n            \"0.0130697815\",\n            \"0.0102070235\",\n            \"0.009863688\",\n            \"0.009577223\",\n            \"0.008868549\",\n            \"0.008177067\",\n            \"0.007861903\",\n            \"0.0067776814\",\n            \"0.0066592977\",\n            \"0.0066065546\",\n            \"0.006596633\",\n            \"0.00654727\",\n            \"0.0060829353\",\n            \"0.005633409\",\n            \"0.0055635\",\n            \"0.005422331\",\n            \"0.0053812424\",\n            \"0.0050532045\",\n            \"0.004851664\",\n            \"0.0046738517\",\n            \"0.004598565\",\n            \"0.004580008\",\n            \"0.004571891\",\n            \"0.0045495\",\n            \"0.004296533\",\n            \"0.0041974518\",\n            \"0.004179397\",\n            \"0.004101493\",\n            \"0.004071532\",\n            \"0.003969348\",\n            \"0.003908875\",\n            \"0.0037596233\",\n            \"0.0037555953\",\n            \"0.0033371563\",\n            \"0.0032089506\",\n            \"0.0031163793\",\n            \"0.002566311\",\n            \"0.0025619776\",\n            \"0.0024881987\",\n            \"0.0023549702\",\n            \"0.002316908\",\n            \"0.0022556526\",\n            \"0.002248196\",\n            \"0.0021906989\",\n            \"0.0021327958\",\n            \"0.0020871442\",\n            \"0.0018765866\",\n            \"0.0018715394\",\n            \"0.0018615142\",\n            \"0.0018019166\",\n            \"0.0017312642\",\n            \"0.0017092741\",\n            \"0.0016949634\",\n            \"0.0016574028\",\n            \"0.0016506073\",\n            \"0.0015637864\",\n            \"0.0015545435\",\n            \"0.0015213302\",\n            \"0.0015185963\",\n            \"0.0014590861\",\n            \"0.0014350658\",\n            \"0.0014338783\",\n            \"0.001430652\",\n            \"0.001425784\",\n            \"0.0014208406\",\n            \"0.001419264\",\n            \"0.0014073681\",\n            \"0.0013898393\",\n            \"0.0013703055\",\n            \"0.0013424002\",\n            \"0.0013351839\",\n            \"0.0013348019\",\n            \"0.0013117963\",\n            \"0.0012882754\",\n            \"0.0012435387\",\n            \"0.001224423\",\n            \"0.0012092467\",\n            \"0.0012074535\",\n            \"0.0012000055\",\n            \"0.0011965132\",\n            \"0.0011948805\",\n            \"0.0011746984\",\n            \"0.0011738294\",\n            \"0.0011227282\",\n            \"0.0011166502\",\n            \"0.0011164456\",\n            \"0.001094599\",\n            \"0.0010858034\",\n            \"0.0010646293\"\n          ]\n        ],\n        \"semantic_type\": \"\",\n        \"description\": \"\"\n      }\n    },\n    {\n      \"column\": \"rank\",\n      \"properties\": {\n        \"dtype\": \"category\",\n        \"num_unique_values\": 1,\n        \"samples\": [\n          [\n            1,\n            2,\n            3,\n            4,\n            5,\n            6,\n            7,\n            8,\n            9,\n            10,\n            11,\n            12,\n            13,\n            14,\n            15,\n            16,\n            17,\n            18,\n            19,\n            20,\n            21,\n            22,\n            23,\n            24,\n            25,\n            26,\n            27,\n            28,\n            29,\n            30,\n            31,\n            32,\n            33,\n            34,\n            35,\n            36,\n            37,\n            38,\n            39,\n            40,\n            41,\n            42,\n            43,\n            44,\n            45,\n            46,\n            47,\n            48,\n            49,\n            50,\n            51,\n            52,\n            53,\n            54,\n            55,\n            56,\n            57,\n            58,\n            59,\n            60,\n            61,\n            62,\n            63,\n            64,\n            65,\n            66,\n            67,\n            68,\n            69,\n            70,\n            71,\n            72,\n            73,\n            74,\n            75,\n            76,\n            77,\n            78,\n            79,\n            80,\n            81,\n            82,\n            83,\n            84,\n            85,\n            86,\n            87,\n            88,\n            89,\n            90,\n            91,\n            92,\n            93,\n            94,\n            95,\n            96,\n            97,\n            98,\n            99,\n            100\n          ]\n        ],\n        \"semantic_type\": \"\",\n        \"description\": \"\"\n      }\n    }\n  ]\n}"
            }
          },
          "metadata": {},
          "execution_count": 56
        }
      ],
      "source": [
        "for session_ids, sessions in submission_set:\n",
        "    predicted_scores=model_for_training(sessions)[0].numpy()\n",
        "    mask = np.ones(predicted_scores.shape[1], dtype=bool)\n",
        "    mask[candidates] = False\n",
        "    predicted_scores[...,mask]=-np.inf\n",
        "    predicted_scores=tf.convert_to_tensor(predicted_scores)\n",
        "    preds=tf.math.top_k(predicted_scores, k=100)\n",
        "    scores=preds.values.numpy()\n",
        "    code = preds.indices.numpy()\n",
        "    prediction = pd.DataFrame(\n",
        "        {\n",
        "            'session_id':session_ids,\n",
        "            'code':[tuple(v) for v in code],\n",
        "            'score':[tuple(v) for v in scores],\n",
        "            'rank':[tuple([rank for rank in range(1, 101)]) for id in session_ids]\n",
        "        }\n",
        "        )\n",
        "\n",
        "    submission_df = pd.concat([submission_df, prediction])\n",
        "\n",
        "submission_df.head()"
      ]
    },
    {
      "cell_type": "code",
      "execution_count": null,
      "id": "0174eab0",
      "metadata": {
        "execution": {
          "iopub.execute_input": "2022-06-13T16:08:00.095110Z",
          "iopub.status.busy": "2022-06-13T16:08:00.094831Z",
          "iopub.status.idle": "2022-06-13T16:08:09.121282Z",
          "shell.execute_reply": "2022-06-13T16:08:09.120413Z"
        },
        "id": "0174eab0",
        "papermill": {
          "duration": 9.056726,
          "end_time": "2022-06-13T16:08:09.123326",
          "exception": false,
          "start_time": "2022-06-13T16:08:00.066600",
          "status": "completed"
        },
        "tags": []
      },
      "outputs": [],
      "source": [
        "submission_df.to_csv(\n",
        "    './drive/MyDrive/Recommendation_system/dataset/candidates/NN/LSTM/final/candidates.csv',\n",
        "    index=False\n",
        "    )"
      ]
    }
  ],
  "metadata": {
    "kernelspec": {
      "display_name": "Python 3",
      "name": "python3"
    },
    "language_info": {
      "codemirror_mode": {
        "name": "ipython",
        "version": 3
      },
      "file_extension": ".py",
      "mimetype": "text/x-python",
      "name": "python",
      "nbconvert_exporter": "python",
      "pygments_lexer": "ipython3",
      "version": "3.7.13"
    },
    "papermill": {
      "default_parameters": {},
      "duration": 1387.380693,
      "end_time": "2022-06-13T16:08:12.026465",
      "environment_variables": {},
      "exception": null,
      "input_path": "__notebook__.ipynb",
      "output_path": "__notebook__.ipynb",
      "parameters": {},
      "start_time": "2022-06-13T15:45:04.645772",
      "version": "2.3.4"
    },
    "vscode": {
      "interpreter": {
        "hash": "61f38fddaed46afda7c40a5798d4631266e18af1d335aa6f772dc3ed9b8ab549"
      }
    },
    "widgets": {
      "application/vnd.jupyter.widget-state+json": {
        "aa337411af644b239e366c6699d7dbc6": {
          "model_module": "@jupyter-widgets/controls",
          "model_name": "HBoxModel",
          "model_module_version": "1.5.0",
          "state": {
            "_dom_classes": [],
            "_model_module": "@jupyter-widgets/controls",
            "_model_module_version": "1.5.0",
            "_model_name": "HBoxModel",
            "_view_count": null,
            "_view_module": "@jupyter-widgets/controls",
            "_view_module_version": "1.5.0",
            "_view_name": "HBoxView",
            "box_style": "",
            "children": [
              "IPY_MODEL_97548d5ed61a4ab6b2d6c57cb015064e",
              "IPY_MODEL_8f4034a0220d486bb9959f2e505b7509",
              "IPY_MODEL_11134d4b27b14fa2b61b5fa66e21fe9b"
            ],
            "layout": "IPY_MODEL_8df54917f36c418a8ae78099e63681ff"
          }
        },
        "97548d5ed61a4ab6b2d6c57cb015064e": {
          "model_module": "@jupyter-widgets/controls",
          "model_name": "HTMLModel",
          "model_module_version": "1.5.0",
          "state": {
            "_dom_classes": [],
            "_model_module": "@jupyter-widgets/controls",
            "_model_module_version": "1.5.0",
            "_model_name": "HTMLModel",
            "_view_count": null,
            "_view_module": "@jupyter-widgets/controls",
            "_view_module_version": "1.5.0",
            "_view_name": "HTMLView",
            "description": "",
            "description_tooltip": null,
            "layout": "IPY_MODEL_92dd55fe6c04400abd6a3c4ad4ae2817",
            "placeholder": "​",
            "style": "IPY_MODEL_ec555681ac01426aaaf6b0826b556b92",
            "value": "100%"
          }
        },
        "8f4034a0220d486bb9959f2e505b7509": {
          "model_module": "@jupyter-widgets/controls",
          "model_name": "FloatProgressModel",
          "model_module_version": "1.5.0",
          "state": {
            "_dom_classes": [],
            "_model_module": "@jupyter-widgets/controls",
            "_model_module_version": "1.5.0",
            "_model_name": "FloatProgressModel",
            "_view_count": null,
            "_view_module": "@jupyter-widgets/controls",
            "_view_module_version": "1.5.0",
            "_view_name": "ProgressView",
            "bar_style": "success",
            "description": "",
            "description_tooltip": null,
            "layout": "IPY_MODEL_3caea61f890649dda226186c8dfccb63",
            "max": 1000000,
            "min": 0,
            "orientation": "horizontal",
            "style": "IPY_MODEL_f62835bee059429a8eae9397eefb5d3d",
            "value": 1000000
          }
        },
        "11134d4b27b14fa2b61b5fa66e21fe9b": {
          "model_module": "@jupyter-widgets/controls",
          "model_name": "HTMLModel",
          "model_module_version": "1.5.0",
          "state": {
            "_dom_classes": [],
            "_model_module": "@jupyter-widgets/controls",
            "_model_module_version": "1.5.0",
            "_model_name": "HTMLModel",
            "_view_count": null,
            "_view_module": "@jupyter-widgets/controls",
            "_view_module_version": "1.5.0",
            "_view_name": "HTMLView",
            "description": "",
            "description_tooltip": null,
            "layout": "IPY_MODEL_0e7e1563bdd245e0bd695a6951ecbf60",
            "placeholder": "​",
            "style": "IPY_MODEL_c1aef64672c142c4a1f8ef180f18963d",
            "value": " 1000000/1000000 [00:02&lt;00:00, 451725.75it/s]"
          }
        },
        "8df54917f36c418a8ae78099e63681ff": {
          "model_module": "@jupyter-widgets/base",
          "model_name": "LayoutModel",
          "model_module_version": "1.2.0",
          "state": {
            "_model_module": "@jupyter-widgets/base",
            "_model_module_version": "1.2.0",
            "_model_name": "LayoutModel",
            "_view_count": null,
            "_view_module": "@jupyter-widgets/base",
            "_view_module_version": "1.2.0",
            "_view_name": "LayoutView",
            "align_content": null,
            "align_items": null,
            "align_self": null,
            "border": null,
            "bottom": null,
            "display": null,
            "flex": null,
            "flex_flow": null,
            "grid_area": null,
            "grid_auto_columns": null,
            "grid_auto_flow": null,
            "grid_auto_rows": null,
            "grid_column": null,
            "grid_gap": null,
            "grid_row": null,
            "grid_template_areas": null,
            "grid_template_columns": null,
            "grid_template_rows": null,
            "height": null,
            "justify_content": null,
            "justify_items": null,
            "left": null,
            "margin": null,
            "max_height": null,
            "max_width": null,
            "min_height": null,
            "min_width": null,
            "object_fit": null,
            "object_position": null,
            "order": null,
            "overflow": null,
            "overflow_x": null,
            "overflow_y": null,
            "padding": null,
            "right": null,
            "top": null,
            "visibility": null,
            "width": null
          }
        },
        "92dd55fe6c04400abd6a3c4ad4ae2817": {
          "model_module": "@jupyter-widgets/base",
          "model_name": "LayoutModel",
          "model_module_version": "1.2.0",
          "state": {
            "_model_module": "@jupyter-widgets/base",
            "_model_module_version": "1.2.0",
            "_model_name": "LayoutModel",
            "_view_count": null,
            "_view_module": "@jupyter-widgets/base",
            "_view_module_version": "1.2.0",
            "_view_name": "LayoutView",
            "align_content": null,
            "align_items": null,
            "align_self": null,
            "border": null,
            "bottom": null,
            "display": null,
            "flex": null,
            "flex_flow": null,
            "grid_area": null,
            "grid_auto_columns": null,
            "grid_auto_flow": null,
            "grid_auto_rows": null,
            "grid_column": null,
            "grid_gap": null,
            "grid_row": null,
            "grid_template_areas": null,
            "grid_template_columns": null,
            "grid_template_rows": null,
            "height": null,
            "justify_content": null,
            "justify_items": null,
            "left": null,
            "margin": null,
            "max_height": null,
            "max_width": null,
            "min_height": null,
            "min_width": null,
            "object_fit": null,
            "object_position": null,
            "order": null,
            "overflow": null,
            "overflow_x": null,
            "overflow_y": null,
            "padding": null,
            "right": null,
            "top": null,
            "visibility": null,
            "width": null
          }
        },
        "ec555681ac01426aaaf6b0826b556b92": {
          "model_module": "@jupyter-widgets/controls",
          "model_name": "DescriptionStyleModel",
          "model_module_version": "1.5.0",
          "state": {
            "_model_module": "@jupyter-widgets/controls",
            "_model_module_version": "1.5.0",
            "_model_name": "DescriptionStyleModel",
            "_view_count": null,
            "_view_module": "@jupyter-widgets/base",
            "_view_module_version": "1.2.0",
            "_view_name": "StyleView",
            "description_width": ""
          }
        },
        "3caea61f890649dda226186c8dfccb63": {
          "model_module": "@jupyter-widgets/base",
          "model_name": "LayoutModel",
          "model_module_version": "1.2.0",
          "state": {
            "_model_module": "@jupyter-widgets/base",
            "_model_module_version": "1.2.0",
            "_model_name": "LayoutModel",
            "_view_count": null,
            "_view_module": "@jupyter-widgets/base",
            "_view_module_version": "1.2.0",
            "_view_name": "LayoutView",
            "align_content": null,
            "align_items": null,
            "align_self": null,
            "border": null,
            "bottom": null,
            "display": null,
            "flex": null,
            "flex_flow": null,
            "grid_area": null,
            "grid_auto_columns": null,
            "grid_auto_flow": null,
            "grid_auto_rows": null,
            "grid_column": null,
            "grid_gap": null,
            "grid_row": null,
            "grid_template_areas": null,
            "grid_template_columns": null,
            "grid_template_rows": null,
            "height": null,
            "justify_content": null,
            "justify_items": null,
            "left": null,
            "margin": null,
            "max_height": null,
            "max_width": null,
            "min_height": null,
            "min_width": null,
            "object_fit": null,
            "object_position": null,
            "order": null,
            "overflow": null,
            "overflow_x": null,
            "overflow_y": null,
            "padding": null,
            "right": null,
            "top": null,
            "visibility": null,
            "width": null
          }
        },
        "f62835bee059429a8eae9397eefb5d3d": {
          "model_module": "@jupyter-widgets/controls",
          "model_name": "ProgressStyleModel",
          "model_module_version": "1.5.0",
          "state": {
            "_model_module": "@jupyter-widgets/controls",
            "_model_module_version": "1.5.0",
            "_model_name": "ProgressStyleModel",
            "_view_count": null,
            "_view_module": "@jupyter-widgets/base",
            "_view_module_version": "1.2.0",
            "_view_name": "StyleView",
            "bar_color": null,
            "description_width": ""
          }
        },
        "0e7e1563bdd245e0bd695a6951ecbf60": {
          "model_module": "@jupyter-widgets/base",
          "model_name": "LayoutModel",
          "model_module_version": "1.2.0",
          "state": {
            "_model_module": "@jupyter-widgets/base",
            "_model_module_version": "1.2.0",
            "_model_name": "LayoutModel",
            "_view_count": null,
            "_view_module": "@jupyter-widgets/base",
            "_view_module_version": "1.2.0",
            "_view_name": "LayoutView",
            "align_content": null,
            "align_items": null,
            "align_self": null,
            "border": null,
            "bottom": null,
            "display": null,
            "flex": null,
            "flex_flow": null,
            "grid_area": null,
            "grid_auto_columns": null,
            "grid_auto_flow": null,
            "grid_auto_rows": null,
            "grid_column": null,
            "grid_gap": null,
            "grid_row": null,
            "grid_template_areas": null,
            "grid_template_columns": null,
            "grid_template_rows": null,
            "height": null,
            "justify_content": null,
            "justify_items": null,
            "left": null,
            "margin": null,
            "max_height": null,
            "max_width": null,
            "min_height": null,
            "min_width": null,
            "object_fit": null,
            "object_position": null,
            "order": null,
            "overflow": null,
            "overflow_x": null,
            "overflow_y": null,
            "padding": null,
            "right": null,
            "top": null,
            "visibility": null,
            "width": null
          }
        },
        "c1aef64672c142c4a1f8ef180f18963d": {
          "model_module": "@jupyter-widgets/controls",
          "model_name": "DescriptionStyleModel",
          "model_module_version": "1.5.0",
          "state": {
            "_model_module": "@jupyter-widgets/controls",
            "_model_module_version": "1.5.0",
            "_model_name": "DescriptionStyleModel",
            "_view_count": null,
            "_view_module": "@jupyter-widgets/base",
            "_view_module_version": "1.2.0",
            "_view_name": "StyleView",
            "description_width": ""
          }
        },
        "5d0e32289e6b444f8fcdd154f85695b8": {
          "model_module": "@jupyter-widgets/controls",
          "model_name": "HBoxModel",
          "model_module_version": "1.5.0",
          "state": {
            "_dom_classes": [],
            "_model_module": "@jupyter-widgets/controls",
            "_model_module_version": "1.5.0",
            "_model_name": "HBoxModel",
            "_view_count": null,
            "_view_module": "@jupyter-widgets/controls",
            "_view_module_version": "1.5.0",
            "_view_name": "HBoxView",
            "box_style": "",
            "children": [
              "IPY_MODEL_68b3a75fe8de4536a6ae67d232df0863",
              "IPY_MODEL_90d1f912f8cb462a95e6e17059b7edf9",
              "IPY_MODEL_0cf36b4027c241be934baa29d4a110d5"
            ],
            "layout": "IPY_MODEL_ac7709a6831647c7b69e8c089aa5f789"
          }
        },
        "68b3a75fe8de4536a6ae67d232df0863": {
          "model_module": "@jupyter-widgets/controls",
          "model_name": "HTMLModel",
          "model_module_version": "1.5.0",
          "state": {
            "_dom_classes": [],
            "_model_module": "@jupyter-widgets/controls",
            "_model_module_version": "1.5.0",
            "_model_name": "HTMLModel",
            "_view_count": null,
            "_view_module": "@jupyter-widgets/controls",
            "_view_module_version": "1.5.0",
            "_view_name": "HTMLView",
            "description": "",
            "description_tooltip": null,
            "layout": "IPY_MODEL_f6426aae0c8a46faa3f1f5e2e7a9934e",
            "placeholder": "​",
            "style": "IPY_MODEL_2b840908c9d74255898100aceef0416f",
            "value": "100%"
          }
        },
        "90d1f912f8cb462a95e6e17059b7edf9": {
          "model_module": "@jupyter-widgets/controls",
          "model_name": "FloatProgressModel",
          "model_module_version": "1.5.0",
          "state": {
            "_dom_classes": [],
            "_model_module": "@jupyter-widgets/controls",
            "_model_module_version": "1.5.0",
            "_model_name": "FloatProgressModel",
            "_view_count": null,
            "_view_module": "@jupyter-widgets/controls",
            "_view_module_version": "1.5.0",
            "_view_name": "ProgressView",
            "bar_style": "success",
            "description": "",
            "description_tooltip": null,
            "layout": "IPY_MODEL_ecddaaba806b4524b4fd4e19999608b5",
            "max": 1000000,
            "min": 0,
            "orientation": "horizontal",
            "style": "IPY_MODEL_0f7b6567930e4a28b31865f7f1b498b2",
            "value": 1000000
          }
        },
        "0cf36b4027c241be934baa29d4a110d5": {
          "model_module": "@jupyter-widgets/controls",
          "model_name": "HTMLModel",
          "model_module_version": "1.5.0",
          "state": {
            "_dom_classes": [],
            "_model_module": "@jupyter-widgets/controls",
            "_model_module_version": "1.5.0",
            "_model_name": "HTMLModel",
            "_view_count": null,
            "_view_module": "@jupyter-widgets/controls",
            "_view_module_version": "1.5.0",
            "_view_name": "HTMLView",
            "description": "",
            "description_tooltip": null,
            "layout": "IPY_MODEL_14e58c4c7a0045d68313444cbc59e8ca",
            "placeholder": "​",
            "style": "IPY_MODEL_62add308abeb4a75a5b051ab890d61d5",
            "value": " 1000000/1000000 [00:02&lt;00:00, 482972.32it/s]"
          }
        },
        "ac7709a6831647c7b69e8c089aa5f789": {
          "model_module": "@jupyter-widgets/base",
          "model_name": "LayoutModel",
          "model_module_version": "1.2.0",
          "state": {
            "_model_module": "@jupyter-widgets/base",
            "_model_module_version": "1.2.0",
            "_model_name": "LayoutModel",
            "_view_count": null,
            "_view_module": "@jupyter-widgets/base",
            "_view_module_version": "1.2.0",
            "_view_name": "LayoutView",
            "align_content": null,
            "align_items": null,
            "align_self": null,
            "border": null,
            "bottom": null,
            "display": null,
            "flex": null,
            "flex_flow": null,
            "grid_area": null,
            "grid_auto_columns": null,
            "grid_auto_flow": null,
            "grid_auto_rows": null,
            "grid_column": null,
            "grid_gap": null,
            "grid_row": null,
            "grid_template_areas": null,
            "grid_template_columns": null,
            "grid_template_rows": null,
            "height": null,
            "justify_content": null,
            "justify_items": null,
            "left": null,
            "margin": null,
            "max_height": null,
            "max_width": null,
            "min_height": null,
            "min_width": null,
            "object_fit": null,
            "object_position": null,
            "order": null,
            "overflow": null,
            "overflow_x": null,
            "overflow_y": null,
            "padding": null,
            "right": null,
            "top": null,
            "visibility": null,
            "width": null
          }
        },
        "f6426aae0c8a46faa3f1f5e2e7a9934e": {
          "model_module": "@jupyter-widgets/base",
          "model_name": "LayoutModel",
          "model_module_version": "1.2.0",
          "state": {
            "_model_module": "@jupyter-widgets/base",
            "_model_module_version": "1.2.0",
            "_model_name": "LayoutModel",
            "_view_count": null,
            "_view_module": "@jupyter-widgets/base",
            "_view_module_version": "1.2.0",
            "_view_name": "LayoutView",
            "align_content": null,
            "align_items": null,
            "align_self": null,
            "border": null,
            "bottom": null,
            "display": null,
            "flex": null,
            "flex_flow": null,
            "grid_area": null,
            "grid_auto_columns": null,
            "grid_auto_flow": null,
            "grid_auto_rows": null,
            "grid_column": null,
            "grid_gap": null,
            "grid_row": null,
            "grid_template_areas": null,
            "grid_template_columns": null,
            "grid_template_rows": null,
            "height": null,
            "justify_content": null,
            "justify_items": null,
            "left": null,
            "margin": null,
            "max_height": null,
            "max_width": null,
            "min_height": null,
            "min_width": null,
            "object_fit": null,
            "object_position": null,
            "order": null,
            "overflow": null,
            "overflow_x": null,
            "overflow_y": null,
            "padding": null,
            "right": null,
            "top": null,
            "visibility": null,
            "width": null
          }
        },
        "2b840908c9d74255898100aceef0416f": {
          "model_module": "@jupyter-widgets/controls",
          "model_name": "DescriptionStyleModel",
          "model_module_version": "1.5.0",
          "state": {
            "_model_module": "@jupyter-widgets/controls",
            "_model_module_version": "1.5.0",
            "_model_name": "DescriptionStyleModel",
            "_view_count": null,
            "_view_module": "@jupyter-widgets/base",
            "_view_module_version": "1.2.0",
            "_view_name": "StyleView",
            "description_width": ""
          }
        },
        "ecddaaba806b4524b4fd4e19999608b5": {
          "model_module": "@jupyter-widgets/base",
          "model_name": "LayoutModel",
          "model_module_version": "1.2.0",
          "state": {
            "_model_module": "@jupyter-widgets/base",
            "_model_module_version": "1.2.0",
            "_model_name": "LayoutModel",
            "_view_count": null,
            "_view_module": "@jupyter-widgets/base",
            "_view_module_version": "1.2.0",
            "_view_name": "LayoutView",
            "align_content": null,
            "align_items": null,
            "align_self": null,
            "border": null,
            "bottom": null,
            "display": null,
            "flex": null,
            "flex_flow": null,
            "grid_area": null,
            "grid_auto_columns": null,
            "grid_auto_flow": null,
            "grid_auto_rows": null,
            "grid_column": null,
            "grid_gap": null,
            "grid_row": null,
            "grid_template_areas": null,
            "grid_template_columns": null,
            "grid_template_rows": null,
            "height": null,
            "justify_content": null,
            "justify_items": null,
            "left": null,
            "margin": null,
            "max_height": null,
            "max_width": null,
            "min_height": null,
            "min_width": null,
            "object_fit": null,
            "object_position": null,
            "order": null,
            "overflow": null,
            "overflow_x": null,
            "overflow_y": null,
            "padding": null,
            "right": null,
            "top": null,
            "visibility": null,
            "width": null
          }
        },
        "0f7b6567930e4a28b31865f7f1b498b2": {
          "model_module": "@jupyter-widgets/controls",
          "model_name": "ProgressStyleModel",
          "model_module_version": "1.5.0",
          "state": {
            "_model_module": "@jupyter-widgets/controls",
            "_model_module_version": "1.5.0",
            "_model_name": "ProgressStyleModel",
            "_view_count": null,
            "_view_module": "@jupyter-widgets/base",
            "_view_module_version": "1.2.0",
            "_view_name": "StyleView",
            "bar_color": null,
            "description_width": ""
          }
        },
        "14e58c4c7a0045d68313444cbc59e8ca": {
          "model_module": "@jupyter-widgets/base",
          "model_name": "LayoutModel",
          "model_module_version": "1.2.0",
          "state": {
            "_model_module": "@jupyter-widgets/base",
            "_model_module_version": "1.2.0",
            "_model_name": "LayoutModel",
            "_view_count": null,
            "_view_module": "@jupyter-widgets/base",
            "_view_module_version": "1.2.0",
            "_view_name": "LayoutView",
            "align_content": null,
            "align_items": null,
            "align_self": null,
            "border": null,
            "bottom": null,
            "display": null,
            "flex": null,
            "flex_flow": null,
            "grid_area": null,
            "grid_auto_columns": null,
            "grid_auto_flow": null,
            "grid_auto_rows": null,
            "grid_column": null,
            "grid_gap": null,
            "grid_row": null,
            "grid_template_areas": null,
            "grid_template_columns": null,
            "grid_template_rows": null,
            "height": null,
            "justify_content": null,
            "justify_items": null,
            "left": null,
            "margin": null,
            "max_height": null,
            "max_width": null,
            "min_height": null,
            "min_width": null,
            "object_fit": null,
            "object_position": null,
            "order": null,
            "overflow": null,
            "overflow_x": null,
            "overflow_y": null,
            "padding": null,
            "right": null,
            "top": null,
            "visibility": null,
            "width": null
          }
        },
        "62add308abeb4a75a5b051ab890d61d5": {
          "model_module": "@jupyter-widgets/controls",
          "model_name": "DescriptionStyleModel",
          "model_module_version": "1.5.0",
          "state": {
            "_model_module": "@jupyter-widgets/controls",
            "_model_module_version": "1.5.0",
            "_model_name": "DescriptionStyleModel",
            "_view_count": null,
            "_view_module": "@jupyter-widgets/base",
            "_view_module_version": "1.2.0",
            "_view_name": "StyleView",
            "description_width": ""
          }
        },
        "86cf0f93d37249aca984bf18b343840b": {
          "model_module": "@jupyter-widgets/controls",
          "model_name": "HBoxModel",
          "model_module_version": "1.5.0",
          "state": {
            "_dom_classes": [],
            "_model_module": "@jupyter-widgets/controls",
            "_model_module_version": "1.5.0",
            "_model_name": "HBoxModel",
            "_view_count": null,
            "_view_module": "@jupyter-widgets/controls",
            "_view_module_version": "1.5.0",
            "_view_name": "HBoxView",
            "box_style": "",
            "children": [
              "IPY_MODEL_21e726b7be7743e297d7c4118f7c5560",
              "IPY_MODEL_ba414673e7474e4897ccb5b194b87c8b",
              "IPY_MODEL_4268268d4b6744609cfaa416da83df66"
            ],
            "layout": "IPY_MODEL_fc6c0dea48a54d67a34bea44ad2cc723"
          }
        },
        "21e726b7be7743e297d7c4118f7c5560": {
          "model_module": "@jupyter-widgets/controls",
          "model_name": "HTMLModel",
          "model_module_version": "1.5.0",
          "state": {
            "_dom_classes": [],
            "_model_module": "@jupyter-widgets/controls",
            "_model_module_version": "1.5.0",
            "_model_name": "HTMLModel",
            "_view_count": null,
            "_view_module": "@jupyter-widgets/controls",
            "_view_module_version": "1.5.0",
            "_view_name": "HTMLView",
            "description": "",
            "description_tooltip": null,
            "layout": "IPY_MODEL_aa8d1260c07c473e9458e9b624f75a29",
            "placeholder": "​",
            "style": "IPY_MODEL_d4258a2ba6f548789347fd2d30c3b6a9",
            "value": "100%"
          }
        },
        "ba414673e7474e4897ccb5b194b87c8b": {
          "model_module": "@jupyter-widgets/controls",
          "model_name": "FloatProgressModel",
          "model_module_version": "1.5.0",
          "state": {
            "_dom_classes": [],
            "_model_module": "@jupyter-widgets/controls",
            "_model_module_version": "1.5.0",
            "_model_name": "FloatProgressModel",
            "_view_count": null,
            "_view_module": "@jupyter-widgets/controls",
            "_view_module_version": "1.5.0",
            "_view_name": "ProgressView",
            "bar_style": "success",
            "description": "",
            "description_tooltip": null,
            "layout": "IPY_MODEL_7f31b61a44dc40e389fdb85bef983730",
            "max": 1000000,
            "min": 0,
            "orientation": "horizontal",
            "style": "IPY_MODEL_7e617682f1c74984865ec2a0afb77e49",
            "value": 1000000
          }
        },
        "4268268d4b6744609cfaa416da83df66": {
          "model_module": "@jupyter-widgets/controls",
          "model_name": "HTMLModel",
          "model_module_version": "1.5.0",
          "state": {
            "_dom_classes": [],
            "_model_module": "@jupyter-widgets/controls",
            "_model_module_version": "1.5.0",
            "_model_name": "HTMLModel",
            "_view_count": null,
            "_view_module": "@jupyter-widgets/controls",
            "_view_module_version": "1.5.0",
            "_view_name": "HTMLView",
            "description": "",
            "description_tooltip": null,
            "layout": "IPY_MODEL_68766884b3af47a9a73ab02d34b1c9bf",
            "placeholder": "​",
            "style": "IPY_MODEL_1a673949c3114d5bb8bbc6091d14f2b6",
            "value": " 1000000/1000000 [00:26&lt;00:00, 34608.11it/s]"
          }
        },
        "fc6c0dea48a54d67a34bea44ad2cc723": {
          "model_module": "@jupyter-widgets/base",
          "model_name": "LayoutModel",
          "model_module_version": "1.2.0",
          "state": {
            "_model_module": "@jupyter-widgets/base",
            "_model_module_version": "1.2.0",
            "_model_name": "LayoutModel",
            "_view_count": null,
            "_view_module": "@jupyter-widgets/base",
            "_view_module_version": "1.2.0",
            "_view_name": "LayoutView",
            "align_content": null,
            "align_items": null,
            "align_self": null,
            "border": null,
            "bottom": null,
            "display": null,
            "flex": null,
            "flex_flow": null,
            "grid_area": null,
            "grid_auto_columns": null,
            "grid_auto_flow": null,
            "grid_auto_rows": null,
            "grid_column": null,
            "grid_gap": null,
            "grid_row": null,
            "grid_template_areas": null,
            "grid_template_columns": null,
            "grid_template_rows": null,
            "height": null,
            "justify_content": null,
            "justify_items": null,
            "left": null,
            "margin": null,
            "max_height": null,
            "max_width": null,
            "min_height": null,
            "min_width": null,
            "object_fit": null,
            "object_position": null,
            "order": null,
            "overflow": null,
            "overflow_x": null,
            "overflow_y": null,
            "padding": null,
            "right": null,
            "top": null,
            "visibility": null,
            "width": null
          }
        },
        "aa8d1260c07c473e9458e9b624f75a29": {
          "model_module": "@jupyter-widgets/base",
          "model_name": "LayoutModel",
          "model_module_version": "1.2.0",
          "state": {
            "_model_module": "@jupyter-widgets/base",
            "_model_module_version": "1.2.0",
            "_model_name": "LayoutModel",
            "_view_count": null,
            "_view_module": "@jupyter-widgets/base",
            "_view_module_version": "1.2.0",
            "_view_name": "LayoutView",
            "align_content": null,
            "align_items": null,
            "align_self": null,
            "border": null,
            "bottom": null,
            "display": null,
            "flex": null,
            "flex_flow": null,
            "grid_area": null,
            "grid_auto_columns": null,
            "grid_auto_flow": null,
            "grid_auto_rows": null,
            "grid_column": null,
            "grid_gap": null,
            "grid_row": null,
            "grid_template_areas": null,
            "grid_template_columns": null,
            "grid_template_rows": null,
            "height": null,
            "justify_content": null,
            "justify_items": null,
            "left": null,
            "margin": null,
            "max_height": null,
            "max_width": null,
            "min_height": null,
            "min_width": null,
            "object_fit": null,
            "object_position": null,
            "order": null,
            "overflow": null,
            "overflow_x": null,
            "overflow_y": null,
            "padding": null,
            "right": null,
            "top": null,
            "visibility": null,
            "width": null
          }
        },
        "d4258a2ba6f548789347fd2d30c3b6a9": {
          "model_module": "@jupyter-widgets/controls",
          "model_name": "DescriptionStyleModel",
          "model_module_version": "1.5.0",
          "state": {
            "_model_module": "@jupyter-widgets/controls",
            "_model_module_version": "1.5.0",
            "_model_name": "DescriptionStyleModel",
            "_view_count": null,
            "_view_module": "@jupyter-widgets/base",
            "_view_module_version": "1.2.0",
            "_view_name": "StyleView",
            "description_width": ""
          }
        },
        "7f31b61a44dc40e389fdb85bef983730": {
          "model_module": "@jupyter-widgets/base",
          "model_name": "LayoutModel",
          "model_module_version": "1.2.0",
          "state": {
            "_model_module": "@jupyter-widgets/base",
            "_model_module_version": "1.2.0",
            "_model_name": "LayoutModel",
            "_view_count": null,
            "_view_module": "@jupyter-widgets/base",
            "_view_module_version": "1.2.0",
            "_view_name": "LayoutView",
            "align_content": null,
            "align_items": null,
            "align_self": null,
            "border": null,
            "bottom": null,
            "display": null,
            "flex": null,
            "flex_flow": null,
            "grid_area": null,
            "grid_auto_columns": null,
            "grid_auto_flow": null,
            "grid_auto_rows": null,
            "grid_column": null,
            "grid_gap": null,
            "grid_row": null,
            "grid_template_areas": null,
            "grid_template_columns": null,
            "grid_template_rows": null,
            "height": null,
            "justify_content": null,
            "justify_items": null,
            "left": null,
            "margin": null,
            "max_height": null,
            "max_width": null,
            "min_height": null,
            "min_width": null,
            "object_fit": null,
            "object_position": null,
            "order": null,
            "overflow": null,
            "overflow_x": null,
            "overflow_y": null,
            "padding": null,
            "right": null,
            "top": null,
            "visibility": null,
            "width": null
          }
        },
        "7e617682f1c74984865ec2a0afb77e49": {
          "model_module": "@jupyter-widgets/controls",
          "model_name": "ProgressStyleModel",
          "model_module_version": "1.5.0",
          "state": {
            "_model_module": "@jupyter-widgets/controls",
            "_model_module_version": "1.5.0",
            "_model_name": "ProgressStyleModel",
            "_view_count": null,
            "_view_module": "@jupyter-widgets/base",
            "_view_module_version": "1.2.0",
            "_view_name": "StyleView",
            "bar_color": null,
            "description_width": ""
          }
        },
        "68766884b3af47a9a73ab02d34b1c9bf": {
          "model_module": "@jupyter-widgets/base",
          "model_name": "LayoutModel",
          "model_module_version": "1.2.0",
          "state": {
            "_model_module": "@jupyter-widgets/base",
            "_model_module_version": "1.2.0",
            "_model_name": "LayoutModel",
            "_view_count": null,
            "_view_module": "@jupyter-widgets/base",
            "_view_module_version": "1.2.0",
            "_view_name": "LayoutView",
            "align_content": null,
            "align_items": null,
            "align_self": null,
            "border": null,
            "bottom": null,
            "display": null,
            "flex": null,
            "flex_flow": null,
            "grid_area": null,
            "grid_auto_columns": null,
            "grid_auto_flow": null,
            "grid_auto_rows": null,
            "grid_column": null,
            "grid_gap": null,
            "grid_row": null,
            "grid_template_areas": null,
            "grid_template_columns": null,
            "grid_template_rows": null,
            "height": null,
            "justify_content": null,
            "justify_items": null,
            "left": null,
            "margin": null,
            "max_height": null,
            "max_width": null,
            "min_height": null,
            "min_width": null,
            "object_fit": null,
            "object_position": null,
            "order": null,
            "overflow": null,
            "overflow_x": null,
            "overflow_y": null,
            "padding": null,
            "right": null,
            "top": null,
            "visibility": null,
            "width": null
          }
        },
        "1a673949c3114d5bb8bbc6091d14f2b6": {
          "model_module": "@jupyter-widgets/controls",
          "model_name": "DescriptionStyleModel",
          "model_module_version": "1.5.0",
          "state": {
            "_model_module": "@jupyter-widgets/controls",
            "_model_module_version": "1.5.0",
            "_model_name": "DescriptionStyleModel",
            "_view_count": null,
            "_view_module": "@jupyter-widgets/base",
            "_view_module_version": "1.2.0",
            "_view_name": "StyleView",
            "description_width": ""
          }
        },
        "4074cae9b0f943c88c3313a65ff28508": {
          "model_module": "@jupyter-widgets/controls",
          "model_name": "HBoxModel",
          "model_module_version": "1.5.0",
          "state": {
            "_dom_classes": [],
            "_model_module": "@jupyter-widgets/controls",
            "_model_module_version": "1.5.0",
            "_model_name": "HBoxModel",
            "_view_count": null,
            "_view_module": "@jupyter-widgets/controls",
            "_view_module_version": "1.5.0",
            "_view_name": "HBoxView",
            "box_style": "",
            "children": [
              "IPY_MODEL_24d39ae6a36142b8b35c66eeee82149c",
              "IPY_MODEL_3d34b161967b42a0998c0b0c84c30aeb",
              "IPY_MODEL_14ff67a9554f4bbfbf89039c833d4140"
            ],
            "layout": "IPY_MODEL_7cff8e092bad4ccbb8a5547639b25250"
          }
        },
        "24d39ae6a36142b8b35c66eeee82149c": {
          "model_module": "@jupyter-widgets/controls",
          "model_name": "HTMLModel",
          "model_module_version": "1.5.0",
          "state": {
            "_dom_classes": [],
            "_model_module": "@jupyter-widgets/controls",
            "_model_module_version": "1.5.0",
            "_model_name": "HTMLModel",
            "_view_count": null,
            "_view_module": "@jupyter-widgets/controls",
            "_view_module_version": "1.5.0",
            "_view_name": "HTMLView",
            "description": "",
            "description_tooltip": null,
            "layout": "IPY_MODEL_e3584078b49b400fbe12c16db2e2c68a",
            "placeholder": "​",
            "style": "IPY_MODEL_6b0a0a54121942929f0e7fe66110f948",
            "value": "100%"
          }
        },
        "3d34b161967b42a0998c0b0c84c30aeb": {
          "model_module": "@jupyter-widgets/controls",
          "model_name": "FloatProgressModel",
          "model_module_version": "1.5.0",
          "state": {
            "_dom_classes": [],
            "_model_module": "@jupyter-widgets/controls",
            "_model_module_version": "1.5.0",
            "_model_name": "FloatProgressModel",
            "_view_count": null,
            "_view_module": "@jupyter-widgets/controls",
            "_view_module_version": "1.5.0",
            "_view_name": "ProgressView",
            "bar_style": "success",
            "description": "",
            "description_tooltip": null,
            "layout": "IPY_MODEL_d3b3e8c5b24f4751baa0497a9c53b5ce",
            "max": 1000000,
            "min": 0,
            "orientation": "horizontal",
            "style": "IPY_MODEL_b9cf60c957b84c00ac414202bde67ea6",
            "value": 1000000
          }
        },
        "14ff67a9554f4bbfbf89039c833d4140": {
          "model_module": "@jupyter-widgets/controls",
          "model_name": "HTMLModel",
          "model_module_version": "1.5.0",
          "state": {
            "_dom_classes": [],
            "_model_module": "@jupyter-widgets/controls",
            "_model_module_version": "1.5.0",
            "_model_name": "HTMLModel",
            "_view_count": null,
            "_view_module": "@jupyter-widgets/controls",
            "_view_module_version": "1.5.0",
            "_view_name": "HTMLView",
            "description": "",
            "description_tooltip": null,
            "layout": "IPY_MODEL_57abedc64a3b46d5b5194a9f78aaccc7",
            "placeholder": "​",
            "style": "IPY_MODEL_c36f7fce225141ce8e996bf9c5aeb302",
            "value": " 1000000/1000000 [02:21&lt;00:00, 6235.05it/s]"
          }
        },
        "7cff8e092bad4ccbb8a5547639b25250": {
          "model_module": "@jupyter-widgets/base",
          "model_name": "LayoutModel",
          "model_module_version": "1.2.0",
          "state": {
            "_model_module": "@jupyter-widgets/base",
            "_model_module_version": "1.2.0",
            "_model_name": "LayoutModel",
            "_view_count": null,
            "_view_module": "@jupyter-widgets/base",
            "_view_module_version": "1.2.0",
            "_view_name": "LayoutView",
            "align_content": null,
            "align_items": null,
            "align_self": null,
            "border": null,
            "bottom": null,
            "display": null,
            "flex": null,
            "flex_flow": null,
            "grid_area": null,
            "grid_auto_columns": null,
            "grid_auto_flow": null,
            "grid_auto_rows": null,
            "grid_column": null,
            "grid_gap": null,
            "grid_row": null,
            "grid_template_areas": null,
            "grid_template_columns": null,
            "grid_template_rows": null,
            "height": null,
            "justify_content": null,
            "justify_items": null,
            "left": null,
            "margin": null,
            "max_height": null,
            "max_width": null,
            "min_height": null,
            "min_width": null,
            "object_fit": null,
            "object_position": null,
            "order": null,
            "overflow": null,
            "overflow_x": null,
            "overflow_y": null,
            "padding": null,
            "right": null,
            "top": null,
            "visibility": null,
            "width": null
          }
        },
        "e3584078b49b400fbe12c16db2e2c68a": {
          "model_module": "@jupyter-widgets/base",
          "model_name": "LayoutModel",
          "model_module_version": "1.2.0",
          "state": {
            "_model_module": "@jupyter-widgets/base",
            "_model_module_version": "1.2.0",
            "_model_name": "LayoutModel",
            "_view_count": null,
            "_view_module": "@jupyter-widgets/base",
            "_view_module_version": "1.2.0",
            "_view_name": "LayoutView",
            "align_content": null,
            "align_items": null,
            "align_self": null,
            "border": null,
            "bottom": null,
            "display": null,
            "flex": null,
            "flex_flow": null,
            "grid_area": null,
            "grid_auto_columns": null,
            "grid_auto_flow": null,
            "grid_auto_rows": null,
            "grid_column": null,
            "grid_gap": null,
            "grid_row": null,
            "grid_template_areas": null,
            "grid_template_columns": null,
            "grid_template_rows": null,
            "height": null,
            "justify_content": null,
            "justify_items": null,
            "left": null,
            "margin": null,
            "max_height": null,
            "max_width": null,
            "min_height": null,
            "min_width": null,
            "object_fit": null,
            "object_position": null,
            "order": null,
            "overflow": null,
            "overflow_x": null,
            "overflow_y": null,
            "padding": null,
            "right": null,
            "top": null,
            "visibility": null,
            "width": null
          }
        },
        "6b0a0a54121942929f0e7fe66110f948": {
          "model_module": "@jupyter-widgets/controls",
          "model_name": "DescriptionStyleModel",
          "model_module_version": "1.5.0",
          "state": {
            "_model_module": "@jupyter-widgets/controls",
            "_model_module_version": "1.5.0",
            "_model_name": "DescriptionStyleModel",
            "_view_count": null,
            "_view_module": "@jupyter-widgets/base",
            "_view_module_version": "1.2.0",
            "_view_name": "StyleView",
            "description_width": ""
          }
        },
        "d3b3e8c5b24f4751baa0497a9c53b5ce": {
          "model_module": "@jupyter-widgets/base",
          "model_name": "LayoutModel",
          "model_module_version": "1.2.0",
          "state": {
            "_model_module": "@jupyter-widgets/base",
            "_model_module_version": "1.2.0",
            "_model_name": "LayoutModel",
            "_view_count": null,
            "_view_module": "@jupyter-widgets/base",
            "_view_module_version": "1.2.0",
            "_view_name": "LayoutView",
            "align_content": null,
            "align_items": null,
            "align_self": null,
            "border": null,
            "bottom": null,
            "display": null,
            "flex": null,
            "flex_flow": null,
            "grid_area": null,
            "grid_auto_columns": null,
            "grid_auto_flow": null,
            "grid_auto_rows": null,
            "grid_column": null,
            "grid_gap": null,
            "grid_row": null,
            "grid_template_areas": null,
            "grid_template_columns": null,
            "grid_template_rows": null,
            "height": null,
            "justify_content": null,
            "justify_items": null,
            "left": null,
            "margin": null,
            "max_height": null,
            "max_width": null,
            "min_height": null,
            "min_width": null,
            "object_fit": null,
            "object_position": null,
            "order": null,
            "overflow": null,
            "overflow_x": null,
            "overflow_y": null,
            "padding": null,
            "right": null,
            "top": null,
            "visibility": null,
            "width": null
          }
        },
        "b9cf60c957b84c00ac414202bde67ea6": {
          "model_module": "@jupyter-widgets/controls",
          "model_name": "ProgressStyleModel",
          "model_module_version": "1.5.0",
          "state": {
            "_model_module": "@jupyter-widgets/controls",
            "_model_module_version": "1.5.0",
            "_model_name": "ProgressStyleModel",
            "_view_count": null,
            "_view_module": "@jupyter-widgets/base",
            "_view_module_version": "1.2.0",
            "_view_name": "StyleView",
            "bar_color": null,
            "description_width": ""
          }
        },
        "57abedc64a3b46d5b5194a9f78aaccc7": {
          "model_module": "@jupyter-widgets/base",
          "model_name": "LayoutModel",
          "model_module_version": "1.2.0",
          "state": {
            "_model_module": "@jupyter-widgets/base",
            "_model_module_version": "1.2.0",
            "_model_name": "LayoutModel",
            "_view_count": null,
            "_view_module": "@jupyter-widgets/base",
            "_view_module_version": "1.2.0",
            "_view_name": "LayoutView",
            "align_content": null,
            "align_items": null,
            "align_self": null,
            "border": null,
            "bottom": null,
            "display": null,
            "flex": null,
            "flex_flow": null,
            "grid_area": null,
            "grid_auto_columns": null,
            "grid_auto_flow": null,
            "grid_auto_rows": null,
            "grid_column": null,
            "grid_gap": null,
            "grid_row": null,
            "grid_template_areas": null,
            "grid_template_columns": null,
            "grid_template_rows": null,
            "height": null,
            "justify_content": null,
            "justify_items": null,
            "left": null,
            "margin": null,
            "max_height": null,
            "max_width": null,
            "min_height": null,
            "min_width": null,
            "object_fit": null,
            "object_position": null,
            "order": null,
            "overflow": null,
            "overflow_x": null,
            "overflow_y": null,
            "padding": null,
            "right": null,
            "top": null,
            "visibility": null,
            "width": null
          }
        },
        "c36f7fce225141ce8e996bf9c5aeb302": {
          "model_module": "@jupyter-widgets/controls",
          "model_name": "DescriptionStyleModel",
          "model_module_version": "1.5.0",
          "state": {
            "_model_module": "@jupyter-widgets/controls",
            "_model_module_version": "1.5.0",
            "_model_name": "DescriptionStyleModel",
            "_view_count": null,
            "_view_module": "@jupyter-widgets/base",
            "_view_module_version": "1.2.0",
            "_view_name": "StyleView",
            "description_width": ""
          }
        },
        "fc01b2b8999044eb8d16b9961928a07f": {
          "model_module": "@jupyter-widgets/controls",
          "model_name": "HBoxModel",
          "model_module_version": "1.5.0",
          "state": {
            "_dom_classes": [],
            "_model_module": "@jupyter-widgets/controls",
            "_model_module_version": "1.5.0",
            "_model_name": "HBoxModel",
            "_view_count": null,
            "_view_module": "@jupyter-widgets/controls",
            "_view_module_version": "1.5.0",
            "_view_name": "HBoxView",
            "box_style": "",
            "children": [
              "IPY_MODEL_6844504a87e24317aee742030e73d090",
              "IPY_MODEL_63d20423deae4b81b947da2a63ec8fb5",
              "IPY_MODEL_2f64caaf9f074c8799d37ef63c7bc3e5"
            ],
            "layout": "IPY_MODEL_64f9bba150f34927a0368e702b612145"
          }
        },
        "6844504a87e24317aee742030e73d090": {
          "model_module": "@jupyter-widgets/controls",
          "model_name": "HTMLModel",
          "model_module_version": "1.5.0",
          "state": {
            "_dom_classes": [],
            "_model_module": "@jupyter-widgets/controls",
            "_model_module_version": "1.5.0",
            "_model_name": "HTMLModel",
            "_view_count": null,
            "_view_module": "@jupyter-widgets/controls",
            "_view_module_version": "1.5.0",
            "_view_name": "HTMLView",
            "description": "",
            "description_tooltip": null,
            "layout": "IPY_MODEL_af747f58dc8249f988fcec35ff719446",
            "placeholder": "​",
            "style": "IPY_MODEL_8680e46711a7468a95a7391c50b7327d",
            "value": "100%"
          }
        },
        "63d20423deae4b81b947da2a63ec8fb5": {
          "model_module": "@jupyter-widgets/controls",
          "model_name": "FloatProgressModel",
          "model_module_version": "1.5.0",
          "state": {
            "_dom_classes": [],
            "_model_module": "@jupyter-widgets/controls",
            "_model_module_version": "1.5.0",
            "_model_name": "FloatProgressModel",
            "_view_count": null,
            "_view_module": "@jupyter-widgets/controls",
            "_view_module_version": "1.5.0",
            "_view_name": "ProgressView",
            "bar_style": "success",
            "description": "",
            "description_tooltip": null,
            "layout": "IPY_MODEL_9c96834506894bdaae3f811dc17dff52",
            "max": 50000,
            "min": 0,
            "orientation": "horizontal",
            "style": "IPY_MODEL_30e71b4eadf14db2a33ed31b56eeb3aa",
            "value": 50000
          }
        },
        "2f64caaf9f074c8799d37ef63c7bc3e5": {
          "model_module": "@jupyter-widgets/controls",
          "model_name": "HTMLModel",
          "model_module_version": "1.5.0",
          "state": {
            "_dom_classes": [],
            "_model_module": "@jupyter-widgets/controls",
            "_model_module_version": "1.5.0",
            "_model_name": "HTMLModel",
            "_view_count": null,
            "_view_module": "@jupyter-widgets/controls",
            "_view_module_version": "1.5.0",
            "_view_name": "HTMLView",
            "description": "",
            "description_tooltip": null,
            "layout": "IPY_MODEL_cbc709c338ae498287e9b369756fe2a0",
            "placeholder": "​",
            "style": "IPY_MODEL_fcc998c666f241abb033a153b11e9fc4",
            "value": " 50000/50000 [00:01&lt;00:00, 40400.78it/s]"
          }
        },
        "64f9bba150f34927a0368e702b612145": {
          "model_module": "@jupyter-widgets/base",
          "model_name": "LayoutModel",
          "model_module_version": "1.2.0",
          "state": {
            "_model_module": "@jupyter-widgets/base",
            "_model_module_version": "1.2.0",
            "_model_name": "LayoutModel",
            "_view_count": null,
            "_view_module": "@jupyter-widgets/base",
            "_view_module_version": "1.2.0",
            "_view_name": "LayoutView",
            "align_content": null,
            "align_items": null,
            "align_self": null,
            "border": null,
            "bottom": null,
            "display": null,
            "flex": null,
            "flex_flow": null,
            "grid_area": null,
            "grid_auto_columns": null,
            "grid_auto_flow": null,
            "grid_auto_rows": null,
            "grid_column": null,
            "grid_gap": null,
            "grid_row": null,
            "grid_template_areas": null,
            "grid_template_columns": null,
            "grid_template_rows": null,
            "height": null,
            "justify_content": null,
            "justify_items": null,
            "left": null,
            "margin": null,
            "max_height": null,
            "max_width": null,
            "min_height": null,
            "min_width": null,
            "object_fit": null,
            "object_position": null,
            "order": null,
            "overflow": null,
            "overflow_x": null,
            "overflow_y": null,
            "padding": null,
            "right": null,
            "top": null,
            "visibility": null,
            "width": null
          }
        },
        "af747f58dc8249f988fcec35ff719446": {
          "model_module": "@jupyter-widgets/base",
          "model_name": "LayoutModel",
          "model_module_version": "1.2.0",
          "state": {
            "_model_module": "@jupyter-widgets/base",
            "_model_module_version": "1.2.0",
            "_model_name": "LayoutModel",
            "_view_count": null,
            "_view_module": "@jupyter-widgets/base",
            "_view_module_version": "1.2.0",
            "_view_name": "LayoutView",
            "align_content": null,
            "align_items": null,
            "align_self": null,
            "border": null,
            "bottom": null,
            "display": null,
            "flex": null,
            "flex_flow": null,
            "grid_area": null,
            "grid_auto_columns": null,
            "grid_auto_flow": null,
            "grid_auto_rows": null,
            "grid_column": null,
            "grid_gap": null,
            "grid_row": null,
            "grid_template_areas": null,
            "grid_template_columns": null,
            "grid_template_rows": null,
            "height": null,
            "justify_content": null,
            "justify_items": null,
            "left": null,
            "margin": null,
            "max_height": null,
            "max_width": null,
            "min_height": null,
            "min_width": null,
            "object_fit": null,
            "object_position": null,
            "order": null,
            "overflow": null,
            "overflow_x": null,
            "overflow_y": null,
            "padding": null,
            "right": null,
            "top": null,
            "visibility": null,
            "width": null
          }
        },
        "8680e46711a7468a95a7391c50b7327d": {
          "model_module": "@jupyter-widgets/controls",
          "model_name": "DescriptionStyleModel",
          "model_module_version": "1.5.0",
          "state": {
            "_model_module": "@jupyter-widgets/controls",
            "_model_module_version": "1.5.0",
            "_model_name": "DescriptionStyleModel",
            "_view_count": null,
            "_view_module": "@jupyter-widgets/base",
            "_view_module_version": "1.2.0",
            "_view_name": "StyleView",
            "description_width": ""
          }
        },
        "9c96834506894bdaae3f811dc17dff52": {
          "model_module": "@jupyter-widgets/base",
          "model_name": "LayoutModel",
          "model_module_version": "1.2.0",
          "state": {
            "_model_module": "@jupyter-widgets/base",
            "_model_module_version": "1.2.0",
            "_model_name": "LayoutModel",
            "_view_count": null,
            "_view_module": "@jupyter-widgets/base",
            "_view_module_version": "1.2.0",
            "_view_name": "LayoutView",
            "align_content": null,
            "align_items": null,
            "align_self": null,
            "border": null,
            "bottom": null,
            "display": null,
            "flex": null,
            "flex_flow": null,
            "grid_area": null,
            "grid_auto_columns": null,
            "grid_auto_flow": null,
            "grid_auto_rows": null,
            "grid_column": null,
            "grid_gap": null,
            "grid_row": null,
            "grid_template_areas": null,
            "grid_template_columns": null,
            "grid_template_rows": null,
            "height": null,
            "justify_content": null,
            "justify_items": null,
            "left": null,
            "margin": null,
            "max_height": null,
            "max_width": null,
            "min_height": null,
            "min_width": null,
            "object_fit": null,
            "object_position": null,
            "order": null,
            "overflow": null,
            "overflow_x": null,
            "overflow_y": null,
            "padding": null,
            "right": null,
            "top": null,
            "visibility": null,
            "width": null
          }
        },
        "30e71b4eadf14db2a33ed31b56eeb3aa": {
          "model_module": "@jupyter-widgets/controls",
          "model_name": "ProgressStyleModel",
          "model_module_version": "1.5.0",
          "state": {
            "_model_module": "@jupyter-widgets/controls",
            "_model_module_version": "1.5.0",
            "_model_name": "ProgressStyleModel",
            "_view_count": null,
            "_view_module": "@jupyter-widgets/base",
            "_view_module_version": "1.2.0",
            "_view_name": "StyleView",
            "bar_color": null,
            "description_width": ""
          }
        },
        "cbc709c338ae498287e9b369756fe2a0": {
          "model_module": "@jupyter-widgets/base",
          "model_name": "LayoutModel",
          "model_module_version": "1.2.0",
          "state": {
            "_model_module": "@jupyter-widgets/base",
            "_model_module_version": "1.2.0",
            "_model_name": "LayoutModel",
            "_view_count": null,
            "_view_module": "@jupyter-widgets/base",
            "_view_module_version": "1.2.0",
            "_view_name": "LayoutView",
            "align_content": null,
            "align_items": null,
            "align_self": null,
            "border": null,
            "bottom": null,
            "display": null,
            "flex": null,
            "flex_flow": null,
            "grid_area": null,
            "grid_auto_columns": null,
            "grid_auto_flow": null,
            "grid_auto_rows": null,
            "grid_column": null,
            "grid_gap": null,
            "grid_row": null,
            "grid_template_areas": null,
            "grid_template_columns": null,
            "grid_template_rows": null,
            "height": null,
            "justify_content": null,
            "justify_items": null,
            "left": null,
            "margin": null,
            "max_height": null,
            "max_width": null,
            "min_height": null,
            "min_width": null,
            "object_fit": null,
            "object_position": null,
            "order": null,
            "overflow": null,
            "overflow_x": null,
            "overflow_y": null,
            "padding": null,
            "right": null,
            "top": null,
            "visibility": null,
            "width": null
          }
        },
        "fcc998c666f241abb033a153b11e9fc4": {
          "model_module": "@jupyter-widgets/controls",
          "model_name": "DescriptionStyleModel",
          "model_module_version": "1.5.0",
          "state": {
            "_model_module": "@jupyter-widgets/controls",
            "_model_module_version": "1.5.0",
            "_model_name": "DescriptionStyleModel",
            "_view_count": null,
            "_view_module": "@jupyter-widgets/base",
            "_view_module_version": "1.2.0",
            "_view_name": "StyleView",
            "description_width": ""
          }
        },
        "7ff7b6b972a24e9989f863bacab12258": {
          "model_module": "@jupyter-widgets/controls",
          "model_name": "HBoxModel",
          "model_module_version": "1.5.0",
          "state": {
            "_dom_classes": [],
            "_model_module": "@jupyter-widgets/controls",
            "_model_module_version": "1.5.0",
            "_model_name": "HBoxModel",
            "_view_count": null,
            "_view_module": "@jupyter-widgets/controls",
            "_view_module_version": "1.5.0",
            "_view_name": "HBoxView",
            "box_style": "",
            "children": [
              "IPY_MODEL_3636200cecab49f5aa01ebfebb9a7871",
              "IPY_MODEL_3f14c85d2a604209b39f535503f90d51",
              "IPY_MODEL_1c8256dfe0a545acb4b95b0c0bff56db"
            ],
            "layout": "IPY_MODEL_554639c524c14fb78a6c33fcfee0f346"
          }
        },
        "3636200cecab49f5aa01ebfebb9a7871": {
          "model_module": "@jupyter-widgets/controls",
          "model_name": "HTMLModel",
          "model_module_version": "1.5.0",
          "state": {
            "_dom_classes": [],
            "_model_module": "@jupyter-widgets/controls",
            "_model_module_version": "1.5.0",
            "_model_name": "HTMLModel",
            "_view_count": null,
            "_view_module": "@jupyter-widgets/controls",
            "_view_module_version": "1.5.0",
            "_view_name": "HTMLView",
            "description": "",
            "description_tooltip": null,
            "layout": "IPY_MODEL_7b6ee75540c94b76ab3012440805ddcf",
            "placeholder": "​",
            "style": "IPY_MODEL_74f65a551acf42a9901882f377b54c06",
            "value": "100%"
          }
        },
        "3f14c85d2a604209b39f535503f90d51": {
          "model_module": "@jupyter-widgets/controls",
          "model_name": "FloatProgressModel",
          "model_module_version": "1.5.0",
          "state": {
            "_dom_classes": [],
            "_model_module": "@jupyter-widgets/controls",
            "_model_module_version": "1.5.0",
            "_model_name": "FloatProgressModel",
            "_view_count": null,
            "_view_module": "@jupyter-widgets/controls",
            "_view_module_version": "1.5.0",
            "_view_name": "ProgressView",
            "bar_style": "success",
            "description": "",
            "description_tooltip": null,
            "layout": "IPY_MODEL_66ec4f8595ec418b93ab42a85ddfab9e",
            "max": 50000,
            "min": 0,
            "orientation": "horizontal",
            "style": "IPY_MODEL_ef5b5b19ddbe47708bcd3adc496d6936",
            "value": 50000
          }
        },
        "1c8256dfe0a545acb4b95b0c0bff56db": {
          "model_module": "@jupyter-widgets/controls",
          "model_name": "HTMLModel",
          "model_module_version": "1.5.0",
          "state": {
            "_dom_classes": [],
            "_model_module": "@jupyter-widgets/controls",
            "_model_module_version": "1.5.0",
            "_model_name": "HTMLModel",
            "_view_count": null,
            "_view_module": "@jupyter-widgets/controls",
            "_view_module_version": "1.5.0",
            "_view_name": "HTMLView",
            "description": "",
            "description_tooltip": null,
            "layout": "IPY_MODEL_139eb1c1883845bc9f850cf02f42a850",
            "placeholder": "​",
            "style": "IPY_MODEL_17594fe9788443f79680b40f08b83687",
            "value": " 50000/50000 [00:06&lt;00:00, 7196.06it/s]"
          }
        },
        "554639c524c14fb78a6c33fcfee0f346": {
          "model_module": "@jupyter-widgets/base",
          "model_name": "LayoutModel",
          "model_module_version": "1.2.0",
          "state": {
            "_model_module": "@jupyter-widgets/base",
            "_model_module_version": "1.2.0",
            "_model_name": "LayoutModel",
            "_view_count": null,
            "_view_module": "@jupyter-widgets/base",
            "_view_module_version": "1.2.0",
            "_view_name": "LayoutView",
            "align_content": null,
            "align_items": null,
            "align_self": null,
            "border": null,
            "bottom": null,
            "display": null,
            "flex": null,
            "flex_flow": null,
            "grid_area": null,
            "grid_auto_columns": null,
            "grid_auto_flow": null,
            "grid_auto_rows": null,
            "grid_column": null,
            "grid_gap": null,
            "grid_row": null,
            "grid_template_areas": null,
            "grid_template_columns": null,
            "grid_template_rows": null,
            "height": null,
            "justify_content": null,
            "justify_items": null,
            "left": null,
            "margin": null,
            "max_height": null,
            "max_width": null,
            "min_height": null,
            "min_width": null,
            "object_fit": null,
            "object_position": null,
            "order": null,
            "overflow": null,
            "overflow_x": null,
            "overflow_y": null,
            "padding": null,
            "right": null,
            "top": null,
            "visibility": null,
            "width": null
          }
        },
        "7b6ee75540c94b76ab3012440805ddcf": {
          "model_module": "@jupyter-widgets/base",
          "model_name": "LayoutModel",
          "model_module_version": "1.2.0",
          "state": {
            "_model_module": "@jupyter-widgets/base",
            "_model_module_version": "1.2.0",
            "_model_name": "LayoutModel",
            "_view_count": null,
            "_view_module": "@jupyter-widgets/base",
            "_view_module_version": "1.2.0",
            "_view_name": "LayoutView",
            "align_content": null,
            "align_items": null,
            "align_self": null,
            "border": null,
            "bottom": null,
            "display": null,
            "flex": null,
            "flex_flow": null,
            "grid_area": null,
            "grid_auto_columns": null,
            "grid_auto_flow": null,
            "grid_auto_rows": null,
            "grid_column": null,
            "grid_gap": null,
            "grid_row": null,
            "grid_template_areas": null,
            "grid_template_columns": null,
            "grid_template_rows": null,
            "height": null,
            "justify_content": null,
            "justify_items": null,
            "left": null,
            "margin": null,
            "max_height": null,
            "max_width": null,
            "min_height": null,
            "min_width": null,
            "object_fit": null,
            "object_position": null,
            "order": null,
            "overflow": null,
            "overflow_x": null,
            "overflow_y": null,
            "padding": null,
            "right": null,
            "top": null,
            "visibility": null,
            "width": null
          }
        },
        "74f65a551acf42a9901882f377b54c06": {
          "model_module": "@jupyter-widgets/controls",
          "model_name": "DescriptionStyleModel",
          "model_module_version": "1.5.0",
          "state": {
            "_model_module": "@jupyter-widgets/controls",
            "_model_module_version": "1.5.0",
            "_model_name": "DescriptionStyleModel",
            "_view_count": null,
            "_view_module": "@jupyter-widgets/base",
            "_view_module_version": "1.2.0",
            "_view_name": "StyleView",
            "description_width": ""
          }
        },
        "66ec4f8595ec418b93ab42a85ddfab9e": {
          "model_module": "@jupyter-widgets/base",
          "model_name": "LayoutModel",
          "model_module_version": "1.2.0",
          "state": {
            "_model_module": "@jupyter-widgets/base",
            "_model_module_version": "1.2.0",
            "_model_name": "LayoutModel",
            "_view_count": null,
            "_view_module": "@jupyter-widgets/base",
            "_view_module_version": "1.2.0",
            "_view_name": "LayoutView",
            "align_content": null,
            "align_items": null,
            "align_self": null,
            "border": null,
            "bottom": null,
            "display": null,
            "flex": null,
            "flex_flow": null,
            "grid_area": null,
            "grid_auto_columns": null,
            "grid_auto_flow": null,
            "grid_auto_rows": null,
            "grid_column": null,
            "grid_gap": null,
            "grid_row": null,
            "grid_template_areas": null,
            "grid_template_columns": null,
            "grid_template_rows": null,
            "height": null,
            "justify_content": null,
            "justify_items": null,
            "left": null,
            "margin": null,
            "max_height": null,
            "max_width": null,
            "min_height": null,
            "min_width": null,
            "object_fit": null,
            "object_position": null,
            "order": null,
            "overflow": null,
            "overflow_x": null,
            "overflow_y": null,
            "padding": null,
            "right": null,
            "top": null,
            "visibility": null,
            "width": null
          }
        },
        "ef5b5b19ddbe47708bcd3adc496d6936": {
          "model_module": "@jupyter-widgets/controls",
          "model_name": "ProgressStyleModel",
          "model_module_version": "1.5.0",
          "state": {
            "_model_module": "@jupyter-widgets/controls",
            "_model_module_version": "1.5.0",
            "_model_name": "ProgressStyleModel",
            "_view_count": null,
            "_view_module": "@jupyter-widgets/base",
            "_view_module_version": "1.2.0",
            "_view_name": "StyleView",
            "bar_color": null,
            "description_width": ""
          }
        },
        "139eb1c1883845bc9f850cf02f42a850": {
          "model_module": "@jupyter-widgets/base",
          "model_name": "LayoutModel",
          "model_module_version": "1.2.0",
          "state": {
            "_model_module": "@jupyter-widgets/base",
            "_model_module_version": "1.2.0",
            "_model_name": "LayoutModel",
            "_view_count": null,
            "_view_module": "@jupyter-widgets/base",
            "_view_module_version": "1.2.0",
            "_view_name": "LayoutView",
            "align_content": null,
            "align_items": null,
            "align_self": null,
            "border": null,
            "bottom": null,
            "display": null,
            "flex": null,
            "flex_flow": null,
            "grid_area": null,
            "grid_auto_columns": null,
            "grid_auto_flow": null,
            "grid_auto_rows": null,
            "grid_column": null,
            "grid_gap": null,
            "grid_row": null,
            "grid_template_areas": null,
            "grid_template_columns": null,
            "grid_template_rows": null,
            "height": null,
            "justify_content": null,
            "justify_items": null,
            "left": null,
            "margin": null,
            "max_height": null,
            "max_width": null,
            "min_height": null,
            "min_width": null,
            "object_fit": null,
            "object_position": null,
            "order": null,
            "overflow": null,
            "overflow_x": null,
            "overflow_y": null,
            "padding": null,
            "right": null,
            "top": null,
            "visibility": null,
            "width": null
          }
        },
        "17594fe9788443f79680b40f08b83687": {
          "model_module": "@jupyter-widgets/controls",
          "model_name": "DescriptionStyleModel",
          "model_module_version": "1.5.0",
          "state": {
            "_model_module": "@jupyter-widgets/controls",
            "_model_module_version": "1.5.0",
            "_model_name": "DescriptionStyleModel",
            "_view_count": null,
            "_view_module": "@jupyter-widgets/base",
            "_view_module_version": "1.2.0",
            "_view_name": "StyleView",
            "description_width": ""
          }
        },
        "444ec68c6773435a9c959c701ff7bb9d": {
          "model_module": "@jupyter-widgets/controls",
          "model_name": "HBoxModel",
          "model_module_version": "1.5.0",
          "state": {
            "_dom_classes": [],
            "_model_module": "@jupyter-widgets/controls",
            "_model_module_version": "1.5.0",
            "_model_name": "HBoxModel",
            "_view_count": null,
            "_view_module": "@jupyter-widgets/controls",
            "_view_module_version": "1.5.0",
            "_view_name": "HBoxView",
            "box_style": "",
            "children": [
              "IPY_MODEL_00a4573c04204dd38e67c62ccbc8b922",
              "IPY_MODEL_f19da21f9a894890bbe016fcd8c106ec",
              "IPY_MODEL_5e99e9adc8d9469e94b5ec83ed01ef78"
            ],
            "layout": "IPY_MODEL_4a4ad28b6a664f7db29c4b21fc166201"
          }
        },
        "00a4573c04204dd38e67c62ccbc8b922": {
          "model_module": "@jupyter-widgets/controls",
          "model_name": "HTMLModel",
          "model_module_version": "1.5.0",
          "state": {
            "_dom_classes": [],
            "_model_module": "@jupyter-widgets/controls",
            "_model_module_version": "1.5.0",
            "_model_name": "HTMLModel",
            "_view_count": null,
            "_view_module": "@jupyter-widgets/controls",
            "_view_module_version": "1.5.0",
            "_view_name": "HTMLView",
            "description": "",
            "description_tooltip": null,
            "layout": "IPY_MODEL_fcd1ec4aab6f48fda046515919010fb5",
            "placeholder": "​",
            "style": "IPY_MODEL_1b60a5dbaeaf4c7496c7e67c2cac51fd",
            "value": "100%"
          }
        },
        "f19da21f9a894890bbe016fcd8c106ec": {
          "model_module": "@jupyter-widgets/controls",
          "model_name": "FloatProgressModel",
          "model_module_version": "1.5.0",
          "state": {
            "_dom_classes": [],
            "_model_module": "@jupyter-widgets/controls",
            "_model_module_version": "1.5.0",
            "_model_name": "FloatProgressModel",
            "_view_count": null,
            "_view_module": "@jupyter-widgets/controls",
            "_view_module_version": "1.5.0",
            "_view_name": "ProgressView",
            "bar_style": "success",
            "description": "",
            "description_tooltip": null,
            "layout": "IPY_MODEL_bf48f9ce4bdb4ca587bb004bb823de0b",
            "max": 50000,
            "min": 0,
            "orientation": "horizontal",
            "style": "IPY_MODEL_acccf470f7d048118feef4ac7a7690c6",
            "value": 50000
          }
        },
        "5e99e9adc8d9469e94b5ec83ed01ef78": {
          "model_module": "@jupyter-widgets/controls",
          "model_name": "HTMLModel",
          "model_module_version": "1.5.0",
          "state": {
            "_dom_classes": [],
            "_model_module": "@jupyter-widgets/controls",
            "_model_module_version": "1.5.0",
            "_model_name": "HTMLModel",
            "_view_count": null,
            "_view_module": "@jupyter-widgets/controls",
            "_view_module_version": "1.5.0",
            "_view_name": "HTMLView",
            "description": "",
            "description_tooltip": null,
            "layout": "IPY_MODEL_1113df68f0784dcbad372dfec614b844",
            "placeholder": "​",
            "style": "IPY_MODEL_e24f7994225b4b438719dc48a16bf1c6",
            "value": " 50000/50000 [00:01&lt;00:00, 40942.92it/s]"
          }
        },
        "4a4ad28b6a664f7db29c4b21fc166201": {
          "model_module": "@jupyter-widgets/base",
          "model_name": "LayoutModel",
          "model_module_version": "1.2.0",
          "state": {
            "_model_module": "@jupyter-widgets/base",
            "_model_module_version": "1.2.0",
            "_model_name": "LayoutModel",
            "_view_count": null,
            "_view_module": "@jupyter-widgets/base",
            "_view_module_version": "1.2.0",
            "_view_name": "LayoutView",
            "align_content": null,
            "align_items": null,
            "align_self": null,
            "border": null,
            "bottom": null,
            "display": null,
            "flex": null,
            "flex_flow": null,
            "grid_area": null,
            "grid_auto_columns": null,
            "grid_auto_flow": null,
            "grid_auto_rows": null,
            "grid_column": null,
            "grid_gap": null,
            "grid_row": null,
            "grid_template_areas": null,
            "grid_template_columns": null,
            "grid_template_rows": null,
            "height": null,
            "justify_content": null,
            "justify_items": null,
            "left": null,
            "margin": null,
            "max_height": null,
            "max_width": null,
            "min_height": null,
            "min_width": null,
            "object_fit": null,
            "object_position": null,
            "order": null,
            "overflow": null,
            "overflow_x": null,
            "overflow_y": null,
            "padding": null,
            "right": null,
            "top": null,
            "visibility": null,
            "width": null
          }
        },
        "fcd1ec4aab6f48fda046515919010fb5": {
          "model_module": "@jupyter-widgets/base",
          "model_name": "LayoutModel",
          "model_module_version": "1.2.0",
          "state": {
            "_model_module": "@jupyter-widgets/base",
            "_model_module_version": "1.2.0",
            "_model_name": "LayoutModel",
            "_view_count": null,
            "_view_module": "@jupyter-widgets/base",
            "_view_module_version": "1.2.0",
            "_view_name": "LayoutView",
            "align_content": null,
            "align_items": null,
            "align_self": null,
            "border": null,
            "bottom": null,
            "display": null,
            "flex": null,
            "flex_flow": null,
            "grid_area": null,
            "grid_auto_columns": null,
            "grid_auto_flow": null,
            "grid_auto_rows": null,
            "grid_column": null,
            "grid_gap": null,
            "grid_row": null,
            "grid_template_areas": null,
            "grid_template_columns": null,
            "grid_template_rows": null,
            "height": null,
            "justify_content": null,
            "justify_items": null,
            "left": null,
            "margin": null,
            "max_height": null,
            "max_width": null,
            "min_height": null,
            "min_width": null,
            "object_fit": null,
            "object_position": null,
            "order": null,
            "overflow": null,
            "overflow_x": null,
            "overflow_y": null,
            "padding": null,
            "right": null,
            "top": null,
            "visibility": null,
            "width": null
          }
        },
        "1b60a5dbaeaf4c7496c7e67c2cac51fd": {
          "model_module": "@jupyter-widgets/controls",
          "model_name": "DescriptionStyleModel",
          "model_module_version": "1.5.0",
          "state": {
            "_model_module": "@jupyter-widgets/controls",
            "_model_module_version": "1.5.0",
            "_model_name": "DescriptionStyleModel",
            "_view_count": null,
            "_view_module": "@jupyter-widgets/base",
            "_view_module_version": "1.2.0",
            "_view_name": "StyleView",
            "description_width": ""
          }
        },
        "bf48f9ce4bdb4ca587bb004bb823de0b": {
          "model_module": "@jupyter-widgets/base",
          "model_name": "LayoutModel",
          "model_module_version": "1.2.0",
          "state": {
            "_model_module": "@jupyter-widgets/base",
            "_model_module_version": "1.2.0",
            "_model_name": "LayoutModel",
            "_view_count": null,
            "_view_module": "@jupyter-widgets/base",
            "_view_module_version": "1.2.0",
            "_view_name": "LayoutView",
            "align_content": null,
            "align_items": null,
            "align_self": null,
            "border": null,
            "bottom": null,
            "display": null,
            "flex": null,
            "flex_flow": null,
            "grid_area": null,
            "grid_auto_columns": null,
            "grid_auto_flow": null,
            "grid_auto_rows": null,
            "grid_column": null,
            "grid_gap": null,
            "grid_row": null,
            "grid_template_areas": null,
            "grid_template_columns": null,
            "grid_template_rows": null,
            "height": null,
            "justify_content": null,
            "justify_items": null,
            "left": null,
            "margin": null,
            "max_height": null,
            "max_width": null,
            "min_height": null,
            "min_width": null,
            "object_fit": null,
            "object_position": null,
            "order": null,
            "overflow": null,
            "overflow_x": null,
            "overflow_y": null,
            "padding": null,
            "right": null,
            "top": null,
            "visibility": null,
            "width": null
          }
        },
        "acccf470f7d048118feef4ac7a7690c6": {
          "model_module": "@jupyter-widgets/controls",
          "model_name": "ProgressStyleModel",
          "model_module_version": "1.5.0",
          "state": {
            "_model_module": "@jupyter-widgets/controls",
            "_model_module_version": "1.5.0",
            "_model_name": "ProgressStyleModel",
            "_view_count": null,
            "_view_module": "@jupyter-widgets/base",
            "_view_module_version": "1.2.0",
            "_view_name": "StyleView",
            "bar_color": null,
            "description_width": ""
          }
        },
        "1113df68f0784dcbad372dfec614b844": {
          "model_module": "@jupyter-widgets/base",
          "model_name": "LayoutModel",
          "model_module_version": "1.2.0",
          "state": {
            "_model_module": "@jupyter-widgets/base",
            "_model_module_version": "1.2.0",
            "_model_name": "LayoutModel",
            "_view_count": null,
            "_view_module": "@jupyter-widgets/base",
            "_view_module_version": "1.2.0",
            "_view_name": "LayoutView",
            "align_content": null,
            "align_items": null,
            "align_self": null,
            "border": null,
            "bottom": null,
            "display": null,
            "flex": null,
            "flex_flow": null,
            "grid_area": null,
            "grid_auto_columns": null,
            "grid_auto_flow": null,
            "grid_auto_rows": null,
            "grid_column": null,
            "grid_gap": null,
            "grid_row": null,
            "grid_template_areas": null,
            "grid_template_columns": null,
            "grid_template_rows": null,
            "height": null,
            "justify_content": null,
            "justify_items": null,
            "left": null,
            "margin": null,
            "max_height": null,
            "max_width": null,
            "min_height": null,
            "min_width": null,
            "object_fit": null,
            "object_position": null,
            "order": null,
            "overflow": null,
            "overflow_x": null,
            "overflow_y": null,
            "padding": null,
            "right": null,
            "top": null,
            "visibility": null,
            "width": null
          }
        },
        "e24f7994225b4b438719dc48a16bf1c6": {
          "model_module": "@jupyter-widgets/controls",
          "model_name": "DescriptionStyleModel",
          "model_module_version": "1.5.0",
          "state": {
            "_model_module": "@jupyter-widgets/controls",
            "_model_module_version": "1.5.0",
            "_model_name": "DescriptionStyleModel",
            "_view_count": null,
            "_view_module": "@jupyter-widgets/base",
            "_view_module_version": "1.2.0",
            "_view_name": "StyleView",
            "description_width": ""
          }
        },
        "7ec9d08366284459b7dffe38331d5dd1": {
          "model_module": "@jupyter-widgets/controls",
          "model_name": "HBoxModel",
          "model_module_version": "1.5.0",
          "state": {
            "_dom_classes": [],
            "_model_module": "@jupyter-widgets/controls",
            "_model_module_version": "1.5.0",
            "_model_name": "HBoxModel",
            "_view_count": null,
            "_view_module": "@jupyter-widgets/controls",
            "_view_module_version": "1.5.0",
            "_view_name": "HBoxView",
            "box_style": "",
            "children": [
              "IPY_MODEL_effc7088d1784e3ba38526df3ceb51cb",
              "IPY_MODEL_ce536fac325e47deb1e641205bc8250d",
              "IPY_MODEL_7ff293f97ea14e908bc7dd7621932353"
            ],
            "layout": "IPY_MODEL_cba2d33363e04b5d815dd08c040df491"
          }
        },
        "effc7088d1784e3ba38526df3ceb51cb": {
          "model_module": "@jupyter-widgets/controls",
          "model_name": "HTMLModel",
          "model_module_version": "1.5.0",
          "state": {
            "_dom_classes": [],
            "_model_module": "@jupyter-widgets/controls",
            "_model_module_version": "1.5.0",
            "_model_name": "HTMLModel",
            "_view_count": null,
            "_view_module": "@jupyter-widgets/controls",
            "_view_module_version": "1.5.0",
            "_view_name": "HTMLView",
            "description": "",
            "description_tooltip": null,
            "layout": "IPY_MODEL_869caf5839a94160a1881aa84f1d1d6d",
            "placeholder": "​",
            "style": "IPY_MODEL_c9a82481f34841cd90442bd24110c74e",
            "value": "100%"
          }
        },
        "ce536fac325e47deb1e641205bc8250d": {
          "model_module": "@jupyter-widgets/controls",
          "model_name": "FloatProgressModel",
          "model_module_version": "1.5.0",
          "state": {
            "_dom_classes": [],
            "_model_module": "@jupyter-widgets/controls",
            "_model_module_version": "1.5.0",
            "_model_name": "FloatProgressModel",
            "_view_count": null,
            "_view_module": "@jupyter-widgets/controls",
            "_view_module_version": "1.5.0",
            "_view_name": "ProgressView",
            "bar_style": "success",
            "description": "",
            "description_tooltip": null,
            "layout": "IPY_MODEL_74bb0f9fdf8944a99b9acc4a56d2d856",
            "max": 50000,
            "min": 0,
            "orientation": "horizontal",
            "style": "IPY_MODEL_3c5cf5cdaa884938bfff88fa8698c286",
            "value": 50000
          }
        },
        "7ff293f97ea14e908bc7dd7621932353": {
          "model_module": "@jupyter-widgets/controls",
          "model_name": "HTMLModel",
          "model_module_version": "1.5.0",
          "state": {
            "_dom_classes": [],
            "_model_module": "@jupyter-widgets/controls",
            "_model_module_version": "1.5.0",
            "_model_name": "HTMLModel",
            "_view_count": null,
            "_view_module": "@jupyter-widgets/controls",
            "_view_module_version": "1.5.0",
            "_view_name": "HTMLView",
            "description": "",
            "description_tooltip": null,
            "layout": "IPY_MODEL_52da9c2ff8174e438116d53856ce1609",
            "placeholder": "​",
            "style": "IPY_MODEL_e4b5021061ad47f2b467078ea6ea22fa",
            "value": " 50000/50000 [00:06&lt;00:00, 7368.41it/s]"
          }
        },
        "cba2d33363e04b5d815dd08c040df491": {
          "model_module": "@jupyter-widgets/base",
          "model_name": "LayoutModel",
          "model_module_version": "1.2.0",
          "state": {
            "_model_module": "@jupyter-widgets/base",
            "_model_module_version": "1.2.0",
            "_model_name": "LayoutModel",
            "_view_count": null,
            "_view_module": "@jupyter-widgets/base",
            "_view_module_version": "1.2.0",
            "_view_name": "LayoutView",
            "align_content": null,
            "align_items": null,
            "align_self": null,
            "border": null,
            "bottom": null,
            "display": null,
            "flex": null,
            "flex_flow": null,
            "grid_area": null,
            "grid_auto_columns": null,
            "grid_auto_flow": null,
            "grid_auto_rows": null,
            "grid_column": null,
            "grid_gap": null,
            "grid_row": null,
            "grid_template_areas": null,
            "grid_template_columns": null,
            "grid_template_rows": null,
            "height": null,
            "justify_content": null,
            "justify_items": null,
            "left": null,
            "margin": null,
            "max_height": null,
            "max_width": null,
            "min_height": null,
            "min_width": null,
            "object_fit": null,
            "object_position": null,
            "order": null,
            "overflow": null,
            "overflow_x": null,
            "overflow_y": null,
            "padding": null,
            "right": null,
            "top": null,
            "visibility": null,
            "width": null
          }
        },
        "869caf5839a94160a1881aa84f1d1d6d": {
          "model_module": "@jupyter-widgets/base",
          "model_name": "LayoutModel",
          "model_module_version": "1.2.0",
          "state": {
            "_model_module": "@jupyter-widgets/base",
            "_model_module_version": "1.2.0",
            "_model_name": "LayoutModel",
            "_view_count": null,
            "_view_module": "@jupyter-widgets/base",
            "_view_module_version": "1.2.0",
            "_view_name": "LayoutView",
            "align_content": null,
            "align_items": null,
            "align_self": null,
            "border": null,
            "bottom": null,
            "display": null,
            "flex": null,
            "flex_flow": null,
            "grid_area": null,
            "grid_auto_columns": null,
            "grid_auto_flow": null,
            "grid_auto_rows": null,
            "grid_column": null,
            "grid_gap": null,
            "grid_row": null,
            "grid_template_areas": null,
            "grid_template_columns": null,
            "grid_template_rows": null,
            "height": null,
            "justify_content": null,
            "justify_items": null,
            "left": null,
            "margin": null,
            "max_height": null,
            "max_width": null,
            "min_height": null,
            "min_width": null,
            "object_fit": null,
            "object_position": null,
            "order": null,
            "overflow": null,
            "overflow_x": null,
            "overflow_y": null,
            "padding": null,
            "right": null,
            "top": null,
            "visibility": null,
            "width": null
          }
        },
        "c9a82481f34841cd90442bd24110c74e": {
          "model_module": "@jupyter-widgets/controls",
          "model_name": "DescriptionStyleModel",
          "model_module_version": "1.5.0",
          "state": {
            "_model_module": "@jupyter-widgets/controls",
            "_model_module_version": "1.5.0",
            "_model_name": "DescriptionStyleModel",
            "_view_count": null,
            "_view_module": "@jupyter-widgets/base",
            "_view_module_version": "1.2.0",
            "_view_name": "StyleView",
            "description_width": ""
          }
        },
        "74bb0f9fdf8944a99b9acc4a56d2d856": {
          "model_module": "@jupyter-widgets/base",
          "model_name": "LayoutModel",
          "model_module_version": "1.2.0",
          "state": {
            "_model_module": "@jupyter-widgets/base",
            "_model_module_version": "1.2.0",
            "_model_name": "LayoutModel",
            "_view_count": null,
            "_view_module": "@jupyter-widgets/base",
            "_view_module_version": "1.2.0",
            "_view_name": "LayoutView",
            "align_content": null,
            "align_items": null,
            "align_self": null,
            "border": null,
            "bottom": null,
            "display": null,
            "flex": null,
            "flex_flow": null,
            "grid_area": null,
            "grid_auto_columns": null,
            "grid_auto_flow": null,
            "grid_auto_rows": null,
            "grid_column": null,
            "grid_gap": null,
            "grid_row": null,
            "grid_template_areas": null,
            "grid_template_columns": null,
            "grid_template_rows": null,
            "height": null,
            "justify_content": null,
            "justify_items": null,
            "left": null,
            "margin": null,
            "max_height": null,
            "max_width": null,
            "min_height": null,
            "min_width": null,
            "object_fit": null,
            "object_position": null,
            "order": null,
            "overflow": null,
            "overflow_x": null,
            "overflow_y": null,
            "padding": null,
            "right": null,
            "top": null,
            "visibility": null,
            "width": null
          }
        },
        "3c5cf5cdaa884938bfff88fa8698c286": {
          "model_module": "@jupyter-widgets/controls",
          "model_name": "ProgressStyleModel",
          "model_module_version": "1.5.0",
          "state": {
            "_model_module": "@jupyter-widgets/controls",
            "_model_module_version": "1.5.0",
            "_model_name": "ProgressStyleModel",
            "_view_count": null,
            "_view_module": "@jupyter-widgets/base",
            "_view_module_version": "1.2.0",
            "_view_name": "StyleView",
            "bar_color": null,
            "description_width": ""
          }
        },
        "52da9c2ff8174e438116d53856ce1609": {
          "model_module": "@jupyter-widgets/base",
          "model_name": "LayoutModel",
          "model_module_version": "1.2.0",
          "state": {
            "_model_module": "@jupyter-widgets/base",
            "_model_module_version": "1.2.0",
            "_model_name": "LayoutModel",
            "_view_count": null,
            "_view_module": "@jupyter-widgets/base",
            "_view_module_version": "1.2.0",
            "_view_name": "LayoutView",
            "align_content": null,
            "align_items": null,
            "align_self": null,
            "border": null,
            "bottom": null,
            "display": null,
            "flex": null,
            "flex_flow": null,
            "grid_area": null,
            "grid_auto_columns": null,
            "grid_auto_flow": null,
            "grid_auto_rows": null,
            "grid_column": null,
            "grid_gap": null,
            "grid_row": null,
            "grid_template_areas": null,
            "grid_template_columns": null,
            "grid_template_rows": null,
            "height": null,
            "justify_content": null,
            "justify_items": null,
            "left": null,
            "margin": null,
            "max_height": null,
            "max_width": null,
            "min_height": null,
            "min_width": null,
            "object_fit": null,
            "object_position": null,
            "order": null,
            "overflow": null,
            "overflow_x": null,
            "overflow_y": null,
            "padding": null,
            "right": null,
            "top": null,
            "visibility": null,
            "width": null
          }
        },
        "e4b5021061ad47f2b467078ea6ea22fa": {
          "model_module": "@jupyter-widgets/controls",
          "model_name": "DescriptionStyleModel",
          "model_module_version": "1.5.0",
          "state": {
            "_model_module": "@jupyter-widgets/controls",
            "_model_module_version": "1.5.0",
            "_model_name": "DescriptionStyleModel",
            "_view_count": null,
            "_view_module": "@jupyter-widgets/base",
            "_view_module_version": "1.2.0",
            "_view_name": "StyleView",
            "description_width": ""
          }
        }
      }
    },
    "colab": {
      "provenance": [],
      "machine_shape": "hm",
      "gpuType": "T4"
    },
    "accelerator": "GPU"
  },
  "nbformat": 4,
  "nbformat_minor": 5
}