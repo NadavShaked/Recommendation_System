{
  "cells": [
    {
      "cell_type": "code",
      "execution_count": null,
      "id": "f6b22d84",
      "metadata": {
        "id": "f6b22d84"
      },
      "outputs": [],
      "source": [
        "just_checking_integrity=False\n",
        "rows=3000\n",
        "test_rows=1000"
      ]
    },
    {
      "cell_type": "code",
      "execution_count": null,
      "id": "b647804a",
      "metadata": {
        "execution": {
          "iopub.execute_input": "2022-06-13T15:46:46.608130Z",
          "iopub.status.busy": "2022-06-13T15:46:46.607453Z",
          "iopub.status.idle": "2022-06-13T15:46:52.081025Z",
          "shell.execute_reply": "2022-06-13T15:46:52.080240Z"
        },
        "id": "b647804a",
        "papermill": {
          "duration": 5.495221,
          "end_time": "2022-06-13T15:46:52.083101",
          "exception": false,
          "start_time": "2022-06-13T15:46:46.587880",
          "status": "completed"
        },
        "tags": []
      },
      "outputs": [],
      "source": [
        "import pandas as pd\n",
        "import tensorflow as tf\n",
        "from tensorflow.keras import layers\n",
        "from sklearn.model_selection import train_test_split\n",
        "import numpy as np\n",
        "import datetime\n",
        "from itertools import compress\n",
        "from math import sin, cos\n",
        "import ast"
      ]
    },
    {
      "cell_type": "code",
      "source": [
        "from google.colab import drive\n",
        "drive.mount('/content/drive')"
      ],
      "metadata": {
        "colab": {
          "base_uri": "https://localhost:8080/"
        },
        "id": "DTZrA3utbTCx",
        "outputId": "fd2ae423-27c6-4926-d97f-68559cdac413"
      },
      "id": "DTZrA3utbTCx",
      "execution_count": null,
      "outputs": [
        {
          "output_type": "stream",
          "name": "stdout",
          "text": [
            "Mounted at /content/drive\n"
          ]
        }
      ]
    },
    {
      "cell_type": "code",
      "execution_count": null,
      "id": "31e5dc46",
      "metadata": {
        "id": "31e5dc46"
      },
      "outputs": [],
      "source": [
        "from tqdm.auto import tqdm\n",
        "tqdm.pandas()"
      ]
    },
    {
      "cell_type": "markdown",
      "id": "c9df263b",
      "metadata": {
        "id": "c9df263b",
        "papermill": {
          "duration": 0.018802,
          "end_time": "2022-06-13T15:46:52.932998",
          "exception": false,
          "start_time": "2022-06-13T15:46:52.914196",
          "status": "completed"
        },
        "tags": []
      },
      "source": [
        "## Custom metric\n"
      ]
    },
    {
      "cell_type": "code",
      "execution_count": null,
      "id": "0e515b5a",
      "metadata": {
        "execution": {
          "iopub.execute_input": "2022-06-13T15:46:52.971622Z",
          "iopub.status.busy": "2022-06-13T15:46:52.971293Z",
          "iopub.status.idle": "2022-06-13T15:46:52.979012Z",
          "shell.execute_reply": "2022-06-13T15:46:52.978270Z"
        },
        "id": "0e515b5a",
        "papermill": {
          "duration": 0.029113,
          "end_time": "2022-06-13T15:46:52.980780",
          "exception": false,
          "start_time": "2022-06-13T15:46:52.951667",
          "status": "completed"
        },
        "tags": []
      },
      "outputs": [],
      "source": [
        "def mrr_top_at(at=100):\n",
        "    @tf.function\n",
        "    def mrr_top(y_true,y_pred):\n",
        "        top_k=tf.math.top_k(y_pred,k=at)\n",
        "        rr=top_k.indices\n",
        "        #print(rr)\n",
        "        idx=tf.range(start=1,limit=at+1,delta=1)\n",
        "        y_true=tf.reshape(y_true,[-1,1])\n",
        "        #print(y_true)\n",
        "        #y_true=tf.broadcast_to(y_true,test.shape)\n",
        "        y_true=tf.cast(y_true,tf.int32)\n",
        "        ranking=tf.where(tf.math.equal(rr,y_true),idx,0)\n",
        "        #print(ranking)\n",
        "        ranking=tf.reduce_sum(ranking,axis=-1)\n",
        "        ranking=tf.where(ranking>0,1/ranking,0)\n",
        "        #print(ranking)\n",
        "        ranking=tf.reduce_mean(ranking)\n",
        "        return ranking\n",
        "    return mrr_top\n"
      ]
    },
    {
      "cell_type": "markdown",
      "id": "024b1a7e",
      "metadata": {
        "id": "024b1a7e",
        "papermill": {
          "duration": 0.018758,
          "end_time": "2022-06-13T15:46:53.018573",
          "exception": false,
          "start_time": "2022-06-13T15:46:52.999815",
          "status": "completed"
        },
        "tags": []
      },
      "source": [
        "## Custom layers"
      ]
    },
    {
      "cell_type": "code",
      "execution_count": null,
      "id": "f682c799",
      "metadata": {
        "execution": {
          "iopub.execute_input": "2022-06-13T15:46:53.057483Z",
          "iopub.status.busy": "2022-06-13T15:46:53.056810Z",
          "iopub.status.idle": "2022-06-13T15:46:53.064633Z",
          "shell.execute_reply": "2022-06-13T15:46:53.063907Z"
        },
        "id": "f682c799",
        "papermill": {
          "duration": 0.029132,
          "end_time": "2022-06-13T15:46:53.066312",
          "exception": false,
          "start_time": "2022-06-13T15:46:53.037180",
          "status": "completed"
        },
        "tags": []
      },
      "outputs": [],
      "source": [
        "class TransformerBlock(layers.Layer):\n",
        "    def __init__(self, embed_dim, num_heads, ff_dim, rate=0.1):\n",
        "        super(TransformerBlock, self).__init__()\n",
        "        self.att = layers.MultiHeadAttention(num_heads=num_heads, key_dim=embed_dim)\n",
        "        self.ffn = tf.keras.Sequential(\n",
        "            [layers.Dense(ff_dim, activation=\"relu\"), layers.Dense(embed_dim),]\n",
        "        )\n",
        "        self.layernorm1 = layers.LayerNormalization(epsilon=1e-6)\n",
        "        self.layernorm2 = layers.LayerNormalization(epsilon=1e-6)\n",
        "        self.dropout1 = layers.Dropout(rate)\n",
        "        self.dropout2 = layers.Dropout(rate)\n",
        "\n",
        "    def call(self, inputs, training):\n",
        "        attn_output = self.att(inputs, inputs)\n",
        "        attn_output = self.dropout1(attn_output, training=training)\n",
        "        out1 = self.layernorm1(inputs + attn_output)\n",
        "        ffn_output = self.ffn(out1)\n",
        "        ffn_output = self.dropout2(ffn_output, training=training)\n",
        "        return self.layernorm2(out1 + ffn_output)"
      ]
    },
    {
      "cell_type": "code",
      "execution_count": null,
      "id": "8b32ba9f",
      "metadata": {
        "execution": {
          "iopub.execute_input": "2022-06-13T15:46:53.104693Z",
          "iopub.status.busy": "2022-06-13T15:46:53.104054Z",
          "iopub.status.idle": "2022-06-13T15:46:53.110733Z",
          "shell.execute_reply": "2022-06-13T15:46:53.110019Z"
        },
        "id": "8b32ba9f",
        "papermill": {
          "duration": 0.027593,
          "end_time": "2022-06-13T15:46:53.112366",
          "exception": false,
          "start_time": "2022-06-13T15:46:53.084773",
          "status": "completed"
        },
        "tags": []
      },
      "outputs": [],
      "source": [
        "class TokenAndPositionEmbedding(layers.Layer):\n",
        "    def __init__(\n",
        "        self,\n",
        "        maxlen,\n",
        "        vocab_size,\n",
        "        embed_dim,\n",
        "        item_embedding_trainable=True,\n",
        "        embedding_weights=None\n",
        "        ):\n",
        "        super(TokenAndPositionEmbedding, self).__init__()\n",
        "        self.token_emb = layers.Embedding(\n",
        "            input_dim=vocab_size,\n",
        "            output_dim=embed_dim,\n",
        "            trainable=item_embedding_trainable,\n",
        "            weights=embedding_weights\n",
        "            )\n",
        "        self.pos_emb = layers.Embedding(input_dim=maxlen, output_dim=embed_dim)\n",
        "\n",
        "    def call(self, x):\n",
        "        maxlen = tf.shape(x)[-1]\n",
        "        positions = tf.range(start=maxlen-1, limit=0, delta=-1)\n",
        "        positions = self.pos_emb(positions)\n",
        "        x = self.token_emb(x)\n",
        "        return x + positions"
      ]
    },
    {
      "cell_type": "code",
      "execution_count": null,
      "id": "357d9308",
      "metadata": {
        "execution": {
          "iopub.execute_input": "2022-06-13T15:46:53.150889Z",
          "iopub.status.busy": "2022-06-13T15:46:53.150617Z",
          "iopub.status.idle": "2022-06-13T15:46:53.156218Z",
          "shell.execute_reply": "2022-06-13T15:46:53.155513Z"
        },
        "id": "357d9308",
        "papermill": {
          "duration": 0.026924,
          "end_time": "2022-06-13T15:46:53.157898",
          "exception": false,
          "start_time": "2022-06-13T15:46:53.130974",
          "status": "completed"
        },
        "tags": []
      },
      "outputs": [],
      "source": [
        "class PositionEmbedding(layers.Layer):\n",
        "    def __init__(\n",
        "        self,\n",
        "        maxlen,\n",
        "        embed_dim,\n",
        "        ):\n",
        "        super(PositionEmbedding, self).__init__()\n",
        "        self.pos_emb = layers.Embedding(input_dim=maxlen, output_dim=embed_dim)\n",
        "\n",
        "    def call(self, x):\n",
        "        maxlen = tf.shape(x)[-1]\n",
        "        positions = tf.range(start=0, limit=maxlen, delta=1)\n",
        "        positions = self.pos_emb(positions)\n",
        "        return positions"
      ]
    },
    {
      "cell_type": "code",
      "execution_count": null,
      "id": "99603a0f",
      "metadata": {
        "execution": {
          "iopub.execute_input": "2022-06-13T15:46:53.197710Z",
          "iopub.status.busy": "2022-06-13T15:46:53.196404Z",
          "iopub.status.idle": "2022-06-13T15:46:53.203227Z",
          "shell.execute_reply": "2022-06-13T15:46:53.202536Z"
        },
        "id": "99603a0f",
        "papermill": {
          "duration": 0.028007,
          "end_time": "2022-06-13T15:46:53.204851",
          "exception": false,
          "start_time": "2022-06-13T15:46:53.176844",
          "status": "completed"
        },
        "tags": []
      },
      "outputs": [],
      "source": [
        "class RBFLayer(layers.Layer):\n",
        "    def __init__(self, weights, gamma, **kwargs):\n",
        "        super(RBFLayer, self).__init__(**kwargs)\n",
        "        # shape=(embedding_dimension, num_units)\n",
        "        self.embedding_weights = tf.transpose(weights)\n",
        "        self.gamma = gamma\n",
        "\n",
        "    def call(self, inputs):\n",
        "        l2 = tf.math.reduce_sum(\n",
        "            tf.math.squared_difference(\n",
        "                x=tf.expand_dims(inputs, axis=-1),\n",
        "                y=self.embedding_weights\n",
        "                ),\n",
        "            axis=1\n",
        "            )\n",
        "        res = tf.math.exp(-self.gamma * l2)\n",
        "        return res / tf.reduce_sum(res, axis=1, keepdims=True)"
      ]
    },
    {
      "cell_type": "markdown",
      "id": "88e0e2ad",
      "metadata": {
        "id": "88e0e2ad",
        "papermill": {
          "duration": 0.031781,
          "end_time": "2022-06-13T15:46:53.950092",
          "exception": false,
          "start_time": "2022-06-13T15:46:53.918311",
          "status": "completed"
        },
        "tags": []
      },
      "source": [
        "# Prepare dataset"
      ]
    },
    {
      "cell_type": "code",
      "execution_count": null,
      "id": "82dc56b9",
      "metadata": {
        "execution": {
          "iopub.execute_input": "2022-06-13T15:46:54.017951Z",
          "iopub.status.busy": "2022-06-13T15:46:54.017635Z",
          "iopub.status.idle": "2022-06-13T15:46:54.032556Z",
          "shell.execute_reply": "2022-06-13T15:46:54.031718Z"
        },
        "id": "82dc56b9",
        "outputId": "bc0c2087-406d-41a1-cf84-1520edef84e5",
        "papermill": {
          "duration": 0.050992,
          "end_time": "2022-06-13T15:46:54.034575",
          "exception": false,
          "start_time": "2022-06-13T15:46:53.983583",
          "status": "completed"
        },
        "tags": [],
        "colab": {
          "base_uri": "https://localhost:8080/",
          "height": 206
        }
      },
      "outputs": [
        {
          "output_type": "execute_result",
          "data": {
            "text/plain": [
              "   item_id\n",
              "0        1\n",
              "1        2\n",
              "2        3\n",
              "3        4\n",
              "4        5"
            ],
            "text/html": [
              "\n",
              "  <div id=\"df-ffc0cf5e-3f4b-4c8a-b9b0-ef47d86f1ff1\" class=\"colab-df-container\">\n",
              "    <div>\n",
              "<style scoped>\n",
              "    .dataframe tbody tr th:only-of-type {\n",
              "        vertical-align: middle;\n",
              "    }\n",
              "\n",
              "    .dataframe tbody tr th {\n",
              "        vertical-align: top;\n",
              "    }\n",
              "\n",
              "    .dataframe thead th {\n",
              "        text-align: right;\n",
              "    }\n",
              "</style>\n",
              "<table border=\"1\" class=\"dataframe\">\n",
              "  <thead>\n",
              "    <tr style=\"text-align: right;\">\n",
              "      <th></th>\n",
              "      <th>item_id</th>\n",
              "    </tr>\n",
              "  </thead>\n",
              "  <tbody>\n",
              "    <tr>\n",
              "      <th>0</th>\n",
              "      <td>1</td>\n",
              "    </tr>\n",
              "    <tr>\n",
              "      <th>1</th>\n",
              "      <td>2</td>\n",
              "    </tr>\n",
              "    <tr>\n",
              "      <th>2</th>\n",
              "      <td>3</td>\n",
              "    </tr>\n",
              "    <tr>\n",
              "      <th>3</th>\n",
              "      <td>4</td>\n",
              "    </tr>\n",
              "    <tr>\n",
              "      <th>4</th>\n",
              "      <td>5</td>\n",
              "    </tr>\n",
              "  </tbody>\n",
              "</table>\n",
              "</div>\n",
              "    <div class=\"colab-df-buttons\">\n",
              "\n",
              "  <div class=\"colab-df-container\">\n",
              "    <button class=\"colab-df-convert\" onclick=\"convertToInteractive('df-ffc0cf5e-3f4b-4c8a-b9b0-ef47d86f1ff1')\"\n",
              "            title=\"Convert this dataframe to an interactive table.\"\n",
              "            style=\"display:none;\">\n",
              "\n",
              "  <svg xmlns=\"http://www.w3.org/2000/svg\" height=\"24px\" viewBox=\"0 -960 960 960\">\n",
              "    <path d=\"M120-120v-720h720v720H120Zm60-500h600v-160H180v160Zm220 220h160v-160H400v160Zm0 220h160v-160H400v160ZM180-400h160v-160H180v160Zm440 0h160v-160H620v160ZM180-180h160v-160H180v160Zm440 0h160v-160H620v160Z\"/>\n",
              "  </svg>\n",
              "    </button>\n",
              "\n",
              "  <style>\n",
              "    .colab-df-container {\n",
              "      display:flex;\n",
              "      gap: 12px;\n",
              "    }\n",
              "\n",
              "    .colab-df-convert {\n",
              "      background-color: #E8F0FE;\n",
              "      border: none;\n",
              "      border-radius: 50%;\n",
              "      cursor: pointer;\n",
              "      display: none;\n",
              "      fill: #1967D2;\n",
              "      height: 32px;\n",
              "      padding: 0 0 0 0;\n",
              "      width: 32px;\n",
              "    }\n",
              "\n",
              "    .colab-df-convert:hover {\n",
              "      background-color: #E2EBFA;\n",
              "      box-shadow: 0px 1px 2px rgba(60, 64, 67, 0.3), 0px 1px 3px 1px rgba(60, 64, 67, 0.15);\n",
              "      fill: #174EA6;\n",
              "    }\n",
              "\n",
              "    .colab-df-buttons div {\n",
              "      margin-bottom: 4px;\n",
              "    }\n",
              "\n",
              "    [theme=dark] .colab-df-convert {\n",
              "      background-color: #3B4455;\n",
              "      fill: #D2E3FC;\n",
              "    }\n",
              "\n",
              "    [theme=dark] .colab-df-convert:hover {\n",
              "      background-color: #434B5C;\n",
              "      box-shadow: 0px 1px 3px 1px rgba(0, 0, 0, 0.15);\n",
              "      filter: drop-shadow(0px 1px 2px rgba(0, 0, 0, 0.3));\n",
              "      fill: #FFFFFF;\n",
              "    }\n",
              "  </style>\n",
              "\n",
              "    <script>\n",
              "      const buttonEl =\n",
              "        document.querySelector('#df-ffc0cf5e-3f4b-4c8a-b9b0-ef47d86f1ff1 button.colab-df-convert');\n",
              "      buttonEl.style.display =\n",
              "        google.colab.kernel.accessAllowed ? 'block' : 'none';\n",
              "\n",
              "      async function convertToInteractive(key) {\n",
              "        const element = document.querySelector('#df-ffc0cf5e-3f4b-4c8a-b9b0-ef47d86f1ff1');\n",
              "        const dataTable =\n",
              "          await google.colab.kernel.invokeFunction('convertToInteractive',\n",
              "                                                    [key], {});\n",
              "        if (!dataTable) return;\n",
              "\n",
              "        const docLinkHtml = 'Like what you see? Visit the ' +\n",
              "          '<a target=\"_blank\" href=https://colab.research.google.com/notebooks/data_table.ipynb>data table notebook</a>'\n",
              "          + ' to learn more about interactive tables.';\n",
              "        element.innerHTML = '';\n",
              "        dataTable['output_type'] = 'display_data';\n",
              "        await google.colab.output.renderOutput(dataTable, element);\n",
              "        const docLink = document.createElement('div');\n",
              "        docLink.innerHTML = docLinkHtml;\n",
              "        element.appendChild(docLink);\n",
              "      }\n",
              "    </script>\n",
              "  </div>\n",
              "\n",
              "\n",
              "<div id=\"df-fdd3518f-5d9f-4fb9-84a8-06a009f278f9\">\n",
              "  <button class=\"colab-df-quickchart\" onclick=\"quickchart('df-fdd3518f-5d9f-4fb9-84a8-06a009f278f9')\"\n",
              "            title=\"Suggest charts\"\n",
              "            style=\"display:none;\">\n",
              "\n",
              "<svg xmlns=\"http://www.w3.org/2000/svg\" height=\"24px\"viewBox=\"0 0 24 24\"\n",
              "     width=\"24px\">\n",
              "    <g>\n",
              "        <path d=\"M19 3H5c-1.1 0-2 .9-2 2v14c0 1.1.9 2 2 2h14c1.1 0 2-.9 2-2V5c0-1.1-.9-2-2-2zM9 17H7v-7h2v7zm4 0h-2V7h2v10zm4 0h-2v-4h2v4z\"/>\n",
              "    </g>\n",
              "</svg>\n",
              "  </button>\n",
              "\n",
              "<style>\n",
              "  .colab-df-quickchart {\n",
              "      --bg-color: #E8F0FE;\n",
              "      --fill-color: #1967D2;\n",
              "      --hover-bg-color: #E2EBFA;\n",
              "      --hover-fill-color: #174EA6;\n",
              "      --disabled-fill-color: #AAA;\n",
              "      --disabled-bg-color: #DDD;\n",
              "  }\n",
              "\n",
              "  [theme=dark] .colab-df-quickchart {\n",
              "      --bg-color: #3B4455;\n",
              "      --fill-color: #D2E3FC;\n",
              "      --hover-bg-color: #434B5C;\n",
              "      --hover-fill-color: #FFFFFF;\n",
              "      --disabled-bg-color: #3B4455;\n",
              "      --disabled-fill-color: #666;\n",
              "  }\n",
              "\n",
              "  .colab-df-quickchart {\n",
              "    background-color: var(--bg-color);\n",
              "    border: none;\n",
              "    border-radius: 50%;\n",
              "    cursor: pointer;\n",
              "    display: none;\n",
              "    fill: var(--fill-color);\n",
              "    height: 32px;\n",
              "    padding: 0;\n",
              "    width: 32px;\n",
              "  }\n",
              "\n",
              "  .colab-df-quickchart:hover {\n",
              "    background-color: var(--hover-bg-color);\n",
              "    box-shadow: 0 1px 2px rgba(60, 64, 67, 0.3), 0 1px 3px 1px rgba(60, 64, 67, 0.15);\n",
              "    fill: var(--button-hover-fill-color);\n",
              "  }\n",
              "\n",
              "  .colab-df-quickchart-complete:disabled,\n",
              "  .colab-df-quickchart-complete:disabled:hover {\n",
              "    background-color: var(--disabled-bg-color);\n",
              "    fill: var(--disabled-fill-color);\n",
              "    box-shadow: none;\n",
              "  }\n",
              "\n",
              "  .colab-df-spinner {\n",
              "    border: 2px solid var(--fill-color);\n",
              "    border-color: transparent;\n",
              "    border-bottom-color: var(--fill-color);\n",
              "    animation:\n",
              "      spin 1s steps(1) infinite;\n",
              "  }\n",
              "\n",
              "  @keyframes spin {\n",
              "    0% {\n",
              "      border-color: transparent;\n",
              "      border-bottom-color: var(--fill-color);\n",
              "      border-left-color: var(--fill-color);\n",
              "    }\n",
              "    20% {\n",
              "      border-color: transparent;\n",
              "      border-left-color: var(--fill-color);\n",
              "      border-top-color: var(--fill-color);\n",
              "    }\n",
              "    30% {\n",
              "      border-color: transparent;\n",
              "      border-left-color: var(--fill-color);\n",
              "      border-top-color: var(--fill-color);\n",
              "      border-right-color: var(--fill-color);\n",
              "    }\n",
              "    40% {\n",
              "      border-color: transparent;\n",
              "      border-right-color: var(--fill-color);\n",
              "      border-top-color: var(--fill-color);\n",
              "    }\n",
              "    60% {\n",
              "      border-color: transparent;\n",
              "      border-right-color: var(--fill-color);\n",
              "    }\n",
              "    80% {\n",
              "      border-color: transparent;\n",
              "      border-right-color: var(--fill-color);\n",
              "      border-bottom-color: var(--fill-color);\n",
              "    }\n",
              "    90% {\n",
              "      border-color: transparent;\n",
              "      border-bottom-color: var(--fill-color);\n",
              "    }\n",
              "  }\n",
              "</style>\n",
              "\n",
              "  <script>\n",
              "    async function quickchart(key) {\n",
              "      const quickchartButtonEl =\n",
              "        document.querySelector('#' + key + ' button');\n",
              "      quickchartButtonEl.disabled = true;  // To prevent multiple clicks.\n",
              "      quickchartButtonEl.classList.add('colab-df-spinner');\n",
              "      try {\n",
              "        const charts = await google.colab.kernel.invokeFunction(\n",
              "            'suggestCharts', [key], {});\n",
              "      } catch (error) {\n",
              "        console.error('Error during call to suggestCharts:', error);\n",
              "      }\n",
              "      quickchartButtonEl.classList.remove('colab-df-spinner');\n",
              "      quickchartButtonEl.classList.add('colab-df-quickchart-complete');\n",
              "    }\n",
              "    (() => {\n",
              "      let quickchartButtonEl =\n",
              "        document.querySelector('#df-fdd3518f-5d9f-4fb9-84a8-06a009f278f9 button');\n",
              "      quickchartButtonEl.style.display =\n",
              "        google.colab.kernel.accessAllowed ? 'block' : 'none';\n",
              "    })();\n",
              "  </script>\n",
              "</div>\n",
              "\n",
              "    </div>\n",
              "  </div>\n"
            ],
            "application/vnd.google.colaboratory.intrinsic+json": {
              "type": "dataframe",
              "variable_name": "candidate_items",
              "summary": "{\n  \"name\": \"candidate_items\",\n  \"rows\": 4990,\n  \"fields\": [\n    {\n      \"column\": \"item_id\",\n      \"properties\": {\n        \"dtype\": \"number\",\n        \"std\": 1440,\n        \"min\": 1,\n        \"max\": 4990,\n        \"num_unique_values\": 4990,\n        \"samples\": [\n          4728,\n          2317,\n          3670\n        ],\n        \"semantic_type\": \"\",\n        \"description\": \"\"\n      }\n    }\n  ]\n}"
            }
          },
          "metadata": {},
          "execution_count": 10
        }
      ],
      "source": [
        "candidate_items = pd.read_csv('./drive/MyDrive/Recommendation_system/dataset/processed_data/candidate_items_mapped.csv')\n",
        "candidate_items.head()"
      ]
    },
    {
      "cell_type": "code",
      "execution_count": null,
      "id": "5a5a5fe6",
      "metadata": {
        "execution": {
          "iopub.execute_input": "2022-06-13T15:46:54.073629Z",
          "iopub.status.busy": "2022-06-13T15:46:54.073351Z",
          "iopub.status.idle": "2022-06-13T15:46:54.082020Z",
          "shell.execute_reply": "2022-06-13T15:46:54.081162Z"
        },
        "id": "5a5a5fe6",
        "outputId": "6a3254fa-ee0e-48e6-d2bc-894262a2d9a5",
        "papermill": {
          "duration": 0.029847,
          "end_time": "2022-06-13T15:46:54.083735",
          "exception": false,
          "start_time": "2022-06-13T15:46:54.053888",
          "status": "completed"
        },
        "tags": [],
        "colab": {
          "base_uri": "https://localhost:8080/"
        }
      },
      "outputs": [
        {
          "output_type": "execute_result",
          "data": {
            "text/plain": [
              "(23692, 64)"
            ]
          },
          "metadata": {},
          "execution_count": 11
        }
      ],
      "source": [
        "embedding_weights = np.load(\n",
        "    './drive/MyDrive/Recommendation_system/dataset/processed_data/compressed_features.npy'\n",
        "    )\n",
        "import os\n",
        "import scipy.sparse as sps\n",
        "def get_ICM(files_directory=\"./drive/MyDrive/Recommendation_system/dataset/processed_data\"):\n",
        "    df_icm = pd.read_csv(filepath_or_buffer=os.path.join(files_directory, 'simplified_features_and_categories_30.csv'), sep=',', header=0)\n",
        "\n",
        "    item_id_list = df_icm['item_id'].values\n",
        "    feat_id_list = df_icm['feature_idx'].values\n",
        "    rating_id_list = np.ones_like(feat_id_list)\n",
        "    ICM_matrix = sps.csr_matrix((rating_id_list, (item_id_list, feat_id_list)))\n",
        "    return ICM_matrix\n",
        "\n",
        "ICM=get_ICM()\n",
        "embedding_weights.shape"
      ]
    },
    {
      "cell_type": "code",
      "execution_count": null,
      "id": "972a586b",
      "metadata": {
        "execution": {
          "iopub.execute_input": "2022-06-13T15:46:54.303794Z",
          "iopub.status.busy": "2022-06-13T15:46:54.303548Z",
          "iopub.status.idle": "2022-06-13T15:47:34.265070Z",
          "shell.execute_reply": "2022-06-13T15:47:34.264280Z"
        },
        "id": "972a586b",
        "papermill": {
          "duration": 39.983661,
          "end_time": "2022-06-13T15:47:34.267146",
          "exception": false,
          "start_time": "2022-06-13T15:46:54.283485",
          "status": "completed"
        },
        "tags": []
      },
      "outputs": [],
      "source": [
        "result =  pd.read_csv(\"./drive/MyDrive/Recommendation_system/dataset/processed_data/macro_feats_NN.csv\",parse_dates=[\"date_session_starting\"],\n",
        "     infer_datetime_format=True)\n",
        "\n",
        "\n",
        "\n",
        "result[\"item_id\"]=result[\"item_id\"].map(ast.literal_eval)\n",
        "result[\"timedelta\"]=result[\"timedelta\"].map(ast.literal_eval)\n",
        "\n",
        "def is_reseen(x):\n",
        "    #print(x)\n",
        "    seen={}\n",
        "    res=[]\n",
        "    for item in x:\n",
        "        if item in seen:\n",
        "            res.append(seen[item])\n",
        "            seen[item]+=1\n",
        "        else:\n",
        "            res.append(0)\n",
        "            seen[item]=1\n",
        "    return res\n",
        "\n",
        "def percentage_seen(x):\n",
        "    size=len(x)\n",
        "    return [(i+1)/size for i in range(size)]"
      ]
    },
    {
      "cell_type": "code",
      "execution_count": null,
      "id": "ff57e158",
      "metadata": {
        "execution": {
          "iopub.execute_input": "2022-06-13T15:47:34.307373Z",
          "iopub.status.busy": "2022-06-13T15:47:34.307065Z",
          "iopub.status.idle": "2022-06-13T15:47:50.902832Z",
          "shell.execute_reply": "2022-06-13T15:47:50.902005Z"
        },
        "id": "ff57e158",
        "outputId": "b57b52f6-89ff-41df-fccd-74df857a452e",
        "papermill": {
          "duration": 16.618572,
          "end_time": "2022-06-13T15:47:50.904973",
          "exception": false,
          "start_time": "2022-06-13T15:47:34.286401",
          "status": "completed"
        },
        "tags": [],
        "colab": {
          "base_uri": "https://localhost:8080/",
          "height": 81,
          "referenced_widgets": [
            "d5da17bc52e541b8831ee79faf5d849d",
            "fb39c0edc49746d4b2a169146927b6f4",
            "95153dc053f14634afca81dad31b6548",
            "c221b48bd86c424ca7c23cffc161419f",
            "3fcbd1adaf91462594d7d89527091ae4",
            "b0b1e83016ba43539192f89d94b34305",
            "6da93ee3cf3549dea2b29a1ca53b8c29",
            "9e6489a2dd794847a3700dbaebc1709d",
            "cf410bf4edc44fe0b6aea9ec1d85fe6c",
            "39e6c4e4dca74038901d454f6564f8b5",
            "48f25dab10074b5dbec6fd11191e929c",
            "6afdc59ef8044b95aaf51e3d903c2f04",
            "b1c45ba78e3d4d9184d065e28fafc8e8",
            "d4c3cc7bb5084dbea2292f189f546124",
            "981b5bcdad044821b9dea5c4dc00df44",
            "63b2439c143d4f7bb5546258d1486b68",
            "9464ab567d0446b187483c9b8ab9ad57",
            "6cee4347b62e4aada7f70582fad975d7",
            "4d4b3ab6d18f4021a403ca7af4e6e8bf",
            "5c650c942fe24d45a589c2df2f70bc99",
            "b3a6fe45d7e4475e9710f778f1984b2a",
            "bdeddf1537254efd8f048ba99f0c2109"
          ]
        }
      },
      "outputs": [
        {
          "output_type": "display_data",
          "data": {
            "text/plain": [
              "  0%|          | 0/1000000 [00:00<?, ?it/s]"
            ],
            "application/vnd.jupyter.widget-view+json": {
              "version_major": 2,
              "version_minor": 0,
              "model_id": "d5da17bc52e541b8831ee79faf5d849d"
            }
          },
          "metadata": {}
        },
        {
          "output_type": "display_data",
          "data": {
            "text/plain": [
              "  0%|          | 0/1000000 [00:00<?, ?it/s]"
            ],
            "application/vnd.jupyter.widget-view+json": {
              "version_major": 2,
              "version_minor": 0,
              "model_id": "6afdc59ef8044b95aaf51e3d903c2f04"
            }
          },
          "metadata": {}
        }
      ],
      "source": [
        "x_reseen = tf.keras.preprocessing.sequence.pad_sequences(\n",
        "    result['item_id'].progress_apply(is_reseen),\n",
        "    padding='post',\n",
        "    maxlen=100,\n",
        "    dtype=\"int16\"\n",
        ")\n",
        "x_percentage_seen = tf.keras.preprocessing.sequence.pad_sequences(\n",
        "    result['item_id'].progress_apply(percentage_seen),\n",
        "    padding='post',\n",
        "    maxlen=100,\n",
        "    dtype='float16',\n",
        ")"
      ]
    },
    {
      "cell_type": "code",
      "execution_count": null,
      "id": "1bb85465",
      "metadata": {
        "execution": {
          "iopub.execute_input": "2022-06-13T15:47:50.946427Z",
          "iopub.status.busy": "2022-06-13T15:47:50.946120Z",
          "iopub.status.idle": "2022-06-13T15:47:50.954799Z",
          "shell.execute_reply": "2022-06-13T15:47:50.953838Z"
        },
        "id": "1bb85465",
        "papermill": {
          "duration": 0.031192,
          "end_time": "2022-06-13T15:47:50.956707",
          "exception": false,
          "start_time": "2022-06-13T15:47:50.925515",
          "status": "completed"
        },
        "tags": []
      },
      "outputs": [],
      "source": [
        "def similarity_with_preceding(x):\n",
        "    if len(x)==1:\n",
        "        return np.array([0])\n",
        "    feats=embedding_weights[x]\n",
        "    #normalize\n",
        "    feats=np.divide(feats,np.linalg.norm(feats,axis=1).reshape((-1,1)))\n",
        "    feats_copy=feats.copy()\n",
        "    feats_copy=np.roll(feats_copy,1,axis=0)\n",
        "    feats_copy[0,:]=0\n",
        "    prod=np.multiply(feats,feats_copy).sum(axis=1)\n",
        "    return prod\n",
        "\n",
        "\n",
        "\n",
        "def similarity_feats_with_preceding(x):\n",
        "    if len(x)==1:\n",
        "        return np.array([0])\n",
        "    feats=ICM[x].toarray()\n",
        "    #normalize\n",
        "    feats=np.divide(feats,np.linalg.norm(feats,axis=1).reshape((-1,1)))\n",
        "    feats_copy=feats.copy()\n",
        "    feats_copy=np.roll(feats_copy,1,axis=0)\n",
        "    feats_copy[0,:]=0\n",
        "    prod=np.multiply(feats,feats_copy).sum(axis=1)\n",
        "    return prod"
      ]
    },
    {
      "cell_type": "code",
      "execution_count": null,
      "id": "94f3c622",
      "metadata": {
        "execution": {
          "iopub.execute_input": "2022-06-13T15:47:50.995998Z",
          "iopub.status.busy": "2022-06-13T15:47:50.995567Z",
          "iopub.status.idle": "2022-06-13T15:51:32.773031Z",
          "shell.execute_reply": "2022-06-13T15:51:32.772159Z"
        },
        "id": "94f3c622",
        "outputId": "f012d186-15c7-44ca-8181-6579a430f24b",
        "papermill": {
          "duration": 221.799486,
          "end_time": "2022-06-13T15:51:32.775130",
          "exception": false,
          "start_time": "2022-06-13T15:47:50.975644",
          "status": "completed"
        },
        "tags": [],
        "colab": {
          "base_uri": "https://localhost:8080/",
          "height": 81,
          "referenced_widgets": [
            "cd81efd9eaa244358a8f8966f5321d15",
            "214054efd4274efea9dc69d3123d3de0",
            "1c3453a604d54b78b70916412ea14a0e",
            "185f72b390364ef987bc02c63a5b5f73",
            "7f0c2060cc7046bcb9ac5acb53fdb3e0",
            "dcc1c4fa97ba448ead3db509c84ea58b",
            "d84c6cdf39924e1983ca8092a82832fe",
            "069bcef3073e4e25a930ed759097804e",
            "f400e488cabd43c8a223278284c39882",
            "a9142a36d0a3404e9146af0ec0c8e988",
            "253111e609f84c6fb74b11f534b2277f",
            "4befc8c581c04d2880248cee12377a36",
            "04084d2cfa28423190b13ed5c0296dc3",
            "08bd47fe79704c558f57f9f7ef20aeda",
            "15adbca7e7a94aaa82d33df3463587cb",
            "29a2b18148d647ada189adf2ad2057d8",
            "071e5a5ee99e4bcfa7d8c47092c6ae78",
            "52a732a013914fec897d200db13feb6c",
            "2d3ae9276e054894885c2590979bd42a",
            "a847bcb2928945b5b9cebb8ce3a55e73",
            "a77434fe583b47ea987f63ea99b92146",
            "f4b6b5d1b01c4961a5eeadf49966844e"
          ]
        }
      },
      "outputs": [
        {
          "output_type": "display_data",
          "data": {
            "text/plain": [
              "  0%|          | 0/1000000 [00:00<?, ?it/s]"
            ],
            "application/vnd.jupyter.widget-view+json": {
              "version_major": 2,
              "version_minor": 0,
              "model_id": "cd81efd9eaa244358a8f8966f5321d15"
            }
          },
          "metadata": {}
        },
        {
          "output_type": "display_data",
          "data": {
            "text/plain": [
              "  0%|          | 0/1000000 [00:00<?, ?it/s]"
            ],
            "application/vnd.jupyter.widget-view+json": {
              "version_major": 2,
              "version_minor": 0,
              "model_id": "4befc8c581c04d2880248cee12377a36"
            }
          },
          "metadata": {}
        }
      ],
      "source": [
        "x_simils = tf.keras.preprocessing.sequence.pad_sequences(\n",
        "    result['item_id'].progress_apply(similarity_with_preceding\n",
        "    ),\n",
        "    padding='post',\n",
        "    maxlen=100,\n",
        "    dtype='float16',\n",
        ")\n",
        "x_simils_feats = tf.keras.preprocessing.sequence.pad_sequences(\n",
        "    result['item_id'].progress_apply(similarity_feats_with_preceding\n",
        "    ),\n",
        "    padding='post',\n",
        "    maxlen=100,\n",
        "    dtype='float16',\n",
        ")"
      ]
    },
    {
      "cell_type": "code",
      "execution_count": null,
      "id": "d62f6260",
      "metadata": {
        "execution": {
          "iopub.execute_input": "2022-06-13T15:51:34.501280Z",
          "iopub.status.busy": "2022-06-13T15:51:34.500969Z",
          "iopub.status.idle": "2022-06-13T15:51:34.570271Z",
          "shell.execute_reply": "2022-06-13T15:51:34.569406Z"
        },
        "id": "d62f6260",
        "papermill": {
          "duration": 0.092553,
          "end_time": "2022-06-13T15:51:34.572311",
          "exception": false,
          "start_time": "2022-06-13T15:51:34.479758",
          "status": "completed"
        },
        "tags": []
      },
      "outputs": [],
      "source": [
        "static_features = [\n",
        "                   'date_hour_sin',\n",
        "                   'date_hour_cos',\n",
        "                   'date_day_sin',\n",
        "                   'date_day_cos',\n",
        "                   'date_month_sin',\n",
        "                   'date_month_cos',\n",
        "                   'date_hour_sin_ending',\n",
        "                   'date_hour_cos_ending',\n",
        "                   'date_day_sin_ending',\n",
        "                   'date_day_cos_ending',\n",
        "                   'date_month_sin_ending',\n",
        "                   'date_month_cos_ending',\n",
        "                   'date_year_2020',\n",
        "                   'length_of_session_seconds',\n",
        "                   'avg_time_spent_per_item_seconds',\n",
        "                   'variance_time_spent_per_item_seconds',\n",
        "                   'n_seen_items',\n",
        "                   'n_unique_items',\n",
        "                   'user_went_afk',\n",
        "                   'is_weekend',\n",
        "                   'is_hot_hour',\n",
        "                   'is_night',\n",
        "                   'is_christmas_time',\n",
        "                   'is_black_friday',\n",
        "                   'session_similarity',\n",
        "                   'session_similarity_uniques',\n",
        "                   'session_similarity_feats',\n",
        "                   'session_similarity_feats_uniques'\n",
        "]\n",
        "for col in ['length_of_session_seconds','avg_time_spent_per_item_seconds','variance_time_spent_per_item_seconds']:\n",
        "    result[col]=np.log10(result[col]+1)\n",
        "for col in ['n_seen_items','n_unique_items']:\n",
        "    result[col]=result[col]/100\n",
        "item_related_features = [\n",
        "                         'timedelta'\n",
        "]"
      ]
    },
    {
      "cell_type": "code",
      "execution_count": null,
      "id": "534beafc",
      "metadata": {
        "execution": {
          "iopub.execute_input": "2022-06-13T15:51:34.615718Z",
          "iopub.status.busy": "2022-06-13T15:51:34.615062Z",
          "iopub.status.idle": "2022-06-13T15:51:34.917476Z",
          "shell.execute_reply": "2022-06-13T15:51:34.916559Z"
        },
        "id": "534beafc",
        "papermill": {
          "duration": 0.325499,
          "end_time": "2022-06-13T15:51:34.919304",
          "exception": false,
          "start_time": "2022-06-13T15:51:34.593805",
          "status": "completed"
        },
        "tags": []
      },
      "outputs": [],
      "source": [
        "if just_checking_integrity:\n",
        "    train_purchases = pd.read_csv(\n",
        "    './drive/MyDrive/Recommendation_system/dataset/processed_data/train_purchases_mapped.csv',\n",
        "    usecols = ['session_id', 'item_id'],\n",
        "    nrows=len(result)\n",
        "    )\n",
        "else:\n",
        "    train_purchases = pd.read_csv(\n",
        "    './drive/MyDrive/Recommendation_system/dataset/processed_data/train_purchases_mapped.csv',\n",
        "    usecols = ['session_id', 'item_id'],\n",
        "    )\n"
      ]
    },
    {
      "cell_type": "code",
      "execution_count": null,
      "id": "2a7adf88",
      "metadata": {
        "execution": {
          "iopub.execute_input": "2022-06-13T15:51:34.962544Z",
          "iopub.status.busy": "2022-06-13T15:51:34.961683Z",
          "iopub.status.idle": "2022-06-13T15:51:35.110044Z",
          "shell.execute_reply": "2022-06-13T15:51:35.109135Z"
        },
        "id": "2a7adf88",
        "papermill": {
          "duration": 0.17217,
          "end_time": "2022-06-13T15:51:35.112494",
          "exception": false,
          "start_time": "2022-06-13T15:51:34.940324",
          "status": "completed"
        },
        "tags": []
      },
      "outputs": [],
      "source": [
        "train_purchases.sort_values(by=\"session_id\",inplace=True)"
      ]
    },
    {
      "cell_type": "code",
      "execution_count": null,
      "id": "1388d6d3",
      "metadata": {
        "execution": {
          "iopub.execute_input": "2022-06-13T15:51:35.155237Z",
          "iopub.status.busy": "2022-06-13T15:51:35.154928Z",
          "iopub.status.idle": "2022-06-13T15:51:39.396817Z",
          "shell.execute_reply": "2022-06-13T15:51:39.395855Z"
        },
        "id": "1388d6d3",
        "papermill": {
          "duration": 4.265437,
          "end_time": "2022-06-13T15:51:39.398888",
          "exception": false,
          "start_time": "2022-06-13T15:51:35.133451",
          "status": "completed"
        },
        "tags": []
      },
      "outputs": [],
      "source": [
        "x_ids = tf.keras.preprocessing.sequence.pad_sequences(\n",
        "    result['item_id'],\n",
        "    padding='post',\n",
        "    maxlen=100\n",
        ")"
      ]
    },
    {
      "cell_type": "code",
      "execution_count": null,
      "id": "22f15072",
      "metadata": {
        "execution": {
          "iopub.execute_input": "2022-06-13T15:51:39.449019Z",
          "iopub.status.busy": "2022-06-13T15:51:39.447546Z",
          "iopub.status.idle": "2022-06-13T15:51:43.704762Z",
          "shell.execute_reply": "2022-06-13T15:51:43.703929Z"
        },
        "id": "22f15072",
        "outputId": "8cdf76ce-30b4-4c48-a9d5-c86aaf3043ee",
        "papermill": {
          "duration": 4.285489,
          "end_time": "2022-06-13T15:51:43.706848",
          "exception": false,
          "start_time": "2022-06-13T15:51:39.421359",
          "status": "completed"
        },
        "tags": [],
        "colab": {
          "base_uri": "https://localhost:8080/"
        }
      },
      "outputs": [
        {
          "output_type": "stream",
          "name": "stdout",
          "text": [
            "Padding timedelta\n"
          ]
        }
      ],
      "source": [
        "for item_related_feature in item_related_features:\n",
        "  print('Padding {}'.format(item_related_feature))\n",
        "  x_item_related = tf.keras.preprocessing.sequence.pad_sequences(\n",
        "      result[item_related_feature],\n",
        "      dtype='float16',\n",
        "      maxlen=100,\n",
        "      padding='post'\n",
        "    )"
      ]
    },
    {
      "cell_type": "code",
      "execution_count": null,
      "id": "f6e35447",
      "metadata": {
        "execution": {
          "iopub.execute_input": "2022-06-13T15:51:43.750944Z",
          "iopub.status.busy": "2022-06-13T15:51:43.750637Z",
          "iopub.status.idle": "2022-06-13T15:51:43.754631Z",
          "shell.execute_reply": "2022-06-13T15:51:43.753840Z"
        },
        "id": "f6e35447",
        "papermill": {
          "duration": 0.02755,
          "end_time": "2022-06-13T15:51:43.756240",
          "exception": false,
          "start_time": "2022-06-13T15:51:43.728690",
          "status": "completed"
        },
        "tags": []
      },
      "outputs": [],
      "source": [
        "if len(item_related_features) == 1:\n",
        "    x_item_related = np.expand_dims(x_item_related, axis=-1)"
      ]
    },
    {
      "cell_type": "code",
      "execution_count": null,
      "id": "f884d292",
      "metadata": {
        "execution": {
          "iopub.execute_input": "2022-06-13T15:51:43.893379Z",
          "iopub.status.busy": "2022-06-13T15:51:43.893107Z",
          "iopub.status.idle": "2022-06-13T15:51:43.896971Z",
          "shell.execute_reply": "2022-06-13T15:51:43.896229Z"
        },
        "id": "f884d292",
        "papermill": {
          "duration": 0.026709,
          "end_time": "2022-06-13T15:51:43.898618",
          "exception": false,
          "start_time": "2022-06-13T15:51:43.871909",
          "status": "completed"
        },
        "tags": []
      },
      "outputs": [],
      "source": [
        "y = train_purchases['item_id'].to_numpy()"
      ]
    },
    {
      "cell_type": "code",
      "execution_count": null,
      "id": "1a4a0af6",
      "metadata": {
        "execution": {
          "iopub.execute_input": "2022-06-13T15:51:43.941569Z",
          "iopub.status.busy": "2022-06-13T15:51:43.941317Z",
          "iopub.status.idle": "2022-06-13T15:51:44.021922Z",
          "shell.execute_reply": "2022-06-13T15:51:44.021034Z"
        },
        "id": "1a4a0af6",
        "papermill": {
          "duration": 0.104479,
          "end_time": "2022-06-13T15:51:44.024064",
          "exception": false,
          "start_time": "2022-06-13T15:51:43.919585",
          "status": "completed"
        },
        "tags": []
      },
      "outputs": [],
      "source": [
        "y_features = embedding_weights[y]"
      ]
    },
    {
      "cell_type": "code",
      "execution_count": null,
      "id": "f22f3984",
      "metadata": {
        "execution": {
          "iopub.execute_input": "2022-06-13T15:51:44.067560Z",
          "iopub.status.busy": "2022-06-13T15:51:44.067172Z",
          "iopub.status.idle": "2022-06-13T15:51:45.449853Z",
          "shell.execute_reply": "2022-06-13T15:51:45.449013Z"
        },
        "id": "f22f3984",
        "papermill": {
          "duration": 1.406532,
          "end_time": "2022-06-13T15:51:45.451908",
          "exception": false,
          "start_time": "2022-06-13T15:51:44.045376",
          "status": "completed"
        },
        "tags": []
      },
      "outputs": [],
      "source": [
        "x_ids_train, x_ids_test,\\\n",
        "x_reseen_train, x_reseen_test,\\\n",
        "x_simils_train,x_simils_test,\\\n",
        "x_simils_feats_train,x_simils_feats_test,\\\n",
        "x_percentage_seen_train,x_percentage_seen_test,\\\n",
        "x_static_train, x_static_test, \\\n",
        "x_item_related_train, x_item_related_test, \\\n",
        "y_train, y_test, \\\n",
        "y_features_train, y_features_test = train_test_split(\n",
        "    x_ids,\n",
        "    x_reseen,\n",
        "    x_simils,\n",
        "    x_simils_feats,\n",
        "    x_percentage_seen,\n",
        "    result[static_features].to_numpy(),\n",
        "    x_item_related,\n",
        "    y,\n",
        "    y_features,\n",
        "    test_size=0.2,\n",
        "    random_state=1234\n",
        "    )\n"
      ]
    },
    {
      "cell_type": "code",
      "execution_count": null,
      "id": "53bb5588",
      "metadata": {
        "execution": {
          "iopub.execute_input": "2022-06-13T15:51:45.496227Z",
          "iopub.status.busy": "2022-06-13T15:51:45.495636Z",
          "iopub.status.idle": "2022-06-13T15:51:45.901985Z",
          "shell.execute_reply": "2022-06-13T15:51:45.901153Z"
        },
        "id": "53bb5588",
        "outputId": "562f638a-e889-4553-a3b7-7dc4a759261e",
        "papermill": {
          "duration": 0.429915,
          "end_time": "2022-06-13T15:51:45.903962",
          "exception": false,
          "start_time": "2022-06-13T15:51:45.474047",
          "status": "completed"
        },
        "tags": [],
        "colab": {
          "base_uri": "https://localhost:8080/"
        }
      },
      "outputs": [
        {
          "output_type": "execute_result",
          "data": {
            "text/plain": [
              "18"
            ]
          },
          "metadata": {},
          "execution_count": 25
        }
      ],
      "source": [
        "del x_ids,x_reseen,x_simils,x_simils_feats,x_percentage_seen,result,x_item_related,y,y_features\n",
        "import gc\n",
        "gc.collect()"
      ]
    },
    {
      "cell_type": "markdown",
      "id": "9ca33062",
      "metadata": {
        "id": "9ca33062",
        "papermill": {
          "duration": 0.020763,
          "end_time": "2022-06-13T15:51:45.946343",
          "exception": false,
          "start_time": "2022-06-13T15:51:45.925580",
          "status": "completed"
        },
        "tags": []
      },
      "source": [
        "# Build Dataset"
      ]
    },
    {
      "cell_type": "code",
      "execution_count": null,
      "id": "141d71da",
      "metadata": {
        "execution": {
          "iopub.execute_input": "2022-06-13T15:51:45.990114Z",
          "iopub.status.busy": "2022-06-13T15:51:45.989457Z",
          "iopub.status.idle": "2022-06-13T15:51:53.352858Z",
          "shell.execute_reply": "2022-06-13T15:51:53.351926Z"
        },
        "id": "141d71da",
        "outputId": "aa81123f-eae1-4bb2-d02e-03043924ac1c",
        "papermill": {
          "duration": 7.387675,
          "end_time": "2022-06-13T15:51:53.355423",
          "exception": false,
          "start_time": "2022-06-13T15:51:45.967748",
          "status": "completed"
        },
        "tags": [],
        "colab": {
          "base_uri": "https://localhost:8080/"
        }
      },
      "outputs": [
        {
          "output_type": "execute_result",
          "data": {
            "text/plain": [
              "18"
            ]
          },
          "metadata": {},
          "execution_count": 26
        }
      ],
      "source": [
        "\n",
        "train_set_complete = tf.data.Dataset.from_tensor_slices(\n",
        "    ((x_ids_train, x_reseen_train/100,x_percentage_seen_train,x_simils_train,x_simils_feats_train, x_item_related_train, x_static_train), (y_train, y_features_train))\n",
        "    ).batch(256,num_parallel_calls=tf.data.AUTOTUNE).prefetch(tf.data.AUTOTUNE).shuffle(1563, reshuffle_each_iteration=True)\n",
        "test_set_complete = tf.data.Dataset.from_tensor_slices(\n",
        "    ((x_ids_test, x_reseen_test/100, x_percentage_seen_test,x_simils_test,x_simils_feats_test, x_item_related_test, x_static_test), (y_test, y_features_test))\n",
        "    ).batch(256)\n",
        "gc.collect()"
      ]
    },
    {
      "cell_type": "code",
      "execution_count": null,
      "id": "863af3e9",
      "metadata": {
        "execution": {
          "iopub.execute_input": "2022-06-13T15:51:53.428338Z",
          "iopub.status.busy": "2022-06-13T15:51:53.427947Z",
          "iopub.status.idle": "2022-06-13T15:51:53.432468Z",
          "shell.execute_reply": "2022-06-13T15:51:53.431541Z"
        },
        "papermill": {
          "duration": 0.045271,
          "end_time": "2022-06-13T15:51:53.436361",
          "exception": false,
          "start_time": "2022-06-13T15:51:53.391090",
          "status": "completed"
        },
        "tags": [],
        "id": "863af3e9"
      },
      "outputs": [],
      "source": [
        "shape=y_features_train.shape[1]"
      ]
    },
    {
      "cell_type": "code",
      "execution_count": null,
      "id": "88a72605",
      "metadata": {
        "execution": {
          "iopub.execute_input": "2022-06-13T15:51:53.507961Z",
          "iopub.status.busy": "2022-06-13T15:51:53.507540Z",
          "iopub.status.idle": "2022-06-13T15:51:53.984954Z",
          "shell.execute_reply": "2022-06-13T15:51:53.984184Z"
        },
        "papermill": {
          "duration": 0.515709,
          "end_time": "2022-06-13T15:51:53.986832",
          "exception": false,
          "start_time": "2022-06-13T15:51:53.471123",
          "status": "completed"
        },
        "tags": [],
        "colab": {
          "base_uri": "https://localhost:8080/"
        },
        "id": "88a72605",
        "outputId": "40f64524-d904-4e67-9055-f8cb840414e2"
      },
      "outputs": [
        {
          "output_type": "execute_result",
          "data": {
            "text/plain": [
              "0"
            ]
          },
          "metadata": {},
          "execution_count": 28
        }
      ],
      "source": [
        "del x_ids_train,x_reseen_train,x_simils_train,x_simils_feats_train,x_percentage_seen_train,x_item_related_train,y_train,y_features_train\n",
        "del x_ids_test,x_reseen_test,x_simils_test,x_simils_feats_test,x_percentage_seen_test,x_item_related_test,y_test,y_features_test\n",
        "gc.collect()"
      ]
    },
    {
      "cell_type": "code",
      "execution_count": null,
      "id": "8b63b103",
      "metadata": {
        "execution": {
          "iopub.execute_input": "2022-06-13T15:51:54.033515Z",
          "iopub.status.busy": "2022-06-13T15:51:54.033136Z",
          "iopub.status.idle": "2022-06-13T15:51:54.038651Z",
          "shell.execute_reply": "2022-06-13T15:51:54.037938Z"
        },
        "id": "8b63b103",
        "outputId": "b9b6130b-dd1d-4b78-d2db-ce7aebd78c1d",
        "papermill": {
          "duration": 0.032112,
          "end_time": "2022-06-13T15:51:54.040457",
          "exception": false,
          "start_time": "2022-06-13T15:51:54.008345",
          "status": "completed"
        },
        "tags": [],
        "colab": {
          "base_uri": "https://localhost:8080/"
        }
      },
      "outputs": [
        {
          "output_type": "execute_result",
          "data": {
            "text/plain": [
              "((TensorSpec(shape=(None, 100), dtype=tf.int32, name=None),\n",
              "  TensorSpec(shape=(None, 100), dtype=tf.float64, name=None),\n",
              "  TensorSpec(shape=(None, 100), dtype=tf.float16, name=None),\n",
              "  TensorSpec(shape=(None, 100), dtype=tf.float16, name=None),\n",
              "  TensorSpec(shape=(None, 100), dtype=tf.float16, name=None),\n",
              "  TensorSpec(shape=(None, 100, 1), dtype=tf.float16, name=None),\n",
              "  TensorSpec(shape=(None, 28), dtype=tf.float64, name=None)),\n",
              " (TensorSpec(shape=(None,), dtype=tf.int64, name=None),\n",
              "  TensorSpec(shape=(None, 64), dtype=tf.float32, name=None)))"
            ]
          },
          "metadata": {},
          "execution_count": 29
        }
      ],
      "source": [
        "train_set_complete.element_spec"
      ]
    },
    {
      "cell_type": "code",
      "execution_count": null,
      "id": "b21c0fba",
      "metadata": {
        "execution": {
          "iopub.execute_input": "2022-06-13T15:51:54.085044Z",
          "iopub.status.busy": "2022-06-13T15:51:54.084566Z",
          "iopub.status.idle": "2022-06-13T15:51:54.967540Z",
          "shell.execute_reply": "2022-06-13T15:51:54.966736Z"
        },
        "papermill": {
          "duration": 0.908109,
          "end_time": "2022-06-13T15:51:54.969686",
          "exception": false,
          "start_time": "2022-06-13T15:51:54.061577",
          "status": "completed"
        },
        "tags": [],
        "id": "b21c0fba"
      },
      "outputs": [],
      "source": [
        "embed_dim = 64  # Embedding size for each token\n",
        "maxlen = 100\n",
        "num_static = len(static_features)\n",
        "num_item_related = len(item_related_features)\n",
        "vocabulary_size = 23692 #max(train_purchases['item_id']) # Size of the vocabulary\n",
        "rnn_width = 512 - 128 - num_static - num_item_related - 4\n",
        "mlp_width = 512\n",
        "mlp_depth = 2\n",
        "\n",
        "###### INPUT #####\n",
        "id_inputs = layers.Input(shape=(maxlen,), name='ids')\n",
        "item_related_inputs = layers.Input(shape=(maxlen, num_item_related), name='item_related_features')\n",
        "x_reseen_inputs = layers.Input(shape=(maxlen, 1), name='x_reseen_featurs')\n",
        "x_percentage_seen_inputs = layers.Input(shape=(maxlen, 1), name='x_percentage_seen')\n",
        "x_simils_inputs = layers.Input(shape=(maxlen, 1), name='x_similarities_embeddings')\n",
        "x_simils_feats_inputs = layers.Input(shape=(maxlen, 1), name='x_similarities_ICM')\n",
        "static_inputs = layers.Input(shape=(num_static,), name='static_features')\n",
        "\n",
        "##### MODEL DEFINITION #####\n",
        "\n",
        "learned_embedding = layers.Embedding(\n",
        "    input_dim=vocabulary_size,\n",
        "    output_dim=embed_dim,\n",
        "    mask_zero=True,\n",
        "    name='learned_embedding'\n",
        "    )(id_inputs)\n",
        "\n",
        "feature_embedding = layers.Embedding(\n",
        "    input_dim=embedding_weights.shape[0],\n",
        "    output_dim=embedding_weights.shape[1],\n",
        "    mask_zero=True,\n",
        "    trainable=False,\n",
        "    weights=[embedding_weights],\n",
        "    name='feature_embedding'\n",
        "    )(id_inputs)\n",
        "\n",
        "embedding = layers.Concatenate(\n",
        "    name='embedding'\n",
        ")([learned_embedding, feature_embedding])\n",
        "\n",
        "x_pre = embedding\n",
        "\n",
        "masked_item_related_inputs = item_related_inputs[:, :tf.shape(id_inputs)[-1], :]\n",
        "\n",
        "x_pre = layers.Concatenate()([x_pre, masked_item_related_inputs, x_reseen_inputs,x_percentage_seen_inputs,x_simils_inputs,x_simils_feats_inputs])\n",
        "\n",
        "x_post = layers.GRU(\n",
        "    units=rnn_width,\n",
        "    return_sequences=False,\n",
        "    dropout=0.1,\n",
        "    #unroll=True,\n",
        "    name='recurrrent1'\n",
        ")(x_pre)\n",
        "\n",
        "x_pre = layers.GlobalAveragePooling1D()(x_pre)\n",
        "x_pre = layers.Concatenate()([x_post, x_pre, static_inputs])\n",
        "\n",
        "for layer in range(mlp_depth):\n",
        "  x_post = layers.BatchNormalization()(x_pre)\n",
        "  x_post = layers.Dropout(0.2)(x_post)\n",
        "  x_post = layers.Dense(units=mlp_width, activation='gelu')(x_post)\n",
        "  x_pre = layers.Add()([x_pre, x_post])\n",
        "\n",
        "##### PREDICTION DEFINITION #####\n",
        "\n",
        "outputs = layers.Dense(19021, activation='softmax', name='y')(x_pre)\n",
        "secondary_outputs = layers.Dense(\n",
        "    units=shape,\n",
        "    activation='tanh',\n",
        "    name='y_features'\n",
        "    )(x_pre)\n",
        "\n",
        "model_for_training= tf.keras.Model(\n",
        "    inputs=[id_inputs, x_reseen_inputs, x_percentage_seen_inputs,x_simils_inputs,x_simils_feats_inputs,item_related_inputs, static_inputs],\n",
        "    outputs=[outputs, secondary_outputs],\n",
        "    name=\"encodermodel_training\"\n",
        "    )\n",
        "\n",
        "\n",
        "model_for_training.compile(\n",
        "    optimizer=\"adamax\",\n",
        "    loss=[\n",
        "          lambda y_true, y_pred : tf.keras.losses.categorical_crossentropy(\n",
        "              tf.squeeze(tf.one_hot(tf.cast(y_true, dtype=tf.int32), 19020+1, axis=-1)),\n",
        "              y_pred,\n",
        "              label_smoothing=0.7\n",
        "              ),\n",
        "          'mse'\n",
        "    ],\n",
        "    loss_weights=[1, 1],\n",
        "    metrics=[\n",
        "             [\n",
        "              mrr_top_at(at=100)\n",
        "             ],\n",
        "             []\n",
        "             ]\n",
        "    )\n",
        "\n",
        "\n"
      ]
    },
    {
      "cell_type": "markdown",
      "id": "03ec1b76",
      "metadata": {
        "id": "03ec1b76",
        "papermill": {
          "duration": 0.021265,
          "end_time": "2022-06-13T15:51:55.013902",
          "exception": false,
          "start_time": "2022-06-13T15:51:54.992637",
          "status": "completed"
        },
        "tags": []
      },
      "source": [
        "# Plot"
      ]
    },
    {
      "cell_type": "markdown",
      "id": "50634bf8",
      "metadata": {
        "id": "50634bf8",
        "papermill": {
          "duration": 0.021133,
          "end_time": "2022-06-13T15:51:55.056367",
          "exception": false,
          "start_time": "2022-06-13T15:51:55.035234",
          "status": "completed"
        },
        "tags": []
      },
      "source": [
        "#Training"
      ]
    },
    {
      "cell_type": "code",
      "execution_count": null,
      "id": "5deafa4d",
      "metadata": {
        "execution": {
          "iopub.execute_input": "2022-06-13T15:51:55.100603Z",
          "iopub.status.busy": "2022-06-13T15:51:55.099842Z",
          "iopub.status.idle": "2022-06-13T16:06:44.461121Z",
          "shell.execute_reply": "2022-06-13T16:06:44.460195Z"
        },
        "id": "5deafa4d",
        "outputId": "557fb36b-ba74-40ce-cd23-32528b1a0ff9",
        "papermill": {
          "duration": 889.396889,
          "end_time": "2022-06-13T16:06:44.474620",
          "exception": false,
          "start_time": "2022-06-13T15:51:55.077731",
          "status": "completed"
        },
        "tags": [],
        "colab": {
          "base_uri": "https://localhost:8080/"
        }
      },
      "outputs": [
        {
          "output_type": "stream",
          "name": "stdout",
          "text": [
            "Epoch 1/100\n",
            "3125/3125 [==============================] - 149s 44ms/step - loss: 9.4746 - y_loss: 9.4467 - y_features_loss: 0.0279 - y_mrr_top: 0.0876 - val_loss: 9.3034 - val_y_loss: 9.2929 - val_y_features_loss: 0.0105 - val_y_mrr_top: 0.1299\n",
            "Epoch 2/100\n",
            "3125/3125 [==============================] - 86s 26ms/step - loss: 9.2527 - y_loss: 9.2421 - y_features_loss: 0.0107 - y_mrr_top: 0.1476 - val_loss: 9.2273 - val_y_loss: 9.2167 - val_y_features_loss: 0.0105 - val_y_mrr_top: 0.1595\n",
            "Epoch 3/100\n",
            "3125/3125 [==============================] - 86s 26ms/step - loss: 9.1763 - y_loss: 9.1656 - y_features_loss: 0.0107 - y_mrr_top: 0.1743 - val_loss: 9.1978 - val_y_loss: 9.1873 - val_y_features_loss: 0.0105 - val_y_mrr_top: 0.1730\n",
            "Epoch 4/100\n",
            "3125/3125 [==============================] - 86s 26ms/step - loss: 9.1276 - y_loss: 9.1169 - y_features_loss: 0.0107 - y_mrr_top: 0.1922 - val_loss: 9.1829 - val_y_loss: 9.1724 - val_y_features_loss: 0.0105 - val_y_mrr_top: 0.1817\n",
            "Epoch 5/100\n",
            "3125/3125 [==============================] - 86s 26ms/step - loss: 9.0913 - y_loss: 9.0806 - y_features_loss: 0.0107 - y_mrr_top: 0.2059 - val_loss: 9.1768 - val_y_loss: 9.1661 - val_y_features_loss: 0.0106 - val_y_mrr_top: 0.1871\n",
            "Epoch 6/100\n",
            "3125/3125 [==============================] - 86s 26ms/step - loss: 9.0617 - y_loss: 9.0510 - y_features_loss: 0.0107 - y_mrr_top: 0.2175 - val_loss: 9.1751 - val_y_loss: 9.1645 - val_y_features_loss: 0.0106 - val_y_mrr_top: 0.1908\n",
            "Epoch 7/100\n",
            "3125/3125 [==============================] - 86s 26ms/step - loss: 9.0370 - y_loss: 9.0263 - y_features_loss: 0.0107 - y_mrr_top: 0.2276 - val_loss: 9.1755 - val_y_loss: 9.1648 - val_y_features_loss: 0.0107 - val_y_mrr_top: 0.1932\n",
            "Epoch 8/100\n",
            "3125/3125 [==============================] - 86s 26ms/step - loss: 9.0154 - y_loss: 9.0047 - y_features_loss: 0.0107 - y_mrr_top: 0.2363 - val_loss: 9.1773 - val_y_loss: 9.1667 - val_y_features_loss: 0.0107 - val_y_mrr_top: 0.1947\n",
            "Epoch 9/100\n",
            "3125/3125 [==============================] - 86s 26ms/step - loss: 8.9962 - y_loss: 8.9855 - y_features_loss: 0.0107 - y_mrr_top: 0.2449 - val_loss: 9.1801 - val_y_loss: 9.1695 - val_y_features_loss: 0.0106 - val_y_mrr_top: 0.1963\n",
            "Epoch 10/100\n",
            "3125/3125 [==============================] - 86s 26ms/step - loss: 8.9788 - y_loss: 8.9681 - y_features_loss: 0.0107 - y_mrr_top: 0.2530 - val_loss: 9.1846 - val_y_loss: 9.1739 - val_y_features_loss: 0.0107 - val_y_mrr_top: 0.1965\n",
            "Epoch 11/100\n",
            "3125/3125 [==============================] - 86s 26ms/step - loss: 8.9630 - y_loss: 8.9523 - y_features_loss: 0.0107 - y_mrr_top: 0.2604 - val_loss: 9.1897 - val_y_loss: 9.1791 - val_y_features_loss: 0.0107 - val_y_mrr_top: 0.1967\n",
            "Epoch 12/100\n",
            "3125/3125 [==============================] - 86s 26ms/step - loss: 8.9486 - y_loss: 8.9379 - y_features_loss: 0.0107 - y_mrr_top: 0.2675 - val_loss: 9.1939 - val_y_loss: 9.1832 - val_y_features_loss: 0.0106 - val_y_mrr_top: 0.1972\n",
            "Epoch 13/100\n",
            "3125/3125 [==============================] - 86s 26ms/step - loss: 8.9354 - y_loss: 8.9247 - y_features_loss: 0.0107 - y_mrr_top: 0.2744 - val_loss: 9.1989 - val_y_loss: 9.1883 - val_y_features_loss: 0.0106 - val_y_mrr_top: 0.1975\n",
            "Epoch 14/100\n",
            "3125/3125 [==============================] - 86s 26ms/step - loss: 8.9231 - y_loss: 8.9123 - y_features_loss: 0.0107 - y_mrr_top: 0.2809 - val_loss: 9.2043 - val_y_loss: 9.1937 - val_y_features_loss: 0.0106 - val_y_mrr_top: 0.1975\n"
          ]
        },
        {
          "output_type": "execute_result",
          "data": {
            "text/plain": [
              "<keras.src.callbacks.History at 0x7b4e65c39de0>"
            ]
          },
          "metadata": {},
          "execution_count": 31
        }
      ],
      "source": [
        "gc.collect()\n",
        "if just_checking_integrity:\n",
        "    n_epochs=2\n",
        "else:\n",
        "    n_epochs=100\n",
        "monitor='val_y_mrr_top'\n",
        "model_for_training.fit(\n",
        "    train_set_complete,\n",
        "    validation_data=test_set_complete,\n",
        "    epochs=n_epochs,\n",
        "    callbacks=[\n",
        "               tf.keras.callbacks.EarlyStopping(\n",
        "                  monitor=monitor,\n",
        "                  mode='max',\n",
        "                  patience=1,\n",
        "                  min_delta=0.0001,\n",
        "                  restore_best_weights=True,\n",
        "              ),\n",
        "         ]\n",
        "    )"
      ]
    },
    {
      "cell_type": "markdown",
      "id": "606adf29",
      "metadata": {
        "id": "606adf29",
        "papermill": {
          "duration": 0.022568,
          "end_time": "2022-06-13T16:06:44.519940",
          "exception": false,
          "start_time": "2022-06-13T16:06:44.497372",
          "status": "completed"
        },
        "tags": []
      },
      "source": [
        "# Prepare test predictions Leaderboard\n",
        "\n"
      ]
    },
    {
      "cell_type": "code",
      "execution_count": null,
      "id": "c6a7d62e",
      "metadata": {
        "execution": {
          "iopub.execute_input": "2022-06-13T16:06:44.566987Z",
          "iopub.status.busy": "2022-06-13T16:06:44.566660Z",
          "iopub.status.idle": "2022-06-13T16:06:44.589899Z",
          "shell.execute_reply": "2022-06-13T16:06:44.589161Z"
        },
        "papermill": {
          "duration": 0.048993,
          "end_time": "2022-06-13T16:06:44.591607",
          "exception": false,
          "start_time": "2022-06-13T16:06:44.542614",
          "status": "completed"
        },
        "tags": [],
        "id": "c6a7d62e"
      },
      "outputs": [],
      "source": [
        "del train_set_complete\n",
        "del test_set_complete"
      ]
    },
    {
      "cell_type": "code",
      "execution_count": null,
      "id": "e392d3ac",
      "metadata": {
        "execution": {
          "iopub.execute_input": "2022-06-13T16:06:45.230061Z",
          "iopub.status.busy": "2022-06-13T16:06:45.229746Z",
          "iopub.status.idle": "2022-06-13T16:06:47.447985Z",
          "shell.execute_reply": "2022-06-13T16:06:47.447136Z"
        },
        "id": "e392d3ac",
        "outputId": "2360b337-23ea-46f1-cfb3-280fd712cd6c",
        "papermill": {
          "duration": 2.244434,
          "end_time": "2022-06-13T16:06:47.450210",
          "exception": false,
          "start_time": "2022-06-13T16:06:45.205776",
          "status": "completed"
        },
        "tags": [],
        "colab": {
          "base_uri": "https://localhost:8080/"
        }
      },
      "outputs": [
        {
          "output_type": "execute_result",
          "data": {
            "text/plain": [
              "1463"
            ]
          },
          "metadata": {},
          "execution_count": 33
        }
      ],
      "source": [
        "temp=pd.read_csv(\"./drive/MyDrive/Recommendation_system/dataset/processed_data/macro_feats_NN_leaderboard.csv\")\n",
        "temp[\"item_id\"]=temp[\"item_id\"].map(ast.literal_eval)\n",
        "temp[\"timedelta\"]=temp[\"timedelta\"].map(ast.literal_eval)\n",
        "\n",
        "test_leaderboard_sessions=temp\n",
        "gc.collect()"
      ]
    },
    {
      "cell_type": "code",
      "execution_count": null,
      "id": "927de505",
      "metadata": {
        "execution": {
          "iopub.execute_input": "2022-06-13T16:06:47.498838Z",
          "iopub.status.busy": "2022-06-13T16:06:47.498183Z",
          "iopub.status.idle": "2022-06-13T16:06:48.037874Z",
          "shell.execute_reply": "2022-06-13T16:06:48.037062Z"
        },
        "id": "927de505",
        "papermill": {
          "duration": 0.565867,
          "end_time": "2022-06-13T16:06:48.039989",
          "exception": false,
          "start_time": "2022-06-13T16:06:47.474122",
          "status": "completed"
        },
        "tags": []
      },
      "outputs": [],
      "source": [
        "\n",
        "x_reseen_test = tf.keras.preprocessing.sequence.pad_sequences(\n",
        "    test_leaderboard_sessions['item_id'].apply(is_reseen),\n",
        "    padding='post',\n",
        "    maxlen=100,\n",
        ")\n",
        "\n",
        "x_percentage_seen_test = tf.keras.preprocessing.sequence.pad_sequences(\n",
        "    test_leaderboard_sessions['item_id'].apply(percentage_seen),\n",
        "    padding='post',\n",
        "    maxlen=100,\n",
        ")"
      ]
    },
    {
      "cell_type": "code",
      "execution_count": null,
      "id": "4bbcca2a",
      "metadata": {
        "execution": {
          "iopub.execute_input": "2022-06-13T16:06:48.089197Z",
          "iopub.status.busy": "2022-06-13T16:06:48.088494Z",
          "iopub.status.idle": "2022-06-13T16:06:59.057112Z",
          "shell.execute_reply": "2022-06-13T16:06:59.056307Z"
        },
        "id": "4bbcca2a",
        "outputId": "b6b0a6d3-4e61-4c77-e538-77131aeef6d6",
        "papermill": {
          "duration": 10.995595,
          "end_time": "2022-06-13T16:06:59.059286",
          "exception": false,
          "start_time": "2022-06-13T16:06:48.063691",
          "status": "completed"
        },
        "tags": [],
        "colab": {
          "base_uri": "https://localhost:8080/",
          "height": 81,
          "referenced_widgets": [
            "0520f956327c4c658ebb7792600f147e",
            "198c090a4b6e47b7b0106206e47fcd35",
            "2686bfb81dd840f7ac6df5ebb382f86b",
            "ce2255b1e360448397a207282ef0941c",
            "f8d4d476c4e748e2b66a58f78b647fa3",
            "22e07854e2a84f57a39973db865fc7df",
            "934041dedf644d1b8187557bd29dfcec",
            "c7d3ec9bf0a94cb09ab45cc6b038e89b",
            "74a04307eb0349dc875e0a8a166a1dd6",
            "b37dc4278e704216b36cab4ab5950904",
            "e22eabf00c7c48a8b20a181ddd68372f",
            "21e0815fccac4e63821ec7e59cc3618f",
            "f6d67ffa5b5546aa90d9cac9d2a746bc",
            "f008409d9ae44e27bb3568929cf46f1c",
            "facb339b1a8648f9b903908c314edee4",
            "880a5b797b7840159a0f5b7faaae4946",
            "5d7e03b00cec44338487c5f3fc6b8f54",
            "abacdb14a1cf4c768d7fcdb0b96f85e8",
            "baed5501ab1146b3828e5cd89e0a8ba5",
            "d7c160b2a2134726852b714759eccfd8",
            "690882b647034e1fb2ed3d2a7219ee6a",
            "08b97849941346d3b28ba48f42402401"
          ]
        }
      },
      "outputs": [
        {
          "output_type": "display_data",
          "data": {
            "text/plain": [
              "  0%|          | 0/50000 [00:00<?, ?it/s]"
            ],
            "application/vnd.jupyter.widget-view+json": {
              "version_major": 2,
              "version_minor": 0,
              "model_id": "0520f956327c4c658ebb7792600f147e"
            }
          },
          "metadata": {}
        },
        {
          "output_type": "display_data",
          "data": {
            "text/plain": [
              "  0%|          | 0/50000 [00:00<?, ?it/s]"
            ],
            "application/vnd.jupyter.widget-view+json": {
              "version_major": 2,
              "version_minor": 0,
              "model_id": "21e0815fccac4e63821ec7e59cc3618f"
            }
          },
          "metadata": {}
        }
      ],
      "source": [
        "x_simils_test = tf.keras.preprocessing.sequence.pad_sequences(\n",
        "    test_leaderboard_sessions['item_id'].progress_apply(similarity_with_preceding\n",
        "    ),\n",
        "    padding='post',\n",
        "    maxlen=100,\n",
        "    dtype='float32',\n",
        ")\n",
        "x_simils_feats_test = tf.keras.preprocessing.sequence.pad_sequences(\n",
        "    test_leaderboard_sessions['item_id'].progress_apply(similarity_feats_with_preceding\n",
        "    ),\n",
        "    padding='post',\n",
        "    maxlen=100,\n",
        "    dtype='float32',\n",
        ")"
      ]
    },
    {
      "cell_type": "code",
      "execution_count": null,
      "id": "93cecdd9",
      "metadata": {
        "execution": {
          "iopub.execute_input": "2022-06-13T16:06:59.110460Z",
          "iopub.status.busy": "2022-06-13T16:06:59.110085Z",
          "iopub.status.idle": "2022-06-13T16:06:59.121248Z",
          "shell.execute_reply": "2022-06-13T16:06:59.120472Z"
        },
        "id": "93cecdd9",
        "papermill": {
          "duration": 0.038412,
          "end_time": "2022-06-13T16:06:59.123137",
          "exception": false,
          "start_time": "2022-06-13T16:06:59.084725",
          "status": "completed"
        },
        "tags": []
      },
      "outputs": [],
      "source": [
        "for col in ['length_of_session_seconds','avg_time_spent_per_item_seconds','variance_time_spent_per_item_seconds']:\n",
        "    test_leaderboard_sessions[col]=np.log10(test_leaderboard_sessions[col]+1)\n",
        "for col in ['n_seen_items','n_unique_items']:\n",
        "    test_leaderboard_sessions[col]=test_leaderboard_sessions[col]/100"
      ]
    },
    {
      "cell_type": "code",
      "execution_count": null,
      "id": "6d2fe969",
      "metadata": {
        "execution": {
          "iopub.execute_input": "2022-06-13T16:06:59.174306Z",
          "iopub.status.busy": "2022-06-13T16:06:59.173642Z",
          "iopub.status.idle": "2022-06-13T16:06:59.379504Z",
          "shell.execute_reply": "2022-06-13T16:06:59.378552Z"
        },
        "id": "6d2fe969",
        "papermill": {
          "duration": 0.233343,
          "end_time": "2022-06-13T16:06:59.381721",
          "exception": false,
          "start_time": "2022-06-13T16:06:59.148378",
          "status": "completed"
        },
        "tags": [],
        "colab": {
          "base_uri": "https://localhost:8080/"
        },
        "outputId": "f1c3a6ce-78b3-4691-8aff-5208463fa8cf"
      },
      "outputs": [
        {
          "output_type": "execute_result",
          "data": {
            "text/plain": [
              "array([3404,    0,    0,    0,    0,    0,    0,    0,    0,    0,    0,\n",
              "          0,    0,    0,    0,    0,    0,    0,    0,    0,    0,    0,\n",
              "          0,    0,    0,    0,    0,    0,    0,    0,    0,    0,    0,\n",
              "          0,    0,    0,    0,    0,    0,    0,    0,    0,    0,    0,\n",
              "          0,    0,    0,    0,    0,    0,    0,    0,    0,    0,    0,\n",
              "          0,    0,    0,    0,    0,    0,    0,    0,    0,    0,    0,\n",
              "          0,    0,    0,    0,    0,    0,    0,    0,    0,    0,    0,\n",
              "          0,    0,    0,    0,    0,    0,    0,    0,    0,    0,    0,\n",
              "          0,    0,    0,    0,    0,    0,    0,    0,    0,    0,    0,\n",
              "          0], dtype=int32)"
            ]
          },
          "metadata": {},
          "execution_count": 37
        }
      ],
      "source": [
        "x_test_leaderboard = tf.keras.preprocessing.sequence.pad_sequences(\n",
        "    test_leaderboard_sessions['item_id'],\n",
        "    padding='post',\n",
        "    maxlen=100\n",
        ")\n",
        "\n",
        "x_test_leaderboard[0]"
      ]
    },
    {
      "cell_type": "code",
      "execution_count": null,
      "id": "4a1ca7da",
      "metadata": {
        "execution": {
          "iopub.execute_input": "2022-06-13T16:06:59.433021Z",
          "iopub.status.busy": "2022-06-13T16:06:59.432227Z",
          "iopub.status.idle": "2022-06-13T16:06:59.642095Z",
          "shell.execute_reply": "2022-06-13T16:06:59.640926Z"
        },
        "id": "4a1ca7da",
        "papermill": {
          "duration": 0.238214,
          "end_time": "2022-06-13T16:06:59.644606",
          "exception": false,
          "start_time": "2022-06-13T16:06:59.406392",
          "status": "completed"
        },
        "tags": [],
        "colab": {
          "base_uri": "https://localhost:8080/"
        },
        "outputId": "5c05be7e-7e8d-4faa-a263-1d542eb1e5cc"
      },
      "outputs": [
        {
          "output_type": "stream",
          "name": "stdout",
          "text": [
            "Padding timedelta\n"
          ]
        }
      ],
      "source": [
        "for item_related_feature in item_related_features:\n",
        "  print('Padding {}'.format(item_related_feature))\n",
        "  x_test_item_related = tf.keras.preprocessing.sequence.pad_sequences(\n",
        "      test_leaderboard_sessions[item_related_feature],\n",
        "      dtype='float16',\n",
        "      maxlen=100,\n",
        "      padding='post'\n",
        "    )"
      ]
    },
    {
      "cell_type": "code",
      "execution_count": null,
      "id": "ae52b0f1",
      "metadata": {
        "execution": {
          "iopub.execute_input": "2022-06-13T16:06:59.698055Z",
          "iopub.status.busy": "2022-06-13T16:06:59.697292Z",
          "iopub.status.idle": "2022-06-13T16:06:59.701666Z",
          "shell.execute_reply": "2022-06-13T16:06:59.700865Z"
        },
        "id": "ae52b0f1",
        "papermill": {
          "duration": 0.033071,
          "end_time": "2022-06-13T16:06:59.703533",
          "exception": false,
          "start_time": "2022-06-13T16:06:59.670462",
          "status": "completed"
        },
        "tags": []
      },
      "outputs": [],
      "source": [
        "if len(item_related_features) == 1:\n",
        "    x_test_item_related = np.expand_dims(x_test_item_related, axis=-1)"
      ]
    },
    {
      "cell_type": "code",
      "execution_count": null,
      "id": "435fc2bf",
      "metadata": {
        "execution": {
          "iopub.execute_input": "2022-06-13T16:06:59.754252Z",
          "iopub.status.busy": "2022-06-13T16:06:59.753605Z",
          "iopub.status.idle": "2022-06-13T16:06:59.840357Z",
          "shell.execute_reply": "2022-06-13T16:06:59.839546Z"
        },
        "id": "435fc2bf",
        "outputId": "a0579a2a-152e-4206-8c22-092be18e18e6",
        "papermill": {
          "duration": 0.114226,
          "end_time": "2022-06-13T16:06:59.842201",
          "exception": false,
          "start_time": "2022-06-13T16:06:59.727975",
          "status": "completed"
        },
        "tags": [],
        "colab": {
          "base_uri": "https://localhost:8080/"
        }
      },
      "outputs": [
        {
          "output_type": "execute_result",
          "data": {
            "text/plain": [
              "(TensorSpec(shape=(None,), dtype=tf.int64, name=None),\n",
              " (TensorSpec(shape=(None, 100), dtype=tf.int32, name=None),\n",
              "  TensorSpec(shape=(None, 100), dtype=tf.float64, name=None),\n",
              "  TensorSpec(shape=(None, 100), dtype=tf.int32, name=None),\n",
              "  TensorSpec(shape=(None, 100), dtype=tf.float32, name=None),\n",
              "  TensorSpec(shape=(None, 100), dtype=tf.float32, name=None),\n",
              "  TensorSpec(shape=(None, 100, 1), dtype=tf.float16, name=None),\n",
              "  TensorSpec(shape=(None, 28), dtype=tf.float64, name=None)))"
            ]
          },
          "metadata": {},
          "execution_count": 40
        }
      ],
      "source": [
        "submission_set = tf.data.Dataset.from_tensor_slices(\n",
        "    (\n",
        "        test_leaderboard_sessions['session_id'],\n",
        "     (\n",
        "        x_test_leaderboard,\n",
        "        x_reseen_test/100,\n",
        "        x_percentage_seen_test,\n",
        "        x_simils_test,\n",
        "        x_simils_feats_test,\n",
        "        x_test_item_related,\n",
        "        test_leaderboard_sessions[static_features].to_numpy()\n",
        "     )\n",
        "    )\n",
        ").batch(512)\n",
        "\n",
        "submission_set.element_spec"
      ]
    },
    {
      "cell_type": "code",
      "execution_count": null,
      "id": "b5127be2",
      "metadata": {
        "execution": {
          "iopub.execute_input": "2022-06-13T16:06:59.895073Z",
          "iopub.status.busy": "2022-06-13T16:06:59.894724Z",
          "iopub.status.idle": "2022-06-13T16:06:59.904723Z",
          "shell.execute_reply": "2022-06-13T16:06:59.903870Z"
        },
        "id": "b5127be2",
        "outputId": "3122273e-d05e-41fd-a2c3-cde5cf9b9dba",
        "papermill": {
          "duration": 0.037788,
          "end_time": "2022-06-13T16:06:59.906596",
          "exception": false,
          "start_time": "2022-06-13T16:06:59.868808",
          "status": "completed"
        },
        "tags": [],
        "colab": {
          "base_uri": "https://localhost:8080/",
          "height": 53
        }
      },
      "outputs": [
        {
          "output_type": "execute_result",
          "data": {
            "text/plain": [
              "Empty DataFrame\n",
              "Columns: [session_id, code, score, rank]\n",
              "Index: []"
            ],
            "text/html": [
              "\n",
              "  <div id=\"df-0718c850-0d24-48da-8ce2-f39e8e1931f9\" class=\"colab-df-container\">\n",
              "    <div>\n",
              "<style scoped>\n",
              "    .dataframe tbody tr th:only-of-type {\n",
              "        vertical-align: middle;\n",
              "    }\n",
              "\n",
              "    .dataframe tbody tr th {\n",
              "        vertical-align: top;\n",
              "    }\n",
              "\n",
              "    .dataframe thead th {\n",
              "        text-align: right;\n",
              "    }\n",
              "</style>\n",
              "<table border=\"1\" class=\"dataframe\">\n",
              "  <thead>\n",
              "    <tr style=\"text-align: right;\">\n",
              "      <th></th>\n",
              "      <th>session_id</th>\n",
              "      <th>code</th>\n",
              "      <th>score</th>\n",
              "      <th>rank</th>\n",
              "    </tr>\n",
              "  </thead>\n",
              "  <tbody>\n",
              "  </tbody>\n",
              "</table>\n",
              "</div>\n",
              "    <div class=\"colab-df-buttons\">\n",
              "\n",
              "  <div class=\"colab-df-container\">\n",
              "    <button class=\"colab-df-convert\" onclick=\"convertToInteractive('df-0718c850-0d24-48da-8ce2-f39e8e1931f9')\"\n",
              "            title=\"Convert this dataframe to an interactive table.\"\n",
              "            style=\"display:none;\">\n",
              "\n",
              "  <svg xmlns=\"http://www.w3.org/2000/svg\" height=\"24px\" viewBox=\"0 -960 960 960\">\n",
              "    <path d=\"M120-120v-720h720v720H120Zm60-500h600v-160H180v160Zm220 220h160v-160H400v160Zm0 220h160v-160H400v160ZM180-400h160v-160H180v160Zm440 0h160v-160H620v160ZM180-180h160v-160H180v160Zm440 0h160v-160H620v160Z\"/>\n",
              "  </svg>\n",
              "    </button>\n",
              "\n",
              "  <style>\n",
              "    .colab-df-container {\n",
              "      display:flex;\n",
              "      gap: 12px;\n",
              "    }\n",
              "\n",
              "    .colab-df-convert {\n",
              "      background-color: #E8F0FE;\n",
              "      border: none;\n",
              "      border-radius: 50%;\n",
              "      cursor: pointer;\n",
              "      display: none;\n",
              "      fill: #1967D2;\n",
              "      height: 32px;\n",
              "      padding: 0 0 0 0;\n",
              "      width: 32px;\n",
              "    }\n",
              "\n",
              "    .colab-df-convert:hover {\n",
              "      background-color: #E2EBFA;\n",
              "      box-shadow: 0px 1px 2px rgba(60, 64, 67, 0.3), 0px 1px 3px 1px rgba(60, 64, 67, 0.15);\n",
              "      fill: #174EA6;\n",
              "    }\n",
              "\n",
              "    .colab-df-buttons div {\n",
              "      margin-bottom: 4px;\n",
              "    }\n",
              "\n",
              "    [theme=dark] .colab-df-convert {\n",
              "      background-color: #3B4455;\n",
              "      fill: #D2E3FC;\n",
              "    }\n",
              "\n",
              "    [theme=dark] .colab-df-convert:hover {\n",
              "      background-color: #434B5C;\n",
              "      box-shadow: 0px 1px 3px 1px rgba(0, 0, 0, 0.15);\n",
              "      filter: drop-shadow(0px 1px 2px rgba(0, 0, 0, 0.3));\n",
              "      fill: #FFFFFF;\n",
              "    }\n",
              "  </style>\n",
              "\n",
              "    <script>\n",
              "      const buttonEl =\n",
              "        document.querySelector('#df-0718c850-0d24-48da-8ce2-f39e8e1931f9 button.colab-df-convert');\n",
              "      buttonEl.style.display =\n",
              "        google.colab.kernel.accessAllowed ? 'block' : 'none';\n",
              "\n",
              "      async function convertToInteractive(key) {\n",
              "        const element = document.querySelector('#df-0718c850-0d24-48da-8ce2-f39e8e1931f9');\n",
              "        const dataTable =\n",
              "          await google.colab.kernel.invokeFunction('convertToInteractive',\n",
              "                                                    [key], {});\n",
              "        if (!dataTable) return;\n",
              "\n",
              "        const docLinkHtml = 'Like what you see? Visit the ' +\n",
              "          '<a target=\"_blank\" href=https://colab.research.google.com/notebooks/data_table.ipynb>data table notebook</a>'\n",
              "          + ' to learn more about interactive tables.';\n",
              "        element.innerHTML = '';\n",
              "        dataTable['output_type'] = 'display_data';\n",
              "        await google.colab.output.renderOutput(dataTable, element);\n",
              "        const docLink = document.createElement('div');\n",
              "        docLink.innerHTML = docLinkHtml;\n",
              "        element.appendChild(docLink);\n",
              "      }\n",
              "    </script>\n",
              "  </div>\n",
              "\n",
              "\n",
              "    </div>\n",
              "  </div>\n"
            ],
            "application/vnd.google.colaboratory.intrinsic+json": {
              "type": "dataframe",
              "variable_name": "submission_df",
              "summary": "{\n  \"name\": \"submission_df\",\n  \"rows\": 0,\n  \"fields\": [\n    {\n      \"column\": \"session_id\",\n      \"properties\": {\n        \"dtype\": \"number\",\n        \"std\": null,\n        \"min\": null,\n        \"max\": null,\n        \"num_unique_values\": 0,\n        \"samples\": [],\n        \"semantic_type\": \"\",\n        \"description\": \"\"\n      }\n    },\n    {\n      \"column\": \"code\",\n      \"properties\": {\n        \"dtype\": \"number\",\n        \"std\": null,\n        \"min\": null,\n        \"max\": null,\n        \"num_unique_values\": 0,\n        \"samples\": [],\n        \"semantic_type\": \"\",\n        \"description\": \"\"\n      }\n    },\n    {\n      \"column\": \"score\",\n      \"properties\": {\n        \"dtype\": \"number\",\n        \"std\": null,\n        \"min\": null,\n        \"max\": null,\n        \"num_unique_values\": 0,\n        \"samples\": [],\n        \"semantic_type\": \"\",\n        \"description\": \"\"\n      }\n    },\n    {\n      \"column\": \"rank\",\n      \"properties\": {\n        \"dtype\": \"number\",\n        \"std\": null,\n        \"min\": null,\n        \"max\": null,\n        \"num_unique_values\": 0,\n        \"samples\": [],\n        \"semantic_type\": \"\",\n        \"description\": \"\"\n      }\n    }\n  ]\n}"
            }
          },
          "metadata": {},
          "execution_count": 41
        }
      ],
      "source": [
        "submission_df = pd.DataFrame(\n",
        "    {\n",
        "        'session_id':[],\n",
        "        'code':[],\n",
        "        'score':[],\n",
        "        'rank':[]\n",
        "    }\n",
        ")\n",
        "\n",
        "submission_df.head()"
      ]
    },
    {
      "cell_type": "code",
      "execution_count": null,
      "id": "31d538cf",
      "metadata": {
        "execution": {
          "iopub.execute_input": "2022-06-13T16:06:59.960033Z",
          "iopub.status.busy": "2022-06-13T16:06:59.959685Z",
          "iopub.status.idle": "2022-06-13T16:06:59.964819Z",
          "shell.execute_reply": "2022-06-13T16:06:59.964065Z"
        },
        "id": "31d538cf",
        "papermill": {
          "duration": 0.032551,
          "end_time": "2022-06-13T16:06:59.966452",
          "exception": false,
          "start_time": "2022-06-13T16:06:59.933901",
          "status": "completed"
        },
        "tags": []
      },
      "outputs": [],
      "source": [
        "candidates=np.array([i+1 for i in range(4990)]) # this is for the test month"
      ]
    },
    {
      "cell_type": "code",
      "execution_count": null,
      "id": "85266a92",
      "metadata": {
        "execution": {
          "iopub.execute_input": "2022-06-13T16:07:00.018957Z",
          "iopub.status.busy": "2022-06-13T16:07:00.018430Z",
          "iopub.status.idle": "2022-06-13T16:07:18.037881Z",
          "shell.execute_reply": "2022-06-13T16:07:18.037110Z"
        },
        "id": "85266a92",
        "outputId": "edbb807a-1208-4bf4-fbeb-0fcfaac76643",
        "papermill": {
          "duration": 18.04733,
          "end_time": "2022-06-13T16:07:18.039739",
          "exception": false,
          "start_time": "2022-06-13T16:06:59.992409",
          "status": "completed"
        },
        "tags": [],
        "colab": {
          "base_uri": "https://localhost:8080/",
          "height": 206
        }
      },
      "outputs": [
        {
          "output_type": "execute_result",
          "data": {
            "text/plain": [
              "   session_id                                               code  \\\n",
              "0        26.0  (3646, 606, 3696, 3894, 3212, 1205, 4685, 814,...   \n",
              "1       200.0  (772, 1827, 3400, 270, 3656, 3424, 887, 4878, ...   \n",
              "2       205.0  (3398, 4986, 1181, 2289, 1484, 3842, 2235, 241...   \n",
              "3       495.0  (1643, 3550, 1609, 698, 2328, 1139, 615, 1813,...   \n",
              "4       521.0  (143, 1609, 3705, 4819, 3586, 1768, 7, 4083, 1...   \n",
              "\n",
              "                                               score  \\\n",
              "0  (0.028522395, 0.014148832, 0.008895059, 0.0071...   \n",
              "1  (0.105735235, 0.056163594, 0.027164249, 0.0132...   \n",
              "2  (0.32965636, 0.06859469, 0.0059515415, 0.00384...   \n",
              "3  (0.0046814717, 0.0040891054, 0.003046681, 0.00...   \n",
              "4  (0.011551905, 0.0043045296, 0.00345005, 0.0029...   \n",
              "\n",
              "                                                rank  \n",
              "0  (1, 2, 3, 4, 5, 6, 7, 8, 9, 10, 11, 12, 13, 14...  \n",
              "1  (1, 2, 3, 4, 5, 6, 7, 8, 9, 10, 11, 12, 13, 14...  \n",
              "2  (1, 2, 3, 4, 5, 6, 7, 8, 9, 10, 11, 12, 13, 14...  \n",
              "3  (1, 2, 3, 4, 5, 6, 7, 8, 9, 10, 11, 12, 13, 14...  \n",
              "4  (1, 2, 3, 4, 5, 6, 7, 8, 9, 10, 11, 12, 13, 14...  "
            ],
            "text/html": [
              "\n",
              "  <div id=\"df-47b91b2b-8c35-4cb1-b8c2-82f6a66073ce\" class=\"colab-df-container\">\n",
              "    <div>\n",
              "<style scoped>\n",
              "    .dataframe tbody tr th:only-of-type {\n",
              "        vertical-align: middle;\n",
              "    }\n",
              "\n",
              "    .dataframe tbody tr th {\n",
              "        vertical-align: top;\n",
              "    }\n",
              "\n",
              "    .dataframe thead th {\n",
              "        text-align: right;\n",
              "    }\n",
              "</style>\n",
              "<table border=\"1\" class=\"dataframe\">\n",
              "  <thead>\n",
              "    <tr style=\"text-align: right;\">\n",
              "      <th></th>\n",
              "      <th>session_id</th>\n",
              "      <th>code</th>\n",
              "      <th>score</th>\n",
              "      <th>rank</th>\n",
              "    </tr>\n",
              "  </thead>\n",
              "  <tbody>\n",
              "    <tr>\n",
              "      <th>0</th>\n",
              "      <td>26.0</td>\n",
              "      <td>(3646, 606, 3696, 3894, 3212, 1205, 4685, 814,...</td>\n",
              "      <td>(0.028522395, 0.014148832, 0.008895059, 0.0071...</td>\n",
              "      <td>(1, 2, 3, 4, 5, 6, 7, 8, 9, 10, 11, 12, 13, 14...</td>\n",
              "    </tr>\n",
              "    <tr>\n",
              "      <th>1</th>\n",
              "      <td>200.0</td>\n",
              "      <td>(772, 1827, 3400, 270, 3656, 3424, 887, 4878, ...</td>\n",
              "      <td>(0.105735235, 0.056163594, 0.027164249, 0.0132...</td>\n",
              "      <td>(1, 2, 3, 4, 5, 6, 7, 8, 9, 10, 11, 12, 13, 14...</td>\n",
              "    </tr>\n",
              "    <tr>\n",
              "      <th>2</th>\n",
              "      <td>205.0</td>\n",
              "      <td>(3398, 4986, 1181, 2289, 1484, 3842, 2235, 241...</td>\n",
              "      <td>(0.32965636, 0.06859469, 0.0059515415, 0.00384...</td>\n",
              "      <td>(1, 2, 3, 4, 5, 6, 7, 8, 9, 10, 11, 12, 13, 14...</td>\n",
              "    </tr>\n",
              "    <tr>\n",
              "      <th>3</th>\n",
              "      <td>495.0</td>\n",
              "      <td>(1643, 3550, 1609, 698, 2328, 1139, 615, 1813,...</td>\n",
              "      <td>(0.0046814717, 0.0040891054, 0.003046681, 0.00...</td>\n",
              "      <td>(1, 2, 3, 4, 5, 6, 7, 8, 9, 10, 11, 12, 13, 14...</td>\n",
              "    </tr>\n",
              "    <tr>\n",
              "      <th>4</th>\n",
              "      <td>521.0</td>\n",
              "      <td>(143, 1609, 3705, 4819, 3586, 1768, 7, 4083, 1...</td>\n",
              "      <td>(0.011551905, 0.0043045296, 0.00345005, 0.0029...</td>\n",
              "      <td>(1, 2, 3, 4, 5, 6, 7, 8, 9, 10, 11, 12, 13, 14...</td>\n",
              "    </tr>\n",
              "  </tbody>\n",
              "</table>\n",
              "</div>\n",
              "    <div class=\"colab-df-buttons\">\n",
              "\n",
              "  <div class=\"colab-df-container\">\n",
              "    <button class=\"colab-df-convert\" onclick=\"convertToInteractive('df-47b91b2b-8c35-4cb1-b8c2-82f6a66073ce')\"\n",
              "            title=\"Convert this dataframe to an interactive table.\"\n",
              "            style=\"display:none;\">\n",
              "\n",
              "  <svg xmlns=\"http://www.w3.org/2000/svg\" height=\"24px\" viewBox=\"0 -960 960 960\">\n",
              "    <path d=\"M120-120v-720h720v720H120Zm60-500h600v-160H180v160Zm220 220h160v-160H400v160Zm0 220h160v-160H400v160ZM180-400h160v-160H180v160Zm440 0h160v-160H620v160ZM180-180h160v-160H180v160Zm440 0h160v-160H620v160Z\"/>\n",
              "  </svg>\n",
              "    </button>\n",
              "\n",
              "  <style>\n",
              "    .colab-df-container {\n",
              "      display:flex;\n",
              "      gap: 12px;\n",
              "    }\n",
              "\n",
              "    .colab-df-convert {\n",
              "      background-color: #E8F0FE;\n",
              "      border: none;\n",
              "      border-radius: 50%;\n",
              "      cursor: pointer;\n",
              "      display: none;\n",
              "      fill: #1967D2;\n",
              "      height: 32px;\n",
              "      padding: 0 0 0 0;\n",
              "      width: 32px;\n",
              "    }\n",
              "\n",
              "    .colab-df-convert:hover {\n",
              "      background-color: #E2EBFA;\n",
              "      box-shadow: 0px 1px 2px rgba(60, 64, 67, 0.3), 0px 1px 3px 1px rgba(60, 64, 67, 0.15);\n",
              "      fill: #174EA6;\n",
              "    }\n",
              "\n",
              "    .colab-df-buttons div {\n",
              "      margin-bottom: 4px;\n",
              "    }\n",
              "\n",
              "    [theme=dark] .colab-df-convert {\n",
              "      background-color: #3B4455;\n",
              "      fill: #D2E3FC;\n",
              "    }\n",
              "\n",
              "    [theme=dark] .colab-df-convert:hover {\n",
              "      background-color: #434B5C;\n",
              "      box-shadow: 0px 1px 3px 1px rgba(0, 0, 0, 0.15);\n",
              "      filter: drop-shadow(0px 1px 2px rgba(0, 0, 0, 0.3));\n",
              "      fill: #FFFFFF;\n",
              "    }\n",
              "  </style>\n",
              "\n",
              "    <script>\n",
              "      const buttonEl =\n",
              "        document.querySelector('#df-47b91b2b-8c35-4cb1-b8c2-82f6a66073ce button.colab-df-convert');\n",
              "      buttonEl.style.display =\n",
              "        google.colab.kernel.accessAllowed ? 'block' : 'none';\n",
              "\n",
              "      async function convertToInteractive(key) {\n",
              "        const element = document.querySelector('#df-47b91b2b-8c35-4cb1-b8c2-82f6a66073ce');\n",
              "        const dataTable =\n",
              "          await google.colab.kernel.invokeFunction('convertToInteractive',\n",
              "                                                    [key], {});\n",
              "        if (!dataTable) return;\n",
              "\n",
              "        const docLinkHtml = 'Like what you see? Visit the ' +\n",
              "          '<a target=\"_blank\" href=https://colab.research.google.com/notebooks/data_table.ipynb>data table notebook</a>'\n",
              "          + ' to learn more about interactive tables.';\n",
              "        element.innerHTML = '';\n",
              "        dataTable['output_type'] = 'display_data';\n",
              "        await google.colab.output.renderOutput(dataTable, element);\n",
              "        const docLink = document.createElement('div');\n",
              "        docLink.innerHTML = docLinkHtml;\n",
              "        element.appendChild(docLink);\n",
              "      }\n",
              "    </script>\n",
              "  </div>\n",
              "\n",
              "\n",
              "<div id=\"df-965ab861-fb0a-438e-93a3-fb6400cb3b2b\">\n",
              "  <button class=\"colab-df-quickchart\" onclick=\"quickchart('df-965ab861-fb0a-438e-93a3-fb6400cb3b2b')\"\n",
              "            title=\"Suggest charts\"\n",
              "            style=\"display:none;\">\n",
              "\n",
              "<svg xmlns=\"http://www.w3.org/2000/svg\" height=\"24px\"viewBox=\"0 0 24 24\"\n",
              "     width=\"24px\">\n",
              "    <g>\n",
              "        <path d=\"M19 3H5c-1.1 0-2 .9-2 2v14c0 1.1.9 2 2 2h14c1.1 0 2-.9 2-2V5c0-1.1-.9-2-2-2zM9 17H7v-7h2v7zm4 0h-2V7h2v10zm4 0h-2v-4h2v4z\"/>\n",
              "    </g>\n",
              "</svg>\n",
              "  </button>\n",
              "\n",
              "<style>\n",
              "  .colab-df-quickchart {\n",
              "      --bg-color: #E8F0FE;\n",
              "      --fill-color: #1967D2;\n",
              "      --hover-bg-color: #E2EBFA;\n",
              "      --hover-fill-color: #174EA6;\n",
              "      --disabled-fill-color: #AAA;\n",
              "      --disabled-bg-color: #DDD;\n",
              "  }\n",
              "\n",
              "  [theme=dark] .colab-df-quickchart {\n",
              "      --bg-color: #3B4455;\n",
              "      --fill-color: #D2E3FC;\n",
              "      --hover-bg-color: #434B5C;\n",
              "      --hover-fill-color: #FFFFFF;\n",
              "      --disabled-bg-color: #3B4455;\n",
              "      --disabled-fill-color: #666;\n",
              "  }\n",
              "\n",
              "  .colab-df-quickchart {\n",
              "    background-color: var(--bg-color);\n",
              "    border: none;\n",
              "    border-radius: 50%;\n",
              "    cursor: pointer;\n",
              "    display: none;\n",
              "    fill: var(--fill-color);\n",
              "    height: 32px;\n",
              "    padding: 0;\n",
              "    width: 32px;\n",
              "  }\n",
              "\n",
              "  .colab-df-quickchart:hover {\n",
              "    background-color: var(--hover-bg-color);\n",
              "    box-shadow: 0 1px 2px rgba(60, 64, 67, 0.3), 0 1px 3px 1px rgba(60, 64, 67, 0.15);\n",
              "    fill: var(--button-hover-fill-color);\n",
              "  }\n",
              "\n",
              "  .colab-df-quickchart-complete:disabled,\n",
              "  .colab-df-quickchart-complete:disabled:hover {\n",
              "    background-color: var(--disabled-bg-color);\n",
              "    fill: var(--disabled-fill-color);\n",
              "    box-shadow: none;\n",
              "  }\n",
              "\n",
              "  .colab-df-spinner {\n",
              "    border: 2px solid var(--fill-color);\n",
              "    border-color: transparent;\n",
              "    border-bottom-color: var(--fill-color);\n",
              "    animation:\n",
              "      spin 1s steps(1) infinite;\n",
              "  }\n",
              "\n",
              "  @keyframes spin {\n",
              "    0% {\n",
              "      border-color: transparent;\n",
              "      border-bottom-color: var(--fill-color);\n",
              "      border-left-color: var(--fill-color);\n",
              "    }\n",
              "    20% {\n",
              "      border-color: transparent;\n",
              "      border-left-color: var(--fill-color);\n",
              "      border-top-color: var(--fill-color);\n",
              "    }\n",
              "    30% {\n",
              "      border-color: transparent;\n",
              "      border-left-color: var(--fill-color);\n",
              "      border-top-color: var(--fill-color);\n",
              "      border-right-color: var(--fill-color);\n",
              "    }\n",
              "    40% {\n",
              "      border-color: transparent;\n",
              "      border-right-color: var(--fill-color);\n",
              "      border-top-color: var(--fill-color);\n",
              "    }\n",
              "    60% {\n",
              "      border-color: transparent;\n",
              "      border-right-color: var(--fill-color);\n",
              "    }\n",
              "    80% {\n",
              "      border-color: transparent;\n",
              "      border-right-color: var(--fill-color);\n",
              "      border-bottom-color: var(--fill-color);\n",
              "    }\n",
              "    90% {\n",
              "      border-color: transparent;\n",
              "      border-bottom-color: var(--fill-color);\n",
              "    }\n",
              "  }\n",
              "</style>\n",
              "\n",
              "  <script>\n",
              "    async function quickchart(key) {\n",
              "      const quickchartButtonEl =\n",
              "        document.querySelector('#' + key + ' button');\n",
              "      quickchartButtonEl.disabled = true;  // To prevent multiple clicks.\n",
              "      quickchartButtonEl.classList.add('colab-df-spinner');\n",
              "      try {\n",
              "        const charts = await google.colab.kernel.invokeFunction(\n",
              "            'suggestCharts', [key], {});\n",
              "      } catch (error) {\n",
              "        console.error('Error during call to suggestCharts:', error);\n",
              "      }\n",
              "      quickchartButtonEl.classList.remove('colab-df-spinner');\n",
              "      quickchartButtonEl.classList.add('colab-df-quickchart-complete');\n",
              "    }\n",
              "    (() => {\n",
              "      let quickchartButtonEl =\n",
              "        document.querySelector('#df-965ab861-fb0a-438e-93a3-fb6400cb3b2b button');\n",
              "      quickchartButtonEl.style.display =\n",
              "        google.colab.kernel.accessAllowed ? 'block' : 'none';\n",
              "    })();\n",
              "  </script>\n",
              "</div>\n",
              "\n",
              "    </div>\n",
              "  </div>\n"
            ],
            "application/vnd.google.colaboratory.intrinsic+json": {
              "type": "dataframe",
              "variable_name": "submission_df",
              "summary": "{\n  \"name\": \"submission_df\",\n  \"rows\": 50000,\n  \"fields\": [\n    {\n      \"column\": \"session_id\",\n      \"properties\": {\n        \"dtype\": \"number\",\n        \"std\": 1283404.4665049529,\n        \"min\": 26.0,\n        \"max\": 4439757.0,\n        \"num_unique_values\": 50000,\n        \"samples\": [\n          2993624.0,\n          841850.0,\n          18132.0\n        ],\n        \"semantic_type\": \"\",\n        \"description\": \"\"\n      }\n    },\n    {\n      \"column\": \"code\",\n      \"properties\": {\n        \"dtype\": \"string\",\n        \"num_unique_values\": 49961,\n        \"samples\": [\n          [\n            \"1122\",\n            \"4939\",\n            \"2347\",\n            \"4449\",\n            \"323\",\n            \"2696\",\n            \"29\",\n            \"1139\",\n            \"1449\",\n            \"4714\",\n            \"99\",\n            \"2629\",\n            \"4148\",\n            \"2328\",\n            \"143\",\n            \"2835\",\n            \"2937\",\n            \"302\",\n            \"1936\",\n            \"1077\",\n            \"1046\",\n            \"3004\",\n            \"4418\",\n            \"2051\",\n            \"3194\",\n            \"500\",\n            \"294\",\n            \"1968\",\n            \"1899\",\n            \"439\",\n            \"2785\",\n            \"3550\",\n            \"4483\",\n            \"2864\",\n            \"3110\",\n            \"2180\",\n            \"3186\",\n            \"3863\",\n            \"2037\",\n            \"3094\",\n            \"42\",\n            \"4846\",\n            \"4741\",\n            \"1903\",\n            \"270\",\n            \"134\",\n            \"1183\",\n            \"2638\",\n            \"1714\",\n            \"2266\",\n            \"2323\",\n            \"1248\",\n            \"1342\",\n            \"4146\",\n            \"1609\",\n            \"3414\",\n            \"2577\",\n            \"2968\",\n            \"3531\",\n            \"3026\",\n            \"3746\",\n            \"3526\",\n            \"3423\",\n            \"1636\",\n            \"1291\",\n            \"2083\",\n            \"4171\",\n            \"4024\",\n            \"4819\",\n            \"4887\",\n            \"749\",\n            \"1096\",\n            \"1671\",\n            \"463\",\n            \"1646\",\n            \"1125\",\n            \"772\",\n            \"2033\",\n            \"3135\",\n            \"1254\",\n            \"2564\",\n            \"3203\",\n            \"4586\",\n            \"608\",\n            \"242\",\n            \"1602\",\n            \"2094\",\n            \"298\",\n            \"4327\",\n            \"991\",\n            \"1015\",\n            \"1977\",\n            \"897\",\n            \"164\",\n            \"3424\",\n            \"2279\",\n            \"3506\",\n            \"3589\",\n            \"3283\",\n            \"517\"\n          ],\n          [\n            \"1463\",\n            \"2958\",\n            \"4489\",\n            \"2785\",\n            \"3895\",\n            \"3355\",\n            \"2503\",\n            \"4178\",\n            \"4787\",\n            \"2780\",\n            \"4138\",\n            \"1952\",\n            \"4487\",\n            \"2639\",\n            \"869\",\n            \"2674\",\n            \"3820\",\n            \"4418\",\n            \"4657\",\n            \"3333\",\n            \"603\",\n            \"2270\",\n            \"2301\",\n            \"1458\",\n            \"1465\",\n            \"4257\",\n            \"4356\",\n            \"4741\",\n            \"3359\",\n            \"105\",\n            \"3128\",\n            \"4336\",\n            \"819\",\n            \"2118\",\n            \"3698\",\n            \"1726\",\n            \"897\",\n            \"3362\",\n            \"1596\",\n            \"585\",\n            \"2584\",\n            \"4018\",\n            \"3034\",\n            \"2330\",\n            \"895\",\n            \"3708\",\n            \"1139\",\n            \"2100\",\n            \"4495\",\n            \"1609\",\n            \"1813\",\n            \"2102\",\n            \"4517\",\n            \"3398\",\n            \"991\",\n            \"1605\",\n            \"4961\",\n            \"3270\",\n            \"1281\",\n            \"4451\",\n            \"1291\",\n            \"1646\",\n            \"1636\",\n            \"2865\",\n            \"2718\",\n            \"4686\",\n            \"3904\",\n            \"1522\",\n            \"3660\",\n            \"3024\",\n            \"1666\",\n            \"4503\",\n            \"4424\",\n            \"4061\",\n            \"3885\",\n            \"4778\",\n            \"2401\",\n            \"4000\",\n            \"3283\",\n            \"3964\",\n            \"3417\",\n            \"1515\",\n            \"3255\",\n            \"1523\",\n            \"2903\",\n            \"2875\",\n            \"3584\",\n            \"250\",\n            \"3203\",\n            \"4990\",\n            \"242\",\n            \"2729\",\n            \"2332\",\n            \"860\",\n            \"4986\",\n            \"424\",\n            \"708\",\n            \"3967\",\n            \"1903\",\n            \"3075\"\n          ],\n          [\n            \"1125\",\n            \"2629\",\n            \"3004\",\n            \"1449\",\n            \"4717\",\n            \"3194\",\n            \"2659\",\n            \"608\",\n            \"1122\",\n            \"2577\",\n            \"2799\",\n            \"99\",\n            \"2696\",\n            \"3553\",\n            \"4939\",\n            \"4833\",\n            \"4846\",\n            \"2051\",\n            \"270\",\n            \"323\",\n            \"3660\",\n            \"328\",\n            \"2406\",\n            \"4544\",\n            \"1388\",\n            \"693\",\n            \"3145\",\n            \"1968\",\n            \"2835\",\n            \"2546\",\n            \"298\",\n            \"1183\",\n            \"1899\",\n            \"1468\",\n            \"1643\",\n            \"3526\",\n            \"294\",\n            \"302\",\n            \"1139\",\n            \"1977\",\n            \"285\",\n            \"2602\",\n            \"3186\",\n            \"772\",\n            \"4641\",\n            \"4327\",\n            \"500\",\n            \"1827\",\n            \"1023\",\n            \"64\",\n            \"2033\",\n            \"2547\",\n            \"3676\",\n            \"1849\",\n            \"3863\",\n            \"164\",\n            \"4418\",\n            \"2674\",\n            \"3230\",\n            \"2994\",\n            \"2611\",\n            \"2328\",\n            \"1304\",\n            \"3550\",\n            \"4695\",\n            \"2597\",\n            \"2924\",\n            \"4967\",\n            \"724\",\n            \"4503\",\n            \"4819\",\n            \"2381\",\n            \"2937\",\n            \"4449\",\n            \"1636\",\n            \"3246\",\n            \"989\",\n            \"3424\",\n            \"2632\",\n            \"4714\",\n            \"3656\",\n            \"1609\",\n            \"4122\",\n            \"29\",\n            \"3155\",\n            \"4396\",\n            \"1227\",\n            \"977\",\n            \"467\",\n            \"2120\",\n            \"2210\",\n            \"3524\",\n            \"3773\",\n            \"2734\",\n            \"3362\",\n            \"1726\",\n            \"4146\",\n            \"2864\",\n            \"3355\",\n            \"2240\"\n          ]\n        ],\n        \"semantic_type\": \"\",\n        \"description\": \"\"\n      }\n    },\n    {\n      \"column\": \"score\",\n      \"properties\": {\n        \"dtype\": \"string\",\n        \"num_unique_values\": 49984,\n        \"samples\": [\n          [\n            \"0.014655056\",\n            \"0.00943618\",\n            \"0.008770142\",\n            \"0.00644253\",\n            \"0.006112365\",\n            \"0.0055739344\",\n            \"0.0053550303\",\n            \"0.005220381\",\n            \"0.0050118756\",\n            \"0.0037445652\",\n            \"0.0036671343\",\n            \"0.003477311\",\n            \"0.003358345\",\n            \"0.0032466862\",\n            \"0.0032354812\",\n            \"0.002950933\",\n            \"0.0029318333\",\n            \"0.0025477794\",\n            \"0.0023899595\",\n            \"0.0023512603\",\n            \"0.0023072478\",\n            \"0.0022843855\",\n            \"0.0022815205\",\n            \"0.0022011376\",\n            \"0.0021916574\",\n            \"0.0021362947\",\n            \"0.0019169903\",\n            \"0.0018589323\",\n            \"0.0018304195\",\n            \"0.0018163691\",\n            \"0.0017942389\",\n            \"0.0017496394\",\n            \"0.0017199563\",\n            \"0.0014524538\",\n            \"0.0014025508\",\n            \"0.0014014813\",\n            \"0.0013837196\",\n            \"0.0013293683\",\n            \"0.0013193804\",\n            \"0.0013156937\",\n            \"0.0012883204\",\n            \"0.0012427501\",\n            \"0.0011976444\",\n            \"0.0011960007\",\n            \"0.0011889976\",\n            \"0.0011384686\",\n            \"0.0011371579\",\n            \"0.0011203566\",\n            \"0.0011120451\",\n            \"0.0010961752\",\n            \"0.0010949486\",\n            \"0.0010687724\",\n            \"0.0010582185\",\n            \"0.001032115\",\n            \"0.0010316683\",\n            \"0.0010233058\",\n            \"0.001010023\",\n            \"0.0009883379\",\n            \"0.0009829237\",\n            \"0.0009777498\",\n            \"0.000954707\",\n            \"0.0009488469\",\n            \"0.0009454741\",\n            \"0.0008994423\",\n            \"0.00088822114\",\n            \"0.0008834801\",\n            \"0.00088306906\",\n            \"0.00087547523\",\n            \"0.00085764355\",\n            \"0.00085258094\",\n            \"0.000824132\",\n            \"0.000821392\",\n            \"0.0008162429\",\n            \"0.00080368324\",\n            \"0.00079886446\",\n            \"0.000795533\",\n            \"0.0007940822\",\n            \"0.0007879417\",\n            \"0.00077982456\",\n            \"0.0007588814\",\n            \"0.0007585369\",\n            \"0.00075702806\",\n            \"0.00075503375\",\n            \"0.0007389486\",\n            \"0.0007361351\",\n            \"0.00073080364\",\n            \"0.00072822114\",\n            \"0.00072512205\",\n            \"0.00071170344\",\n            \"0.00070048915\",\n            \"0.0006969614\",\n            \"0.0006923823\",\n            \"0.0006628127\",\n            \"0.0006447573\",\n            \"0.00064161554\",\n            \"0.000640834\",\n            \"0.00063422276\",\n            \"0.0006314044\",\n            \"0.00062667247\",\n            \"0.0006159844\"\n          ],\n          [\n            \"0.076824255\",\n            \"0.027317971\",\n            \"0.022290453\",\n            \"0.017950658\",\n            \"0.0048349863\",\n            \"0.0045199594\",\n            \"0.0042872713\",\n            \"0.0041415347\",\n            \"0.004044608\",\n            \"0.004006915\",\n            \"0.0030955537\",\n            \"0.002547596\",\n            \"0.00239288\",\n            \"0.0023143848\",\n            \"0.002313661\",\n            \"0.0023115699\",\n            \"0.0021421183\",\n            \"0.0019967763\",\n            \"0.001873824\",\n            \"0.0018004655\",\n            \"0.0017042563\",\n            \"0.0016527642\",\n            \"0.0015574747\",\n            \"0.0015079534\",\n            \"0.0014973861\",\n            \"0.0014580558\",\n            \"0.0014378374\",\n            \"0.0014232914\",\n            \"0.0013738927\",\n            \"0.0013178996\",\n            \"0.0012624753\",\n            \"0.001262066\",\n            \"0.0012460618\",\n            \"0.0012352687\",\n            \"0.0011809655\",\n            \"0.0011734167\",\n            \"0.0011033812\",\n            \"0.001087193\",\n            \"0.0010686038\",\n            \"0.0009925719\",\n            \"0.0009679475\",\n            \"0.0009581205\",\n            \"0.0009382188\",\n            \"0.000931365\",\n            \"0.0008703327\",\n            \"0.00085990445\",\n            \"0.0008550404\",\n            \"0.00083459954\",\n            \"0.0008215303\",\n            \"0.0007998818\",\n            \"0.0007993267\",\n            \"0.00079458253\",\n            \"0.0007931517\",\n            \"0.00078779925\",\n            \"0.00076138857\",\n            \"0.00074912404\",\n            \"0.00074216945\",\n            \"0.00072826876\",\n            \"0.0007181933\",\n            \"0.0007055997\",\n            \"0.00069197733\",\n            \"0.00068661844\",\n            \"0.00068158837\",\n            \"0.0006779697\",\n            \"0.0006543217\",\n            \"0.00064531004\",\n            \"0.00064431876\",\n            \"0.0006360826\",\n            \"0.00062682456\",\n            \"0.0006258701\",\n            \"0.00061838253\",\n            \"0.00060613983\",\n            \"0.0005959451\",\n            \"0.00058541255\",\n            \"0.00057192566\",\n            \"0.00056579645\",\n            \"0.00055818807\",\n            \"0.0005566975\",\n            \"0.0005542585\",\n            \"0.00054520986\",\n            \"0.0005450134\",\n            \"0.0005367961\",\n            \"0.0005335206\",\n            \"0.00051974005\",\n            \"0.0005085949\",\n            \"0.0005062991\",\n            \"0.00050015625\",\n            \"0.00049903564\",\n            \"0.0004842071\",\n            \"0.00048008998\",\n            \"0.00047678294\",\n            \"0.00046726692\",\n            \"0.00046653845\",\n            \"0.00046375266\",\n            \"0.00046090703\",\n            \"0.00045689475\",\n            \"0.0004535701\",\n            \"0.00044925392\",\n            \"0.00044764072\",\n            \"0.00044320853\"\n          ],\n          [\n            \"0.013560729\",\n            \"0.011725698\",\n            \"0.010323841\",\n            \"0.009566968\",\n            \"0.006590932\",\n            \"0.005580544\",\n            \"0.0045409063\",\n            \"0.003801632\",\n            \"0.0036844222\",\n            \"0.003551664\",\n            \"0.00311636\",\n            \"0.0030321572\",\n            \"0.0029759097\",\n            \"0.0028527647\",\n            \"0.0028298788\",\n            \"0.0026231525\",\n            \"0.0025203524\",\n            \"0.0024032174\",\n            \"0.0023943095\",\n            \"0.0023654853\",\n            \"0.0020856748\",\n            \"0.0020743208\",\n            \"0.0018939896\",\n            \"0.0018269782\",\n            \"0.0017868466\",\n            \"0.001735462\",\n            \"0.0016902525\",\n            \"0.0016345814\",\n            \"0.0015987764\",\n            \"0.0015669295\",\n            \"0.0015393829\",\n            \"0.0014655731\",\n            \"0.0013396371\",\n            \"0.001337217\",\n            \"0.0013151953\",\n            \"0.001235269\",\n            \"0.0012204191\",\n            \"0.0012153041\",\n            \"0.00120345\",\n            \"0.0012027225\",\n            \"0.0011585591\",\n            \"0.0011430453\",\n            \"0.0011169245\",\n            \"0.0011143603\",\n            \"0.0010788478\",\n            \"0.0010545199\",\n            \"0.0010053936\",\n            \"0.000992451\",\n            \"0.000989846\",\n            \"0.0009841869\",\n            \"0.0009761891\",\n            \"0.0009756176\",\n            \"0.00097461516\",\n            \"0.0009675471\",\n            \"0.0009236979\",\n            \"0.0009028601\",\n            \"0.0008383874\",\n            \"0.0008281665\",\n            \"0.0008048988\",\n            \"0.0007919274\",\n            \"0.00077864656\",\n            \"0.00076434104\",\n            \"0.00075056014\",\n            \"0.0007481846\",\n            \"0.000748176\",\n            \"0.00074071303\",\n            \"0.00072768435\",\n            \"0.00072700734\",\n            \"0.0007210443\",\n            \"0.0007149175\",\n            \"0.00068442465\",\n            \"0.0006816939\",\n            \"0.0006730828\",\n            \"0.0006715785\",\n            \"0.00065743807\",\n            \"0.0006553848\",\n            \"0.00065368693\",\n            \"0.00063256203\",\n            \"0.00062804413\",\n            \"0.00061908254\",\n            \"0.0006115713\",\n            \"0.0006094079\",\n            \"0.0006049942\",\n            \"0.0006004521\",\n            \"0.00059795263\",\n            \"0.0005954465\",\n            \"0.0005927733\",\n            \"0.00058961933\",\n            \"0.00058243895\",\n            \"0.0005774701\",\n            \"0.00057113223\",\n            \"0.0005579998\",\n            \"0.00055373134\",\n            \"0.00055268465\",\n            \"0.00055083976\",\n            \"0.0005499139\",\n            \"0.0005482728\",\n            \"0.0005476279\",\n            \"0.0005356987\",\n            \"0.0005338811\"\n          ]\n        ],\n        \"semantic_type\": \"\",\n        \"description\": \"\"\n      }\n    },\n    {\n      \"column\": \"rank\",\n      \"properties\": {\n        \"dtype\": \"category\",\n        \"num_unique_values\": 1,\n        \"samples\": [\n          [\n            1,\n            2,\n            3,\n            4,\n            5,\n            6,\n            7,\n            8,\n            9,\n            10,\n            11,\n            12,\n            13,\n            14,\n            15,\n            16,\n            17,\n            18,\n            19,\n            20,\n            21,\n            22,\n            23,\n            24,\n            25,\n            26,\n            27,\n            28,\n            29,\n            30,\n            31,\n            32,\n            33,\n            34,\n            35,\n            36,\n            37,\n            38,\n            39,\n            40,\n            41,\n            42,\n            43,\n            44,\n            45,\n            46,\n            47,\n            48,\n            49,\n            50,\n            51,\n            52,\n            53,\n            54,\n            55,\n            56,\n            57,\n            58,\n            59,\n            60,\n            61,\n            62,\n            63,\n            64,\n            65,\n            66,\n            67,\n            68,\n            69,\n            70,\n            71,\n            72,\n            73,\n            74,\n            75,\n            76,\n            77,\n            78,\n            79,\n            80,\n            81,\n            82,\n            83,\n            84,\n            85,\n            86,\n            87,\n            88,\n            89,\n            90,\n            91,\n            92,\n            93,\n            94,\n            95,\n            96,\n            97,\n            98,\n            99,\n            100\n          ]\n        ],\n        \"semantic_type\": \"\",\n        \"description\": \"\"\n      }\n    }\n  ]\n}"
            }
          },
          "metadata": {},
          "execution_count": 43
        }
      ],
      "source": [
        "for session_ids, sessions in submission_set:\n",
        "    predicted_scores=model_for_training(sessions)[0].numpy()\n",
        "    mask = np.ones(predicted_scores.shape[1], dtype=bool)\n",
        "    mask[candidates] = False\n",
        "    predicted_scores[...,mask]=-np.inf\n",
        "    predicted_scores=tf.convert_to_tensor(predicted_scores)\n",
        "    preds=tf.math.top_k(predicted_scores, k=100)\n",
        "    scores=preds.values.numpy()\n",
        "    code = preds.indices.numpy()\n",
        "    prediction = pd.DataFrame(\n",
        "        {\n",
        "            'session_id':session_ids,\n",
        "            'code':[tuple(v) for v in code],\n",
        "            'score':[tuple(v) for v in scores],\n",
        "            'rank':[tuple([rank for rank in range(1, 101)]) for id in session_ids]\n",
        "        }\n",
        "        )\n",
        "\n",
        "    submission_df = pd.concat([submission_df, prediction])\n",
        "\n",
        "submission_df.head()"
      ]
    },
    {
      "cell_type": "code",
      "execution_count": null,
      "id": "22bb8d27",
      "metadata": {
        "execution": {
          "iopub.execute_input": "2022-06-13T16:07:18.090162Z",
          "iopub.status.busy": "2022-06-13T16:07:18.089885Z",
          "iopub.status.idle": "2022-06-13T16:07:27.315685Z",
          "shell.execute_reply": "2022-06-13T16:07:27.314650Z"
        },
        "id": "22bb8d27",
        "papermill": {
          "duration": 9.25344,
          "end_time": "2022-06-13T16:07:27.317993",
          "exception": false,
          "start_time": "2022-06-13T16:07:18.064553",
          "status": "completed"
        },
        "tags": []
      },
      "outputs": [],
      "source": [
        "submission_df.to_csv(\n",
        "    './drive/MyDrive/Recommendation_system/dataset/candidates/NN/GRU/leaderboard/candidates.csv',\n",
        "    index=False\n",
        "    )"
      ]
    },
    {
      "cell_type": "code",
      "execution_count": null,
      "id": "f8b16f3a",
      "metadata": {
        "execution": {
          "iopub.execute_input": "2022-06-13T16:07:27.375159Z",
          "iopub.status.busy": "2022-06-13T16:07:27.374821Z",
          "iopub.status.idle": "2022-06-13T16:07:27.845061Z",
          "shell.execute_reply": "2022-06-13T16:07:27.844139Z"
        },
        "papermill": {
          "duration": 0.500731,
          "end_time": "2022-06-13T16:07:27.847107",
          "exception": false,
          "start_time": "2022-06-13T16:07:27.346376",
          "status": "completed"
        },
        "tags": [],
        "colab": {
          "base_uri": "https://localhost:8080/"
        },
        "id": "f8b16f3a",
        "outputId": "2ee27960-e1e6-4bc3-df72-03a925af8765"
      },
      "outputs": [
        {
          "output_type": "execute_result",
          "data": {
            "text/plain": [
              "49"
            ]
          },
          "metadata": {},
          "execution_count": 45
        }
      ],
      "source": [
        "del submission_df\n",
        "gc.collect()"
      ]
    },
    {
      "cell_type": "markdown",
      "id": "ec0adaeb",
      "metadata": {
        "id": "ec0adaeb",
        "papermill": {
          "duration": 0.025043,
          "end_time": "2022-06-13T16:07:27.900378",
          "exception": false,
          "start_time": "2022-06-13T16:07:27.875335",
          "status": "completed"
        },
        "tags": []
      },
      "source": [
        "# Prepare test predictions Final\n"
      ]
    },
    {
      "cell_type": "code",
      "execution_count": null,
      "id": "bbb14e22",
      "metadata": {
        "execution": {
          "iopub.execute_input": "2022-06-13T16:07:27.950917Z",
          "iopub.status.busy": "2022-06-13T16:07:27.950365Z",
          "iopub.status.idle": "2022-06-13T16:07:30.185820Z",
          "shell.execute_reply": "2022-06-13T16:07:30.185064Z"
        },
        "id": "bbb14e22",
        "outputId": "ed4cbe7b-c9a2-4456-ce81-b053d325ea2e",
        "papermill": {
          "duration": 2.262505,
          "end_time": "2022-06-13T16:07:30.187617",
          "exception": false,
          "start_time": "2022-06-13T16:07:27.925112",
          "status": "completed"
        },
        "tags": [],
        "colab": {
          "base_uri": "https://localhost:8080/"
        }
      },
      "outputs": [
        {
          "output_type": "execute_result",
          "data": {
            "text/plain": [
              "2046"
            ]
          },
          "metadata": {},
          "execution_count": 46
        }
      ],
      "source": [
        "temp=pd.read_csv(\"./drive/MyDrive/Recommendation_system/dataset/processed_data/macro_feats_NN_final.csv\")\n",
        "temp[\"item_id\"]=temp[\"item_id\"].map(ast.literal_eval)\n",
        "temp[\"timedelta\"]=temp[\"timedelta\"].map(ast.literal_eval)\n",
        "\n",
        "test_leaderboard_sessions=temp\n",
        "gc.collect()"
      ]
    },
    {
      "cell_type": "code",
      "execution_count": null,
      "id": "78c383bd",
      "metadata": {
        "execution": {
          "iopub.execute_input": "2022-06-13T16:07:30.239639Z",
          "iopub.status.busy": "2022-06-13T16:07:30.239351Z",
          "iopub.status.idle": "2022-06-13T16:07:30.769535Z",
          "shell.execute_reply": "2022-06-13T16:07:30.768754Z"
        },
        "id": "78c383bd",
        "papermill": {
          "duration": 0.558819,
          "end_time": "2022-06-13T16:07:30.771619",
          "exception": false,
          "start_time": "2022-06-13T16:07:30.212800",
          "status": "completed"
        },
        "tags": []
      },
      "outputs": [],
      "source": [
        "\n",
        "x_reseen_test = tf.keras.preprocessing.sequence.pad_sequences(\n",
        "    test_leaderboard_sessions['item_id'].apply(is_reseen),\n",
        "    padding='post',\n",
        "    maxlen=100,\n",
        ")\n",
        "\n",
        "x_percentage_seen_test = tf.keras.preprocessing.sequence.pad_sequences(\n",
        "    test_leaderboard_sessions['item_id'].apply(percentage_seen),\n",
        "    padding='post',\n",
        "    maxlen=100,\n",
        ")"
      ]
    },
    {
      "cell_type": "code",
      "execution_count": null,
      "id": "f78be361",
      "metadata": {
        "execution": {
          "iopub.execute_input": "2022-06-13T16:07:30.823882Z",
          "iopub.status.busy": "2022-06-13T16:07:30.823069Z",
          "iopub.status.idle": "2022-06-13T16:07:41.429301Z",
          "shell.execute_reply": "2022-06-13T16:07:41.428512Z"
        },
        "id": "f78be361",
        "outputId": "ce21e7f9-d153-4ea9-f186-038e9cd2b939",
        "papermill": {
          "duration": 10.634753,
          "end_time": "2022-06-13T16:07:41.431863",
          "exception": false,
          "start_time": "2022-06-13T16:07:30.797110",
          "status": "completed"
        },
        "tags": [],
        "colab": {
          "base_uri": "https://localhost:8080/",
          "height": 81,
          "referenced_widgets": [
            "ac7a2a06bbef47048089f0ad631bb2f8",
            "ee309e979f64445d8c0148d5c7e64af6",
            "3e9e8a4e37a045ff8ec6ebc5792ae87d",
            "1e466abca85047d6ad98aa9dad1d39f5",
            "3592c3e0c7af4f7e9a89fe3a59c9895c",
            "d0578c9a851a408ebf8afa99016f34d5",
            "c400652231a24fe5b3931c994f29be44",
            "81fd166a6d1c47aaac84a0c4e23a5b31",
            "68c8a313f7f64c1aa94858bbc1820211",
            "901b3d5740b345d193b6665a186665a1",
            "4bb5e2c5b3084b84908c68e2d7e29820",
            "3b6df463ff45462194d6128b1f1b22f1",
            "7aaa1465c6e84274b0cdeb81c44988a6",
            "7f165c81b158468a8457693603875594",
            "10ea9f691c6d4fa88529b4000df9b401",
            "eaddcc59395f4bc5943a5b576fcb98fd",
            "701791e657fe4778b7bca86f6d2bfa67",
            "8c8ff03ca30a4006ac95705a753fac4d",
            "240e632d5f87404797bea53216d38557",
            "3150cfd13c9b44afad00db60be69d958",
            "b8e031e9bd394a6bacc8477afb8ef199",
            "d1d0124500654820ad5b97014273e240"
          ]
        }
      },
      "outputs": [
        {
          "output_type": "display_data",
          "data": {
            "text/plain": [
              "  0%|          | 0/50000 [00:00<?, ?it/s]"
            ],
            "application/vnd.jupyter.widget-view+json": {
              "version_major": 2,
              "version_minor": 0,
              "model_id": "ac7a2a06bbef47048089f0ad631bb2f8"
            }
          },
          "metadata": {}
        },
        {
          "output_type": "display_data",
          "data": {
            "text/plain": [
              "  0%|          | 0/50000 [00:00<?, ?it/s]"
            ],
            "application/vnd.jupyter.widget-view+json": {
              "version_major": 2,
              "version_minor": 0,
              "model_id": "3b6df463ff45462194d6128b1f1b22f1"
            }
          },
          "metadata": {}
        }
      ],
      "source": [
        "x_simils_test = tf.keras.preprocessing.sequence.pad_sequences(\n",
        "    test_leaderboard_sessions['item_id'].progress_apply(similarity_with_preceding\n",
        "    ),\n",
        "    padding='post',\n",
        "    maxlen=100,\n",
        "    dtype='float32',\n",
        ")\n",
        "x_simils_feats_test = tf.keras.preprocessing.sequence.pad_sequences(\n",
        "    test_leaderboard_sessions['item_id'].progress_apply(similarity_feats_with_preceding\n",
        "    ),\n",
        "    padding='post',\n",
        "    maxlen=100,\n",
        "    dtype='float32',\n",
        ")"
      ]
    },
    {
      "cell_type": "code",
      "execution_count": null,
      "id": "637ad44b",
      "metadata": {
        "execution": {
          "iopub.execute_input": "2022-06-13T16:07:41.518852Z",
          "iopub.status.busy": "2022-06-13T16:07:41.518502Z",
          "iopub.status.idle": "2022-06-13T16:07:41.533748Z",
          "shell.execute_reply": "2022-06-13T16:07:41.533097Z"
        },
        "id": "637ad44b",
        "papermill": {
          "duration": 0.063237,
          "end_time": "2022-06-13T16:07:41.538915",
          "exception": false,
          "start_time": "2022-06-13T16:07:41.475678",
          "status": "completed"
        },
        "tags": []
      },
      "outputs": [],
      "source": [
        "for col in ['length_of_session_seconds','avg_time_spent_per_item_seconds','variance_time_spent_per_item_seconds']:\n",
        "    test_leaderboard_sessions[col]=np.log10(test_leaderboard_sessions[col]+1)\n",
        "for col in ['n_seen_items','n_unique_items']:\n",
        "    test_leaderboard_sessions[col]=test_leaderboard_sessions[col]/100"
      ]
    },
    {
      "cell_type": "code",
      "execution_count": null,
      "id": "42ac81fe",
      "metadata": {
        "execution": {
          "iopub.execute_input": "2022-06-13T16:07:41.624584Z",
          "iopub.status.busy": "2022-06-13T16:07:41.624236Z",
          "iopub.status.idle": "2022-06-13T16:07:41.884050Z",
          "shell.execute_reply": "2022-06-13T16:07:41.883153Z"
        },
        "id": "42ac81fe",
        "papermill": {
          "duration": 0.304858,
          "end_time": "2022-06-13T16:07:41.885813",
          "exception": false,
          "start_time": "2022-06-13T16:07:41.580955",
          "status": "completed"
        },
        "tags": [],
        "colab": {
          "base_uri": "https://localhost:8080/"
        },
        "outputId": "cd95c089-16fd-47d5-e6f7-097c7de37844"
      },
      "outputs": [
        {
          "output_type": "execute_result",
          "data": {
            "text/plain": [
              "array([4785,    0,    0,    0,    0,    0,    0,    0,    0,    0,    0,\n",
              "          0,    0,    0,    0,    0,    0,    0,    0,    0,    0,    0,\n",
              "          0,    0,    0,    0,    0,    0,    0,    0,    0,    0,    0,\n",
              "          0,    0,    0,    0,    0,    0,    0,    0,    0,    0,    0,\n",
              "          0,    0,    0,    0,    0,    0,    0,    0,    0,    0,    0,\n",
              "          0,    0,    0,    0,    0,    0,    0,    0,    0,    0,    0,\n",
              "          0,    0,    0,    0,    0,    0,    0,    0,    0,    0,    0,\n",
              "          0,    0,    0,    0,    0,    0,    0,    0,    0,    0,    0,\n",
              "          0,    0,    0,    0,    0,    0,    0,    0,    0,    0,    0,\n",
              "          0], dtype=int32)"
            ]
          },
          "metadata": {},
          "execution_count": 50
        }
      ],
      "source": [
        "x_test_leaderboard = tf.keras.preprocessing.sequence.pad_sequences(\n",
        "    test_leaderboard_sessions['item_id'],\n",
        "    padding='post',\n",
        "    maxlen=100\n",
        ")\n",
        "\n",
        "x_test_leaderboard[0]"
      ]
    },
    {
      "cell_type": "code",
      "execution_count": null,
      "id": "36e7fdf4",
      "metadata": {
        "execution": {
          "iopub.execute_input": "2022-06-13T16:07:41.939634Z",
          "iopub.status.busy": "2022-06-13T16:07:41.939353Z",
          "iopub.status.idle": "2022-06-13T16:07:42.140989Z",
          "shell.execute_reply": "2022-06-13T16:07:42.140019Z"
        },
        "id": "36e7fdf4",
        "papermill": {
          "duration": 0.230588,
          "end_time": "2022-06-13T16:07:42.142676",
          "exception": false,
          "start_time": "2022-06-13T16:07:41.912088",
          "status": "completed"
        },
        "tags": [],
        "colab": {
          "base_uri": "https://localhost:8080/"
        },
        "outputId": "68378002-d941-423e-a7b8-35ae8559f1e4"
      },
      "outputs": [
        {
          "output_type": "stream",
          "name": "stdout",
          "text": [
            "Padding timedelta\n"
          ]
        }
      ],
      "source": [
        "\n",
        "for item_related_feature in item_related_features:\n",
        "    print('Padding {}'.format(item_related_feature))\n",
        "    x_test_item_related = tf.keras.preprocessing.sequence.pad_sequences(\n",
        "        test_leaderboard_sessions[item_related_feature],\n",
        "        dtype='float16',\n",
        "        maxlen=100,\n",
        "        padding='post'\n",
        "    )"
      ]
    },
    {
      "cell_type": "code",
      "execution_count": null,
      "id": "afdfa217",
      "metadata": {
        "execution": {
          "iopub.execute_input": "2022-06-13T16:07:42.194870Z",
          "iopub.status.busy": "2022-06-13T16:07:42.194599Z",
          "iopub.status.idle": "2022-06-13T16:07:42.198447Z",
          "shell.execute_reply": "2022-06-13T16:07:42.197658Z"
        },
        "id": "afdfa217",
        "papermill": {
          "duration": 0.031637,
          "end_time": "2022-06-13T16:07:42.200092",
          "exception": false,
          "start_time": "2022-06-13T16:07:42.168455",
          "status": "completed"
        },
        "tags": []
      },
      "outputs": [],
      "source": [
        "if len(item_related_features) == 1:\n",
        "    x_test_item_related = np.expand_dims(x_test_item_related, axis=-1)"
      ]
    },
    {
      "cell_type": "code",
      "execution_count": null,
      "id": "d6648b94",
      "metadata": {
        "execution": {
          "iopub.execute_input": "2022-06-13T16:07:42.252111Z",
          "iopub.status.busy": "2022-06-13T16:07:42.251862Z",
          "iopub.status.idle": "2022-06-13T16:07:42.337982Z",
          "shell.execute_reply": "2022-06-13T16:07:42.337289Z"
        },
        "id": "d6648b94",
        "papermill": {
          "duration": 0.114158,
          "end_time": "2022-06-13T16:07:42.339663",
          "exception": false,
          "start_time": "2022-06-13T16:07:42.225505",
          "status": "completed"
        },
        "tags": [],
        "colab": {
          "base_uri": "https://localhost:8080/"
        },
        "outputId": "0d8bfba3-f43a-4387-a33d-41538927fe92"
      },
      "outputs": [
        {
          "output_type": "execute_result",
          "data": {
            "text/plain": [
              "(TensorSpec(shape=(None,), dtype=tf.int64, name=None),\n",
              " (TensorSpec(shape=(None, 100), dtype=tf.int32, name=None),\n",
              "  TensorSpec(shape=(None, 100), dtype=tf.float64, name=None),\n",
              "  TensorSpec(shape=(None, 100), dtype=tf.int32, name=None),\n",
              "  TensorSpec(shape=(None, 100), dtype=tf.float32, name=None),\n",
              "  TensorSpec(shape=(None, 100), dtype=tf.float32, name=None),\n",
              "  TensorSpec(shape=(None, 100, 1), dtype=tf.float16, name=None),\n",
              "  TensorSpec(shape=(None, 28), dtype=tf.float64, name=None)))"
            ]
          },
          "metadata": {},
          "execution_count": 53
        }
      ],
      "source": [
        "submission_set = tf.data.Dataset.from_tensor_slices(\n",
        "    (\n",
        "        test_leaderboard_sessions['session_id'],\n",
        "     (\n",
        "        x_test_leaderboard,\n",
        "        x_reseen_test/100,\n",
        "        x_percentage_seen_test,\n",
        "        x_simils_test,\n",
        "        x_simils_feats_test,\n",
        "        x_test_item_related,\n",
        "        test_leaderboard_sessions[static_features].to_numpy()\n",
        "     )\n",
        "    )\n",
        ").batch(512)\n",
        "submission_set.element_spec"
      ]
    },
    {
      "cell_type": "code",
      "execution_count": null,
      "id": "7b49535c",
      "metadata": {
        "execution": {
          "iopub.execute_input": "2022-06-13T16:07:42.392015Z",
          "iopub.status.busy": "2022-06-13T16:07:42.391745Z",
          "iopub.status.idle": "2022-06-13T16:07:42.400774Z",
          "shell.execute_reply": "2022-06-13T16:07:42.399954Z"
        },
        "id": "7b49535c",
        "outputId": "2caa5344-5ec9-4c4f-a9bd-cdbffd2bcd82",
        "papermill": {
          "duration": 0.036877,
          "end_time": "2022-06-13T16:07:42.402465",
          "exception": false,
          "start_time": "2022-06-13T16:07:42.365588",
          "status": "completed"
        },
        "tags": [],
        "colab": {
          "base_uri": "https://localhost:8080/",
          "height": 53
        }
      },
      "outputs": [
        {
          "output_type": "execute_result",
          "data": {
            "text/plain": [
              "Empty DataFrame\n",
              "Columns: [session_id, code, score, rank]\n",
              "Index: []"
            ],
            "text/html": [
              "\n",
              "  <div id=\"df-76051e5f-6ada-41da-b0cd-deaaa2b0df35\" class=\"colab-df-container\">\n",
              "    <div>\n",
              "<style scoped>\n",
              "    .dataframe tbody tr th:only-of-type {\n",
              "        vertical-align: middle;\n",
              "    }\n",
              "\n",
              "    .dataframe tbody tr th {\n",
              "        vertical-align: top;\n",
              "    }\n",
              "\n",
              "    .dataframe thead th {\n",
              "        text-align: right;\n",
              "    }\n",
              "</style>\n",
              "<table border=\"1\" class=\"dataframe\">\n",
              "  <thead>\n",
              "    <tr style=\"text-align: right;\">\n",
              "      <th></th>\n",
              "      <th>session_id</th>\n",
              "      <th>code</th>\n",
              "      <th>score</th>\n",
              "      <th>rank</th>\n",
              "    </tr>\n",
              "  </thead>\n",
              "  <tbody>\n",
              "  </tbody>\n",
              "</table>\n",
              "</div>\n",
              "    <div class=\"colab-df-buttons\">\n",
              "\n",
              "  <div class=\"colab-df-container\">\n",
              "    <button class=\"colab-df-convert\" onclick=\"convertToInteractive('df-76051e5f-6ada-41da-b0cd-deaaa2b0df35')\"\n",
              "            title=\"Convert this dataframe to an interactive table.\"\n",
              "            style=\"display:none;\">\n",
              "\n",
              "  <svg xmlns=\"http://www.w3.org/2000/svg\" height=\"24px\" viewBox=\"0 -960 960 960\">\n",
              "    <path d=\"M120-120v-720h720v720H120Zm60-500h600v-160H180v160Zm220 220h160v-160H400v160Zm0 220h160v-160H400v160ZM180-400h160v-160H180v160Zm440 0h160v-160H620v160ZM180-180h160v-160H180v160Zm440 0h160v-160H620v160Z\"/>\n",
              "  </svg>\n",
              "    </button>\n",
              "\n",
              "  <style>\n",
              "    .colab-df-container {\n",
              "      display:flex;\n",
              "      gap: 12px;\n",
              "    }\n",
              "\n",
              "    .colab-df-convert {\n",
              "      background-color: #E8F0FE;\n",
              "      border: none;\n",
              "      border-radius: 50%;\n",
              "      cursor: pointer;\n",
              "      display: none;\n",
              "      fill: #1967D2;\n",
              "      height: 32px;\n",
              "      padding: 0 0 0 0;\n",
              "      width: 32px;\n",
              "    }\n",
              "\n",
              "    .colab-df-convert:hover {\n",
              "      background-color: #E2EBFA;\n",
              "      box-shadow: 0px 1px 2px rgba(60, 64, 67, 0.3), 0px 1px 3px 1px rgba(60, 64, 67, 0.15);\n",
              "      fill: #174EA6;\n",
              "    }\n",
              "\n",
              "    .colab-df-buttons div {\n",
              "      margin-bottom: 4px;\n",
              "    }\n",
              "\n",
              "    [theme=dark] .colab-df-convert {\n",
              "      background-color: #3B4455;\n",
              "      fill: #D2E3FC;\n",
              "    }\n",
              "\n",
              "    [theme=dark] .colab-df-convert:hover {\n",
              "      background-color: #434B5C;\n",
              "      box-shadow: 0px 1px 3px 1px rgba(0, 0, 0, 0.15);\n",
              "      filter: drop-shadow(0px 1px 2px rgba(0, 0, 0, 0.3));\n",
              "      fill: #FFFFFF;\n",
              "    }\n",
              "  </style>\n",
              "\n",
              "    <script>\n",
              "      const buttonEl =\n",
              "        document.querySelector('#df-76051e5f-6ada-41da-b0cd-deaaa2b0df35 button.colab-df-convert');\n",
              "      buttonEl.style.display =\n",
              "        google.colab.kernel.accessAllowed ? 'block' : 'none';\n",
              "\n",
              "      async function convertToInteractive(key) {\n",
              "        const element = document.querySelector('#df-76051e5f-6ada-41da-b0cd-deaaa2b0df35');\n",
              "        const dataTable =\n",
              "          await google.colab.kernel.invokeFunction('convertToInteractive',\n",
              "                                                    [key], {});\n",
              "        if (!dataTable) return;\n",
              "\n",
              "        const docLinkHtml = 'Like what you see? Visit the ' +\n",
              "          '<a target=\"_blank\" href=https://colab.research.google.com/notebooks/data_table.ipynb>data table notebook</a>'\n",
              "          + ' to learn more about interactive tables.';\n",
              "        element.innerHTML = '';\n",
              "        dataTable['output_type'] = 'display_data';\n",
              "        await google.colab.output.renderOutput(dataTable, element);\n",
              "        const docLink = document.createElement('div');\n",
              "        docLink.innerHTML = docLinkHtml;\n",
              "        element.appendChild(docLink);\n",
              "      }\n",
              "    </script>\n",
              "  </div>\n",
              "\n",
              "\n",
              "    </div>\n",
              "  </div>\n"
            ],
            "application/vnd.google.colaboratory.intrinsic+json": {
              "type": "dataframe",
              "variable_name": "submission_df",
              "summary": "{\n  \"name\": \"submission_df\",\n  \"rows\": 0,\n  \"fields\": [\n    {\n      \"column\": \"session_id\",\n      \"properties\": {\n        \"dtype\": \"number\",\n        \"std\": null,\n        \"min\": null,\n        \"max\": null,\n        \"num_unique_values\": 0,\n        \"samples\": [],\n        \"semantic_type\": \"\",\n        \"description\": \"\"\n      }\n    },\n    {\n      \"column\": \"code\",\n      \"properties\": {\n        \"dtype\": \"number\",\n        \"std\": null,\n        \"min\": null,\n        \"max\": null,\n        \"num_unique_values\": 0,\n        \"samples\": [],\n        \"semantic_type\": \"\",\n        \"description\": \"\"\n      }\n    },\n    {\n      \"column\": \"score\",\n      \"properties\": {\n        \"dtype\": \"number\",\n        \"std\": null,\n        \"min\": null,\n        \"max\": null,\n        \"num_unique_values\": 0,\n        \"samples\": [],\n        \"semantic_type\": \"\",\n        \"description\": \"\"\n      }\n    },\n    {\n      \"column\": \"rank\",\n      \"properties\": {\n        \"dtype\": \"number\",\n        \"std\": null,\n        \"min\": null,\n        \"max\": null,\n        \"num_unique_values\": 0,\n        \"samples\": [],\n        \"semantic_type\": \"\",\n        \"description\": \"\"\n      }\n    }\n  ]\n}"
            }
          },
          "metadata": {},
          "execution_count": 54
        }
      ],
      "source": [
        "submission_df = pd.DataFrame(\n",
        "    {\n",
        "        'session_id':[],\n",
        "        'code':[],\n",
        "        'score':[],\n",
        "        'rank':[]\n",
        "    }\n",
        ")\n",
        "\n",
        "submission_df.head()"
      ]
    },
    {
      "cell_type": "code",
      "execution_count": null,
      "id": "2ad3e22d",
      "metadata": {
        "execution": {
          "iopub.execute_input": "2022-06-13T16:07:42.462536Z",
          "iopub.status.busy": "2022-06-13T16:07:42.462250Z",
          "iopub.status.idle": "2022-06-13T16:07:42.467189Z",
          "shell.execute_reply": "2022-06-13T16:07:42.466421Z"
        },
        "id": "2ad3e22d",
        "papermill": {
          "duration": 0.04065,
          "end_time": "2022-06-13T16:07:42.468857",
          "exception": false,
          "start_time": "2022-06-13T16:07:42.428207",
          "status": "completed"
        },
        "tags": []
      },
      "outputs": [],
      "source": [
        "candidates=np.array([i+1 for i in range(4990)])"
      ]
    },
    {
      "cell_type": "code",
      "execution_count": null,
      "id": "6a0589d1",
      "metadata": {
        "execution": {
          "iopub.execute_input": "2022-06-13T16:07:42.522535Z",
          "iopub.status.busy": "2022-06-13T16:07:42.522284Z",
          "iopub.status.idle": "2022-06-13T16:08:00.037931Z",
          "shell.execute_reply": "2022-06-13T16:08:00.037126Z"
        },
        "id": "6a0589d1",
        "outputId": "d2266f3c-9d6b-4e10-8aec-ff0832a1df6b",
        "papermill": {
          "duration": 17.543777,
          "end_time": "2022-06-13T16:08:00.039747",
          "exception": false,
          "start_time": "2022-06-13T16:07:42.495970",
          "status": "completed"
        },
        "tags": [],
        "colab": {
          "base_uri": "https://localhost:8080/",
          "height": 206
        }
      },
      "outputs": [
        {
          "output_type": "execute_result",
          "data": {
            "text/plain": [
              "   session_id                                               code  \\\n",
              "0        61.0  (1045, 292, 4574, 3414, 2865, 3581, 2094, 3586...   \n",
              "1        96.0  (3564, 3778, 19, 3436, 1671, 4758, 3763, 1747,...   \n",
              "2       185.0  (4148, 4146, 2330, 1936, 1652, 3326, 2937, 355...   \n",
              "3       224.0  (4202, 2785, 2448, 4990, 3338, 2180, 1714, 143...   \n",
              "4       285.0  (3441, 3555, 1070, 2227, 2970, 3506, 1468, 19,...   \n",
              "\n",
              "                                               score  \\\n",
              "0  (0.098308, 0.0067207785, 0.0058379997, 0.00537...   \n",
              "1  (0.0064377883, 0.004623832, 0.004222633, 0.004...   \n",
              "2  (0.07673035, 0.058128383, 0.020468852, 0.01130...   \n",
              "3  (0.018820697, 0.0070572905, 0.0063399337, 0.00...   \n",
              "4  (0.025260754, 0.01106562, 0.008012092, 0.00590...   \n",
              "\n",
              "                                                rank  \n",
              "0  (1, 2, 3, 4, 5, 6, 7, 8, 9, 10, 11, 12, 13, 14...  \n",
              "1  (1, 2, 3, 4, 5, 6, 7, 8, 9, 10, 11, 12, 13, 14...  \n",
              "2  (1, 2, 3, 4, 5, 6, 7, 8, 9, 10, 11, 12, 13, 14...  \n",
              "3  (1, 2, 3, 4, 5, 6, 7, 8, 9, 10, 11, 12, 13, 14...  \n",
              "4  (1, 2, 3, 4, 5, 6, 7, 8, 9, 10, 11, 12, 13, 14...  "
            ],
            "text/html": [
              "\n",
              "  <div id=\"df-70c1fa33-cf37-4d89-93d0-41fda7c9f873\" class=\"colab-df-container\">\n",
              "    <div>\n",
              "<style scoped>\n",
              "    .dataframe tbody tr th:only-of-type {\n",
              "        vertical-align: middle;\n",
              "    }\n",
              "\n",
              "    .dataframe tbody tr th {\n",
              "        vertical-align: top;\n",
              "    }\n",
              "\n",
              "    .dataframe thead th {\n",
              "        text-align: right;\n",
              "    }\n",
              "</style>\n",
              "<table border=\"1\" class=\"dataframe\">\n",
              "  <thead>\n",
              "    <tr style=\"text-align: right;\">\n",
              "      <th></th>\n",
              "      <th>session_id</th>\n",
              "      <th>code</th>\n",
              "      <th>score</th>\n",
              "      <th>rank</th>\n",
              "    </tr>\n",
              "  </thead>\n",
              "  <tbody>\n",
              "    <tr>\n",
              "      <th>0</th>\n",
              "      <td>61.0</td>\n",
              "      <td>(1045, 292, 4574, 3414, 2865, 3581, 2094, 3586...</td>\n",
              "      <td>(0.098308, 0.0067207785, 0.0058379997, 0.00537...</td>\n",
              "      <td>(1, 2, 3, 4, 5, 6, 7, 8, 9, 10, 11, 12, 13, 14...</td>\n",
              "    </tr>\n",
              "    <tr>\n",
              "      <th>1</th>\n",
              "      <td>96.0</td>\n",
              "      <td>(3564, 3778, 19, 3436, 1671, 4758, 3763, 1747,...</td>\n",
              "      <td>(0.0064377883, 0.004623832, 0.004222633, 0.004...</td>\n",
              "      <td>(1, 2, 3, 4, 5, 6, 7, 8, 9, 10, 11, 12, 13, 14...</td>\n",
              "    </tr>\n",
              "    <tr>\n",
              "      <th>2</th>\n",
              "      <td>185.0</td>\n",
              "      <td>(4148, 4146, 2330, 1936, 1652, 3326, 2937, 355...</td>\n",
              "      <td>(0.07673035, 0.058128383, 0.020468852, 0.01130...</td>\n",
              "      <td>(1, 2, 3, 4, 5, 6, 7, 8, 9, 10, 11, 12, 13, 14...</td>\n",
              "    </tr>\n",
              "    <tr>\n",
              "      <th>3</th>\n",
              "      <td>224.0</td>\n",
              "      <td>(4202, 2785, 2448, 4990, 3338, 2180, 1714, 143...</td>\n",
              "      <td>(0.018820697, 0.0070572905, 0.0063399337, 0.00...</td>\n",
              "      <td>(1, 2, 3, 4, 5, 6, 7, 8, 9, 10, 11, 12, 13, 14...</td>\n",
              "    </tr>\n",
              "    <tr>\n",
              "      <th>4</th>\n",
              "      <td>285.0</td>\n",
              "      <td>(3441, 3555, 1070, 2227, 2970, 3506, 1468, 19,...</td>\n",
              "      <td>(0.025260754, 0.01106562, 0.008012092, 0.00590...</td>\n",
              "      <td>(1, 2, 3, 4, 5, 6, 7, 8, 9, 10, 11, 12, 13, 14...</td>\n",
              "    </tr>\n",
              "  </tbody>\n",
              "</table>\n",
              "</div>\n",
              "    <div class=\"colab-df-buttons\">\n",
              "\n",
              "  <div class=\"colab-df-container\">\n",
              "    <button class=\"colab-df-convert\" onclick=\"convertToInteractive('df-70c1fa33-cf37-4d89-93d0-41fda7c9f873')\"\n",
              "            title=\"Convert this dataframe to an interactive table.\"\n",
              "            style=\"display:none;\">\n",
              "\n",
              "  <svg xmlns=\"http://www.w3.org/2000/svg\" height=\"24px\" viewBox=\"0 -960 960 960\">\n",
              "    <path d=\"M120-120v-720h720v720H120Zm60-500h600v-160H180v160Zm220 220h160v-160H400v160Zm0 220h160v-160H400v160ZM180-400h160v-160H180v160Zm440 0h160v-160H620v160ZM180-180h160v-160H180v160Zm440 0h160v-160H620v160Z\"/>\n",
              "  </svg>\n",
              "    </button>\n",
              "\n",
              "  <style>\n",
              "    .colab-df-container {\n",
              "      display:flex;\n",
              "      gap: 12px;\n",
              "    }\n",
              "\n",
              "    .colab-df-convert {\n",
              "      background-color: #E8F0FE;\n",
              "      border: none;\n",
              "      border-radius: 50%;\n",
              "      cursor: pointer;\n",
              "      display: none;\n",
              "      fill: #1967D2;\n",
              "      height: 32px;\n",
              "      padding: 0 0 0 0;\n",
              "      width: 32px;\n",
              "    }\n",
              "\n",
              "    .colab-df-convert:hover {\n",
              "      background-color: #E2EBFA;\n",
              "      box-shadow: 0px 1px 2px rgba(60, 64, 67, 0.3), 0px 1px 3px 1px rgba(60, 64, 67, 0.15);\n",
              "      fill: #174EA6;\n",
              "    }\n",
              "\n",
              "    .colab-df-buttons div {\n",
              "      margin-bottom: 4px;\n",
              "    }\n",
              "\n",
              "    [theme=dark] .colab-df-convert {\n",
              "      background-color: #3B4455;\n",
              "      fill: #D2E3FC;\n",
              "    }\n",
              "\n",
              "    [theme=dark] .colab-df-convert:hover {\n",
              "      background-color: #434B5C;\n",
              "      box-shadow: 0px 1px 3px 1px rgba(0, 0, 0, 0.15);\n",
              "      filter: drop-shadow(0px 1px 2px rgba(0, 0, 0, 0.3));\n",
              "      fill: #FFFFFF;\n",
              "    }\n",
              "  </style>\n",
              "\n",
              "    <script>\n",
              "      const buttonEl =\n",
              "        document.querySelector('#df-70c1fa33-cf37-4d89-93d0-41fda7c9f873 button.colab-df-convert');\n",
              "      buttonEl.style.display =\n",
              "        google.colab.kernel.accessAllowed ? 'block' : 'none';\n",
              "\n",
              "      async function convertToInteractive(key) {\n",
              "        const element = document.querySelector('#df-70c1fa33-cf37-4d89-93d0-41fda7c9f873');\n",
              "        const dataTable =\n",
              "          await google.colab.kernel.invokeFunction('convertToInteractive',\n",
              "                                                    [key], {});\n",
              "        if (!dataTable) return;\n",
              "\n",
              "        const docLinkHtml = 'Like what you see? Visit the ' +\n",
              "          '<a target=\"_blank\" href=https://colab.research.google.com/notebooks/data_table.ipynb>data table notebook</a>'\n",
              "          + ' to learn more about interactive tables.';\n",
              "        element.innerHTML = '';\n",
              "        dataTable['output_type'] = 'display_data';\n",
              "        await google.colab.output.renderOutput(dataTable, element);\n",
              "        const docLink = document.createElement('div');\n",
              "        docLink.innerHTML = docLinkHtml;\n",
              "        element.appendChild(docLink);\n",
              "      }\n",
              "    </script>\n",
              "  </div>\n",
              "\n",
              "\n",
              "<div id=\"df-8dd318e6-cf8b-4efa-9fbf-4c3791edee40\">\n",
              "  <button class=\"colab-df-quickchart\" onclick=\"quickchart('df-8dd318e6-cf8b-4efa-9fbf-4c3791edee40')\"\n",
              "            title=\"Suggest charts\"\n",
              "            style=\"display:none;\">\n",
              "\n",
              "<svg xmlns=\"http://www.w3.org/2000/svg\" height=\"24px\"viewBox=\"0 0 24 24\"\n",
              "     width=\"24px\">\n",
              "    <g>\n",
              "        <path d=\"M19 3H5c-1.1 0-2 .9-2 2v14c0 1.1.9 2 2 2h14c1.1 0 2-.9 2-2V5c0-1.1-.9-2-2-2zM9 17H7v-7h2v7zm4 0h-2V7h2v10zm4 0h-2v-4h2v4z\"/>\n",
              "    </g>\n",
              "</svg>\n",
              "  </button>\n",
              "\n",
              "<style>\n",
              "  .colab-df-quickchart {\n",
              "      --bg-color: #E8F0FE;\n",
              "      --fill-color: #1967D2;\n",
              "      --hover-bg-color: #E2EBFA;\n",
              "      --hover-fill-color: #174EA6;\n",
              "      --disabled-fill-color: #AAA;\n",
              "      --disabled-bg-color: #DDD;\n",
              "  }\n",
              "\n",
              "  [theme=dark] .colab-df-quickchart {\n",
              "      --bg-color: #3B4455;\n",
              "      --fill-color: #D2E3FC;\n",
              "      --hover-bg-color: #434B5C;\n",
              "      --hover-fill-color: #FFFFFF;\n",
              "      --disabled-bg-color: #3B4455;\n",
              "      --disabled-fill-color: #666;\n",
              "  }\n",
              "\n",
              "  .colab-df-quickchart {\n",
              "    background-color: var(--bg-color);\n",
              "    border: none;\n",
              "    border-radius: 50%;\n",
              "    cursor: pointer;\n",
              "    display: none;\n",
              "    fill: var(--fill-color);\n",
              "    height: 32px;\n",
              "    padding: 0;\n",
              "    width: 32px;\n",
              "  }\n",
              "\n",
              "  .colab-df-quickchart:hover {\n",
              "    background-color: var(--hover-bg-color);\n",
              "    box-shadow: 0 1px 2px rgba(60, 64, 67, 0.3), 0 1px 3px 1px rgba(60, 64, 67, 0.15);\n",
              "    fill: var(--button-hover-fill-color);\n",
              "  }\n",
              "\n",
              "  .colab-df-quickchart-complete:disabled,\n",
              "  .colab-df-quickchart-complete:disabled:hover {\n",
              "    background-color: var(--disabled-bg-color);\n",
              "    fill: var(--disabled-fill-color);\n",
              "    box-shadow: none;\n",
              "  }\n",
              "\n",
              "  .colab-df-spinner {\n",
              "    border: 2px solid var(--fill-color);\n",
              "    border-color: transparent;\n",
              "    border-bottom-color: var(--fill-color);\n",
              "    animation:\n",
              "      spin 1s steps(1) infinite;\n",
              "  }\n",
              "\n",
              "  @keyframes spin {\n",
              "    0% {\n",
              "      border-color: transparent;\n",
              "      border-bottom-color: var(--fill-color);\n",
              "      border-left-color: var(--fill-color);\n",
              "    }\n",
              "    20% {\n",
              "      border-color: transparent;\n",
              "      border-left-color: var(--fill-color);\n",
              "      border-top-color: var(--fill-color);\n",
              "    }\n",
              "    30% {\n",
              "      border-color: transparent;\n",
              "      border-left-color: var(--fill-color);\n",
              "      border-top-color: var(--fill-color);\n",
              "      border-right-color: var(--fill-color);\n",
              "    }\n",
              "    40% {\n",
              "      border-color: transparent;\n",
              "      border-right-color: var(--fill-color);\n",
              "      border-top-color: var(--fill-color);\n",
              "    }\n",
              "    60% {\n",
              "      border-color: transparent;\n",
              "      border-right-color: var(--fill-color);\n",
              "    }\n",
              "    80% {\n",
              "      border-color: transparent;\n",
              "      border-right-color: var(--fill-color);\n",
              "      border-bottom-color: var(--fill-color);\n",
              "    }\n",
              "    90% {\n",
              "      border-color: transparent;\n",
              "      border-bottom-color: var(--fill-color);\n",
              "    }\n",
              "  }\n",
              "</style>\n",
              "\n",
              "  <script>\n",
              "    async function quickchart(key) {\n",
              "      const quickchartButtonEl =\n",
              "        document.querySelector('#' + key + ' button');\n",
              "      quickchartButtonEl.disabled = true;  // To prevent multiple clicks.\n",
              "      quickchartButtonEl.classList.add('colab-df-spinner');\n",
              "      try {\n",
              "        const charts = await google.colab.kernel.invokeFunction(\n",
              "            'suggestCharts', [key], {});\n",
              "      } catch (error) {\n",
              "        console.error('Error during call to suggestCharts:', error);\n",
              "      }\n",
              "      quickchartButtonEl.classList.remove('colab-df-spinner');\n",
              "      quickchartButtonEl.classList.add('colab-df-quickchart-complete');\n",
              "    }\n",
              "    (() => {\n",
              "      let quickchartButtonEl =\n",
              "        document.querySelector('#df-8dd318e6-cf8b-4efa-9fbf-4c3791edee40 button');\n",
              "      quickchartButtonEl.style.display =\n",
              "        google.colab.kernel.accessAllowed ? 'block' : 'none';\n",
              "    })();\n",
              "  </script>\n",
              "</div>\n",
              "\n",
              "    </div>\n",
              "  </div>\n"
            ],
            "application/vnd.google.colaboratory.intrinsic+json": {
              "type": "dataframe",
              "variable_name": "submission_df",
              "summary": "{\n  \"name\": \"submission_df\",\n  \"rows\": 50000,\n  \"fields\": [\n    {\n      \"column\": \"session_id\",\n      \"properties\": {\n        \"dtype\": \"number\",\n        \"std\": 1282026.5744703738,\n        \"min\": 61.0,\n        \"max\": 4439966.0,\n        \"num_unique_values\": 50000,\n        \"samples\": [\n          2971690.0,\n          836475.0,\n          16743.0\n        ],\n        \"semantic_type\": \"\",\n        \"description\": \"\"\n      }\n    },\n    {\n      \"column\": \"code\",\n      \"properties\": {\n        \"dtype\": \"string\",\n        \"num_unique_values\": 49953,\n        \"samples\": [\n          [\n            \"4701\",\n            \"1752\",\n            \"871\",\n            \"1237\",\n            \"4001\",\n            \"4168\",\n            \"915\",\n            \"566\",\n            \"4610\",\n            \"3082\",\n            \"4124\",\n            \"1548\",\n            \"3990\",\n            \"2854\",\n            \"120\",\n            \"1183\",\n            \"4819\",\n            \"3945\",\n            \"1095\",\n            \"2090\",\n            \"19\",\n            \"480\",\n            \"2736\",\n            \"2646\",\n            \"732\",\n            \"4518\",\n            \"3586\",\n            \"2683\",\n            \"4231\",\n            \"2070\",\n            \"1020\",\n            \"1961\",\n            \"1447\",\n            \"2367\",\n            \"1059\",\n            \"4382\",\n            \"2412\",\n            \"4185\",\n            \"4682\",\n            \"444\",\n            \"1650\",\n            \"402\",\n            \"2106\",\n            \"1950\",\n            \"528\",\n            \"2153\",\n            \"3605\",\n            \"3067\",\n            \"772\",\n            \"3086\",\n            \"4539\",\n            \"1136\",\n            \"4389\",\n            \"2655\",\n            \"3550\",\n            \"987\",\n            \"3764\",\n            \"2121\",\n            \"955\",\n            \"3515\",\n            \"2005\",\n            \"2285\",\n            \"1785\",\n            \"352\",\n            \"3102\",\n            \"930\",\n            \"2526\",\n            \"4591\",\n            \"2501\",\n            \"3420\",\n            \"1098\",\n            \"2333\",\n            \"2865\",\n            \"1701\",\n            \"381\",\n            \"3016\",\n            \"2692\",\n            \"4223\",\n            \"1097\",\n            \"532\",\n            \"40\",\n            \"3154\",\n            \"265\",\n            \"4988\",\n            \"681\",\n            \"4731\",\n            \"1986\",\n            \"3632\",\n            \"1817\",\n            \"2105\",\n            \"3398\",\n            \"1992\",\n            \"954\",\n            \"2649\",\n            \"4697\",\n            \"3284\",\n            \"422\",\n            \"3438\",\n            \"1936\",\n            \"4647\"\n          ],\n          [\n            \"2149\",\n            \"3432\",\n            \"692\",\n            \"4429\",\n            \"3949\",\n            \"3746\",\n            \"195\",\n            \"3981\",\n            \"1230\",\n            \"3732\",\n            \"3292\",\n            \"234\",\n            \"3348\",\n            \"3054\",\n            \"3776\",\n            \"2800\",\n            \"4494\",\n            \"4691\",\n            \"1013\",\n            \"563\",\n            \"2694\",\n            \"781\",\n            \"4741\",\n            \"3946\",\n            \"2865\",\n            \"3924\",\n            \"3006\",\n            \"554\",\n            \"3346\",\n            \"2564\",\n            \"1825\",\n            \"4417\",\n            \"3277\",\n            \"2624\",\n            \"4418\",\n            \"1609\",\n            \"2452\",\n            \"4601\",\n            \"4686\",\n            \"190\",\n            \"4747\",\n            \"2793\",\n            \"2831\",\n            \"1143\",\n            \"724\",\n            \"3436\",\n            \"1888\",\n            \"2605\",\n            \"4898\",\n            \"3398\",\n            \"4942\",\n            \"510\",\n            \"2988\",\n            \"977\",\n            \"2696\",\n            \"4146\",\n            \"239\",\n            \"4939\",\n            \"2258\",\n            \"2280\",\n            \"897\",\n            \"1399\",\n            \"4795\",\n            \"2235\",\n            \"4989\",\n            \"4298\",\n            \"3490\",\n            \"1467\",\n            \"1248\",\n            \"3005\",\n            \"59\",\n            \"3451\",\n            \"3766\",\n            \"2332\",\n            \"3676\",\n            \"542\",\n            \"3104\",\n            \"381\",\n            \"3135\",\n            \"3186\",\n            \"1139\",\n            \"3128\",\n            \"1194\",\n            \"1335\",\n            \"3782\",\n            \"439\",\n            \"2547\",\n            \"3678\",\n            \"2306\",\n            \"3080\",\n            \"4599\",\n            \"3550\",\n            \"2064\",\n            \"3417\",\n            \"4387\",\n            \"2180\",\n            \"928\",\n            \"4118\",\n            \"2816\",\n            \"3654\"\n          ],\n          [\n            \"2704\",\n            \"4162\",\n            \"3460\",\n            \"3133\",\n            \"3827\",\n            \"3202\",\n            \"4146\",\n            \"1652\",\n            \"4148\",\n            \"3904\",\n            \"4681\",\n            \"3767\",\n            \"2937\",\n            \"882\",\n            \"733\",\n            \"1136\",\n            \"3094\",\n            \"2618\",\n            \"818\",\n            \"4504\",\n            \"143\",\n            \"19\",\n            \"3892\",\n            \"4680\",\n            \"292\",\n            \"967\",\n            \"2330\",\n            \"1342\",\n            \"4138\",\n            \"1510\",\n            \"2250\",\n            \"2625\",\n            \"1936\",\n            \"3920\",\n            \"2121\",\n            \"719\",\n            \"4145\",\n            \"4655\",\n            \"1569\",\n            \"3110\",\n            \"4854\",\n            \"447\",\n            \"2019\",\n            \"3493\",\n            \"1879\",\n            \"2227\",\n            \"1609\",\n            \"3417\",\n            \"2202\",\n            \"3128\",\n            \"786\",\n            \"3088\",\n            \"2865\",\n            \"4591\",\n            \"320\",\n            \"3197\",\n            \"2729\",\n            \"4064\",\n            \"3895\",\n            \"1903\",\n            \"2156\",\n            \"1254\",\n            \"603\",\n            \"2234\",\n            \"2215\",\n            \"263\",\n            \"3648\",\n            \"4787\",\n            \"3398\",\n            \"819\",\n            \"3203\",\n            \"1726\",\n            \"2050\",\n            \"4554\",\n            \"825\",\n            \"699\",\n            \"2328\",\n            \"3450\",\n            \"534\",\n            \"4905\",\n            \"3213\",\n            \"1833\",\n            \"4213\",\n            \"1989\",\n            \"2560\",\n            \"3395\",\n            \"1350\",\n            \"242\",\n            \"1922\",\n            \"2950\",\n            \"3155\",\n            \"1608\",\n            \"1231\",\n            \"2535\",\n            \"2555\",\n            \"2327\",\n            \"2301\",\n            \"3427\",\n            \"1288\",\n            \"2401\"\n          ]\n        ],\n        \"semantic_type\": \"\",\n        \"description\": \"\"\n      }\n    },\n    {\n      \"column\": \"score\",\n      \"properties\": {\n        \"dtype\": \"string\",\n        \"num_unique_values\": 49985,\n        \"samples\": [\n          [\n            \"0.27091867\",\n            \"0.020904258\",\n            \"0.011786669\",\n            \"0.011116894\",\n            \"0.008131301\",\n            \"0.0072499583\",\n            \"0.004788855\",\n            \"0.0047018905\",\n            \"0.004343754\",\n            \"0.004159039\",\n            \"0.0037418625\",\n            \"0.00282491\",\n            \"0.002694502\",\n            \"0.0017219224\",\n            \"0.0015906359\",\n            \"0.0015316556\",\n            \"0.0013819868\",\n            \"0.0013226785\",\n            \"0.0013016993\",\n            \"0.0012421162\",\n            \"0.0012243702\",\n            \"0.0011685863\",\n            \"0.0011320009\",\n            \"0.0011066095\",\n            \"0.0010985205\",\n            \"0.001022467\",\n            \"0.001009478\",\n            \"0.00096758985\",\n            \"0.0009350509\",\n            \"0.00091443816\",\n            \"0.0008418047\",\n            \"0.00079618266\",\n            \"0.00079409126\",\n            \"0.0007694791\",\n            \"0.00074643374\",\n            \"0.00072466023\",\n            \"0.00071879604\",\n            \"0.0007101224\",\n            \"0.0006115079\",\n            \"0.0005944406\",\n            \"0.0005425384\",\n            \"0.00053928344\",\n            \"0.0005256367\",\n            \"0.0005162729\",\n            \"0.00051239785\",\n            \"0.0005104197\",\n            \"0.00048405916\",\n            \"0.00047516404\",\n            \"0.00046300652\",\n            \"0.00046291028\",\n            \"0.00046016285\",\n            \"0.00044846095\",\n            \"0.0004228043\",\n            \"0.00041487569\",\n            \"0.0004108619\",\n            \"0.00040780843\",\n            \"0.0004007591\",\n            \"0.0003998162\",\n            \"0.0003906096\",\n            \"0.0003821839\",\n            \"0.0003743267\",\n            \"0.00037003905\",\n            \"0.00036796773\",\n            \"0.00035652617\",\n            \"0.00035503734\",\n            \"0.0003429725\",\n            \"0.0003346584\",\n            \"0.0003291779\",\n            \"0.00032295822\",\n            \"0.00032270947\",\n            \"0.0003072322\",\n            \"0.00030673746\",\n            \"0.00030111632\",\n            \"0.00029891095\",\n            \"0.000297459\",\n            \"0.00029124803\",\n            \"0.00028894405\",\n            \"0.00028414174\",\n            \"0.00028359704\",\n            \"0.00028284834\",\n            \"0.00027963464\",\n            \"0.0002790044\",\n            \"0.00027490265\",\n            \"0.00027208417\",\n            \"0.00026555234\",\n            \"0.00025999272\",\n            \"0.00025993126\",\n            \"0.00025658123\",\n            \"0.00025340292\",\n            \"0.00025330918\",\n            \"0.00025203204\",\n            \"0.00024908915\",\n            \"0.00024526854\",\n            \"0.0002450773\",\n            \"0.00024455524\",\n            \"0.00024084412\",\n            \"0.0002376195\",\n            \"0.00023756693\",\n            \"0.00023519948\",\n            \"0.00023400832\"\n          ],\n          [\n            \"0.1503185\",\n            \"0.027443808\",\n            \"0.016403096\",\n            \"0.012183157\",\n            \"0.00886949\",\n            \"0.006265571\",\n            \"0.0060639163\",\n            \"0.004306473\",\n            \"0.0037786642\",\n            \"0.0033922836\",\n            \"0.0032044803\",\n            \"0.0031524836\",\n            \"0.0030929744\",\n            \"0.0030206635\",\n            \"0.0022767722\",\n            \"0.0022594722\",\n            \"0.0022437582\",\n            \"0.00188956\",\n            \"0.001733022\",\n            \"0.001650019\",\n            \"0.0015091992\",\n            \"0.00139335\",\n            \"0.0013867613\",\n            \"0.00137185\",\n            \"0.0013289313\",\n            \"0.001306787\",\n            \"0.0012200021\",\n            \"0.0011663522\",\n            \"0.0011495779\",\n            \"0.0010254165\",\n            \"0.000956292\",\n            \"0.0009388964\",\n            \"0.00086868415\",\n            \"0.0008617605\",\n            \"0.00084790186\",\n            \"0.0008266796\",\n            \"0.0007881382\",\n            \"0.0007790244\",\n            \"0.0007787785\",\n            \"0.0007654327\",\n            \"0.00073593826\",\n            \"0.0007247566\",\n            \"0.00067685137\",\n            \"0.0006745476\",\n            \"0.00065583846\",\n            \"0.0006449906\",\n            \"0.0006436437\",\n            \"0.0006433068\",\n            \"0.00063981017\",\n            \"0.0006348893\",\n            \"0.0005989341\",\n            \"0.00058910326\",\n            \"0.0005768265\",\n            \"0.00056526193\",\n            \"0.00055450696\",\n            \"0.0005499389\",\n            \"0.0005264722\",\n            \"0.00050261297\",\n            \"0.0004949571\",\n            \"0.00049296813\",\n            \"0.00048850395\",\n            \"0.00048607716\",\n            \"0.0004574371\",\n            \"0.00044267793\",\n            \"0.0004351155\",\n            \"0.00041854347\",\n            \"0.00039328873\",\n            \"0.00039242738\",\n            \"0.00039009415\",\n            \"0.00038377903\",\n            \"0.00037954454\",\n            \"0.00037610205\",\n            \"0.0003728849\",\n            \"0.0003719849\",\n            \"0.00037156686\",\n            \"0.00036382038\",\n            \"0.00036373816\",\n            \"0.00036228\",\n            \"0.0003597042\",\n            \"0.00035378922\",\n            \"0.00034778647\",\n            \"0.00034589774\",\n            \"0.00033899434\",\n            \"0.00033523416\",\n            \"0.00033135735\",\n            \"0.00032966406\",\n            \"0.00032937372\",\n            \"0.0003272025\",\n            \"0.00032404097\",\n            \"0.0003239433\",\n            \"0.00032319716\",\n            \"0.00031869058\",\n            \"0.0003148492\",\n            \"0.0003111048\",\n            \"0.0003047467\",\n            \"0.0003009396\",\n            \"0.0002949951\",\n            \"0.00028677544\",\n            \"0.0002786248\",\n            \"0.00027568772\"\n          ],\n          [\n            \"0.035539024\",\n            \"0.010651909\",\n            \"0.009883495\",\n            \"0.009669747\",\n            \"0.009552964\",\n            \"0.009215866\",\n            \"0.008848125\",\n            \"0.008329312\",\n            \"0.0077420794\",\n            \"0.0073212786\",\n            \"0.006398766\",\n            \"0.00626785\",\n            \"0.006124442\",\n            \"0.0059014224\",\n            \"0.0058034286\",\n            \"0.005561741\",\n            \"0.0052440413\",\n            \"0.004940199\",\n            \"0.0038344644\",\n            \"0.003134682\",\n            \"0.0030100555\",\n            \"0.0029802236\",\n            \"0.0029285012\",\n            \"0.0027686122\",\n            \"0.002538427\",\n            \"0.0023403603\",\n            \"0.0023007037\",\n            \"0.002122566\",\n            \"0.0019957165\",\n            \"0.0019702096\",\n            \"0.0019279977\",\n            \"0.0019096363\",\n            \"0.0018855463\",\n            \"0.0018739513\",\n            \"0.0018263458\",\n            \"0.0017363278\",\n            \"0.0017178673\",\n            \"0.0016615023\",\n            \"0.0015373654\",\n            \"0.0014958064\",\n            \"0.0014753346\",\n            \"0.0014647389\",\n            \"0.0014527165\",\n            \"0.0014414499\",\n            \"0.0014114117\",\n            \"0.0014032329\",\n            \"0.0013959478\",\n            \"0.0013570386\",\n            \"0.0012744283\",\n            \"0.0012683996\",\n            \"0.0012410536\",\n            \"0.0012367553\",\n            \"0.0012057832\",\n            \"0.0010492404\",\n            \"0.0010277438\",\n            \"0.0010155243\",\n            \"0.0010152473\",\n            \"0.0010108998\",\n            \"0.0009894222\",\n            \"0.0009864656\",\n            \"0.0009847193\",\n            \"0.000983398\",\n            \"0.0009415471\",\n            \"0.0009112759\",\n            \"0.0009070949\",\n            \"0.00089742686\",\n            \"0.0008838321\",\n            \"0.0008714417\",\n            \"0.00086733093\",\n            \"0.00085099664\",\n            \"0.00085035415\",\n            \"0.0008479102\",\n            \"0.00083858497\",\n            \"0.0008253036\",\n            \"0.0008059241\",\n            \"0.00078340684\",\n            \"0.00077527587\",\n            \"0.0007710479\",\n            \"0.00075044634\",\n            \"0.00074785715\",\n            \"0.00074293517\",\n            \"0.0007384849\",\n            \"0.00073582045\",\n            \"0.00072882674\",\n            \"0.0007216972\",\n            \"0.0006999053\",\n            \"0.00069717393\",\n            \"0.0006960432\",\n            \"0.00069172075\",\n            \"0.0006886496\",\n            \"0.0006821367\",\n            \"0.0006716995\",\n            \"0.00066972297\",\n            \"0.000649077\",\n            \"0.0006476128\",\n            \"0.00064477307\",\n            \"0.0006385413\",\n            \"0.0006357656\",\n            \"0.00063418143\",\n            \"0.0006180366\"\n          ]\n        ],\n        \"semantic_type\": \"\",\n        \"description\": \"\"\n      }\n    },\n    {\n      \"column\": \"rank\",\n      \"properties\": {\n        \"dtype\": \"category\",\n        \"num_unique_values\": 1,\n        \"samples\": [\n          [\n            1,\n            2,\n            3,\n            4,\n            5,\n            6,\n            7,\n            8,\n            9,\n            10,\n            11,\n            12,\n            13,\n            14,\n            15,\n            16,\n            17,\n            18,\n            19,\n            20,\n            21,\n            22,\n            23,\n            24,\n            25,\n            26,\n            27,\n            28,\n            29,\n            30,\n            31,\n            32,\n            33,\n            34,\n            35,\n            36,\n            37,\n            38,\n            39,\n            40,\n            41,\n            42,\n            43,\n            44,\n            45,\n            46,\n            47,\n            48,\n            49,\n            50,\n            51,\n            52,\n            53,\n            54,\n            55,\n            56,\n            57,\n            58,\n            59,\n            60,\n            61,\n            62,\n            63,\n            64,\n            65,\n            66,\n            67,\n            68,\n            69,\n            70,\n            71,\n            72,\n            73,\n            74,\n            75,\n            76,\n            77,\n            78,\n            79,\n            80,\n            81,\n            82,\n            83,\n            84,\n            85,\n            86,\n            87,\n            88,\n            89,\n            90,\n            91,\n            92,\n            93,\n            94,\n            95,\n            96,\n            97,\n            98,\n            99,\n            100\n          ]\n        ],\n        \"semantic_type\": \"\",\n        \"description\": \"\"\n      }\n    }\n  ]\n}"
            }
          },
          "metadata": {},
          "execution_count": 56
        }
      ],
      "source": [
        "for session_ids, sessions in submission_set:\n",
        "    predicted_scores=model_for_training(sessions)[0].numpy()\n",
        "    mask = np.ones(predicted_scores.shape[1], dtype=bool)\n",
        "    mask[candidates] = False\n",
        "    predicted_scores[...,mask]=-np.inf\n",
        "    predicted_scores=tf.convert_to_tensor(predicted_scores)\n",
        "    preds=tf.math.top_k(predicted_scores, k=100)\n",
        "    scores=preds.values.numpy()\n",
        "    code = preds.indices.numpy()\n",
        "    prediction = pd.DataFrame(\n",
        "        {\n",
        "            'session_id':session_ids,\n",
        "            'code':[tuple(v) for v in code],\n",
        "            'score':[tuple(v) for v in scores],\n",
        "            'rank':[tuple([rank for rank in range(1, 101)]) for id in session_ids]\n",
        "        }\n",
        "        )\n",
        "\n",
        "    submission_df = pd.concat([submission_df, prediction])\n",
        "\n",
        "submission_df.head()"
      ]
    },
    {
      "cell_type": "code",
      "execution_count": null,
      "id": "0174eab0",
      "metadata": {
        "execution": {
          "iopub.execute_input": "2022-06-13T16:08:00.095110Z",
          "iopub.status.busy": "2022-06-13T16:08:00.094831Z",
          "iopub.status.idle": "2022-06-13T16:08:09.121282Z",
          "shell.execute_reply": "2022-06-13T16:08:09.120413Z"
        },
        "id": "0174eab0",
        "papermill": {
          "duration": 9.056726,
          "end_time": "2022-06-13T16:08:09.123326",
          "exception": false,
          "start_time": "2022-06-13T16:08:00.066600",
          "status": "completed"
        },
        "tags": []
      },
      "outputs": [],
      "source": [
        "submission_df.to_csv(\n",
        "    './drive/MyDrive/Recommendation_system/dataset/candidates/NN/GRU/final/candidates.csv',\n",
        "    index=False\n",
        "    )"
      ]
    }
  ],
  "metadata": {
    "kernelspec": {
      "display_name": "Python 3",
      "name": "python3"
    },
    "language_info": {
      "codemirror_mode": {
        "name": "ipython",
        "version": 3
      },
      "file_extension": ".py",
      "mimetype": "text/x-python",
      "name": "python",
      "nbconvert_exporter": "python",
      "pygments_lexer": "ipython3",
      "version": "3.7.13"
    },
    "papermill": {
      "default_parameters": {},
      "duration": 1387.380693,
      "end_time": "2022-06-13T16:08:12.026465",
      "environment_variables": {},
      "exception": null,
      "input_path": "__notebook__.ipynb",
      "output_path": "__notebook__.ipynb",
      "parameters": {},
      "start_time": "2022-06-13T15:45:04.645772",
      "version": "2.3.4"
    },
    "vscode": {
      "interpreter": {
        "hash": "61f38fddaed46afda7c40a5798d4631266e18af1d335aa6f772dc3ed9b8ab549"
      }
    },
    "widgets": {
      "application/vnd.jupyter.widget-state+json": {
        "d5da17bc52e541b8831ee79faf5d849d": {
          "model_module": "@jupyter-widgets/controls",
          "model_name": "HBoxModel",
          "model_module_version": "1.5.0",
          "state": {
            "_dom_classes": [],
            "_model_module": "@jupyter-widgets/controls",
            "_model_module_version": "1.5.0",
            "_model_name": "HBoxModel",
            "_view_count": null,
            "_view_module": "@jupyter-widgets/controls",
            "_view_module_version": "1.5.0",
            "_view_name": "HBoxView",
            "box_style": "",
            "children": [
              "IPY_MODEL_fb39c0edc49746d4b2a169146927b6f4",
              "IPY_MODEL_95153dc053f14634afca81dad31b6548",
              "IPY_MODEL_c221b48bd86c424ca7c23cffc161419f"
            ],
            "layout": "IPY_MODEL_3fcbd1adaf91462594d7d89527091ae4"
          }
        },
        "fb39c0edc49746d4b2a169146927b6f4": {
          "model_module": "@jupyter-widgets/controls",
          "model_name": "HTMLModel",
          "model_module_version": "1.5.0",
          "state": {
            "_dom_classes": [],
            "_model_module": "@jupyter-widgets/controls",
            "_model_module_version": "1.5.0",
            "_model_name": "HTMLModel",
            "_view_count": null,
            "_view_module": "@jupyter-widgets/controls",
            "_view_module_version": "1.5.0",
            "_view_name": "HTMLView",
            "description": "",
            "description_tooltip": null,
            "layout": "IPY_MODEL_b0b1e83016ba43539192f89d94b34305",
            "placeholder": "​",
            "style": "IPY_MODEL_6da93ee3cf3549dea2b29a1ca53b8c29",
            "value": "100%"
          }
        },
        "95153dc053f14634afca81dad31b6548": {
          "model_module": "@jupyter-widgets/controls",
          "model_name": "FloatProgressModel",
          "model_module_version": "1.5.0",
          "state": {
            "_dom_classes": [],
            "_model_module": "@jupyter-widgets/controls",
            "_model_module_version": "1.5.0",
            "_model_name": "FloatProgressModel",
            "_view_count": null,
            "_view_module": "@jupyter-widgets/controls",
            "_view_module_version": "1.5.0",
            "_view_name": "ProgressView",
            "bar_style": "success",
            "description": "",
            "description_tooltip": null,
            "layout": "IPY_MODEL_9e6489a2dd794847a3700dbaebc1709d",
            "max": 1000000,
            "min": 0,
            "orientation": "horizontal",
            "style": "IPY_MODEL_cf410bf4edc44fe0b6aea9ec1d85fe6c",
            "value": 1000000
          }
        },
        "c221b48bd86c424ca7c23cffc161419f": {
          "model_module": "@jupyter-widgets/controls",
          "model_name": "HTMLModel",
          "model_module_version": "1.5.0",
          "state": {
            "_dom_classes": [],
            "_model_module": "@jupyter-widgets/controls",
            "_model_module_version": "1.5.0",
            "_model_name": "HTMLModel",
            "_view_count": null,
            "_view_module": "@jupyter-widgets/controls",
            "_view_module_version": "1.5.0",
            "_view_name": "HTMLView",
            "description": "",
            "description_tooltip": null,
            "layout": "IPY_MODEL_39e6c4e4dca74038901d454f6564f8b5",
            "placeholder": "​",
            "style": "IPY_MODEL_48f25dab10074b5dbec6fd11191e929c",
            "value": " 1000000/1000000 [00:02&lt;00:00, 447112.68it/s]"
          }
        },
        "3fcbd1adaf91462594d7d89527091ae4": {
          "model_module": "@jupyter-widgets/base",
          "model_name": "LayoutModel",
          "model_module_version": "1.2.0",
          "state": {
            "_model_module": "@jupyter-widgets/base",
            "_model_module_version": "1.2.0",
            "_model_name": "LayoutModel",
            "_view_count": null,
            "_view_module": "@jupyter-widgets/base",
            "_view_module_version": "1.2.0",
            "_view_name": "LayoutView",
            "align_content": null,
            "align_items": null,
            "align_self": null,
            "border": null,
            "bottom": null,
            "display": null,
            "flex": null,
            "flex_flow": null,
            "grid_area": null,
            "grid_auto_columns": null,
            "grid_auto_flow": null,
            "grid_auto_rows": null,
            "grid_column": null,
            "grid_gap": null,
            "grid_row": null,
            "grid_template_areas": null,
            "grid_template_columns": null,
            "grid_template_rows": null,
            "height": null,
            "justify_content": null,
            "justify_items": null,
            "left": null,
            "margin": null,
            "max_height": null,
            "max_width": null,
            "min_height": null,
            "min_width": null,
            "object_fit": null,
            "object_position": null,
            "order": null,
            "overflow": null,
            "overflow_x": null,
            "overflow_y": null,
            "padding": null,
            "right": null,
            "top": null,
            "visibility": null,
            "width": null
          }
        },
        "b0b1e83016ba43539192f89d94b34305": {
          "model_module": "@jupyter-widgets/base",
          "model_name": "LayoutModel",
          "model_module_version": "1.2.0",
          "state": {
            "_model_module": "@jupyter-widgets/base",
            "_model_module_version": "1.2.0",
            "_model_name": "LayoutModel",
            "_view_count": null,
            "_view_module": "@jupyter-widgets/base",
            "_view_module_version": "1.2.0",
            "_view_name": "LayoutView",
            "align_content": null,
            "align_items": null,
            "align_self": null,
            "border": null,
            "bottom": null,
            "display": null,
            "flex": null,
            "flex_flow": null,
            "grid_area": null,
            "grid_auto_columns": null,
            "grid_auto_flow": null,
            "grid_auto_rows": null,
            "grid_column": null,
            "grid_gap": null,
            "grid_row": null,
            "grid_template_areas": null,
            "grid_template_columns": null,
            "grid_template_rows": null,
            "height": null,
            "justify_content": null,
            "justify_items": null,
            "left": null,
            "margin": null,
            "max_height": null,
            "max_width": null,
            "min_height": null,
            "min_width": null,
            "object_fit": null,
            "object_position": null,
            "order": null,
            "overflow": null,
            "overflow_x": null,
            "overflow_y": null,
            "padding": null,
            "right": null,
            "top": null,
            "visibility": null,
            "width": null
          }
        },
        "6da93ee3cf3549dea2b29a1ca53b8c29": {
          "model_module": "@jupyter-widgets/controls",
          "model_name": "DescriptionStyleModel",
          "model_module_version": "1.5.0",
          "state": {
            "_model_module": "@jupyter-widgets/controls",
            "_model_module_version": "1.5.0",
            "_model_name": "DescriptionStyleModel",
            "_view_count": null,
            "_view_module": "@jupyter-widgets/base",
            "_view_module_version": "1.2.0",
            "_view_name": "StyleView",
            "description_width": ""
          }
        },
        "9e6489a2dd794847a3700dbaebc1709d": {
          "model_module": "@jupyter-widgets/base",
          "model_name": "LayoutModel",
          "model_module_version": "1.2.0",
          "state": {
            "_model_module": "@jupyter-widgets/base",
            "_model_module_version": "1.2.0",
            "_model_name": "LayoutModel",
            "_view_count": null,
            "_view_module": "@jupyter-widgets/base",
            "_view_module_version": "1.2.0",
            "_view_name": "LayoutView",
            "align_content": null,
            "align_items": null,
            "align_self": null,
            "border": null,
            "bottom": null,
            "display": null,
            "flex": null,
            "flex_flow": null,
            "grid_area": null,
            "grid_auto_columns": null,
            "grid_auto_flow": null,
            "grid_auto_rows": null,
            "grid_column": null,
            "grid_gap": null,
            "grid_row": null,
            "grid_template_areas": null,
            "grid_template_columns": null,
            "grid_template_rows": null,
            "height": null,
            "justify_content": null,
            "justify_items": null,
            "left": null,
            "margin": null,
            "max_height": null,
            "max_width": null,
            "min_height": null,
            "min_width": null,
            "object_fit": null,
            "object_position": null,
            "order": null,
            "overflow": null,
            "overflow_x": null,
            "overflow_y": null,
            "padding": null,
            "right": null,
            "top": null,
            "visibility": null,
            "width": null
          }
        },
        "cf410bf4edc44fe0b6aea9ec1d85fe6c": {
          "model_module": "@jupyter-widgets/controls",
          "model_name": "ProgressStyleModel",
          "model_module_version": "1.5.0",
          "state": {
            "_model_module": "@jupyter-widgets/controls",
            "_model_module_version": "1.5.0",
            "_model_name": "ProgressStyleModel",
            "_view_count": null,
            "_view_module": "@jupyter-widgets/base",
            "_view_module_version": "1.2.0",
            "_view_name": "StyleView",
            "bar_color": null,
            "description_width": ""
          }
        },
        "39e6c4e4dca74038901d454f6564f8b5": {
          "model_module": "@jupyter-widgets/base",
          "model_name": "LayoutModel",
          "model_module_version": "1.2.0",
          "state": {
            "_model_module": "@jupyter-widgets/base",
            "_model_module_version": "1.2.0",
            "_model_name": "LayoutModel",
            "_view_count": null,
            "_view_module": "@jupyter-widgets/base",
            "_view_module_version": "1.2.0",
            "_view_name": "LayoutView",
            "align_content": null,
            "align_items": null,
            "align_self": null,
            "border": null,
            "bottom": null,
            "display": null,
            "flex": null,
            "flex_flow": null,
            "grid_area": null,
            "grid_auto_columns": null,
            "grid_auto_flow": null,
            "grid_auto_rows": null,
            "grid_column": null,
            "grid_gap": null,
            "grid_row": null,
            "grid_template_areas": null,
            "grid_template_columns": null,
            "grid_template_rows": null,
            "height": null,
            "justify_content": null,
            "justify_items": null,
            "left": null,
            "margin": null,
            "max_height": null,
            "max_width": null,
            "min_height": null,
            "min_width": null,
            "object_fit": null,
            "object_position": null,
            "order": null,
            "overflow": null,
            "overflow_x": null,
            "overflow_y": null,
            "padding": null,
            "right": null,
            "top": null,
            "visibility": null,
            "width": null
          }
        },
        "48f25dab10074b5dbec6fd11191e929c": {
          "model_module": "@jupyter-widgets/controls",
          "model_name": "DescriptionStyleModel",
          "model_module_version": "1.5.0",
          "state": {
            "_model_module": "@jupyter-widgets/controls",
            "_model_module_version": "1.5.0",
            "_model_name": "DescriptionStyleModel",
            "_view_count": null,
            "_view_module": "@jupyter-widgets/base",
            "_view_module_version": "1.2.0",
            "_view_name": "StyleView",
            "description_width": ""
          }
        },
        "6afdc59ef8044b95aaf51e3d903c2f04": {
          "model_module": "@jupyter-widgets/controls",
          "model_name": "HBoxModel",
          "model_module_version": "1.5.0",
          "state": {
            "_dom_classes": [],
            "_model_module": "@jupyter-widgets/controls",
            "_model_module_version": "1.5.0",
            "_model_name": "HBoxModel",
            "_view_count": null,
            "_view_module": "@jupyter-widgets/controls",
            "_view_module_version": "1.5.0",
            "_view_name": "HBoxView",
            "box_style": "",
            "children": [
              "IPY_MODEL_b1c45ba78e3d4d9184d065e28fafc8e8",
              "IPY_MODEL_d4c3cc7bb5084dbea2292f189f546124",
              "IPY_MODEL_981b5bcdad044821b9dea5c4dc00df44"
            ],
            "layout": "IPY_MODEL_63b2439c143d4f7bb5546258d1486b68"
          }
        },
        "b1c45ba78e3d4d9184d065e28fafc8e8": {
          "model_module": "@jupyter-widgets/controls",
          "model_name": "HTMLModel",
          "model_module_version": "1.5.0",
          "state": {
            "_dom_classes": [],
            "_model_module": "@jupyter-widgets/controls",
            "_model_module_version": "1.5.0",
            "_model_name": "HTMLModel",
            "_view_count": null,
            "_view_module": "@jupyter-widgets/controls",
            "_view_module_version": "1.5.0",
            "_view_name": "HTMLView",
            "description": "",
            "description_tooltip": null,
            "layout": "IPY_MODEL_9464ab567d0446b187483c9b8ab9ad57",
            "placeholder": "​",
            "style": "IPY_MODEL_6cee4347b62e4aada7f70582fad975d7",
            "value": "100%"
          }
        },
        "d4c3cc7bb5084dbea2292f189f546124": {
          "model_module": "@jupyter-widgets/controls",
          "model_name": "FloatProgressModel",
          "model_module_version": "1.5.0",
          "state": {
            "_dom_classes": [],
            "_model_module": "@jupyter-widgets/controls",
            "_model_module_version": "1.5.0",
            "_model_name": "FloatProgressModel",
            "_view_count": null,
            "_view_module": "@jupyter-widgets/controls",
            "_view_module_version": "1.5.0",
            "_view_name": "ProgressView",
            "bar_style": "success",
            "description": "",
            "description_tooltip": null,
            "layout": "IPY_MODEL_4d4b3ab6d18f4021a403ca7af4e6e8bf",
            "max": 1000000,
            "min": 0,
            "orientation": "horizontal",
            "style": "IPY_MODEL_5c650c942fe24d45a589c2df2f70bc99",
            "value": 1000000
          }
        },
        "981b5bcdad044821b9dea5c4dc00df44": {
          "model_module": "@jupyter-widgets/controls",
          "model_name": "HTMLModel",
          "model_module_version": "1.5.0",
          "state": {
            "_dom_classes": [],
            "_model_module": "@jupyter-widgets/controls",
            "_model_module_version": "1.5.0",
            "_model_name": "HTMLModel",
            "_view_count": null,
            "_view_module": "@jupyter-widgets/controls",
            "_view_module_version": "1.5.0",
            "_view_name": "HTMLView",
            "description": "",
            "description_tooltip": null,
            "layout": "IPY_MODEL_b3a6fe45d7e4475e9710f778f1984b2a",
            "placeholder": "​",
            "style": "IPY_MODEL_bdeddf1537254efd8f048ba99f0c2109",
            "value": " 1000000/1000000 [00:02&lt;00:00, 477640.24it/s]"
          }
        },
        "63b2439c143d4f7bb5546258d1486b68": {
          "model_module": "@jupyter-widgets/base",
          "model_name": "LayoutModel",
          "model_module_version": "1.2.0",
          "state": {
            "_model_module": "@jupyter-widgets/base",
            "_model_module_version": "1.2.0",
            "_model_name": "LayoutModel",
            "_view_count": null,
            "_view_module": "@jupyter-widgets/base",
            "_view_module_version": "1.2.0",
            "_view_name": "LayoutView",
            "align_content": null,
            "align_items": null,
            "align_self": null,
            "border": null,
            "bottom": null,
            "display": null,
            "flex": null,
            "flex_flow": null,
            "grid_area": null,
            "grid_auto_columns": null,
            "grid_auto_flow": null,
            "grid_auto_rows": null,
            "grid_column": null,
            "grid_gap": null,
            "grid_row": null,
            "grid_template_areas": null,
            "grid_template_columns": null,
            "grid_template_rows": null,
            "height": null,
            "justify_content": null,
            "justify_items": null,
            "left": null,
            "margin": null,
            "max_height": null,
            "max_width": null,
            "min_height": null,
            "min_width": null,
            "object_fit": null,
            "object_position": null,
            "order": null,
            "overflow": null,
            "overflow_x": null,
            "overflow_y": null,
            "padding": null,
            "right": null,
            "top": null,
            "visibility": null,
            "width": null
          }
        },
        "9464ab567d0446b187483c9b8ab9ad57": {
          "model_module": "@jupyter-widgets/base",
          "model_name": "LayoutModel",
          "model_module_version": "1.2.0",
          "state": {
            "_model_module": "@jupyter-widgets/base",
            "_model_module_version": "1.2.0",
            "_model_name": "LayoutModel",
            "_view_count": null,
            "_view_module": "@jupyter-widgets/base",
            "_view_module_version": "1.2.0",
            "_view_name": "LayoutView",
            "align_content": null,
            "align_items": null,
            "align_self": null,
            "border": null,
            "bottom": null,
            "display": null,
            "flex": null,
            "flex_flow": null,
            "grid_area": null,
            "grid_auto_columns": null,
            "grid_auto_flow": null,
            "grid_auto_rows": null,
            "grid_column": null,
            "grid_gap": null,
            "grid_row": null,
            "grid_template_areas": null,
            "grid_template_columns": null,
            "grid_template_rows": null,
            "height": null,
            "justify_content": null,
            "justify_items": null,
            "left": null,
            "margin": null,
            "max_height": null,
            "max_width": null,
            "min_height": null,
            "min_width": null,
            "object_fit": null,
            "object_position": null,
            "order": null,
            "overflow": null,
            "overflow_x": null,
            "overflow_y": null,
            "padding": null,
            "right": null,
            "top": null,
            "visibility": null,
            "width": null
          }
        },
        "6cee4347b62e4aada7f70582fad975d7": {
          "model_module": "@jupyter-widgets/controls",
          "model_name": "DescriptionStyleModel",
          "model_module_version": "1.5.0",
          "state": {
            "_model_module": "@jupyter-widgets/controls",
            "_model_module_version": "1.5.0",
            "_model_name": "DescriptionStyleModel",
            "_view_count": null,
            "_view_module": "@jupyter-widgets/base",
            "_view_module_version": "1.2.0",
            "_view_name": "StyleView",
            "description_width": ""
          }
        },
        "4d4b3ab6d18f4021a403ca7af4e6e8bf": {
          "model_module": "@jupyter-widgets/base",
          "model_name": "LayoutModel",
          "model_module_version": "1.2.0",
          "state": {
            "_model_module": "@jupyter-widgets/base",
            "_model_module_version": "1.2.0",
            "_model_name": "LayoutModel",
            "_view_count": null,
            "_view_module": "@jupyter-widgets/base",
            "_view_module_version": "1.2.0",
            "_view_name": "LayoutView",
            "align_content": null,
            "align_items": null,
            "align_self": null,
            "border": null,
            "bottom": null,
            "display": null,
            "flex": null,
            "flex_flow": null,
            "grid_area": null,
            "grid_auto_columns": null,
            "grid_auto_flow": null,
            "grid_auto_rows": null,
            "grid_column": null,
            "grid_gap": null,
            "grid_row": null,
            "grid_template_areas": null,
            "grid_template_columns": null,
            "grid_template_rows": null,
            "height": null,
            "justify_content": null,
            "justify_items": null,
            "left": null,
            "margin": null,
            "max_height": null,
            "max_width": null,
            "min_height": null,
            "min_width": null,
            "object_fit": null,
            "object_position": null,
            "order": null,
            "overflow": null,
            "overflow_x": null,
            "overflow_y": null,
            "padding": null,
            "right": null,
            "top": null,
            "visibility": null,
            "width": null
          }
        },
        "5c650c942fe24d45a589c2df2f70bc99": {
          "model_module": "@jupyter-widgets/controls",
          "model_name": "ProgressStyleModel",
          "model_module_version": "1.5.0",
          "state": {
            "_model_module": "@jupyter-widgets/controls",
            "_model_module_version": "1.5.0",
            "_model_name": "ProgressStyleModel",
            "_view_count": null,
            "_view_module": "@jupyter-widgets/base",
            "_view_module_version": "1.2.0",
            "_view_name": "StyleView",
            "bar_color": null,
            "description_width": ""
          }
        },
        "b3a6fe45d7e4475e9710f778f1984b2a": {
          "model_module": "@jupyter-widgets/base",
          "model_name": "LayoutModel",
          "model_module_version": "1.2.0",
          "state": {
            "_model_module": "@jupyter-widgets/base",
            "_model_module_version": "1.2.0",
            "_model_name": "LayoutModel",
            "_view_count": null,
            "_view_module": "@jupyter-widgets/base",
            "_view_module_version": "1.2.0",
            "_view_name": "LayoutView",
            "align_content": null,
            "align_items": null,
            "align_self": null,
            "border": null,
            "bottom": null,
            "display": null,
            "flex": null,
            "flex_flow": null,
            "grid_area": null,
            "grid_auto_columns": null,
            "grid_auto_flow": null,
            "grid_auto_rows": null,
            "grid_column": null,
            "grid_gap": null,
            "grid_row": null,
            "grid_template_areas": null,
            "grid_template_columns": null,
            "grid_template_rows": null,
            "height": null,
            "justify_content": null,
            "justify_items": null,
            "left": null,
            "margin": null,
            "max_height": null,
            "max_width": null,
            "min_height": null,
            "min_width": null,
            "object_fit": null,
            "object_position": null,
            "order": null,
            "overflow": null,
            "overflow_x": null,
            "overflow_y": null,
            "padding": null,
            "right": null,
            "top": null,
            "visibility": null,
            "width": null
          }
        },
        "bdeddf1537254efd8f048ba99f0c2109": {
          "model_module": "@jupyter-widgets/controls",
          "model_name": "DescriptionStyleModel",
          "model_module_version": "1.5.0",
          "state": {
            "_model_module": "@jupyter-widgets/controls",
            "_model_module_version": "1.5.0",
            "_model_name": "DescriptionStyleModel",
            "_view_count": null,
            "_view_module": "@jupyter-widgets/base",
            "_view_module_version": "1.2.0",
            "_view_name": "StyleView",
            "description_width": ""
          }
        },
        "cd81efd9eaa244358a8f8966f5321d15": {
          "model_module": "@jupyter-widgets/controls",
          "model_name": "HBoxModel",
          "model_module_version": "1.5.0",
          "state": {
            "_dom_classes": [],
            "_model_module": "@jupyter-widgets/controls",
            "_model_module_version": "1.5.0",
            "_model_name": "HBoxModel",
            "_view_count": null,
            "_view_module": "@jupyter-widgets/controls",
            "_view_module_version": "1.5.0",
            "_view_name": "HBoxView",
            "box_style": "",
            "children": [
              "IPY_MODEL_214054efd4274efea9dc69d3123d3de0",
              "IPY_MODEL_1c3453a604d54b78b70916412ea14a0e",
              "IPY_MODEL_185f72b390364ef987bc02c63a5b5f73"
            ],
            "layout": "IPY_MODEL_7f0c2060cc7046bcb9ac5acb53fdb3e0"
          }
        },
        "214054efd4274efea9dc69d3123d3de0": {
          "model_module": "@jupyter-widgets/controls",
          "model_name": "HTMLModel",
          "model_module_version": "1.5.0",
          "state": {
            "_dom_classes": [],
            "_model_module": "@jupyter-widgets/controls",
            "_model_module_version": "1.5.0",
            "_model_name": "HTMLModel",
            "_view_count": null,
            "_view_module": "@jupyter-widgets/controls",
            "_view_module_version": "1.5.0",
            "_view_name": "HTMLView",
            "description": "",
            "description_tooltip": null,
            "layout": "IPY_MODEL_dcc1c4fa97ba448ead3db509c84ea58b",
            "placeholder": "​",
            "style": "IPY_MODEL_d84c6cdf39924e1983ca8092a82832fe",
            "value": "100%"
          }
        },
        "1c3453a604d54b78b70916412ea14a0e": {
          "model_module": "@jupyter-widgets/controls",
          "model_name": "FloatProgressModel",
          "model_module_version": "1.5.0",
          "state": {
            "_dom_classes": [],
            "_model_module": "@jupyter-widgets/controls",
            "_model_module_version": "1.5.0",
            "_model_name": "FloatProgressModel",
            "_view_count": null,
            "_view_module": "@jupyter-widgets/controls",
            "_view_module_version": "1.5.0",
            "_view_name": "ProgressView",
            "bar_style": "success",
            "description": "",
            "description_tooltip": null,
            "layout": "IPY_MODEL_069bcef3073e4e25a930ed759097804e",
            "max": 1000000,
            "min": 0,
            "orientation": "horizontal",
            "style": "IPY_MODEL_f400e488cabd43c8a223278284c39882",
            "value": 1000000
          }
        },
        "185f72b390364ef987bc02c63a5b5f73": {
          "model_module": "@jupyter-widgets/controls",
          "model_name": "HTMLModel",
          "model_module_version": "1.5.0",
          "state": {
            "_dom_classes": [],
            "_model_module": "@jupyter-widgets/controls",
            "_model_module_version": "1.5.0",
            "_model_name": "HTMLModel",
            "_view_count": null,
            "_view_module": "@jupyter-widgets/controls",
            "_view_module_version": "1.5.0",
            "_view_name": "HTMLView",
            "description": "",
            "description_tooltip": null,
            "layout": "IPY_MODEL_a9142a36d0a3404e9146af0ec0c8e988",
            "placeholder": "​",
            "style": "IPY_MODEL_253111e609f84c6fb74b11f534b2277f",
            "value": " 1000000/1000000 [00:26&lt;00:00, 35782.28it/s]"
          }
        },
        "7f0c2060cc7046bcb9ac5acb53fdb3e0": {
          "model_module": "@jupyter-widgets/base",
          "model_name": "LayoutModel",
          "model_module_version": "1.2.0",
          "state": {
            "_model_module": "@jupyter-widgets/base",
            "_model_module_version": "1.2.0",
            "_model_name": "LayoutModel",
            "_view_count": null,
            "_view_module": "@jupyter-widgets/base",
            "_view_module_version": "1.2.0",
            "_view_name": "LayoutView",
            "align_content": null,
            "align_items": null,
            "align_self": null,
            "border": null,
            "bottom": null,
            "display": null,
            "flex": null,
            "flex_flow": null,
            "grid_area": null,
            "grid_auto_columns": null,
            "grid_auto_flow": null,
            "grid_auto_rows": null,
            "grid_column": null,
            "grid_gap": null,
            "grid_row": null,
            "grid_template_areas": null,
            "grid_template_columns": null,
            "grid_template_rows": null,
            "height": null,
            "justify_content": null,
            "justify_items": null,
            "left": null,
            "margin": null,
            "max_height": null,
            "max_width": null,
            "min_height": null,
            "min_width": null,
            "object_fit": null,
            "object_position": null,
            "order": null,
            "overflow": null,
            "overflow_x": null,
            "overflow_y": null,
            "padding": null,
            "right": null,
            "top": null,
            "visibility": null,
            "width": null
          }
        },
        "dcc1c4fa97ba448ead3db509c84ea58b": {
          "model_module": "@jupyter-widgets/base",
          "model_name": "LayoutModel",
          "model_module_version": "1.2.0",
          "state": {
            "_model_module": "@jupyter-widgets/base",
            "_model_module_version": "1.2.0",
            "_model_name": "LayoutModel",
            "_view_count": null,
            "_view_module": "@jupyter-widgets/base",
            "_view_module_version": "1.2.0",
            "_view_name": "LayoutView",
            "align_content": null,
            "align_items": null,
            "align_self": null,
            "border": null,
            "bottom": null,
            "display": null,
            "flex": null,
            "flex_flow": null,
            "grid_area": null,
            "grid_auto_columns": null,
            "grid_auto_flow": null,
            "grid_auto_rows": null,
            "grid_column": null,
            "grid_gap": null,
            "grid_row": null,
            "grid_template_areas": null,
            "grid_template_columns": null,
            "grid_template_rows": null,
            "height": null,
            "justify_content": null,
            "justify_items": null,
            "left": null,
            "margin": null,
            "max_height": null,
            "max_width": null,
            "min_height": null,
            "min_width": null,
            "object_fit": null,
            "object_position": null,
            "order": null,
            "overflow": null,
            "overflow_x": null,
            "overflow_y": null,
            "padding": null,
            "right": null,
            "top": null,
            "visibility": null,
            "width": null
          }
        },
        "d84c6cdf39924e1983ca8092a82832fe": {
          "model_module": "@jupyter-widgets/controls",
          "model_name": "DescriptionStyleModel",
          "model_module_version": "1.5.0",
          "state": {
            "_model_module": "@jupyter-widgets/controls",
            "_model_module_version": "1.5.0",
            "_model_name": "DescriptionStyleModel",
            "_view_count": null,
            "_view_module": "@jupyter-widgets/base",
            "_view_module_version": "1.2.0",
            "_view_name": "StyleView",
            "description_width": ""
          }
        },
        "069bcef3073e4e25a930ed759097804e": {
          "model_module": "@jupyter-widgets/base",
          "model_name": "LayoutModel",
          "model_module_version": "1.2.0",
          "state": {
            "_model_module": "@jupyter-widgets/base",
            "_model_module_version": "1.2.0",
            "_model_name": "LayoutModel",
            "_view_count": null,
            "_view_module": "@jupyter-widgets/base",
            "_view_module_version": "1.2.0",
            "_view_name": "LayoutView",
            "align_content": null,
            "align_items": null,
            "align_self": null,
            "border": null,
            "bottom": null,
            "display": null,
            "flex": null,
            "flex_flow": null,
            "grid_area": null,
            "grid_auto_columns": null,
            "grid_auto_flow": null,
            "grid_auto_rows": null,
            "grid_column": null,
            "grid_gap": null,
            "grid_row": null,
            "grid_template_areas": null,
            "grid_template_columns": null,
            "grid_template_rows": null,
            "height": null,
            "justify_content": null,
            "justify_items": null,
            "left": null,
            "margin": null,
            "max_height": null,
            "max_width": null,
            "min_height": null,
            "min_width": null,
            "object_fit": null,
            "object_position": null,
            "order": null,
            "overflow": null,
            "overflow_x": null,
            "overflow_y": null,
            "padding": null,
            "right": null,
            "top": null,
            "visibility": null,
            "width": null
          }
        },
        "f400e488cabd43c8a223278284c39882": {
          "model_module": "@jupyter-widgets/controls",
          "model_name": "ProgressStyleModel",
          "model_module_version": "1.5.0",
          "state": {
            "_model_module": "@jupyter-widgets/controls",
            "_model_module_version": "1.5.0",
            "_model_name": "ProgressStyleModel",
            "_view_count": null,
            "_view_module": "@jupyter-widgets/base",
            "_view_module_version": "1.2.0",
            "_view_name": "StyleView",
            "bar_color": null,
            "description_width": ""
          }
        },
        "a9142a36d0a3404e9146af0ec0c8e988": {
          "model_module": "@jupyter-widgets/base",
          "model_name": "LayoutModel",
          "model_module_version": "1.2.0",
          "state": {
            "_model_module": "@jupyter-widgets/base",
            "_model_module_version": "1.2.0",
            "_model_name": "LayoutModel",
            "_view_count": null,
            "_view_module": "@jupyter-widgets/base",
            "_view_module_version": "1.2.0",
            "_view_name": "LayoutView",
            "align_content": null,
            "align_items": null,
            "align_self": null,
            "border": null,
            "bottom": null,
            "display": null,
            "flex": null,
            "flex_flow": null,
            "grid_area": null,
            "grid_auto_columns": null,
            "grid_auto_flow": null,
            "grid_auto_rows": null,
            "grid_column": null,
            "grid_gap": null,
            "grid_row": null,
            "grid_template_areas": null,
            "grid_template_columns": null,
            "grid_template_rows": null,
            "height": null,
            "justify_content": null,
            "justify_items": null,
            "left": null,
            "margin": null,
            "max_height": null,
            "max_width": null,
            "min_height": null,
            "min_width": null,
            "object_fit": null,
            "object_position": null,
            "order": null,
            "overflow": null,
            "overflow_x": null,
            "overflow_y": null,
            "padding": null,
            "right": null,
            "top": null,
            "visibility": null,
            "width": null
          }
        },
        "253111e609f84c6fb74b11f534b2277f": {
          "model_module": "@jupyter-widgets/controls",
          "model_name": "DescriptionStyleModel",
          "model_module_version": "1.5.0",
          "state": {
            "_model_module": "@jupyter-widgets/controls",
            "_model_module_version": "1.5.0",
            "_model_name": "DescriptionStyleModel",
            "_view_count": null,
            "_view_module": "@jupyter-widgets/base",
            "_view_module_version": "1.2.0",
            "_view_name": "StyleView",
            "description_width": ""
          }
        },
        "4befc8c581c04d2880248cee12377a36": {
          "model_module": "@jupyter-widgets/controls",
          "model_name": "HBoxModel",
          "model_module_version": "1.5.0",
          "state": {
            "_dom_classes": [],
            "_model_module": "@jupyter-widgets/controls",
            "_model_module_version": "1.5.0",
            "_model_name": "HBoxModel",
            "_view_count": null,
            "_view_module": "@jupyter-widgets/controls",
            "_view_module_version": "1.5.0",
            "_view_name": "HBoxView",
            "box_style": "",
            "children": [
              "IPY_MODEL_04084d2cfa28423190b13ed5c0296dc3",
              "IPY_MODEL_08bd47fe79704c558f57f9f7ef20aeda",
              "IPY_MODEL_15adbca7e7a94aaa82d33df3463587cb"
            ],
            "layout": "IPY_MODEL_29a2b18148d647ada189adf2ad2057d8"
          }
        },
        "04084d2cfa28423190b13ed5c0296dc3": {
          "model_module": "@jupyter-widgets/controls",
          "model_name": "HTMLModel",
          "model_module_version": "1.5.0",
          "state": {
            "_dom_classes": [],
            "_model_module": "@jupyter-widgets/controls",
            "_model_module_version": "1.5.0",
            "_model_name": "HTMLModel",
            "_view_count": null,
            "_view_module": "@jupyter-widgets/controls",
            "_view_module_version": "1.5.0",
            "_view_name": "HTMLView",
            "description": "",
            "description_tooltip": null,
            "layout": "IPY_MODEL_071e5a5ee99e4bcfa7d8c47092c6ae78",
            "placeholder": "​",
            "style": "IPY_MODEL_52a732a013914fec897d200db13feb6c",
            "value": "100%"
          }
        },
        "08bd47fe79704c558f57f9f7ef20aeda": {
          "model_module": "@jupyter-widgets/controls",
          "model_name": "FloatProgressModel",
          "model_module_version": "1.5.0",
          "state": {
            "_dom_classes": [],
            "_model_module": "@jupyter-widgets/controls",
            "_model_module_version": "1.5.0",
            "_model_name": "FloatProgressModel",
            "_view_count": null,
            "_view_module": "@jupyter-widgets/controls",
            "_view_module_version": "1.5.0",
            "_view_name": "ProgressView",
            "bar_style": "success",
            "description": "",
            "description_tooltip": null,
            "layout": "IPY_MODEL_2d3ae9276e054894885c2590979bd42a",
            "max": 1000000,
            "min": 0,
            "orientation": "horizontal",
            "style": "IPY_MODEL_a847bcb2928945b5b9cebb8ce3a55e73",
            "value": 1000000
          }
        },
        "15adbca7e7a94aaa82d33df3463587cb": {
          "model_module": "@jupyter-widgets/controls",
          "model_name": "HTMLModel",
          "model_module_version": "1.5.0",
          "state": {
            "_dom_classes": [],
            "_model_module": "@jupyter-widgets/controls",
            "_model_module_version": "1.5.0",
            "_model_name": "HTMLModel",
            "_view_count": null,
            "_view_module": "@jupyter-widgets/controls",
            "_view_module_version": "1.5.0",
            "_view_name": "HTMLView",
            "description": "",
            "description_tooltip": null,
            "layout": "IPY_MODEL_a77434fe583b47ea987f63ea99b92146",
            "placeholder": "​",
            "style": "IPY_MODEL_f4b6b5d1b01c4961a5eeadf49966844e",
            "value": " 1000000/1000000 [02:16&lt;00:00, 6346.34it/s]"
          }
        },
        "29a2b18148d647ada189adf2ad2057d8": {
          "model_module": "@jupyter-widgets/base",
          "model_name": "LayoutModel",
          "model_module_version": "1.2.0",
          "state": {
            "_model_module": "@jupyter-widgets/base",
            "_model_module_version": "1.2.0",
            "_model_name": "LayoutModel",
            "_view_count": null,
            "_view_module": "@jupyter-widgets/base",
            "_view_module_version": "1.2.0",
            "_view_name": "LayoutView",
            "align_content": null,
            "align_items": null,
            "align_self": null,
            "border": null,
            "bottom": null,
            "display": null,
            "flex": null,
            "flex_flow": null,
            "grid_area": null,
            "grid_auto_columns": null,
            "grid_auto_flow": null,
            "grid_auto_rows": null,
            "grid_column": null,
            "grid_gap": null,
            "grid_row": null,
            "grid_template_areas": null,
            "grid_template_columns": null,
            "grid_template_rows": null,
            "height": null,
            "justify_content": null,
            "justify_items": null,
            "left": null,
            "margin": null,
            "max_height": null,
            "max_width": null,
            "min_height": null,
            "min_width": null,
            "object_fit": null,
            "object_position": null,
            "order": null,
            "overflow": null,
            "overflow_x": null,
            "overflow_y": null,
            "padding": null,
            "right": null,
            "top": null,
            "visibility": null,
            "width": null
          }
        },
        "071e5a5ee99e4bcfa7d8c47092c6ae78": {
          "model_module": "@jupyter-widgets/base",
          "model_name": "LayoutModel",
          "model_module_version": "1.2.0",
          "state": {
            "_model_module": "@jupyter-widgets/base",
            "_model_module_version": "1.2.0",
            "_model_name": "LayoutModel",
            "_view_count": null,
            "_view_module": "@jupyter-widgets/base",
            "_view_module_version": "1.2.0",
            "_view_name": "LayoutView",
            "align_content": null,
            "align_items": null,
            "align_self": null,
            "border": null,
            "bottom": null,
            "display": null,
            "flex": null,
            "flex_flow": null,
            "grid_area": null,
            "grid_auto_columns": null,
            "grid_auto_flow": null,
            "grid_auto_rows": null,
            "grid_column": null,
            "grid_gap": null,
            "grid_row": null,
            "grid_template_areas": null,
            "grid_template_columns": null,
            "grid_template_rows": null,
            "height": null,
            "justify_content": null,
            "justify_items": null,
            "left": null,
            "margin": null,
            "max_height": null,
            "max_width": null,
            "min_height": null,
            "min_width": null,
            "object_fit": null,
            "object_position": null,
            "order": null,
            "overflow": null,
            "overflow_x": null,
            "overflow_y": null,
            "padding": null,
            "right": null,
            "top": null,
            "visibility": null,
            "width": null
          }
        },
        "52a732a013914fec897d200db13feb6c": {
          "model_module": "@jupyter-widgets/controls",
          "model_name": "DescriptionStyleModel",
          "model_module_version": "1.5.0",
          "state": {
            "_model_module": "@jupyter-widgets/controls",
            "_model_module_version": "1.5.0",
            "_model_name": "DescriptionStyleModel",
            "_view_count": null,
            "_view_module": "@jupyter-widgets/base",
            "_view_module_version": "1.2.0",
            "_view_name": "StyleView",
            "description_width": ""
          }
        },
        "2d3ae9276e054894885c2590979bd42a": {
          "model_module": "@jupyter-widgets/base",
          "model_name": "LayoutModel",
          "model_module_version": "1.2.0",
          "state": {
            "_model_module": "@jupyter-widgets/base",
            "_model_module_version": "1.2.0",
            "_model_name": "LayoutModel",
            "_view_count": null,
            "_view_module": "@jupyter-widgets/base",
            "_view_module_version": "1.2.0",
            "_view_name": "LayoutView",
            "align_content": null,
            "align_items": null,
            "align_self": null,
            "border": null,
            "bottom": null,
            "display": null,
            "flex": null,
            "flex_flow": null,
            "grid_area": null,
            "grid_auto_columns": null,
            "grid_auto_flow": null,
            "grid_auto_rows": null,
            "grid_column": null,
            "grid_gap": null,
            "grid_row": null,
            "grid_template_areas": null,
            "grid_template_columns": null,
            "grid_template_rows": null,
            "height": null,
            "justify_content": null,
            "justify_items": null,
            "left": null,
            "margin": null,
            "max_height": null,
            "max_width": null,
            "min_height": null,
            "min_width": null,
            "object_fit": null,
            "object_position": null,
            "order": null,
            "overflow": null,
            "overflow_x": null,
            "overflow_y": null,
            "padding": null,
            "right": null,
            "top": null,
            "visibility": null,
            "width": null
          }
        },
        "a847bcb2928945b5b9cebb8ce3a55e73": {
          "model_module": "@jupyter-widgets/controls",
          "model_name": "ProgressStyleModel",
          "model_module_version": "1.5.0",
          "state": {
            "_model_module": "@jupyter-widgets/controls",
            "_model_module_version": "1.5.0",
            "_model_name": "ProgressStyleModel",
            "_view_count": null,
            "_view_module": "@jupyter-widgets/base",
            "_view_module_version": "1.2.0",
            "_view_name": "StyleView",
            "bar_color": null,
            "description_width": ""
          }
        },
        "a77434fe583b47ea987f63ea99b92146": {
          "model_module": "@jupyter-widgets/base",
          "model_name": "LayoutModel",
          "model_module_version": "1.2.0",
          "state": {
            "_model_module": "@jupyter-widgets/base",
            "_model_module_version": "1.2.0",
            "_model_name": "LayoutModel",
            "_view_count": null,
            "_view_module": "@jupyter-widgets/base",
            "_view_module_version": "1.2.0",
            "_view_name": "LayoutView",
            "align_content": null,
            "align_items": null,
            "align_self": null,
            "border": null,
            "bottom": null,
            "display": null,
            "flex": null,
            "flex_flow": null,
            "grid_area": null,
            "grid_auto_columns": null,
            "grid_auto_flow": null,
            "grid_auto_rows": null,
            "grid_column": null,
            "grid_gap": null,
            "grid_row": null,
            "grid_template_areas": null,
            "grid_template_columns": null,
            "grid_template_rows": null,
            "height": null,
            "justify_content": null,
            "justify_items": null,
            "left": null,
            "margin": null,
            "max_height": null,
            "max_width": null,
            "min_height": null,
            "min_width": null,
            "object_fit": null,
            "object_position": null,
            "order": null,
            "overflow": null,
            "overflow_x": null,
            "overflow_y": null,
            "padding": null,
            "right": null,
            "top": null,
            "visibility": null,
            "width": null
          }
        },
        "f4b6b5d1b01c4961a5eeadf49966844e": {
          "model_module": "@jupyter-widgets/controls",
          "model_name": "DescriptionStyleModel",
          "model_module_version": "1.5.0",
          "state": {
            "_model_module": "@jupyter-widgets/controls",
            "_model_module_version": "1.5.0",
            "_model_name": "DescriptionStyleModel",
            "_view_count": null,
            "_view_module": "@jupyter-widgets/base",
            "_view_module_version": "1.2.0",
            "_view_name": "StyleView",
            "description_width": ""
          }
        },
        "0520f956327c4c658ebb7792600f147e": {
          "model_module": "@jupyter-widgets/controls",
          "model_name": "HBoxModel",
          "model_module_version": "1.5.0",
          "state": {
            "_dom_classes": [],
            "_model_module": "@jupyter-widgets/controls",
            "_model_module_version": "1.5.0",
            "_model_name": "HBoxModel",
            "_view_count": null,
            "_view_module": "@jupyter-widgets/controls",
            "_view_module_version": "1.5.0",
            "_view_name": "HBoxView",
            "box_style": "",
            "children": [
              "IPY_MODEL_198c090a4b6e47b7b0106206e47fcd35",
              "IPY_MODEL_2686bfb81dd840f7ac6df5ebb382f86b",
              "IPY_MODEL_ce2255b1e360448397a207282ef0941c"
            ],
            "layout": "IPY_MODEL_f8d4d476c4e748e2b66a58f78b647fa3"
          }
        },
        "198c090a4b6e47b7b0106206e47fcd35": {
          "model_module": "@jupyter-widgets/controls",
          "model_name": "HTMLModel",
          "model_module_version": "1.5.0",
          "state": {
            "_dom_classes": [],
            "_model_module": "@jupyter-widgets/controls",
            "_model_module_version": "1.5.0",
            "_model_name": "HTMLModel",
            "_view_count": null,
            "_view_module": "@jupyter-widgets/controls",
            "_view_module_version": "1.5.0",
            "_view_name": "HTMLView",
            "description": "",
            "description_tooltip": null,
            "layout": "IPY_MODEL_22e07854e2a84f57a39973db865fc7df",
            "placeholder": "​",
            "style": "IPY_MODEL_934041dedf644d1b8187557bd29dfcec",
            "value": "100%"
          }
        },
        "2686bfb81dd840f7ac6df5ebb382f86b": {
          "model_module": "@jupyter-widgets/controls",
          "model_name": "FloatProgressModel",
          "model_module_version": "1.5.0",
          "state": {
            "_dom_classes": [],
            "_model_module": "@jupyter-widgets/controls",
            "_model_module_version": "1.5.0",
            "_model_name": "FloatProgressModel",
            "_view_count": null,
            "_view_module": "@jupyter-widgets/controls",
            "_view_module_version": "1.5.0",
            "_view_name": "ProgressView",
            "bar_style": "success",
            "description": "",
            "description_tooltip": null,
            "layout": "IPY_MODEL_c7d3ec9bf0a94cb09ab45cc6b038e89b",
            "max": 50000,
            "min": 0,
            "orientation": "horizontal",
            "style": "IPY_MODEL_74a04307eb0349dc875e0a8a166a1dd6",
            "value": 50000
          }
        },
        "ce2255b1e360448397a207282ef0941c": {
          "model_module": "@jupyter-widgets/controls",
          "model_name": "HTMLModel",
          "model_module_version": "1.5.0",
          "state": {
            "_dom_classes": [],
            "_model_module": "@jupyter-widgets/controls",
            "_model_module_version": "1.5.0",
            "_model_name": "HTMLModel",
            "_view_count": null,
            "_view_module": "@jupyter-widgets/controls",
            "_view_module_version": "1.5.0",
            "_view_name": "HTMLView",
            "description": "",
            "description_tooltip": null,
            "layout": "IPY_MODEL_b37dc4278e704216b36cab4ab5950904",
            "placeholder": "​",
            "style": "IPY_MODEL_e22eabf00c7c48a8b20a181ddd68372f",
            "value": " 50000/50000 [00:01&lt;00:00, 40552.15it/s]"
          }
        },
        "f8d4d476c4e748e2b66a58f78b647fa3": {
          "model_module": "@jupyter-widgets/base",
          "model_name": "LayoutModel",
          "model_module_version": "1.2.0",
          "state": {
            "_model_module": "@jupyter-widgets/base",
            "_model_module_version": "1.2.0",
            "_model_name": "LayoutModel",
            "_view_count": null,
            "_view_module": "@jupyter-widgets/base",
            "_view_module_version": "1.2.0",
            "_view_name": "LayoutView",
            "align_content": null,
            "align_items": null,
            "align_self": null,
            "border": null,
            "bottom": null,
            "display": null,
            "flex": null,
            "flex_flow": null,
            "grid_area": null,
            "grid_auto_columns": null,
            "grid_auto_flow": null,
            "grid_auto_rows": null,
            "grid_column": null,
            "grid_gap": null,
            "grid_row": null,
            "grid_template_areas": null,
            "grid_template_columns": null,
            "grid_template_rows": null,
            "height": null,
            "justify_content": null,
            "justify_items": null,
            "left": null,
            "margin": null,
            "max_height": null,
            "max_width": null,
            "min_height": null,
            "min_width": null,
            "object_fit": null,
            "object_position": null,
            "order": null,
            "overflow": null,
            "overflow_x": null,
            "overflow_y": null,
            "padding": null,
            "right": null,
            "top": null,
            "visibility": null,
            "width": null
          }
        },
        "22e07854e2a84f57a39973db865fc7df": {
          "model_module": "@jupyter-widgets/base",
          "model_name": "LayoutModel",
          "model_module_version": "1.2.0",
          "state": {
            "_model_module": "@jupyter-widgets/base",
            "_model_module_version": "1.2.0",
            "_model_name": "LayoutModel",
            "_view_count": null,
            "_view_module": "@jupyter-widgets/base",
            "_view_module_version": "1.2.0",
            "_view_name": "LayoutView",
            "align_content": null,
            "align_items": null,
            "align_self": null,
            "border": null,
            "bottom": null,
            "display": null,
            "flex": null,
            "flex_flow": null,
            "grid_area": null,
            "grid_auto_columns": null,
            "grid_auto_flow": null,
            "grid_auto_rows": null,
            "grid_column": null,
            "grid_gap": null,
            "grid_row": null,
            "grid_template_areas": null,
            "grid_template_columns": null,
            "grid_template_rows": null,
            "height": null,
            "justify_content": null,
            "justify_items": null,
            "left": null,
            "margin": null,
            "max_height": null,
            "max_width": null,
            "min_height": null,
            "min_width": null,
            "object_fit": null,
            "object_position": null,
            "order": null,
            "overflow": null,
            "overflow_x": null,
            "overflow_y": null,
            "padding": null,
            "right": null,
            "top": null,
            "visibility": null,
            "width": null
          }
        },
        "934041dedf644d1b8187557bd29dfcec": {
          "model_module": "@jupyter-widgets/controls",
          "model_name": "DescriptionStyleModel",
          "model_module_version": "1.5.0",
          "state": {
            "_model_module": "@jupyter-widgets/controls",
            "_model_module_version": "1.5.0",
            "_model_name": "DescriptionStyleModel",
            "_view_count": null,
            "_view_module": "@jupyter-widgets/base",
            "_view_module_version": "1.2.0",
            "_view_name": "StyleView",
            "description_width": ""
          }
        },
        "c7d3ec9bf0a94cb09ab45cc6b038e89b": {
          "model_module": "@jupyter-widgets/base",
          "model_name": "LayoutModel",
          "model_module_version": "1.2.0",
          "state": {
            "_model_module": "@jupyter-widgets/base",
            "_model_module_version": "1.2.0",
            "_model_name": "LayoutModel",
            "_view_count": null,
            "_view_module": "@jupyter-widgets/base",
            "_view_module_version": "1.2.0",
            "_view_name": "LayoutView",
            "align_content": null,
            "align_items": null,
            "align_self": null,
            "border": null,
            "bottom": null,
            "display": null,
            "flex": null,
            "flex_flow": null,
            "grid_area": null,
            "grid_auto_columns": null,
            "grid_auto_flow": null,
            "grid_auto_rows": null,
            "grid_column": null,
            "grid_gap": null,
            "grid_row": null,
            "grid_template_areas": null,
            "grid_template_columns": null,
            "grid_template_rows": null,
            "height": null,
            "justify_content": null,
            "justify_items": null,
            "left": null,
            "margin": null,
            "max_height": null,
            "max_width": null,
            "min_height": null,
            "min_width": null,
            "object_fit": null,
            "object_position": null,
            "order": null,
            "overflow": null,
            "overflow_x": null,
            "overflow_y": null,
            "padding": null,
            "right": null,
            "top": null,
            "visibility": null,
            "width": null
          }
        },
        "74a04307eb0349dc875e0a8a166a1dd6": {
          "model_module": "@jupyter-widgets/controls",
          "model_name": "ProgressStyleModel",
          "model_module_version": "1.5.0",
          "state": {
            "_model_module": "@jupyter-widgets/controls",
            "_model_module_version": "1.5.0",
            "_model_name": "ProgressStyleModel",
            "_view_count": null,
            "_view_module": "@jupyter-widgets/base",
            "_view_module_version": "1.2.0",
            "_view_name": "StyleView",
            "bar_color": null,
            "description_width": ""
          }
        },
        "b37dc4278e704216b36cab4ab5950904": {
          "model_module": "@jupyter-widgets/base",
          "model_name": "LayoutModel",
          "model_module_version": "1.2.0",
          "state": {
            "_model_module": "@jupyter-widgets/base",
            "_model_module_version": "1.2.0",
            "_model_name": "LayoutModel",
            "_view_count": null,
            "_view_module": "@jupyter-widgets/base",
            "_view_module_version": "1.2.0",
            "_view_name": "LayoutView",
            "align_content": null,
            "align_items": null,
            "align_self": null,
            "border": null,
            "bottom": null,
            "display": null,
            "flex": null,
            "flex_flow": null,
            "grid_area": null,
            "grid_auto_columns": null,
            "grid_auto_flow": null,
            "grid_auto_rows": null,
            "grid_column": null,
            "grid_gap": null,
            "grid_row": null,
            "grid_template_areas": null,
            "grid_template_columns": null,
            "grid_template_rows": null,
            "height": null,
            "justify_content": null,
            "justify_items": null,
            "left": null,
            "margin": null,
            "max_height": null,
            "max_width": null,
            "min_height": null,
            "min_width": null,
            "object_fit": null,
            "object_position": null,
            "order": null,
            "overflow": null,
            "overflow_x": null,
            "overflow_y": null,
            "padding": null,
            "right": null,
            "top": null,
            "visibility": null,
            "width": null
          }
        },
        "e22eabf00c7c48a8b20a181ddd68372f": {
          "model_module": "@jupyter-widgets/controls",
          "model_name": "DescriptionStyleModel",
          "model_module_version": "1.5.0",
          "state": {
            "_model_module": "@jupyter-widgets/controls",
            "_model_module_version": "1.5.0",
            "_model_name": "DescriptionStyleModel",
            "_view_count": null,
            "_view_module": "@jupyter-widgets/base",
            "_view_module_version": "1.2.0",
            "_view_name": "StyleView",
            "description_width": ""
          }
        },
        "21e0815fccac4e63821ec7e59cc3618f": {
          "model_module": "@jupyter-widgets/controls",
          "model_name": "HBoxModel",
          "model_module_version": "1.5.0",
          "state": {
            "_dom_classes": [],
            "_model_module": "@jupyter-widgets/controls",
            "_model_module_version": "1.5.0",
            "_model_name": "HBoxModel",
            "_view_count": null,
            "_view_module": "@jupyter-widgets/controls",
            "_view_module_version": "1.5.0",
            "_view_name": "HBoxView",
            "box_style": "",
            "children": [
              "IPY_MODEL_f6d67ffa5b5546aa90d9cac9d2a746bc",
              "IPY_MODEL_f008409d9ae44e27bb3568929cf46f1c",
              "IPY_MODEL_facb339b1a8648f9b903908c314edee4"
            ],
            "layout": "IPY_MODEL_880a5b797b7840159a0f5b7faaae4946"
          }
        },
        "f6d67ffa5b5546aa90d9cac9d2a746bc": {
          "model_module": "@jupyter-widgets/controls",
          "model_name": "HTMLModel",
          "model_module_version": "1.5.0",
          "state": {
            "_dom_classes": [],
            "_model_module": "@jupyter-widgets/controls",
            "_model_module_version": "1.5.0",
            "_model_name": "HTMLModel",
            "_view_count": null,
            "_view_module": "@jupyter-widgets/controls",
            "_view_module_version": "1.5.0",
            "_view_name": "HTMLView",
            "description": "",
            "description_tooltip": null,
            "layout": "IPY_MODEL_5d7e03b00cec44338487c5f3fc6b8f54",
            "placeholder": "​",
            "style": "IPY_MODEL_abacdb14a1cf4c768d7fcdb0b96f85e8",
            "value": "100%"
          }
        },
        "f008409d9ae44e27bb3568929cf46f1c": {
          "model_module": "@jupyter-widgets/controls",
          "model_name": "FloatProgressModel",
          "model_module_version": "1.5.0",
          "state": {
            "_dom_classes": [],
            "_model_module": "@jupyter-widgets/controls",
            "_model_module_version": "1.5.0",
            "_model_name": "FloatProgressModel",
            "_view_count": null,
            "_view_module": "@jupyter-widgets/controls",
            "_view_module_version": "1.5.0",
            "_view_name": "ProgressView",
            "bar_style": "success",
            "description": "",
            "description_tooltip": null,
            "layout": "IPY_MODEL_baed5501ab1146b3828e5cd89e0a8ba5",
            "max": 50000,
            "min": 0,
            "orientation": "horizontal",
            "style": "IPY_MODEL_d7c160b2a2134726852b714759eccfd8",
            "value": 50000
          }
        },
        "facb339b1a8648f9b903908c314edee4": {
          "model_module": "@jupyter-widgets/controls",
          "model_name": "HTMLModel",
          "model_module_version": "1.5.0",
          "state": {
            "_dom_classes": [],
            "_model_module": "@jupyter-widgets/controls",
            "_model_module_version": "1.5.0",
            "_model_name": "HTMLModel",
            "_view_count": null,
            "_view_module": "@jupyter-widgets/controls",
            "_view_module_version": "1.5.0",
            "_view_name": "HTMLView",
            "description": "",
            "description_tooltip": null,
            "layout": "IPY_MODEL_690882b647034e1fb2ed3d2a7219ee6a",
            "placeholder": "​",
            "style": "IPY_MODEL_08b97849941346d3b28ba48f42402401",
            "value": " 50000/50000 [00:06&lt;00:00, 7471.31it/s]"
          }
        },
        "880a5b797b7840159a0f5b7faaae4946": {
          "model_module": "@jupyter-widgets/base",
          "model_name": "LayoutModel",
          "model_module_version": "1.2.0",
          "state": {
            "_model_module": "@jupyter-widgets/base",
            "_model_module_version": "1.2.0",
            "_model_name": "LayoutModel",
            "_view_count": null,
            "_view_module": "@jupyter-widgets/base",
            "_view_module_version": "1.2.0",
            "_view_name": "LayoutView",
            "align_content": null,
            "align_items": null,
            "align_self": null,
            "border": null,
            "bottom": null,
            "display": null,
            "flex": null,
            "flex_flow": null,
            "grid_area": null,
            "grid_auto_columns": null,
            "grid_auto_flow": null,
            "grid_auto_rows": null,
            "grid_column": null,
            "grid_gap": null,
            "grid_row": null,
            "grid_template_areas": null,
            "grid_template_columns": null,
            "grid_template_rows": null,
            "height": null,
            "justify_content": null,
            "justify_items": null,
            "left": null,
            "margin": null,
            "max_height": null,
            "max_width": null,
            "min_height": null,
            "min_width": null,
            "object_fit": null,
            "object_position": null,
            "order": null,
            "overflow": null,
            "overflow_x": null,
            "overflow_y": null,
            "padding": null,
            "right": null,
            "top": null,
            "visibility": null,
            "width": null
          }
        },
        "5d7e03b00cec44338487c5f3fc6b8f54": {
          "model_module": "@jupyter-widgets/base",
          "model_name": "LayoutModel",
          "model_module_version": "1.2.0",
          "state": {
            "_model_module": "@jupyter-widgets/base",
            "_model_module_version": "1.2.0",
            "_model_name": "LayoutModel",
            "_view_count": null,
            "_view_module": "@jupyter-widgets/base",
            "_view_module_version": "1.2.0",
            "_view_name": "LayoutView",
            "align_content": null,
            "align_items": null,
            "align_self": null,
            "border": null,
            "bottom": null,
            "display": null,
            "flex": null,
            "flex_flow": null,
            "grid_area": null,
            "grid_auto_columns": null,
            "grid_auto_flow": null,
            "grid_auto_rows": null,
            "grid_column": null,
            "grid_gap": null,
            "grid_row": null,
            "grid_template_areas": null,
            "grid_template_columns": null,
            "grid_template_rows": null,
            "height": null,
            "justify_content": null,
            "justify_items": null,
            "left": null,
            "margin": null,
            "max_height": null,
            "max_width": null,
            "min_height": null,
            "min_width": null,
            "object_fit": null,
            "object_position": null,
            "order": null,
            "overflow": null,
            "overflow_x": null,
            "overflow_y": null,
            "padding": null,
            "right": null,
            "top": null,
            "visibility": null,
            "width": null
          }
        },
        "abacdb14a1cf4c768d7fcdb0b96f85e8": {
          "model_module": "@jupyter-widgets/controls",
          "model_name": "DescriptionStyleModel",
          "model_module_version": "1.5.0",
          "state": {
            "_model_module": "@jupyter-widgets/controls",
            "_model_module_version": "1.5.0",
            "_model_name": "DescriptionStyleModel",
            "_view_count": null,
            "_view_module": "@jupyter-widgets/base",
            "_view_module_version": "1.2.0",
            "_view_name": "StyleView",
            "description_width": ""
          }
        },
        "baed5501ab1146b3828e5cd89e0a8ba5": {
          "model_module": "@jupyter-widgets/base",
          "model_name": "LayoutModel",
          "model_module_version": "1.2.0",
          "state": {
            "_model_module": "@jupyter-widgets/base",
            "_model_module_version": "1.2.0",
            "_model_name": "LayoutModel",
            "_view_count": null,
            "_view_module": "@jupyter-widgets/base",
            "_view_module_version": "1.2.0",
            "_view_name": "LayoutView",
            "align_content": null,
            "align_items": null,
            "align_self": null,
            "border": null,
            "bottom": null,
            "display": null,
            "flex": null,
            "flex_flow": null,
            "grid_area": null,
            "grid_auto_columns": null,
            "grid_auto_flow": null,
            "grid_auto_rows": null,
            "grid_column": null,
            "grid_gap": null,
            "grid_row": null,
            "grid_template_areas": null,
            "grid_template_columns": null,
            "grid_template_rows": null,
            "height": null,
            "justify_content": null,
            "justify_items": null,
            "left": null,
            "margin": null,
            "max_height": null,
            "max_width": null,
            "min_height": null,
            "min_width": null,
            "object_fit": null,
            "object_position": null,
            "order": null,
            "overflow": null,
            "overflow_x": null,
            "overflow_y": null,
            "padding": null,
            "right": null,
            "top": null,
            "visibility": null,
            "width": null
          }
        },
        "d7c160b2a2134726852b714759eccfd8": {
          "model_module": "@jupyter-widgets/controls",
          "model_name": "ProgressStyleModel",
          "model_module_version": "1.5.0",
          "state": {
            "_model_module": "@jupyter-widgets/controls",
            "_model_module_version": "1.5.0",
            "_model_name": "ProgressStyleModel",
            "_view_count": null,
            "_view_module": "@jupyter-widgets/base",
            "_view_module_version": "1.2.0",
            "_view_name": "StyleView",
            "bar_color": null,
            "description_width": ""
          }
        },
        "690882b647034e1fb2ed3d2a7219ee6a": {
          "model_module": "@jupyter-widgets/base",
          "model_name": "LayoutModel",
          "model_module_version": "1.2.0",
          "state": {
            "_model_module": "@jupyter-widgets/base",
            "_model_module_version": "1.2.0",
            "_model_name": "LayoutModel",
            "_view_count": null,
            "_view_module": "@jupyter-widgets/base",
            "_view_module_version": "1.2.0",
            "_view_name": "LayoutView",
            "align_content": null,
            "align_items": null,
            "align_self": null,
            "border": null,
            "bottom": null,
            "display": null,
            "flex": null,
            "flex_flow": null,
            "grid_area": null,
            "grid_auto_columns": null,
            "grid_auto_flow": null,
            "grid_auto_rows": null,
            "grid_column": null,
            "grid_gap": null,
            "grid_row": null,
            "grid_template_areas": null,
            "grid_template_columns": null,
            "grid_template_rows": null,
            "height": null,
            "justify_content": null,
            "justify_items": null,
            "left": null,
            "margin": null,
            "max_height": null,
            "max_width": null,
            "min_height": null,
            "min_width": null,
            "object_fit": null,
            "object_position": null,
            "order": null,
            "overflow": null,
            "overflow_x": null,
            "overflow_y": null,
            "padding": null,
            "right": null,
            "top": null,
            "visibility": null,
            "width": null
          }
        },
        "08b97849941346d3b28ba48f42402401": {
          "model_module": "@jupyter-widgets/controls",
          "model_name": "DescriptionStyleModel",
          "model_module_version": "1.5.0",
          "state": {
            "_model_module": "@jupyter-widgets/controls",
            "_model_module_version": "1.5.0",
            "_model_name": "DescriptionStyleModel",
            "_view_count": null,
            "_view_module": "@jupyter-widgets/base",
            "_view_module_version": "1.2.0",
            "_view_name": "StyleView",
            "description_width": ""
          }
        },
        "ac7a2a06bbef47048089f0ad631bb2f8": {
          "model_module": "@jupyter-widgets/controls",
          "model_name": "HBoxModel",
          "model_module_version": "1.5.0",
          "state": {
            "_dom_classes": [],
            "_model_module": "@jupyter-widgets/controls",
            "_model_module_version": "1.5.0",
            "_model_name": "HBoxModel",
            "_view_count": null,
            "_view_module": "@jupyter-widgets/controls",
            "_view_module_version": "1.5.0",
            "_view_name": "HBoxView",
            "box_style": "",
            "children": [
              "IPY_MODEL_ee309e979f64445d8c0148d5c7e64af6",
              "IPY_MODEL_3e9e8a4e37a045ff8ec6ebc5792ae87d",
              "IPY_MODEL_1e466abca85047d6ad98aa9dad1d39f5"
            ],
            "layout": "IPY_MODEL_3592c3e0c7af4f7e9a89fe3a59c9895c"
          }
        },
        "ee309e979f64445d8c0148d5c7e64af6": {
          "model_module": "@jupyter-widgets/controls",
          "model_name": "HTMLModel",
          "model_module_version": "1.5.0",
          "state": {
            "_dom_classes": [],
            "_model_module": "@jupyter-widgets/controls",
            "_model_module_version": "1.5.0",
            "_model_name": "HTMLModel",
            "_view_count": null,
            "_view_module": "@jupyter-widgets/controls",
            "_view_module_version": "1.5.0",
            "_view_name": "HTMLView",
            "description": "",
            "description_tooltip": null,
            "layout": "IPY_MODEL_d0578c9a851a408ebf8afa99016f34d5",
            "placeholder": "​",
            "style": "IPY_MODEL_c400652231a24fe5b3931c994f29be44",
            "value": "100%"
          }
        },
        "3e9e8a4e37a045ff8ec6ebc5792ae87d": {
          "model_module": "@jupyter-widgets/controls",
          "model_name": "FloatProgressModel",
          "model_module_version": "1.5.0",
          "state": {
            "_dom_classes": [],
            "_model_module": "@jupyter-widgets/controls",
            "_model_module_version": "1.5.0",
            "_model_name": "FloatProgressModel",
            "_view_count": null,
            "_view_module": "@jupyter-widgets/controls",
            "_view_module_version": "1.5.0",
            "_view_name": "ProgressView",
            "bar_style": "success",
            "description": "",
            "description_tooltip": null,
            "layout": "IPY_MODEL_81fd166a6d1c47aaac84a0c4e23a5b31",
            "max": 50000,
            "min": 0,
            "orientation": "horizontal",
            "style": "IPY_MODEL_68c8a313f7f64c1aa94858bbc1820211",
            "value": 50000
          }
        },
        "1e466abca85047d6ad98aa9dad1d39f5": {
          "model_module": "@jupyter-widgets/controls",
          "model_name": "HTMLModel",
          "model_module_version": "1.5.0",
          "state": {
            "_dom_classes": [],
            "_model_module": "@jupyter-widgets/controls",
            "_model_module_version": "1.5.0",
            "_model_name": "HTMLModel",
            "_view_count": null,
            "_view_module": "@jupyter-widgets/controls",
            "_view_module_version": "1.5.0",
            "_view_name": "HTMLView",
            "description": "",
            "description_tooltip": null,
            "layout": "IPY_MODEL_901b3d5740b345d193b6665a186665a1",
            "placeholder": "​",
            "style": "IPY_MODEL_4bb5e2c5b3084b84908c68e2d7e29820",
            "value": " 50000/50000 [00:01&lt;00:00, 40722.47it/s]"
          }
        },
        "3592c3e0c7af4f7e9a89fe3a59c9895c": {
          "model_module": "@jupyter-widgets/base",
          "model_name": "LayoutModel",
          "model_module_version": "1.2.0",
          "state": {
            "_model_module": "@jupyter-widgets/base",
            "_model_module_version": "1.2.0",
            "_model_name": "LayoutModel",
            "_view_count": null,
            "_view_module": "@jupyter-widgets/base",
            "_view_module_version": "1.2.0",
            "_view_name": "LayoutView",
            "align_content": null,
            "align_items": null,
            "align_self": null,
            "border": null,
            "bottom": null,
            "display": null,
            "flex": null,
            "flex_flow": null,
            "grid_area": null,
            "grid_auto_columns": null,
            "grid_auto_flow": null,
            "grid_auto_rows": null,
            "grid_column": null,
            "grid_gap": null,
            "grid_row": null,
            "grid_template_areas": null,
            "grid_template_columns": null,
            "grid_template_rows": null,
            "height": null,
            "justify_content": null,
            "justify_items": null,
            "left": null,
            "margin": null,
            "max_height": null,
            "max_width": null,
            "min_height": null,
            "min_width": null,
            "object_fit": null,
            "object_position": null,
            "order": null,
            "overflow": null,
            "overflow_x": null,
            "overflow_y": null,
            "padding": null,
            "right": null,
            "top": null,
            "visibility": null,
            "width": null
          }
        },
        "d0578c9a851a408ebf8afa99016f34d5": {
          "model_module": "@jupyter-widgets/base",
          "model_name": "LayoutModel",
          "model_module_version": "1.2.0",
          "state": {
            "_model_module": "@jupyter-widgets/base",
            "_model_module_version": "1.2.0",
            "_model_name": "LayoutModel",
            "_view_count": null,
            "_view_module": "@jupyter-widgets/base",
            "_view_module_version": "1.2.0",
            "_view_name": "LayoutView",
            "align_content": null,
            "align_items": null,
            "align_self": null,
            "border": null,
            "bottom": null,
            "display": null,
            "flex": null,
            "flex_flow": null,
            "grid_area": null,
            "grid_auto_columns": null,
            "grid_auto_flow": null,
            "grid_auto_rows": null,
            "grid_column": null,
            "grid_gap": null,
            "grid_row": null,
            "grid_template_areas": null,
            "grid_template_columns": null,
            "grid_template_rows": null,
            "height": null,
            "justify_content": null,
            "justify_items": null,
            "left": null,
            "margin": null,
            "max_height": null,
            "max_width": null,
            "min_height": null,
            "min_width": null,
            "object_fit": null,
            "object_position": null,
            "order": null,
            "overflow": null,
            "overflow_x": null,
            "overflow_y": null,
            "padding": null,
            "right": null,
            "top": null,
            "visibility": null,
            "width": null
          }
        },
        "c400652231a24fe5b3931c994f29be44": {
          "model_module": "@jupyter-widgets/controls",
          "model_name": "DescriptionStyleModel",
          "model_module_version": "1.5.0",
          "state": {
            "_model_module": "@jupyter-widgets/controls",
            "_model_module_version": "1.5.0",
            "_model_name": "DescriptionStyleModel",
            "_view_count": null,
            "_view_module": "@jupyter-widgets/base",
            "_view_module_version": "1.2.0",
            "_view_name": "StyleView",
            "description_width": ""
          }
        },
        "81fd166a6d1c47aaac84a0c4e23a5b31": {
          "model_module": "@jupyter-widgets/base",
          "model_name": "LayoutModel",
          "model_module_version": "1.2.0",
          "state": {
            "_model_module": "@jupyter-widgets/base",
            "_model_module_version": "1.2.0",
            "_model_name": "LayoutModel",
            "_view_count": null,
            "_view_module": "@jupyter-widgets/base",
            "_view_module_version": "1.2.0",
            "_view_name": "LayoutView",
            "align_content": null,
            "align_items": null,
            "align_self": null,
            "border": null,
            "bottom": null,
            "display": null,
            "flex": null,
            "flex_flow": null,
            "grid_area": null,
            "grid_auto_columns": null,
            "grid_auto_flow": null,
            "grid_auto_rows": null,
            "grid_column": null,
            "grid_gap": null,
            "grid_row": null,
            "grid_template_areas": null,
            "grid_template_columns": null,
            "grid_template_rows": null,
            "height": null,
            "justify_content": null,
            "justify_items": null,
            "left": null,
            "margin": null,
            "max_height": null,
            "max_width": null,
            "min_height": null,
            "min_width": null,
            "object_fit": null,
            "object_position": null,
            "order": null,
            "overflow": null,
            "overflow_x": null,
            "overflow_y": null,
            "padding": null,
            "right": null,
            "top": null,
            "visibility": null,
            "width": null
          }
        },
        "68c8a313f7f64c1aa94858bbc1820211": {
          "model_module": "@jupyter-widgets/controls",
          "model_name": "ProgressStyleModel",
          "model_module_version": "1.5.0",
          "state": {
            "_model_module": "@jupyter-widgets/controls",
            "_model_module_version": "1.5.0",
            "_model_name": "ProgressStyleModel",
            "_view_count": null,
            "_view_module": "@jupyter-widgets/base",
            "_view_module_version": "1.2.0",
            "_view_name": "StyleView",
            "bar_color": null,
            "description_width": ""
          }
        },
        "901b3d5740b345d193b6665a186665a1": {
          "model_module": "@jupyter-widgets/base",
          "model_name": "LayoutModel",
          "model_module_version": "1.2.0",
          "state": {
            "_model_module": "@jupyter-widgets/base",
            "_model_module_version": "1.2.0",
            "_model_name": "LayoutModel",
            "_view_count": null,
            "_view_module": "@jupyter-widgets/base",
            "_view_module_version": "1.2.0",
            "_view_name": "LayoutView",
            "align_content": null,
            "align_items": null,
            "align_self": null,
            "border": null,
            "bottom": null,
            "display": null,
            "flex": null,
            "flex_flow": null,
            "grid_area": null,
            "grid_auto_columns": null,
            "grid_auto_flow": null,
            "grid_auto_rows": null,
            "grid_column": null,
            "grid_gap": null,
            "grid_row": null,
            "grid_template_areas": null,
            "grid_template_columns": null,
            "grid_template_rows": null,
            "height": null,
            "justify_content": null,
            "justify_items": null,
            "left": null,
            "margin": null,
            "max_height": null,
            "max_width": null,
            "min_height": null,
            "min_width": null,
            "object_fit": null,
            "object_position": null,
            "order": null,
            "overflow": null,
            "overflow_x": null,
            "overflow_y": null,
            "padding": null,
            "right": null,
            "top": null,
            "visibility": null,
            "width": null
          }
        },
        "4bb5e2c5b3084b84908c68e2d7e29820": {
          "model_module": "@jupyter-widgets/controls",
          "model_name": "DescriptionStyleModel",
          "model_module_version": "1.5.0",
          "state": {
            "_model_module": "@jupyter-widgets/controls",
            "_model_module_version": "1.5.0",
            "_model_name": "DescriptionStyleModel",
            "_view_count": null,
            "_view_module": "@jupyter-widgets/base",
            "_view_module_version": "1.2.0",
            "_view_name": "StyleView",
            "description_width": ""
          }
        },
        "3b6df463ff45462194d6128b1f1b22f1": {
          "model_module": "@jupyter-widgets/controls",
          "model_name": "HBoxModel",
          "model_module_version": "1.5.0",
          "state": {
            "_dom_classes": [],
            "_model_module": "@jupyter-widgets/controls",
            "_model_module_version": "1.5.0",
            "_model_name": "HBoxModel",
            "_view_count": null,
            "_view_module": "@jupyter-widgets/controls",
            "_view_module_version": "1.5.0",
            "_view_name": "HBoxView",
            "box_style": "",
            "children": [
              "IPY_MODEL_7aaa1465c6e84274b0cdeb81c44988a6",
              "IPY_MODEL_7f165c81b158468a8457693603875594",
              "IPY_MODEL_10ea9f691c6d4fa88529b4000df9b401"
            ],
            "layout": "IPY_MODEL_eaddcc59395f4bc5943a5b576fcb98fd"
          }
        },
        "7aaa1465c6e84274b0cdeb81c44988a6": {
          "model_module": "@jupyter-widgets/controls",
          "model_name": "HTMLModel",
          "model_module_version": "1.5.0",
          "state": {
            "_dom_classes": [],
            "_model_module": "@jupyter-widgets/controls",
            "_model_module_version": "1.5.0",
            "_model_name": "HTMLModel",
            "_view_count": null,
            "_view_module": "@jupyter-widgets/controls",
            "_view_module_version": "1.5.0",
            "_view_name": "HTMLView",
            "description": "",
            "description_tooltip": null,
            "layout": "IPY_MODEL_701791e657fe4778b7bca86f6d2bfa67",
            "placeholder": "​",
            "style": "IPY_MODEL_8c8ff03ca30a4006ac95705a753fac4d",
            "value": "100%"
          }
        },
        "7f165c81b158468a8457693603875594": {
          "model_module": "@jupyter-widgets/controls",
          "model_name": "FloatProgressModel",
          "model_module_version": "1.5.0",
          "state": {
            "_dom_classes": [],
            "_model_module": "@jupyter-widgets/controls",
            "_model_module_version": "1.5.0",
            "_model_name": "FloatProgressModel",
            "_view_count": null,
            "_view_module": "@jupyter-widgets/controls",
            "_view_module_version": "1.5.0",
            "_view_name": "ProgressView",
            "bar_style": "success",
            "description": "",
            "description_tooltip": null,
            "layout": "IPY_MODEL_240e632d5f87404797bea53216d38557",
            "max": 50000,
            "min": 0,
            "orientation": "horizontal",
            "style": "IPY_MODEL_3150cfd13c9b44afad00db60be69d958",
            "value": 50000
          }
        },
        "10ea9f691c6d4fa88529b4000df9b401": {
          "model_module": "@jupyter-widgets/controls",
          "model_name": "HTMLModel",
          "model_module_version": "1.5.0",
          "state": {
            "_dom_classes": [],
            "_model_module": "@jupyter-widgets/controls",
            "_model_module_version": "1.5.0",
            "_model_name": "HTMLModel",
            "_view_count": null,
            "_view_module": "@jupyter-widgets/controls",
            "_view_module_version": "1.5.0",
            "_view_name": "HTMLView",
            "description": "",
            "description_tooltip": null,
            "layout": "IPY_MODEL_b8e031e9bd394a6bacc8477afb8ef199",
            "placeholder": "​",
            "style": "IPY_MODEL_d1d0124500654820ad5b97014273e240",
            "value": " 50000/50000 [00:06&lt;00:00, 7339.11it/s]"
          }
        },
        "eaddcc59395f4bc5943a5b576fcb98fd": {
          "model_module": "@jupyter-widgets/base",
          "model_name": "LayoutModel",
          "model_module_version": "1.2.0",
          "state": {
            "_model_module": "@jupyter-widgets/base",
            "_model_module_version": "1.2.0",
            "_model_name": "LayoutModel",
            "_view_count": null,
            "_view_module": "@jupyter-widgets/base",
            "_view_module_version": "1.2.0",
            "_view_name": "LayoutView",
            "align_content": null,
            "align_items": null,
            "align_self": null,
            "border": null,
            "bottom": null,
            "display": null,
            "flex": null,
            "flex_flow": null,
            "grid_area": null,
            "grid_auto_columns": null,
            "grid_auto_flow": null,
            "grid_auto_rows": null,
            "grid_column": null,
            "grid_gap": null,
            "grid_row": null,
            "grid_template_areas": null,
            "grid_template_columns": null,
            "grid_template_rows": null,
            "height": null,
            "justify_content": null,
            "justify_items": null,
            "left": null,
            "margin": null,
            "max_height": null,
            "max_width": null,
            "min_height": null,
            "min_width": null,
            "object_fit": null,
            "object_position": null,
            "order": null,
            "overflow": null,
            "overflow_x": null,
            "overflow_y": null,
            "padding": null,
            "right": null,
            "top": null,
            "visibility": null,
            "width": null
          }
        },
        "701791e657fe4778b7bca86f6d2bfa67": {
          "model_module": "@jupyter-widgets/base",
          "model_name": "LayoutModel",
          "model_module_version": "1.2.0",
          "state": {
            "_model_module": "@jupyter-widgets/base",
            "_model_module_version": "1.2.0",
            "_model_name": "LayoutModel",
            "_view_count": null,
            "_view_module": "@jupyter-widgets/base",
            "_view_module_version": "1.2.0",
            "_view_name": "LayoutView",
            "align_content": null,
            "align_items": null,
            "align_self": null,
            "border": null,
            "bottom": null,
            "display": null,
            "flex": null,
            "flex_flow": null,
            "grid_area": null,
            "grid_auto_columns": null,
            "grid_auto_flow": null,
            "grid_auto_rows": null,
            "grid_column": null,
            "grid_gap": null,
            "grid_row": null,
            "grid_template_areas": null,
            "grid_template_columns": null,
            "grid_template_rows": null,
            "height": null,
            "justify_content": null,
            "justify_items": null,
            "left": null,
            "margin": null,
            "max_height": null,
            "max_width": null,
            "min_height": null,
            "min_width": null,
            "object_fit": null,
            "object_position": null,
            "order": null,
            "overflow": null,
            "overflow_x": null,
            "overflow_y": null,
            "padding": null,
            "right": null,
            "top": null,
            "visibility": null,
            "width": null
          }
        },
        "8c8ff03ca30a4006ac95705a753fac4d": {
          "model_module": "@jupyter-widgets/controls",
          "model_name": "DescriptionStyleModel",
          "model_module_version": "1.5.0",
          "state": {
            "_model_module": "@jupyter-widgets/controls",
            "_model_module_version": "1.5.0",
            "_model_name": "DescriptionStyleModel",
            "_view_count": null,
            "_view_module": "@jupyter-widgets/base",
            "_view_module_version": "1.2.0",
            "_view_name": "StyleView",
            "description_width": ""
          }
        },
        "240e632d5f87404797bea53216d38557": {
          "model_module": "@jupyter-widgets/base",
          "model_name": "LayoutModel",
          "model_module_version": "1.2.0",
          "state": {
            "_model_module": "@jupyter-widgets/base",
            "_model_module_version": "1.2.0",
            "_model_name": "LayoutModel",
            "_view_count": null,
            "_view_module": "@jupyter-widgets/base",
            "_view_module_version": "1.2.0",
            "_view_name": "LayoutView",
            "align_content": null,
            "align_items": null,
            "align_self": null,
            "border": null,
            "bottom": null,
            "display": null,
            "flex": null,
            "flex_flow": null,
            "grid_area": null,
            "grid_auto_columns": null,
            "grid_auto_flow": null,
            "grid_auto_rows": null,
            "grid_column": null,
            "grid_gap": null,
            "grid_row": null,
            "grid_template_areas": null,
            "grid_template_columns": null,
            "grid_template_rows": null,
            "height": null,
            "justify_content": null,
            "justify_items": null,
            "left": null,
            "margin": null,
            "max_height": null,
            "max_width": null,
            "min_height": null,
            "min_width": null,
            "object_fit": null,
            "object_position": null,
            "order": null,
            "overflow": null,
            "overflow_x": null,
            "overflow_y": null,
            "padding": null,
            "right": null,
            "top": null,
            "visibility": null,
            "width": null
          }
        },
        "3150cfd13c9b44afad00db60be69d958": {
          "model_module": "@jupyter-widgets/controls",
          "model_name": "ProgressStyleModel",
          "model_module_version": "1.5.0",
          "state": {
            "_model_module": "@jupyter-widgets/controls",
            "_model_module_version": "1.5.0",
            "_model_name": "ProgressStyleModel",
            "_view_count": null,
            "_view_module": "@jupyter-widgets/base",
            "_view_module_version": "1.2.0",
            "_view_name": "StyleView",
            "bar_color": null,
            "description_width": ""
          }
        },
        "b8e031e9bd394a6bacc8477afb8ef199": {
          "model_module": "@jupyter-widgets/base",
          "model_name": "LayoutModel",
          "model_module_version": "1.2.0",
          "state": {
            "_model_module": "@jupyter-widgets/base",
            "_model_module_version": "1.2.0",
            "_model_name": "LayoutModel",
            "_view_count": null,
            "_view_module": "@jupyter-widgets/base",
            "_view_module_version": "1.2.0",
            "_view_name": "LayoutView",
            "align_content": null,
            "align_items": null,
            "align_self": null,
            "border": null,
            "bottom": null,
            "display": null,
            "flex": null,
            "flex_flow": null,
            "grid_area": null,
            "grid_auto_columns": null,
            "grid_auto_flow": null,
            "grid_auto_rows": null,
            "grid_column": null,
            "grid_gap": null,
            "grid_row": null,
            "grid_template_areas": null,
            "grid_template_columns": null,
            "grid_template_rows": null,
            "height": null,
            "justify_content": null,
            "justify_items": null,
            "left": null,
            "margin": null,
            "max_height": null,
            "max_width": null,
            "min_height": null,
            "min_width": null,
            "object_fit": null,
            "object_position": null,
            "order": null,
            "overflow": null,
            "overflow_x": null,
            "overflow_y": null,
            "padding": null,
            "right": null,
            "top": null,
            "visibility": null,
            "width": null
          }
        },
        "d1d0124500654820ad5b97014273e240": {
          "model_module": "@jupyter-widgets/controls",
          "model_name": "DescriptionStyleModel",
          "model_module_version": "1.5.0",
          "state": {
            "_model_module": "@jupyter-widgets/controls",
            "_model_module_version": "1.5.0",
            "_model_name": "DescriptionStyleModel",
            "_view_count": null,
            "_view_module": "@jupyter-widgets/base",
            "_view_module_version": "1.2.0",
            "_view_name": "StyleView",
            "description_width": ""
          }
        }
      }
    },
    "colab": {
      "provenance": [],
      "machine_shape": "hm",
      "gpuType": "T4"
    },
    "accelerator": "GPU"
  },
  "nbformat": 4,
  "nbformat_minor": 5
}